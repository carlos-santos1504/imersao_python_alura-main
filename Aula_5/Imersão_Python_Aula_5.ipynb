





<!DOCTYPE html>
<html
  lang="en"
  
  data-color-mode="auto" data-light-theme="light" data-dark-theme="dark"
  data-a11y-animated-images="system" data-a11y-link-underlines="true"
  >




  <head>
    <meta charset="utf-8">
  <link rel="dns-prefetch" href="https://github.githubassets.com">
  <link rel="dns-prefetch" href="https://avatars.githubusercontent.com">
  <link rel="dns-prefetch" href="https://github-cloud.s3.amazonaws.com">
  <link rel="dns-prefetch" href="https://user-images.githubusercontent.com/">
  <link rel="preconnect" href="https://github.githubassets.com" crossorigin>
  <link rel="preconnect" href="https://avatars.githubusercontent.com">

  


  <link crossorigin="anonymous" media="all" rel="stylesheet" href="https://github.githubassets.com/assets/light_v2-80297421f4a6.css" /><link crossorigin="anonymous" media="all" rel="stylesheet" href="https://github.githubassets.com/assets/dark_v2-a0c8b33eee96.css" /><link data-color-theme="dark_dimmed" crossorigin="anonymous" media="all" rel="stylesheet" data-href="https://github.githubassets.com/assets/dark_dimmed_v2-91b01ba028c9.css" /><link data-color-theme="dark_high_contrast" crossorigin="anonymous" media="all" rel="stylesheet" data-href="https://github.githubassets.com/assets/dark_high_contrast_v2-f6bf299224b6.css" /><link data-color-theme="dark_colorblind" crossorigin="anonymous" media="all" rel="stylesheet" data-href="https://github.githubassets.com/assets/dark_colorblind_v2-5ba3e033c94c.css" /><link data-color-theme="light_colorblind" crossorigin="anonymous" media="all" rel="stylesheet" data-href="https://github.githubassets.com/assets/light_colorblind_v2-7829334952bc.css" /><link data-color-theme="light_high_contrast" crossorigin="anonymous" media="all" rel="stylesheet" data-href="https://github.githubassets.com/assets/light_high_contrast_v2-8a8b0a261830.css" /><link data-color-theme="light_tritanopia" crossorigin="anonymous" media="all" rel="stylesheet" data-href="https://github.githubassets.com/assets/light_tritanopia_v2-9243bf357cee.css" /><link data-color-theme="dark_tritanopia" crossorigin="anonymous" media="all" rel="stylesheet" data-href="https://github.githubassets.com/assets/dark_tritanopia_v2-0639af5a2e4b.css" />
    <link crossorigin="anonymous" media="all" rel="stylesheet" href="https://github.githubassets.com/assets/primer-primitives-0b5bee5c70e9.css" />
    <link crossorigin="anonymous" media="all" rel="stylesheet" href="https://github.githubassets.com/assets/primer-44fa1513ddd0.css" />
    <link crossorigin="anonymous" media="all" rel="stylesheet" href="https://github.githubassets.com/assets/global-a47947043e5a.css" />
    <link crossorigin="anonymous" media="all" rel="stylesheet" href="https://github.githubassets.com/assets/github-07f750db5d7c.css" />
  <link crossorigin="anonymous" media="all" rel="stylesheet" href="https://github.githubassets.com/assets/repository-fa69f138fe8d.css" />
<link crossorigin="anonymous" media="all" rel="stylesheet" href="https://github.githubassets.com/assets/code-111be5e4092d.css" />

  


  <script type="application/json" id="client-env">{"locale":"en","featureFlags":["code_vulnerability_scanning","copilot_conversational_ux_history_refs","copilot_smell_icebreaker_ux","copilot_implicit_context","failbot_handle_non_errors","geojson_azure_maps","image_metric_tracking","marketing_forms_api_integration_contact_request","marketing_pages_search_explore_provider","repository_suggester_elastic_search","turbo_experiment_risky","sample_network_conn_type","no_character_key_shortcuts_in_inputs","react_start_transition_for_navigations","custom_inp","remove_child_patch"]}</script>
<script crossorigin="anonymous" defer="defer" type="application/javascript" src="https://github.githubassets.com/assets/wp-runtime-122da5ef218b.js"></script>
<script crossorigin="anonymous" defer="defer" type="application/javascript" src="https://github.githubassets.com/assets/vendors-node_modules_dompurify_dist_purify_js-6890e890956f.js"></script>
<script crossorigin="anonymous" defer="defer" type="application/javascript" src="https://github.githubassets.com/assets/vendors-node_modules_oddbird_popover-polyfill_dist_popover_js-7bd350d761f4.js"></script>
<script crossorigin="anonymous" defer="defer" type="application/javascript" src="https://github.githubassets.com/assets/vendors-node_modules_smoothscroll-polyfill_dist_smoothscroll_js-node_modules_stacktrace-parse-a448e4-bb5415637fe0.js"></script>
<script crossorigin="anonymous" defer="defer" type="application/javascript" src="https://github.githubassets.com/assets/environment-69a406071332.js"></script>
<script crossorigin="anonymous" defer="defer" type="application/javascript" src="https://github.githubassets.com/assets/vendors-node_modules_github_selector-observer_dist_index_esm_js-9f960d9b217c.js"></script>
<script crossorigin="anonymous" defer="defer" type="application/javascript" src="https://github.githubassets.com/assets/vendors-node_modules_primer_behaviors_dist_esm_focus-zone_js-086f7a27bac0.js"></script>
<script crossorigin="anonymous" defer="defer" type="application/javascript" src="https://github.githubassets.com/assets/vendors-node_modules_github_relative-time-element_dist_index_js-c76945c5961a.js"></script>
<script crossorigin="anonymous" defer="defer" type="application/javascript" src="https://github.githubassets.com/assets/vendors-node_modules_github_combobox-nav_dist_index_js-node_modules_github_markdown-toolbar-e-820fc0-bc8f02b96749.js"></script>
<script crossorigin="anonymous" defer="defer" type="application/javascript" src="https://github.githubassets.com/assets/vendors-node_modules_github_auto-complete-element_dist_index_js-node_modules_github_catalyst_-392fe4-eed5a942c35c.js"></script>
<script crossorigin="anonymous" defer="defer" type="application/javascript" src="https://github.githubassets.com/assets/vendors-node_modules_github_text-expander-element_dist_index_js-8a621df59e80.js"></script>
<script crossorigin="anonymous" defer="defer" type="application/javascript" src="https://github.githubassets.com/assets/vendors-node_modules_github_filter-input-element_dist_index_js-node_modules_github_remote-inp-b7d8f4-7dc906febe69.js"></script>
<script crossorigin="anonymous" defer="defer" type="application/javascript" src="https://github.githubassets.com/assets/vendors-node_modules_delegated-events_dist_index_js-node_modules_stacktrace-parser_dist_stack-8585c6-7dc8343022ba.js"></script>
<script crossorigin="anonymous" defer="defer" type="application/javascript" src="https://github.githubassets.com/assets/vendors-node_modules_github_file-attachment-element_dist_index_js-node_modules_primer_view-co-3959a9-134c7fee9431.js"></script>
<script crossorigin="anonymous" defer="defer" type="application/javascript" src="https://github.githubassets.com/assets/github-elements-14a1f6104f4b.js"></script>
<script crossorigin="anonymous" defer="defer" type="application/javascript" src="https://github.githubassets.com/assets/element-registry-ea8c3b7e408f.js"></script>
<script crossorigin="anonymous" defer="defer" type="application/javascript" src="https://github.githubassets.com/assets/vendors-node_modules_github_mini-throttle_dist_index_js-node_modules_stacktrace-parser_dist_s-1acb1c-a745699a1cfa.js"></script>
<script crossorigin="anonymous" defer="defer" type="application/javascript" src="https://github.githubassets.com/assets/vendors-node_modules_lit-html_lit-html_js-5b376145beff.js"></script>
<script crossorigin="anonymous" defer="defer" type="application/javascript" src="https://github.githubassets.com/assets/vendors-node_modules_morphdom_dist_morphdom-esm_js-node_modules_github_memoize_dist_esm_index_js-05801f7ca718.js"></script>
<script crossorigin="anonymous" defer="defer" type="application/javascript" src="https://github.githubassets.com/assets/vendors-node_modules_github_turbo_dist_turbo_es2017-esm_js-c91f4ad18b62.js"></script>
<script crossorigin="anonymous" defer="defer" type="application/javascript" src="https://github.githubassets.com/assets/vendors-node_modules_github_remote-form_dist_index_js-node_modules_delegated-events_dist_inde-893f9f-8413f2cd68c5.js"></script>
<script crossorigin="anonymous" defer="defer" type="application/javascript" src="https://github.githubassets.com/assets/vendors-node_modules_scroll-anchoring_dist_scroll-anchoring_esm_js-node_modules_github_hotkey-1a1d91-49c03ceb2f0c.js"></script>
<script crossorigin="anonymous" defer="defer" type="application/javascript" src="https://github.githubassets.com/assets/vendors-node_modules_color-convert_index_js-72c9fbde5ad4.js"></script>
<script crossorigin="anonymous" defer="defer" type="application/javascript" src="https://github.githubassets.com/assets/vendors-node_modules_primer_behaviors_dist_esm_dimensions_js-node_modules_github_jtml_lib_index_js-95b84ee6bc34.js"></script>
<script crossorigin="anonymous" defer="defer" type="application/javascript" src="https://github.githubassets.com/assets/vendors-node_modules_github_quote-selection_dist_index_js-node_modules_github_session-resume_-84957b-7b4e472db160.js"></script>
<script crossorigin="anonymous" defer="defer" type="application/javascript" src="https://github.githubassets.com/assets/ui_packages_jtml-shimmed_jtml-shimmed_ts-ui_packages_safe-storage_safe-storage_ts-19f49df05d21.js"></script>
<script crossorigin="anonymous" defer="defer" type="application/javascript" src="https://github.githubassets.com/assets/app_assets_modules_github_updatable-content_ts-ui_packages_hydro-analytics_hydro-analytics_ts-82813f-fb8253d1c2f5.js"></script>
<script crossorigin="anonymous" defer="defer" type="application/javascript" src="https://github.githubassets.com/assets/app_assets_modules_github_behaviors_task-list_ts-app_assets_modules_github_onfocus_ts-app_ass-421cec-9de4213015af.js"></script>
<script crossorigin="anonymous" defer="defer" type="application/javascript" src="https://github.githubassets.com/assets/app_assets_modules_github_sticky-scroll-into-view_ts-94209c43e6af.js"></script>
<script crossorigin="anonymous" defer="defer" type="application/javascript" src="https://github.githubassets.com/assets/app_assets_modules_github_behaviors_ajax-error_ts-app_assets_modules_github_behaviors_include-2e2258-05fd80a7ea89.js"></script>
<script crossorigin="anonymous" defer="defer" type="application/javascript" src="https://github.githubassets.com/assets/app_assets_modules_github_behaviors_commenting_edit_ts-app_assets_modules_github_behaviors_ht-83c235-9285faa0e011.js"></script>
<script crossorigin="anonymous" defer="defer" type="application/javascript" src="https://github.githubassets.com/assets/behaviors-a27b2a049b70.js"></script>
<script crossorigin="anonymous" defer="defer" type="application/javascript" src="https://github.githubassets.com/assets/vendors-node_modules_delegated-events_dist_index_js-node_modules_github_catalyst_lib_index_js-06ff531-2ea61fcc9a71.js"></script>
<script crossorigin="anonymous" defer="defer" type="application/javascript" src="https://github.githubassets.com/assets/notifications-global-6d6db5144cc3.js"></script>
<script crossorigin="anonymous" defer="defer" type="application/javascript" src="https://github.githubassets.com/assets/code-menu-6ed703a40ffd.js"></script>
  
  <script crossorigin="anonymous" defer="defer" type="application/javascript" src="https://github.githubassets.com/assets/react-lib-1fbfc5be2c18.js"></script>
<script crossorigin="anonymous" defer="defer" type="application/javascript" src="https://github.githubassets.com/assets/vendors-node_modules_primer_octicons-react_dist_index_esm_js-node_modules_primer_react_lib-es-541a38-6ce7d7c3f9ee.js"></script>
<script crossorigin="anonymous" defer="defer" type="application/javascript" src="https://github.githubassets.com/assets/vendors-node_modules_primer_react_lib-esm_Box_Box_js-8f8c5e2a2cbf.js"></script>
<script crossorigin="anonymous" defer="defer" type="application/javascript" src="https://github.githubassets.com/assets/vendors-node_modules_primer_react_lib-esm_Button_Button_js-95a7748e3c39.js"></script>
<script crossorigin="anonymous" defer="defer" type="application/javascript" src="https://github.githubassets.com/assets/vendors-node_modules_primer_react_lib-esm_TooltipV2_Tooltip_js-70d5275ffcb7.js"></script>
<script crossorigin="anonymous" defer="defer" type="application/javascript" src="https://github.githubassets.com/assets/vendors-node_modules_primer_react_lib-esm_ActionList_index_js-b5c64c43d649.js"></script>
<script crossorigin="anonymous" defer="defer" type="application/javascript" src="https://github.githubassets.com/assets/vendors-node_modules_primer_react_lib-esm_Overlay_Overlay_js-node_modules_primer_react_lib-es-fa1130-829932cf63db.js"></script>
<script crossorigin="anonymous" defer="defer" type="application/javascript" src="https://github.githubassets.com/assets/vendors-node_modules_primer_react_lib-esm_Link_Link_js-node_modules_primer_react_lib-esm_Text-e5cb30-846d162fec54.js"></script>
<script crossorigin="anonymous" defer="defer" type="application/javascript" src="https://github.githubassets.com/assets/vendors-node_modules_primer_react_lib-esm_FormControl_FormControl_js-740100cbb60f.js"></script>
<script crossorigin="anonymous" defer="defer" type="application/javascript" src="https://github.githubassets.com/assets/vendors-node_modules_primer_react_lib-esm_ActionMenu_ActionMenu_js-eaf74522e470.js"></script>
<script crossorigin="anonymous" defer="defer" type="application/javascript" src="https://github.githubassets.com/assets/vendors-node_modules_primer_react_lib-esm_Heading_Heading_js-node_modules_github_catalyst_lib-b39cf6-04084648a106.js"></script>
<script crossorigin="anonymous" defer="defer" type="application/javascript" src="https://github.githubassets.com/assets/vendors-node_modules_react-router-dom_dist_index_js-3b41341d50fe.js"></script>
<script crossorigin="anonymous" defer="defer" type="application/javascript" src="https://github.githubassets.com/assets/vendors-node_modules_primer_react_lib-esm_PageLayout_PageLayout_js-5a4a31c01bca.js"></script>
<script crossorigin="anonymous" defer="defer" type="application/javascript" src="https://github.githubassets.com/assets/vendors-node_modules_primer_react_lib-esm_ConfirmationDialog_ConfirmationDialog_js-8ab472e2f924.js"></script>
<script crossorigin="anonymous" defer="defer" type="application/javascript" src="https://github.githubassets.com/assets/vendors-node_modules_primer_react_lib-esm_Dialog_js-node_modules_react-virtual_dist_react-vir-155ebc-07457159712f.js"></script>
<script crossorigin="anonymous" defer="defer" type="application/javascript" src="https://github.githubassets.com/assets/vendors-node_modules_primer_react_lib-esm_TreeView_TreeView_js-4d087b8e0c8a.js"></script>
<script crossorigin="anonymous" defer="defer" type="application/javascript" src="https://github.githubassets.com/assets/vendors-node_modules_primer_react_lib-esm_AvatarStack_AvatarStack_js-node_modules_primer_reac-36b6f3-1b3c8357c7d0.js"></script>
<script crossorigin="anonymous" defer="defer" type="application/javascript" src="https://github.githubassets.com/assets/vendors-node_modules_github_mini-throttle_dist_index_js-node_modules_primer_react_lib-esm_Bre-b2e46d-c8ac19da4b57.js"></script>
<script crossorigin="anonymous" defer="defer" type="application/javascript" src="https://github.githubassets.com/assets/ui_packages_react-core_create-browser-history_ts-ui_packages_safe-storage_safe-storage_ts-ui_-682c2c-7be102c61d97.js"></script>
<script crossorigin="anonymous" defer="defer" type="application/javascript" src="https://github.githubassets.com/assets/ui_packages_react-core_register-app_ts-6ecc18606709.js"></script>
<script crossorigin="anonymous" defer="defer" type="application/javascript" src="https://github.githubassets.com/assets/ui_packages_paths_index_ts-271d9b2a45a4.js"></script>
<script crossorigin="anonymous" defer="defer" type="application/javascript" src="https://github.githubassets.com/assets/ui_packages_ref-selector_RefSelector_tsx-dbbdef4348e2.js"></script>
<script crossorigin="anonymous" defer="defer" type="application/javascript" src="https://github.githubassets.com/assets/ui_packages_commit-attribution_index_ts-ui_packages_commit-checks-status_index_ts-ui_packages-baa075-19766306208b.js"></script>
<script crossorigin="anonymous" defer="defer" type="application/javascript" src="https://github.githubassets.com/assets/app_assets_modules_react-shared_hooks_use-canonical-object_ts-ui_packages_code-view-shared_ho-e725dc-bccfdf9efa81.js"></script>
<script crossorigin="anonymous" defer="defer" type="application/javascript" src="https://github.githubassets.com/assets/app_assets_modules_github_blob-anchor_ts-app_assets_modules_github_filter-sort_ts-app_assets_-e50ab6-fd8396d2490b.js"></script>
<script crossorigin="anonymous" defer="defer" type="application/javascript" src="https://github.githubassets.com/assets/react-code-view-2166c00e294d.js"></script>


  <title>imersao_python/Aula_5/Imersão_Python_Aula_5.ipynb at main · AlexLaudiano/imersao_python</title>



  <meta name="route-pattern" content="/:user_id/:repository/blob/*name(/*path)" data-turbo-transient>
  <meta name="route-controller" content="blob" data-turbo-transient>
  <meta name="route-action" content="show" data-turbo-transient>

    
  <meta name="current-catalog-service-hash" content="82c569b93da5c18ed649ebd4c2c79437db4611a6a1373e805a3cb001c64130b7">


  <meta name="request-id" content="4AD6:CF30C:C488D3:D3ECFE:6616A3A1" data-turbo-transient="true" /><meta name="html-safe-nonce" content="9c2ea6b664172156e9160aa240cea73525e4d3ecda262d1aef29bcf32ce1faba" data-turbo-transient="true" /><meta name="visitor-payload" content="eyJyZWZlcnJlciI6Imh0dHBzOi8vZ2l0aHViLmNvbS9BbGV4TGF1ZGlhbm8vaW1lcnNhb19weXRob24vdHJlZS9tYWluL0F1bGFfNSIsInJlcXVlc3RfaWQiOiI0QUQ2OkNGMzBDOkM0ODhEMzpEM0VDRkU6NjYxNkEzQTEiLCJ2aXNpdG9yX2lkIjoiMjI4NzM4MjY4OTg5NDA4OTM1IiwicmVnaW9uX2VkZ2UiOiJicmF6aWxzb3V0aCIsInJlZ2lvbl9yZW5kZXIiOiJpYWQifQ==" data-turbo-transient="true" /><meta name="visitor-hmac" content="eafba7397bc6649e2dff2c7590c20e5dc48e1a6bbab08f01a34a6beb4207ea95" data-turbo-transient="true" />


    <meta name="hovercard-subject-tag" content="repository:778068514" data-turbo-transient>


  <meta name="github-keyboard-shortcuts" content="repository,source-code,file-tree,copilot" data-turbo-transient="true" />
  

  <meta name="selected-link" value="repo_source" data-turbo-transient>
  <link rel="assets" href="https://github.githubassets.com/">

    <meta name="google-site-verification" content="c1kuD-K2HIVF635lypcsWPoD4kilo5-jA_wBFyT4uMY">
  <meta name="google-site-verification" content="KT5gs8h0wvaagLKAVWq8bbeNwnZZK1r1XQysX3xurLU">
  <meta name="google-site-verification" content="ZzhVyEFwb7w3e0-uOTltm8Jsck2F5StVihD0exw2fsA">
  <meta name="google-site-verification" content="GXs5KoUUkNCoaAZn7wPN-t01Pywp9M3sEjnt_3_ZWPc">
  <meta name="google-site-verification" content="Apib7-x98H0j5cPqHWwSMm6dNU4GmODRoqxLiDzdx9I">

<meta name="octolytics-url" content="https://collector.github.com/github/collect" /><meta name="octolytics-actor-id" content="42747358" /><meta name="octolytics-actor-login" content="carlos-santos1504" /><meta name="octolytics-actor-hash" content="3fe34f5dbf66879ef50165b372351864c87ea10d0a67d33fd01a9c861649995c" />

  <meta name="analytics-location" content="/&lt;user-name&gt;/&lt;repo-name&gt;/blob/show" data-turbo-transient="true" />

  





    <meta name="user-login" content="carlos-santos1504">

  <link rel="sudo-modal" href="/sessions/sudo_modal">

    <meta name="viewport" content="width=device-width">
    
      <meta name="description" content="Imersão Python: Do Excel à Análise de Dados. Contribute to AlexLaudiano/imersao_python development by creating an account on GitHub.">
      <link rel="search" type="application/opensearchdescription+xml" href="/opensearch.xml" title="GitHub">
    <link rel="fluid-icon" href="https://github.com/fluidicon.png" title="GitHub">
    <meta property="fb:app_id" content="1401488693436528">
    <meta name="apple-itunes-app" content="app-id=1477376905, app-argument=https://github.com/AlexLaudiano/imersao_python/blob/main/Aula_5/Imers%C3%A3o_Python_Aula_5.ipynb" />
      <meta name="twitter:image:src" content="https://opengraph.githubassets.com/f737552a23ef297d7a4506ae29327608bcc1933d918fadc5bff2bbefe71960d8/AlexLaudiano/imersao_python" /><meta name="twitter:site" content="@github" /><meta name="twitter:card" content="summary_large_image" /><meta name="twitter:title" content="imersao_python/Aula_5/Imersão_Python_Aula_5.ipynb at main · AlexLaudiano/imersao_python" /><meta name="twitter:description" content="Imersão Python: Do Excel à Análise de Dados. Contribute to AlexLaudiano/imersao_python development by creating an account on GitHub." />
      <meta property="og:image" content="https://opengraph.githubassets.com/f737552a23ef297d7a4506ae29327608bcc1933d918fadc5bff2bbefe71960d8/AlexLaudiano/imersao_python" /><meta property="og:image:alt" content="Imersão Python: Do Excel à Análise de Dados. Contribute to AlexLaudiano/imersao_python development by creating an account on GitHub." /><meta property="og:image:width" content="1200" /><meta property="og:image:height" content="600" /><meta property="og:site_name" content="GitHub" /><meta property="og:type" content="object" /><meta property="og:title" content="imersao_python/Aula_5/Imersão_Python_Aula_5.ipynb at main · AlexLaudiano/imersao_python" /><meta property="og:url" content="https://github.com/AlexLaudiano/imersao_python/blob/main/Aula_5/Imers%C3%A3o_Python_Aula_5.ipynb" /><meta property="og:description" content="Imersão Python: Do Excel à Análise de Dados. Contribute to AlexLaudiano/imersao_python development by creating an account on GitHub." />
      

      <link rel="shared-web-socket" href="wss://alive.github.com/_sockets/u/42747358/ws?session=eyJ2IjoiVjMiLCJ1Ijo0Mjc0NzM1OCwicyI6MTM0NTk0MTMxOCwiYyI6MTk5MzMzMzk0MCwidCI6MTcxMjc1OTcxNn0=--d9e2bef53321fe19f94ad4d816752da2c73c8228b27b18161c0d1d204a8f0310" data-refresh-url="/_alive" data-session-id="4c3cb3e79c222db0a711f6febe74fc690a344d525dca73c63288a0ccfeac647d">
      <link rel="shared-web-socket-src" href="/assets-cdn/worker/socket-worker-9cc1149b224c.js">


        <meta name="hostname" content="github.com">


      <meta name="keyboard-shortcuts-preference" content="all">

        <meta name="expected-hostname" content="github.com">


  <meta http-equiv="x-pjax-version" content="1f5488b7f2e312d90bc78bad8459c11e066542129a625f851dd93272f5fb331d" data-turbo-track="reload">
  <meta http-equiv="x-pjax-csp-version" content="f226bf37af9c33162063db3eb018fed7f088f86d0a20ca54c013fda96c7f2e05" data-turbo-track="reload">
  <meta http-equiv="x-pjax-css-version" content="52805dbaa625ba905d50470fad4413401f27ad45f64649ca6bec39ee9f06f198" data-turbo-track="reload">
  <meta http-equiv="x-pjax-js-version" content="d0248a4e8eeff1b48ee4a1ff7222a13e2954501bf7f2f8bf7fff1bc0ab6b7f4f" data-turbo-track="reload">

  <meta name="turbo-cache-control" content="no-preview" data-turbo-transient="">

      <meta name="turbo-cache-control" content="no-cache" data-turbo-transient>
    <meta data-hydrostats="publish">
  <link crossorigin="anonymous" media="all" rel="stylesheet" href="https://github.githubassets.com/assets/react-code-view.959fb0b61e6a1de773e7.module.css" />

  <meta name="go-import" content="github.com/AlexLaudiano/imersao_python git https://github.com/AlexLaudiano/imersao_python.git">

  <meta name="octolytics-dimension-user_id" content="158209724" /><meta name="octolytics-dimension-user_login" content="AlexLaudiano" /><meta name="octolytics-dimension-repository_id" content="778068514" /><meta name="octolytics-dimension-repository_nwo" content="AlexLaudiano/imersao_python" /><meta name="octolytics-dimension-repository_public" content="true" /><meta name="octolytics-dimension-repository_is_fork" content="false" /><meta name="octolytics-dimension-repository_network_root_id" content="778068514" /><meta name="octolytics-dimension-repository_network_root_nwo" content="AlexLaudiano/imersao_python" />



  <meta name="turbo-body-classes" content="logged-in env-production page-responsive">


  <meta name="browser-stats-url" content="https://api.github.com/_private/browser/stats">

  <meta name="browser-errors-url" content="https://api.github.com/_private/browser/errors">

  <link rel="mask-icon" href="https://github.githubassets.com/assets/pinned-octocat-093da3e6fa40.svg" color="#000000">
  <link rel="alternate icon" class="js-site-favicon" type="image/png" href="https://github.githubassets.com/favicons/favicon.png">
  <link rel="icon" class="js-site-favicon" type="image/svg+xml" href="https://github.githubassets.com/favicons/favicon.svg">

<meta name="theme-color" content="#1e2327">
<meta name="color-scheme" content="light dark" />


  <link rel="manifest" href="/manifest.json" crossOrigin="use-credentials">

  </head>

  <body class="logged-in env-production page-responsive" style="word-wrap: break-word;">
    <div data-turbo-body class="logged-in env-production page-responsive" style="word-wrap: break-word;">
      


    <div class="position-relative js-header-wrapper ">
      <a href="#start-of-content" class="p-3 color-bg-accent-emphasis color-fg-on-emphasis show-on-focus js-skip-to-content">Skip to content</a>
      <span data-view-component="true" class="progress-pjax-loader Progress position-fixed width-full">
    <span style="width: 0%;" data-view-component="true" class="Progress-item progress-pjax-loader-bar left-0 top-0 color-bg-accent-emphasis"></span>
</span>      
      
  







<script crossorigin="anonymous" defer="defer" type="application/javascript" src="https://github.githubassets.com/assets/vendors-node_modules_primer_react_lib-esm_Button_IconButton_js-node_modules_primer_react_lib--b964b4-8035f8c5edaa.js"></script>

<script crossorigin="anonymous" defer="defer" type="application/javascript" src="https://github.githubassets.com/assets/keyboard-shortcuts-dialog-548fad62c9fa.js"></script>

<react-partial
  partial-name="keyboard-shortcuts-dialog"
  data-ssr="false"
>
  
  <script type="application/json" data-target="react-partial.embeddedData">{"props":{}}</script>
  <div data-target="react-partial.reactRoot"></div>
</react-partial>



      

        <script crossorigin="anonymous" defer="defer" type="application/javascript" src="https://github.githubassets.com/assets/vendors-node_modules_allex_crc32_lib_crc32_esm_js-node_modules_github_mini-throttle_dist_deco-a9eeba-71c75674fb56.js"></script>
<script crossorigin="anonymous" defer="defer" type="application/javascript" src="https://github.githubassets.com/assets/vendors-node_modules_github_clipboard-copy-element_dist_index_esm_js-node_modules_delegated-e-b37f7d-6c7c27fd1f12.js"></script>
<script crossorigin="anonymous" defer="defer" type="application/javascript" src="https://github.githubassets.com/assets/app_assets_modules_github_command-palette_items_help-item_ts-app_assets_modules_github_comman-212095-4bbfd8454d8f.js"></script>
<script crossorigin="anonymous" defer="defer" type="application/javascript" src="https://github.githubassets.com/assets/command-palette-5a8f1ca7246f.js"></script>

            <header class="AppHeader">
    

    <div class="AppHeader-globalBar pb-2 js-global-bar">
      <div class="AppHeader-globalBar-start">
          <deferred-side-panel data-url="/_side-panels/global">
  <include-fragment data-target="deferred-side-panel.fragment">
      <button aria-label="Open global navigation menu" data-action="click:deferred-side-panel#loadPanel click:deferred-side-panel#panelOpened" data-show-dialog-id="dialog-1df8c3ed-efad-4782-bc88-0f7480a1a328" id="dialog-show-dialog-1df8c3ed-efad-4782-bc88-0f7480a1a328" type="button" data-view-component="true" class="Button Button--iconOnly Button--secondary Button--medium AppHeader-button color-bg-transparent p-0 color-fg-muted">  <svg aria-hidden="true" height="16" viewBox="0 0 16 16" version="1.1" width="16" data-view-component="true" class="octicon octicon-three-bars Button-visual">
    <path d="M1 2.75A.75.75 0 0 1 1.75 2h12.5a.75.75 0 0 1 0 1.5H1.75A.75.75 0 0 1 1 2.75Zm0 5A.75.75 0 0 1 1.75 7h12.5a.75.75 0 0 1 0 1.5H1.75A.75.75 0 0 1 1 7.75ZM1.75 12h12.5a.75.75 0 0 1 0 1.5H1.75a.75.75 0 0 1 0-1.5Z"></path>
</svg>
</button>

<dialog-helper>
  <dialog data-target="deferred-side-panel.panel" id="dialog-1df8c3ed-efad-4782-bc88-0f7480a1a328" aria-modal="true" aria-labelledby="dialog-1df8c3ed-efad-4782-bc88-0f7480a1a328-title" aria-describedby="dialog-1df8c3ed-efad-4782-bc88-0f7480a1a328-description" data-view-component="true" class="Overlay Overlay-whenNarrow Overlay--size-small-portrait Overlay--motion-scaleFade Overlay--placement-left SidePanel">
    <div styles="flex-direction: row;" data-view-component="true" class="Overlay-header">
  <div class="Overlay-headerContentWrap">
    <div class="Overlay-titleWrap">
      <h1 class="Overlay-title sr-only" id="dialog-1df8c3ed-efad-4782-bc88-0f7480a1a328-title">
        Global navigation
      </h1>
            <div data-view-component="true" class="d-flex">
      <div data-view-component="true" class="AppHeader-logo position-relative">
        <svg aria-hidden="true" height="24" viewBox="0 0 16 16" version="1.1" width="24" data-view-component="true" class="octicon octicon-mark-github">
    <path d="M8 0c4.42 0 8 3.58 8 8a8.013 8.013 0 0 1-5.45 7.59c-.4.08-.55-.17-.55-.38 0-.27.01-1.13.01-2.2 0-.75-.25-1.23-.54-1.48 1.78-.2 3.65-.88 3.65-3.95 0-.88-.31-1.59-.82-2.15.08-.2.36-1.02-.08-2.12 0 0-.67-.22-2.2.82-.64-.18-1.32-.27-2-.27-.68 0-1.36.09-2 .27-1.53-1.03-2.2-.82-2.2-.82-.44 1.1-.16 1.92-.08 2.12-.51.56-.82 1.28-.82 2.15 0 3.06 1.86 3.75 3.64 3.95-.23.2-.44.55-.51 1.07-.46.21-1.61.55-2.33-.66-.15-.24-.6-.83-1.23-.82-.67.01-.27.38.01.53.34.19.73.9.82 1.13.16.45.68 1.31 2.69.94 0 .67.01 1.3.01 1.49 0 .21-.15.45-.55.38A7.995 7.995 0 0 1 0 8c0-4.42 3.58-8 8-8Z"></path>
</svg>
</div></div>
    </div>
    <div class="Overlay-actionWrap">
      <button data-close-dialog-id="dialog-1df8c3ed-efad-4782-bc88-0f7480a1a328" aria-label="Close" type="button" data-view-component="true" class="close-button Overlay-closeButton"><svg aria-hidden="true" height="16" viewBox="0 0 16 16" version="1.1" width="16" data-view-component="true" class="octicon octicon-x">
    <path d="M3.72 3.72a.75.75 0 0 1 1.06 0L8 6.94l3.22-3.22a.749.749 0 0 1 1.275.326.749.749 0 0 1-.215.734L9.06 8l3.22 3.22a.749.749 0 0 1-.326 1.275.749.749 0 0 1-.734-.215L8 9.06l-3.22 3.22a.751.751 0 0 1-1.042-.018.751.751 0 0 1-.018-1.042L6.94 8 3.72 4.78a.75.75 0 0 1 0-1.06Z"></path>
</svg></button>
    </div>
  </div>
</div>
      <scrollable-region data-labelled-by="dialog-1df8c3ed-efad-4782-bc88-0f7480a1a328-title">
        <div data-view-component="true" class="Overlay-body d-flex flex-column px-2">    <div data-view-component="true" class="d-flex flex-column mb-3">
        <nav aria-label="Site navigation" data-view-component="true" class="ActionList">
  
  <nav-list>
    <ul data-target="nav-list.topLevelList" data-view-component="true" class="ActionListWrap">
        
          
<li data-item-id="" data-targets="nav-list.items" data-view-component="true" class="ActionListItem">
    
    <a data-hotkey="g d" data-analytics-event="{&quot;category&quot;:&quot;Global navigation&quot;,&quot;action&quot;:&quot;HOME&quot;,&quot;label&quot;:null}" id="item-131dac65-cdfc-4176-adf7-596796ade8ff" href="/dashboard" data-view-component="true" class="ActionListContent ActionListContent--visual16">
        <span class="ActionListItem-visual ActionListItem-visual--leading">
          <svg aria-hidden="true" height="16" viewBox="0 0 16 16" version="1.1" width="16" data-view-component="true" class="octicon octicon-home">
    <path d="M6.906.664a1.749 1.749 0 0 1 2.187 0l5.25 4.2c.415.332.657.835.657 1.367v7.019A1.75 1.75 0 0 1 13.25 15h-3.5a.75.75 0 0 1-.75-.75V9H7v5.25a.75.75 0 0 1-.75.75h-3.5A1.75 1.75 0 0 1 1 13.25V6.23c0-.531.242-1.034.657-1.366l5.25-4.2Zm1.25 1.171a.25.25 0 0 0-.312 0l-5.25 4.2a.25.25 0 0 0-.094.196v7.019c0 .138.112.25.25.25H5.5V8.25a.75.75 0 0 1 .75-.75h3.5a.75.75 0 0 1 .75.75v5.25h2.75a.25.25 0 0 0 .25-.25V6.23a.25.25 0 0 0-.094-.195Z"></path>
</svg>
        </span>
      
        <span data-view-component="true" class="ActionListItem-label">
          Home
</span></a>
  
  
</li>

        
          
<li data-item-id="" data-targets="nav-list.items" data-view-component="true" class="ActionListItem">
    
    <a data-hotkey="g i" data-analytics-event="{&quot;category&quot;:&quot;Global navigation&quot;,&quot;action&quot;:&quot;ISSUES&quot;,&quot;label&quot;:null}" id="item-22c9bf19-abde-4407-9c53-3494eb654b4f" href="/issues" data-view-component="true" class="ActionListContent ActionListContent--visual16">
        <span class="ActionListItem-visual ActionListItem-visual--leading">
          <svg aria-hidden="true" height="16" viewBox="0 0 16 16" version="1.1" width="16" data-view-component="true" class="octicon octicon-issue-opened">
    <path d="M8 9.5a1.5 1.5 0 1 0 0-3 1.5 1.5 0 0 0 0 3Z"></path><path d="M8 0a8 8 0 1 1 0 16A8 8 0 0 1 8 0ZM1.5 8a6.5 6.5 0 1 0 13 0 6.5 6.5 0 0 0-13 0Z"></path>
</svg>
        </span>
      
        <span data-view-component="true" class="ActionListItem-label">
          Issues
</span></a>
  
  
</li>

        
          
<li data-item-id="" data-targets="nav-list.items" data-view-component="true" class="ActionListItem">
    
    <a data-hotkey="g p" data-analytics-event="{&quot;category&quot;:&quot;Global navigation&quot;,&quot;action&quot;:&quot;PULL_REQUESTS&quot;,&quot;label&quot;:null}" id="item-364bfd02-dbf4-431f-80b2-c21ac7f4dbe0" href="/pulls" data-view-component="true" class="ActionListContent ActionListContent--visual16">
        <span class="ActionListItem-visual ActionListItem-visual--leading">
          <svg aria-hidden="true" height="16" viewBox="0 0 16 16" version="1.1" width="16" data-view-component="true" class="octicon octicon-git-pull-request">
    <path d="M1.5 3.25a2.25 2.25 0 1 1 3 2.122v5.256a2.251 2.251 0 1 1-1.5 0V5.372A2.25 2.25 0 0 1 1.5 3.25Zm5.677-.177L9.573.677A.25.25 0 0 1 10 .854V2.5h1A2.5 2.5 0 0 1 13.5 5v5.628a2.251 2.251 0 1 1-1.5 0V5a1 1 0 0 0-1-1h-1v1.646a.25.25 0 0 1-.427.177L7.177 3.427a.25.25 0 0 1 0-.354ZM3.75 2.5a.75.75 0 1 0 0 1.5.75.75 0 0 0 0-1.5Zm0 9.5a.75.75 0 1 0 0 1.5.75.75 0 0 0 0-1.5Zm8.25.75a.75.75 0 1 0 1.5 0 .75.75 0 0 0-1.5 0Z"></path>
</svg>
        </span>
      
        <span data-view-component="true" class="ActionListItem-label">
          Pull requests
</span></a>
  
  
</li>

        
          
<li data-item-id="" data-targets="nav-list.items" data-item-id="projects" data-view-component="true" class="ActionListItem">
    
    <a data-analytics-event="{&quot;category&quot;:&quot;Global navigation&quot;,&quot;action&quot;:&quot;PROJECTS&quot;,&quot;label&quot;:null}" id="item-e47e23c7-d6df-4054-879b-3ecabbc69a09" href="/projects" data-view-component="true" class="ActionListContent ActionListContent--visual16">
        <span class="ActionListItem-visual ActionListItem-visual--leading">
          <svg aria-hidden="true" height="16" viewBox="0 0 16 16" version="1.1" width="16" data-view-component="true" class="octicon octicon-table">
    <path d="M0 1.75C0 .784.784 0 1.75 0h12.5C15.216 0 16 .784 16 1.75v12.5A1.75 1.75 0 0 1 14.25 16H1.75A1.75 1.75 0 0 1 0 14.25ZM6.5 6.5v8h7.75a.25.25 0 0 0 .25-.25V6.5Zm8-1.5V1.75a.25.25 0 0 0-.25-.25H6.5V5Zm-13 1.5v7.75c0 .138.112.25.25.25H5v-8ZM5 5V1.5H1.75a.25.25 0 0 0-.25.25V5Z"></path>
</svg>
        </span>
      
        <span data-view-component="true" class="ActionListItem-label">
          Projects
</span></a>
  
  
</li>

        
          
<li data-item-id="" data-targets="nav-list.items" data-view-component="true" class="ActionListItem">
    
    <a data-analytics-event="{&quot;category&quot;:&quot;Global navigation&quot;,&quot;action&quot;:&quot;DISCUSSIONS&quot;,&quot;label&quot;:null}" id="item-6eb6cee1-ad50-4df7-a203-c2a31cfdffa7" href="/discussions" data-view-component="true" class="ActionListContent ActionListContent--visual16">
        <span class="ActionListItem-visual ActionListItem-visual--leading">
          <svg aria-hidden="true" height="16" viewBox="0 0 16 16" version="1.1" width="16" data-view-component="true" class="octicon octicon-comment-discussion">
    <path d="M1.75 1h8.5c.966 0 1.75.784 1.75 1.75v5.5A1.75 1.75 0 0 1 10.25 10H7.061l-2.574 2.573A1.458 1.458 0 0 1 2 11.543V10h-.25A1.75 1.75 0 0 1 0 8.25v-5.5C0 1.784.784 1 1.75 1ZM1.5 2.75v5.5c0 .138.112.25.25.25h1a.75.75 0 0 1 .75.75v2.19l2.72-2.72a.749.749 0 0 1 .53-.22h3.5a.25.25 0 0 0 .25-.25v-5.5a.25.25 0 0 0-.25-.25h-8.5a.25.25 0 0 0-.25.25Zm13 2a.25.25 0 0 0-.25-.25h-.5a.75.75 0 0 1 0-1.5h.5c.966 0 1.75.784 1.75 1.75v5.5A1.75 1.75 0 0 1 14.25 12H14v1.543a1.458 1.458 0 0 1-2.487 1.03L9.22 12.28a.749.749 0 0 1 .326-1.275.749.749 0 0 1 .734.215l2.22 2.22v-2.19a.75.75 0 0 1 .75-.75h1a.25.25 0 0 0 .25-.25Z"></path>
</svg>
        </span>
      
        <span data-view-component="true" class="ActionListItem-label">
          Discussions
</span></a>
  
  
</li>

        
          
<li data-item-id="" data-targets="nav-list.items" data-view-component="true" class="ActionListItem">
    
    <a data-analytics-event="{&quot;category&quot;:&quot;Global navigation&quot;,&quot;action&quot;:&quot;CODESPACES&quot;,&quot;label&quot;:null}" id="item-357f29d4-d4db-4dd1-bf5b-a25d5abb9849" href="https://github.com/codespaces" data-view-component="true" class="ActionListContent ActionListContent--visual16">
        <span class="ActionListItem-visual ActionListItem-visual--leading">
          <svg aria-hidden="true" height="16" viewBox="0 0 16 16" version="1.1" width="16" data-view-component="true" class="octicon octicon-codespaces">
    <path d="M0 11.25c0-.966.784-1.75 1.75-1.75h12.5c.966 0 1.75.784 1.75 1.75v3A1.75 1.75 0 0 1 14.25 16H1.75A1.75 1.75 0 0 1 0 14.25Zm2-9.5C2 .784 2.784 0 3.75 0h8.5C13.216 0 14 .784 14 1.75v5a1.75 1.75 0 0 1-1.75 1.75h-8.5A1.75 1.75 0 0 1 2 6.75Zm1.75-.25a.25.25 0 0 0-.25.25v5c0 .138.112.25.25.25h8.5a.25.25 0 0 0 .25-.25v-5a.25.25 0 0 0-.25-.25Zm-2 9.5a.25.25 0 0 0-.25.25v3c0 .138.112.25.25.25h12.5a.25.25 0 0 0 .25-.25v-3a.25.25 0 0 0-.25-.25Z"></path><path d="M7 12.75a.75.75 0 0 1 .75-.75h4.5a.75.75 0 0 1 0 1.5h-4.5a.75.75 0 0 1-.75-.75Zm-4 0a.75.75 0 0 1 .75-.75h.5a.75.75 0 0 1 0 1.5h-.5a.75.75 0 0 1-.75-.75Z"></path>
</svg>
        </span>
      
        <span data-view-component="true" class="ActionListItem-label">
          Codespaces
</span></a>
  
  
</li>

        
          <li role="presentation" aria-hidden="true" data-view-component="true" class="ActionList-sectionDivider"></li>
        
          
<li data-item-id="" data-targets="nav-list.items" data-view-component="true" class="ActionListItem">
    
    <a data-analytics-event="{&quot;category&quot;:&quot;Global navigation&quot;,&quot;action&quot;:&quot;EXPLORE&quot;,&quot;label&quot;:null}" id="item-a13a311b-e4a3-445a-a444-e76fd15569af" href="/explore" data-view-component="true" class="ActionListContent ActionListContent--visual16">
        <span class="ActionListItem-visual ActionListItem-visual--leading">
          <svg aria-hidden="true" height="16" viewBox="0 0 16 16" version="1.1" width="16" data-view-component="true" class="octicon octicon-telescope">
    <path d="M14.184 1.143v-.001l1.422 2.464a1.75 1.75 0 0 1-.757 2.451L3.104 11.713a1.75 1.75 0 0 1-2.275-.702l-.447-.775a1.75 1.75 0 0 1 .53-2.32L11.682.573a1.748 1.748 0 0 1 2.502.57Zm-4.709 9.32h-.001l2.644 3.863a.75.75 0 1 1-1.238.848l-1.881-2.75v2.826a.75.75 0 0 1-1.5 0v-2.826l-1.881 2.75a.75.75 0 1 1-1.238-.848l2.049-2.992a.746.746 0 0 1 .293-.253l1.809-.87a.749.749 0 0 1 .944.252ZM9.436 3.92h-.001l-4.97 3.39.942 1.63 5.42-2.61Zm3.091-2.108h.001l-1.85 1.26 1.505 2.605 2.016-.97a.247.247 0 0 0 .13-.151.247.247 0 0 0-.022-.199l-1.422-2.464a.253.253 0 0 0-.161-.119.254.254 0 0 0-.197.038ZM1.756 9.157a.25.25 0 0 0-.075.33l.447.775a.25.25 0 0 0 .325.1l1.598-.769-.83-1.436-1.465 1Z"></path>
</svg>
        </span>
      
        <span data-view-component="true" class="ActionListItem-label">
          Explore
</span></a>
  
  
</li>

        
          
<li data-item-id="" data-targets="nav-list.items" data-view-component="true" class="ActionListItem">
    
    <a data-analytics-event="{&quot;category&quot;:&quot;Global navigation&quot;,&quot;action&quot;:&quot;MARKETPLACE&quot;,&quot;label&quot;:null}" id="item-a4e3284f-dcfa-47b4-afaa-51f8d03ea725" href="/marketplace" data-view-component="true" class="ActionListContent ActionListContent--visual16">
        <span class="ActionListItem-visual ActionListItem-visual--leading">
          <svg aria-hidden="true" height="16" viewBox="0 0 16 16" version="1.1" width="16" data-view-component="true" class="octicon octicon-gift">
    <path d="M2 2.75A2.75 2.75 0 0 1 4.75 0c.983 0 1.873.42 2.57 1.232.268.318.497.668.68 1.042.183-.375.411-.725.68-1.044C9.376.42 10.266 0 11.25 0a2.75 2.75 0 0 1 2.45 4h.55c.966 0 1.75.784 1.75 1.75v2c0 .698-.409 1.301-1 1.582v4.918A1.75 1.75 0 0 1 13.25 16H2.75A1.75 1.75 0 0 1 1 14.25V9.332C.409 9.05 0 8.448 0 7.75v-2C0 4.784.784 4 1.75 4h.55c-.192-.375-.3-.8-.3-1.25ZM7.25 9.5H2.5v4.75c0 .138.112.25.25.25h4.5Zm1.5 0v5h4.5a.25.25 0 0 0 .25-.25V9.5Zm0-4V8h5.5a.25.25 0 0 0 .25-.25v-2a.25.25 0 0 0-.25-.25Zm-7 0a.25.25 0 0 0-.25.25v2c0 .138.112.25.25.25h5.5V5.5h-5.5Zm3-4a1.25 1.25 0 0 0 0 2.5h2.309c-.233-.818-.542-1.401-.878-1.793-.43-.502-.915-.707-1.431-.707ZM8.941 4h2.309a1.25 1.25 0 0 0 0-2.5c-.516 0-1 .205-1.43.707-.337.392-.646.975-.879 1.793Z"></path>
</svg>
        </span>
      
        <span data-view-component="true" class="ActionListItem-label">
          Marketplace
</span></a>
  
  
</li>

</ul>  </nav-list>
</nav>

        <div data-view-component="true" class="my-3 d-flex flex-justify-center height-full">
          <svg style="box-sizing: content-box; color: var(--color-icon-primary);" width="16" height="16" viewBox="0 0 16 16" fill="none" data-view-component="true" class="anim-rotate">
  <circle cx="8" cy="8" r="7" stroke="currentColor" stroke-opacity="0.25" stroke-width="2" vector-effect="non-scaling-stroke" fill="none" />
  <path d="M15 8a7.002 7.002 0 00-7-7" stroke="currentColor" stroke-width="2" stroke-linecap="round" vector-effect="non-scaling-stroke" />
</svg>
</div>
</div>
      <div data-view-component="true" class="flex-1"></div>


      <div data-view-component="true" class="px-2">      <p class="color-fg-subtle text-small text-light">&copy; 2024 GitHub, Inc.</p>

      <div data-view-component="true" class="d-flex flex-wrap text-small text-light">
          <a target="_blank" href="https://github.com/about" data-view-component="true" class="Link mr-2">About</a>
          <a target="_blank" href="https://github.blog" data-view-component="true" class="Link mr-2">Blog</a>
          <a target="_blank" href="https://docs.github.com/site-policy/github-terms/github-terms-of-service" data-view-component="true" class="Link mr-2">Terms</a>
          <a target="_blank" href="https://docs.github.com/site-policy/privacy-policies/github-privacy-statement" data-view-component="true" class="Link mr-2">Privacy</a>
          <a target="_blank" href="https://github.com/security" data-view-component="true" class="Link mr-2">Security</a>
          <a target="_blank" href="https://www.githubstatus.com/" data-view-component="true" class="Link mr-3">Status</a>

</div></div>
</div>
      </scrollable-region>
      
</dialog></dialog-helper>

  </include-fragment>
</deferred-side-panel>

        <a
          class="AppHeader-logo ml-2"
          href="https://github.com/"
          data-hotkey="g d"
          aria-label="Homepage "
          data-turbo="false"
          data-analytics-event="{&quot;category&quot;:&quot;Header&quot;,&quot;action&quot;:&quot;go to dashboard&quot;,&quot;label&quot;:&quot;icon:logo&quot;}"
        >
          <svg height="32" aria-hidden="true" viewBox="0 0 16 16" version="1.1" width="32" data-view-component="true" class="octicon octicon-mark-github v-align-middle color-fg-default">
    <path d="M8 0c4.42 0 8 3.58 8 8a8.013 8.013 0 0 1-5.45 7.59c-.4.08-.55-.17-.55-.38 0-.27.01-1.13.01-2.2 0-.75-.25-1.23-.54-1.48 1.78-.2 3.65-.88 3.65-3.95 0-.88-.31-1.59-.82-2.15.08-.2.36-1.02-.08-2.12 0 0-.67-.22-2.2.82-.64-.18-1.32-.27-2-.27-.68 0-1.36.09-2 .27-1.53-1.03-2.2-.82-2.2-.82-.44 1.1-.16 1.92-.08 2.12-.51.56-.82 1.28-.82 2.15 0 3.06 1.86 3.75 3.64 3.95-.23.2-.44.55-.51 1.07-.46.21-1.61.55-2.33-.66-.15-.24-.6-.83-1.23-.82-.67.01-.27.38.01.53.34.19.73.9.82 1.13.16.45.68 1.31 2.69.94 0 .67.01 1.3.01 1.49 0 .21-.15.45-.55.38A7.995 7.995 0 0 1 0 8c0-4.42 3.58-8 8-8Z"></path>
</svg>
        </a>

          <div class="AppHeader-context" >
  <div class="AppHeader-context-compact">
      <button aria-expanded="false" aria-haspopup="dialog" aria-label="Page context: AlexLaudiano / imersao_python" id="dialog-show-context-region-dialog" data-show-dialog-id="context-region-dialog" type="button" data-view-component="true" class="AppHeader-context-compact-trigger Truncate Button--secondary Button--medium Button box-shadow-none">  <span class="Button-content">
    <span class="Button-label"><span class="AppHeader-context-compact-lead">
                <span class="AppHeader-context-compact-parentItem">AlexLaudiano</span>
                <span class="no-wrap">&nbsp;/</span>

            </span>

            <strong class="AppHeader-context-compact-mainItem d-flex flex-items-center Truncate" >
  <span class="Truncate-text ">imersao_python</span>

</strong></span>
  </span>
</button>

<dialog-helper>
  <dialog id="context-region-dialog" aria-modal="true" aria-labelledby="context-region-dialog-title" aria-describedby="context-region-dialog-description" data-view-component="true" class="Overlay Overlay-whenNarrow Overlay--size-medium Overlay--motion-scaleFade">
    <div data-view-component="true" class="Overlay-header">
  <div class="Overlay-headerContentWrap">
    <div class="Overlay-titleWrap">
      <h1 class="Overlay-title " id="context-region-dialog-title">
        Navigate back to
      </h1>
    </div>
    <div class="Overlay-actionWrap">
      <button data-close-dialog-id="context-region-dialog" aria-label="Close" type="button" data-view-component="true" class="close-button Overlay-closeButton"><svg aria-hidden="true" height="16" viewBox="0 0 16 16" version="1.1" width="16" data-view-component="true" class="octicon octicon-x">
    <path d="M3.72 3.72a.75.75 0 0 1 1.06 0L8 6.94l3.22-3.22a.749.749 0 0 1 1.275.326.749.749 0 0 1-.215.734L9.06 8l3.22 3.22a.749.749 0 0 1-.326 1.275.749.749 0 0 1-.734-.215L8 9.06l-3.22 3.22a.751.751 0 0 1-1.042-.018.751.751 0 0 1-.018-1.042L6.94 8 3.72 4.78a.75.75 0 0 1 0-1.06Z"></path>
</svg></button>
    </div>
  </div>
</div>
      <scrollable-region data-labelled-by="context-region-dialog-title">
        <div data-view-component="true" class="Overlay-body">          <ul role="list" class="list-style-none" >
    <li>
      <a data-analytics-event="{&quot;category&quot;:&quot;SiteHeaderComponent&quot;,&quot;action&quot;:&quot;context_region_crumb&quot;,&quot;label&quot;:&quot;AlexLaudiano&quot;,&quot;screen_size&quot;:&quot;compact&quot;}" href="/AlexLaudiano" data-view-component="true" class="Link--primary Truncate d-flex flex-items-center py-1">
        <span class="AppHeader-context-item-label Truncate-text ">
            <svg aria-hidden="true" height="12" viewBox="0 0 16 16" version="1.1" width="12" data-view-component="true" class="octicon octicon-person mr-1">
    <path d="M10.561 8.073a6.005 6.005 0 0 1 3.432 5.142.75.75 0 1 1-1.498.07 4.5 4.5 0 0 0-8.99 0 .75.75 0 0 1-1.498-.07 6.004 6.004 0 0 1 3.431-5.142 3.999 3.999 0 1 1 5.123 0ZM10.5 5a2.5 2.5 0 1 0-5 0 2.5 2.5 0 0 0 5 0Z"></path>
</svg>

          AlexLaudiano
        </span>

</a>
    </li>
    <li>
      <a data-analytics-event="{&quot;category&quot;:&quot;SiteHeaderComponent&quot;,&quot;action&quot;:&quot;context_region_crumb&quot;,&quot;label&quot;:&quot;imersao_python&quot;,&quot;screen_size&quot;:&quot;compact&quot;}" href="/AlexLaudiano/imersao_python" data-view-component="true" class="Link--primary Truncate d-flex flex-items-center py-1">
        <span class="AppHeader-context-item-label Truncate-text ">
            <svg aria-hidden="true" height="12" viewBox="0 0 16 16" version="1.1" width="12" data-view-component="true" class="octicon octicon-repo mr-1">
    <path d="M2 2.5A2.5 2.5 0 0 1 4.5 0h8.75a.75.75 0 0 1 .75.75v12.5a.75.75 0 0 1-.75.75h-2.5a.75.75 0 0 1 0-1.5h1.75v-2h-8a1 1 0 0 0-.714 1.7.75.75 0 1 1-1.072 1.05A2.495 2.495 0 0 1 2 11.5Zm10.5-1h-8a1 1 0 0 0-1 1v6.708A2.486 2.486 0 0 1 4.5 9h8ZM5 12.25a.25.25 0 0 1 .25-.25h3.5a.25.25 0 0 1 .25.25v3.25a.25.25 0 0 1-.4.2l-1.45-1.087a.249.249 0 0 0-.3 0L5.4 15.7a.25.25 0 0 1-.4-.2Z"></path>
</svg>

          imersao_python
        </span>

</a>
    </li>
</ul>

</div>
      </scrollable-region>
      
</dialog></dialog-helper>
  </div>

  <div class="AppHeader-context-full">
    <nav role="navigation" aria-label="Page context">
      <ul role="list" class="list-style-none" >
    <li>
      <a data-analytics-event="{&quot;category&quot;:&quot;SiteHeaderComponent&quot;,&quot;action&quot;:&quot;context_region_crumb&quot;,&quot;label&quot;:&quot;AlexLaudiano&quot;,&quot;screen_size&quot;:&quot;full&quot;}" data-hovercard-type="user" data-hovercard-url="/users/AlexLaudiano/hovercard" data-octo-click="hovercard-link-click" data-octo-dimensions="link_type:self" href="/AlexLaudiano" data-view-component="true" class="AppHeader-context-item">
        <span class="AppHeader-context-item-label  ">

          AlexLaudiano
        </span>

</a>
        <span class="AppHeader-context-item-separator">/</span>
    </li>
    <li>
      <a data-analytics-event="{&quot;category&quot;:&quot;SiteHeaderComponent&quot;,&quot;action&quot;:&quot;context_region_crumb&quot;,&quot;label&quot;:&quot;imersao_python&quot;,&quot;screen_size&quot;:&quot;full&quot;}" href="/AlexLaudiano/imersao_python" data-view-component="true" class="AppHeader-context-item">
        <span class="AppHeader-context-item-label  ">

          imersao_python
        </span>

</a>
    </li>
</ul>

    </nav>
  </div>
</div>

      </div>
      <div class="AppHeader-globalBar-end">
          <div class="AppHeader-search" >
              


<qbsearch-input class="search-input" data-scope="repo:AlexLaudiano/imersao_python" data-custom-scopes-path="/search/custom_scopes" data-delete-custom-scopes-csrf="ZGrO1dTyb56uhJfhRiY_Qsf62KNmhMC5KjHUtHXnk5m-vTBpx5ARm-625bu5F9xt1cTHEv9ykFsnJ0jhq-6nBQ" data-max-custom-scopes="10" data-header-redesign-enabled="true" data-initial-value="" data-blackbird-suggestions-path="/search/suggestions" data-jump-to-suggestions-path="/_graphql/GetSuggestedNavigationDestinations" data-current-repository="AlexLaudiano/imersao_python" data-current-org="" data-current-owner="AlexLaudiano" data-logged-in="true" data-copilot-chat-enabled="false" data-blackbird-indexed-repo-csrf="<input type=&quot;hidden&quot; value=&quot;Oh-DoT4ae2GShmNRKA2yXZUvtK3ZviUolskpPyIVY5sUFe225O2EGwzPmxwv0G5l7fhgYHmAtIGR5n0fieShUQ&quot; data-csrf=&quot;true&quot; />">
  <div
    class="search-input-container search-with-dialog position-relative d-flex flex-row flex-items-center height-auto color-bg-transparent border-0 color-fg-subtle mx-0"
    data-action="click:qbsearch-input#searchInputContainerClicked"
  >
      
            <button type="button" data-action="click:qbsearch-input#handleExpand" class="AppHeader-button AppHeader-search-whenNarrow" aria-label="Search or jump to…" aria-expanded="false" aria-haspopup="dialog">
            <svg aria-hidden="true" height="16" viewBox="0 0 16 16" version="1.1" width="16" data-view-component="true" class="octicon octicon-search">
    <path d="M10.68 11.74a6 6 0 0 1-7.922-8.982 6 6 0 0 1 8.982 7.922l3.04 3.04a.749.749 0 0 1-.326 1.275.749.749 0 0 1-.734-.215ZM11.5 7a4.499 4.499 0 1 0-8.997 0A4.499 4.499 0 0 0 11.5 7Z"></path>
</svg>
          </button>


<div class="AppHeader-search-whenRegular">
  <div class="AppHeader-search-wrap AppHeader-search-wrap--hasTrailing">
    <div class="AppHeader-search-control">
      <label
        for="AppHeader-searchInput"
        aria-label="Search or jump to…"
        class="AppHeader-search-visual--leading"
      >
        <svg aria-hidden="true" height="16" viewBox="0 0 16 16" version="1.1" width="16" data-view-component="true" class="octicon octicon-search">
    <path d="M10.68 11.74a6 6 0 0 1-7.922-8.982 6 6 0 0 1 8.982 7.922l3.04 3.04a.749.749 0 0 1-.326 1.275.749.749 0 0 1-.734-.215ZM11.5 7a4.499 4.499 0 1 0-8.997 0A4.499 4.499 0 0 0 11.5 7Z"></path>
</svg>
      </label>

                <button
            type="button"
            data-target="qbsearch-input.inputButton"
            data-action="click:qbsearch-input#handleExpand"
            class="AppHeader-searchButton form-control input-contrast text-left color-fg-subtle no-wrap"
            data-hotkey="s,/"
            data-analytics-event="{&quot;category&quot;:&quot;Global navigation&quot;,&quot;action&quot;:&quot;SEARCH&quot;,&quot;label&quot;:null}"
            aria-describedby="search-error-message-flash"
          >
            <div class="overflow-hidden">
              <span id="qb-input-query" data-target="qbsearch-input.inputButtonText">
                  Type <kbd class="AppHeader-search-kbd">/</kbd> to search
              </span>
            </div>
          </button>

    </div>


      <button type="button" id="AppHeader-commandPalette-button" class="AppHeader-search-action--trailing js-activate-command-palette" data-analytics-event="{&quot;category&quot;:&quot;SiteHeaderComponent&quot;,&quot;action&quot;:&quot;command_palette&quot;,&quot;label&quot;:&quot;open command palette&quot;}">
        <svg aria-hidden="true" height="16" viewBox="0 0 16 16" version="1.1" width="16" data-view-component="true" class="octicon octicon-command-palette">
    <path d="m6.354 8.04-4.773 4.773a.75.75 0 1 0 1.061 1.06L7.945 8.57a.75.75 0 0 0 0-1.06L2.642 2.206a.75.75 0 0 0-1.06 1.061L6.353 8.04ZM8.75 11.5a.75.75 0 0 0 0 1.5h5.5a.75.75 0 0 0 0-1.5h-5.5Z"></path>
</svg>
      </button>

      <tool-tip id="tooltip-450e58c0-5cc6-49ea-8bdf-993af8493748" for="AppHeader-commandPalette-button" popover="manual" data-direction="s" data-type="label" data-view-component="true" class="sr-only position-absolute">Command palette</tool-tip>
  </div>
</div>

    <input type="hidden" name="type" class="js-site-search-type-field">

    
<div class="Overlay--hidden " data-modal-dialog-overlay>
  <modal-dialog data-action="close:qbsearch-input#handleClose cancel:qbsearch-input#handleClose" data-target="qbsearch-input.searchSuggestionsDialog" role="dialog" id="search-suggestions-dialog" aria-modal="true" aria-labelledby="search-suggestions-dialog-header" data-view-component="true" class="Overlay Overlay--width-medium Overlay--height-auto">
      <h1 id="search-suggestions-dialog-header" class="sr-only">Search code, repositories, users, issues, pull requests...</h1>
    <div class="Overlay-body Overlay-body--paddingNone">
      
          <div data-view-component="true">        <div class="search-suggestions position-absolute width-full color-shadow-large border color-fg-default color-bg-default overflow-hidden d-flex flex-column query-builder-container"
          style="border-radius: 12px;"
          data-target="qbsearch-input.queryBuilderContainer"
          hidden
        >
          <!-- '"` --><!-- </textarea></xmp> --></option></form><form id="query-builder-test-form" action="" accept-charset="UTF-8" method="get">
  <query-builder data-target="qbsearch-input.queryBuilder" id="query-builder-query-builder-test" data-filter-key=":" data-view-component="true" class="QueryBuilder search-query-builder">
    <div class="FormControl FormControl--fullWidth">
      <label id="query-builder-test-label" for="query-builder-test" class="FormControl-label sr-only">
        Search
      </label>
      <div
        class="QueryBuilder-StyledInput width-fit "
        data-target="query-builder.styledInput"
      >
          <span id="query-builder-test-leadingvisual-wrap" class="FormControl-input-leadingVisualWrap QueryBuilder-leadingVisualWrap">
            <svg aria-hidden="true" height="16" viewBox="0 0 16 16" version="1.1" width="16" data-view-component="true" class="octicon octicon-search FormControl-input-leadingVisual">
    <path d="M10.68 11.74a6 6 0 0 1-7.922-8.982 6 6 0 0 1 8.982 7.922l3.04 3.04a.749.749 0 0 1-.326 1.275.749.749 0 0 1-.734-.215ZM11.5 7a4.499 4.499 0 1 0-8.997 0A4.499 4.499 0 0 0 11.5 7Z"></path>
</svg>
          </span>
        <div data-target="query-builder.styledInputContainer" class="QueryBuilder-StyledInputContainer">
          <div
            aria-hidden="true"
            class="QueryBuilder-StyledInputContent"
            data-target="query-builder.styledInputContent"
          ></div>
          <div class="QueryBuilder-InputWrapper">
            <div aria-hidden="true" class="QueryBuilder-Sizer" data-target="query-builder.sizer"></div>
            <input id="query-builder-test" name="query-builder-test" value="" autocomplete="off" type="text" role="combobox" spellcheck="false" aria-expanded="false" aria-describedby="validation-8eb78910-e33e-4f59-a851-a8afee799153" data-target="query-builder.input" data-action="
          input:query-builder#inputChange
          blur:query-builder#inputBlur
          keydown:query-builder#inputKeydown
          focus:query-builder#inputFocus
        " data-view-component="true" class="FormControl-input QueryBuilder-Input FormControl-medium" />
          </div>
        </div>
          <span class="sr-only" id="query-builder-test-clear">Clear</span>
          <button role="button" id="query-builder-test-clear-button" aria-labelledby="query-builder-test-clear query-builder-test-label" data-target="query-builder.clearButton" data-action="
                click:query-builder#clear
                focus:query-builder#clearButtonFocus
                blur:query-builder#clearButtonBlur
              " variant="small" hidden="hidden" type="button" data-view-component="true" class="Button Button--iconOnly Button--invisible Button--medium mr-1 px-2 py-0 d-flex flex-items-center rounded-1 color-fg-muted">  <svg aria-hidden="true" height="16" viewBox="0 0 16 16" version="1.1" width="16" data-view-component="true" class="octicon octicon-x-circle-fill Button-visual">
    <path d="M2.343 13.657A8 8 0 1 1 13.658 2.343 8 8 0 0 1 2.343 13.657ZM6.03 4.97a.751.751 0 0 0-1.042.018.751.751 0 0 0-.018 1.042L6.94 8 4.97 9.97a.749.749 0 0 0 .326 1.275.749.749 0 0 0 .734-.215L8 9.06l1.97 1.97a.749.749 0 0 0 1.275-.326.749.749 0 0 0-.215-.734L9.06 8l1.97-1.97a.749.749 0 0 0-.326-1.275.749.749 0 0 0-.734.215L8 6.94Z"></path>
</svg>
</button>

      </div>
      <template id="search-icon">
  <svg aria-hidden="true" height="16" viewBox="0 0 16 16" version="1.1" width="16" data-view-component="true" class="octicon octicon-search">
    <path d="M10.68 11.74a6 6 0 0 1-7.922-8.982 6 6 0 0 1 8.982 7.922l3.04 3.04a.749.749 0 0 1-.326 1.275.749.749 0 0 1-.734-.215ZM11.5 7a4.499 4.499 0 1 0-8.997 0A4.499 4.499 0 0 0 11.5 7Z"></path>
</svg>
</template>

<template id="code-icon">
  <svg aria-hidden="true" height="16" viewBox="0 0 16 16" version="1.1" width="16" data-view-component="true" class="octicon octicon-code">
    <path d="m11.28 3.22 4.25 4.25a.75.75 0 0 1 0 1.06l-4.25 4.25a.749.749 0 0 1-1.275-.326.749.749 0 0 1 .215-.734L13.94 8l-3.72-3.72a.749.749 0 0 1 .326-1.275.749.749 0 0 1 .734.215Zm-6.56 0a.751.751 0 0 1 1.042.018.751.751 0 0 1 .018 1.042L2.06 8l3.72 3.72a.749.749 0 0 1-.326 1.275.749.749 0 0 1-.734-.215L.47 8.53a.75.75 0 0 1 0-1.06Z"></path>
</svg>
</template>

<template id="file-code-icon">
  <svg aria-hidden="true" height="16" viewBox="0 0 16 16" version="1.1" width="16" data-view-component="true" class="octicon octicon-file-code">
    <path d="M4 1.75C4 .784 4.784 0 5.75 0h5.586c.464 0 .909.184 1.237.513l2.914 2.914c.329.328.513.773.513 1.237v8.586A1.75 1.75 0 0 1 14.25 15h-9a.75.75 0 0 1 0-1.5h9a.25.25 0 0 0 .25-.25V6h-2.75A1.75 1.75 0 0 1 10 4.25V1.5H5.75a.25.25 0 0 0-.25.25v2.5a.75.75 0 0 1-1.5 0Zm1.72 4.97a.75.75 0 0 1 1.06 0l2 2a.75.75 0 0 1 0 1.06l-2 2a.749.749 0 0 1-1.275-.326.749.749 0 0 1 .215-.734l1.47-1.47-1.47-1.47a.75.75 0 0 1 0-1.06ZM3.28 7.78 1.81 9.25l1.47 1.47a.751.751 0 0 1-.018 1.042.751.751 0 0 1-1.042.018l-2-2a.75.75 0 0 1 0-1.06l2-2a.751.751 0 0 1 1.042.018.751.751 0 0 1 .018 1.042Zm8.22-6.218V4.25c0 .138.112.25.25.25h2.688l-.011-.013-2.914-2.914-.013-.011Z"></path>
</svg>
</template>

<template id="history-icon">
  <svg aria-hidden="true" height="16" viewBox="0 0 16 16" version="1.1" width="16" data-view-component="true" class="octicon octicon-history">
    <path d="m.427 1.927 1.215 1.215a8.002 8.002 0 1 1-1.6 5.685.75.75 0 1 1 1.493-.154 6.5 6.5 0 1 0 1.18-4.458l1.358 1.358A.25.25 0 0 1 3.896 6H.25A.25.25 0 0 1 0 5.75V2.104a.25.25 0 0 1 .427-.177ZM7.75 4a.75.75 0 0 1 .75.75v2.992l2.028.812a.75.75 0 0 1-.557 1.392l-2.5-1A.751.751 0 0 1 7 8.25v-3.5A.75.75 0 0 1 7.75 4Z"></path>
</svg>
</template>

<template id="repo-icon">
  <svg aria-hidden="true" height="16" viewBox="0 0 16 16" version="1.1" width="16" data-view-component="true" class="octicon octicon-repo">
    <path d="M2 2.5A2.5 2.5 0 0 1 4.5 0h8.75a.75.75 0 0 1 .75.75v12.5a.75.75 0 0 1-.75.75h-2.5a.75.75 0 0 1 0-1.5h1.75v-2h-8a1 1 0 0 0-.714 1.7.75.75 0 1 1-1.072 1.05A2.495 2.495 0 0 1 2 11.5Zm10.5-1h-8a1 1 0 0 0-1 1v6.708A2.486 2.486 0 0 1 4.5 9h8ZM5 12.25a.25.25 0 0 1 .25-.25h3.5a.25.25 0 0 1 .25.25v3.25a.25.25 0 0 1-.4.2l-1.45-1.087a.249.249 0 0 0-.3 0L5.4 15.7a.25.25 0 0 1-.4-.2Z"></path>
</svg>
</template>

<template id="bookmark-icon">
  <svg aria-hidden="true" height="16" viewBox="0 0 16 16" version="1.1" width="16" data-view-component="true" class="octicon octicon-bookmark">
    <path d="M3 2.75C3 1.784 3.784 1 4.75 1h6.5c.966 0 1.75.784 1.75 1.75v11.5a.75.75 0 0 1-1.227.579L8 11.722l-3.773 3.107A.751.751 0 0 1 3 14.25Zm1.75-.25a.25.25 0 0 0-.25.25v9.91l3.023-2.489a.75.75 0 0 1 .954 0l3.023 2.49V2.75a.25.25 0 0 0-.25-.25Z"></path>
</svg>
</template>

<template id="plus-circle-icon">
  <svg aria-hidden="true" height="16" viewBox="0 0 16 16" version="1.1" width="16" data-view-component="true" class="octicon octicon-plus-circle">
    <path d="M8 0a8 8 0 1 1 0 16A8 8 0 0 1 8 0ZM1.5 8a6.5 6.5 0 1 0 13 0 6.5 6.5 0 0 0-13 0Zm7.25-3.25v2.5h2.5a.75.75 0 0 1 0 1.5h-2.5v2.5a.75.75 0 0 1-1.5 0v-2.5h-2.5a.75.75 0 0 1 0-1.5h2.5v-2.5a.75.75 0 0 1 1.5 0Z"></path>
</svg>
</template>

<template id="circle-icon">
  <svg aria-hidden="true" height="16" viewBox="0 0 16 16" version="1.1" width="16" data-view-component="true" class="octicon octicon-dot-fill">
    <path d="M8 4a4 4 0 1 1 0 8 4 4 0 0 1 0-8Z"></path>
</svg>
</template>

<template id="trash-icon">
  <svg aria-hidden="true" height="16" viewBox="0 0 16 16" version="1.1" width="16" data-view-component="true" class="octicon octicon-trash">
    <path d="M11 1.75V3h2.25a.75.75 0 0 1 0 1.5H2.75a.75.75 0 0 1 0-1.5H5V1.75C5 .784 5.784 0 6.75 0h2.5C10.216 0 11 .784 11 1.75ZM4.496 6.675l.66 6.6a.25.25 0 0 0 .249.225h5.19a.25.25 0 0 0 .249-.225l.66-6.6a.75.75 0 0 1 1.492.149l-.66 6.6A1.748 1.748 0 0 1 10.595 15h-5.19a1.75 1.75 0 0 1-1.741-1.575l-.66-6.6a.75.75 0 1 1 1.492-.15ZM6.5 1.75V3h3V1.75a.25.25 0 0 0-.25-.25h-2.5a.25.25 0 0 0-.25.25Z"></path>
</svg>
</template>

<template id="team-icon">
  <svg aria-hidden="true" height="16" viewBox="0 0 16 16" version="1.1" width="16" data-view-component="true" class="octicon octicon-people">
    <path d="M2 5.5a3.5 3.5 0 1 1 5.898 2.549 5.508 5.508 0 0 1 3.034 4.084.75.75 0 1 1-1.482.235 4 4 0 0 0-7.9 0 .75.75 0 0 1-1.482-.236A5.507 5.507 0 0 1 3.102 8.05 3.493 3.493 0 0 1 2 5.5ZM11 4a3.001 3.001 0 0 1 2.22 5.018 5.01 5.01 0 0 1 2.56 3.012.749.749 0 0 1-.885.954.752.752 0 0 1-.549-.514 3.507 3.507 0 0 0-2.522-2.372.75.75 0 0 1-.574-.73v-.352a.75.75 0 0 1 .416-.672A1.5 1.5 0 0 0 11 5.5.75.75 0 0 1 11 4Zm-5.5-.5a2 2 0 1 0-.001 3.999A2 2 0 0 0 5.5 3.5Z"></path>
</svg>
</template>

<template id="project-icon">
  <svg aria-hidden="true" height="16" viewBox="0 0 16 16" version="1.1" width="16" data-view-component="true" class="octicon octicon-project">
    <path d="M1.75 0h12.5C15.216 0 16 .784 16 1.75v12.5A1.75 1.75 0 0 1 14.25 16H1.75A1.75 1.75 0 0 1 0 14.25V1.75C0 .784.784 0 1.75 0ZM1.5 1.75v12.5c0 .138.112.25.25.25h12.5a.25.25 0 0 0 .25-.25V1.75a.25.25 0 0 0-.25-.25H1.75a.25.25 0 0 0-.25.25ZM11.75 3a.75.75 0 0 1 .75.75v7.5a.75.75 0 0 1-1.5 0v-7.5a.75.75 0 0 1 .75-.75Zm-8.25.75a.75.75 0 0 1 1.5 0v5.5a.75.75 0 0 1-1.5 0ZM8 3a.75.75 0 0 1 .75.75v3.5a.75.75 0 0 1-1.5 0v-3.5A.75.75 0 0 1 8 3Z"></path>
</svg>
</template>

<template id="pencil-icon">
  <svg aria-hidden="true" height="16" viewBox="0 0 16 16" version="1.1" width="16" data-view-component="true" class="octicon octicon-pencil">
    <path d="M11.013 1.427a1.75 1.75 0 0 1 2.474 0l1.086 1.086a1.75 1.75 0 0 1 0 2.474l-8.61 8.61c-.21.21-.47.364-.756.445l-3.251.93a.75.75 0 0 1-.927-.928l.929-3.25c.081-.286.235-.547.445-.758l8.61-8.61Zm.176 4.823L9.75 4.81l-6.286 6.287a.253.253 0 0 0-.064.108l-.558 1.953 1.953-.558a.253.253 0 0 0 .108-.064Zm1.238-3.763a.25.25 0 0 0-.354 0L10.811 3.75l1.439 1.44 1.263-1.263a.25.25 0 0 0 0-.354Z"></path>
</svg>
</template>

<template id="copilot-icon">
  <svg aria-hidden="true" height="16" viewBox="0 0 16 16" version="1.1" width="16" data-view-component="true" class="octicon octicon-copilot">
    <path d="M7.998 15.035c-4.562 0-7.873-2.914-7.998-3.749V9.338c.085-.628.677-1.686 1.588-2.065.013-.07.024-.143.036-.218.029-.183.06-.384.126-.612-.201-.508-.254-1.084-.254-1.656 0-.87.128-1.769.693-2.484.579-.733 1.494-1.124 2.724-1.261 1.206-.134 2.262.034 2.944.765.05.053.096.108.139.165.044-.057.094-.112.143-.165.682-.731 1.738-.899 2.944-.765 1.23.137 2.145.528 2.724 1.261.566.715.693 1.614.693 2.484 0 .572-.053 1.148-.254 1.656.066.228.098.429.126.612.012.076.024.148.037.218.924.385 1.522 1.471 1.591 2.095v1.872c0 .766-3.351 3.795-8.002 3.795Zm0-1.485c2.28 0 4.584-1.11 5.002-1.433V7.862l-.023-.116c-.49.21-1.075.291-1.727.291-1.146 0-2.059-.327-2.71-.991A3.222 3.222 0 0 1 8 6.303a3.24 3.24 0 0 1-.544.743c-.65.664-1.563.991-2.71.991-.652 0-1.236-.081-1.727-.291l-.023.116v4.255c.419.323 2.722 1.433 5.002 1.433ZM6.762 2.83c-.193-.206-.637-.413-1.682-.297-1.019.113-1.479.404-1.713.7-.247.312-.369.789-.369 1.554 0 .793.129 1.171.308 1.371.162.181.519.379 1.442.379.853 0 1.339-.235 1.638-.54.315-.322.527-.827.617-1.553.117-.935-.037-1.395-.241-1.614Zm4.155-.297c-1.044-.116-1.488.091-1.681.297-.204.219-.359.679-.242 1.614.091.726.303 1.231.618 1.553.299.305.784.54 1.638.54.922 0 1.28-.198 1.442-.379.179-.2.308-.578.308-1.371 0-.765-.123-1.242-.37-1.554-.233-.296-.693-.587-1.713-.7Z"></path><path d="M6.25 9.037a.75.75 0 0 1 .75.75v1.501a.75.75 0 0 1-1.5 0V9.787a.75.75 0 0 1 .75-.75Zm4.25.75v1.501a.75.75 0 0 1-1.5 0V9.787a.75.75 0 0 1 1.5 0Z"></path>
</svg>
</template>

<template id="workflow-icon">
  <svg aria-hidden="true" height="16" viewBox="0 0 16 16" version="1.1" width="16" data-view-component="true" class="octicon octicon-workflow">
    <path d="M0 1.75C0 .784.784 0 1.75 0h3.5C6.216 0 7 .784 7 1.75v3.5A1.75 1.75 0 0 1 5.25 7H4v4a1 1 0 0 0 1 1h4v-1.25C9 9.784 9.784 9 10.75 9h3.5c.966 0 1.75.784 1.75 1.75v3.5A1.75 1.75 0 0 1 14.25 16h-3.5A1.75 1.75 0 0 1 9 14.25v-.75H5A2.5 2.5 0 0 1 2.5 11V7h-.75A1.75 1.75 0 0 1 0 5.25Zm1.75-.25a.25.25 0 0 0-.25.25v3.5c0 .138.112.25.25.25h3.5a.25.25 0 0 0 .25-.25v-3.5a.25.25 0 0 0-.25-.25Zm9 9a.25.25 0 0 0-.25.25v3.5c0 .138.112.25.25.25h3.5a.25.25 0 0 0 .25-.25v-3.5a.25.25 0 0 0-.25-.25Z"></path>
</svg>
</template>

<template id="book-icon">
  <svg aria-hidden="true" height="16" viewBox="0 0 16 16" version="1.1" width="16" data-view-component="true" class="octicon octicon-book">
    <path d="M0 1.75A.75.75 0 0 1 .75 1h4.253c1.227 0 2.317.59 3 1.501A3.743 3.743 0 0 1 11.006 1h4.245a.75.75 0 0 1 .75.75v10.5a.75.75 0 0 1-.75.75h-4.507a2.25 2.25 0 0 0-1.591.659l-.622.621a.75.75 0 0 1-1.06 0l-.622-.621A2.25 2.25 0 0 0 5.258 13H.75a.75.75 0 0 1-.75-.75Zm7.251 10.324.004-5.073-.002-2.253A2.25 2.25 0 0 0 5.003 2.5H1.5v9h3.757a3.75 3.75 0 0 1 1.994.574ZM8.755 4.75l-.004 7.322a3.752 3.752 0 0 1 1.992-.572H14.5v-9h-3.495a2.25 2.25 0 0 0-2.25 2.25Z"></path>
</svg>
</template>

<template id="code-review-icon">
  <svg aria-hidden="true" height="16" viewBox="0 0 16 16" version="1.1" width="16" data-view-component="true" class="octicon octicon-code-review">
    <path d="M1.75 1h12.5c.966 0 1.75.784 1.75 1.75v8.5A1.75 1.75 0 0 1 14.25 13H8.061l-2.574 2.573A1.458 1.458 0 0 1 3 14.543V13H1.75A1.75 1.75 0 0 1 0 11.25v-8.5C0 1.784.784 1 1.75 1ZM1.5 2.75v8.5c0 .138.112.25.25.25h2a.75.75 0 0 1 .75.75v2.19l2.72-2.72a.749.749 0 0 1 .53-.22h6.5a.25.25 0 0 0 .25-.25v-8.5a.25.25 0 0 0-.25-.25H1.75a.25.25 0 0 0-.25.25Zm5.28 1.72a.75.75 0 0 1 0 1.06L5.31 7l1.47 1.47a.751.751 0 0 1-.018 1.042.751.751 0 0 1-1.042.018l-2-2a.75.75 0 0 1 0-1.06l2-2a.75.75 0 0 1 1.06 0Zm2.44 0a.75.75 0 0 1 1.06 0l2 2a.75.75 0 0 1 0 1.06l-2 2a.751.751 0 0 1-1.042-.018.751.751 0 0 1-.018-1.042L10.69 7 9.22 5.53a.75.75 0 0 1 0-1.06Z"></path>
</svg>
</template>

<template id="codespaces-icon">
  <svg aria-hidden="true" height="16" viewBox="0 0 16 16" version="1.1" width="16" data-view-component="true" class="octicon octicon-codespaces">
    <path d="M0 11.25c0-.966.784-1.75 1.75-1.75h12.5c.966 0 1.75.784 1.75 1.75v3A1.75 1.75 0 0 1 14.25 16H1.75A1.75 1.75 0 0 1 0 14.25Zm2-9.5C2 .784 2.784 0 3.75 0h8.5C13.216 0 14 .784 14 1.75v5a1.75 1.75 0 0 1-1.75 1.75h-8.5A1.75 1.75 0 0 1 2 6.75Zm1.75-.25a.25.25 0 0 0-.25.25v5c0 .138.112.25.25.25h8.5a.25.25 0 0 0 .25-.25v-5a.25.25 0 0 0-.25-.25Zm-2 9.5a.25.25 0 0 0-.25.25v3c0 .138.112.25.25.25h12.5a.25.25 0 0 0 .25-.25v-3a.25.25 0 0 0-.25-.25Z"></path><path d="M7 12.75a.75.75 0 0 1 .75-.75h4.5a.75.75 0 0 1 0 1.5h-4.5a.75.75 0 0 1-.75-.75Zm-4 0a.75.75 0 0 1 .75-.75h.5a.75.75 0 0 1 0 1.5h-.5a.75.75 0 0 1-.75-.75Z"></path>
</svg>
</template>

<template id="comment-icon">
  <svg aria-hidden="true" height="16" viewBox="0 0 16 16" version="1.1" width="16" data-view-component="true" class="octicon octicon-comment">
    <path d="M1 2.75C1 1.784 1.784 1 2.75 1h10.5c.966 0 1.75.784 1.75 1.75v7.5A1.75 1.75 0 0 1 13.25 12H9.06l-2.573 2.573A1.458 1.458 0 0 1 4 13.543V12H2.75A1.75 1.75 0 0 1 1 10.25Zm1.75-.25a.25.25 0 0 0-.25.25v7.5c0 .138.112.25.25.25h2a.75.75 0 0 1 .75.75v2.19l2.72-2.72a.749.749 0 0 1 .53-.22h4.5a.25.25 0 0 0 .25-.25v-7.5a.25.25 0 0 0-.25-.25Z"></path>
</svg>
</template>

<template id="comment-discussion-icon">
  <svg aria-hidden="true" height="16" viewBox="0 0 16 16" version="1.1" width="16" data-view-component="true" class="octicon octicon-comment-discussion">
    <path d="M1.75 1h8.5c.966 0 1.75.784 1.75 1.75v5.5A1.75 1.75 0 0 1 10.25 10H7.061l-2.574 2.573A1.458 1.458 0 0 1 2 11.543V10h-.25A1.75 1.75 0 0 1 0 8.25v-5.5C0 1.784.784 1 1.75 1ZM1.5 2.75v5.5c0 .138.112.25.25.25h1a.75.75 0 0 1 .75.75v2.19l2.72-2.72a.749.749 0 0 1 .53-.22h3.5a.25.25 0 0 0 .25-.25v-5.5a.25.25 0 0 0-.25-.25h-8.5a.25.25 0 0 0-.25.25Zm13 2a.25.25 0 0 0-.25-.25h-.5a.75.75 0 0 1 0-1.5h.5c.966 0 1.75.784 1.75 1.75v5.5A1.75 1.75 0 0 1 14.25 12H14v1.543a1.458 1.458 0 0 1-2.487 1.03L9.22 12.28a.749.749 0 0 1 .326-1.275.749.749 0 0 1 .734.215l2.22 2.22v-2.19a.75.75 0 0 1 .75-.75h1a.25.25 0 0 0 .25-.25Z"></path>
</svg>
</template>

<template id="organization-icon">
  <svg aria-hidden="true" height="16" viewBox="0 0 16 16" version="1.1" width="16" data-view-component="true" class="octicon octicon-organization">
    <path d="M1.75 16A1.75 1.75 0 0 1 0 14.25V1.75C0 .784.784 0 1.75 0h8.5C11.216 0 12 .784 12 1.75v12.5c0 .085-.006.168-.018.25h2.268a.25.25 0 0 0 .25-.25V8.285a.25.25 0 0 0-.111-.208l-1.055-.703a.749.749 0 1 1 .832-1.248l1.055.703c.487.325.779.871.779 1.456v5.965A1.75 1.75 0 0 1 14.25 16h-3.5a.766.766 0 0 1-.197-.026c-.099.017-.2.026-.303.026h-3a.75.75 0 0 1-.75-.75V14h-1v1.25a.75.75 0 0 1-.75.75Zm-.25-1.75c0 .138.112.25.25.25H4v-1.25a.75.75 0 0 1 .75-.75h2.5a.75.75 0 0 1 .75.75v1.25h2.25a.25.25 0 0 0 .25-.25V1.75a.25.25 0 0 0-.25-.25h-8.5a.25.25 0 0 0-.25.25ZM3.75 6h.5a.75.75 0 0 1 0 1.5h-.5a.75.75 0 0 1 0-1.5ZM3 3.75A.75.75 0 0 1 3.75 3h.5a.75.75 0 0 1 0 1.5h-.5A.75.75 0 0 1 3 3.75Zm4 3A.75.75 0 0 1 7.75 6h.5a.75.75 0 0 1 0 1.5h-.5A.75.75 0 0 1 7 6.75ZM7.75 3h.5a.75.75 0 0 1 0 1.5h-.5a.75.75 0 0 1 0-1.5ZM3 9.75A.75.75 0 0 1 3.75 9h.5a.75.75 0 0 1 0 1.5h-.5A.75.75 0 0 1 3 9.75ZM7.75 9h.5a.75.75 0 0 1 0 1.5h-.5a.75.75 0 0 1 0-1.5Z"></path>
</svg>
</template>

<template id="rocket-icon">
  <svg aria-hidden="true" height="16" viewBox="0 0 16 16" version="1.1" width="16" data-view-component="true" class="octicon octicon-rocket">
    <path d="M14.064 0h.186C15.216 0 16 .784 16 1.75v.186a8.752 8.752 0 0 1-2.564 6.186l-.458.459c-.314.314-.641.616-.979.904v3.207c0 .608-.315 1.172-.833 1.49l-2.774 1.707a.749.749 0 0 1-1.11-.418l-.954-3.102a1.214 1.214 0 0 1-.145-.125L3.754 9.816a1.218 1.218 0 0 1-.124-.145L.528 8.717a.749.749 0 0 1-.418-1.11l1.71-2.774A1.748 1.748 0 0 1 3.31 4h3.204c.288-.338.59-.665.904-.979l.459-.458A8.749 8.749 0 0 1 14.064 0ZM8.938 3.623h-.002l-.458.458c-.76.76-1.437 1.598-2.02 2.5l-1.5 2.317 2.143 2.143 2.317-1.5c.902-.583 1.74-1.26 2.499-2.02l.459-.458a7.25 7.25 0 0 0 2.123-5.127V1.75a.25.25 0 0 0-.25-.25h-.186a7.249 7.249 0 0 0-5.125 2.123ZM3.56 14.56c-.732.732-2.334 1.045-3.005 1.148a.234.234 0 0 1-.201-.064.234.234 0 0 1-.064-.201c.103-.671.416-2.273 1.15-3.003a1.502 1.502 0 1 1 2.12 2.12Zm6.94-3.935c-.088.06-.177.118-.266.175l-2.35 1.521.548 1.783 1.949-1.2a.25.25 0 0 0 .119-.213ZM3.678 8.116 5.2 5.766c.058-.09.117-.178.176-.266H3.309a.25.25 0 0 0-.213.119l-1.2 1.95ZM12 5a1 1 0 1 1-2 0 1 1 0 0 1 2 0Z"></path>
</svg>
</template>

<template id="shield-check-icon">
  <svg aria-hidden="true" height="16" viewBox="0 0 16 16" version="1.1" width="16" data-view-component="true" class="octicon octicon-shield-check">
    <path d="m8.533.133 5.25 1.68A1.75 1.75 0 0 1 15 3.48V7c0 1.566-.32 3.182-1.303 4.682-.983 1.498-2.585 2.813-5.032 3.855a1.697 1.697 0 0 1-1.33 0c-2.447-1.042-4.049-2.357-5.032-3.855C1.32 10.182 1 8.566 1 7V3.48a1.75 1.75 0 0 1 1.217-1.667l5.25-1.68a1.748 1.748 0 0 1 1.066 0Zm-.61 1.429.001.001-5.25 1.68a.251.251 0 0 0-.174.237V7c0 1.36.275 2.666 1.057 3.859.784 1.194 2.121 2.342 4.366 3.298a.196.196 0 0 0 .154 0c2.245-.957 3.582-2.103 4.366-3.297C13.225 9.666 13.5 8.358 13.5 7V3.48a.25.25 0 0 0-.174-.238l-5.25-1.68a.25.25 0 0 0-.153 0ZM11.28 6.28l-3.5 3.5a.75.75 0 0 1-1.06 0l-1.5-1.5a.749.749 0 0 1 .326-1.275.749.749 0 0 1 .734.215l.97.97 2.97-2.97a.751.751 0 0 1 1.042.018.751.751 0 0 1 .018 1.042Z"></path>
</svg>
</template>

<template id="heart-icon">
  <svg aria-hidden="true" height="16" viewBox="0 0 16 16" version="1.1" width="16" data-view-component="true" class="octicon octicon-heart">
    <path d="m8 14.25.345.666a.75.75 0 0 1-.69 0l-.008-.004-.018-.01a7.152 7.152 0 0 1-.31-.17 22.055 22.055 0 0 1-3.434-2.414C2.045 10.731 0 8.35 0 5.5 0 2.836 2.086 1 4.25 1 5.797 1 7.153 1.802 8 3.02 8.847 1.802 10.203 1 11.75 1 13.914 1 16 2.836 16 5.5c0 2.85-2.045 5.231-3.885 6.818a22.066 22.066 0 0 1-3.744 2.584l-.018.01-.006.003h-.002ZM4.25 2.5c-1.336 0-2.75 1.164-2.75 3 0 2.15 1.58 4.144 3.365 5.682A20.58 20.58 0 0 0 8 13.393a20.58 20.58 0 0 0 3.135-2.211C12.92 9.644 14.5 7.65 14.5 5.5c0-1.836-1.414-3-2.75-3-1.373 0-2.609.986-3.029 2.456a.749.749 0 0 1-1.442 0C6.859 3.486 5.623 2.5 4.25 2.5Z"></path>
</svg>
</template>

<template id="server-icon">
  <svg aria-hidden="true" height="16" viewBox="0 0 16 16" version="1.1" width="16" data-view-component="true" class="octicon octicon-server">
    <path d="M1.75 1h12.5c.966 0 1.75.784 1.75 1.75v4c0 .372-.116.717-.314 1 .198.283.314.628.314 1v4a1.75 1.75 0 0 1-1.75 1.75H1.75A1.75 1.75 0 0 1 0 12.75v-4c0-.358.109-.707.314-1a1.739 1.739 0 0 1-.314-1v-4C0 1.784.784 1 1.75 1ZM1.5 2.75v4c0 .138.112.25.25.25h12.5a.25.25 0 0 0 .25-.25v-4a.25.25 0 0 0-.25-.25H1.75a.25.25 0 0 0-.25.25Zm.25 5.75a.25.25 0 0 0-.25.25v4c0 .138.112.25.25.25h12.5a.25.25 0 0 0 .25-.25v-4a.25.25 0 0 0-.25-.25ZM7 4.75A.75.75 0 0 1 7.75 4h4.5a.75.75 0 0 1 0 1.5h-4.5A.75.75 0 0 1 7 4.75ZM7.75 10h4.5a.75.75 0 0 1 0 1.5h-4.5a.75.75 0 0 1 0-1.5ZM3 4.75A.75.75 0 0 1 3.75 4h.5a.75.75 0 0 1 0 1.5h-.5A.75.75 0 0 1 3 4.75ZM3.75 10h.5a.75.75 0 0 1 0 1.5h-.5a.75.75 0 0 1 0-1.5Z"></path>
</svg>
</template>

<template id="globe-icon">
  <svg aria-hidden="true" height="16" viewBox="0 0 16 16" version="1.1" width="16" data-view-component="true" class="octicon octicon-globe">
    <path d="M8 0a8 8 0 1 1 0 16A8 8 0 0 1 8 0ZM5.78 8.75a9.64 9.64 0 0 0 1.363 4.177c.255.426.542.832.857 1.215.245-.296.551-.705.857-1.215A9.64 9.64 0 0 0 10.22 8.75Zm4.44-1.5a9.64 9.64 0 0 0-1.363-4.177c-.307-.51-.612-.919-.857-1.215a9.927 9.927 0 0 0-.857 1.215A9.64 9.64 0 0 0 5.78 7.25Zm-5.944 1.5H1.543a6.507 6.507 0 0 0 4.666 5.5c-.123-.181-.24-.365-.352-.552-.715-1.192-1.437-2.874-1.581-4.948Zm-2.733-1.5h2.733c.144-2.074.866-3.756 1.58-4.948.12-.197.237-.381.353-.552a6.507 6.507 0 0 0-4.666 5.5Zm10.181 1.5c-.144 2.074-.866 3.756-1.58 4.948-.12.197-.237.381-.353.552a6.507 6.507 0 0 0 4.666-5.5Zm2.733-1.5a6.507 6.507 0 0 0-4.666-5.5c.123.181.24.365.353.552.714 1.192 1.436 2.874 1.58 4.948Z"></path>
</svg>
</template>

<template id="issue-opened-icon">
  <svg aria-hidden="true" height="16" viewBox="0 0 16 16" version="1.1" width="16" data-view-component="true" class="octicon octicon-issue-opened">
    <path d="M8 9.5a1.5 1.5 0 1 0 0-3 1.5 1.5 0 0 0 0 3Z"></path><path d="M8 0a8 8 0 1 1 0 16A8 8 0 0 1 8 0ZM1.5 8a6.5 6.5 0 1 0 13 0 6.5 6.5 0 0 0-13 0Z"></path>
</svg>
</template>

<template id="device-mobile-icon">
  <svg aria-hidden="true" height="16" viewBox="0 0 16 16" version="1.1" width="16" data-view-component="true" class="octicon octicon-device-mobile">
    <path d="M3.75 0h8.5C13.216 0 14 .784 14 1.75v12.5A1.75 1.75 0 0 1 12.25 16h-8.5A1.75 1.75 0 0 1 2 14.25V1.75C2 .784 2.784 0 3.75 0ZM3.5 1.75v12.5c0 .138.112.25.25.25h8.5a.25.25 0 0 0 .25-.25V1.75a.25.25 0 0 0-.25-.25h-8.5a.25.25 0 0 0-.25.25ZM8 13a1 1 0 1 1 0-2 1 1 0 0 1 0 2Z"></path>
</svg>
</template>

<template id="package-icon">
  <svg aria-hidden="true" height="16" viewBox="0 0 16 16" version="1.1" width="16" data-view-component="true" class="octicon octicon-package">
    <path d="m8.878.392 5.25 3.045c.54.314.872.89.872 1.514v6.098a1.75 1.75 0 0 1-.872 1.514l-5.25 3.045a1.75 1.75 0 0 1-1.756 0l-5.25-3.045A1.75 1.75 0 0 1 1 11.049V4.951c0-.624.332-1.201.872-1.514L7.122.392a1.75 1.75 0 0 1 1.756 0ZM7.875 1.69l-4.63 2.685L8 7.133l4.755-2.758-4.63-2.685a.248.248 0 0 0-.25 0ZM2.5 5.677v5.372c0 .09.047.171.125.216l4.625 2.683V8.432Zm6.25 8.271 4.625-2.683a.25.25 0 0 0 .125-.216V5.677L8.75 8.432Z"></path>
</svg>
</template>

<template id="credit-card-icon">
  <svg aria-hidden="true" height="16" viewBox="0 0 16 16" version="1.1" width="16" data-view-component="true" class="octicon octicon-credit-card">
    <path d="M10.75 9a.75.75 0 0 0 0 1.5h1.5a.75.75 0 0 0 0-1.5h-1.5Z"></path><path d="M0 3.75C0 2.784.784 2 1.75 2h12.5c.966 0 1.75.784 1.75 1.75v8.5A1.75 1.75 0 0 1 14.25 14H1.75A1.75 1.75 0 0 1 0 12.25ZM14.5 6.5h-13v5.75c0 .138.112.25.25.25h12.5a.25.25 0 0 0 .25-.25Zm0-2.75a.25.25 0 0 0-.25-.25H1.75a.25.25 0 0 0-.25.25V5h13Z"></path>
</svg>
</template>

<template id="play-icon">
  <svg aria-hidden="true" height="16" viewBox="0 0 16 16" version="1.1" width="16" data-view-component="true" class="octicon octicon-play">
    <path d="M8 0a8 8 0 1 1 0 16A8 8 0 0 1 8 0ZM1.5 8a6.5 6.5 0 1 0 13 0 6.5 6.5 0 0 0-13 0Zm4.879-2.773 4.264 2.559a.25.25 0 0 1 0 .428l-4.264 2.559A.25.25 0 0 1 6 10.559V5.442a.25.25 0 0 1 .379-.215Z"></path>
</svg>
</template>

<template id="gift-icon">
  <svg aria-hidden="true" height="16" viewBox="0 0 16 16" version="1.1" width="16" data-view-component="true" class="octicon octicon-gift">
    <path d="M2 2.75A2.75 2.75 0 0 1 4.75 0c.983 0 1.873.42 2.57 1.232.268.318.497.668.68 1.042.183-.375.411-.725.68-1.044C9.376.42 10.266 0 11.25 0a2.75 2.75 0 0 1 2.45 4h.55c.966 0 1.75.784 1.75 1.75v2c0 .698-.409 1.301-1 1.582v4.918A1.75 1.75 0 0 1 13.25 16H2.75A1.75 1.75 0 0 1 1 14.25V9.332C.409 9.05 0 8.448 0 7.75v-2C0 4.784.784 4 1.75 4h.55c-.192-.375-.3-.8-.3-1.25ZM7.25 9.5H2.5v4.75c0 .138.112.25.25.25h4.5Zm1.5 0v5h4.5a.25.25 0 0 0 .25-.25V9.5Zm0-4V8h5.5a.25.25 0 0 0 .25-.25v-2a.25.25 0 0 0-.25-.25Zm-7 0a.25.25 0 0 0-.25.25v2c0 .138.112.25.25.25h5.5V5.5h-5.5Zm3-4a1.25 1.25 0 0 0 0 2.5h2.309c-.233-.818-.542-1.401-.878-1.793-.43-.502-.915-.707-1.431-.707ZM8.941 4h2.309a1.25 1.25 0 0 0 0-2.5c-.516 0-1 .205-1.43.707-.337.392-.646.975-.879 1.793Z"></path>
</svg>
</template>

<template id="code-square-icon">
  <svg aria-hidden="true" height="16" viewBox="0 0 16 16" version="1.1" width="16" data-view-component="true" class="octicon octicon-code-square">
    <path d="M0 1.75C0 .784.784 0 1.75 0h12.5C15.216 0 16 .784 16 1.75v12.5A1.75 1.75 0 0 1 14.25 16H1.75A1.75 1.75 0 0 1 0 14.25Zm1.75-.25a.25.25 0 0 0-.25.25v12.5c0 .138.112.25.25.25h12.5a.25.25 0 0 0 .25-.25V1.75a.25.25 0 0 0-.25-.25Zm7.47 3.97a.75.75 0 0 1 1.06 0l2 2a.75.75 0 0 1 0 1.06l-2 2a.749.749 0 0 1-1.275-.326.749.749 0 0 1 .215-.734L10.69 8 9.22 6.53a.75.75 0 0 1 0-1.06ZM6.78 6.53 5.31 8l1.47 1.47a.749.749 0 0 1-.326 1.275.749.749 0 0 1-.734-.215l-2-2a.75.75 0 0 1 0-1.06l2-2a.751.751 0 0 1 1.042.018.751.751 0 0 1 .018 1.042Z"></path>
</svg>
</template>

<template id="device-desktop-icon">
  <svg aria-hidden="true" height="16" viewBox="0 0 16 16" version="1.1" width="16" data-view-component="true" class="octicon octicon-device-desktop">
    <path d="M14.25 1c.966 0 1.75.784 1.75 1.75v7.5A1.75 1.75 0 0 1 14.25 12h-3.727c.099 1.041.52 1.872 1.292 2.757A.752.752 0 0 1 11.25 16h-6.5a.75.75 0 0 1-.565-1.243c.772-.885 1.192-1.716 1.292-2.757H1.75A1.75 1.75 0 0 1 0 10.25v-7.5C0 1.784.784 1 1.75 1ZM1.75 2.5a.25.25 0 0 0-.25.25v7.5c0 .138.112.25.25.25h12.5a.25.25 0 0 0 .25-.25v-7.5a.25.25 0 0 0-.25-.25ZM9.018 12H6.982a5.72 5.72 0 0 1-.765 2.5h3.566a5.72 5.72 0 0 1-.765-2.5Z"></path>
</svg>
</template>

        <div class="position-relative">
                <ul
                  role="listbox"
                  class="ActionListWrap QueryBuilder-ListWrap"
                  aria-label="Suggestions"
                  data-action="
                    combobox-commit:query-builder#comboboxCommit
                    mousedown:query-builder#resultsMousedown
                  "
                  data-target="query-builder.resultsList"
                  data-persist-list=false
                  id="query-builder-test-results"
                ></ul>
        </div>
      <div class="FormControl-inlineValidation" id="validation-8eb78910-e33e-4f59-a851-a8afee799153" hidden="hidden">
        <span class="FormControl-inlineValidation--visual">
          <svg aria-hidden="true" height="12" viewBox="0 0 12 12" version="1.1" width="12" data-view-component="true" class="octicon octicon-alert-fill">
    <path d="M4.855.708c.5-.896 1.79-.896 2.29 0l4.675 8.351a1.312 1.312 0 0 1-1.146 1.954H1.33A1.313 1.313 0 0 1 .183 9.058ZM7 7V3H5v4Zm-1 3a1 1 0 1 0 0-2 1 1 0 0 0 0 2Z"></path>
</svg>
        </span>
        <span></span>
</div>    </div>
    <div data-target="query-builder.screenReaderFeedback" aria-live="polite" aria-atomic="true" class="sr-only"></div>
</query-builder></form>
          <div class="d-flex flex-row color-fg-muted px-3 text-small color-bg-default search-feedback-prompt">
            <a target="_blank" href="https://docs.github.com/search-github/github-code-search/understanding-github-code-search-syntax" data-view-component="true" class="Link color-fg-accent text-normal ml-2">
              Search syntax tips
</a>            <div class="d-flex flex-1"></div>
              <button data-action="click:qbsearch-input#showFeedbackDialog" type="button" data-view-component="true" class="Button--link Button--medium Button color-fg-accent text-normal ml-2">  <span class="Button-content">
    <span class="Button-label">Give feedback</span>
  </span>
</button>
          </div>
        </div>
</div>

    </div>
</modal-dialog></div>
  </div>
  <div data-action="click:qbsearch-input#retract" class="dark-backdrop position-fixed" hidden data-target="qbsearch-input.darkBackdrop"></div>
  <div class="color-fg-default">
    
<dialog-helper>
  <dialog data-target="qbsearch-input.feedbackDialog" data-action="close:qbsearch-input#handleDialogClose cancel:qbsearch-input#handleDialogClose" id="feedback-dialog" aria-modal="true" aria-labelledby="feedback-dialog-title" aria-describedby="feedback-dialog-description" data-view-component="true" class="Overlay Overlay-whenNarrow Overlay--size-medium Overlay--motion-scaleFade">
    <div data-view-component="true" class="Overlay-header">
  <div class="Overlay-headerContentWrap">
    <div class="Overlay-titleWrap">
      <h1 class="Overlay-title " id="feedback-dialog-title">
        Provide feedback
      </h1>
    </div>
    <div class="Overlay-actionWrap">
      <button data-close-dialog-id="feedback-dialog" aria-label="Close" type="button" data-view-component="true" class="close-button Overlay-closeButton"><svg aria-hidden="true" height="16" viewBox="0 0 16 16" version="1.1" width="16" data-view-component="true" class="octicon octicon-x">
    <path d="M3.72 3.72a.75.75 0 0 1 1.06 0L8 6.94l3.22-3.22a.749.749 0 0 1 1.275.326.749.749 0 0 1-.215.734L9.06 8l3.22 3.22a.749.749 0 0 1-.326 1.275.749.749 0 0 1-.734-.215L8 9.06l-3.22 3.22a.751.751 0 0 1-1.042-.018.751.751 0 0 1-.018-1.042L6.94 8 3.72 4.78a.75.75 0 0 1 0-1.06Z"></path>
</svg></button>
    </div>
  </div>
</div>
      <scrollable-region data-labelled-by="feedback-dialog-title">
        <div data-view-component="true" class="Overlay-body">        <!-- '"` --><!-- </textarea></xmp> --></option></form><form id="code-search-feedback-form" data-turbo="false" action="/search/feedback" accept-charset="UTF-8" method="post"><input type="hidden" name="authenticity_token" value="tav-Fz4szpuzV-wfMgGFWFgXIfYf-PCNObPDFhaGDstlgOVE_tEyoky96zKpM_rzu9xOLvZdiSMDxAgUKQRd6Q" />
          <p>We read every piece of feedback, and take your input very seriously.</p>
          <textarea name="feedback" class="form-control width-full mb-2" style="height: 120px" id="feedback"></textarea>
          <input name="include_email" id="include_email" aria-label="Include my email address so I can be contacted" class="form-control mr-2" type="checkbox">
          <label for="include_email" style="font-weight: normal">Include my email address so I can be contacted</label>
</form></div>
      </scrollable-region>
      <div data-view-component="true" class="Overlay-footer Overlay-footer--alignEnd">          <button data-close-dialog-id="feedback-dialog" type="button" data-view-component="true" class="btn">    Cancel
</button>
          <button form="code-search-feedback-form" data-action="click:qbsearch-input#submitFeedback" type="submit" data-view-component="true" class="btn-primary btn">    Submit feedback
</button>
</div>
</dialog></dialog-helper>

    <custom-scopes data-target="qbsearch-input.customScopesManager">
    
<dialog-helper>
  <dialog data-target="custom-scopes.customScopesModalDialog" data-action="close:qbsearch-input#handleDialogClose cancel:qbsearch-input#handleDialogClose" id="custom-scopes-dialog" aria-modal="true" aria-labelledby="custom-scopes-dialog-title" aria-describedby="custom-scopes-dialog-description" data-view-component="true" class="Overlay Overlay-whenNarrow Overlay--size-medium Overlay--motion-scaleFade">
    <div data-view-component="true" class="Overlay-header Overlay-header--divided">
  <div class="Overlay-headerContentWrap">
    <div class="Overlay-titleWrap">
      <h1 class="Overlay-title " id="custom-scopes-dialog-title">
        Saved searches
      </h1>
        <h2 id="custom-scopes-dialog-description" class="Overlay-description">Use saved searches to filter your results more quickly</h2>
    </div>
    <div class="Overlay-actionWrap">
      <button data-close-dialog-id="custom-scopes-dialog" aria-label="Close" type="button" data-view-component="true" class="close-button Overlay-closeButton"><svg aria-hidden="true" height="16" viewBox="0 0 16 16" version="1.1" width="16" data-view-component="true" class="octicon octicon-x">
    <path d="M3.72 3.72a.75.75 0 0 1 1.06 0L8 6.94l3.22-3.22a.749.749 0 0 1 1.275.326.749.749 0 0 1-.215.734L9.06 8l3.22 3.22a.749.749 0 0 1-.326 1.275.749.749 0 0 1-.734-.215L8 9.06l-3.22 3.22a.751.751 0 0 1-1.042-.018.751.751 0 0 1-.018-1.042L6.94 8 3.72 4.78a.75.75 0 0 1 0-1.06Z"></path>
</svg></button>
    </div>
  </div>
</div>
      <scrollable-region data-labelled-by="custom-scopes-dialog-title">
        <div data-view-component="true" class="Overlay-body">        <div data-target="custom-scopes.customScopesModalDialogFlash"></div>

        <div hidden class="create-custom-scope-form" data-target="custom-scopes.createCustomScopeForm">
        <!-- '"` --><!-- </textarea></xmp> --></option></form><form id="custom-scopes-dialog-form" data-turbo="false" action="/search/custom_scopes" accept-charset="UTF-8" method="post"><input type="hidden" name="authenticity_token" value="Bv6s9m88078btBXpJxyeI6X5NyDfw-3OfvcmnOXjup-Bv4TUdXL4ymSsRuoAJHCOHD-E7_zKK5gHc2WkWh5_zA" />
          <div data-target="custom-scopes.customScopesModalDialogFlash"></div>

          <input type="hidden" id="custom_scope_id" name="custom_scope_id" data-target="custom-scopes.customScopesIdField">

          <div class="form-group">
            <label for="custom_scope_name">Name</label>
            <auto-check src="/search/custom_scopes/check_name" required>
              <input
                type="text"
                name="custom_scope_name"
                id="custom_scope_name"
                data-target="custom-scopes.customScopesNameField"
                class="form-control"
                autocomplete="off"
                placeholder="github-ruby"
                required
                maxlength="50">
              <input type="hidden" value="-xxAtvYbKG8XdaDH63MojgQIFAamNFxXVu6495ntw_zvb-zL0ZJUdUbDRAN9JDsn_rwTt4iopOLkeMpFjYrJrw" data-csrf="true" />
            </auto-check>
          </div>

          <div class="form-group">
            <label for="custom_scope_query">Query</label>
            <input
              type="text"
              name="custom_scope_query"
              id="custom_scope_query"
              data-target="custom-scopes.customScopesQueryField"
              class="form-control"
              autocomplete="off"
              placeholder="(repo:mona/a OR repo:mona/b) AND lang:python"
              required
              maxlength="500">
          </div>

          <p class="text-small color-fg-muted">
            To see all available qualifiers, see our <a class="Link--inTextBlock" href="https://docs.github.com/search-github/github-code-search/understanding-github-code-search-syntax">documentation</a>.
          </p>
</form>        </div>

        <div data-target="custom-scopes.manageCustomScopesForm">
          <div data-target="custom-scopes.list"></div>
        </div>

</div>
      </scrollable-region>
      <div data-view-component="true" class="Overlay-footer Overlay-footer--alignEnd Overlay-footer--divided">          <button data-action="click:custom-scopes#customScopesCancel" type="button" data-view-component="true" class="btn">    Cancel
</button>
          <button form="custom-scopes-dialog-form" data-action="click:custom-scopes#customScopesSubmit" data-target="custom-scopes.customScopesSubmitButton" type="submit" data-view-component="true" class="btn-primary btn">    Create saved search
</button>
</div>
</dialog></dialog-helper>
    </custom-scopes>
  </div>
</qbsearch-input><input type="hidden" value="tCKDGgzB1syY3rw8xtTAWmGesUC2CtBIQjxGCLZEEsxMHG3y2S10Cf8xBhFqBbOkt1b2ojmTBjScpkxYnwUYhw" data-csrf="true" class="js-data-jump-to-suggestions-path-csrf" />

          </div>

        <div class="AppHeader-actions position-relative">
            <action-menu data-select-variant="none" data-view-component="true">
  <focus-group direction="vertical" mnemonics retain>
    <button id="global-create-menu-button" popovertarget="global-create-menu-overlay" aria-label="Create something new" aria-controls="global-create-menu-list" aria-haspopup="true" type="button" data-view-component="true" class="AppHeader-button Button--secondary Button--medium Button width-auto color-fg-muted">  <span class="Button-content">
      <span class="Button-visual Button-leadingVisual">
        <svg aria-hidden="true" height="16" viewBox="0 0 16 16" version="1.1" width="16" data-view-component="true" class="octicon octicon-plus">
    <path d="M7.75 2a.75.75 0 0 1 .75.75V7h4.25a.75.75 0 0 1 0 1.5H8.5v4.25a.75.75 0 0 1-1.5 0V8.5H2.75a.75.75 0 0 1 0-1.5H7V2.75A.75.75 0 0 1 7.75 2Z"></path>
</svg>
      </span>
    <span class="Button-label"><svg aria-hidden="true" height="16" viewBox="0 0 16 16" version="1.1" width="16" data-view-component="true" class="octicon octicon-triangle-down">
    <path d="m4.427 7.427 3.396 3.396a.25.25 0 0 0 .354 0l3.396-3.396A.25.25 0 0 0 11.396 7H4.604a.25.25 0 0 0-.177.427Z"></path>
</svg></span>
  </span>
</button><tool-tip id="tooltip-e3b4de0e-0478-42cc-8632-801cfca5202b" for="global-create-menu-button" popover="manual" data-direction="s" data-type="description" data-view-component="true" class="sr-only position-absolute">Create new...</tool-tip>


<anchored-position id="global-create-menu-overlay" anchor="global-create-menu-button" align="end" side="outside-bottom" anchor-offset="normal" popover="auto" data-view-component="true">
  <div data-view-component="true" class="Overlay Overlay--size-auto">
    
      <div data-view-component="true" class="Overlay-body Overlay-body--paddingNone">          <action-list>
  <div data-view-component="true">
    <ul aria-labelledby="global-create-menu-button" id="global-create-menu-list" role="menu" data-view-component="true" class="ActionListWrap--inset ActionListWrap">
        <li data-analytics-event="{&quot;category&quot;:&quot;SiteHeaderComponent&quot;,&quot;action&quot;:&quot;add_dropdown&quot;,&quot;label&quot;:&quot;new repository&quot;}" data-targets="action-list.items" role="none" data-view-component="true" class="ActionListItem">
    
    <a href="/new" tabindex="-1" id="item-2739c6c9-7ae5-449c-b7c7-3e51335cd591" role="menuitem" data-view-component="true" class="ActionListContent ActionListContent--visual16">
        <span class="ActionListItem-visual ActionListItem-visual--leading">
          <svg aria-hidden="true" height="16" viewBox="0 0 16 16" version="1.1" width="16" data-view-component="true" class="octicon octicon-repo">
    <path d="M2 2.5A2.5 2.5 0 0 1 4.5 0h8.75a.75.75 0 0 1 .75.75v12.5a.75.75 0 0 1-.75.75h-2.5a.75.75 0 0 1 0-1.5h1.75v-2h-8a1 1 0 0 0-.714 1.7.75.75 0 1 1-1.072 1.05A2.495 2.495 0 0 1 2 11.5Zm10.5-1h-8a1 1 0 0 0-1 1v6.708A2.486 2.486 0 0 1 4.5 9h8ZM5 12.25a.25.25 0 0 1 .25-.25h3.5a.25.25 0 0 1 .25.25v3.25a.25.25 0 0 1-.4.2l-1.45-1.087a.249.249 0 0 0-.3 0L5.4 15.7a.25.25 0 0 1-.4-.2Z"></path>
</svg>
        </span>
      
        <span data-view-component="true" class="ActionListItem-label">
                  New repository

</span></a>
  
  
</li>
        <li data-analytics-event="{&quot;category&quot;:&quot;SiteHeaderComponent&quot;,&quot;action&quot;:&quot;add_dropdown&quot;,&quot;label&quot;:&quot;import repository&quot;}" data-targets="action-list.items" role="none" data-view-component="true" class="ActionListItem">
    
    <a href="/new/import" tabindex="-1" id="item-a7002c43-0726-43d6-ad33-8069cf2976a9" role="menuitem" data-view-component="true" class="ActionListContent ActionListContent--visual16">
        <span class="ActionListItem-visual ActionListItem-visual--leading">
          <svg aria-hidden="true" height="16" viewBox="0 0 16 16" version="1.1" width="16" data-view-component="true" class="octicon octicon-repo-push">
    <path d="M1 2.5A2.5 2.5 0 0 1 3.5 0h8.75a.75.75 0 0 1 .75.75v3.5a.75.75 0 0 1-1.5 0V1.5h-8a1 1 0 0 0-1 1v6.708A2.493 2.493 0 0 1 3.5 9h3.25a.75.75 0 0 1 0 1.5H3.5a1 1 0 0 0 0 2h5.75a.75.75 0 0 1 0 1.5H3.5A2.5 2.5 0 0 1 1 11.5Zm13.23 7.79h-.001l-1.224-1.224v6.184a.75.75 0 0 1-1.5 0V9.066L10.28 10.29a.75.75 0 0 1-1.06-1.061l2.505-2.504a.75.75 0 0 1 1.06 0L15.29 9.23a.751.751 0 0 1-.018 1.042.751.751 0 0 1-1.042.018Z"></path>
</svg>
        </span>
      
        <span data-view-component="true" class="ActionListItem-label">
                  Import repository

</span></a>
  
  
</li>
        <li role="presentation" aria-hidden="true" data-view-component="true" class="ActionList-sectionDivider"></li>
        <li data-analytics-event="{&quot;category&quot;:&quot;SiteHeaderComponent&quot;,&quot;action&quot;:&quot;add_dropdown&quot;,&quot;label&quot;:&quot;new codespace&quot;}" data-targets="action-list.items" role="none" data-view-component="true" class="ActionListItem">
    
    <a href="/codespaces/new" tabindex="-1" id="item-0696440d-e5db-4676-a5b1-a638f72b48d9" role="menuitem" data-view-component="true" class="ActionListContent ActionListContent--visual16">
        <span class="ActionListItem-visual ActionListItem-visual--leading">
          <svg aria-hidden="true" height="16" viewBox="0 0 16 16" version="1.1" width="16" data-view-component="true" class="octicon octicon-codespaces">
    <path d="M0 11.25c0-.966.784-1.75 1.75-1.75h12.5c.966 0 1.75.784 1.75 1.75v3A1.75 1.75 0 0 1 14.25 16H1.75A1.75 1.75 0 0 1 0 14.25Zm2-9.5C2 .784 2.784 0 3.75 0h8.5C13.216 0 14 .784 14 1.75v5a1.75 1.75 0 0 1-1.75 1.75h-8.5A1.75 1.75 0 0 1 2 6.75Zm1.75-.25a.25.25 0 0 0-.25.25v5c0 .138.112.25.25.25h8.5a.25.25 0 0 0 .25-.25v-5a.25.25 0 0 0-.25-.25Zm-2 9.5a.25.25 0 0 0-.25.25v3c0 .138.112.25.25.25h12.5a.25.25 0 0 0 .25-.25v-3a.25.25 0 0 0-.25-.25Z"></path><path d="M7 12.75a.75.75 0 0 1 .75-.75h4.5a.75.75 0 0 1 0 1.5h-4.5a.75.75 0 0 1-.75-.75Zm-4 0a.75.75 0 0 1 .75-.75h.5a.75.75 0 0 1 0 1.5h-.5a.75.75 0 0 1-.75-.75Z"></path>
</svg>
        </span>
      
        <span data-view-component="true" class="ActionListItem-label">
                  New codespace

</span></a>
  
  
</li>
        <li data-analytics-event="{&quot;category&quot;:&quot;SiteHeaderComponent&quot;,&quot;action&quot;:&quot;add_dropdown&quot;,&quot;label&quot;:&quot;new gist&quot;}" data-targets="action-list.items" role="none" data-view-component="true" class="ActionListItem">
    
    <a href="https://gist.github.com/" tabindex="-1" id="item-73061ccb-3436-4e27-8fc5-9926699a8ec1" role="menuitem" data-view-component="true" class="ActionListContent ActionListContent--visual16">
        <span class="ActionListItem-visual ActionListItem-visual--leading">
          <svg aria-hidden="true" height="16" viewBox="0 0 16 16" version="1.1" width="16" data-view-component="true" class="octicon octicon-code">
    <path d="m11.28 3.22 4.25 4.25a.75.75 0 0 1 0 1.06l-4.25 4.25a.749.749 0 0 1-1.275-.326.749.749 0 0 1 .215-.734L13.94 8l-3.72-3.72a.749.749 0 0 1 .326-1.275.749.749 0 0 1 .734.215Zm-6.56 0a.751.751 0 0 1 1.042.018.751.751 0 0 1 .018 1.042L2.06 8l3.72 3.72a.749.749 0 0 1-.326 1.275.749.749 0 0 1-.734-.215L.47 8.53a.75.75 0 0 1 0-1.06Z"></path>
</svg>
        </span>
      
        <span data-view-component="true" class="ActionListItem-label">
                  New gist

</span></a>
  
  
</li>
        <li role="presentation" aria-hidden="true" data-view-component="true" class="ActionList-sectionDivider"></li>
        <li data-targets="action-list.items" role="none" data-view-component="true" class="ActionListItem">
    
    <a href="/account/organizations/new" tabindex="-1" data-dont-follow-via-test="true" data-analytics-event="{&quot;category&quot;:&quot;SiteHeaderComponent&quot;,&quot;action&quot;:&quot;add_dropdown&quot;,&quot;label&quot;:&quot;new organization&quot;}" id="item-a9386ec8-ffc2-47d9-9e40-061263f413da" role="menuitem" data-view-component="true" class="ActionListContent ActionListContent--visual16">
        <span class="ActionListItem-visual ActionListItem-visual--leading">
          <svg aria-hidden="true" height="16" viewBox="0 0 16 16" version="1.1" width="16" data-view-component="true" class="octicon octicon-organization">
    <path d="M1.75 16A1.75 1.75 0 0 1 0 14.25V1.75C0 .784.784 0 1.75 0h8.5C11.216 0 12 .784 12 1.75v12.5c0 .085-.006.168-.018.25h2.268a.25.25 0 0 0 .25-.25V8.285a.25.25 0 0 0-.111-.208l-1.055-.703a.749.749 0 1 1 .832-1.248l1.055.703c.487.325.779.871.779 1.456v5.965A1.75 1.75 0 0 1 14.25 16h-3.5a.766.766 0 0 1-.197-.026c-.099.017-.2.026-.303.026h-3a.75.75 0 0 1-.75-.75V14h-1v1.25a.75.75 0 0 1-.75.75Zm-.25-1.75c0 .138.112.25.25.25H4v-1.25a.75.75 0 0 1 .75-.75h2.5a.75.75 0 0 1 .75.75v1.25h2.25a.25.25 0 0 0 .25-.25V1.75a.25.25 0 0 0-.25-.25h-8.5a.25.25 0 0 0-.25.25ZM3.75 6h.5a.75.75 0 0 1 0 1.5h-.5a.75.75 0 0 1 0-1.5ZM3 3.75A.75.75 0 0 1 3.75 3h.5a.75.75 0 0 1 0 1.5h-.5A.75.75 0 0 1 3 3.75Zm4 3A.75.75 0 0 1 7.75 6h.5a.75.75 0 0 1 0 1.5h-.5A.75.75 0 0 1 7 6.75ZM7.75 3h.5a.75.75 0 0 1 0 1.5h-.5a.75.75 0 0 1 0-1.5ZM3 9.75A.75.75 0 0 1 3.75 9h.5a.75.75 0 0 1 0 1.5h-.5A.75.75 0 0 1 3 9.75ZM7.75 9h.5a.75.75 0 0 1 0 1.5h-.5a.75.75 0 0 1 0-1.5Z"></path>
</svg>
        </span>
      
        <span data-view-component="true" class="ActionListItem-label">
                  New organization

</span></a>
  
  
</li>
</ul>    
</div></action-list>


</div>
      
</div></anchored-position>  </focus-group>
</action-menu>


          <a href="/issues" data-analytics-event="{&quot;category&quot;:&quot;Global navigation&quot;,&quot;action&quot;:&quot;ISSUES_HEADER&quot;,&quot;label&quot;:null}" id="icon-button-6e6e65b1-7d08-4785-ad5a-623d68ea8b5c" aria-labelledby="tooltip-8ff0629d-4e29-4f91-98a8-e7f09a30fe50" data-view-component="true" class="Button Button--iconOnly Button--secondary Button--medium AppHeader-button color-fg-muted">  <svg aria-hidden="true" height="16" viewBox="0 0 16 16" version="1.1" width="16" data-view-component="true" class="octicon octicon-issue-opened Button-visual">
    <path d="M8 9.5a1.5 1.5 0 1 0 0-3 1.5 1.5 0 0 0 0 3Z"></path><path d="M8 0a8 8 0 1 1 0 16A8 8 0 0 1 8 0ZM1.5 8a6.5 6.5 0 1 0 13 0 6.5 6.5 0 0 0-13 0Z"></path>
</svg>
</a><tool-tip id="tooltip-8ff0629d-4e29-4f91-98a8-e7f09a30fe50" for="icon-button-6e6e65b1-7d08-4785-ad5a-623d68ea8b5c" popover="manual" data-direction="s" data-type="label" data-view-component="true" class="sr-only position-absolute">Issues</tool-tip>

          <a href="/pulls" data-analytics-event="{&quot;category&quot;:&quot;Global navigation&quot;,&quot;action&quot;:&quot;PULL_REQUESTS_HEADER&quot;,&quot;label&quot;:null}" id="icon-button-26f5c805-3b37-4e8e-973d-5cf41709b483" aria-labelledby="tooltip-0409ae7e-3dc4-4e94-a0e2-23bae5528d15" data-view-component="true" class="Button Button--iconOnly Button--secondary Button--medium AppHeader-button color-fg-muted">  <svg aria-hidden="true" height="16" viewBox="0 0 16 16" version="1.1" width="16" data-view-component="true" class="octicon octicon-git-pull-request Button-visual">
    <path d="M1.5 3.25a2.25 2.25 0 1 1 3 2.122v5.256a2.251 2.251 0 1 1-1.5 0V5.372A2.25 2.25 0 0 1 1.5 3.25Zm5.677-.177L9.573.677A.25.25 0 0 1 10 .854V2.5h1A2.5 2.5 0 0 1 13.5 5v5.628a2.251 2.251 0 1 1-1.5 0V5a1 1 0 0 0-1-1h-1v1.646a.25.25 0 0 1-.427.177L7.177 3.427a.25.25 0 0 1 0-.354ZM3.75 2.5a.75.75 0 1 0 0 1.5.75.75 0 0 0 0-1.5Zm0 9.5a.75.75 0 1 0 0 1.5.75.75 0 0 0 0-1.5Zm8.25.75a.75.75 0 1 0 1.5 0 .75.75 0 0 0-1.5 0Z"></path>
</svg>
</a><tool-tip id="tooltip-0409ae7e-3dc4-4e94-a0e2-23bae5528d15" for="icon-button-26f5c805-3b37-4e8e-973d-5cf41709b483" popover="manual" data-direction="s" data-type="label" data-view-component="true" class="sr-only position-absolute">Pull requests</tool-tip>

        </div>

        
<notification-indicator data-channel="eyJjIjoibm90aWZpY2F0aW9uLWNoYW5nZWQ6NDI3NDczNTgiLCJ0IjoxNzEyNzU5NzE2fQ==--2efaa9d17b39c2cf45aa0e521d0f879c71916da82d49ee8b5c31228359c01586" data-indicator-mode="none" data-tooltip-global="You have unread notifications" data-tooltip-unavailable="Notifications are unavailable at the moment." data-tooltip-none="You have no unread notifications" data-header-redesign-enabled="true" data-fetch-indicator-src="/notifications/indicator" data-fetch-indicator-enabled="true" data-view-component="true" class="js-socket-channel">
    <a id="AppHeader-notifications-button" href="/notifications" aria-label="Notifications" data-hotkey="g n" data-target="notification-indicator.link" data-analytics-event="{&quot;category&quot;:&quot;Global navigation&quot;,&quot;action&quot;:&quot;NOTIFICATIONS_HEADER&quot;,&quot;label&quot;:null}" data-view-component="true" class="Button Button--iconOnly Button--secondary Button--medium AppHeader-button  color-fg-muted">  <svg aria-hidden="true" height="16" viewBox="0 0 16 16" version="1.1" width="16" data-view-component="true" class="octicon octicon-inbox Button-visual">
    <path d="M2.8 2.06A1.75 1.75 0 0 1 4.41 1h7.18c.7 0 1.333.417 1.61 1.06l2.74 6.395c.04.093.06.194.06.295v4.5A1.75 1.75 0 0 1 14.25 15H1.75A1.75 1.75 0 0 1 0 13.25v-4.5c0-.101.02-.202.06-.295Zm1.61.44a.25.25 0 0 0-.23.152L1.887 8H4.75a.75.75 0 0 1 .6.3L6.625 10h2.75l1.275-1.7a.75.75 0 0 1 .6-.3h2.863L11.82 2.652a.25.25 0 0 0-.23-.152Zm10.09 7h-2.875l-1.275 1.7a.75.75 0 0 1-.6.3h-3.5a.75.75 0 0 1-.6-.3L4.375 9.5H1.5v3.75c0 .138.112.25.25.25h12.5a.25.25 0 0 0 .25-.25Z"></path>
</svg>
</a>

    <tool-tip data-target="notification-indicator.tooltip" id="tooltip-bba0e81a-4837-466a-93c2-ff2188825809" for="AppHeader-notifications-button" popover="manual" data-direction="s" data-type="description" data-view-component="true" class="sr-only position-absolute">Notifications</tool-tip>
</notification-indicator>

        

        <div class="AppHeader-user">
          <deferred-side-panel data-url="/_side-panels/user?react_global_nav=false&amp;repository_id=778068514">
  <include-fragment data-target="deferred-side-panel.fragment">
        <user-drawer-side-panel>
      <button aria-label="Open user account menu" data-action="click:deferred-side-panel#loadPanel click:deferred-side-panel#panelOpened" data-show-dialog-id="dialog-b532d563-ccdb-4c8b-99c8-0e46836b1651" id="dialog-show-dialog-b532d563-ccdb-4c8b-99c8-0e46836b1651" type="button" data-view-component="true" class="AppHeader-logo Button--invisible Button--medium Button Button--invisible-noVisuals color-bg-transparent p-0">  <span class="Button-content">
    <span class="Button-label"><img src="https://avatars.githubusercontent.com/u/42747358?v=4" alt="" size="32" height="32" width="32" data-view-component="true" class="avatar circle" /></span>
  </span>
</button>

<dialog-helper>
  <dialog data-target="deferred-side-panel.panel" id="dialog-b532d563-ccdb-4c8b-99c8-0e46836b1651" aria-modal="true" aria-labelledby="dialog-b532d563-ccdb-4c8b-99c8-0e46836b1651-title" aria-describedby="dialog-b532d563-ccdb-4c8b-99c8-0e46836b1651-description" data-view-component="true" class="Overlay Overlay-whenNarrow Overlay--size-small-portrait Overlay--motion-scaleFade Overlay--placement-right SidePanel">
    <div styles="flex-direction: row;" data-view-component="true" class="Overlay-header">
  <div class="Overlay-headerContentWrap">
    <div class="Overlay-titleWrap">
      <h1 class="Overlay-title sr-only" id="dialog-b532d563-ccdb-4c8b-99c8-0e46836b1651-title">
        Account menu
      </h1>
            <div data-view-component="true" class="d-flex">
      <div data-view-component="true" class="AppHeader-logo position-relative">
        <img src="https://avatars.githubusercontent.com/u/42747358?v=4" alt="" size="32" height="32" width="32" data-view-component="true" class="avatar circle" />
</div>        <div data-view-component="true" class="overflow-hidden d-flex width-full">          <div data-view-component="true" class="lh-condensed overflow-hidden d-flex flex-column flex-justify-center ml-2 f5 mr-auto width-full">
            <span data-view-component="true" class="Truncate text-bold">
    <span data-view-component="true" class="Truncate-text">
              carlos-santos1504
</span>
</span>            </div>
            <action-menu data-select-variant="none" data-view-component="true" class="d-sm-none d-md-none d-lg-none">
  <focus-group direction="vertical" mnemonics retain>
    <button id="user-create-menu-button" popovertarget="user-create-menu-overlay" aria-label="Create something new" aria-controls="user-create-menu-list" aria-haspopup="true" type="button" data-view-component="true" class="AppHeader-button Button--secondary Button--medium Button width-auto color-fg-muted">  <span class="Button-content">
      <span class="Button-visual Button-leadingVisual">
        <svg aria-hidden="true" height="16" viewBox="0 0 16 16" version="1.1" width="16" data-view-component="true" class="octicon octicon-plus">
    <path d="M7.75 2a.75.75 0 0 1 .75.75V7h4.25a.75.75 0 0 1 0 1.5H8.5v4.25a.75.75 0 0 1-1.5 0V8.5H2.75a.75.75 0 0 1 0-1.5H7V2.75A.75.75 0 0 1 7.75 2Z"></path>
</svg>
      </span>
    <span class="Button-label"><svg aria-hidden="true" height="16" viewBox="0 0 16 16" version="1.1" width="16" data-view-component="true" class="octicon octicon-triangle-down">
    <path d="m4.427 7.427 3.396 3.396a.25.25 0 0 0 .354 0l3.396-3.396A.25.25 0 0 0 11.396 7H4.604a.25.25 0 0 0-.177.427Z"></path>
</svg></span>
  </span>
</button><tool-tip id="tooltip-8176ea14-582a-4c8f-aed1-d22125263d4f" for="user-create-menu-button" popover="manual" data-direction="s" data-type="description" data-view-component="true" class="sr-only position-absolute">Create new...</tool-tip>


<anchored-position id="user-create-menu-overlay" anchor="user-create-menu-button" align="end" side="outside-bottom" anchor-offset="normal" popover="auto" data-view-component="true">
  <div data-view-component="true" class="Overlay Overlay--size-auto">
    
      <div data-view-component="true" class="Overlay-body Overlay-body--paddingNone">          <action-list>
  <div data-view-component="true">
    <ul aria-labelledby="user-create-menu-button" id="user-create-menu-list" role="menu" data-view-component="true" class="ActionListWrap--inset ActionListWrap">
        <li data-analytics-event="{&quot;category&quot;:&quot;SiteHeaderComponent&quot;,&quot;action&quot;:&quot;add_dropdown&quot;,&quot;label&quot;:&quot;new repository&quot;}" data-targets="action-list.items" role="none" data-view-component="true" class="ActionListItem">
    
    <a href="/new" tabindex="-1" id="item-58ff180a-a90d-4cbf-8c1b-4624f84556c0" role="menuitem" data-view-component="true" class="ActionListContent ActionListContent--visual16">
        <span class="ActionListItem-visual ActionListItem-visual--leading">
          <svg aria-hidden="true" height="16" viewBox="0 0 16 16" version="1.1" width="16" data-view-component="true" class="octicon octicon-repo">
    <path d="M2 2.5A2.5 2.5 0 0 1 4.5 0h8.75a.75.75 0 0 1 .75.75v12.5a.75.75 0 0 1-.75.75h-2.5a.75.75 0 0 1 0-1.5h1.75v-2h-8a1 1 0 0 0-.714 1.7.75.75 0 1 1-1.072 1.05A2.495 2.495 0 0 1 2 11.5Zm10.5-1h-8a1 1 0 0 0-1 1v6.708A2.486 2.486 0 0 1 4.5 9h8ZM5 12.25a.25.25 0 0 1 .25-.25h3.5a.25.25 0 0 1 .25.25v3.25a.25.25 0 0 1-.4.2l-1.45-1.087a.249.249 0 0 0-.3 0L5.4 15.7a.25.25 0 0 1-.4-.2Z"></path>
</svg>
        </span>
      
        <span data-view-component="true" class="ActionListItem-label">
                  New repository

</span></a>
  
  
</li>
        <li data-analytics-event="{&quot;category&quot;:&quot;SiteHeaderComponent&quot;,&quot;action&quot;:&quot;add_dropdown&quot;,&quot;label&quot;:&quot;import repository&quot;}" data-targets="action-list.items" role="none" data-view-component="true" class="ActionListItem">
    
    <a href="/new/import" tabindex="-1" id="item-d2466f43-a1ce-43e6-85fc-afdadf695a47" role="menuitem" data-view-component="true" class="ActionListContent ActionListContent--visual16">
        <span class="ActionListItem-visual ActionListItem-visual--leading">
          <svg aria-hidden="true" height="16" viewBox="0 0 16 16" version="1.1" width="16" data-view-component="true" class="octicon octicon-repo-push">
    <path d="M1 2.5A2.5 2.5 0 0 1 3.5 0h8.75a.75.75 0 0 1 .75.75v3.5a.75.75 0 0 1-1.5 0V1.5h-8a1 1 0 0 0-1 1v6.708A2.493 2.493 0 0 1 3.5 9h3.25a.75.75 0 0 1 0 1.5H3.5a1 1 0 0 0 0 2h5.75a.75.75 0 0 1 0 1.5H3.5A2.5 2.5 0 0 1 1 11.5Zm13.23 7.79h-.001l-1.224-1.224v6.184a.75.75 0 0 1-1.5 0V9.066L10.28 10.29a.75.75 0 0 1-1.06-1.061l2.505-2.504a.75.75 0 0 1 1.06 0L15.29 9.23a.751.751 0 0 1-.018 1.042.751.751 0 0 1-1.042.018Z"></path>
</svg>
        </span>
      
        <span data-view-component="true" class="ActionListItem-label">
                  Import repository

</span></a>
  
  
</li>
        <li role="presentation" aria-hidden="true" data-view-component="true" class="ActionList-sectionDivider"></li>
        <li data-analytics-event="{&quot;category&quot;:&quot;SiteHeaderComponent&quot;,&quot;action&quot;:&quot;add_dropdown&quot;,&quot;label&quot;:&quot;new codespace&quot;}" data-targets="action-list.items" role="none" data-view-component="true" class="ActionListItem">
    
    <a href="/codespaces/new" tabindex="-1" id="item-51d13611-2ef1-4d12-bc62-e413edf35de0" role="menuitem" data-view-component="true" class="ActionListContent ActionListContent--visual16">
        <span class="ActionListItem-visual ActionListItem-visual--leading">
          <svg aria-hidden="true" height="16" viewBox="0 0 16 16" version="1.1" width="16" data-view-component="true" class="octicon octicon-codespaces">
    <path d="M0 11.25c0-.966.784-1.75 1.75-1.75h12.5c.966 0 1.75.784 1.75 1.75v3A1.75 1.75 0 0 1 14.25 16H1.75A1.75 1.75 0 0 1 0 14.25Zm2-9.5C2 .784 2.784 0 3.75 0h8.5C13.216 0 14 .784 14 1.75v5a1.75 1.75 0 0 1-1.75 1.75h-8.5A1.75 1.75 0 0 1 2 6.75Zm1.75-.25a.25.25 0 0 0-.25.25v5c0 .138.112.25.25.25h8.5a.25.25 0 0 0 .25-.25v-5a.25.25 0 0 0-.25-.25Zm-2 9.5a.25.25 0 0 0-.25.25v3c0 .138.112.25.25.25h12.5a.25.25 0 0 0 .25-.25v-3a.25.25 0 0 0-.25-.25Z"></path><path d="M7 12.75a.75.75 0 0 1 .75-.75h4.5a.75.75 0 0 1 0 1.5h-4.5a.75.75 0 0 1-.75-.75Zm-4 0a.75.75 0 0 1 .75-.75h.5a.75.75 0 0 1 0 1.5h-.5a.75.75 0 0 1-.75-.75Z"></path>
</svg>
        </span>
      
        <span data-view-component="true" class="ActionListItem-label">
                  New codespace

</span></a>
  
  
</li>
        <li data-analytics-event="{&quot;category&quot;:&quot;SiteHeaderComponent&quot;,&quot;action&quot;:&quot;add_dropdown&quot;,&quot;label&quot;:&quot;new gist&quot;}" data-targets="action-list.items" role="none" data-view-component="true" class="ActionListItem">
    
    <a href="https://gist.github.com/" tabindex="-1" id="item-d5caa4f0-03b3-4e5e-ad71-0d29e4f8b5e7" role="menuitem" data-view-component="true" class="ActionListContent ActionListContent--visual16">
        <span class="ActionListItem-visual ActionListItem-visual--leading">
          <svg aria-hidden="true" height="16" viewBox="0 0 16 16" version="1.1" width="16" data-view-component="true" class="octicon octicon-code">
    <path d="m11.28 3.22 4.25 4.25a.75.75 0 0 1 0 1.06l-4.25 4.25a.749.749 0 0 1-1.275-.326.749.749 0 0 1 .215-.734L13.94 8l-3.72-3.72a.749.749 0 0 1 .326-1.275.749.749 0 0 1 .734.215Zm-6.56 0a.751.751 0 0 1 1.042.018.751.751 0 0 1 .018 1.042L2.06 8l3.72 3.72a.749.749 0 0 1-.326 1.275.749.749 0 0 1-.734-.215L.47 8.53a.75.75 0 0 1 0-1.06Z"></path>
</svg>
        </span>
      
        <span data-view-component="true" class="ActionListItem-label">
                  New gist

</span></a>
  
  
</li>
        <li role="presentation" aria-hidden="true" data-view-component="true" class="ActionList-sectionDivider"></li>
        <li data-targets="action-list.items" role="none" data-view-component="true" class="ActionListItem">
    
    <a href="/account/organizations/new" tabindex="-1" data-dont-follow-via-test="true" data-analytics-event="{&quot;category&quot;:&quot;SiteHeaderComponent&quot;,&quot;action&quot;:&quot;add_dropdown&quot;,&quot;label&quot;:&quot;new organization&quot;}" id="item-f66e37cc-d4f9-43cb-846f-072deb45d56e" role="menuitem" data-view-component="true" class="ActionListContent ActionListContent--visual16">
        <span class="ActionListItem-visual ActionListItem-visual--leading">
          <svg aria-hidden="true" height="16" viewBox="0 0 16 16" version="1.1" width="16" data-view-component="true" class="octicon octicon-organization">
    <path d="M1.75 16A1.75 1.75 0 0 1 0 14.25V1.75C0 .784.784 0 1.75 0h8.5C11.216 0 12 .784 12 1.75v12.5c0 .085-.006.168-.018.25h2.268a.25.25 0 0 0 .25-.25V8.285a.25.25 0 0 0-.111-.208l-1.055-.703a.749.749 0 1 1 .832-1.248l1.055.703c.487.325.779.871.779 1.456v5.965A1.75 1.75 0 0 1 14.25 16h-3.5a.766.766 0 0 1-.197-.026c-.099.017-.2.026-.303.026h-3a.75.75 0 0 1-.75-.75V14h-1v1.25a.75.75 0 0 1-.75.75Zm-.25-1.75c0 .138.112.25.25.25H4v-1.25a.75.75 0 0 1 .75-.75h2.5a.75.75 0 0 1 .75.75v1.25h2.25a.25.25 0 0 0 .25-.25V1.75a.25.25 0 0 0-.25-.25h-8.5a.25.25 0 0 0-.25.25ZM3.75 6h.5a.75.75 0 0 1 0 1.5h-.5a.75.75 0 0 1 0-1.5ZM3 3.75A.75.75 0 0 1 3.75 3h.5a.75.75 0 0 1 0 1.5h-.5A.75.75 0 0 1 3 3.75Zm4 3A.75.75 0 0 1 7.75 6h.5a.75.75 0 0 1 0 1.5h-.5A.75.75 0 0 1 7 6.75ZM7.75 3h.5a.75.75 0 0 1 0 1.5h-.5a.75.75 0 0 1 0-1.5ZM3 9.75A.75.75 0 0 1 3.75 9h.5a.75.75 0 0 1 0 1.5h-.5A.75.75 0 0 1 3 9.75ZM7.75 9h.5a.75.75 0 0 1 0 1.5h-.5a.75.75 0 0 1 0-1.5Z"></path>
</svg>
        </span>
      
        <span data-view-component="true" class="ActionListItem-label">
                  New organization

</span></a>
  
  
</li>
</ul>    
</div></action-list>


</div>
      
</div></anchored-position>  </focus-group>
</action-menu>

</div>
</div>
    </div>
    <div class="Overlay-actionWrap">
      <button data-close-dialog-id="dialog-b532d563-ccdb-4c8b-99c8-0e46836b1651" aria-label="Close" type="button" data-view-component="true" class="close-button Overlay-closeButton"><svg aria-hidden="true" height="16" viewBox="0 0 16 16" version="1.1" width="16" data-view-component="true" class="octicon octicon-x">
    <path d="M3.72 3.72a.75.75 0 0 1 1.06 0L8 6.94l3.22-3.22a.749.749 0 0 1 1.275.326.749.749 0 0 1-.215.734L9.06 8l3.22 3.22a.749.749 0 0 1-.326 1.275.749.749 0 0 1-.734-.215L8 9.06l-3.22 3.22a.751.751 0 0 1-1.042-.018.751.751 0 0 1-.018-1.042L6.94 8 3.72 4.78a.75.75 0 0 1 0-1.06Z"></path>
</svg></button>
    </div>
  </div>
</div>
      <scrollable-region data-labelled-by="dialog-b532d563-ccdb-4c8b-99c8-0e46836b1651-title">
        <div data-view-component="true" class="Overlay-body d-flex flex-column px-2">    <div data-view-component="true" class="d-flex flex-column mb-3">
        <nav aria-label="User navigation" data-view-component="true" class="ActionList">
  
  <nav-list>
    <ul data-target="nav-list.topLevelList" data-view-component="true" class="ActionListWrap">
        
          
<li data-item-id="" data-targets="nav-list.items" data-view-component="true" class="ActionListItem">
    
    <button id="item-bc1977ea-880e-4f7b-aa64-3fb0c6b16cfe" type="button" data-view-component="true" class="ActionListContent ActionListContent--visual16">
        <span class="ActionListItem-visual ActionListItem-visual--leading">
          <span data-view-component="true" class="d-flex flex-items-center">    <svg style="box-sizing: content-box; color: var(--color-icon-primary);" width="16" height="16" viewBox="0 0 16 16" fill="none" data-view-component="true" class="anim-rotate">
  <circle cx="8" cy="8" r="7" stroke="currentColor" stroke-opacity="0.25" stroke-width="2" vector-effect="non-scaling-stroke" fill="none" />
  <path d="M15 8a7.002 7.002 0 00-7-7" stroke="currentColor" stroke-width="2" stroke-linecap="round" vector-effect="non-scaling-stroke" />
</svg>
</span>
        </span>
      
        <span data-view-component="true" class="ActionListItem-label">
          

  <span class="color-fg-muted">
    Loading...
  </span>

</span></button>
  
  
</li>

        
          <li role="presentation" aria-hidden="true" data-view-component="true" class="ActionList-sectionDivider"></li>
        
          
<li data-item-id="" data-targets="nav-list.items" data-view-component="true" class="ActionListItem">
    
    <a data-analytics-event="{&quot;category&quot;:&quot;Global navigation&quot;,&quot;action&quot;:&quot;PROFILE&quot;,&quot;label&quot;:null}" id="item-0449284a-9790-41c4-b4f2-f908a2449aaa" href="https://github.com/carlos-santos1504" data-view-component="true" class="ActionListContent ActionListContent--visual16">
        <span class="ActionListItem-visual ActionListItem-visual--leading">
          <svg aria-hidden="true" height="16" viewBox="0 0 16 16" version="1.1" width="16" data-view-component="true" class="octicon octicon-person">
    <path d="M10.561 8.073a6.005 6.005 0 0 1 3.432 5.142.75.75 0 1 1-1.498.07 4.5 4.5 0 0 0-8.99 0 .75.75 0 0 1-1.498-.07 6.004 6.004 0 0 1 3.431-5.142 3.999 3.999 0 1 1 5.123 0ZM10.5 5a2.5 2.5 0 1 0-5 0 2.5 2.5 0 0 0 5 0Z"></path>
</svg>
        </span>
      
        <span data-view-component="true" class="ActionListItem-label">
          Your profile
</span></a>
  
  
</li>

        
          
<li data-item-id="" data-targets="nav-list.items" data-view-component="true" class="ActionListItem">
    
    <button id="item-322c265c-23ff-48d2-8fcb-c00375b36fa8" type="button" data-view-component="true" class="ActionListContent ActionListContent--visual16">
        <span class="ActionListItem-visual ActionListItem-visual--leading">
          <span data-view-component="true" class="d-flex flex-items-center">    <svg style="box-sizing: content-box; color: var(--color-icon-primary);" width="16" height="16" viewBox="0 0 16 16" fill="none" data-view-component="true" class="anim-rotate">
  <circle cx="8" cy="8" r="7" stroke="currentColor" stroke-opacity="0.25" stroke-width="2" vector-effect="non-scaling-stroke" fill="none" />
  <path d="M15 8a7.002 7.002 0 00-7-7" stroke="currentColor" stroke-width="2" stroke-linecap="round" vector-effect="non-scaling-stroke" />
</svg>
</span>
        </span>
      
        <span data-view-component="true" class="ActionListItem-label">
          

  <span class="color-fg-muted">
    Loading...
  </span>

</span></button>
  
  
</li>

        
          <li role="presentation" aria-hidden="true" data-view-component="true" class="ActionList-sectionDivider"></li>
        
          
<li data-item-id="" data-targets="nav-list.items" data-view-component="true" class="ActionListItem">
    
    <a data-analytics-event="{&quot;category&quot;:&quot;Global navigation&quot;,&quot;action&quot;:&quot;YOUR_REPOSITORIES&quot;,&quot;label&quot;:null}" id="item-50db642a-a047-427f-af63-81efc1025d7d" href="/carlos-santos1504?tab=repositories" data-view-component="true" class="ActionListContent ActionListContent--visual16">
        <span class="ActionListItem-visual ActionListItem-visual--leading">
          <svg aria-hidden="true" height="16" viewBox="0 0 16 16" version="1.1" width="16" data-view-component="true" class="octicon octicon-repo">
    <path d="M2 2.5A2.5 2.5 0 0 1 4.5 0h8.75a.75.75 0 0 1 .75.75v12.5a.75.75 0 0 1-.75.75h-2.5a.75.75 0 0 1 0-1.5h1.75v-2h-8a1 1 0 0 0-.714 1.7.75.75 0 1 1-1.072 1.05A2.495 2.495 0 0 1 2 11.5Zm10.5-1h-8a1 1 0 0 0-1 1v6.708A2.486 2.486 0 0 1 4.5 9h8ZM5 12.25a.25.25 0 0 1 .25-.25h3.5a.25.25 0 0 1 .25.25v3.25a.25.25 0 0 1-.4.2l-1.45-1.087a.249.249 0 0 0-.3 0L5.4 15.7a.25.25 0 0 1-.4-.2Z"></path>
</svg>
        </span>
      
        <span data-view-component="true" class="ActionListItem-label">
          Your repositories
</span></a>
  
  
</li>

        
          
<li data-item-id="" data-targets="nav-list.items" data-view-component="true" class="ActionListItem">
    
    <a data-analytics-event="{&quot;category&quot;:&quot;Global navigation&quot;,&quot;action&quot;:&quot;YOUR_PROJECTS&quot;,&quot;label&quot;:null}" id="item-5582398e-9abb-43c1-8f92-eed478ecf475" href="/carlos-santos1504?tab=projects" data-view-component="true" class="ActionListContent ActionListContent--visual16">
        <span class="ActionListItem-visual ActionListItem-visual--leading">
          <svg aria-hidden="true" height="16" viewBox="0 0 16 16" version="1.1" width="16" data-view-component="true" class="octicon octicon-project">
    <path d="M1.75 0h12.5C15.216 0 16 .784 16 1.75v12.5A1.75 1.75 0 0 1 14.25 16H1.75A1.75 1.75 0 0 1 0 14.25V1.75C0 .784.784 0 1.75 0ZM1.5 1.75v12.5c0 .138.112.25.25.25h12.5a.25.25 0 0 0 .25-.25V1.75a.25.25 0 0 0-.25-.25H1.75a.25.25 0 0 0-.25.25ZM11.75 3a.75.75 0 0 1 .75.75v7.5a.75.75 0 0 1-1.5 0v-7.5a.75.75 0 0 1 .75-.75Zm-8.25.75a.75.75 0 0 1 1.5 0v5.5a.75.75 0 0 1-1.5 0ZM8 3a.75.75 0 0 1 .75.75v3.5a.75.75 0 0 1-1.5 0v-3.5A.75.75 0 0 1 8 3Z"></path>
</svg>
        </span>
      
        <span data-view-component="true" class="ActionListItem-label">
          Your projects
</span></a>
  
  
</li>

        
          
<li data-item-id="" data-targets="nav-list.items" data-view-component="true" class="ActionListItem">
    
    <button id="item-ad407024-c2ec-4473-87b7-158fba7597b5" type="button" data-view-component="true" class="ActionListContent ActionListContent--visual16">
        <span class="ActionListItem-visual ActionListItem-visual--leading">
          <span data-view-component="true" class="d-flex flex-items-center">    <svg style="box-sizing: content-box; color: var(--color-icon-primary);" width="16" height="16" viewBox="0 0 16 16" fill="none" data-view-component="true" class="anim-rotate">
  <circle cx="8" cy="8" r="7" stroke="currentColor" stroke-opacity="0.25" stroke-width="2" vector-effect="non-scaling-stroke" fill="none" />
  <path d="M15 8a7.002 7.002 0 00-7-7" stroke="currentColor" stroke-width="2" stroke-linecap="round" vector-effect="non-scaling-stroke" />
</svg>
</span>
        </span>
      
        <span data-view-component="true" class="ActionListItem-label">
          

  <span class="color-fg-muted">
    Loading...
  </span>

</span></button>
  
  
</li>

        
          
<li data-item-id="" data-targets="nav-list.items" data-view-component="true" class="ActionListItem">
    
    <button id="item-a955dbda-a54c-4ba5-a328-be52840a49e1" type="button" data-view-component="true" class="ActionListContent ActionListContent--visual16">
        <span class="ActionListItem-visual ActionListItem-visual--leading">
          <span data-view-component="true" class="d-flex flex-items-center">    <svg style="box-sizing: content-box; color: var(--color-icon-primary);" width="16" height="16" viewBox="0 0 16 16" fill="none" data-view-component="true" class="anim-rotate">
  <circle cx="8" cy="8" r="7" stroke="currentColor" stroke-opacity="0.25" stroke-width="2" vector-effect="non-scaling-stroke" fill="none" />
  <path d="M15 8a7.002 7.002 0 00-7-7" stroke="currentColor" stroke-width="2" stroke-linecap="round" vector-effect="non-scaling-stroke" />
</svg>
</span>
        </span>
      
        <span data-view-component="true" class="ActionListItem-label">
          

  <span class="color-fg-muted">
    Loading...
  </span>

</span></button>
  
  
</li>

        
          
<li data-item-id="" data-targets="nav-list.items" data-view-component="true" class="ActionListItem">
    
    <a data-analytics-event="{&quot;category&quot;:&quot;Global navigation&quot;,&quot;action&quot;:&quot;YOUR_STARS&quot;,&quot;label&quot;:null}" id="item-ca78e1a2-7169-4b9a-bd9d-1a353291e283" href="/carlos-santos1504?tab=stars" data-view-component="true" class="ActionListContent ActionListContent--visual16">
        <span class="ActionListItem-visual ActionListItem-visual--leading">
          <svg aria-hidden="true" height="16" viewBox="0 0 16 16" version="1.1" width="16" data-view-component="true" class="octicon octicon-star">
    <path d="M8 .25a.75.75 0 0 1 .673.418l1.882 3.815 4.21.612a.75.75 0 0 1 .416 1.279l-3.046 2.97.719 4.192a.751.751 0 0 1-1.088.791L8 12.347l-3.766 1.98a.75.75 0 0 1-1.088-.79l.72-4.194L.818 6.374a.75.75 0 0 1 .416-1.28l4.21-.611L7.327.668A.75.75 0 0 1 8 .25Zm0 2.445L6.615 5.5a.75.75 0 0 1-.564.41l-3.097.45 2.24 2.184a.75.75 0 0 1 .216.664l-.528 3.084 2.769-1.456a.75.75 0 0 1 .698 0l2.77 1.456-.53-3.084a.75.75 0 0 1 .216-.664l2.24-2.183-3.096-.45a.75.75 0 0 1-.564-.41L8 2.694Z"></path>
</svg>
        </span>
      
        <span data-view-component="true" class="ActionListItem-label">
          Your stars
</span></a>
  
  
</li>

        
          
<li data-item-id="" data-targets="nav-list.items" data-view-component="true" class="ActionListItem">
    
    <a data-analytics-event="{&quot;category&quot;:&quot;Global navigation&quot;,&quot;action&quot;:&quot;SPONSORS&quot;,&quot;label&quot;:null}" id="item-2d438a6a-4879-4c6e-bbdf-b32420f9426e" href="/sponsors/accounts" data-view-component="true" class="ActionListContent ActionListContent--visual16">
        <span class="ActionListItem-visual ActionListItem-visual--leading">
          <svg aria-hidden="true" height="16" viewBox="0 0 16 16" version="1.1" width="16" data-view-component="true" class="octicon octicon-heart">
    <path d="m8 14.25.345.666a.75.75 0 0 1-.69 0l-.008-.004-.018-.01a7.152 7.152 0 0 1-.31-.17 22.055 22.055 0 0 1-3.434-2.414C2.045 10.731 0 8.35 0 5.5 0 2.836 2.086 1 4.25 1 5.797 1 7.153 1.802 8 3.02 8.847 1.802 10.203 1 11.75 1 13.914 1 16 2.836 16 5.5c0 2.85-2.045 5.231-3.885 6.818a22.066 22.066 0 0 1-3.744 2.584l-.018.01-.006.003h-.002ZM4.25 2.5c-1.336 0-2.75 1.164-2.75 3 0 2.15 1.58 4.144 3.365 5.682A20.58 20.58 0 0 0 8 13.393a20.58 20.58 0 0 0 3.135-2.211C12.92 9.644 14.5 7.65 14.5 5.5c0-1.836-1.414-3-2.75-3-1.373 0-2.609.986-3.029 2.456a.749.749 0 0 1-1.442 0C6.859 3.486 5.623 2.5 4.25 2.5Z"></path>
</svg>
        </span>
      
        <span data-view-component="true" class="ActionListItem-label">
          Your sponsors
</span></a>
  
  
</li>

        
          
<li data-item-id="" data-targets="nav-list.items" data-view-component="true" class="ActionListItem">
    
    <a data-analytics-event="{&quot;category&quot;:&quot;Global navigation&quot;,&quot;action&quot;:&quot;YOUR_GISTS&quot;,&quot;label&quot;:null}" id="item-becab13b-9488-4e6d-9ff4-c1cacb9647c2" href="https://gist.github.com/mine" data-view-component="true" class="ActionListContent ActionListContent--visual16">
        <span class="ActionListItem-visual ActionListItem-visual--leading">
          <svg aria-hidden="true" height="16" viewBox="0 0 16 16" version="1.1" width="16" data-view-component="true" class="octicon octicon-code-square">
    <path d="M0 1.75C0 .784.784 0 1.75 0h12.5C15.216 0 16 .784 16 1.75v12.5A1.75 1.75 0 0 1 14.25 16H1.75A1.75 1.75 0 0 1 0 14.25Zm1.75-.25a.25.25 0 0 0-.25.25v12.5c0 .138.112.25.25.25h12.5a.25.25 0 0 0 .25-.25V1.75a.25.25 0 0 0-.25-.25Zm7.47 3.97a.75.75 0 0 1 1.06 0l2 2a.75.75 0 0 1 0 1.06l-2 2a.749.749 0 0 1-1.275-.326.749.749 0 0 1 .215-.734L10.69 8 9.22 6.53a.75.75 0 0 1 0-1.06ZM6.78 6.53 5.31 8l1.47 1.47a.749.749 0 0 1-.326 1.275.749.749 0 0 1-.734-.215l-2-2a.75.75 0 0 1 0-1.06l2-2a.751.751 0 0 1 1.042.018.751.751 0 0 1 .018 1.042Z"></path>
</svg>
        </span>
      
        <span data-view-component="true" class="ActionListItem-label">
          Your gists
</span></a>
  
  
</li>

        
          <li role="presentation" aria-hidden="true" data-view-component="true" class="ActionList-sectionDivider"></li>
        
          
<li data-item-id="" data-targets="nav-list.items" data-view-component="true" class="ActionListItem">
    
    <button id="item-56e8af50-5b8f-408e-8d6c-17d00de638ea" type="button" data-view-component="true" class="ActionListContent ActionListContent--visual16">
        <span class="ActionListItem-visual ActionListItem-visual--leading">
          <span data-view-component="true" class="d-flex flex-items-center">    <svg style="box-sizing: content-box; color: var(--color-icon-primary);" width="16" height="16" viewBox="0 0 16 16" fill="none" data-view-component="true" class="anim-rotate">
  <circle cx="8" cy="8" r="7" stroke="currentColor" stroke-opacity="0.25" stroke-width="2" vector-effect="non-scaling-stroke" fill="none" />
  <path d="M15 8a7.002 7.002 0 00-7-7" stroke="currentColor" stroke-width="2" stroke-linecap="round" vector-effect="non-scaling-stroke" />
</svg>
</span>
        </span>
      
        <span data-view-component="true" class="ActionListItem-label">
          

  <span class="color-fg-muted">
    Loading...
  </span>

</span></button>
  
  
</li>

        
          
<li data-item-id="" data-targets="nav-list.items" data-view-component="true" class="ActionListItem">
    
    <button id="item-99e39e91-14d8-461a-8394-7cd48430ac75" type="button" data-view-component="true" class="ActionListContent ActionListContent--visual16">
        <span class="ActionListItem-visual ActionListItem-visual--leading">
          <span data-view-component="true" class="d-flex flex-items-center">    <svg style="box-sizing: content-box; color: var(--color-icon-primary);" width="16" height="16" viewBox="0 0 16 16" fill="none" data-view-component="true" class="anim-rotate">
  <circle cx="8" cy="8" r="7" stroke="currentColor" stroke-opacity="0.25" stroke-width="2" vector-effect="non-scaling-stroke" fill="none" />
  <path d="M15 8a7.002 7.002 0 00-7-7" stroke="currentColor" stroke-width="2" stroke-linecap="round" vector-effect="non-scaling-stroke" />
</svg>
</span>
        </span>
      
        <span data-view-component="true" class="ActionListItem-label">
          

  <span class="color-fg-muted">
    Loading...
  </span>

</span></button>
  
  
</li>

        
          
<li data-item-id="" data-targets="nav-list.items" data-view-component="true" class="ActionListItem">
    
    <a data-analytics-event="{&quot;category&quot;:&quot;Global navigation&quot;,&quot;action&quot;:&quot;SETTINGS&quot;,&quot;label&quot;:null}" id="item-7c904c77-a461-44be-ad3b-a62bd9a84477" href="/settings/profile" data-view-component="true" class="ActionListContent ActionListContent--visual16">
        <span class="ActionListItem-visual ActionListItem-visual--leading">
          <svg aria-hidden="true" height="16" viewBox="0 0 16 16" version="1.1" width="16" data-view-component="true" class="octicon octicon-gear">
    <path d="M8 0a8.2 8.2 0 0 1 .701.031C9.444.095 9.99.645 10.16 1.29l.288 1.107c.018.066.079.158.212.224.231.114.454.243.668.386.123.082.233.09.299.071l1.103-.303c.644-.176 1.392.021 1.82.63.27.385.506.792.704 1.218.315.675.111 1.422-.364 1.891l-.814.806c-.049.048-.098.147-.088.294.016.257.016.515 0 .772-.01.147.038.246.088.294l.814.806c.475.469.679 1.216.364 1.891a7.977 7.977 0 0 1-.704 1.217c-.428.61-1.176.807-1.82.63l-1.102-.302c-.067-.019-.177-.011-.3.071a5.909 5.909 0 0 1-.668.386c-.133.066-.194.158-.211.224l-.29 1.106c-.168.646-.715 1.196-1.458 1.26a8.006 8.006 0 0 1-1.402 0c-.743-.064-1.289-.614-1.458-1.26l-.289-1.106c-.018-.066-.079-.158-.212-.224a5.738 5.738 0 0 1-.668-.386c-.123-.082-.233-.09-.299-.071l-1.103.303c-.644.176-1.392-.021-1.82-.63a8.12 8.12 0 0 1-.704-1.218c-.315-.675-.111-1.422.363-1.891l.815-.806c.05-.048.098-.147.088-.294a6.214 6.214 0 0 1 0-.772c.01-.147-.038-.246-.088-.294l-.815-.806C.635 6.045.431 5.298.746 4.623a7.92 7.92 0 0 1 .704-1.217c.428-.61 1.176-.807 1.82-.63l1.102.302c.067.019.177.011.3-.071.214-.143.437-.272.668-.386.133-.066.194-.158.211-.224l.29-1.106C6.009.645 6.556.095 7.299.03 7.53.01 7.764 0 8 0Zm-.571 1.525c-.036.003-.108.036-.137.146l-.289 1.105c-.147.561-.549.967-.998 1.189-.173.086-.34.183-.5.29-.417.278-.97.423-1.529.27l-1.103-.303c-.109-.03-.175.016-.195.045-.22.312-.412.644-.573.99-.014.031-.021.11.059.19l.815.806c.411.406.562.957.53 1.456a4.709 4.709 0 0 0 0 .582c.032.499-.119 1.05-.53 1.456l-.815.806c-.081.08-.073.159-.059.19.162.346.353.677.573.989.02.03.085.076.195.046l1.102-.303c.56-.153 1.113-.008 1.53.27.161.107.328.204.501.29.447.222.85.629.997 1.189l.289 1.105c.029.109.101.143.137.146a6.6 6.6 0 0 0 1.142 0c.036-.003.108-.036.137-.146l.289-1.105c.147-.561.549-.967.998-1.189.173-.086.34-.183.5-.29.417-.278.97-.423 1.529-.27l1.103.303c.109.029.175-.016.195-.045.22-.313.411-.644.573-.99.014-.031.021-.11-.059-.19l-.815-.806c-.411-.406-.562-.957-.53-1.456a4.709 4.709 0 0 0 0-.582c-.032-.499.119-1.05.53-1.456l.815-.806c.081-.08.073-.159.059-.19a6.464 6.464 0 0 0-.573-.989c-.02-.03-.085-.076-.195-.046l-1.102.303c-.56.153-1.113.008-1.53-.27a4.44 4.44 0 0 0-.501-.29c-.447-.222-.85-.629-.997-1.189l-.289-1.105c-.029-.11-.101-.143-.137-.146a6.6 6.6 0 0 0-1.142 0ZM11 8a3 3 0 1 1-6 0 3 3 0 0 1 6 0ZM9.5 8a1.5 1.5 0 1 0-3.001.001A1.5 1.5 0 0 0 9.5 8Z"></path>
</svg>
        </span>
      
        <span data-view-component="true" class="ActionListItem-label">
          Settings
</span></a>
  
  
</li>

        
          <li role="presentation" aria-hidden="true" data-view-component="true" class="ActionList-sectionDivider"></li>
        
          
<li data-item-id="" data-targets="nav-list.items" data-view-component="true" class="ActionListItem">
    
    <a data-analytics-event="{&quot;category&quot;:&quot;Global navigation&quot;,&quot;action&quot;:&quot;SUPPORT&quot;,&quot;label&quot;:null}" id="item-d893b793-5485-45ce-b853-99fb041b2624" href="https://support.github.com" data-view-component="true" class="ActionListContent ActionListContent--visual16">
        <span class="ActionListItem-visual ActionListItem-visual--leading">
          <svg aria-hidden="true" height="16" viewBox="0 0 16 16" version="1.1" width="16" data-view-component="true" class="octicon octicon-people">
    <path d="M2 5.5a3.5 3.5 0 1 1 5.898 2.549 5.508 5.508 0 0 1 3.034 4.084.75.75 0 1 1-1.482.235 4 4 0 0 0-7.9 0 .75.75 0 0 1-1.482-.236A5.507 5.507 0 0 1 3.102 8.05 3.493 3.493 0 0 1 2 5.5ZM11 4a3.001 3.001 0 0 1 2.22 5.018 5.01 5.01 0 0 1 2.56 3.012.749.749 0 0 1-.885.954.752.752 0 0 1-.549-.514 3.507 3.507 0 0 0-2.522-2.372.75.75 0 0 1-.574-.73v-.352a.75.75 0 0 1 .416-.672A1.5 1.5 0 0 0 11 5.5.75.75 0 0 1 11 4Zm-5.5-.5a2 2 0 1 0-.001 3.999A2 2 0 0 0 5.5 3.5Z"></path>
</svg>
        </span>
      
        <span data-view-component="true" class="ActionListItem-label">
          GitHub Support
</span></a>
  
  
</li>

        
          
<li data-item-id="" data-targets="nav-list.items" data-view-component="true" class="ActionListItem">
    
    <a data-analytics-event="{&quot;category&quot;:&quot;Global navigation&quot;,&quot;action&quot;:&quot;COMMUNITY&quot;,&quot;label&quot;:null}" id="item-3a18daf5-ca2b-49c4-a755-85de541fd1e2" href="https://community.github.com" data-view-component="true" class="ActionListContent ActionListContent--visual16">
        <span class="ActionListItem-visual ActionListItem-visual--leading">
          <svg aria-hidden="true" height="16" viewBox="0 0 16 16" version="1.1" width="16" data-view-component="true" class="octicon octicon-comment-discussion">
    <path d="M1.75 1h8.5c.966 0 1.75.784 1.75 1.75v5.5A1.75 1.75 0 0 1 10.25 10H7.061l-2.574 2.573A1.458 1.458 0 0 1 2 11.543V10h-.25A1.75 1.75 0 0 1 0 8.25v-5.5C0 1.784.784 1 1.75 1ZM1.5 2.75v5.5c0 .138.112.25.25.25h1a.75.75 0 0 1 .75.75v2.19l2.72-2.72a.749.749 0 0 1 .53-.22h3.5a.25.25 0 0 0 .25-.25v-5.5a.25.25 0 0 0-.25-.25h-8.5a.25.25 0 0 0-.25.25Zm13 2a.25.25 0 0 0-.25-.25h-.5a.75.75 0 0 1 0-1.5h.5c.966 0 1.75.784 1.75 1.75v5.5A1.75 1.75 0 0 1 14.25 12H14v1.543a1.458 1.458 0 0 1-2.487 1.03L9.22 12.28a.749.749 0 0 1 .326-1.275.749.749 0 0 1 .734.215l2.22 2.22v-2.19a.75.75 0 0 1 .75-.75h1a.25.25 0 0 0 .25-.25Z"></path>
</svg>
        </span>
      
        <span data-view-component="true" class="ActionListItem-label">
          GitHub Community
</span></a>
  
  
</li>

        
          <li role="presentation" aria-hidden="true" data-view-component="true" class="ActionList-sectionDivider"></li>
        
          
<li data-item-id="" data-targets="nav-list.items" data-view-component="true" class="ActionListItem">
    
    <a data-analytics-event="{&quot;category&quot;:&quot;Global navigation&quot;,&quot;action&quot;:&quot;LOGOUT&quot;,&quot;label&quot;:null}" id="item-e2240831-62b3-4dc8-9ed7-426ada239ceb" href="/logout" data-view-component="true" class="ActionListContent">
      
        <span data-view-component="true" class="ActionListItem-label">
          Sign out
</span></a>
  
  
</li>

</ul>  </nav-list>
</nav>


</div>
</div>
      </scrollable-region>
      
</dialog></dialog-helper>
    </user-drawer-side-panel>


  </include-fragment>
</deferred-side-panel>
          
        </div>

        <div class="position-absolute mt-2">
            
<site-header-logged-in-user-menu>

</site-header-logged-in-user-menu>

        </div>
      </div>
    </div>


      <div class="AppHeader-localBar" >
        <nav data-pjax="#js-repo-pjax-container" aria-label="Repository" data-view-component="true" class="js-repo-nav js-sidenav-container-pjax js-responsive-underlinenav overflow-hidden UnderlineNav">

  <ul data-view-component="true" class="UnderlineNav-body list-style-none">
      <li data-view-component="true" class="d-inline-flex">
  <a id="code-tab" href="/AlexLaudiano/imersao_python" data-tab-item="i0code-tab" data-selected-links="repo_source repo_downloads repo_commits repo_releases repo_tags repo_branches repo_packages repo_deployments repo_attestations /AlexLaudiano/imersao_python" data-pjax="#repo-content-pjax-container" data-turbo-frame="repo-content-turbo-frame" data-hotkey="g c" data-analytics-event="{&quot;category&quot;:&quot;Underline navbar&quot;,&quot;action&quot;:&quot;Click tab&quot;,&quot;label&quot;:&quot;Code&quot;,&quot;target&quot;:&quot;UNDERLINE_NAV.TAB&quot;}" data-view-component="true" class="UnderlineNav-item no-wrap js-responsive-underlinenav-item js-selected-navigation-item">
    
              <svg aria-hidden="true" height="16" viewBox="0 0 16 16" version="1.1" width="16" data-view-component="true" class="octicon octicon-code UnderlineNav-octicon d-none d-sm-inline">
    <path d="m11.28 3.22 4.25 4.25a.75.75 0 0 1 0 1.06l-4.25 4.25a.749.749 0 0 1-1.275-.326.749.749 0 0 1 .215-.734L13.94 8l-3.72-3.72a.749.749 0 0 1 .326-1.275.749.749 0 0 1 .734.215Zm-6.56 0a.751.751 0 0 1 1.042.018.751.751 0 0 1 .018 1.042L2.06 8l3.72 3.72a.749.749 0 0 1-.326 1.275.749.749 0 0 1-.734-.215L.47 8.53a.75.75 0 0 1 0-1.06Z"></path>
</svg>
        <span data-content="Code">Code</span>
          <span id="code-repo-tab-count" data-pjax-replace="" data-turbo-replace="" title="Not available" data-view-component="true" class="Counter"></span>


    
</a></li>
      <li data-view-component="true" class="d-inline-flex">
  <a id="issues-tab" href="/AlexLaudiano/imersao_python/issues" data-tab-item="i1issues-tab" data-selected-links="repo_issues repo_labels repo_milestones /AlexLaudiano/imersao_python/issues" data-pjax="#repo-content-pjax-container" data-turbo-frame="repo-content-turbo-frame" data-hotkey="g i" data-analytics-event="{&quot;category&quot;:&quot;Underline navbar&quot;,&quot;action&quot;:&quot;Click tab&quot;,&quot;label&quot;:&quot;Issues&quot;,&quot;target&quot;:&quot;UNDERLINE_NAV.TAB&quot;}" data-view-component="true" class="UnderlineNav-item no-wrap js-responsive-underlinenav-item js-selected-navigation-item">
    
              <svg aria-hidden="true" height="16" viewBox="0 0 16 16" version="1.1" width="16" data-view-component="true" class="octicon octicon-issue-opened UnderlineNav-octicon d-none d-sm-inline">
    <path d="M8 9.5a1.5 1.5 0 1 0 0-3 1.5 1.5 0 0 0 0 3Z"></path><path d="M8 0a8 8 0 1 1 0 16A8 8 0 0 1 8 0ZM1.5 8a6.5 6.5 0 1 0 13 0 6.5 6.5 0 0 0-13 0Z"></path>
</svg>
        <span data-content="Issues">Issues</span>
          <span id="issues-repo-tab-count" data-pjax-replace="" data-turbo-replace="" title="0" hidden="hidden" data-view-component="true" class="Counter">0</span>


    
</a></li>
      <li data-view-component="true" class="d-inline-flex">
  <a id="pull-requests-tab" href="/AlexLaudiano/imersao_python/pulls" data-tab-item="i2pull-requests-tab" data-selected-links="repo_pulls checks /AlexLaudiano/imersao_python/pulls" data-pjax="#repo-content-pjax-container" data-turbo-frame="repo-content-turbo-frame" data-hotkey="g p" data-analytics-event="{&quot;category&quot;:&quot;Underline navbar&quot;,&quot;action&quot;:&quot;Click tab&quot;,&quot;label&quot;:&quot;Pull requests&quot;,&quot;target&quot;:&quot;UNDERLINE_NAV.TAB&quot;}" data-view-component="true" class="UnderlineNav-item no-wrap js-responsive-underlinenav-item js-selected-navigation-item">
    
              <svg aria-hidden="true" height="16" viewBox="0 0 16 16" version="1.1" width="16" data-view-component="true" class="octicon octicon-git-pull-request UnderlineNav-octicon d-none d-sm-inline">
    <path d="M1.5 3.25a2.25 2.25 0 1 1 3 2.122v5.256a2.251 2.251 0 1 1-1.5 0V5.372A2.25 2.25 0 0 1 1.5 3.25Zm5.677-.177L9.573.677A.25.25 0 0 1 10 .854V2.5h1A2.5 2.5 0 0 1 13.5 5v5.628a2.251 2.251 0 1 1-1.5 0V5a1 1 0 0 0-1-1h-1v1.646a.25.25 0 0 1-.427.177L7.177 3.427a.25.25 0 0 1 0-.354ZM3.75 2.5a.75.75 0 1 0 0 1.5.75.75 0 0 0 0-1.5Zm0 9.5a.75.75 0 1 0 0 1.5.75.75 0 0 0 0-1.5Zm8.25.75a.75.75 0 1 0 1.5 0 .75.75 0 0 0-1.5 0Z"></path>
</svg>
        <span data-content="Pull requests">Pull requests</span>
          <span id="pull-requests-repo-tab-count" data-pjax-replace="" data-turbo-replace="" title="0" hidden="hidden" data-view-component="true" class="Counter">0</span>


    
</a></li>
      <li data-view-component="true" class="d-inline-flex">
  <a id="actions-tab" href="/AlexLaudiano/imersao_python/actions" data-tab-item="i3actions-tab" data-selected-links="repo_actions /AlexLaudiano/imersao_python/actions" data-pjax="#repo-content-pjax-container" data-turbo-frame="repo-content-turbo-frame" data-hotkey="g a" data-analytics-event="{&quot;category&quot;:&quot;Underline navbar&quot;,&quot;action&quot;:&quot;Click tab&quot;,&quot;label&quot;:&quot;Actions&quot;,&quot;target&quot;:&quot;UNDERLINE_NAV.TAB&quot;}" data-view-component="true" class="UnderlineNav-item no-wrap js-responsive-underlinenav-item js-selected-navigation-item">
    
              <svg aria-hidden="true" height="16" viewBox="0 0 16 16" version="1.1" width="16" data-view-component="true" class="octicon octicon-play UnderlineNav-octicon d-none d-sm-inline">
    <path d="M8 0a8 8 0 1 1 0 16A8 8 0 0 1 8 0ZM1.5 8a6.5 6.5 0 1 0 13 0 6.5 6.5 0 0 0-13 0Zm4.879-2.773 4.264 2.559a.25.25 0 0 1 0 .428l-4.264 2.559A.25.25 0 0 1 6 10.559V5.442a.25.25 0 0 1 .379-.215Z"></path>
</svg>
        <span data-content="Actions">Actions</span>
          <span id="actions-repo-tab-count" data-pjax-replace="" data-turbo-replace="" title="Not available" data-view-component="true" class="Counter"></span>


    
</a></li>
      <li data-view-component="true" class="d-inline-flex">
  <a id="projects-tab" href="/AlexLaudiano/imersao_python/projects" data-tab-item="i4projects-tab" data-selected-links="repo_projects new_repo_project repo_project /AlexLaudiano/imersao_python/projects" data-pjax="#repo-content-pjax-container" data-turbo-frame="repo-content-turbo-frame" data-hotkey="g b" data-analytics-event="{&quot;category&quot;:&quot;Underline navbar&quot;,&quot;action&quot;:&quot;Click tab&quot;,&quot;label&quot;:&quot;Projects&quot;,&quot;target&quot;:&quot;UNDERLINE_NAV.TAB&quot;}" data-view-component="true" class="UnderlineNav-item no-wrap js-responsive-underlinenav-item js-selected-navigation-item">
    
              <svg aria-hidden="true" height="16" viewBox="0 0 16 16" version="1.1" width="16" data-view-component="true" class="octicon octicon-table UnderlineNav-octicon d-none d-sm-inline">
    <path d="M0 1.75C0 .784.784 0 1.75 0h12.5C15.216 0 16 .784 16 1.75v12.5A1.75 1.75 0 0 1 14.25 16H1.75A1.75 1.75 0 0 1 0 14.25ZM6.5 6.5v8h7.75a.25.25 0 0 0 .25-.25V6.5Zm8-1.5V1.75a.25.25 0 0 0-.25-.25H6.5V5Zm-13 1.5v7.75c0 .138.112.25.25.25H5v-8ZM5 5V1.5H1.75a.25.25 0 0 0-.25.25V5Z"></path>
</svg>
        <span data-content="Projects">Projects</span>
          <span id="projects-repo-tab-count" data-pjax-replace="" data-turbo-replace="" title="0" hidden="hidden" data-view-component="true" class="Counter">0</span>


    
</a></li>
      <li data-view-component="true" class="d-inline-flex">
  <a id="security-tab" href="/AlexLaudiano/imersao_python/security" data-tab-item="i5security-tab" data-selected-links="security overview alerts policy token_scanning code_scanning /AlexLaudiano/imersao_python/security" data-pjax="#repo-content-pjax-container" data-turbo-frame="repo-content-turbo-frame" data-hotkey="g s" data-analytics-event="{&quot;category&quot;:&quot;Underline navbar&quot;,&quot;action&quot;:&quot;Click tab&quot;,&quot;label&quot;:&quot;Security&quot;,&quot;target&quot;:&quot;UNDERLINE_NAV.TAB&quot;}" data-view-component="true" class="UnderlineNav-item no-wrap js-responsive-underlinenav-item js-selected-navigation-item">
    
              <svg aria-hidden="true" height="16" viewBox="0 0 16 16" version="1.1" width="16" data-view-component="true" class="octicon octicon-shield UnderlineNav-octicon d-none d-sm-inline">
    <path d="M7.467.133a1.748 1.748 0 0 1 1.066 0l5.25 1.68A1.75 1.75 0 0 1 15 3.48V7c0 1.566-.32 3.182-1.303 4.682-.983 1.498-2.585 2.813-5.032 3.855a1.697 1.697 0 0 1-1.33 0c-2.447-1.042-4.049-2.357-5.032-3.855C1.32 10.182 1 8.566 1 7V3.48a1.75 1.75 0 0 1 1.217-1.667Zm.61 1.429a.25.25 0 0 0-.153 0l-5.25 1.68a.25.25 0 0 0-.174.238V7c0 1.358.275 2.666 1.057 3.86.784 1.194 2.121 2.34 4.366 3.297a.196.196 0 0 0 .154 0c2.245-.956 3.582-2.104 4.366-3.298C13.225 9.666 13.5 8.36 13.5 7V3.48a.251.251 0 0 0-.174-.237l-5.25-1.68ZM8.75 4.75v3a.75.75 0 0 1-1.5 0v-3a.75.75 0 0 1 1.5 0ZM9 10.5a1 1 0 1 1-2 0 1 1 0 0 1 2 0Z"></path>
</svg>
        <span data-content="Security">Security</span>
          <include-fragment src="/AlexLaudiano/imersao_python/security/overall-count" accept="text/fragment+html"></include-fragment>

    
</a></li>
      <li data-view-component="true" class="d-inline-flex">
  <a id="insights-tab" href="/AlexLaudiano/imersao_python/pulse" data-tab-item="i6insights-tab" data-selected-links="repo_graphs repo_contributors dependency_graph dependabot_updates pulse people community /AlexLaudiano/imersao_python/pulse" data-pjax="#repo-content-pjax-container" data-turbo-frame="repo-content-turbo-frame" data-analytics-event="{&quot;category&quot;:&quot;Underline navbar&quot;,&quot;action&quot;:&quot;Click tab&quot;,&quot;label&quot;:&quot;Insights&quot;,&quot;target&quot;:&quot;UNDERLINE_NAV.TAB&quot;}" data-view-component="true" class="UnderlineNav-item no-wrap js-responsive-underlinenav-item js-selected-navigation-item">
    
              <svg aria-hidden="true" height="16" viewBox="0 0 16 16" version="1.1" width="16" data-view-component="true" class="octicon octicon-graph UnderlineNav-octicon d-none d-sm-inline">
    <path d="M1.5 1.75V13.5h13.75a.75.75 0 0 1 0 1.5H.75a.75.75 0 0 1-.75-.75V1.75a.75.75 0 0 1 1.5 0Zm14.28 2.53-5.25 5.25a.75.75 0 0 1-1.06 0L7 7.06 4.28 9.78a.751.751 0 0 1-1.042-.018.751.751 0 0 1-.018-1.042l3.25-3.25a.75.75 0 0 1 1.06 0L10 7.94l4.72-4.72a.751.751 0 0 1 1.042.018.751.751 0 0 1 .018 1.042Z"></path>
</svg>
        <span data-content="Insights">Insights</span>
          <span id="insights-repo-tab-count" data-pjax-replace="" data-turbo-replace="" title="Not available" data-view-component="true" class="Counter"></span>


    
</a></li>
</ul>
    <div style="visibility:hidden;" data-view-component="true" class="UnderlineNav-actions js-responsive-underlinenav-overflow position-absolute pr-3 pr-md-4 pr-lg-5 right-0">      <action-menu data-select-variant="none" data-view-component="true">
  <focus-group direction="vertical" mnemonics retain>
    <button id="action-menu-c117f603-7ea6-41ae-add5-8bb9726a3972-button" popovertarget="action-menu-c117f603-7ea6-41ae-add5-8bb9726a3972-overlay" aria-controls="action-menu-c117f603-7ea6-41ae-add5-8bb9726a3972-list" aria-haspopup="true" aria-labelledby="tooltip-df126a1a-6494-40a4-8751-88b192f7ee5a" type="button" data-view-component="true" class="Button Button--iconOnly Button--secondary Button--medium UnderlineNav-item">  <svg aria-hidden="true" height="16" viewBox="0 0 16 16" version="1.1" width="16" data-view-component="true" class="octicon octicon-kebab-horizontal Button-visual">
    <path d="M8 9a1.5 1.5 0 1 0 0-3 1.5 1.5 0 0 0 0 3ZM1.5 9a1.5 1.5 0 1 0 0-3 1.5 1.5 0 0 0 0 3Zm13 0a1.5 1.5 0 1 0 0-3 1.5 1.5 0 0 0 0 3Z"></path>
</svg>
</button><tool-tip id="tooltip-df126a1a-6494-40a4-8751-88b192f7ee5a" for="action-menu-c117f603-7ea6-41ae-add5-8bb9726a3972-button" popover="manual" data-direction="s" data-type="label" data-view-component="true" class="sr-only position-absolute">Additional navigation options</tool-tip>


<anchored-position id="action-menu-c117f603-7ea6-41ae-add5-8bb9726a3972-overlay" anchor="action-menu-c117f603-7ea6-41ae-add5-8bb9726a3972-button" align="start" side="outside-bottom" anchor-offset="normal" popover="auto" data-view-component="true">
  <div data-view-component="true" class="Overlay Overlay--size-auto">
    
      <div data-view-component="true" class="Overlay-body Overlay-body--paddingNone">          <action-list>
  <div data-view-component="true">
    <ul aria-labelledby="action-menu-c117f603-7ea6-41ae-add5-8bb9726a3972-button" id="action-menu-c117f603-7ea6-41ae-add5-8bb9726a3972-list" role="menu" data-view-component="true" class="ActionListWrap--inset ActionListWrap">
        <li hidden="hidden" data-menu-item="i0code-tab" data-targets="action-list.items" role="none" data-view-component="true" class="ActionListItem">
    
    <a tabindex="-1" id="item-9e9b62ad-487d-45bc-a3e9-83727e6e7834" href="/AlexLaudiano/imersao_python" role="menuitem" data-view-component="true" class="ActionListContent ActionListContent--visual16">
        <span class="ActionListItem-visual ActionListItem-visual--leading">
          <svg aria-hidden="true" height="16" viewBox="0 0 16 16" version="1.1" width="16" data-view-component="true" class="octicon octicon-code">
    <path d="m11.28 3.22 4.25 4.25a.75.75 0 0 1 0 1.06l-4.25 4.25a.749.749 0 0 1-1.275-.326.749.749 0 0 1 .215-.734L13.94 8l-3.72-3.72a.749.749 0 0 1 .326-1.275.749.749 0 0 1 .734.215Zm-6.56 0a.751.751 0 0 1 1.042.018.751.751 0 0 1 .018 1.042L2.06 8l3.72 3.72a.749.749 0 0 1-.326 1.275.749.749 0 0 1-.734-.215L.47 8.53a.75.75 0 0 1 0-1.06Z"></path>
</svg>
        </span>
      
        <span data-view-component="true" class="ActionListItem-label">
          Code
</span></a>
  
  
</li>
        <li hidden="hidden" data-menu-item="i1issues-tab" data-targets="action-list.items" role="none" data-view-component="true" class="ActionListItem">
    
    <a tabindex="-1" id="item-74c11e29-654d-41f5-895d-07a886bdcb6c" href="/AlexLaudiano/imersao_python/issues" role="menuitem" data-view-component="true" class="ActionListContent ActionListContent--visual16">
        <span class="ActionListItem-visual ActionListItem-visual--leading">
          <svg aria-hidden="true" height="16" viewBox="0 0 16 16" version="1.1" width="16" data-view-component="true" class="octicon octicon-issue-opened">
    <path d="M8 9.5a1.5 1.5 0 1 0 0-3 1.5 1.5 0 0 0 0 3Z"></path><path d="M8 0a8 8 0 1 1 0 16A8 8 0 0 1 8 0ZM1.5 8a6.5 6.5 0 1 0 13 0 6.5 6.5 0 0 0-13 0Z"></path>
</svg>
        </span>
      
        <span data-view-component="true" class="ActionListItem-label">
          Issues
</span></a>
  
  
</li>
        <li hidden="hidden" data-menu-item="i2pull-requests-tab" data-targets="action-list.items" role="none" data-view-component="true" class="ActionListItem">
    
    <a tabindex="-1" id="item-659dd50b-b2a0-4c16-9be7-89ba6ea8c97a" href="/AlexLaudiano/imersao_python/pulls" role="menuitem" data-view-component="true" class="ActionListContent ActionListContent--visual16">
        <span class="ActionListItem-visual ActionListItem-visual--leading">
          <svg aria-hidden="true" height="16" viewBox="0 0 16 16" version="1.1" width="16" data-view-component="true" class="octicon octicon-git-pull-request">
    <path d="M1.5 3.25a2.25 2.25 0 1 1 3 2.122v5.256a2.251 2.251 0 1 1-1.5 0V5.372A2.25 2.25 0 0 1 1.5 3.25Zm5.677-.177L9.573.677A.25.25 0 0 1 10 .854V2.5h1A2.5 2.5 0 0 1 13.5 5v5.628a2.251 2.251 0 1 1-1.5 0V5a1 1 0 0 0-1-1h-1v1.646a.25.25 0 0 1-.427.177L7.177 3.427a.25.25 0 0 1 0-.354ZM3.75 2.5a.75.75 0 1 0 0 1.5.75.75 0 0 0 0-1.5Zm0 9.5a.75.75 0 1 0 0 1.5.75.75 0 0 0 0-1.5Zm8.25.75a.75.75 0 1 0 1.5 0 .75.75 0 0 0-1.5 0Z"></path>
</svg>
        </span>
      
        <span data-view-component="true" class="ActionListItem-label">
          Pull requests
</span></a>
  
  
</li>
        <li hidden="hidden" data-menu-item="i3actions-tab" data-targets="action-list.items" role="none" data-view-component="true" class="ActionListItem">
    
    <a tabindex="-1" id="item-01e9909c-ce98-4394-89f5-bc8d0c84cefd" href="/AlexLaudiano/imersao_python/actions" role="menuitem" data-view-component="true" class="ActionListContent ActionListContent--visual16">
        <span class="ActionListItem-visual ActionListItem-visual--leading">
          <svg aria-hidden="true" height="16" viewBox="0 0 16 16" version="1.1" width="16" data-view-component="true" class="octicon octicon-play">
    <path d="M8 0a8 8 0 1 1 0 16A8 8 0 0 1 8 0ZM1.5 8a6.5 6.5 0 1 0 13 0 6.5 6.5 0 0 0-13 0Zm4.879-2.773 4.264 2.559a.25.25 0 0 1 0 .428l-4.264 2.559A.25.25 0 0 1 6 10.559V5.442a.25.25 0 0 1 .379-.215Z"></path>
</svg>
        </span>
      
        <span data-view-component="true" class="ActionListItem-label">
          Actions
</span></a>
  
  
</li>
        <li hidden="hidden" data-menu-item="i4projects-tab" data-targets="action-list.items" role="none" data-view-component="true" class="ActionListItem">
    
    <a tabindex="-1" id="item-f3368cb4-6ee5-4aa6-ad21-b49f346ffaa7" href="/AlexLaudiano/imersao_python/projects" role="menuitem" data-view-component="true" class="ActionListContent ActionListContent--visual16">
        <span class="ActionListItem-visual ActionListItem-visual--leading">
          <svg aria-hidden="true" height="16" viewBox="0 0 16 16" version="1.1" width="16" data-view-component="true" class="octicon octicon-table">
    <path d="M0 1.75C0 .784.784 0 1.75 0h12.5C15.216 0 16 .784 16 1.75v12.5A1.75 1.75 0 0 1 14.25 16H1.75A1.75 1.75 0 0 1 0 14.25ZM6.5 6.5v8h7.75a.25.25 0 0 0 .25-.25V6.5Zm8-1.5V1.75a.25.25 0 0 0-.25-.25H6.5V5Zm-13 1.5v7.75c0 .138.112.25.25.25H5v-8ZM5 5V1.5H1.75a.25.25 0 0 0-.25.25V5Z"></path>
</svg>
        </span>
      
        <span data-view-component="true" class="ActionListItem-label">
          Projects
</span></a>
  
  
</li>
        <li hidden="hidden" data-menu-item="i5security-tab" data-targets="action-list.items" role="none" data-view-component="true" class="ActionListItem">
    
    <a tabindex="-1" id="item-60ddc2b6-80c2-4ed5-a66f-3365502d1207" href="/AlexLaudiano/imersao_python/security" role="menuitem" data-view-component="true" class="ActionListContent ActionListContent--visual16">
        <span class="ActionListItem-visual ActionListItem-visual--leading">
          <svg aria-hidden="true" height="16" viewBox="0 0 16 16" version="1.1" width="16" data-view-component="true" class="octicon octicon-shield">
    <path d="M7.467.133a1.748 1.748 0 0 1 1.066 0l5.25 1.68A1.75 1.75 0 0 1 15 3.48V7c0 1.566-.32 3.182-1.303 4.682-.983 1.498-2.585 2.813-5.032 3.855a1.697 1.697 0 0 1-1.33 0c-2.447-1.042-4.049-2.357-5.032-3.855C1.32 10.182 1 8.566 1 7V3.48a1.75 1.75 0 0 1 1.217-1.667Zm.61 1.429a.25.25 0 0 0-.153 0l-5.25 1.68a.25.25 0 0 0-.174.238V7c0 1.358.275 2.666 1.057 3.86.784 1.194 2.121 2.34 4.366 3.297a.196.196 0 0 0 .154 0c2.245-.956 3.582-2.104 4.366-3.298C13.225 9.666 13.5 8.36 13.5 7V3.48a.251.251 0 0 0-.174-.237l-5.25-1.68ZM8.75 4.75v3a.75.75 0 0 1-1.5 0v-3a.75.75 0 0 1 1.5 0ZM9 10.5a1 1 0 1 1-2 0 1 1 0 0 1 2 0Z"></path>
</svg>
        </span>
      
        <span data-view-component="true" class="ActionListItem-label">
          Security
</span></a>
  
  
</li>
        <li hidden="hidden" data-menu-item="i6insights-tab" data-targets="action-list.items" role="none" data-view-component="true" class="ActionListItem">
    
    <a tabindex="-1" id="item-d975bebf-d340-48eb-8ed9-2e5052c6a2ed" href="/AlexLaudiano/imersao_python/pulse" role="menuitem" data-view-component="true" class="ActionListContent ActionListContent--visual16">
        <span class="ActionListItem-visual ActionListItem-visual--leading">
          <svg aria-hidden="true" height="16" viewBox="0 0 16 16" version="1.1" width="16" data-view-component="true" class="octicon octicon-graph">
    <path d="M1.5 1.75V13.5h13.75a.75.75 0 0 1 0 1.5H.75a.75.75 0 0 1-.75-.75V1.75a.75.75 0 0 1 1.5 0Zm14.28 2.53-5.25 5.25a.75.75 0 0 1-1.06 0L7 7.06 4.28 9.78a.751.751 0 0 1-1.042-.018.751.751 0 0 1-.018-1.042l3.25-3.25a.75.75 0 0 1 1.06 0L10 7.94l4.72-4.72a.751.751 0 0 1 1.042.018.751.751 0 0 1 .018 1.042Z"></path>
</svg>
        </span>
      
        <span data-view-component="true" class="ActionListItem-label">
          Insights
</span></a>
  
  
</li>
</ul>    
</div></action-list>


</div>
      
</div></anchored-position>  </focus-group>
</action-menu></div>
</nav>
      </div>
</header>


      <div hidden="hidden" data-view-component="true" class="js-stale-session-flash stale-session-flash flash flash-warn flash-full mb-3">
  
        <svg aria-hidden="true" height="16" viewBox="0 0 16 16" version="1.1" width="16" data-view-component="true" class="octicon octicon-alert">
    <path d="M6.457 1.047c.659-1.234 2.427-1.234 3.086 0l6.082 11.378A1.75 1.75 0 0 1 14.082 15H1.918a1.75 1.75 0 0 1-1.543-2.575Zm1.763.707a.25.25 0 0 0-.44 0L1.698 13.132a.25.25 0 0 0 .22.368h12.164a.25.25 0 0 0 .22-.368Zm.53 3.996v2.5a.75.75 0 0 1-1.5 0v-2.5a.75.75 0 0 1 1.5 0ZM9 11a1 1 0 1 1-2 0 1 1 0 0 1 2 0Z"></path>
</svg>
        <span class="js-stale-session-flash-signed-in" hidden>You signed in with another tab or window. <a class="Link--inTextBlock" href="">Reload</a> to refresh your session.</span>
        <span class="js-stale-session-flash-signed-out" hidden>You signed out in another tab or window. <a class="Link--inTextBlock" href="">Reload</a> to refresh your session.</span>
        <span class="js-stale-session-flash-switched" hidden>You switched accounts on another tab or window. <a class="Link--inTextBlock" href="">Reload</a> to refresh your session.</span>

    <button id="icon-button-63d31e98-2aa2-4eb2-a84b-d32e1793a820" aria-labelledby="tooltip-0bc10ea9-6feb-4569-918b-edc3d4d0d47e" type="button" data-view-component="true" class="Button Button--iconOnly Button--invisible Button--medium flash-close js-flash-close">  <svg aria-hidden="true" height="16" viewBox="0 0 16 16" version="1.1" width="16" data-view-component="true" class="octicon octicon-x Button-visual">
    <path d="M3.72 3.72a.75.75 0 0 1 1.06 0L8 6.94l3.22-3.22a.749.749 0 0 1 1.275.326.749.749 0 0 1-.215.734L9.06 8l3.22 3.22a.749.749 0 0 1-.326 1.275.749.749 0 0 1-.734-.215L8 9.06l-3.22 3.22a.751.751 0 0 1-1.042-.018.751.751 0 0 1-.018-1.042L6.94 8 3.72 4.78a.75.75 0 0 1 0-1.06Z"></path>
</svg>
</button><tool-tip id="tooltip-0bc10ea9-6feb-4569-918b-edc3d4d0d47e" for="icon-button-63d31e98-2aa2-4eb2-a84b-d32e1793a820" popover="manual" data-direction="s" data-type="label" data-view-component="true" class="sr-only position-absolute">Dismiss alert</tool-tip>


  
</div>
          
    </div>

  <div id="start-of-content" class="show-on-focus"></div>








    <div id="js-flash-container" data-turbo-replace>





  <template class="js-flash-template">
    
<div class="flash flash-full   {{ className }}">
  <div >
    <button autofocus class="flash-close js-flash-close" type="button" aria-label="Dismiss this message">
      <svg aria-hidden="true" height="16" viewBox="0 0 16 16" version="1.1" width="16" data-view-component="true" class="octicon octicon-x">
    <path d="M3.72 3.72a.75.75 0 0 1 1.06 0L8 6.94l3.22-3.22a.749.749 0 0 1 1.275.326.749.749 0 0 1-.215.734L9.06 8l3.22 3.22a.749.749 0 0 1-.326 1.275.749.749 0 0 1-.734-.215L8 9.06l-3.22 3.22a.751.751 0 0 1-1.042-.018.751.751 0 0 1-.018-1.042L6.94 8 3.72 4.78a.75.75 0 0 1 0-1.06Z"></path>
</svg>
    </button>
    <div aria-atomic="true" role="alert" class="js-flash-alert">
      
      <div>{{ message }}</div>

    </div>
  </div>
</div>
  </template>
</div>


    
    <notification-shelf-watcher data-base-url="https://github.com/notifications/beta/shelf" data-channel="eyJjIjoibm90aWZpY2F0aW9uLWNoYW5nZWQ6NDI3NDczNTgiLCJ0IjoxNzEyNzU5NzE2fQ==--2efaa9d17b39c2cf45aa0e521d0f879c71916da82d49ee8b5c31228359c01586" data-view-component="true" class="js-socket-channel"></notification-shelf-watcher>
  <div hidden data-initial data-target="notification-shelf-watcher.placeholder"></div>





      <details
  class="details-reset details-overlay details-overlay-dark js-command-palette-dialog"
  id="command-palette-pjax-container"
  data-turbo-replace
>
  <summary aria-label="Command palette trigger" tabindex="-1"></summary>
  <details-dialog class="command-palette-details-dialog d-flex flex-column flex-justify-center height-fit" aria-label="Command palette">
    <command-palette
      class="command-palette color-bg-default rounded-3 border color-shadow-small"
      return-to=/AlexLaudiano/imersao_python/blob/main/Aula_5/Imers%C3%A3o_Python_Aula_5.ipynb
      user-id="42747358"
      activation-hotkey="Mod+k,Mod+Alt+k"
      command-mode-hotkey="Mod+Shift+K"
      data-action="
        command-palette-input-ready:command-palette#inputReady
        command-palette-page-stack-updated:command-palette#updateInputScope
        itemsUpdated:command-palette#itemsUpdated
        keydown:command-palette#onKeydown
        loadingStateChanged:command-palette#loadingStateChanged
        selectedItemChanged:command-palette#selectedItemChanged
        pageFetchError:command-palette#pageFetchError
      ">

        <command-palette-mode
          data-char="#"
            data-scope-types="[&quot;&quot;]"
            data-placeholder="Search issues and pull requests"
        ></command-palette-mode>
        <command-palette-mode
          data-char="#"
            data-scope-types="[&quot;owner&quot;,&quot;repository&quot;]"
            data-placeholder="Search issues, pull requests, discussions, and projects"
        ></command-palette-mode>
        <command-palette-mode
          data-char="!"
            data-scope-types="[&quot;owner&quot;,&quot;repository&quot;]"
            data-placeholder="Search projects"
        ></command-palette-mode>
        <command-palette-mode
          data-char="@"
            data-scope-types="[&quot;&quot;]"
            data-placeholder="Search or jump to a user, organization, or repository"
        ></command-palette-mode>
        <command-palette-mode
          data-char="@"
            data-scope-types="[&quot;owner&quot;]"
            data-placeholder="Search or jump to a repository"
        ></command-palette-mode>
        <command-palette-mode
          data-char="/"
            data-scope-types="[&quot;repository&quot;]"
            data-placeholder="Search files"
        ></command-palette-mode>
        <command-palette-mode
          data-char="?"
        ></command-palette-mode>
        <command-palette-mode
          data-char="&gt;"
            data-placeholder="Run a command"
        ></command-palette-mode>
        <command-palette-mode
          data-char=""
            data-scope-types="[&quot;&quot;]"
            data-placeholder="Search or jump to..."
        ></command-palette-mode>
        <command-palette-mode
          data-char=""
            data-scope-types="[&quot;owner&quot;]"
            data-placeholder="Search or jump to..."
        ></command-palette-mode>
      <command-palette-mode
        class="js-command-palette-default-mode"
        data-char=""
        data-placeholder="Search or jump to..."
      ></command-palette-mode>

      <command-palette-input placeholder="Search or jump to..."

        data-action="
          command-palette-input:command-palette#onInput
          command-palette-select:command-palette#onSelect
          command-palette-descope:command-palette#onDescope
          command-palette-cleared:command-palette#onInputClear
        "
      >
        <div class="js-search-icon d-flex flex-items-center mr-2" style="height: 26px">
          <svg aria-hidden="true" height="16" viewBox="0 0 16 16" version="1.1" width="16" data-view-component="true" class="octicon octicon-search color-fg-muted">
    <path d="M10.68 11.74a6 6 0 0 1-7.922-8.982 6 6 0 0 1 8.982 7.922l3.04 3.04a.749.749 0 0 1-.326 1.275.749.749 0 0 1-.734-.215ZM11.5 7a4.499 4.499 0 1 0-8.997 0A4.499 4.499 0 0 0 11.5 7Z"></path>
</svg>
        </div>
        <div class="js-spinner d-flex flex-items-center mr-2 color-fg-muted" hidden>
          <svg aria-label="Loading" class="anim-rotate" viewBox="0 0 16 16" fill="none" width="16" height="16">
            <circle
              cx="8"
              cy="8"
              r="7"
              stroke="currentColor"
              stroke-opacity="0.25"
              stroke-width="2"
              vector-effect="non-scaling-stroke"
            ></circle>
            <path
              d="M15 8a7.002 7.002 0 00-7-7"
              stroke="currentColor"
              stroke-width="2"
              stroke-linecap="round"
              vector-effect="non-scaling-stroke"
            ></path>
          </svg>
        </div>
        <command-palette-scope >
          <div data-target="command-palette-scope.placeholder" hidden class="color-fg-subtle">/&nbsp;&nbsp;<span class="text-semibold color-fg-default">...</span>&nbsp;&nbsp;/&nbsp;&nbsp;</div>
              <command-palette-token
                data-text="AlexLaudiano"
                data-id="U_kgDOCW4WvA"
                data-type="owner"
                data-value="AlexLaudiano"
                data-targets="command-palette-scope.tokens"
                class="color-fg-default text-semibold"
                style="white-space:nowrap;line-height:20px;"
                >AlexLaudiano<span class="color-fg-subtle text-normal">&nbsp;&nbsp;/&nbsp;&nbsp;</span></command-palette-token>
              <command-palette-token
                data-text="imersao_python"
                data-id="R_kgDOLmBiIg"
                data-type="repository"
                data-value="imersao_python"
                data-targets="command-palette-scope.tokens"
                class="color-fg-default text-semibold"
                style="white-space:nowrap;line-height:20px;"
                >imersao_python<span class="color-fg-subtle text-normal">&nbsp;&nbsp;/&nbsp;&nbsp;</span></command-palette-token>
        </command-palette-scope>
        <div class="command-palette-input-group flex-1 form-control border-0 box-shadow-none" style="z-index: 0">
          <div class="command-palette-typeahead position-absolute d-flex flex-items-center Truncate">
            <span class="typeahead-segment input-mirror" data-target="command-palette-input.mirror"></span>
            <span class="Truncate-text" data-target="command-palette-input.typeaheadText"></span>
            <span class="typeahead-segment" data-target="command-palette-input.typeaheadPlaceholder"></span>
          </div>
          <input
            class="js-overlay-input typeahead-input d-none"
            disabled
            tabindex="-1"
            aria-label="Hidden input for typeahead"
          >
          <input
            type="text"
            autocomplete="off"
            autocorrect="off"
            autocapitalize="off"
            spellcheck="false"
            class="js-input typeahead-input form-control border-0 box-shadow-none input-block width-full no-focus-indicator"
            aria-label="Command palette input"
            aria-haspopup="listbox"
            aria-expanded="false"
            aria-autocomplete="list"
            aria-controls="command-palette-page-stack"
            role="combobox"
            data-action="
              input:command-palette-input#onInput
              keydown:command-palette-input#onKeydown
            "
          >
        </div>
          <div data-view-component="true" class="position-relative d-inline-block">
    <button aria-keyshortcuts="Control+Backspace" data-action="click:command-palette-input#onClear keypress:command-palette-input#onClear" data-target="command-palette-input.clearButton" id="command-palette-clear-button" hidden="hidden" type="button" data-view-component="true" class="btn-octicon command-palette-input-clear-button">      <svg aria-hidden="true" height="16" viewBox="0 0 16 16" version="1.1" width="16" data-view-component="true" class="octicon octicon-x-circle-fill">
    <path d="M2.343 13.657A8 8 0 1 1 13.658 2.343 8 8 0 0 1 2.343 13.657ZM6.03 4.97a.751.751 0 0 0-1.042.018.751.751 0 0 0-.018 1.042L6.94 8 4.97 9.97a.749.749 0 0 0 .326 1.275.749.749 0 0 0 .734-.215L8 9.06l1.97 1.97a.749.749 0 0 0 1.275-.326.749.749 0 0 0-.215-.734L9.06 8l1.97-1.97a.749.749 0 0 0-.326-1.275.749.749 0 0 0-.734.215L8 6.94Z"></path>
</svg>
</button>    <tool-tip id="tooltip-42134b43-f906-42a4-ac61-686a02fbb584" for="command-palette-clear-button" popover="manual" data-direction="w" data-type="label" data-view-component="true" class="sr-only position-absolute">Clear Command Palette</tool-tip>
</div>
      </command-palette-input>

      <command-palette-page-stack
        data-default-scope-id="R_kgDOLmBiIg"
        data-default-scope-type="Repository"
        data-action="command-palette-page-octicons-cached:command-palette-page-stack#cacheOcticons"
      >
          <command-palette-tip
            class="color-fg-muted f6 px-3 py-1 my-2"
              data-scope-types="[&quot;&quot;,&quot;owner&quot;,&quot;repository&quot;]"
            data-mode=""
            data-value="">
            <div class="d-flex flex-items-start flex-justify-between">
              <div>
                <span class="text-bold">Tip:</span>
                  Type <kbd class="hx_kbd">#</kbd> to search pull requests
              </div>
              <div class="ml-2 flex-shrink-0">
                Type <kbd class="hx_kbd">?</kbd> for help and tips
              </div>
            </div>
          </command-palette-tip>
          <command-palette-tip
            class="color-fg-muted f6 px-3 py-1 my-2"
              data-scope-types="[&quot;&quot;,&quot;owner&quot;,&quot;repository&quot;]"
            data-mode=""
            data-value="">
            <div class="d-flex flex-items-start flex-justify-between">
              <div>
                <span class="text-bold">Tip:</span>
                  Type <kbd class="hx_kbd">#</kbd> to search issues
              </div>
              <div class="ml-2 flex-shrink-0">
                Type <kbd class="hx_kbd">?</kbd> for help and tips
              </div>
            </div>
          </command-palette-tip>
          <command-palette-tip
            class="color-fg-muted f6 px-3 py-1 my-2"
              data-scope-types="[&quot;owner&quot;,&quot;repository&quot;]"
            data-mode=""
            data-value="">
            <div class="d-flex flex-items-start flex-justify-between">
              <div>
                <span class="text-bold">Tip:</span>
                  Type <kbd class="hx_kbd">#</kbd> to search discussions
              </div>
              <div class="ml-2 flex-shrink-0">
                Type <kbd class="hx_kbd">?</kbd> for help and tips
              </div>
            </div>
          </command-palette-tip>
          <command-palette-tip
            class="color-fg-muted f6 px-3 py-1 my-2"
              data-scope-types="[&quot;owner&quot;,&quot;repository&quot;]"
            data-mode=""
            data-value="">
            <div class="d-flex flex-items-start flex-justify-between">
              <div>
                <span class="text-bold">Tip:</span>
                  Type <kbd class="hx_kbd">!</kbd> to search projects
              </div>
              <div class="ml-2 flex-shrink-0">
                Type <kbd class="hx_kbd">?</kbd> for help and tips
              </div>
            </div>
          </command-palette-tip>
          <command-palette-tip
            class="color-fg-muted f6 px-3 py-1 my-2"
              data-scope-types="[&quot;owner&quot;]"
            data-mode=""
            data-value="">
            <div class="d-flex flex-items-start flex-justify-between">
              <div>
                <span class="text-bold">Tip:</span>
                  Type <kbd class="hx_kbd">@</kbd> to search teams
              </div>
              <div class="ml-2 flex-shrink-0">
                Type <kbd class="hx_kbd">?</kbd> for help and tips
              </div>
            </div>
          </command-palette-tip>
          <command-palette-tip
            class="color-fg-muted f6 px-3 py-1 my-2"
              data-scope-types="[&quot;&quot;]"
            data-mode=""
            data-value="">
            <div class="d-flex flex-items-start flex-justify-between">
              <div>
                <span class="text-bold">Tip:</span>
                  Type <kbd class="hx_kbd">@</kbd> to search people and organizations
              </div>
              <div class="ml-2 flex-shrink-0">
                Type <kbd class="hx_kbd">?</kbd> for help and tips
              </div>
            </div>
          </command-palette-tip>
          <command-palette-tip
            class="color-fg-muted f6 px-3 py-1 my-2"
              data-scope-types="[&quot;&quot;,&quot;owner&quot;,&quot;repository&quot;]"
            data-mode=""
            data-value="">
            <div class="d-flex flex-items-start flex-justify-between">
              <div>
                <span class="text-bold">Tip:</span>
                  Type <kbd class="hx_kbd">&gt;</kbd> to activate command mode
              </div>
              <div class="ml-2 flex-shrink-0">
                Type <kbd class="hx_kbd">?</kbd> for help and tips
              </div>
            </div>
          </command-palette-tip>
          <command-palette-tip
            class="color-fg-muted f6 px-3 py-1 my-2"
              data-scope-types="[&quot;&quot;,&quot;owner&quot;,&quot;repository&quot;]"
            data-mode=""
            data-value="">
            <div class="d-flex flex-items-start flex-justify-between">
              <div>
                <span class="text-bold">Tip:</span>
                  Go to your accessibility settings to change your keyboard shortcuts
              </div>
              <div class="ml-2 flex-shrink-0">
                Type <kbd class="hx_kbd">?</kbd> for help and tips
              </div>
            </div>
          </command-palette-tip>
          <command-palette-tip
            class="color-fg-muted f6 px-3 py-1 my-2"
              data-scope-types="[&quot;&quot;,&quot;owner&quot;,&quot;repository&quot;]"
            data-mode="#"
            data-value="">
            <div class="d-flex flex-items-start flex-justify-between">
              <div>
                <span class="text-bold">Tip:</span>
                  Type author:@me to search your content
              </div>
              <div class="ml-2 flex-shrink-0">
                Type <kbd class="hx_kbd">?</kbd> for help and tips
              </div>
            </div>
          </command-palette-tip>
          <command-palette-tip
            class="color-fg-muted f6 px-3 py-1 my-2"
              data-scope-types="[&quot;&quot;,&quot;owner&quot;,&quot;repository&quot;]"
            data-mode="#"
            data-value="">
            <div class="d-flex flex-items-start flex-justify-between">
              <div>
                <span class="text-bold">Tip:</span>
                  Type is:pr to filter to pull requests
              </div>
              <div class="ml-2 flex-shrink-0">
                Type <kbd class="hx_kbd">?</kbd> for help and tips
              </div>
            </div>
          </command-palette-tip>
          <command-palette-tip
            class="color-fg-muted f6 px-3 py-1 my-2"
              data-scope-types="[&quot;&quot;,&quot;owner&quot;,&quot;repository&quot;]"
            data-mode="#"
            data-value="">
            <div class="d-flex flex-items-start flex-justify-between">
              <div>
                <span class="text-bold">Tip:</span>
                  Type is:issue to filter to issues
              </div>
              <div class="ml-2 flex-shrink-0">
                Type <kbd class="hx_kbd">?</kbd> for help and tips
              </div>
            </div>
          </command-palette-tip>
          <command-palette-tip
            class="color-fg-muted f6 px-3 py-1 my-2"
              data-scope-types="[&quot;owner&quot;,&quot;repository&quot;]"
            data-mode="#"
            data-value="">
            <div class="d-flex flex-items-start flex-justify-between">
              <div>
                <span class="text-bold">Tip:</span>
                  Type is:project to filter to projects
              </div>
              <div class="ml-2 flex-shrink-0">
                Type <kbd class="hx_kbd">?</kbd> for help and tips
              </div>
            </div>
          </command-palette-tip>
          <command-palette-tip
            class="color-fg-muted f6 px-3 py-1 my-2"
              data-scope-types="[&quot;&quot;,&quot;owner&quot;,&quot;repository&quot;]"
            data-mode="#"
            data-value="">
            <div class="d-flex flex-items-start flex-justify-between">
              <div>
                <span class="text-bold">Tip:</span>
                  Type is:open to filter to open content
              </div>
              <div class="ml-2 flex-shrink-0">
                Type <kbd class="hx_kbd">?</kbd> for help and tips
              </div>
            </div>
          </command-palette-tip>
        <command-palette-tip class="mx-3 my-2 flash flash-error d-flex flex-items-center" data-scope-types="*" data-on-error>
          <div>
            <svg aria-hidden="true" height="16" viewBox="0 0 16 16" version="1.1" width="16" data-view-component="true" class="octicon octicon-alert">
    <path d="M6.457 1.047c.659-1.234 2.427-1.234 3.086 0l6.082 11.378A1.75 1.75 0 0 1 14.082 15H1.918a1.75 1.75 0 0 1-1.543-2.575Zm1.763.707a.25.25 0 0 0-.44 0L1.698 13.132a.25.25 0 0 0 .22.368h12.164a.25.25 0 0 0 .22-.368Zm.53 3.996v2.5a.75.75 0 0 1-1.5 0v-2.5a.75.75 0 0 1 1.5 0ZM9 11a1 1 0 1 1-2 0 1 1 0 0 1 2 0Z"></path>
</svg>
          </div>
          <div class="px-2">
            We’ve encountered an error and some results aren't available at this time. Type a new search or try again later.
          </div>
        </command-palette-tip>
        <command-palette-tip class="h4 color-fg-default pl-3 pb-2 pt-3" data-on-empty data-scope-types="*" data-match-mode="[^?]|^$">
          No results matched your search
        </command-palette-tip>

        <div hidden>

            <div data-targets="command-palette-page-stack.localOcticons" data-octicon-id="arrow-right-color-fg-muted">
              <svg height="16" class="octicon octicon-arrow-right color-fg-muted" viewBox="0 0 16 16" version="1.1" width="16" aria-hidden="true"><path d="M8.22 2.97a.75.75 0 0 1 1.06 0l4.25 4.25a.75.75 0 0 1 0 1.06l-4.25 4.25a.751.751 0 0 1-1.042-.018.751.751 0 0 1-.018-1.042l2.97-2.97H3.75a.75.75 0 0 1 0-1.5h7.44L8.22 4.03a.75.75 0 0 1 0-1.06Z"></path></svg>
            </div>
            <div data-targets="command-palette-page-stack.localOcticons" data-octicon-id="arrow-right-color-fg-default">
              <svg height="16" class="octicon octicon-arrow-right color-fg-default" viewBox="0 0 16 16" version="1.1" width="16" aria-hidden="true"><path d="M8.22 2.97a.75.75 0 0 1 1.06 0l4.25 4.25a.75.75 0 0 1 0 1.06l-4.25 4.25a.751.751 0 0 1-1.042-.018.751.751 0 0 1-.018-1.042l2.97-2.97H3.75a.75.75 0 0 1 0-1.5h7.44L8.22 4.03a.75.75 0 0 1 0-1.06Z"></path></svg>
            </div>
            <div data-targets="command-palette-page-stack.localOcticons" data-octicon-id="codespaces-color-fg-muted">
              <svg height="16" class="octicon octicon-codespaces color-fg-muted" viewBox="0 0 16 16" version="1.1" width="16" aria-hidden="true"><path d="M0 11.25c0-.966.784-1.75 1.75-1.75h12.5c.966 0 1.75.784 1.75 1.75v3A1.75 1.75 0 0 1 14.25 16H1.75A1.75 1.75 0 0 1 0 14.25Zm2-9.5C2 .784 2.784 0 3.75 0h8.5C13.216 0 14 .784 14 1.75v5a1.75 1.75 0 0 1-1.75 1.75h-8.5A1.75 1.75 0 0 1 2 6.75Zm1.75-.25a.25.25 0 0 0-.25.25v5c0 .138.112.25.25.25h8.5a.25.25 0 0 0 .25-.25v-5a.25.25 0 0 0-.25-.25Zm-2 9.5a.25.25 0 0 0-.25.25v3c0 .138.112.25.25.25h12.5a.25.25 0 0 0 .25-.25v-3a.25.25 0 0 0-.25-.25Z"></path><path d="M7 12.75a.75.75 0 0 1 .75-.75h4.5a.75.75 0 0 1 0 1.5h-4.5a.75.75 0 0 1-.75-.75Zm-4 0a.75.75 0 0 1 .75-.75h.5a.75.75 0 0 1 0 1.5h-.5a.75.75 0 0 1-.75-.75Z"></path></svg>
            </div>
            <div data-targets="command-palette-page-stack.localOcticons" data-octicon-id="copy-color-fg-muted">
              <svg height="16" class="octicon octicon-copy color-fg-muted" viewBox="0 0 16 16" version="1.1" width="16" aria-hidden="true"><path d="M0 6.75C0 5.784.784 5 1.75 5h1.5a.75.75 0 0 1 0 1.5h-1.5a.25.25 0 0 0-.25.25v7.5c0 .138.112.25.25.25h7.5a.25.25 0 0 0 .25-.25v-1.5a.75.75 0 0 1 1.5 0v1.5A1.75 1.75 0 0 1 9.25 16h-7.5A1.75 1.75 0 0 1 0 14.25Z"></path><path d="M5 1.75C5 .784 5.784 0 6.75 0h7.5C15.216 0 16 .784 16 1.75v7.5A1.75 1.75 0 0 1 14.25 11h-7.5A1.75 1.75 0 0 1 5 9.25Zm1.75-.25a.25.25 0 0 0-.25.25v7.5c0 .138.112.25.25.25h7.5a.25.25 0 0 0 .25-.25v-7.5a.25.25 0 0 0-.25-.25Z"></path></svg>
            </div>
            <div data-targets="command-palette-page-stack.localOcticons" data-octicon-id="dash-color-fg-muted">
              <svg height="16" class="octicon octicon-dash color-fg-muted" viewBox="0 0 16 16" version="1.1" width="16" aria-hidden="true"><path d="M2 7.75A.75.75 0 0 1 2.75 7h10a.75.75 0 0 1 0 1.5h-10A.75.75 0 0 1 2 7.75Z"></path></svg>
            </div>
            <div data-targets="command-palette-page-stack.localOcticons" data-octicon-id="file-color-fg-muted">
              <svg height="16" class="octicon octicon-file color-fg-muted" viewBox="0 0 16 16" version="1.1" width="16" aria-hidden="true"><path d="M2 1.75C2 .784 2.784 0 3.75 0h6.586c.464 0 .909.184 1.237.513l2.914 2.914c.329.328.513.773.513 1.237v9.586A1.75 1.75 0 0 1 13.25 16h-9.5A1.75 1.75 0 0 1 2 14.25Zm1.75-.25a.25.25 0 0 0-.25.25v12.5c0 .138.112.25.25.25h9.5a.25.25 0 0 0 .25-.25V6h-2.75A1.75 1.75 0 0 1 9 4.25V1.5Zm6.75.062V4.25c0 .138.112.25.25.25h2.688l-.011-.013-2.914-2.914-.013-.011Z"></path></svg>
            </div>
            <div data-targets="command-palette-page-stack.localOcticons" data-octicon-id="gear-color-fg-muted">
              <svg height="16" class="octicon octicon-gear color-fg-muted" viewBox="0 0 16 16" version="1.1" width="16" aria-hidden="true"><path d="M8 0a8.2 8.2 0 0 1 .701.031C9.444.095 9.99.645 10.16 1.29l.288 1.107c.018.066.079.158.212.224.231.114.454.243.668.386.123.082.233.09.299.071l1.103-.303c.644-.176 1.392.021 1.82.63.27.385.506.792.704 1.218.315.675.111 1.422-.364 1.891l-.814.806c-.049.048-.098.147-.088.294.016.257.016.515 0 .772-.01.147.038.246.088.294l.814.806c.475.469.679 1.216.364 1.891a7.977 7.977 0 0 1-.704 1.217c-.428.61-1.176.807-1.82.63l-1.102-.302c-.067-.019-.177-.011-.3.071a5.909 5.909 0 0 1-.668.386c-.133.066-.194.158-.211.224l-.29 1.106c-.168.646-.715 1.196-1.458 1.26a8.006 8.006 0 0 1-1.402 0c-.743-.064-1.289-.614-1.458-1.26l-.289-1.106c-.018-.066-.079-.158-.212-.224a5.738 5.738 0 0 1-.668-.386c-.123-.082-.233-.09-.299-.071l-1.103.303c-.644.176-1.392-.021-1.82-.63a8.12 8.12 0 0 1-.704-1.218c-.315-.675-.111-1.422.363-1.891l.815-.806c.05-.048.098-.147.088-.294a6.214 6.214 0 0 1 0-.772c.01-.147-.038-.246-.088-.294l-.815-.806C.635 6.045.431 5.298.746 4.623a7.92 7.92 0 0 1 .704-1.217c.428-.61 1.176-.807 1.82-.63l1.102.302c.067.019.177.011.3-.071.214-.143.437-.272.668-.386.133-.066.194-.158.211-.224l.29-1.106C6.009.645 6.556.095 7.299.03 7.53.01 7.764 0 8 0Zm-.571 1.525c-.036.003-.108.036-.137.146l-.289 1.105c-.147.561-.549.967-.998 1.189-.173.086-.34.183-.5.29-.417.278-.97.423-1.529.27l-1.103-.303c-.109-.03-.175.016-.195.045-.22.312-.412.644-.573.99-.014.031-.021.11.059.19l.815.806c.411.406.562.957.53 1.456a4.709 4.709 0 0 0 0 .582c.032.499-.119 1.05-.53 1.456l-.815.806c-.081.08-.073.159-.059.19.162.346.353.677.573.989.02.03.085.076.195.046l1.102-.303c.56-.153 1.113-.008 1.53.27.161.107.328.204.501.29.447.222.85.629.997 1.189l.289 1.105c.029.109.101.143.137.146a6.6 6.6 0 0 0 1.142 0c.036-.003.108-.036.137-.146l.289-1.105c.147-.561.549-.967.998-1.189.173-.086.34-.183.5-.29.417-.278.97-.423 1.529-.27l1.103.303c.109.029.175-.016.195-.045.22-.313.411-.644.573-.99.014-.031.021-.11-.059-.19l-.815-.806c-.411-.406-.562-.957-.53-1.456a4.709 4.709 0 0 0 0-.582c-.032-.499.119-1.05.53-1.456l.815-.806c.081-.08.073-.159.059-.19a6.464 6.464 0 0 0-.573-.989c-.02-.03-.085-.076-.195-.046l-1.102.303c-.56.153-1.113.008-1.53-.27a4.44 4.44 0 0 0-.501-.29c-.447-.222-.85-.629-.997-1.189l-.289-1.105c-.029-.11-.101-.143-.137-.146a6.6 6.6 0 0 0-1.142 0ZM11 8a3 3 0 1 1-6 0 3 3 0 0 1 6 0ZM9.5 8a1.5 1.5 0 1 0-3.001.001A1.5 1.5 0 0 0 9.5 8Z"></path></svg>
            </div>
            <div data-targets="command-palette-page-stack.localOcticons" data-octicon-id="lock-color-fg-muted">
              <svg height="16" class="octicon octicon-lock color-fg-muted" viewBox="0 0 16 16" version="1.1" width="16" aria-hidden="true"><path d="M4 4a4 4 0 0 1 8 0v2h.25c.966 0 1.75.784 1.75 1.75v5.5A1.75 1.75 0 0 1 12.25 15h-8.5A1.75 1.75 0 0 1 2 13.25v-5.5C2 6.784 2.784 6 3.75 6H4Zm8.25 3.5h-8.5a.25.25 0 0 0-.25.25v5.5c0 .138.112.25.25.25h8.5a.25.25 0 0 0 .25-.25v-5.5a.25.25 0 0 0-.25-.25ZM10.5 6V4a2.5 2.5 0 1 0-5 0v2Z"></path></svg>
            </div>
            <div data-targets="command-palette-page-stack.localOcticons" data-octicon-id="moon-color-fg-muted">
              <svg height="16" class="octicon octicon-moon color-fg-muted" viewBox="0 0 16 16" version="1.1" width="16" aria-hidden="true"><path d="M9.598 1.591a.749.749 0 0 1 .785-.175 7.001 7.001 0 1 1-8.967 8.967.75.75 0 0 1 .961-.96 5.5 5.5 0 0 0 7.046-7.046.75.75 0 0 1 .175-.786Zm1.616 1.945a7 7 0 0 1-7.678 7.678 5.499 5.499 0 1 0 7.678-7.678Z"></path></svg>
            </div>
            <div data-targets="command-palette-page-stack.localOcticons" data-octicon-id="person-color-fg-muted">
              <svg height="16" class="octicon octicon-person color-fg-muted" viewBox="0 0 16 16" version="1.1" width="16" aria-hidden="true"><path d="M10.561 8.073a6.005 6.005 0 0 1 3.432 5.142.75.75 0 1 1-1.498.07 4.5 4.5 0 0 0-8.99 0 .75.75 0 0 1-1.498-.07 6.004 6.004 0 0 1 3.431-5.142 3.999 3.999 0 1 1 5.123 0ZM10.5 5a2.5 2.5 0 1 0-5 0 2.5 2.5 0 0 0 5 0Z"></path></svg>
            </div>
            <div data-targets="command-palette-page-stack.localOcticons" data-octicon-id="pencil-color-fg-muted">
              <svg height="16" class="octicon octicon-pencil color-fg-muted" viewBox="0 0 16 16" version="1.1" width="16" aria-hidden="true"><path d="M11.013 1.427a1.75 1.75 0 0 1 2.474 0l1.086 1.086a1.75 1.75 0 0 1 0 2.474l-8.61 8.61c-.21.21-.47.364-.756.445l-3.251.93a.75.75 0 0 1-.927-.928l.929-3.25c.081-.286.235-.547.445-.758l8.61-8.61Zm.176 4.823L9.75 4.81l-6.286 6.287a.253.253 0 0 0-.064.108l-.558 1.953 1.953-.558a.253.253 0 0 0 .108-.064Zm1.238-3.763a.25.25 0 0 0-.354 0L10.811 3.75l1.439 1.44 1.263-1.263a.25.25 0 0 0 0-.354Z"></path></svg>
            </div>
            <div data-targets="command-palette-page-stack.localOcticons" data-octicon-id="issue-opened-open">
              <svg height="16" class="octicon octicon-issue-opened open" viewBox="0 0 16 16" version="1.1" width="16" aria-hidden="true"><path d="M8 9.5a1.5 1.5 0 1 0 0-3 1.5 1.5 0 0 0 0 3Z"></path><path d="M8 0a8 8 0 1 1 0 16A8 8 0 0 1 8 0ZM1.5 8a6.5 6.5 0 1 0 13 0 6.5 6.5 0 0 0-13 0Z"></path></svg>
            </div>
            <div data-targets="command-palette-page-stack.localOcticons" data-octicon-id="git-pull-request-draft-color-fg-muted">
              <svg height="16" class="octicon octicon-git-pull-request-draft color-fg-muted" viewBox="0 0 16 16" version="1.1" width="16" aria-hidden="true"><path d="M3.25 1A2.25 2.25 0 0 1 4 5.372v5.256a2.251 2.251 0 1 1-1.5 0V5.372A2.251 2.251 0 0 1 3.25 1Zm9.5 14a2.25 2.25 0 1 1 0-4.5 2.25 2.25 0 0 1 0 4.5ZM2.5 3.25a.75.75 0 1 0 1.5 0 .75.75 0 0 0-1.5 0ZM3.25 12a.75.75 0 1 0 0 1.5.75.75 0 0 0 0-1.5Zm9.5 0a.75.75 0 1 0 0 1.5.75.75 0 0 0 0-1.5ZM14 7.5a1.25 1.25 0 1 1-2.5 0 1.25 1.25 0 0 1 2.5 0Zm0-4.25a1.25 1.25 0 1 1-2.5 0 1.25 1.25 0 0 1 2.5 0Z"></path></svg>
            </div>
            <div data-targets="command-palette-page-stack.localOcticons" data-octicon-id="search-color-fg-muted">
              <svg height="16" class="octicon octicon-search color-fg-muted" viewBox="0 0 16 16" version="1.1" width="16" aria-hidden="true"><path d="M10.68 11.74a6 6 0 0 1-7.922-8.982 6 6 0 0 1 8.982 7.922l3.04 3.04a.749.749 0 0 1-.326 1.275.749.749 0 0 1-.734-.215ZM11.5 7a4.499 4.499 0 1 0-8.997 0A4.499 4.499 0 0 0 11.5 7Z"></path></svg>
            </div>
            <div data-targets="command-palette-page-stack.localOcticons" data-octicon-id="sun-color-fg-muted">
              <svg height="16" class="octicon octicon-sun color-fg-muted" viewBox="0 0 16 16" version="1.1" width="16" aria-hidden="true"><path d="M8 12a4 4 0 1 1 0-8 4 4 0 0 1 0 8Zm0-1.5a2.5 2.5 0 1 0 0-5 2.5 2.5 0 0 0 0 5Zm5.657-8.157a.75.75 0 0 1 0 1.061l-1.061 1.06a.749.749 0 0 1-1.275-.326.749.749 0 0 1 .215-.734l1.06-1.06a.75.75 0 0 1 1.06 0Zm-9.193 9.193a.75.75 0 0 1 0 1.06l-1.06 1.061a.75.75 0 1 1-1.061-1.06l1.06-1.061a.75.75 0 0 1 1.061 0ZM8 0a.75.75 0 0 1 .75.75v1.5a.75.75 0 0 1-1.5 0V.75A.75.75 0 0 1 8 0ZM3 8a.75.75 0 0 1-.75.75H.75a.75.75 0 0 1 0-1.5h1.5A.75.75 0 0 1 3 8Zm13 0a.75.75 0 0 1-.75.75h-1.5a.75.75 0 0 1 0-1.5h1.5A.75.75 0 0 1 16 8Zm-8 5a.75.75 0 0 1 .75.75v1.5a.75.75 0 0 1-1.5 0v-1.5A.75.75 0 0 1 8 13Zm3.536-1.464a.75.75 0 0 1 1.06 0l1.061 1.06a.75.75 0 0 1-1.06 1.061l-1.061-1.06a.75.75 0 0 1 0-1.061ZM2.343 2.343a.75.75 0 0 1 1.061 0l1.06 1.061a.751.751 0 0 1-.018 1.042.751.751 0 0 1-1.042.018l-1.06-1.06a.75.75 0 0 1 0-1.06Z"></path></svg>
            </div>
            <div data-targets="command-palette-page-stack.localOcticons" data-octicon-id="sync-color-fg-muted">
              <svg height="16" class="octicon octicon-sync color-fg-muted" viewBox="0 0 16 16" version="1.1" width="16" aria-hidden="true"><path d="M1.705 8.005a.75.75 0 0 1 .834.656 5.5 5.5 0 0 0 9.592 2.97l-1.204-1.204a.25.25 0 0 1 .177-.427h3.646a.25.25 0 0 1 .25.25v3.646a.25.25 0 0 1-.427.177l-1.38-1.38A7.002 7.002 0 0 1 1.05 8.84a.75.75 0 0 1 .656-.834ZM8 2.5a5.487 5.487 0 0 0-4.131 1.869l1.204 1.204A.25.25 0 0 1 4.896 6H1.25A.25.25 0 0 1 1 5.75V2.104a.25.25 0 0 1 .427-.177l1.38 1.38A7.002 7.002 0 0 1 14.95 7.16a.75.75 0 0 1-1.49.178A5.5 5.5 0 0 0 8 2.5Z"></path></svg>
            </div>
            <div data-targets="command-palette-page-stack.localOcticons" data-octicon-id="trash-color-fg-muted">
              <svg height="16" class="octicon octicon-trash color-fg-muted" viewBox="0 0 16 16" version="1.1" width="16" aria-hidden="true"><path d="M11 1.75V3h2.25a.75.75 0 0 1 0 1.5H2.75a.75.75 0 0 1 0-1.5H5V1.75C5 .784 5.784 0 6.75 0h2.5C10.216 0 11 .784 11 1.75ZM4.496 6.675l.66 6.6a.25.25 0 0 0 .249.225h5.19a.25.25 0 0 0 .249-.225l.66-6.6a.75.75 0 0 1 1.492.149l-.66 6.6A1.748 1.748 0 0 1 10.595 15h-5.19a1.75 1.75 0 0 1-1.741-1.575l-.66-6.6a.75.75 0 1 1 1.492-.15ZM6.5 1.75V3h3V1.75a.25.25 0 0 0-.25-.25h-2.5a.25.25 0 0 0-.25.25Z"></path></svg>
            </div>
            <div data-targets="command-palette-page-stack.localOcticons" data-octicon-id="key-color-fg-muted">
              <svg height="16" class="octicon octicon-key color-fg-muted" viewBox="0 0 16 16" version="1.1" width="16" aria-hidden="true"><path d="M10.5 0a5.499 5.499 0 1 1-1.288 10.848l-.932.932a.749.749 0 0 1-.53.22H7v.75a.749.749 0 0 1-.22.53l-.5.5a.749.749 0 0 1-.53.22H5v.75a.749.749 0 0 1-.22.53l-.5.5a.749.749 0 0 1-.53.22h-2A1.75 1.75 0 0 1 0 14.25v-2c0-.199.079-.389.22-.53l4.932-4.932A5.5 5.5 0 0 1 10.5 0Zm-4 5.5c-.001.431.069.86.205 1.269a.75.75 0 0 1-.181.768L1.5 12.56v1.69c0 .138.112.25.25.25h1.69l.06-.06v-1.19a.75.75 0 0 1 .75-.75h1.19l.06-.06v-1.19a.75.75 0 0 1 .75-.75h1.19l1.023-1.025a.75.75 0 0 1 .768-.18A4 4 0 1 0 6.5 5.5ZM11 6a1 1 0 1 1 0-2 1 1 0 0 1 0 2Z"></path></svg>
            </div>
            <div data-targets="command-palette-page-stack.localOcticons" data-octicon-id="comment-discussion-color-fg-muted">
              <svg height="16" class="octicon octicon-comment-discussion color-fg-muted" viewBox="0 0 16 16" version="1.1" width="16" aria-hidden="true"><path d="M1.75 1h8.5c.966 0 1.75.784 1.75 1.75v5.5A1.75 1.75 0 0 1 10.25 10H7.061l-2.574 2.573A1.458 1.458 0 0 1 2 11.543V10h-.25A1.75 1.75 0 0 1 0 8.25v-5.5C0 1.784.784 1 1.75 1ZM1.5 2.75v5.5c0 .138.112.25.25.25h1a.75.75 0 0 1 .75.75v2.19l2.72-2.72a.749.749 0 0 1 .53-.22h3.5a.25.25 0 0 0 .25-.25v-5.5a.25.25 0 0 0-.25-.25h-8.5a.25.25 0 0 0-.25.25Zm13 2a.25.25 0 0 0-.25-.25h-.5a.75.75 0 0 1 0-1.5h.5c.966 0 1.75.784 1.75 1.75v5.5A1.75 1.75 0 0 1 14.25 12H14v1.543a1.458 1.458 0 0 1-2.487 1.03L9.22 12.28a.749.749 0 0 1 .326-1.275.749.749 0 0 1 .734.215l2.22 2.22v-2.19a.75.75 0 0 1 .75-.75h1a.25.25 0 0 0 .25-.25Z"></path></svg>
            </div>
            <div data-targets="command-palette-page-stack.localOcticons" data-octicon-id="bell-color-fg-muted">
              <svg height="16" class="octicon octicon-bell color-fg-muted" viewBox="0 0 16 16" version="1.1" width="16" aria-hidden="true"><path d="M8 16a2 2 0 0 0 1.985-1.75c.017-.137-.097-.25-.235-.25h-3.5c-.138 0-.252.113-.235.25A2 2 0 0 0 8 16ZM3 5a5 5 0 0 1 10 0v2.947c0 .05.015.098.042.139l1.703 2.555A1.519 1.519 0 0 1 13.482 13H2.518a1.516 1.516 0 0 1-1.263-2.36l1.703-2.554A.255.255 0 0 0 3 7.947Zm5-3.5A3.5 3.5 0 0 0 4.5 5v2.947c0 .346-.102.683-.294.97l-1.703 2.556a.017.017 0 0 0-.003.01l.001.006c0 .002.002.004.004.006l.006.004.007.001h10.964l.007-.001.006-.004.004-.006.001-.007a.017.017 0 0 0-.003-.01l-1.703-2.554a1.745 1.745 0 0 1-.294-.97V5A3.5 3.5 0 0 0 8 1.5Z"></path></svg>
            </div>
            <div data-targets="command-palette-page-stack.localOcticons" data-octicon-id="bell-slash-color-fg-muted">
              <svg height="16" class="octicon octicon-bell-slash color-fg-muted" viewBox="0 0 16 16" version="1.1" width="16" aria-hidden="true"><path d="m4.182 4.31.016.011 10.104 7.316.013.01 1.375.996a.75.75 0 1 1-.88 1.214L13.626 13H2.518a1.516 1.516 0 0 1-1.263-2.36l1.703-2.554A.255.255 0 0 0 3 7.947V5.305L.31 3.357a.75.75 0 1 1 .88-1.214Zm7.373 7.19L4.5 6.391v1.556c0 .346-.102.683-.294.97l-1.703 2.556a.017.017 0 0 0-.003.01c0 .005.002.009.005.012l.006.004.007.001ZM8 1.5c-.997 0-1.895.416-2.534 1.086A.75.75 0 1 1 4.38 1.55 5 5 0 0 1 13 5v2.373a.75.75 0 0 1-1.5 0V5A3.5 3.5 0 0 0 8 1.5ZM8 16a2 2 0 0 1-1.985-1.75c-.017-.137.097-.25.235-.25h3.5c.138 0 .252.113.235.25A2 2 0 0 1 8 16Z"></path></svg>
            </div>
            <div data-targets="command-palette-page-stack.localOcticons" data-octicon-id="paintbrush-color-fg-muted">
              <svg height="16" class="octicon octicon-paintbrush color-fg-muted" viewBox="0 0 16 16" version="1.1" width="16" aria-hidden="true"><path d="M11.134 1.535c.7-.509 1.416-.942 2.076-1.155.649-.21 1.463-.267 2.069.34.603.601.568 1.411.368 2.07-.202.668-.624 1.39-1.125 2.096-1.011 1.424-2.496 2.987-3.775 4.249-1.098 1.084-2.132 1.839-3.04 2.3a3.744 3.744 0 0 1-1.055 3.217c-.431.431-1.065.691-1.657.861-.614.177-1.294.287-1.914.357A21.151 21.151 0 0 1 .797 16H.743l.007-.75H.749L.742 16a.75.75 0 0 1-.743-.742l.743-.008-.742.007v-.054a21.25 21.25 0 0 1 .13-2.284c.067-.647.187-1.287.358-1.914.17-.591.43-1.226.86-1.657a3.746 3.746 0 0 1 3.227-1.054c.466-.893 1.225-1.907 2.314-2.982 1.271-1.255 2.833-2.75 4.245-3.777ZM1.62 13.089c-.051.464-.086.929-.104 1.395.466-.018.932-.053 1.396-.104a10.511 10.511 0 0 0 1.668-.309c.526-.151.856-.325 1.011-.48a2.25 2.25 0 1 0-3.182-3.182c-.155.155-.329.485-.48 1.01a10.515 10.515 0 0 0-.309 1.67Zm10.396-10.34c-1.224.89-2.605 2.189-3.822 3.384l1.718 1.718c1.21-1.205 2.51-2.597 3.387-3.833.47-.662.78-1.227.912-1.662.134-.444.032-.551.009-.575h-.001V1.78c-.014-.014-.113-.113-.548.027-.432.14-.995.462-1.655.942Zm-4.832 7.266-.001.001a9.859 9.859 0 0 0 1.63-1.142L7.155 7.216a9.7 9.7 0 0 0-1.161 1.607c.482.302.889.71 1.19 1.192Z"></path></svg>
            </div>

            <command-palette-item-group
              data-group-id="top"
              data-group-title="Top result"
              data-group-hint=""
              data-group-limits="{}"
              data-default-priority="0"
            >
            </command-palette-item-group>
            <command-palette-item-group
              data-group-id="commands"
              data-group-title="Commands"
              data-group-hint="Type &gt; to filter"
              data-group-limits="{&quot;static_items_page&quot;:50,&quot;issue&quot;:50,&quot;pull_request&quot;:50,&quot;discussion&quot;:50}"
              data-default-priority="1"
            >
            </command-palette-item-group>
            <command-palette-item-group
              data-group-id="global_commands"
              data-group-title="Global Commands"
              data-group-hint="Type &gt; to filter"
              data-group-limits="{&quot;issue&quot;:0,&quot;pull_request&quot;:0,&quot;discussion&quot;:0}"
              data-default-priority="2"
            >
            </command-palette-item-group>
            <command-palette-item-group
              data-group-id="this_page"
              data-group-title="This Page"
              data-group-hint=""
              data-group-limits="{}"
              data-default-priority="3"
            >
            </command-palette-item-group>
            <command-palette-item-group
              data-group-id="files"
              data-group-title="Files"
              data-group-hint=""
              data-group-limits="{}"
              data-default-priority="4"
            >
            </command-palette-item-group>
            <command-palette-item-group
              data-group-id="default"
              data-group-title="Default"
              data-group-hint=""
              data-group-limits="{&quot;static_items_page&quot;:50}"
              data-default-priority="5"
            >
            </command-palette-item-group>
            <command-palette-item-group
              data-group-id="pages"
              data-group-title="Pages"
              data-group-hint=""
              data-group-limits="{&quot;repository&quot;:10}"
              data-default-priority="6"
            >
            </command-palette-item-group>
            <command-palette-item-group
              data-group-id="access_policies"
              data-group-title="Access Policies"
              data-group-hint=""
              data-group-limits="{}"
              data-default-priority="7"
            >
            </command-palette-item-group>
            <command-palette-item-group
              data-group-id="organizations"
              data-group-title="Organizations"
              data-group-hint=""
              data-group-limits="{}"
              data-default-priority="8"
            >
            </command-palette-item-group>
            <command-palette-item-group
              data-group-id="repositories"
              data-group-title="Repositories"
              data-group-hint=""
              data-group-limits="{}"
              data-default-priority="9"
            >
            </command-palette-item-group>
            <command-palette-item-group
              data-group-id="references"
              data-group-title="Issues, pull requests, and discussions"
              data-group-hint="Type # to filter"
              data-group-limits="{}"
              data-default-priority="10"
            >
            </command-palette-item-group>
            <command-palette-item-group
              data-group-id="teams"
              data-group-title="Teams"
              data-group-hint=""
              data-group-limits="{}"
              data-default-priority="11"
            >
            </command-palette-item-group>
            <command-palette-item-group
              data-group-id="users"
              data-group-title="Users"
              data-group-hint=""
              data-group-limits="{}"
              data-default-priority="12"
            >
            </command-palette-item-group>
            <command-palette-item-group
              data-group-id="memex_projects"
              data-group-title="Projects"
              data-group-hint=""
              data-group-limits="{}"
              data-default-priority="13"
            >
            </command-palette-item-group>
            <command-palette-item-group
              data-group-id="projects"
              data-group-title="Projects (classic)"
              data-group-hint=""
              data-group-limits="{}"
              data-default-priority="14"
            >
            </command-palette-item-group>
            <command-palette-item-group
              data-group-id="footer"
              data-group-title="Footer"
              data-group-hint=""
              data-group-limits="{}"
              data-default-priority="15"
            >
            </command-palette-item-group>
            <command-palette-item-group
              data-group-id="modes_help"
              data-group-title="Modes"
              data-group-hint=""
              data-group-limits="{}"
              data-default-priority="16"
            >
            </command-palette-item-group>
            <command-palette-item-group
              data-group-id="filters_help"
              data-group-title="Use filters in issues, pull requests, discussions, and projects"
              data-group-hint=""
              data-group-limits="{}"
              data-default-priority="17"
            >
            </command-palette-item-group>

            <command-palette-page
              data-page-title="AlexLaudiano"
              data-scope-id="U_kgDOCW4WvA"
              data-scope-type="owner"
              data-targets="command-palette-page-stack.defaultPages"
              hidden
            >
            </command-palette-page>
            <command-palette-page
              data-page-title="imersao_python"
              data-scope-id="R_kgDOLmBiIg"
              data-scope-type="repository"
              data-targets="command-palette-page-stack.defaultPages"
              hidden
            >
            </command-palette-page>
        </div>

        <command-palette-page data-is-root>
        </command-palette-page>
          <command-palette-page
            data-page-title="AlexLaudiano"
            data-scope-id="U_kgDOCW4WvA"
            data-scope-type="owner"
          >
          </command-palette-page>
          <command-palette-page
            data-page-title="imersao_python"
            data-scope-id="R_kgDOLmBiIg"
            data-scope-type="repository"
          >
          </command-palette-page>
      </command-palette-page-stack>

      <server-defined-provider data-type="search-links" data-targets="command-palette.serverDefinedProviderElements"></server-defined-provider>
      <server-defined-provider data-type="help" data-targets="command-palette.serverDefinedProviderElements">
          <command-palette-help
            data-group="modes_help"
              data-prefix="#"
              data-scope-types="[&quot;&quot;]"
          >
            <span data-target="command-palette-help.titleElement">Search for <strong>issues</strong> and <strong>pull requests</strong></span>
              <span data-target="command-palette-help.hintElement">
                <kbd class="hx_kbd">#</kbd>
              </span>
          </command-palette-help>
          <command-palette-help
            data-group="modes_help"
              data-prefix="#"
              data-scope-types="[&quot;owner&quot;,&quot;repository&quot;]"
          >
            <span data-target="command-palette-help.titleElement">Search for <strong>issues, pull requests, discussions,</strong> and <strong>projects</strong></span>
              <span data-target="command-palette-help.hintElement">
                <kbd class="hx_kbd">#</kbd>
              </span>
          </command-palette-help>
          <command-palette-help
            data-group="modes_help"
              data-prefix="@"
              data-scope-types="[&quot;&quot;]"
          >
            <span data-target="command-palette-help.titleElement">Search for <strong>organizations, repositories,</strong> and <strong>users</strong></span>
              <span data-target="command-palette-help.hintElement">
                <kbd class="hx_kbd">@</kbd>
              </span>
          </command-palette-help>
          <command-palette-help
            data-group="modes_help"
              data-prefix="!"
              data-scope-types="[&quot;owner&quot;,&quot;repository&quot;]"
          >
            <span data-target="command-palette-help.titleElement">Search for <strong>projects</strong></span>
              <span data-target="command-palette-help.hintElement">
                <kbd class="hx_kbd">!</kbd>
              </span>
          </command-palette-help>
          <command-palette-help
            data-group="modes_help"
              data-prefix="/"
              data-scope-types="[&quot;repository&quot;]"
          >
            <span data-target="command-palette-help.titleElement">Search for <strong>files</strong></span>
              <span data-target="command-palette-help.hintElement">
                <kbd class="hx_kbd">/</kbd>
              </span>
          </command-palette-help>
          <command-palette-help
            data-group="modes_help"
              data-prefix="&gt;"
          >
            <span data-target="command-palette-help.titleElement">Activate <strong>command mode</strong></span>
              <span data-target="command-palette-help.hintElement">
                <kbd class="hx_kbd">&gt;</kbd>
              </span>
          </command-palette-help>
          <command-palette-help
            data-group="filters_help"
              data-prefix="# author:@me"
          >
            <span data-target="command-palette-help.titleElement">Search your issues, pull requests, and discussions</span>
              <span data-target="command-palette-help.hintElement">
                <kbd class="hx_kbd"># author:@me</kbd>
              </span>
          </command-palette-help>
          <command-palette-help
            data-group="filters_help"
              data-prefix="# author:@me"
          >
            <span data-target="command-palette-help.titleElement">Search your issues, pull requests, and discussions</span>
              <span data-target="command-palette-help.hintElement">
                <kbd class="hx_kbd"># author:@me</kbd>
              </span>
          </command-palette-help>
          <command-palette-help
            data-group="filters_help"
              data-prefix="# is:pr"
          >
            <span data-target="command-palette-help.titleElement">Filter to pull requests</span>
              <span data-target="command-palette-help.hintElement">
                <kbd class="hx_kbd"># is:pr</kbd>
              </span>
          </command-palette-help>
          <command-palette-help
            data-group="filters_help"
              data-prefix="# is:issue"
          >
            <span data-target="command-palette-help.titleElement">Filter to issues</span>
              <span data-target="command-palette-help.hintElement">
                <kbd class="hx_kbd"># is:issue</kbd>
              </span>
          </command-palette-help>
          <command-palette-help
            data-group="filters_help"
              data-prefix="# is:discussion"
              data-scope-types="[&quot;owner&quot;,&quot;repository&quot;]"
          >
            <span data-target="command-palette-help.titleElement">Filter to discussions</span>
              <span data-target="command-palette-help.hintElement">
                <kbd class="hx_kbd"># is:discussion</kbd>
              </span>
          </command-palette-help>
          <command-palette-help
            data-group="filters_help"
              data-prefix="# is:project"
              data-scope-types="[&quot;owner&quot;,&quot;repository&quot;]"
          >
            <span data-target="command-palette-help.titleElement">Filter to projects</span>
              <span data-target="command-palette-help.hintElement">
                <kbd class="hx_kbd"># is:project</kbd>
              </span>
          </command-palette-help>
          <command-palette-help
            data-group="filters_help"
              data-prefix="# is:open"
          >
            <span data-target="command-palette-help.titleElement">Filter to open issues, pull requests, and discussions</span>
              <span data-target="command-palette-help.hintElement">
                <kbd class="hx_kbd"># is:open</kbd>
              </span>
          </command-palette-help>
      </server-defined-provider>

        <server-defined-provider
          data-type="commands"
          data-fetch-debounce="0"
            data-src="/command_palette/commands"
          data-supported-modes="[]"
            data-supports-commands
          
          data-targets="command-palette.serverDefinedProviderElements"
          ></server-defined-provider>
        <server-defined-provider
          data-type="prefetched"
          data-fetch-debounce="0"
            data-src="/command_palette/jump_to_page_navigation"
          data-supported-modes="[&quot;&quot;]"
            data-supported-scope-types="[&quot;&quot;,&quot;owner&quot;,&quot;repository&quot;]"
          
          data-targets="command-palette.serverDefinedProviderElements"
          ></server-defined-provider>
        <server-defined-provider
          data-type="remote"
          data-fetch-debounce="200"
            data-src="/command_palette/issues"
          data-supported-modes="[&quot;#&quot;,&quot;#&quot;]"
            data-supported-scope-types="[&quot;owner&quot;,&quot;repository&quot;,&quot;&quot;]"
          
          data-targets="command-palette.serverDefinedProviderElements"
          ></server-defined-provider>
        <server-defined-provider
          data-type="remote"
          data-fetch-debounce="200"
            data-src="/command_palette/jump_to"
          data-supported-modes="[&quot;@&quot;,&quot;@&quot;]"
            data-supported-scope-types="[&quot;&quot;,&quot;owner&quot;]"
          
          data-targets="command-palette.serverDefinedProviderElements"
          ></server-defined-provider>
        <server-defined-provider
          data-type="remote"
          data-fetch-debounce="200"
            data-src="/command_palette/jump_to_members_only"
          data-supported-modes="[&quot;@&quot;,&quot;@&quot;,&quot;&quot;,&quot;&quot;]"
            data-supported-scope-types="[&quot;&quot;,&quot;owner&quot;]"
          
          data-targets="command-palette.serverDefinedProviderElements"
          ></server-defined-provider>
        <server-defined-provider
          data-type="prefetched"
          data-fetch-debounce="0"
            data-src="/command_palette/jump_to_members_only_prefetched"
          data-supported-modes="[&quot;@&quot;,&quot;@&quot;,&quot;&quot;,&quot;&quot;]"
            data-supported-scope-types="[&quot;&quot;,&quot;owner&quot;]"
          
          data-targets="command-palette.serverDefinedProviderElements"
          ></server-defined-provider>
        <server-defined-provider
          data-type="files"
          data-fetch-debounce="0"
            data-src="/command_palette/files"
          data-supported-modes="[&quot;/&quot;]"
            data-supported-scope-types="[&quot;repository&quot;]"
          
          data-targets="command-palette.serverDefinedProviderElements"
          ></server-defined-provider>
        <server-defined-provider
          data-type="remote"
          data-fetch-debounce="200"
            data-src="/command_palette/discussions"
          data-supported-modes="[&quot;#&quot;]"
            data-supported-scope-types="[&quot;owner&quot;,&quot;repository&quot;]"
          
          data-targets="command-palette.serverDefinedProviderElements"
          ></server-defined-provider>
        <server-defined-provider
          data-type="remote"
          data-fetch-debounce="200"
            data-src="/command_palette/projects"
          data-supported-modes="[&quot;#&quot;,&quot;!&quot;]"
            data-supported-scope-types="[&quot;owner&quot;,&quot;repository&quot;]"
          
          data-targets="command-palette.serverDefinedProviderElements"
          ></server-defined-provider>
        <server-defined-provider
          data-type="prefetched"
          data-fetch-debounce="0"
            data-src="/command_palette/recent_issues"
          data-supported-modes="[&quot;#&quot;,&quot;#&quot;]"
            data-supported-scope-types="[&quot;owner&quot;,&quot;repository&quot;,&quot;&quot;]"
          
          data-targets="command-palette.serverDefinedProviderElements"
          ></server-defined-provider>
        <server-defined-provider
          data-type="remote"
          data-fetch-debounce="200"
            data-src="/command_palette/teams"
          data-supported-modes="[&quot;@&quot;,&quot;&quot;]"
            data-supported-scope-types="[&quot;owner&quot;]"
          
          data-targets="command-palette.serverDefinedProviderElements"
          ></server-defined-provider>
        <server-defined-provider
          data-type="remote"
          data-fetch-debounce="200"
            data-src="/command_palette/name_with_owner_repository"
          data-supported-modes="[&quot;@&quot;,&quot;@&quot;,&quot;&quot;,&quot;&quot;]"
            data-supported-scope-types="[&quot;&quot;,&quot;owner&quot;]"
          
          data-targets="command-palette.serverDefinedProviderElements"
          ></server-defined-provider>
    </command-palette>
  </details-dialog>
</details>

<div class="position-fixed bottom-0 left-0 ml-5 mb-5 js-command-palette-toasts" style="z-index: 1000">
  <div hidden class="Toast Toast--loading">
    <span class="Toast-icon">
      <svg class="Toast--spinner" viewBox="0 0 32 32" width="18" height="18" aria-hidden="true">
        <path
          fill="#959da5"
          d="M16 0 A16 16 0 0 0 16 32 A16 16 0 0 0 16 0 M16 4 A12 12 0 0 1 16 28 A12 12 0 0 1 16 4"
        />
        <path fill="#ffffff" d="M16 0 A16 16 0 0 1 32 16 L28 16 A12 12 0 0 0 16 4z"></path>
      </svg>
    </span>
    <span class="Toast-content"></span>
  </div>

  <div hidden class="anim-fade-in fast Toast Toast--error">
    <span class="Toast-icon">
      <svg aria-hidden="true" height="16" viewBox="0 0 16 16" version="1.1" width="16" data-view-component="true" class="octicon octicon-stop">
    <path d="M4.47.22A.749.749 0 0 1 5 0h6c.199 0 .389.079.53.22l4.25 4.25c.141.14.22.331.22.53v6a.749.749 0 0 1-.22.53l-4.25 4.25A.749.749 0 0 1 11 16H5a.749.749 0 0 1-.53-.22L.22 11.53A.749.749 0 0 1 0 11V5c0-.199.079-.389.22-.53Zm.84 1.28L1.5 5.31v5.38l3.81 3.81h5.38l3.81-3.81V5.31L10.69 1.5ZM8 4a.75.75 0 0 1 .75.75v3.5a.75.75 0 0 1-1.5 0v-3.5A.75.75 0 0 1 8 4Zm0 8a1 1 0 1 1 0-2 1 1 0 0 1 0 2Z"></path>
</svg>
    </span>
    <span class="Toast-content"></span>
  </div>

  <div hidden class="anim-fade-in fast Toast Toast--warning">
    <span class="Toast-icon">
      <svg aria-hidden="true" height="16" viewBox="0 0 16 16" version="1.1" width="16" data-view-component="true" class="octicon octicon-alert">
    <path d="M6.457 1.047c.659-1.234 2.427-1.234 3.086 0l6.082 11.378A1.75 1.75 0 0 1 14.082 15H1.918a1.75 1.75 0 0 1-1.543-2.575Zm1.763.707a.25.25 0 0 0-.44 0L1.698 13.132a.25.25 0 0 0 .22.368h12.164a.25.25 0 0 0 .22-.368Zm.53 3.996v2.5a.75.75 0 0 1-1.5 0v-2.5a.75.75 0 0 1 1.5 0ZM9 11a1 1 0 1 1-2 0 1 1 0 0 1 2 0Z"></path>
</svg>
    </span>
    <span class="Toast-content"></span>
  </div>


  <div hidden class="anim-fade-in fast Toast Toast--success">
    <span class="Toast-icon">
      <svg aria-hidden="true" height="16" viewBox="0 0 16 16" version="1.1" width="16" data-view-component="true" class="octicon octicon-check">
    <path d="M13.78 4.22a.75.75 0 0 1 0 1.06l-7.25 7.25a.75.75 0 0 1-1.06 0L2.22 9.28a.751.751 0 0 1 .018-1.042.751.751 0 0 1 1.042-.018L6 10.94l6.72-6.72a.75.75 0 0 1 1.06 0Z"></path>
</svg>
    </span>
    <span class="Toast-content"></span>
  </div>

  <div hidden class="anim-fade-in fast Toast">
    <span class="Toast-icon">
      <svg aria-hidden="true" height="16" viewBox="0 0 16 16" version="1.1" width="16" data-view-component="true" class="octicon octicon-info">
    <path d="M0 8a8 8 0 1 1 16 0A8 8 0 0 1 0 8Zm8-6.5a6.5 6.5 0 1 0 0 13 6.5 6.5 0 0 0 0-13ZM6.5 7.75A.75.75 0 0 1 7.25 7h1a.75.75 0 0 1 .75.75v2.75h.25a.75.75 0 0 1 0 1.5h-2a.75.75 0 0 1 0-1.5h.25v-2h-.25a.75.75 0 0 1-.75-.75ZM8 6a1 1 0 1 1 0-2 1 1 0 0 1 0 2Z"></path>
</svg>
    </span>
    <span class="Toast-content"></span>
  </div>
</div>


  <div
    class="application-main "
    data-commit-hovercards-enabled
    data-discussion-hovercards-enabled
    data-issue-and-pr-hovercards-enabled
  >
        <div itemscope itemtype="http://schema.org/SoftwareSourceCode" class="">
    <main id="js-repo-pjax-container" >
      
      






    
  <div id="repository-container-header" data-turbo-replace hidden></div>




<turbo-frame id="repo-content-turbo-frame" target="_top" data-turbo-action="advance" class="">
    <div id="repo-content-pjax-container" class="repository-content " >
      <a href="https://github.dev/" class="d-none js-github-dev-shortcut" data-hotkey=".,Mod+Alt+.">Open in github.dev</a>
  <a href="https://github.dev/" class="d-none js-github-dev-new-tab-shortcut" data-hotkey="Shift+.,Shift+&gt;,&gt;" target="_blank" rel="noopener noreferrer">Open in a new github.dev tab</a>
    <a class="d-none" data-hotkey=",,Mod+Alt+," target="_blank" href="/codespaces/new/AlexLaudiano/imersao_python/tree/main?resume=1">Open in codespace</a>




    
      
    





<react-app
  app-name="react-code-view"
  initial-path="/AlexLaudiano/imersao_python/blob/main/Aula_5/Imers%C3%A3o_Python_Aula_5.ipynb"
  style="min-height: calc(100vh - 64px)" 
  data-ssr="true"
  data-lazy="false"
  data-alternate="false"
>
  
  <script type="application/json" data-target="react-app.embeddedData">{"payload":{"allShortcutsEnabled":true,"fileTree":{"Aula_5":{"items":[{"name":"Imersão_Python_Aula_5.ipynb","path":"Aula_5/Imersão_Python_Aula_5.ipynb","contentType":"file"},{"name":"README.md","path":"Aula_5/README.md","contentType":"file"}],"totalCount":2},"":{"items":[{"name":"Aula_1","path":"Aula_1","contentType":"directory"},{"name":"Aula_2","path":"Aula_2","contentType":"directory"},{"name":"Aula_3","path":"Aula_3","contentType":"directory"},{"name":"Aula_4","path":"Aula_4","contentType":"directory"},{"name":"Aula_5","path":"Aula_5","contentType":"directory"},{"name":"README.md","path":"README.md","contentType":"file"}],"totalCount":6}},"fileTreeProcessingTime":8.236499,"foldersToFetch":[],"repo":{"id":778068514,"defaultBranch":"main","name":"imersao_python","ownerLogin":"AlexLaudiano","currentUserCanPush":false,"isFork":false,"isEmpty":false,"createdAt":"2024-03-26T23:30:38.000-03:00","ownerAvatar":"https://avatars.githubusercontent.com/u/158209724?v=4","public":true,"private":false,"isOrgOwned":false},"codeLineWrapEnabled":false,"symbolsExpanded":false,"treeExpanded":true,"refInfo":{"name":"main","listCacheKey":"v0:1711616516.0","canEdit":true,"refType":"branch","currentOid":"699f5f34d2836ebc5a4ce6616e772ca34e8b91b8"},"path":"Aula_5/Imersão_Python_Aula_5.ipynb","currentUser":{"id":42747358,"login":"carlos-santos1504","userEmail":"carlos.santos1504@gmail.com"},"blob":{"rawLines":["{","  \"nbformat\": 4,","  \"nbformat_minor\": 0,","  \"metadata\": {","    \"colab\": {","      \"provenance\": [],","      \"authorship_tag\": \"ABX9TyOuKDj4f55JLmntppFXdyf3\",","      \"include_colab_link\": true","    },","    \"kernelspec\": {","      \"name\": \"python3\",","      \"display_name\": \"Python 3\"","    },","    \"language_info\": {","      \"name\": \"python\"","    }","  },","  \"cells\": [","    {","      \"cell_type\": \"markdown\",","      \"metadata\": {","        \"id\": \"view-in-github\",","        \"colab_type\": \"text\"","      },","      \"source\": [","        \"\u003ca href=\\\"https://colab.research.google.com/github/AlexLaudiano/imersao_python/blob/main/Imers%C3%A3o_Python_Aula_5.ipynb\\\" target=\\\"_parent\\\"\u003e\u003cimg src=\\\"https://colab.research.google.com/assets/colab-badge.svg\\\" alt=\\\"Open In Colab\\\"/\u003e\u003c/a\u003e\"","      ]","    },","    {","      \"cell_type\": \"code\",","      \"execution_count\": 12,","      \"metadata\": {","        \"id\": \"PRQ7p06401Ze\"","      },","      \"outputs\": [],","      \"source\": [","        \"import pandas as pd\\n\",","        \"import yfinance as yf\\n\",","        \"import matplotlib.pyplot as plt\\n\",","        \"from prophet import Prophet\"","      ]","    },","    {","      \"cell_type\": \"markdown\",","      \"source\": [","        \"O Prophet é uma ferramenta desenvolvida pelo Facebook para fazer previsões em séries temporais, que são basicamente dados coletados ao longo do tempo, como os preços das ações. É famoso por ser fácil de usar e por funcionar bem mesmo com poucos dados ou com dados que possuem padrões irregulares, o que é comum no mercado de ações.\\n\",","        \"\\n\",","        \"Vamos usar dados de ações da empresa Johnson \u0026 Johnson como exemplo.\\n\",","        \"\\n\",","        \"Aqui, usamos um comando para baixar os dados. É como se estivéssemos pedindo à internet para nos dar os preços das ações da Johnson \u0026 Johnson desde 2020 até o final de 2023.\"","      ],","      \"metadata\": {","        \"id\": \"naQlkgcwDpc5\"","      }","    },","    {","      \"cell_type\": \"code\",","      \"source\": [","        \"# Baixar dados dos últimos quatro anos para uma ação específica\\n\",","        \"dados = yf.download(\\\"JNJ\\\", start=\\\"2020-01-01\\\", end=\\\"2023-12-31\\\", progress=False)\\n\",","        \"dados = dados.reset_index()\"","      ],","      \"metadata\": {","        \"id\": \"dOucrXcI1XKK\"","      },","      \"execution_count\": 13,","      \"outputs\": []","    },","    {","      \"cell_type\": \"markdown\",","      \"source\": [","        \"Agora, dividimos nossos dados em duas partes: uma para treinar nosso 'adivinho' digital, que é até julho de 2023, e outra para testar nossas previsões, que é o restante do ano.\"","      ],","      \"metadata\": {","        \"id\": \"RBHtQ9EtDjTc\"","      }","    },","    {","      \"cell_type\": \"code\",","      \"source\": [","        \"# Vamos dividir os dados em treino (até o final do primeiro semestre de 2023) e teste (segundo semestre de 2023)\\n\",","        \"dados_treino = dados[dados['Date'] \u003c '2023-07-31']\\n\",","        \"dados_teste = dados[dados['Date'] \u003e= '2023-07-31']\"","      ],","      \"metadata\": {","        \"id\": \"NFKg1edh19wf\"","      },","      \"execution_count\": 14,","      \"outputs\": []","    },","    {","      \"cell_type\": \"code\",","      \"source\": [","        \"# Preparando os dados para o FBProphet\\n\",","        \"dados_prophet_treino = dados_treino[['Date', 'Close']].rename(columns={'Date': 'ds', 'Close': 'y'})\"","      ],","      \"metadata\": {","        \"id\": \"SLKZw32w2ImX\"","      },","      \"execution_count\": 15,","      \"outputs\": []","    },","    {","      \"cell_type\": \"markdown\",","      \"source\": [","        \"O próximo passo é preparar os dados para o nosso adivinho, o Prophet. É como se estivéssemos arrumando os dados para que ele entenda o que estamos perguntando.\\n\",","        \"\\n\",","        \"Depois, criamos o modelo do Prophet. Aqui, estamos dizendo ao Prophet para considerar padrões semanais e anuais nos dados, mas não diários. E também adicionamos feriados dos EUA, já que eles podem influenciar o preço das ações.\"","      ],","      \"metadata\": {","        \"id\": \"jG2Y9_HkDco4\"","      }","    },","    {","      \"cell_type\": \"code\",","      \"source\": [","        \"# Criar e treinar o modelo\\n\",","        \"modelo = Prophet(weekly_seasonality=True,\\n\",","        \"        yearly_seasonality=True,\\n\",","        \"        daily_seasonality=False)\\n\",","        \"\\n\",","        \"modelo.add_country_holidays(country_name='US')\\n\",","        \"\\n\",","        \"modelo.fit(dados_prophet_treino)\"","      ],","      \"metadata\": {","        \"colab\": {","          \"base_uri\": \"https://localhost:8080/\"","        },","        \"id\": \"3_PjDcUL2f6b\",","        \"outputId\": \"1d8213f5-efc9-4979-a8d7-e676d57ccc41\"","      },","      \"execution_count\": 16,","      \"outputs\": [","        {","          \"output_type\": \"stream\",","          \"name\": \"stderr\",","          \"text\": [","            \"DEBUG:cmdstanpy:input tempfile: /tmp/tmp0s_r483y/v6jzv0sn.json\\n\",","            \"DEBUG:cmdstanpy:input tempfile: /tmp/tmp0s_r483y/8mm2ybdf.json\\n\",","            \"DEBUG:cmdstanpy:idx 0\\n\",","            \"DEBUG:cmdstanpy:running CmdStan, num_threads: None\\n\",","            \"DEBUG:cmdstanpy:CmdStan args: ['/usr/local/lib/python3.10/dist-packages/prophet/stan_model/prophet_model.bin', 'random', 'seed=90796', 'data', 'file=/tmp/tmp0s_r483y/v6jzv0sn.json', 'init=/tmp/tmp0s_r483y/8mm2ybdf.json', 'output', 'file=/tmp/tmp0s_r483y/prophet_model5aef5rtr/prophet_model-20240329212829.csv', 'method=optimize', 'algorithm=lbfgs', 'iter=10000']\\n\",","            \"21:28:29 - cmdstanpy - INFO - Chain [1] start processing\\n\",","            \"INFO:cmdstanpy:Chain [1] start processing\\n\",","            \"21:28:29 - cmdstanpy - INFO - Chain [1] done processing\\n\",","            \"INFO:cmdstanpy:Chain [1] done processing\\n\"","          ]","        },","        {","          \"output_type\": \"execute_result\",","          \"data\": {","            \"text/plain\": [","              \"\u003cprophet.forecaster.Prophet at 0x7c8267bae920\u003e\"","            ]","          },","          \"metadata\": {},","          \"execution_count\": 16","        }","      ]","    },","    {","      \"cell_type\": \"markdown\",","      \"source\": [","        \"Pedimos ao Prophet para prever o futuro, até o final de 2023. E então, plotamos um gráfico para ver como nossa previsão se compara com os dados reais.\"","      ],","      \"metadata\": {","        \"id\": \"jijofJ62DUhu\"","      }","    },","    {","      \"cell_type\": \"code\",","      \"source\": [","        \"# Criar datas futuras para previsão até o final de 2023\\n\",","        \"futuro = modelo.make_future_dataframe(periods=150)\\n\",","        \"previsao = modelo.predict(futuro)\"","      ],","      \"metadata\": {","        \"id\": \"Y5CnVcPl2_Km\"","      },","      \"execution_count\": 17,","      \"outputs\": []","    },","    {","      \"cell_type\": \"markdown\",","      \"source\": [","        \"Neste gráfico, vocês verão três linhas. A azul mostra o preço real das ações até julho de 2023, a verde mostra os preços reais após essa data, e a laranja mostra o que o Prophet previu. A linha vermelha pontilhada marca onde começam as previsões.\"","      ],","      \"metadata\": {","        \"id\": \"CN5HnSjODKLa\"","      }","    },","    {","      \"cell_type\": \"code\",","      \"source\": [","        \"# Plotar os dados de treino, teste e previsões\\n\",","        \"plt.figure(figsize=(14, 8))\\n\",","        \"plt.plot(dados_treino['Date'], dados_treino['Close'], label='Dados de Treino', color='blue')\\n\",","        \"plt.plot(dados_teste['Date'], dados_teste['Close'], label='Dados Reais (Teste)', color='green')\\n\",","        \"plt.plot(previsao['ds'], previsao['yhat'], label='Previsão', color='orange', linestyle='--')\\n\",","        \"\\n\",","        \"plt.axvline(dados_treino['Date'].max(), color='red', linestyle='--', label='Início da Previsão')\\n\",","        \"plt.xlabel('Data')\\n\",","        \"plt.ylabel('Preço de Fechamento')\\n\",","        \"plt.title('Previsão de Preço de Fechamento vs Dados Reais')\\n\",","        \"plt.legend()\\n\",","        \"plt.show()\"","      ],","      \"metadata\": {","        \"id\": \"ItVHxYcw3aoh\",","        \"outputId\": \"7f402ec2-962b-4f28-b823-9a4d532ab138\",","        \"colab\": {","          \"base_uri\": \"https://localhost:8080/\",","          \"height\": 718","        }","      },","      \"execution_count\": 18,","      \"outputs\": [","        {","          \"output_type\": \"display_data\",","          \"data\": {","            \"text/plain\": [","              \"\u003cFigure size 1400x800 with 1 Axes\u003e\"","            ],","            \"image/png\": \"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\\n\"","          },","          \"metadata\": {}","        }","      ]","    }","  ]","}"],"stylingDirectives":null,"colorizedLines":null,"csv":null,"csvError":null,"dependabotInfo":{"showConfigurationBanner":false,"configFilePath":null,"networkDependabotPath":"/AlexLaudiano/imersao_python/network/updates","dismissConfigurationNoticePath":"/settings/dismiss-notice/dependabot_configuration_notice","configurationNoticeDismissed":false},"displayName":"Imersão_Python_Aula_5.ipynb","displayUrl":"https://notebooks.githubusercontent.com/view/ipynb?browser=chrome\u0026bypass_fastly=true\u0026color_mode=auto\u0026commit=699f5f34d2836ebc5a4ce6616e772ca34e8b91b8\u0026device=unknown_device\u0026docs_host=https%3A%2F%2Fdocs.github.com\u0026enc_url=68747470733a2f2f7261772e67697468756275736572636f6e74656e742e636f6d2f416c65784c61756469616e6f2f696d657273616f5f707974686f6e2f363939663566333464323833366562633561346365363631366537373263613334653862393162382f41756c615f352f496d657273c3a36f5f507974686f6e5f41756c615f352e6970796e62\u0026logged_in=true\u0026nwo=AlexLaudiano%2Fimersao_python\u0026path=Aula_5%2FImers%C3%A3o_Python_Aula_5.ipynb\u0026platform=windows\u0026repository_id=778068514\u0026repository_type=Repository\u0026version=123","headerInfo":{"blobSize":"140 KB","deleteTooltip":"Fork this repository and delete the file","editTooltip":"Fork this repository and edit the file","ghDesktopPath":"x-github-client://openRepo/https://github.com/AlexLaudiano/imersao_python?branch=main\u0026filepath=Aula_5%2FImers%C3%A3o_Python_Aula_5.ipynb","isGitLfs":false,"onBranch":true,"shortPath":"13bdb2a","siteNavLoginPath":"/login?return_to=https%3A%2F%2Fgithub.com%2FAlexLaudiano%2Fimersao_python%2Fblob%2Fmain%2FAula_5%2FImers%25C3%25A3o_Python_Aula_5.ipynb","isCSV":false,"isRichtext":false,"toc":null,"lineInfo":{"truncatedLoc":"232","truncatedSloc":"232"},"mode":"file"},"image":false,"isCodeownersFile":null,"isPlain":false,"isValidLegacyIssueTemplate":false,"issueTemplate":null,"discussionTemplate":null,"language":"Jupyter Notebook","languageID":185,"large":false,"planSupportInfo":{"repoIsFork":null,"repoOwnedByCurrentUser":null,"requestFullPath":"/AlexLaudiano/imersao_python/blob/main/Aula_5/Imers%C3%A3o_Python_Aula_5.ipynb","showFreeOrgGatedFeatureMessage":null,"showPlanSupportBanner":null,"upgradeDataAttributes":null,"upgradePath":null},"publishBannersInfo":{"dismissActionNoticePath":"/settings/dismiss-notice/publish_action_from_dockerfile","releasePath":"/AlexLaudiano/imersao_python/releases/new?marketplace=true","showPublishActionBanner":false},"rawBlobUrl":"https://github.com/AlexLaudiano/imersao_python/raw/main/Aula_5/Imers%C3%A3o_Python_Aula_5.ipynb","renderImageOrRaw":false,"richText":null,"renderedFileInfo":{"identityUUID":"b9293e30-327d-41c1-b256-7fea33d83ec8","renderFileType":"ipynb","size":143037},"shortPath":null,"symbolsEnabled":true,"tabSize":8,"topBannersInfo":{"overridingGlobalFundingFile":false,"globalPreferredFundingPath":null,"showInvalidCitationWarning":false,"citationHelpUrl":"https://docs.github.com/github/creating-cloning-and-archiving-repositories/creating-a-repository-on-github/about-citation-files","actionsOnboardingTip":null},"truncated":false,"viewable":true,"workflowRedirectUrl":null,"symbols":{"timed_out":false,"not_analyzed":true,"symbols":[]}},"copilotInfo":{"documentationUrl":"https://docs.github.com/copilot/overview-of-github-copilot/about-github-copilot-for-business","notices":{"codeViewPopover":{"dismissed":false,"dismissPath":"/settings/dismiss-notice/code_view_copilot_popover"}},"userAccess":{"hasSubscriptionEnded":false,"orgHasCFBAccess":false,"userHasCFIAccess":false,"userHasOrgs":true,"userIsOrgAdmin":false,"userIsOrgMember":false,"business":null,"featureRequestInfo":null}},"copilotAccessAllowed":false,"csrf_tokens":{"/AlexLaudiano/imersao_python/branches":{"post":"X5KSqzwrID5955ixHqsz3p4PE41iwjy-lCgiNk2PA_wjtHzD1PzIQgxvzWSAtgvn2ag4aysY3ZXzAIisTe2RAw"},"/repos/preferences":{"post":"Qazj8r8FsOvR0rWsenes1CFmXj-QAA7Ha5ElZTm7hr7F3Edo6rjZ90aw80ByIVkZcDPDPVSvVlqYIQkvI6qOAQ"}}},"title":"imersao_python/Aula_5/Imersão_Python_Aula_5.ipynb at main · AlexLaudiano/imersao_python","appPayload":{"helpUrl":"https://docs.github.com","findFileWorkerPath":"/assets-cdn/worker/find-file-worker-a007d7f370d6.js","findInFileWorkerPath":"/assets-cdn/worker/find-in-file-worker-d0f0ff069004.js","githubDevUrl":"https://github.dev/","enabled_features":{"code_nav_ui_events":false,"copilot_conversational_ux":false,"react_blob_overlay":false,"copilot_conversational_ux_embedding_update":false,"copilot_popover_file_editor_header":true,"copilot_smell_icebreaker_ux":true,"copilot_workspace":false}}}</script>
  <div data-target="react-app.reactRoot"><style data-styled="true" data-styled-version="5.3.6">.jUriTl{font-weight:600;font-size:32px;margin:0;display:-webkit-box;display:-webkit-flex;display:-ms-flexbox;display:flex;font-size:14px;}/*!sc*/
.imcwCi{font-weight:600;font-size:32px;margin:0;font-size:16px;margin-left:8px;}/*!sc*/
.cgQnMS{font-weight:600;font-size:32px;margin:0;}/*!sc*/
.diwsLq{font-weight:600;font-size:32px;margin:0;font-weight:600;display:inline-block;max-width:100%;font-size:16px;}/*!sc*/
.jAEDJk{font-weight:600;font-size:32px;margin:0;font-weight:600;display:inline-block;max-width:100%;font-size:14px;}/*!sc*/
data-styled.g1[id="Heading__StyledHeading-sc-1c1dgg0-0"]{content:"jUriTl,imcwCi,cgQnMS,diwsLq,jAEDJk,"}/*!sc*/
.fSWWem{padding:0;}/*!sc*/
.kPPmzM{max-width:100%;margin-left:auto;margin-right:auto;display:-webkit-box;display:-webkit-flex;display:-ms-flexbox;display:flex;-webkit-flex-wrap:wrap;-ms-flex-wrap:wrap;flex-wrap:wrap;}/*!sc*/
.cIAPDV{display:-webkit-box;display:-webkit-flex;display:-ms-flexbox;display:flex;-webkit-flex:1 1 100%;-ms-flex:1 1 100%;flex:1 1 100%;-webkit-flex-wrap:wrap;-ms-flex-wrap:wrap;flex-wrap:wrap;max-width:100%;}/*!sc*/
.gvCnwW{width:100%;}/*!sc*/
@media screen and (min-width:544px){.gvCnwW{width:100%;}}/*!sc*/
@media screen and (min-width:768px){.gvCnwW{width:auto;}}/*!sc*/
.xEgty{display:-webkit-box;display:-webkit-flex;display:-ms-flexbox;display:flex;-webkit-order:1;-ms-flex-order:1;order:1;width:100%;margin-left:0;margin-right:0;-webkit-flex-direction:column;-ms-flex-direction:column;flex-direction:column;margin-bottom:0;min-width:0;}/*!sc*/
@media screen and (min-width:544px){.xEgty{-webkit-flex-direction:column;-ms-flex-direction:column;flex-direction:column;}}/*!sc*/
@media screen and (min-width:768px){.xEgty{width:auto;margin-top:0 !important;margin-bottom:0 !important;position:-webkit-sticky;position:sticky;top:0px;max-height:var(--sticky-pane-height);-webkit-flex-direction:row;-ms-flex-direction:row;flex-direction:row;margin-right:0;}}/*!sc*/
@media screen and (min-width:769px){.xEgty{height:100vh;max-height:100vh !important;}}/*!sc*/
@media print,screen and (max-width:1011px) and (min-width:768px){.xEgty{display:none;}}/*!sc*/
.eUyHuk{margin-left:0;margin-right:0;display:none;margin-top:0;}/*!sc*/
@media screen and (min-width:768px){.eUyHuk{margin-left:0 !important;margin-right:0 !important;}}/*!sc*/
.gNdDUH{--pane-min-width:256px;--pane-max-width-diff:511px;--pane-max-width:calc(100vw - var(--pane-max-width-diff));width:100%;padding:0;}/*!sc*/
@media screen and (min-width:544px){}/*!sc*/
@media screen and (min-width:768px){.gNdDUH{width:clamp(var(--pane-min-width),var(--pane-width),var(--pane-max-width));overflow:auto;}}/*!sc*/
@media screen and (min-width:1280px){.gNdDUH{--pane-max-width-diff:959px;}}/*!sc*/
.jywUSN{max-height:100%;height:100%;display:-webkit-box;display:-webkit-flex;display:-ms-flexbox;display:flex;-webkit-flex-direction:column;-ms-flex-direction:column;flex-direction:column;}/*!sc*/
@media screen and (max-width:768px){.jywUSN{display:none;}}/*!sc*/
@media screen and (min-width:768px){.jywUSN{max-height:100vh;height:100vh;}}/*!sc*/
.hBSSUC{display:-webkit-box;display:-webkit-flex;display:-ms-flexbox;display:flex;-webkit-flex-direction:column;-ms-flex-direction:column;flex-direction:column;-webkit-align-items:center;-webkit-box-align:center;-ms-flex-align:center;align-items:center;padding-left:16px;padding-right:16px;padding-bottom:8px;padding-top:16px;}/*!sc*/
.iPurHz{display:-webkit-box;display:-webkit-flex;display:-ms-flexbox;display:flex;width:100%;margin-bottom:16px;-webkit-align-items:center;-webkit-box-align:center;-ms-flex-align:center;align-items:center;}/*!sc*/
.kkrdEu{-webkit-box-pack:center;-webkit-justify-content:center;-ms-flex-pack:center;justify-content:center;}/*!sc*/
.trpoQ{display:-webkit-box;display:-webkit-flex;display:-ms-flexbox;display:flex;pointer-events:none;}/*!sc*/
.hVHHYa{margin-left:24px;margin-right:24px;display:-webkit-box;display:-webkit-flex;display:-ms-flexbox;display:flex;width:100%;}/*!sc*/
.idZfsJ{-webkit-box-flex:1;-webkit-flex-grow:1;-ms-flex-positive:1;flex-grow:1;}/*!sc*/
.bKgizp{display:-webkit-box;display:-webkit-flex;display:-ms-flexbox;display:flex;width:100%;}/*!sc*/
.dIAShY{margin-right:4px;color:var(--fgColor-muted,var(--color-fg-muted,#848d97));}/*!sc*/
.caeYDk{font-size:14px;min-width:0;overflow:hidden;text-overflow:ellipsis;white-space:nowrap;}/*!sc*/
.jahcnb{margin-left:8px;white-space:nowrap;}/*!sc*/
.jahcnb:hover button:not(:hover){border-left-color:var(--button-default-borderColor-hover,var(--color-btn-hover-border));}/*!sc*/
.ccToMy{margin-left:16px;margin-right:16px;margin-bottom:12px;}/*!sc*/
@media screen and (max-width:768px){.ccToMy{display:none;}}/*!sc*/
.cNvKlH{margin-right:-6px;}/*!sc*/
.cLfAnm{-webkit-box-flex:1;-webkit-flex-grow:1;-ms-flex-positive:1;flex-grow:1;max-height:100% !important;overflow-y:auto;-webkit-scrollbar-gutter:stable;-moz-scrollbar-gutter:stable;-ms-scrollbar-gutter:stable;scrollbar-gutter:stable;}/*!sc*/
@media screen and (max-width:768px){.cLfAnm{display:none;}}/*!sc*/
.erWCJP{padding-left:16px;padding-right:16px;padding-bottom:8px;}/*!sc*/
.hAeDYA{height:100%;position:relative;display:none;margin-left:0;}/*!sc*/
.gZHqlw{position:absolute;inset:0 -2px;cursor:col-resize;background-color:transparent;-webkit-transition-delay:0.1s;transition-delay:0.1s;}/*!sc*/
.gZHqlw:hover{background-color:var(--bgColor-neutral-muted,var(--color-neutral-muted,rgba(110,118,129,0.4)));}/*!sc*/
.emFMJu{display:-webkit-box;display:-webkit-flex;display:-ms-flexbox;display:flex;-webkit-flex-direction:column;-ms-flex-direction:column;flex-direction:column;-webkit-order:2;-ms-flex-order:2;order:2;-webkit-flex-basis:0;-ms-flex-preferred-size:0;flex-basis:0;-webkit-box-flex:1;-webkit-flex-grow:1;-ms-flex-positive:1;flex-grow:1;-webkit-flex-shrink:1;-ms-flex-negative:1;flex-shrink:1;min-width:1px;margin-right:auto;}/*!sc*/
@media print{.emFMJu{display:-webkit-box !important;display:-webkit-flex !important;display:-ms-flexbox !important;display:flex !important;}}/*!sc*/
.hlUAHL{width:100%;max-width:100%;margin-left:auto;margin-right:auto;-webkit-box-flex:1;-webkit-flex-grow:1;-ms-flex-positive:1;flex-grow:1;padding:0;}/*!sc*/
.iStsmI{margin-left:auto;margin-right:auto;-webkit-flex-direction:column;-ms-flex-direction:column;flex-direction:column;padding-bottom:40px;max-width:100%;margin-top:0;}/*!sc*/
.eIgvIk{display:inherit;}/*!sc*/
.eVFfWF{width:100%;}/*!sc*/
.fywjmm{display:-webkit-box;display:-webkit-flex;display:-ms-flexbox;display:flex;gap:8px;-webkit-flex-direction:column;-ms-flex-direction:column;flex-direction:column;width:100%;}/*!sc*/
.dyczTK{display:-webkit-box;display:-webkit-flex;display:-ms-flexbox;display:flex;-webkit-align-items:start;-webkit-box-align:start;-ms-flex-align:start;align-items:start;-webkit-box-pack:justify;-webkit-justify-content:space-between;-ms-flex-pack:justify;justify-content:space-between;gap:8px;}/*!sc*/
.kszRgZ{-webkit-align-self:center;-ms-flex-item-align:center;align-self:center;display:-webkit-box;display:-webkit-flex;display:-ms-flexbox;display:flex;padding-right:8px;min-width:0;}/*!sc*/
.eTvGbF{display:-webkit-box;display:-webkit-flex;display:-ms-flexbox;display:flex;-webkit-flex-direction:row;-ms-flex-direction:row;flex-direction:row;font-size:16px;min-width:0;-webkit-flex-shrink:1;-ms-flex-negative:1;flex-shrink:1;-webkit-flex-wrap:wrap;-ms-flex-wrap:wrap;flex-wrap:wrap;max-width:100%;-webkit-align-items:center;-webkit-box-align:center;-ms-flex-align:center;align-items:center;}/*!sc*/
.kzRgrI{max-width:100%;}/*!sc*/
.cmAPIB{max-width:100%;list-style:none;display:inline-block;}/*!sc*/
.jwXCBK{display:inline-block;max-width:100%;}/*!sc*/
.gtBUEp{min-height:32px;display:-webkit-box;display:-webkit-flex;display:-ms-flexbox;display:flex;-webkit-align-items:start;-webkit-box-align:start;-ms-flex-align:start;align-items:start;}/*!sc*/
.hVZtwF{margin-left:16px;margin-right:16px;}/*!sc*/
.cMYnca{display:-webkit-box;display:-webkit-flex;display:-ms-flexbox;display:flex;-webkit-flex-direction:column;-ms-flex-direction:column;flex-direction:column;}/*!sc*/
.dPsqPZ{display:-webkit-box;display:-webkit-flex;display:-ms-flexbox;display:flex;-webkit-flex-direction:column;-ms-flex-direction:column;flex-direction:column;border:1px solid;border-color:var(--borderColor-default,var(--color-border-default,#30363d));border-radius:6px;margin-bottom:16px;}/*!sc*/
.eYedVD{display:-webkit-box;display:-webkit-flex;display:-ms-flexbox;display:flex;-webkit-flex-direction:row;-ms-flex-direction:row;flex-direction:row;-webkit-box-pack:justify;-webkit-justify-content:space-between;-ms-flex-pack:justify;justify-content:space-between;-webkit-align-items:center;-webkit-box-align:center;-ms-flex-align:center;align-items:center;gap:8px;min-width:273px;padding-right:8px;padding-left:16px;padding-top:8px;padding-bottom:8px;}/*!sc*/
.lhFvfi{display:-webkit-box;display:-webkit-flex;display:-ms-flexbox;display:flex;-webkit-align-items:center;-webkit-box-align:center;-ms-flex-align:center;align-items:center;}/*!sc*/
.jGfYmh{display:-webkit-box;display:-webkit-flex;display:-ms-flexbox;display:flex;gap:8px;}/*!sc*/
.bqgLjk{display:inherit;}/*!sc*/
@media screen and (min-width:544px){.bqgLjk{display:none;}}/*!sc*/
@media screen and (min-width:768px){.bqgLjk{display:none;}}/*!sc*/
.iJmJly{display:-webkit-box;display:-webkit-flex;display:-ms-flexbox;display:flex;-webkit-flex-direction:row;-ms-flex-direction:row;flex-direction:row;}/*!sc*/
.jACbi{width:100%;height:-webkit-fit-content;height:-moz-fit-content;height:fit-content;min-width:0;margin-right:0;}/*!sc*/
.gIJuDf{height:40px;padding-left:4px;padding-bottom:16px;}/*!sc*/
.fleZSW{-webkit-align-items:center;-webkit-box-align:center;-ms-flex-align:center;align-items:center;}/*!sc*/
.dVVHlo{font-size:12px;-webkit-flex:auto;-ms-flex:auto;flex:auto;padding-right:16px;color:var(--fgColor-muted,var(--color-fg-muted,#848d97));min-width:0;}/*!sc*/
.VHzRk{top:0px;z-index:4;background:var(--bgColor-default,var(--color-canvas-default));position:-webkit-sticky;position:sticky;}/*!sc*/
.ePiodO{display:-webkit-box;display:-webkit-flex;display:-ms-flexbox;display:flex;-webkit-flex-direction:column;-ms-flex-direction:column;flex-direction:column;width:100%;position:absolute;}/*!sc*/
.kQJlnf{display:none;min-width:0;padding-top:8px;padding-bottom:8px;}/*!sc*/
.gJICKO{margin-right:8px;margin-left:16px;text-overflow:ellipsis;overflow:hidden;display:-webkit-box;display:-webkit-flex;display:-ms-flexbox;display:flex;-webkit-flex-direction:row;-ms-flex-direction:row;flex-direction:row;-webkit-align-items:center;-webkit-box-align:center;-ms-flex-align:center;align-items:center;-webkit-box-pack:justify;-webkit-justify-content:space-between;-ms-flex-pack:justify;justify-content:space-between;width:100%;}/*!sc*/
.iZJewz{display:-webkit-box;display:-webkit-flex;display:-ms-flexbox;display:flex;-webkit-flex-direction:row;-ms-flex-direction:row;flex-direction:row;font-size:14px;min-width:0;-webkit-flex-shrink:1;-ms-flex-negative:1;flex-shrink:1;-webkit-flex-wrap:wrap;-ms-flex-wrap:wrap;flex-wrap:wrap;max-width:100%;-webkit-align-items:center;-webkit-box-align:center;-ms-flex-align:center;align-items:center;}/*!sc*/
.jtQniD{padding-left:8px;padding-top:8px;padding-bottom:8px;display:-webkit-box;display:-webkit-flex;display:-ms-flexbox;display:flex;-webkit-flex:1;-ms-flex:1;flex:1;-webkit-align-items:center;-webkit-box-align:center;-ms-flex-align:center;align-items:center;-webkit-box-pack:justify;-webkit-justify-content:space-between;-ms-flex-pack:justify;justify-content:space-between;background-color:var(--bgColor-muted,var(--color-canvas-subtle,#161b22));border:1px solid var(--borderColor-default,var(--color-border-default));border-radius:6px 6px 0px 0px;}/*!sc*/
.bfkNRF{display:-webkit-box;display:-webkit-flex;display:-ms-flexbox;display:flex;-webkit-align-items:center;-webkit-box-align:center;-ms-flex-align:center;align-items:center;gap:8px;min-width:0;}/*!sc*/
.fXBLEV{display:block;position:relative;-webkit-box-flex:1;-webkit-flex-grow:1;-ms-flex-positive:1;flex-grow:1;margin-top:-1px;margin-bottom:-1px;--separator-color:transparent;}/*!sc*/
.fXBLEV:not(:last-child){margin-right:1px;}/*!sc*/
.fXBLEV:not(:last-child):after{background-color:var(--separator-color);content:"";position:absolute;right:-2px;top:8px;bottom:8px;width:1px;}/*!sc*/
.fXBLEV:focus-within:has(:focus-visible){--separator-color:transparent;}/*!sc*/
.fXBLEV:first-child{margin-left:-1px;}/*!sc*/
.fXBLEV:last-child{margin-right:-1px;}/*!sc*/
.illvPQ{display:block;position:relative;-webkit-box-flex:1;-webkit-flex-grow:1;-ms-flex-positive:1;flex-grow:1;margin-top:-1px;margin-bottom:-1px;--separator-color:var(--borderColor-default,var(--color-border-default,#30363d));}/*!sc*/
.illvPQ:not(:last-child){margin-right:1px;}/*!sc*/
.illvPQ:not(:last-child):after{background-color:var(--separator-color);content:"";position:absolute;right:-2px;top:8px;bottom:8px;width:1px;}/*!sc*/
.illvPQ:focus-within:has(:focus-visible){--separator-color:transparent;}/*!sc*/
.illvPQ:first-child{margin-left:-1px;}/*!sc*/
.illvPQ:last-child{margin-right:-1px;}/*!sc*/
.iBylDf{display:-webkit-box;display:-webkit-flex;display:-ms-flexbox;display:flex;-webkit-align-items:center;-webkit-box-align:center;-ms-flex-align:center;align-items:center;gap:8px;margin-right:8px;}/*!sc*/
.kSGBPx{gap:8px;}/*!sc*/
.jMJFjm{border:1px solid;border-top:none;border-color:var(--borderColor-default,var(--color-border-default,#30363d));border-radius:0px 0px 6px 6px;min-width:273px;}/*!sc*/
.eJsjkT{background-color:var(--bgColor-default,var(--color-canvas-default));border:0px;border-width:0;border-radius:0px 0px 6px 6px;padding:0;min-width:0;margin-top:46px;overflow:auto;}/*!sc*/
.aZrVR{position:fixed;top:0;right:0;height:100%;width:15px;-webkit-transition:-webkit-transform 0.3s;-webkit-transition:transform 0.3s;transition:transform 0.3s;z-index:1;}/*!sc*/
.aZrVR:hover{-webkit-transform:scaleX(1.5);-ms-transform:scaleX(1.5);transform:scaleX(1.5);}/*!sc*/
.bAzdCq{display:-webkit-box;display:-webkit-flex;display:-ms-flexbox;display:flex;-webkit-flex-direction:column;-ms-flex-direction:column;flex-direction:column;-webkit-align-items:center;-webkit-box-align:center;-ms-flex-align:center;align-items:center;padding-top:16px;padding-bottom:16px;}/*!sc*/
data-styled.g2[id="Box-sc-g0xbh4-0"]{content:"fSWWem,kPPmzM,cIAPDV,gvCnwW,xEgty,eUyHuk,gNdDUH,jywUSN,hBSSUC,iPurHz,kkrdEu,trpoQ,hVHHYa,idZfsJ,bKgizp,dIAShY,caeYDk,jahcnb,ccToMy,cNvKlH,cLfAnm,erWCJP,hAeDYA,gZHqlw,emFMJu,hlUAHL,iStsmI,eIgvIk,eVFfWF,fywjmm,dyczTK,kszRgZ,eTvGbF,kzRgrI,cmAPIB,jwXCBK,gtBUEp,hVZtwF,cMYnca,dPsqPZ,eYedVD,lhFvfi,jGfYmh,bqgLjk,iJmJly,jACbi,gIJuDf,fleZSW,dVVHlo,VHzRk,ePiodO,kQJlnf,gJICKO,iZJewz,jtQniD,bfkNRF,fXBLEV,illvPQ,iBylDf,kSGBPx,jMJFjm,eJsjkT,aZrVR,bAzdCq,"}/*!sc*/
body[data-page-layout-dragging="true"]{cursor:col-resize;}/*!sc*/
body[data-page-layout-dragging="true"] *{-webkit-user-select:none;-moz-user-select:none;-ms-user-select:none;user-select:none;}/*!sc*/
data-styled.g3[id="sc-global-gbKrvU1"]{content:"sc-global-gbKrvU1,"}/*!sc*/
.bOMzPg{min-width:0;}/*!sc*/
.ePvrxx{padding-left:4px;padding-right:4px;font-weight:400;color:var(--fgColor-muted,var(--color-fg-muted,#848d97));font-size:16px;}/*!sc*/
.UrHoN{color:var(--fgColor-default,var(--color-fg-default,#e6edf3));}/*!sc*/
.fQxKLn{padding-left:4px;padding-right:4px;font-weight:400;color:var(--fgColor-muted,var(--color-fg-muted,#848d97));font-size:14px;}/*!sc*/
data-styled.g6[id="Text-sc-17v1xeu-0"]{content:"bOMzPg,ePvrxx,UrHoN,gPDEWA,fQxKLn,"}/*!sc*/
.dpowyu{color:var(--fgColor-accent,var(--color-accent-fg,#2f81f7));-webkit-text-decoration:none;text-decoration:none;font-weight:600;}/*!sc*/
[data-a11y-link-underlines='true'] .Link__StyledLink-sc-14289xe-0[data-inline='true']{-webkit-text-decoration:underline;text-decoration:underline;}/*!sc*/
.dpowyu:hover{-webkit-text-decoration:underline;text-decoration:underline;}/*!sc*/
.dpowyu:is(button){display:inline-block;padding:0;font-size:inherit;white-space:nowrap;cursor:pointer;-webkit-user-select:none;-moz-user-select:none;-ms-user-select:none;user-select:none;background-color:transparent;border:0;-webkit-appearance:none;-moz-appearance:none;appearance:none;}/*!sc*/
.csCkZA{color:var(--fgColor-accent,var(--color-accent-fg,#2f81f7));-webkit-text-decoration:none;text-decoration:none;font-weight:400;}/*!sc*/
[data-a11y-link-underlines='true'] .Link__StyledLink-sc-14289xe-0[data-inline='true']{-webkit-text-decoration:underline;text-decoration:underline;}/*!sc*/
.csCkZA:hover{-webkit-text-decoration:underline;text-decoration:underline;}/*!sc*/
.csCkZA:is(button){display:inline-block;padding:0;font-size:inherit;white-space:nowrap;cursor:pointer;-webkit-user-select:none;-moz-user-select:none;-ms-user-select:none;user-select:none;background-color:transparent;border:0;-webkit-appearance:none;-moz-appearance:none;appearance:none;}/*!sc*/
.elltiT{color:var(--fgColor-accent,var(--color-accent-fg,#2f81f7));-webkit-text-decoration:none;text-decoration:none;}/*!sc*/
[data-a11y-link-underlines='true'] .Link__StyledLink-sc-14289xe-0[data-inline='true']{-webkit-text-decoration:underline;text-decoration:underline;}/*!sc*/
.elltiT:hover{-webkit-text-decoration:underline;text-decoration:underline;}/*!sc*/
.elltiT:is(button){display:inline-block;padding:0;font-size:inherit;white-space:nowrap;cursor:pointer;-webkit-user-select:none;-moz-user-select:none;-ms-user-select:none;user-select:none;background-color:transparent;border:0;-webkit-appearance:none;-moz-appearance:none;appearance:none;}/*!sc*/
data-styled.g8[id="Link__StyledLink-sc-14289xe-0"]{content:"dpowyu,csCkZA,elltiT,"}/*!sc*/
.iKABXH{border-radius:6px;border:1px solid;border-color:transparent;font-family:inherit;font-weight:500;font-size:14px;cursor:pointer;-webkit-appearance:none;-moz-appearance:none;appearance:none;-webkit-user-select:none;-moz-user-select:none;-ms-user-select:none;user-select:none;-webkit-text-decoration:none;text-decoration:none;text-align:center;display:-webkit-box;display:-webkit-flex;display:-ms-flexbox;display:flex;-webkit-align-items:center;-webkit-box-align:center;-ms-flex-align:center;align-items:center;-webkit-box-pack:justify;-webkit-justify-content:space-between;-ms-flex-pack:justify;justify-content:space-between;height:32px;padding:0 12px;gap:8px;min-width:-webkit-max-content;min-width:-moz-max-content;min-width:max-content;-webkit-transition:80ms cubic-bezier(0.65,0,0.35,1);transition:80ms cubic-bezier(0.65,0,0.35,1);-webkit-transition-property:color,fill,background-color,border-color;transition-property:color,fill,background-color,border-color;color:var(--button-default-fgColor-rest,var(--color-btn-text,#c9d1d9));background-color:transparent;box-shadow:none;}/*!sc*/
.iKABXH:focus:not(:disabled){box-shadow:none;outline:2px solid var(--fgColor-accent,var(--color-accent-fg,#2f81f7));outline-offset:-2px;}/*!sc*/
.iKABXH:focus:not(:disabled):not(:focus-visible){outline:solid 1px transparent;}/*!sc*/
.iKABXH:focus-visible:not(:disabled){box-shadow:none;outline:2px solid var(--fgColor-accent,var(--color-accent-fg,#2f81f7));outline-offset:-2px;}/*!sc*/
.iKABXH[href]{display:-webkit-inline-box;display:-webkit-inline-flex;display:-ms-inline-flexbox;display:inline-flex;}/*!sc*/
.iKABXH[href]:hover{-webkit-text-decoration:none;text-decoration:none;}/*!sc*/
.iKABXH:hover{-webkit-transition-duration:80ms;transition-duration:80ms;}/*!sc*/
.iKABXH:active{-webkit-transition:none;transition:none;}/*!sc*/
.iKABXH[data-inactive]{cursor:auto;}/*!sc*/
.iKABXH:disabled{cursor:not-allowed;box-shadow:none;color:var(--fgColor-disabled,var(--color-primer-fg-disabled,#484f58));}/*!sc*/
.iKABXH:disabled [data-component=ButtonCounter],.iKABXH:disabled [data-component="leadingVisual"],.iKABXH:disabled [data-component="trailingAction"]{color:inherit;}/*!sc*/
@media (forced-colors:active){.iKABXH:focus{outline:solid 1px transparent;}}/*!sc*/
.iKABXH [data-component=ButtonCounter]{font-size:12px;}/*!sc*/
.iKABXH[data-component=IconButton]{display:inline-grid;padding:unset;place-content:center;width:32px;min-width:unset;}/*!sc*/
.iKABXH[data-size="small"]{padding:0 8px;height:28px;gap:4px;font-size:12px;}/*!sc*/
.iKABXH[data-size="small"] [data-component="text"]{line-height:calc(20 / 12);}/*!sc*/
.iKABXH[data-size="small"] [data-component=ButtonCounter]{font-size:12px;}/*!sc*/
.iKABXH[data-size="small"] [data-component="buttonContent"] > :not(:last-child){margin-right:4px;}/*!sc*/
.iKABXH[data-size="small"][data-component=IconButton]{width:28px;padding:unset;}/*!sc*/
.iKABXH[data-size="large"]{padding:0 16px;height:40px;gap:8px;}/*!sc*/
.iKABXH[data-size="large"] [data-component="buttonContent"] > :not(:last-child){margin-right:8px;}/*!sc*/
.iKABXH[data-size="large"][data-component=IconButton]{width:40px;padding:unset;}/*!sc*/
.iKABXH[data-block="block"]{width:100%;}/*!sc*/
.iKABXH[data-inactive]:not([disabled]){background-color:var(--button-inactive-bgColor,var(--button-inactive-bgColor-rest,var(--color-btn-inactive-bg,#21262d)));border-color:var(--button-inactive-bgColor,var(--button-inactive-bgColor-rest,var(--color-btn-inactive-bg,#21262d)));color:var(--button-inactive-fgColor,var(--button-inactive-fgColor-rest,var(--color-btn-inactive-text,#8b949e)));}/*!sc*/
.iKABXH[data-inactive]:not([disabled]):focus-visible{box-shadow:none;}/*!sc*/
.iKABXH [data-component="leadingVisual"]{grid-area:leadingVisual;color:var(--fgColor-muted,var(--color-fg-muted,#848d97));}/*!sc*/
.iKABXH [data-component="text"]{grid-area:text;line-height:calc(20/14);white-space:nowrap;}/*!sc*/
.iKABXH [data-component="trailingVisual"]{grid-area:trailingVisual;}/*!sc*/
.iKABXH [data-component="trailingAction"]{margin-right:-4px;color:var(--fgColor-muted,var(--color-fg-muted,#848d97));}/*!sc*/
.iKABXH [data-component="buttonContent"]{-webkit-flex:1 0 auto;-ms-flex:1 0 auto;flex:1 0 auto;display:grid;grid-template-areas:"leadingVisual text trailingVisual";grid-template-columns:min-content minmax(0,auto) min-content;-webkit-align-items:center;-webkit-box-align:center;-ms-flex-align:center;align-items:center;-webkit-align-content:center;-ms-flex-line-pack:center;align-content:center;}/*!sc*/
.iKABXH [data-component="buttonContent"] > :not(:last-child){margin-right:8px;}/*!sc*/
.iKABXH:hover:not([disabled]){background-color:var(--control-transparent-bgColor-hover,var(--color-action-list-item-default-hover-bg,rgba(177,186,196,0.12)));}/*!sc*/
.iKABXH:active:not([disabled]){background-color:var(--control-transparent-bgColor-active,var(--color-action-list-item-default-active-bg,rgba(177,186,196,0.2)));}/*!sc*/
.iKABXH[aria-expanded=true]{background-color:var(--control-transparent-bgColor-selected,var(--color-action-list-item-default-selected-bg,rgba(177,186,196,0.08)));}/*!sc*/
.iKABXH[data-component="IconButton"][data-no-visuals]{color:var(--fgColor-muted,var(--color-fg-muted,#848d97));}/*!sc*/
.iKABXH[data-no-visuals]{color:var(--fgColor-accent,var(--color-accent-fg,#2f81f7));}/*!sc*/
.iKABXH:has([data-component="ButtonCounter"]){color:var(--button-default-fgColor-rest,var(--color-btn-text,#c9d1d9));}/*!sc*/
.iKABXH:disabled[data-no-visuals]{color:var(--fgColor-disabled,var(--color-primer-fg-disabled,#484f58));}/*!sc*/
.iKABXH:disabled[data-no-visuals] [data-component=ButtonCounter]{color:inherit;}/*!sc*/
.iKABXH{color:var(--fgColor-muted,var(--color-fg-muted,#848d97));padding-left:8px;padding-right:8px;display:none;}/*!sc*/
@media screen and (max-width:768px){.iKABXH{display:block;}}/*!sc*/
.hfWObv{border-radius:6px;border:1px solid;border-color:transparent;font-family:inherit;font-weight:500;font-size:14px;cursor:pointer;-webkit-appearance:none;-moz-appearance:none;appearance:none;-webkit-user-select:none;-moz-user-select:none;-ms-user-select:none;user-select:none;-webkit-text-decoration:none;text-decoration:none;text-align:center;display:-webkit-box;display:-webkit-flex;display:-ms-flexbox;display:flex;-webkit-align-items:center;-webkit-box-align:center;-ms-flex-align:center;align-items:center;-webkit-box-pack:justify;-webkit-justify-content:space-between;-ms-flex-pack:justify;justify-content:space-between;height:32px;padding:0 12px;gap:8px;min-width:-webkit-max-content;min-width:-moz-max-content;min-width:max-content;-webkit-transition:80ms cubic-bezier(0.65,0,0.35,1);transition:80ms cubic-bezier(0.65,0,0.35,1);-webkit-transition-property:color,fill,background-color,border-color;transition-property:color,fill,background-color,border-color;color:var(--button-default-fgColor-rest,var(--color-btn-text,#c9d1d9));background-color:transparent;box-shadow:none;}/*!sc*/
.hfWObv:focus:not(:disabled){box-shadow:none;outline:2px solid var(--fgColor-accent,var(--color-accent-fg,#2f81f7));outline-offset:-2px;}/*!sc*/
.hfWObv:focus:not(:disabled):not(:focus-visible){outline:solid 1px transparent;}/*!sc*/
.hfWObv:focus-visible:not(:disabled){box-shadow:none;outline:2px solid var(--fgColor-accent,var(--color-accent-fg,#2f81f7));outline-offset:-2px;}/*!sc*/
.hfWObv[href]{display:-webkit-inline-box;display:-webkit-inline-flex;display:-ms-inline-flexbox;display:inline-flex;}/*!sc*/
.hfWObv[href]:hover{-webkit-text-decoration:none;text-decoration:none;}/*!sc*/
.hfWObv:hover{-webkit-transition-duration:80ms;transition-duration:80ms;}/*!sc*/
.hfWObv:active{-webkit-transition:none;transition:none;}/*!sc*/
.hfWObv[data-inactive]{cursor:auto;}/*!sc*/
.hfWObv:disabled{cursor:not-allowed;box-shadow:none;color:var(--fgColor-disabled,var(--color-primer-fg-disabled,#484f58));}/*!sc*/
.hfWObv:disabled [data-component=ButtonCounter],.hfWObv:disabled [data-component="leadingVisual"],.hfWObv:disabled [data-component="trailingAction"]{color:inherit;}/*!sc*/
@media (forced-colors:active){.hfWObv:focus{outline:solid 1px transparent;}}/*!sc*/
.hfWObv [data-component=ButtonCounter]{font-size:12px;}/*!sc*/
.hfWObv[data-component=IconButton]{display:inline-grid;padding:unset;place-content:center;width:32px;min-width:unset;}/*!sc*/
.hfWObv[data-size="small"]{padding:0 8px;height:28px;gap:4px;font-size:12px;}/*!sc*/
.hfWObv[data-size="small"] [data-component="text"]{line-height:calc(20 / 12);}/*!sc*/
.hfWObv[data-size="small"] [data-component=ButtonCounter]{font-size:12px;}/*!sc*/
.hfWObv[data-size="small"] [data-component="buttonContent"] > :not(:last-child){margin-right:4px;}/*!sc*/
.hfWObv[data-size="small"][data-component=IconButton]{width:28px;padding:unset;}/*!sc*/
.hfWObv[data-size="large"]{padding:0 16px;height:40px;gap:8px;}/*!sc*/
.hfWObv[data-size="large"] [data-component="buttonContent"] > :not(:last-child){margin-right:8px;}/*!sc*/
.hfWObv[data-size="large"][data-component=IconButton]{width:40px;padding:unset;}/*!sc*/
.hfWObv[data-block="block"]{width:100%;}/*!sc*/
.hfWObv[data-inactive]:not([disabled]){background-color:var(--button-inactive-bgColor,var(--button-inactive-bgColor-rest,var(--color-btn-inactive-bg,#21262d)));border-color:var(--button-inactive-bgColor,var(--button-inactive-bgColor-rest,var(--color-btn-inactive-bg,#21262d)));color:var(--button-inactive-fgColor,var(--button-inactive-fgColor-rest,var(--color-btn-inactive-text,#8b949e)));}/*!sc*/
.hfWObv[data-inactive]:not([disabled]):focus-visible{box-shadow:none;}/*!sc*/
.hfWObv [data-component="leadingVisual"]{grid-area:leadingVisual;color:var(--fgColor-muted,var(--color-fg-muted,#848d97));}/*!sc*/
.hfWObv [data-component="text"]{grid-area:text;line-height:calc(20/14);white-space:nowrap;}/*!sc*/
.hfWObv [data-component="trailingVisual"]{grid-area:trailingVisual;}/*!sc*/
.hfWObv [data-component="trailingAction"]{margin-right:-4px;color:var(--fgColor-muted,var(--color-fg-muted,#848d97));}/*!sc*/
.hfWObv [data-component="buttonContent"]{-webkit-flex:1 0 auto;-ms-flex:1 0 auto;flex:1 0 auto;display:grid;grid-template-areas:"leadingVisual text trailingVisual";grid-template-columns:min-content minmax(0,auto) min-content;-webkit-align-items:center;-webkit-box-align:center;-ms-flex-align:center;align-items:center;-webkit-align-content:center;-ms-flex-line-pack:center;align-content:center;}/*!sc*/
.hfWObv [data-component="buttonContent"] > :not(:last-child){margin-right:8px;}/*!sc*/
.hfWObv:hover:not([disabled]){background-color:var(--control-transparent-bgColor-hover,var(--color-action-list-item-default-hover-bg,rgba(177,186,196,0.12)));}/*!sc*/
.hfWObv:active:not([disabled]){background-color:var(--control-transparent-bgColor-active,var(--color-action-list-item-default-active-bg,rgba(177,186,196,0.2)));}/*!sc*/
.hfWObv[aria-expanded=true]{background-color:var(--control-transparent-bgColor-selected,var(--color-action-list-item-default-selected-bg,rgba(177,186,196,0.08)));}/*!sc*/
.hfWObv[data-component="IconButton"][data-no-visuals]{color:var(--fgColor-muted,var(--color-fg-muted,#848d97));}/*!sc*/
.hfWObv[data-no-visuals]{color:var(--fgColor-muted,var(--color-fg-muted,#848d97));height:32px;position:relative;}/*!sc*/
@media screen and (max-width:768px){.hfWObv[data-no-visuals]{display:none;}}/*!sc*/
.hfWObv:has([data-component="ButtonCounter"]){color:var(--button-default-fgColor-rest,var(--color-btn-text,#c9d1d9));}/*!sc*/
.hfWObv:disabled[data-no-visuals]{color:var(--fgColor-disabled,var(--color-primer-fg-disabled,#484f58));}/*!sc*/
.hfWObv:disabled[data-no-visuals] [data-component=ButtonCounter]{color:inherit;}/*!sc*/
.gBsjGI{border-radius:6px;border:1px solid;border-color:var(--button-default-borderColor-rest,var(--button-default-borderColor-rest,var(--color-btn-border,rgba(240,246,252,0.1))));font-family:inherit;font-weight:500;font-size:14px;cursor:pointer;-webkit-appearance:none;-moz-appearance:none;appearance:none;-webkit-user-select:none;-moz-user-select:none;-ms-user-select:none;user-select:none;-webkit-text-decoration:none;text-decoration:none;text-align:center;display:-webkit-box;display:-webkit-flex;display:-ms-flexbox;display:flex;-webkit-align-items:center;-webkit-box-align:center;-ms-flex-align:center;align-items:center;-webkit-box-pack:justify;-webkit-justify-content:space-between;-ms-flex-pack:justify;justify-content:space-between;height:32px;padding:0 12px;gap:8px;min-width:-webkit-max-content;min-width:-moz-max-content;min-width:max-content;-webkit-transition:80ms cubic-bezier(0.65,0,0.35,1);transition:80ms cubic-bezier(0.65,0,0.35,1);-webkit-transition-property:color,fill,background-color,border-color;transition-property:color,fill,background-color,border-color;color:var(--button-default-fgColor-rest,var(--color-btn-text,#c9d1d9));background-color:var(--button-default-bgColor-rest,var(--color-btn-bg,#21262d));box-shadow:var(--button-default-shadow-resting,var(--color-btn-shadow,0 0 transparent)),var(--button-default-shadow-inset,var(--color-btn-inset-shadow,0 0 transparent));}/*!sc*/
.gBsjGI:focus:not(:disabled){box-shadow:none;outline:2px solid var(--fgColor-accent,var(--color-accent-fg,#2f81f7));outline-offset:-2px;}/*!sc*/
.gBsjGI:focus:not(:disabled):not(:focus-visible){outline:solid 1px transparent;}/*!sc*/
.gBsjGI:focus-visible:not(:disabled){box-shadow:none;outline:2px solid var(--fgColor-accent,var(--color-accent-fg,#2f81f7));outline-offset:-2px;}/*!sc*/
.gBsjGI[href]{display:-webkit-inline-box;display:-webkit-inline-flex;display:-ms-inline-flexbox;display:inline-flex;}/*!sc*/
.gBsjGI[href]:hover{-webkit-text-decoration:none;text-decoration:none;}/*!sc*/
.gBsjGI:hover{-webkit-transition-duration:80ms;transition-duration:80ms;}/*!sc*/
.gBsjGI:active{-webkit-transition:none;transition:none;}/*!sc*/
.gBsjGI[data-inactive]{cursor:auto;}/*!sc*/
.gBsjGI:disabled{cursor:not-allowed;box-shadow:none;color:var(--fgColor-disabled,var(--color-primer-fg-disabled,#484f58));border-color:var(--button-default-borderColor-disabled,var(--button-default-borderColor-rest,var(--color-btn-border,rgba(240,246,252,0.1))));background-color:var(--button-default-bgColor-disabled,var(--control-bgColor-disabled,var(--color-input-disabled-bg,rgba(110,118,129,0))));}/*!sc*/
.gBsjGI:disabled [data-component=ButtonCounter]{color:inherit;}/*!sc*/
@media (forced-colors:active){.gBsjGI:focus{outline:solid 1px transparent;}}/*!sc*/
.gBsjGI [data-component=ButtonCounter]{font-size:12px;background-color:var(--buttonCounter-default-bgColor-rest,var(--color-btn-counter-bg,#30363d));}/*!sc*/
.gBsjGI[data-component=IconButton]{display:inline-grid;padding:unset;place-content:center;width:32px;min-width:unset;}/*!sc*/
.gBsjGI[data-size="small"]{padding:0 8px;height:28px;gap:4px;font-size:12px;}/*!sc*/
.gBsjGI[data-size="small"] [data-component="text"]{line-height:calc(20 / 12);}/*!sc*/
.gBsjGI[data-size="small"] [data-component=ButtonCounter]{font-size:12px;}/*!sc*/
.gBsjGI[data-size="small"] [data-component="buttonContent"] > :not(:last-child){margin-right:4px;}/*!sc*/
.gBsjGI[data-size="small"][data-component=IconButton]{width:28px;padding:unset;}/*!sc*/
.gBsjGI[data-size="large"]{padding:0 16px;height:40px;gap:8px;}/*!sc*/
.gBsjGI[data-size="large"] [data-component="buttonContent"] > :not(:last-child){margin-right:8px;}/*!sc*/
.gBsjGI[data-size="large"][data-component=IconButton]{width:40px;padding:unset;}/*!sc*/
.gBsjGI[data-block="block"]{width:100%;}/*!sc*/
.gBsjGI[data-inactive]:not([disabled]){background-color:var(--button-inactive-bgColor,var(--button-inactive-bgColor-rest,var(--color-btn-inactive-bg,#21262d)));border-color:var(--button-inactive-bgColor,var(--button-inactive-bgColor-rest,var(--color-btn-inactive-bg,#21262d)));color:var(--button-inactive-fgColor,var(--button-inactive-fgColor-rest,var(--color-btn-inactive-text,#8b949e)));}/*!sc*/
.gBsjGI[data-inactive]:not([disabled]):focus-visible{box-shadow:none;}/*!sc*/
.gBsjGI [data-component="leadingVisual"]{grid-area:leadingVisual;}/*!sc*/
.gBsjGI [data-component="text"]{grid-area:text;line-height:calc(20/14);white-space:nowrap;}/*!sc*/
.gBsjGI [data-component="trailingVisual"]{grid-area:trailingVisual;}/*!sc*/
.gBsjGI [data-component="trailingAction"]{margin-right:-4px;}/*!sc*/
.gBsjGI [data-component="buttonContent"]{-webkit-flex:1 0 auto;-ms-flex:1 0 auto;flex:1 0 auto;display:grid;grid-template-areas:"leadingVisual text trailingVisual";grid-template-columns:min-content minmax(0,auto) min-content;-webkit-align-items:center;-webkit-box-align:center;-ms-flex-align:center;align-items:center;-webkit-align-content:center;-ms-flex-line-pack:center;align-content:center;}/*!sc*/
.gBsjGI [data-component="buttonContent"] > :not(:last-child){margin-right:8px;}/*!sc*/
.gBsjGI:hover:not([disabled]):not([data-inactive]){background-color:var(--button-default-bgColor-hover,var(--color-btn-hover-bg,#30363d));border-color:var(--button-default-borderColor-hover,var(--button-default-borderColor-hover,var(--color-btn-hover-border,#8b949e)));}/*!sc*/
.gBsjGI:active:not([disabled]):not([data-inactive]){background-color:var(--button-default-bgColor-active,var(--color-btn-active-bg,hsla(212,12%,18%,1)));border-color:var(--button-default-borderColor-active,var(--button-default-borderColor-active,var(--color-btn-active-border,#6e7681)));}/*!sc*/
.gBsjGI[aria-expanded=true]{background-color:var(--button-default-bgColor-active,var(--color-btn-active-bg,hsla(212,12%,18%,1)));border-color:var(--button-default-borderColor-active,var(--button-default-borderColor-active,var(--color-btn-active-border,#6e7681)));}/*!sc*/
.gBsjGI [data-component="leadingVisual"],.gBsjGI [data-component="trailingVisual"],.gBsjGI [data-component="trailingAction"]{color:var(--button-color,var(--fgColor-muted,var(--color-fg-muted,#848d97)));}/*!sc*/
.gBsjGI[data-component="IconButton"][data-no-visuals]{color:var(--fgColor-muted,var(--color-fg-muted,#848d97));}/*!sc*/
.gBsjGI{display:-webkit-box;display:-webkit-flex;display:-ms-flexbox;display:flex;min-width:0;}/*!sc*/
.gBsjGI svg{color:var(--fgColor-muted,var(--color-fg-muted,#848d97));}/*!sc*/
.gBsjGI > span{width:inherit;}/*!sc*/
.XJZbf{border-radius:6px;border:1px solid;border-color:var(--button-default-borderColor-rest,var(--button-default-borderColor-rest,var(--color-btn-border,rgba(240,246,252,0.1))));font-family:inherit;font-weight:500;font-size:14px;cursor:pointer;-webkit-appearance:none;-moz-appearance:none;appearance:none;-webkit-user-select:none;-moz-user-select:none;-ms-user-select:none;user-select:none;-webkit-text-decoration:none;text-decoration:none;text-align:center;display:-webkit-box;display:-webkit-flex;display:-ms-flexbox;display:flex;-webkit-align-items:center;-webkit-box-align:center;-ms-flex-align:center;align-items:center;-webkit-box-pack:justify;-webkit-justify-content:space-between;-ms-flex-pack:justify;justify-content:space-between;height:32px;padding:0 12px;gap:8px;min-width:-webkit-max-content;min-width:-moz-max-content;min-width:max-content;-webkit-transition:80ms cubic-bezier(0.65,0,0.35,1);transition:80ms cubic-bezier(0.65,0,0.35,1);-webkit-transition-property:color,fill,background-color,border-color;transition-property:color,fill,background-color,border-color;color:var(--button-default-fgColor-rest,var(--color-btn-text,#c9d1d9));background-color:var(--button-default-bgColor-rest,var(--color-btn-bg,#21262d));box-shadow:var(--button-default-shadow-resting,var(--color-btn-shadow,0 0 transparent)),var(--button-default-shadow-inset,var(--color-btn-inset-shadow,0 0 transparent));}/*!sc*/
.XJZbf:focus:not(:disabled){box-shadow:none;outline:2px solid var(--fgColor-accent,var(--color-accent-fg,#2f81f7));outline-offset:-2px;}/*!sc*/
.XJZbf:focus:not(:disabled):not(:focus-visible){outline:solid 1px transparent;}/*!sc*/
.XJZbf:focus-visible:not(:disabled){box-shadow:none;outline:2px solid var(--fgColor-accent,var(--color-accent-fg,#2f81f7));outline-offset:-2px;}/*!sc*/
.XJZbf[href]{display:-webkit-inline-box;display:-webkit-inline-flex;display:-ms-inline-flexbox;display:inline-flex;}/*!sc*/
.XJZbf[href]:hover{-webkit-text-decoration:none;text-decoration:none;}/*!sc*/
.XJZbf:hover{-webkit-transition-duration:80ms;transition-duration:80ms;}/*!sc*/
.XJZbf:active{-webkit-transition:none;transition:none;}/*!sc*/
.XJZbf[data-inactive]{cursor:auto;}/*!sc*/
.XJZbf:disabled{cursor:not-allowed;box-shadow:none;color:var(--fgColor-disabled,var(--color-primer-fg-disabled,#484f58));border-color:var(--button-default-borderColor-disabled,var(--button-default-borderColor-rest,var(--color-btn-border,rgba(240,246,252,0.1))));background-color:var(--button-default-bgColor-disabled,var(--control-bgColor-disabled,var(--color-input-disabled-bg,rgba(110,118,129,0))));}/*!sc*/
.XJZbf:disabled [data-component=ButtonCounter]{color:inherit;}/*!sc*/
@media (forced-colors:active){.XJZbf:focus{outline:solid 1px transparent;}}/*!sc*/
.XJZbf [data-component=ButtonCounter]{font-size:12px;background-color:var(--buttonCounter-default-bgColor-rest,var(--color-btn-counter-bg,#30363d));}/*!sc*/
.XJZbf[data-component=IconButton]{display:inline-grid;padding:unset;place-content:center;width:32px;min-width:unset;}/*!sc*/
.XJZbf[data-size="small"]{padding:0 8px;height:28px;gap:4px;font-size:12px;}/*!sc*/
.XJZbf[data-size="small"] [data-component="text"]{line-height:calc(20 / 12);}/*!sc*/
.XJZbf[data-size="small"] [data-component=ButtonCounter]{font-size:12px;}/*!sc*/
.XJZbf[data-size="small"] [data-component="buttonContent"] > :not(:last-child){margin-right:4px;}/*!sc*/
.XJZbf[data-size="small"][data-component=IconButton]{width:28px;padding:unset;}/*!sc*/
.XJZbf[data-size="large"]{padding:0 16px;height:40px;gap:8px;}/*!sc*/
.XJZbf[data-size="large"] [data-component="buttonContent"] > :not(:last-child){margin-right:8px;}/*!sc*/
.XJZbf[data-size="large"][data-component=IconButton]{width:40px;padding:unset;}/*!sc*/
.XJZbf[data-block="block"]{width:100%;}/*!sc*/
.XJZbf[data-inactive]:not([disabled]){background-color:var(--button-inactive-bgColor,var(--button-inactive-bgColor-rest,var(--color-btn-inactive-bg,#21262d)));border-color:var(--button-inactive-bgColor,var(--button-inactive-bgColor-rest,var(--color-btn-inactive-bg,#21262d)));color:var(--button-inactive-fgColor,var(--button-inactive-fgColor-rest,var(--color-btn-inactive-text,#8b949e)));}/*!sc*/
.XJZbf[data-inactive]:not([disabled]):focus-visible{box-shadow:none;}/*!sc*/
.XJZbf [data-component="leadingVisual"]{grid-area:leadingVisual;}/*!sc*/
.XJZbf [data-component="text"]{grid-area:text;line-height:calc(20/14);white-space:nowrap;}/*!sc*/
.XJZbf [data-component="trailingVisual"]{grid-area:trailingVisual;}/*!sc*/
.XJZbf [data-component="trailingAction"]{margin-right:-4px;}/*!sc*/
.XJZbf [data-component="buttonContent"]{-webkit-flex:1 0 auto;-ms-flex:1 0 auto;flex:1 0 auto;display:grid;grid-template-areas:"leadingVisual text trailingVisual";grid-template-columns:min-content minmax(0,auto) min-content;-webkit-align-items:center;-webkit-box-align:center;-ms-flex-align:center;align-items:center;-webkit-align-content:center;-ms-flex-line-pack:center;align-content:center;}/*!sc*/
.XJZbf [data-component="buttonContent"] > :not(:last-child){margin-right:8px;}/*!sc*/
.XJZbf:hover:not([disabled]):not([data-inactive]){background-color:var(--button-default-bgColor-hover,var(--color-btn-hover-bg,#30363d));border-color:var(--button-default-borderColor-hover,var(--button-default-borderColor-hover,var(--color-btn-hover-border,#8b949e)));}/*!sc*/
.XJZbf:active:not([disabled]):not([data-inactive]){background-color:var(--button-default-bgColor-active,var(--color-btn-active-bg,hsla(212,12%,18%,1)));border-color:var(--button-default-borderColor-active,var(--button-default-borderColor-active,var(--color-btn-active-border,#6e7681)));}/*!sc*/
.XJZbf[aria-expanded=true]{background-color:var(--button-default-bgColor-active,var(--color-btn-active-bg,hsla(212,12%,18%,1)));border-color:var(--button-default-borderColor-active,var(--button-default-borderColor-active,var(--color-btn-active-border,#6e7681)));}/*!sc*/
.XJZbf [data-component="leadingVisual"],.XJZbf [data-component="trailingVisual"],.XJZbf [data-component="trailingAction"]{color:var(--button-color,var(--fgColor-muted,var(--color-fg-muted,#848d97)));}/*!sc*/
.XJZbf[data-component="IconButton"][data-no-visuals]{color:var(--fgColor-muted,var(--color-fg-muted,#848d97));}/*!sc*/
.XJZbf[data-no-visuals]{color:var(--fgColor-muted,var(--color-fg-subtle,#6e7681));border-top-right-radius:0;border-bottom-right-radius:0;border-right:0;}/*!sc*/
.cBjhIZ{border-radius:6px;border:1px solid;border-color:var(--button-default-borderColor-rest,var(--button-default-borderColor-rest,var(--color-btn-border,rgba(240,246,252,0.1))));font-family:inherit;font-weight:500;font-size:14px;cursor:pointer;-webkit-appearance:none;-moz-appearance:none;appearance:none;-webkit-user-select:none;-moz-user-select:none;-ms-user-select:none;user-select:none;-webkit-text-decoration:none;text-decoration:none;text-align:center;display:-webkit-box;display:-webkit-flex;display:-ms-flexbox;display:flex;-webkit-align-items:center;-webkit-box-align:center;-ms-flex-align:center;align-items:center;-webkit-box-pack:justify;-webkit-justify-content:space-between;-ms-flex-pack:justify;justify-content:space-between;height:32px;padding:0 12px;gap:8px;min-width:-webkit-max-content;min-width:-moz-max-content;min-width:max-content;-webkit-transition:80ms cubic-bezier(0.65,0,0.35,1);transition:80ms cubic-bezier(0.65,0,0.35,1);-webkit-transition-property:color,fill,background-color,border-color;transition-property:color,fill,background-color,border-color;color:var(--button-default-fgColor-rest,var(--color-btn-text,#c9d1d9));background-color:var(--button-default-bgColor-rest,var(--color-btn-bg,#21262d));box-shadow:var(--button-default-shadow-resting,var(--color-btn-shadow,0 0 transparent)),var(--button-default-shadow-inset,var(--color-btn-inset-shadow,0 0 transparent));}/*!sc*/
.cBjhIZ:focus:not(:disabled){box-shadow:none;outline:2px solid var(--fgColor-accent,var(--color-accent-fg,#2f81f7));outline-offset:-2px;}/*!sc*/
.cBjhIZ:focus:not(:disabled):not(:focus-visible){outline:solid 1px transparent;}/*!sc*/
.cBjhIZ:focus-visible:not(:disabled){box-shadow:none;outline:2px solid var(--fgColor-accent,var(--color-accent-fg,#2f81f7));outline-offset:-2px;}/*!sc*/
.cBjhIZ[href]{display:-webkit-inline-box;display:-webkit-inline-flex;display:-ms-inline-flexbox;display:inline-flex;}/*!sc*/
.cBjhIZ[href]:hover{-webkit-text-decoration:none;text-decoration:none;}/*!sc*/
.cBjhIZ:hover{-webkit-transition-duration:80ms;transition-duration:80ms;}/*!sc*/
.cBjhIZ:active{-webkit-transition:none;transition:none;}/*!sc*/
.cBjhIZ[data-inactive]{cursor:auto;}/*!sc*/
.cBjhIZ:disabled{cursor:not-allowed;box-shadow:none;color:var(--fgColor-disabled,var(--color-primer-fg-disabled,#484f58));border-color:var(--button-default-borderColor-disabled,var(--button-default-borderColor-rest,var(--color-btn-border,rgba(240,246,252,0.1))));background-color:var(--button-default-bgColor-disabled,var(--control-bgColor-disabled,var(--color-input-disabled-bg,rgba(110,118,129,0))));}/*!sc*/
.cBjhIZ:disabled [data-component=ButtonCounter]{color:inherit;}/*!sc*/
@media (forced-colors:active){.cBjhIZ:focus{outline:solid 1px transparent;}}/*!sc*/
.cBjhIZ [data-component=ButtonCounter]{font-size:12px;background-color:var(--buttonCounter-default-bgColor-rest,var(--color-btn-counter-bg,#30363d));}/*!sc*/
.cBjhIZ[data-component=IconButton]{display:inline-grid;padding:unset;place-content:center;width:32px;min-width:unset;}/*!sc*/
.cBjhIZ[data-size="small"]{padding:0 8px;height:28px;gap:4px;font-size:12px;}/*!sc*/
.cBjhIZ[data-size="small"] [data-component="text"]{line-height:calc(20 / 12);}/*!sc*/
.cBjhIZ[data-size="small"] [data-component=ButtonCounter]{font-size:12px;}/*!sc*/
.cBjhIZ[data-size="small"] [data-component="buttonContent"] > :not(:last-child){margin-right:4px;}/*!sc*/
.cBjhIZ[data-size="small"][data-component=IconButton]{width:28px;padding:unset;}/*!sc*/
.cBjhIZ[data-size="large"]{padding:0 16px;height:40px;gap:8px;}/*!sc*/
.cBjhIZ[data-size="large"] [data-component="buttonContent"] > :not(:last-child){margin-right:8px;}/*!sc*/
.cBjhIZ[data-size="large"][data-component=IconButton]{width:40px;padding:unset;}/*!sc*/
.cBjhIZ[data-block="block"]{width:100%;}/*!sc*/
.cBjhIZ[data-inactive]:not([disabled]){background-color:var(--button-inactive-bgColor,var(--button-inactive-bgColor-rest,var(--color-btn-inactive-bg,#21262d)));border-color:var(--button-inactive-bgColor,var(--button-inactive-bgColor-rest,var(--color-btn-inactive-bg,#21262d)));color:var(--button-inactive-fgColor,var(--button-inactive-fgColor-rest,var(--color-btn-inactive-text,#8b949e)));}/*!sc*/
.cBjhIZ[data-inactive]:not([disabled]):focus-visible{box-shadow:none;}/*!sc*/
.cBjhIZ [data-component="leadingVisual"]{grid-area:leadingVisual;}/*!sc*/
.cBjhIZ [data-component="text"]{grid-area:text;line-height:calc(20/14);white-space:nowrap;}/*!sc*/
.cBjhIZ [data-component="trailingVisual"]{grid-area:trailingVisual;}/*!sc*/
.cBjhIZ [data-component="trailingAction"]{margin-right:-4px;}/*!sc*/
.cBjhIZ [data-component="buttonContent"]{-webkit-flex:1 0 auto;-ms-flex:1 0 auto;flex:1 0 auto;display:grid;grid-template-areas:"leadingVisual text trailingVisual";grid-template-columns:min-content minmax(0,auto) min-content;-webkit-align-items:center;-webkit-box-align:center;-ms-flex-align:center;align-items:center;-webkit-align-content:center;-ms-flex-line-pack:center;align-content:center;}/*!sc*/
.cBjhIZ [data-component="buttonContent"] > :not(:last-child){margin-right:8px;}/*!sc*/
.cBjhIZ:hover:not([disabled]):not([data-inactive]){background-color:var(--button-default-bgColor-hover,var(--color-btn-hover-bg,#30363d));border-color:var(--button-default-borderColor-hover,var(--button-default-borderColor-hover,var(--color-btn-hover-border,#8b949e)));}/*!sc*/
.cBjhIZ:active:not([disabled]):not([data-inactive]){background-color:var(--button-default-bgColor-active,var(--color-btn-active-bg,hsla(212,12%,18%,1)));border-color:var(--button-default-borderColor-active,var(--button-default-borderColor-active,var(--color-btn-active-border,#6e7681)));}/*!sc*/
.cBjhIZ[aria-expanded=true]{background-color:var(--button-default-bgColor-active,var(--color-btn-active-bg,hsla(212,12%,18%,1)));border-color:var(--button-default-borderColor-active,var(--button-default-borderColor-active,var(--color-btn-active-border,#6e7681)));}/*!sc*/
.cBjhIZ [data-component="leadingVisual"],.cBjhIZ [data-component="trailingVisual"],.cBjhIZ [data-component="trailingAction"]{color:var(--button-color,var(--fgColor-muted,var(--color-fg-muted,#848d97)));}/*!sc*/
.cBjhIZ[data-component="IconButton"][data-no-visuals]{color:var(--fgColor-muted,var(--color-fg-muted,#848d97));}/*!sc*/
.cBjhIZ[data-no-visuals]{color:var(--fgColor-muted,var(--color-fg-subtle,#6e7681));font-size:14px;font-weight:400;-webkit-flex-shrink:0;-ms-flex-negative:0;flex-shrink:0;border-top-left-radius:0;border-bottom-left-radius:0;}/*!sc*/
.IIGly{border-radius:6px;border:1px solid;border-color:transparent;font-family:inherit;font-weight:500;font-size:14px;cursor:pointer;-webkit-appearance:none;-moz-appearance:none;appearance:none;-webkit-user-select:none;-moz-user-select:none;-ms-user-select:none;user-select:none;-webkit-text-decoration:none;text-decoration:none;text-align:center;display:-webkit-box;display:-webkit-flex;display:-ms-flexbox;display:flex;-webkit-align-items:center;-webkit-box-align:center;-ms-flex-align:center;align-items:center;-webkit-box-pack:justify;-webkit-justify-content:space-between;-ms-flex-pack:justify;justify-content:space-between;height:32px;padding:0 12px;gap:8px;min-width:-webkit-max-content;min-width:-moz-max-content;min-width:max-content;-webkit-transition:80ms cubic-bezier(0.65,0,0.35,1);transition:80ms cubic-bezier(0.65,0,0.35,1);-webkit-transition-property:color,fill,background-color,border-color;transition-property:color,fill,background-color,border-color;color:var(--button-default-fgColor-rest,var(--color-btn-text,#c9d1d9));background-color:transparent;box-shadow:none;}/*!sc*/
.IIGly:focus:not(:disabled){box-shadow:none;outline:2px solid var(--fgColor-accent,var(--color-accent-fg,#2f81f7));outline-offset:-2px;}/*!sc*/
.IIGly:focus:not(:disabled):not(:focus-visible){outline:solid 1px transparent;}/*!sc*/
.IIGly:focus-visible:not(:disabled){box-shadow:none;outline:2px solid var(--fgColor-accent,var(--color-accent-fg,#2f81f7));outline-offset:-2px;}/*!sc*/
.IIGly[href]{display:-webkit-inline-box;display:-webkit-inline-flex;display:-ms-inline-flexbox;display:inline-flex;}/*!sc*/
.IIGly[href]:hover{-webkit-text-decoration:none;text-decoration:none;}/*!sc*/
.IIGly:hover{-webkit-transition-duration:80ms;transition-duration:80ms;}/*!sc*/
.IIGly:active{-webkit-transition:none;transition:none;}/*!sc*/
.IIGly[data-inactive]{cursor:auto;}/*!sc*/
.IIGly:disabled{cursor:not-allowed;box-shadow:none;color:var(--fgColor-disabled,var(--color-primer-fg-disabled,#484f58));}/*!sc*/
.IIGly:disabled [data-component=ButtonCounter],.IIGly:disabled [data-component="leadingVisual"],.IIGly:disabled [data-component="trailingAction"]{color:inherit;}/*!sc*/
@media (forced-colors:active){.IIGly:focus{outline:solid 1px transparent;}}/*!sc*/
.IIGly [data-component=ButtonCounter]{font-size:12px;}/*!sc*/
.IIGly[data-component=IconButton]{display:inline-grid;padding:unset;place-content:center;width:32px;min-width:unset;}/*!sc*/
.IIGly[data-size="small"]{padding:0 8px;height:28px;gap:4px;font-size:12px;}/*!sc*/
.IIGly[data-size="small"] [data-component="text"]{line-height:calc(20 / 12);}/*!sc*/
.IIGly[data-size="small"] [data-component=ButtonCounter]{font-size:12px;}/*!sc*/
.IIGly[data-size="small"] [data-component="buttonContent"] > :not(:last-child){margin-right:4px;}/*!sc*/
.IIGly[data-size="small"][data-component=IconButton]{width:28px;padding:unset;}/*!sc*/
.IIGly[data-size="large"]{padding:0 16px;height:40px;gap:8px;}/*!sc*/
.IIGly[data-size="large"] [data-component="buttonContent"] > :not(:last-child){margin-right:8px;}/*!sc*/
.IIGly[data-size="large"][data-component=IconButton]{width:40px;padding:unset;}/*!sc*/
.IIGly[data-block="block"]{width:100%;}/*!sc*/
.IIGly[data-inactive]:not([disabled]){background-color:var(--button-inactive-bgColor,var(--button-inactive-bgColor-rest,var(--color-btn-inactive-bg,#21262d)));border-color:var(--button-inactive-bgColor,var(--button-inactive-bgColor-rest,var(--color-btn-inactive-bg,#21262d)));color:var(--button-inactive-fgColor,var(--button-inactive-fgColor-rest,var(--color-btn-inactive-text,#8b949e)));}/*!sc*/
.IIGly[data-inactive]:not([disabled]):focus-visible{box-shadow:none;}/*!sc*/
.IIGly [data-component="leadingVisual"]{grid-area:leadingVisual;color:var(--fgColor-muted,var(--color-fg-muted,#848d97));}/*!sc*/
.IIGly [data-component="text"]{grid-area:text;line-height:calc(20/14);white-space:nowrap;}/*!sc*/
.IIGly [data-component="trailingVisual"]{grid-area:trailingVisual;}/*!sc*/
.IIGly [data-component="trailingAction"]{margin-right:-4px;color:var(--fgColor-muted,var(--color-fg-muted,#848d97));}/*!sc*/
.IIGly [data-component="buttonContent"]{-webkit-flex:1 0 auto;-ms-flex:1 0 auto;flex:1 0 auto;display:grid;grid-template-areas:"leadingVisual text trailingVisual";grid-template-columns:min-content minmax(0,auto) min-content;-webkit-align-items:center;-webkit-box-align:center;-ms-flex-align:center;align-items:center;-webkit-align-content:center;-ms-flex-line-pack:center;align-content:center;}/*!sc*/
.IIGly [data-component="buttonContent"] > :not(:last-child){margin-right:8px;}/*!sc*/
.IIGly:hover:not([disabled]){background-color:var(--control-transparent-bgColor-hover,var(--color-action-list-item-default-hover-bg,rgba(177,186,196,0.12)));}/*!sc*/
.IIGly:active:not([disabled]){background-color:var(--control-transparent-bgColor-active,var(--color-action-list-item-default-active-bg,rgba(177,186,196,0.2)));}/*!sc*/
.IIGly[aria-expanded=true]{background-color:var(--control-transparent-bgColor-selected,var(--color-action-list-item-default-selected-bg,rgba(177,186,196,0.08)));}/*!sc*/
.IIGly[data-component="IconButton"][data-no-visuals]{color:var(--fgColor-muted,var(--color-fg-muted,#848d97));}/*!sc*/
.IIGly[data-no-visuals]{color:var(--fgColor-accent,var(--color-accent-fg,#2f81f7));}/*!sc*/
.IIGly:has([data-component="ButtonCounter"]){color:var(--button-default-fgColor-rest,var(--color-btn-text,#c9d1d9));}/*!sc*/
.IIGly:disabled[data-no-visuals]{color:var(--fgColor-disabled,var(--color-primer-fg-disabled,#484f58));}/*!sc*/
.IIGly:disabled[data-no-visuals] [data-component=ButtonCounter]{color:inherit;}/*!sc*/
.IIGly[data-size="small"][data-no-visuals]{margin-left:8px;}/*!sc*/
.fXsbsD{border-radius:6px;border:1px solid;border-color:var(--button-default-borderColor-rest,var(--button-default-borderColor-rest,var(--color-btn-border,rgba(240,246,252,0.1))));font-family:inherit;font-weight:500;font-size:14px;cursor:pointer;-webkit-appearance:none;-moz-appearance:none;appearance:none;-webkit-user-select:none;-moz-user-select:none;-ms-user-select:none;user-select:none;-webkit-text-decoration:none;text-decoration:none;text-align:center;display:-webkit-box;display:-webkit-flex;display:-ms-flexbox;display:flex;-webkit-align-items:center;-webkit-box-align:center;-ms-flex-align:center;align-items:center;-webkit-box-pack:justify;-webkit-justify-content:space-between;-ms-flex-pack:justify;justify-content:space-between;height:32px;padding:0 12px;gap:8px;min-width:-webkit-max-content;min-width:-moz-max-content;min-width:max-content;-webkit-transition:80ms cubic-bezier(0.65,0,0.35,1);transition:80ms cubic-bezier(0.65,0,0.35,1);-webkit-transition-property:color,fill,background-color,border-color;transition-property:color,fill,background-color,border-color;color:var(--button-default-fgColor-rest,var(--color-btn-text,#c9d1d9));background-color:var(--button-default-bgColor-rest,var(--color-btn-bg,#21262d));box-shadow:var(--button-default-shadow-resting,var(--color-btn-shadow,0 0 transparent)),var(--button-default-shadow-inset,var(--color-btn-inset-shadow,0 0 transparent));}/*!sc*/
.fXsbsD:focus:not(:disabled){box-shadow:none;outline:2px solid var(--fgColor-accent,var(--color-accent-fg,#2f81f7));outline-offset:-2px;}/*!sc*/
.fXsbsD:focus:not(:disabled):not(:focus-visible){outline:solid 1px transparent;}/*!sc*/
.fXsbsD:focus-visible:not(:disabled){box-shadow:none;outline:2px solid var(--fgColor-accent,var(--color-accent-fg,#2f81f7));outline-offset:-2px;}/*!sc*/
.fXsbsD[href]{display:-webkit-inline-box;display:-webkit-inline-flex;display:-ms-inline-flexbox;display:inline-flex;}/*!sc*/
.fXsbsD[href]:hover{-webkit-text-decoration:none;text-decoration:none;}/*!sc*/
.fXsbsD:hover{-webkit-transition-duration:80ms;transition-duration:80ms;}/*!sc*/
.fXsbsD:active{-webkit-transition:none;transition:none;}/*!sc*/
.fXsbsD[data-inactive]{cursor:auto;}/*!sc*/
.fXsbsD:disabled{cursor:not-allowed;box-shadow:none;color:var(--fgColor-disabled,var(--color-primer-fg-disabled,#484f58));border-color:var(--button-default-borderColor-disabled,var(--button-default-borderColor-rest,var(--color-btn-border,rgba(240,246,252,0.1))));background-color:var(--button-default-bgColor-disabled,var(--control-bgColor-disabled,var(--color-input-disabled-bg,rgba(110,118,129,0))));}/*!sc*/
.fXsbsD:disabled [data-component=ButtonCounter]{color:inherit;}/*!sc*/
@media (forced-colors:active){.fXsbsD:focus{outline:solid 1px transparent;}}/*!sc*/
.fXsbsD [data-component=ButtonCounter]{font-size:12px;background-color:var(--buttonCounter-default-bgColor-rest,var(--color-btn-counter-bg,#30363d));}/*!sc*/
.fXsbsD[data-component=IconButton]{display:inline-grid;padding:unset;place-content:center;width:32px;min-width:unset;}/*!sc*/
.fXsbsD[data-size="small"]{padding:0 8px;height:28px;gap:4px;font-size:12px;}/*!sc*/
.fXsbsD[data-size="small"] [data-component="text"]{line-height:calc(20 / 12);}/*!sc*/
.fXsbsD[data-size="small"] [data-component=ButtonCounter]{font-size:12px;}/*!sc*/
.fXsbsD[data-size="small"] [data-component="buttonContent"] > :not(:last-child){margin-right:4px;}/*!sc*/
.fXsbsD[data-size="small"][data-component=IconButton]{width:28px;padding:unset;}/*!sc*/
.fXsbsD[data-size="large"]{padding:0 16px;height:40px;gap:8px;}/*!sc*/
.fXsbsD[data-size="large"] [data-component="buttonContent"] > :not(:last-child){margin-right:8px;}/*!sc*/
.fXsbsD[data-size="large"][data-component=IconButton]{width:40px;padding:unset;}/*!sc*/
.fXsbsD[data-block="block"]{width:100%;}/*!sc*/
.fXsbsD[data-inactive]:not([disabled]){background-color:var(--button-inactive-bgColor,var(--button-inactive-bgColor-rest,var(--color-btn-inactive-bg,#21262d)));border-color:var(--button-inactive-bgColor,var(--button-inactive-bgColor-rest,var(--color-btn-inactive-bg,#21262d)));color:var(--button-inactive-fgColor,var(--button-inactive-fgColor-rest,var(--color-btn-inactive-text,#8b949e)));}/*!sc*/
.fXsbsD[data-inactive]:not([disabled]):focus-visible{box-shadow:none;}/*!sc*/
.fXsbsD [data-component="leadingVisual"]{grid-area:leadingVisual;}/*!sc*/
.fXsbsD [data-component="text"]{grid-area:text;line-height:calc(20/14);white-space:nowrap;}/*!sc*/
.fXsbsD [data-component="trailingVisual"]{grid-area:trailingVisual;}/*!sc*/
.fXsbsD [data-component="trailingAction"]{margin-right:-4px;}/*!sc*/
.fXsbsD [data-component="buttonContent"]{-webkit-flex:1 0 auto;-ms-flex:1 0 auto;flex:1 0 auto;display:grid;grid-template-areas:"leadingVisual text trailingVisual";grid-template-columns:min-content minmax(0,auto) min-content;-webkit-align-items:center;-webkit-box-align:center;-ms-flex-align:center;align-items:center;-webkit-align-content:center;-ms-flex-line-pack:center;align-content:center;}/*!sc*/
.fXsbsD [data-component="buttonContent"] > :not(:last-child){margin-right:8px;}/*!sc*/
.fXsbsD:hover:not([disabled]):not([data-inactive]){background-color:var(--button-default-bgColor-hover,var(--color-btn-hover-bg,#30363d));border-color:var(--button-default-borderColor-hover,var(--button-default-borderColor-hover,var(--color-btn-hover-border,#8b949e)));}/*!sc*/
.fXsbsD:active:not([disabled]):not([data-inactive]){background-color:var(--button-default-bgColor-active,var(--color-btn-active-bg,hsla(212,12%,18%,1)));border-color:var(--button-default-borderColor-active,var(--button-default-borderColor-active,var(--color-btn-active-border,#6e7681)));}/*!sc*/
.fXsbsD[aria-expanded=true]{background-color:var(--button-default-bgColor-active,var(--color-btn-active-bg,hsla(212,12%,18%,1)));border-color:var(--button-default-borderColor-active,var(--button-default-borderColor-active,var(--color-btn-active-border,#6e7681)));}/*!sc*/
.fXsbsD [data-component="leadingVisual"],.fXsbsD [data-component="trailingVisual"],.fXsbsD [data-component="trailingAction"]{color:var(--button-color,var(--fgColor-muted,var(--color-fg-muted,#848d97)));}/*!sc*/
.fXsbsD[data-component="IconButton"][data-no-visuals]{color:var(--fgColor-muted,var(--color-fg-muted,#848d97));}/*!sc*/
.fXsbsD[data-no-visuals]{border-top-left-radius:0;border-bottom-left-radius:0;display:none;}/*!sc*/
.hiXxwe{border-radius:6px;border:1px solid;border-color:var(--button-default-borderColor-rest,var(--button-default-borderColor-rest,var(--color-btn-border,rgba(240,246,252,0.1))));font-family:inherit;font-weight:500;font-size:14px;cursor:pointer;-webkit-appearance:none;-moz-appearance:none;appearance:none;-webkit-user-select:none;-moz-user-select:none;-ms-user-select:none;user-select:none;-webkit-text-decoration:none;text-decoration:none;text-align:center;display:-webkit-box;display:-webkit-flex;display:-ms-flexbox;display:flex;-webkit-align-items:center;-webkit-box-align:center;-ms-flex-align:center;align-items:center;-webkit-box-pack:justify;-webkit-justify-content:space-between;-ms-flex-pack:justify;justify-content:space-between;height:32px;padding:0 12px;gap:8px;min-width:-webkit-max-content;min-width:-moz-max-content;min-width:max-content;-webkit-transition:80ms cubic-bezier(0.65,0,0.35,1);transition:80ms cubic-bezier(0.65,0,0.35,1);-webkit-transition-property:color,fill,background-color,border-color;transition-property:color,fill,background-color,border-color;color:var(--button-default-fgColor-rest,var(--color-btn-text,#c9d1d9));background-color:var(--button-default-bgColor-rest,var(--color-btn-bg,#21262d));box-shadow:var(--button-default-shadow-resting,var(--color-btn-shadow,0 0 transparent)),var(--button-default-shadow-inset,var(--color-btn-inset-shadow,0 0 transparent));}/*!sc*/
.hiXxwe:focus:not(:disabled){box-shadow:none;outline:2px solid var(--fgColor-accent,var(--color-accent-fg,#2f81f7));outline-offset:-2px;}/*!sc*/
.hiXxwe:focus:not(:disabled):not(:focus-visible){outline:solid 1px transparent;}/*!sc*/
.hiXxwe:focus-visible:not(:disabled){box-shadow:none;outline:2px solid var(--fgColor-accent,var(--color-accent-fg,#2f81f7));outline-offset:-2px;}/*!sc*/
.hiXxwe[href]{display:-webkit-inline-box;display:-webkit-inline-flex;display:-ms-inline-flexbox;display:inline-flex;}/*!sc*/
.hiXxwe[href]:hover{-webkit-text-decoration:none;text-decoration:none;}/*!sc*/
.hiXxwe:hover{-webkit-transition-duration:80ms;transition-duration:80ms;}/*!sc*/
.hiXxwe:active{-webkit-transition:none;transition:none;}/*!sc*/
.hiXxwe[data-inactive]{cursor:auto;}/*!sc*/
.hiXxwe:disabled{cursor:not-allowed;box-shadow:none;color:var(--fgColor-disabled,var(--color-primer-fg-disabled,#484f58));border-color:var(--button-default-borderColor-disabled,var(--button-default-borderColor-rest,var(--color-btn-border,rgba(240,246,252,0.1))));background-color:var(--button-default-bgColor-disabled,var(--control-bgColor-disabled,var(--color-input-disabled-bg,rgba(110,118,129,0))));}/*!sc*/
.hiXxwe:disabled [data-component=ButtonCounter]{color:inherit;}/*!sc*/
@media (forced-colors:active){.hiXxwe:focus{outline:solid 1px transparent;}}/*!sc*/
.hiXxwe [data-component=ButtonCounter]{font-size:12px;background-color:var(--buttonCounter-default-bgColor-rest,var(--color-btn-counter-bg,#30363d));}/*!sc*/
.hiXxwe[data-component=IconButton]{display:inline-grid;padding:unset;place-content:center;width:32px;min-width:unset;}/*!sc*/
.hiXxwe[data-size="small"]{padding:0 8px;height:28px;gap:4px;font-size:12px;}/*!sc*/
.hiXxwe[data-size="small"] [data-component="text"]{line-height:calc(20 / 12);}/*!sc*/
.hiXxwe[data-size="small"] [data-component=ButtonCounter]{font-size:12px;}/*!sc*/
.hiXxwe[data-size="small"] [data-component="buttonContent"] > :not(:last-child){margin-right:4px;}/*!sc*/
.hiXxwe[data-size="small"][data-component=IconButton]{width:28px;padding:unset;}/*!sc*/
.hiXxwe[data-size="large"]{padding:0 16px;height:40px;gap:8px;}/*!sc*/
.hiXxwe[data-size="large"] [data-component="buttonContent"] > :not(:last-child){margin-right:8px;}/*!sc*/
.hiXxwe[data-size="large"][data-component=IconButton]{width:40px;padding:unset;}/*!sc*/
.hiXxwe[data-block="block"]{width:100%;}/*!sc*/
.hiXxwe[data-inactive]:not([disabled]){background-color:var(--button-inactive-bgColor,var(--button-inactive-bgColor-rest,var(--color-btn-inactive-bg,#21262d)));border-color:var(--button-inactive-bgColor,var(--button-inactive-bgColor-rest,var(--color-btn-inactive-bg,#21262d)));color:var(--button-inactive-fgColor,var(--button-inactive-fgColor-rest,var(--color-btn-inactive-text,#8b949e)));}/*!sc*/
.hiXxwe[data-inactive]:not([disabled]):focus-visible{box-shadow:none;}/*!sc*/
.hiXxwe [data-component="leadingVisual"]{grid-area:leadingVisual;}/*!sc*/
.hiXxwe [data-component="text"]{grid-area:text;line-height:calc(20/14);white-space:nowrap;}/*!sc*/
.hiXxwe [data-component="trailingVisual"]{grid-area:trailingVisual;}/*!sc*/
.hiXxwe [data-component="trailingAction"]{margin-right:-4px;}/*!sc*/
.hiXxwe [data-component="buttonContent"]{-webkit-flex:1 0 auto;-ms-flex:1 0 auto;flex:1 0 auto;display:grid;grid-template-areas:"leadingVisual text trailingVisual";grid-template-columns:min-content minmax(0,auto) min-content;-webkit-align-items:center;-webkit-box-align:center;-ms-flex-align:center;align-items:center;-webkit-align-content:center;-ms-flex-line-pack:center;align-content:center;}/*!sc*/
.hiXxwe [data-component="buttonContent"] > :not(:last-child){margin-right:8px;}/*!sc*/
.hiXxwe:hover:not([disabled]):not([data-inactive]){background-color:var(--button-default-bgColor-hover,var(--color-btn-hover-bg,#30363d));border-color:var(--button-default-borderColor-hover,var(--button-default-borderColor-hover,var(--color-btn-hover-border,#8b949e)));}/*!sc*/
.hiXxwe:active:not([disabled]):not([data-inactive]){background-color:var(--button-default-bgColor-active,var(--color-btn-active-bg,hsla(212,12%,18%,1)));border-color:var(--button-default-borderColor-active,var(--button-default-borderColor-active,var(--color-btn-active-border,#6e7681)));}/*!sc*/
.hiXxwe[aria-expanded=true]{background-color:var(--button-default-bgColor-active,var(--color-btn-active-bg,hsla(212,12%,18%,1)));border-color:var(--button-default-borderColor-active,var(--button-default-borderColor-active,var(--color-btn-active-border,#6e7681)));}/*!sc*/
.hiXxwe [data-component="leadingVisual"],.hiXxwe [data-component="trailingVisual"],.hiXxwe [data-component="trailingAction"]{color:var(--button-color,var(--fgColor-muted,var(--color-fg-muted,#848d97)));}/*!sc*/
.hiXxwe[data-component="IconButton"][data-no-visuals]{color:var(--fgColor-muted,var(--color-fg-muted,#848d97));}/*!sc*/
.hiXxwe[data-no-visuals]{color:var(--fgColor-muted,var(--color-fg-muted,#848d97));}/*!sc*/
.saA-Dg{border-radius:6px;border:1px solid;border-color:transparent;font-family:inherit;font-weight:500;font-size:14px;cursor:pointer;-webkit-appearance:none;-moz-appearance:none;appearance:none;-webkit-user-select:none;-moz-user-select:none;-ms-user-select:none;user-select:none;-webkit-text-decoration:none;text-decoration:none;text-align:center;display:-webkit-box;display:-webkit-flex;display:-ms-flexbox;display:flex;-webkit-align-items:center;-webkit-box-align:center;-ms-flex-align:center;align-items:center;-webkit-box-pack:justify;-webkit-justify-content:space-between;-ms-flex-pack:justify;justify-content:space-between;height:32px;padding:0 12px;gap:8px;min-width:-webkit-max-content;min-width:-moz-max-content;min-width:max-content;-webkit-transition:80ms cubic-bezier(0.65,0,0.35,1);transition:80ms cubic-bezier(0.65,0,0.35,1);-webkit-transition-property:color,fill,background-color,border-color;transition-property:color,fill,background-color,border-color;color:var(--fgColor-default,var(--color-fg-default,#e6edf3));background-color:transparent;box-shadow:none;}/*!sc*/
.saA-Dg:focus:not(:disabled){box-shadow:none;outline:2px solid var(--fgColor-accent,var(--color-accent-fg,#2f81f7));outline-offset:-2px;}/*!sc*/
.saA-Dg:focus:not(:disabled):not(:focus-visible){outline:solid 1px transparent;}/*!sc*/
.saA-Dg:focus-visible:not(:disabled){box-shadow:none;outline:2px solid var(--fgColor-accent,var(--color-accent-fg,#2f81f7));outline-offset:-2px;}/*!sc*/
.saA-Dg[href]{display:-webkit-inline-box;display:-webkit-inline-flex;display:-ms-inline-flexbox;display:inline-flex;}/*!sc*/
.saA-Dg[href]:hover{-webkit-text-decoration:none;text-decoration:none;}/*!sc*/
.saA-Dg:hover{-webkit-transition-duration:80ms;transition-duration:80ms;}/*!sc*/
.saA-Dg:active{-webkit-transition:none;transition:none;}/*!sc*/
.saA-Dg[data-inactive]{cursor:auto;}/*!sc*/
.saA-Dg:disabled{cursor:not-allowed;box-shadow:none;color:var(--fgColor-disabled,var(--color-primer-fg-disabled,#484f58));}/*!sc*/
.saA-Dg:disabled [data-component=ButtonCounter],.saA-Dg:disabled [data-component="leadingVisual"],.saA-Dg:disabled [data-component="trailingAction"]{color:inherit;}/*!sc*/
@media (forced-colors:active){.saA-Dg:focus{outline:solid 1px transparent;}}/*!sc*/
.saA-Dg [data-component=ButtonCounter]{font-size:12px;}/*!sc*/
.saA-Dg[data-component=IconButton]{display:inline-grid;padding:unset;place-content:center;width:32px;min-width:unset;}/*!sc*/
.saA-Dg[data-size="small"]{padding:0 8px;height:28px;gap:4px;font-size:12px;}/*!sc*/
.saA-Dg[data-size="small"] [data-component="text"]{line-height:calc(20 / 12);}/*!sc*/
.saA-Dg[data-size="small"] [data-component=ButtonCounter]{font-size:12px;}/*!sc*/
.saA-Dg[data-size="small"] [data-component="buttonContent"] > :not(:last-child){margin-right:4px;}/*!sc*/
.saA-Dg[data-size="small"][data-component=IconButton]{width:28px;padding:unset;}/*!sc*/
.saA-Dg[data-size="large"]{padding:0 16px;height:40px;gap:8px;}/*!sc*/
.saA-Dg[data-size="large"] [data-component="buttonContent"] > :not(:last-child){margin-right:8px;}/*!sc*/
.saA-Dg[data-size="large"][data-component=IconButton]{width:40px;padding:unset;}/*!sc*/
.saA-Dg[data-block="block"]{width:100%;}/*!sc*/
.saA-Dg[data-inactive]:not([disabled]){background-color:var(--button-inactive-bgColor,var(--button-inactive-bgColor-rest,var(--color-btn-inactive-bg,#21262d)));border-color:var(--button-inactive-bgColor,var(--button-inactive-bgColor-rest,var(--color-btn-inactive-bg,#21262d)));color:var(--button-inactive-fgColor,var(--button-inactive-fgColor-rest,var(--color-btn-inactive-text,#8b949e)));}/*!sc*/
.saA-Dg[data-inactive]:not([disabled]):focus-visible{box-shadow:none;}/*!sc*/
.saA-Dg [data-component="leadingVisual"]{grid-area:leadingVisual;color:var(--fgColor-muted,var(--color-fg-muted,#848d97));}/*!sc*/
.saA-Dg [data-component="text"]{grid-area:text;line-height:calc(20/14);white-space:nowrap;}/*!sc*/
.saA-Dg [data-component="trailingVisual"]{grid-area:trailingVisual;}/*!sc*/
.saA-Dg [data-component="trailingAction"]{margin-right:-4px;color:var(--fgColor-muted,var(--color-fg-muted,#848d97));}/*!sc*/
.saA-Dg [data-component="buttonContent"]{-webkit-flex:1 0 auto;-ms-flex:1 0 auto;flex:1 0 auto;display:grid;grid-template-areas:"leadingVisual text trailingVisual";grid-template-columns:min-content minmax(0,auto) min-content;-webkit-align-items:center;-webkit-box-align:center;-ms-flex-align:center;align-items:center;-webkit-align-content:center;-ms-flex-line-pack:center;align-content:center;}/*!sc*/
.saA-Dg [data-component="buttonContent"] > :not(:last-child){margin-right:8px;}/*!sc*/
.saA-Dg:hover:not([disabled]){background-color:var(--control-transparent-bgColor-hover,var(--color-action-list-item-default-hover-bg,rgba(177,186,196,0.12)));-webkit-text-decoration:none;text-decoration:none;}/*!sc*/
.saA-Dg:active:not([disabled]){background-color:var(--control-transparent-bgColor-active,var(--color-action-list-item-default-active-bg,rgba(177,186,196,0.2)));-webkit-text-decoration:none;text-decoration:none;}/*!sc*/
.saA-Dg[aria-expanded=true]{background-color:var(--control-transparent-bgColor-selected,var(--color-action-list-item-default-selected-bg,rgba(177,186,196,0.08)));}/*!sc*/
.saA-Dg[data-component="IconButton"][data-no-visuals]{color:var(--fgColor-muted,var(--color-fg-muted,#848d97));}/*!sc*/
.saA-Dg[data-no-visuals]{color:var(--fgColor-accent,var(--color-accent-fg,#2f81f7));}/*!sc*/
.saA-Dg:has([data-component="ButtonCounter"]){color:var(--button-default-fgColor-rest,var(--color-btn-text,#c9d1d9));}/*!sc*/
.saA-Dg:disabled[data-no-visuals]{color:var(--fgColor-disabled,var(--color-primer-fg-disabled,#484f58));}/*!sc*/
.saA-Dg:disabled[data-no-visuals] [data-component=ButtonCounter]{color:inherit;}/*!sc*/
.saA-Dg:focus:not([disabled]){-webkit-text-decoration:none;text-decoration:none;}/*!sc*/
.hhunph{border-radius:6px;border:1px solid;border-color:transparent;font-family:inherit;font-weight:500;font-size:14px;cursor:pointer;-webkit-appearance:none;-moz-appearance:none;appearance:none;-webkit-user-select:none;-moz-user-select:none;-ms-user-select:none;user-select:none;-webkit-text-decoration:none;text-decoration:none;text-align:center;display:-webkit-box;display:-webkit-flex;display:-ms-flexbox;display:flex;-webkit-align-items:center;-webkit-box-align:center;-ms-flex-align:center;align-items:center;-webkit-box-pack:justify;-webkit-justify-content:space-between;-ms-flex-pack:justify;justify-content:space-between;height:32px;padding:0 12px;gap:8px;min-width:-webkit-max-content;min-width:-moz-max-content;min-width:max-content;-webkit-transition:80ms cubic-bezier(0.65,0,0.35,1);transition:80ms cubic-bezier(0.65,0,0.35,1);-webkit-transition-property:color,fill,background-color,border-color;transition-property:color,fill,background-color,border-color;color:var(--button-default-fgColor-rest,var(--color-btn-text,#c9d1d9));background-color:transparent;box-shadow:none;}/*!sc*/
.hhunph:focus:not(:disabled){box-shadow:none;outline:2px solid var(--fgColor-accent,var(--color-accent-fg,#2f81f7));outline-offset:-2px;}/*!sc*/
.hhunph:focus:not(:disabled):not(:focus-visible){outline:solid 1px transparent;}/*!sc*/
.hhunph:focus-visible:not(:disabled){box-shadow:none;outline:2px solid var(--fgColor-accent,var(--color-accent-fg,#2f81f7));outline-offset:-2px;}/*!sc*/
.hhunph[href]{display:-webkit-inline-box;display:-webkit-inline-flex;display:-ms-inline-flexbox;display:inline-flex;}/*!sc*/
.hhunph[href]:hover{-webkit-text-decoration:none;text-decoration:none;}/*!sc*/
.hhunph:hover{-webkit-transition-duration:80ms;transition-duration:80ms;}/*!sc*/
.hhunph:active{-webkit-transition:none;transition:none;}/*!sc*/
.hhunph[data-inactive]{cursor:auto;}/*!sc*/
.hhunph:disabled{cursor:not-allowed;box-shadow:none;color:var(--fgColor-disabled,var(--color-primer-fg-disabled,#484f58));}/*!sc*/
.hhunph:disabled [data-component=ButtonCounter],.hhunph:disabled [data-component="leadingVisual"],.hhunph:disabled [data-component="trailingAction"]{color:inherit;}/*!sc*/
@media (forced-colors:active){.hhunph:focus{outline:solid 1px transparent;}}/*!sc*/
.hhunph [data-component=ButtonCounter]{font-size:12px;}/*!sc*/
.hhunph[data-component=IconButton]{display:inline-grid;padding:unset;place-content:center;width:32px;min-width:unset;}/*!sc*/
.hhunph[data-size="small"]{padding:0 8px;height:28px;gap:4px;font-size:12px;color:var(--fgColor-default,var(--color-fg-default,#e6edf3));display:none;}/*!sc*/
.hhunph[data-size="small"] [data-component="text"]{line-height:calc(20 / 12);}/*!sc*/
.hhunph[data-size="small"] [data-component=ButtonCounter]{font-size:12px;}/*!sc*/
.hhunph[data-size="small"] [data-component="buttonContent"] > :not(:last-child){margin-right:4px;}/*!sc*/
.hhunph[data-size="small"][data-component=IconButton]{width:28px;padding:unset;}/*!sc*/
@media screen and (min-width:544px){.hhunph[data-size="small"]{display:none;}}/*!sc*/
@media screen and (min-width:768px){.hhunph[data-size="small"]{display:none;}}/*!sc*/
@media screen and (min-width:1012px){.hhunph[data-size="small"]{display:none;}}/*!sc*/
@media screen and (min-width:1280px){.hhunph[data-size="small"]{display:block;}}/*!sc*/
.hhunph[data-size="large"]{padding:0 16px;height:40px;gap:8px;}/*!sc*/
.hhunph[data-size="large"] [data-component="buttonContent"] > :not(:last-child){margin-right:8px;}/*!sc*/
.hhunph[data-size="large"][data-component=IconButton]{width:40px;padding:unset;}/*!sc*/
.hhunph[data-block="block"]{width:100%;}/*!sc*/
.hhunph[data-inactive]:not([disabled]){background-color:var(--button-inactive-bgColor,var(--button-inactive-bgColor-rest,var(--color-btn-inactive-bg,#21262d)));border-color:var(--button-inactive-bgColor,var(--button-inactive-bgColor-rest,var(--color-btn-inactive-bg,#21262d)));color:var(--button-inactive-fgColor,var(--button-inactive-fgColor-rest,var(--color-btn-inactive-text,#8b949e)));}/*!sc*/
.hhunph[data-inactive]:not([disabled]):focus-visible{box-shadow:none;}/*!sc*/
.hhunph [data-component="leadingVisual"]{grid-area:leadingVisual;color:var(--fgColor-muted,var(--color-fg-muted,#848d97));}/*!sc*/
.hhunph [data-component="text"]{grid-area:text;line-height:calc(20/14);white-space:nowrap;}/*!sc*/
.hhunph [data-component="trailingVisual"]{grid-area:trailingVisual;}/*!sc*/
.hhunph [data-component="trailingAction"]{margin-right:-4px;color:var(--fgColor-muted,var(--color-fg-muted,#848d97));}/*!sc*/
.hhunph [data-component="buttonContent"]{-webkit-flex:1 0 auto;-ms-flex:1 0 auto;flex:1 0 auto;display:grid;grid-template-areas:"leadingVisual text trailingVisual";grid-template-columns:min-content minmax(0,auto) min-content;-webkit-align-items:center;-webkit-box-align:center;-ms-flex-align:center;align-items:center;-webkit-align-content:center;-ms-flex-line-pack:center;align-content:center;}/*!sc*/
.hhunph [data-component="buttonContent"] > :not(:last-child){margin-right:8px;}/*!sc*/
.hhunph:hover:not([disabled]){background-color:var(--control-transparent-bgColor-hover,var(--color-action-list-item-default-hover-bg,rgba(177,186,196,0.12)));}/*!sc*/
.hhunph:active:not([disabled]){background-color:var(--control-transparent-bgColor-active,var(--color-action-list-item-default-active-bg,rgba(177,186,196,0.2)));}/*!sc*/
.hhunph[aria-expanded=true]{background-color:var(--control-transparent-bgColor-selected,var(--color-action-list-item-default-selected-bg,rgba(177,186,196,0.08)));}/*!sc*/
.hhunph[data-component="IconButton"][data-no-visuals]{color:var(--fgColor-muted,var(--color-fg-muted,#848d97));}/*!sc*/
.hhunph[data-no-visuals]{color:var(--fgColor-accent,var(--color-accent-fg,#2f81f7));}/*!sc*/
.hhunph:has([data-component="ButtonCounter"]){color:var(--button-default-fgColor-rest,var(--color-btn-text,#c9d1d9));}/*!sc*/
.hhunph:disabled[data-no-visuals]{color:var(--fgColor-disabled,var(--color-primer-fg-disabled,#484f58));}/*!sc*/
.hhunph:disabled[data-no-visuals] [data-component=ButtonCounter]{color:inherit;}/*!sc*/
.ecGgfP{border-radius:6px;border:1px solid;border-color:transparent;font-family:inherit;font-weight:500;font-size:14px;cursor:pointer;-webkit-appearance:none;-moz-appearance:none;appearance:none;-webkit-user-select:none;-moz-user-select:none;-ms-user-select:none;user-select:none;-webkit-text-decoration:none;text-decoration:none;text-align:center;display:-webkit-box;display:-webkit-flex;display:-ms-flexbox;display:flex;-webkit-align-items:center;-webkit-box-align:center;-ms-flex-align:center;align-items:center;-webkit-box-pack:justify;-webkit-justify-content:space-between;-ms-flex-pack:justify;justify-content:space-between;height:32px;padding:0 12px;gap:8px;min-width:-webkit-max-content;min-width:-moz-max-content;min-width:max-content;-webkit-transition:80ms cubic-bezier(0.65,0,0.35,1);transition:80ms cubic-bezier(0.65,0,0.35,1);-webkit-transition-property:color,fill,background-color,border-color;transition-property:color,fill,background-color,border-color;color:var(--button-default-fgColor-rest,var(--color-btn-text,#c9d1d9));background-color:transparent;box-shadow:none;}/*!sc*/
.ecGgfP:focus:not(:disabled){box-shadow:none;outline:2px solid var(--fgColor-accent,var(--color-accent-fg,#2f81f7));outline-offset:-2px;}/*!sc*/
.ecGgfP:focus:not(:disabled):not(:focus-visible){outline:solid 1px transparent;}/*!sc*/
.ecGgfP:focus-visible:not(:disabled){box-shadow:none;outline:2px solid var(--fgColor-accent,var(--color-accent-fg,#2f81f7));outline-offset:-2px;}/*!sc*/
.ecGgfP[href]{display:-webkit-inline-box;display:-webkit-inline-flex;display:-ms-inline-flexbox;display:inline-flex;}/*!sc*/
.ecGgfP[href]:hover{-webkit-text-decoration:none;text-decoration:none;}/*!sc*/
.ecGgfP:hover{-webkit-transition-duration:80ms;transition-duration:80ms;}/*!sc*/
.ecGgfP:active{-webkit-transition:none;transition:none;}/*!sc*/
.ecGgfP[data-inactive]{cursor:auto;}/*!sc*/
.ecGgfP:disabled{cursor:not-allowed;box-shadow:none;color:var(--fgColor-disabled,var(--color-primer-fg-disabled,#484f58));}/*!sc*/
.ecGgfP:disabled [data-component=ButtonCounter],.ecGgfP:disabled [data-component="leadingVisual"],.ecGgfP:disabled [data-component="trailingAction"]{color:inherit;}/*!sc*/
@media (forced-colors:active){.ecGgfP:focus{outline:solid 1px transparent;}}/*!sc*/
.ecGgfP [data-component=ButtonCounter]{font-size:12px;}/*!sc*/
.ecGgfP[data-component=IconButton]{display:inline-grid;padding:unset;place-content:center;width:32px;min-width:unset;}/*!sc*/
.ecGgfP[data-size="small"]{padding:0 8px;height:28px;gap:4px;font-size:12px;color:var(--fgColor-default,var(--color-fg-default,#e6edf3));margin-left:8px;}/*!sc*/
.ecGgfP[data-size="small"] [data-component="text"]{line-height:calc(20 / 12);}/*!sc*/
.ecGgfP[data-size="small"] [data-component=ButtonCounter]{font-size:12px;}/*!sc*/
.ecGgfP[data-size="small"] [data-component="buttonContent"] > :not(:last-child){margin-right:4px;}/*!sc*/
.ecGgfP[data-size="small"][data-component=IconButton]{width:28px;padding:unset;}/*!sc*/
.ecGgfP[data-size="large"]{padding:0 16px;height:40px;gap:8px;}/*!sc*/
.ecGgfP[data-size="large"] [data-component="buttonContent"] > :not(:last-child){margin-right:8px;}/*!sc*/
.ecGgfP[data-size="large"][data-component=IconButton]{width:40px;padding:unset;}/*!sc*/
.ecGgfP[data-block="block"]{width:100%;}/*!sc*/
.ecGgfP[data-inactive]:not([disabled]){background-color:var(--button-inactive-bgColor,var(--button-inactive-bgColor-rest,var(--color-btn-inactive-bg,#21262d)));border-color:var(--button-inactive-bgColor,var(--button-inactive-bgColor-rest,var(--color-btn-inactive-bg,#21262d)));color:var(--button-inactive-fgColor,var(--button-inactive-fgColor-rest,var(--color-btn-inactive-text,#8b949e)));}/*!sc*/
.ecGgfP[data-inactive]:not([disabled]):focus-visible{box-shadow:none;}/*!sc*/
.ecGgfP [data-component="leadingVisual"]{grid-area:leadingVisual;color:var(--fgColor-muted,var(--color-fg-muted,#848d97));}/*!sc*/
.ecGgfP [data-component="text"]{grid-area:text;line-height:calc(20/14);white-space:nowrap;}/*!sc*/
.ecGgfP [data-component="trailingVisual"]{grid-area:trailingVisual;}/*!sc*/
.ecGgfP [data-component="trailingAction"]{margin-right:-4px;color:var(--fgColor-muted,var(--color-fg-muted,#848d97));}/*!sc*/
.ecGgfP [data-component="buttonContent"]{-webkit-flex:1 0 auto;-ms-flex:1 0 auto;flex:1 0 auto;display:grid;grid-template-areas:"leadingVisual text trailingVisual";grid-template-columns:min-content minmax(0,auto) min-content;-webkit-align-items:center;-webkit-box-align:center;-ms-flex-align:center;align-items:center;-webkit-align-content:center;-ms-flex-line-pack:center;align-content:center;}/*!sc*/
.ecGgfP [data-component="buttonContent"] > :not(:last-child){margin-right:8px;}/*!sc*/
.ecGgfP:hover:not([disabled]){background-color:var(--control-transparent-bgColor-hover,var(--color-action-list-item-default-hover-bg,rgba(177,186,196,0.12)));}/*!sc*/
.ecGgfP:active:not([disabled]){background-color:var(--control-transparent-bgColor-active,var(--color-action-list-item-default-active-bg,rgba(177,186,196,0.2)));}/*!sc*/
.ecGgfP[aria-expanded=true]{background-color:var(--control-transparent-bgColor-selected,var(--color-action-list-item-default-selected-bg,rgba(177,186,196,0.08)));}/*!sc*/
.ecGgfP[data-component="IconButton"][data-no-visuals]{color:var(--fgColor-muted,var(--color-fg-muted,#848d97));}/*!sc*/
.ecGgfP[data-no-visuals]{color:var(--fgColor-accent,var(--color-accent-fg,#2f81f7));}/*!sc*/
.ecGgfP:has([data-component="ButtonCounter"]){color:var(--button-default-fgColor-rest,var(--color-btn-text,#c9d1d9));}/*!sc*/
.ecGgfP:disabled[data-no-visuals]{color:var(--fgColor-disabled,var(--color-primer-fg-disabled,#484f58));}/*!sc*/
.ecGgfP:disabled[data-no-visuals] [data-component=ButtonCounter]{color:inherit;}/*!sc*/
.dupbIv{border-radius:6px;border:1px solid;border-color:var(--button-default-borderColor-rest,var(--button-default-borderColor-rest,var(--color-btn-border,rgba(240,246,252,0.1))));font-family:inherit;font-weight:500;font-size:14px;cursor:pointer;-webkit-appearance:none;-moz-appearance:none;appearance:none;-webkit-user-select:none;-moz-user-select:none;-ms-user-select:none;user-select:none;-webkit-text-decoration:none;text-decoration:none;text-align:center;display:-webkit-box;display:-webkit-flex;display:-ms-flexbox;display:flex;-webkit-align-items:center;-webkit-box-align:center;-ms-flex-align:center;align-items:center;-webkit-box-pack:justify;-webkit-justify-content:space-between;-ms-flex-pack:justify;justify-content:space-between;height:32px;padding:0 12px;gap:8px;min-width:-webkit-max-content;min-width:-moz-max-content;min-width:max-content;-webkit-transition:80ms cubic-bezier(0.65,0,0.35,1);transition:80ms cubic-bezier(0.65,0,0.35,1);-webkit-transition-property:color,fill,background-color,border-color;transition-property:color,fill,background-color,border-color;color:var(--button-default-fgColor-rest,var(--color-btn-text,#c9d1d9));background-color:var(--button-default-bgColor-rest,var(--color-btn-bg,#21262d));box-shadow:var(--button-default-shadow-resting,var(--color-btn-shadow,0 0 transparent)),var(--button-default-shadow-inset,var(--color-btn-inset-shadow,0 0 transparent));padding-left:8px;padding-right:8px;}/*!sc*/
.dupbIv:focus:not(:disabled){box-shadow:none;outline:2px solid var(--fgColor-accent,var(--color-accent-fg,#2f81f7));outline-offset:-2px;}/*!sc*/
.dupbIv:focus:not(:disabled):not(:focus-visible){outline:solid 1px transparent;}/*!sc*/
.dupbIv:focus-visible:not(:disabled){box-shadow:none;outline:2px solid var(--fgColor-accent,var(--color-accent-fg,#2f81f7));outline-offset:-2px;}/*!sc*/
.dupbIv[href]{display:-webkit-inline-box;display:-webkit-inline-flex;display:-ms-inline-flexbox;display:inline-flex;}/*!sc*/
.dupbIv[href]:hover{-webkit-text-decoration:none;text-decoration:none;}/*!sc*/
.dupbIv:hover{-webkit-transition-duration:80ms;transition-duration:80ms;}/*!sc*/
.dupbIv:active{-webkit-transition:none;transition:none;}/*!sc*/
.dupbIv[data-inactive]{cursor:auto;}/*!sc*/
.dupbIv:disabled{cursor:not-allowed;box-shadow:none;color:var(--fgColor-disabled,var(--color-primer-fg-disabled,#484f58));border-color:var(--button-default-borderColor-disabled,var(--button-default-borderColor-rest,var(--color-btn-border,rgba(240,246,252,0.1))));background-color:var(--button-default-bgColor-disabled,var(--control-bgColor-disabled,var(--color-input-disabled-bg,rgba(110,118,129,0))));}/*!sc*/
.dupbIv:disabled [data-component=ButtonCounter]{color:inherit;}/*!sc*/
@media (forced-colors:active){.dupbIv:focus{outline:solid 1px transparent;}}/*!sc*/
.dupbIv [data-component=ButtonCounter]{font-size:12px;background-color:var(--buttonCounter-default-bgColor-rest,var(--color-btn-counter-bg,#30363d));}/*!sc*/
.dupbIv[data-component=IconButton]{display:inline-grid;padding:unset;place-content:center;width:32px;min-width:unset;}/*!sc*/
.dupbIv[data-size="small"]{padding:0 8px;height:28px;gap:4px;font-size:12px;}/*!sc*/
.dupbIv[data-size="small"] [data-component="text"]{line-height:calc(20 / 12);}/*!sc*/
.dupbIv[data-size="small"] [data-component=ButtonCounter]{font-size:12px;}/*!sc*/
.dupbIv[data-size="small"] [data-component="buttonContent"] > :not(:last-child){margin-right:4px;}/*!sc*/
.dupbIv[data-size="small"][data-component=IconButton]{width:28px;padding:unset;}/*!sc*/
.dupbIv[data-size="large"]{padding:0 16px;height:40px;gap:8px;}/*!sc*/
.dupbIv[data-size="large"] [data-component="buttonContent"] > :not(:last-child){margin-right:8px;}/*!sc*/
.dupbIv[data-size="large"][data-component=IconButton]{width:40px;padding:unset;}/*!sc*/
.dupbIv[data-block="block"]{width:100%;}/*!sc*/
.dupbIv[data-inactive]:not([disabled]){background-color:var(--button-inactive-bgColor,var(--button-inactive-bgColor-rest,var(--color-btn-inactive-bg,#21262d)));border-color:var(--button-inactive-bgColor,var(--button-inactive-bgColor-rest,var(--color-btn-inactive-bg,#21262d)));color:var(--button-inactive-fgColor,var(--button-inactive-fgColor-rest,var(--color-btn-inactive-text,#8b949e)));}/*!sc*/
.dupbIv[data-inactive]:not([disabled]):focus-visible{box-shadow:none;}/*!sc*/
.dupbIv [data-component="leadingVisual"]{grid-area:leadingVisual;}/*!sc*/
.dupbIv [data-component="text"]{grid-area:text;line-height:calc(20/14);white-space:nowrap;}/*!sc*/
.dupbIv [data-component="trailingVisual"]{grid-area:trailingVisual;}/*!sc*/
.dupbIv [data-component="trailingAction"]{margin-right:-4px;}/*!sc*/
.dupbIv [data-component="buttonContent"]{-webkit-flex:1 0 auto;-ms-flex:1 0 auto;flex:1 0 auto;display:grid;grid-template-areas:"leadingVisual text trailingVisual";grid-template-columns:min-content minmax(0,auto) min-content;-webkit-align-items:center;-webkit-box-align:center;-ms-flex-align:center;align-items:center;-webkit-align-content:center;-ms-flex-line-pack:center;align-content:center;}/*!sc*/
.dupbIv [data-component="buttonContent"] > :not(:last-child){margin-right:8px;}/*!sc*/
.dupbIv:hover:not([disabled]):not([data-inactive]){background-color:var(--button-default-bgColor-hover,var(--color-btn-hover-bg,#30363d));border-color:var(--button-default-borderColor-hover,var(--button-default-borderColor-hover,var(--color-btn-hover-border,#8b949e)));}/*!sc*/
.dupbIv:active:not([disabled]):not([data-inactive]){background-color:var(--button-default-bgColor-active,var(--color-btn-active-bg,hsla(212,12%,18%,1)));border-color:var(--button-default-borderColor-active,var(--button-default-borderColor-active,var(--color-btn-active-border,#6e7681)));}/*!sc*/
.dupbIv[aria-expanded=true]{background-color:var(--button-default-bgColor-active,var(--color-btn-active-bg,hsla(212,12%,18%,1)));border-color:var(--button-default-borderColor-active,var(--button-default-borderColor-active,var(--color-btn-active-border,#6e7681)));}/*!sc*/
.dupbIv [data-component="leadingVisual"],.dupbIv [data-component="trailingVisual"],.dupbIv [data-component="trailingAction"]{color:var(--button-color,var(--fgColor-muted,var(--color-fg-muted,#848d97)));}/*!sc*/
.dupbIv[data-component="IconButton"][data-no-visuals]{color:var(--fgColor-muted,var(--color-fg-muted,#848d97));}/*!sc*/
.dupbIv linkButtonSx:hover:not([disabled]){-webkit-text-decoration:none;text-decoration:none;}/*!sc*/
.dupbIv linkButtonSx:focus:not([disabled]){-webkit-text-decoration:none;text-decoration:none;}/*!sc*/
.dupbIv linkButtonSx:active:not([disabled]){-webkit-text-decoration:none;text-decoration:none;}/*!sc*/
.dMUxwi{border-radius:6px;border:1px solid;border-color:var(--button-default-borderColor-rest,var(--button-default-borderColor-rest,var(--color-btn-border,rgba(240,246,252,0.1))));font-family:inherit;font-weight:500;font-size:14px;cursor:pointer;-webkit-appearance:none;-moz-appearance:none;appearance:none;-webkit-user-select:none;-moz-user-select:none;-ms-user-select:none;user-select:none;-webkit-text-decoration:none;text-decoration:none;text-align:center;display:-webkit-box;display:-webkit-flex;display:-ms-flexbox;display:flex;-webkit-align-items:center;-webkit-box-align:center;-ms-flex-align:center;align-items:center;-webkit-box-pack:justify;-webkit-justify-content:space-between;-ms-flex-pack:justify;justify-content:space-between;height:32px;padding:0 12px;gap:8px;min-width:-webkit-max-content;min-width:-moz-max-content;min-width:max-content;-webkit-transition:80ms cubic-bezier(0.65,0,0.35,1);transition:80ms cubic-bezier(0.65,0,0.35,1);-webkit-transition-property:color,fill,background-color,border-color;transition-property:color,fill,background-color,border-color;color:var(--button-default-fgColor-rest,var(--color-btn-text,#c9d1d9));background-color:var(--button-default-bgColor-rest,var(--color-btn-bg,#21262d));box-shadow:var(--button-default-shadow-resting,var(--color-btn-shadow,0 0 transparent)),var(--button-default-shadow-inset,var(--color-btn-inset-shadow,0 0 transparent));}/*!sc*/
.dMUxwi:focus:not(:disabled){box-shadow:none;outline:2px solid var(--fgColor-accent,var(--color-accent-fg,#2f81f7));outline-offset:-2px;}/*!sc*/
.dMUxwi:focus:not(:disabled):not(:focus-visible){outline:solid 1px transparent;}/*!sc*/
.dMUxwi:focus-visible:not(:disabled){box-shadow:none;outline:2px solid var(--fgColor-accent,var(--color-accent-fg,#2f81f7));outline-offset:-2px;}/*!sc*/
.dMUxwi[href]{display:-webkit-inline-box;display:-webkit-inline-flex;display:-ms-inline-flexbox;display:inline-flex;}/*!sc*/
.dMUxwi[href]:hover{-webkit-text-decoration:none;text-decoration:none;}/*!sc*/
.dMUxwi:hover{-webkit-transition-duration:80ms;transition-duration:80ms;}/*!sc*/
.dMUxwi:active{-webkit-transition:none;transition:none;}/*!sc*/
.dMUxwi[data-inactive]{cursor:auto;}/*!sc*/
.dMUxwi:disabled{cursor:not-allowed;box-shadow:none;color:var(--fgColor-disabled,var(--color-primer-fg-disabled,#484f58));border-color:var(--button-default-borderColor-disabled,var(--button-default-borderColor-rest,var(--color-btn-border,rgba(240,246,252,0.1))));background-color:var(--button-default-bgColor-disabled,var(--control-bgColor-disabled,var(--color-input-disabled-bg,rgba(110,118,129,0))));}/*!sc*/
.dMUxwi:disabled [data-component=ButtonCounter]{color:inherit;}/*!sc*/
@media (forced-colors:active){.dMUxwi:focus{outline:solid 1px transparent;}}/*!sc*/
.dMUxwi [data-component=ButtonCounter]{font-size:12px;background-color:var(--buttonCounter-default-bgColor-rest,var(--color-btn-counter-bg,#30363d));}/*!sc*/
.dMUxwi[data-component=IconButton]{display:inline-grid;padding:unset;place-content:center;width:32px;min-width:unset;}/*!sc*/
.dMUxwi[data-size="small"]{padding:0 8px;height:28px;gap:4px;font-size:12px;}/*!sc*/
.dMUxwi[data-size="small"] [data-component="text"]{line-height:calc(20 / 12);}/*!sc*/
.dMUxwi[data-size="small"] [data-component=ButtonCounter]{font-size:12px;}/*!sc*/
.dMUxwi[data-size="small"] [data-component="buttonContent"] > :not(:last-child){margin-right:4px;}/*!sc*/
.dMUxwi[data-size="small"][data-component=IconButton]{width:28px;padding:unset;}/*!sc*/
.dMUxwi[data-size="large"]{padding:0 16px;height:40px;gap:8px;}/*!sc*/
.dMUxwi[data-size="large"] [data-component="buttonContent"] > :not(:last-child){margin-right:8px;}/*!sc*/
.dMUxwi[data-size="large"][data-component=IconButton]{width:40px;padding:unset;}/*!sc*/
.dMUxwi[data-block="block"]{width:100%;}/*!sc*/
.dMUxwi[data-inactive]:not([disabled]){background-color:var(--button-inactive-bgColor,var(--button-inactive-bgColor-rest,var(--color-btn-inactive-bg,#21262d)));border-color:var(--button-inactive-bgColor,var(--button-inactive-bgColor-rest,var(--color-btn-inactive-bg,#21262d)));color:var(--button-inactive-fgColor,var(--button-inactive-fgColor-rest,var(--color-btn-inactive-text,#8b949e)));}/*!sc*/
.dMUxwi[data-inactive]:not([disabled]):focus-visible{box-shadow:none;}/*!sc*/
.dMUxwi [data-component="leadingVisual"]{grid-area:leadingVisual;}/*!sc*/
.dMUxwi [data-component="text"]{grid-area:text;line-height:calc(20/14);white-space:nowrap;}/*!sc*/
.dMUxwi [data-component="trailingVisual"]{grid-area:trailingVisual;}/*!sc*/
.dMUxwi [data-component="trailingAction"]{margin-right:-4px;}/*!sc*/
.dMUxwi [data-component="buttonContent"]{-webkit-flex:1 0 auto;-ms-flex:1 0 auto;flex:1 0 auto;display:grid;grid-template-areas:"leadingVisual text trailingVisual";grid-template-columns:min-content minmax(0,auto) min-content;-webkit-align-items:center;-webkit-box-align:center;-ms-flex-align:center;align-items:center;-webkit-align-content:center;-ms-flex-line-pack:center;align-content:center;}/*!sc*/
.dMUxwi [data-component="buttonContent"] > :not(:last-child){margin-right:8px;}/*!sc*/
.dMUxwi:hover:not([disabled]):not([data-inactive]){background-color:var(--button-default-bgColor-hover,var(--color-btn-hover-bg,#30363d));border-color:var(--button-default-borderColor-hover,var(--button-default-borderColor-hover,var(--color-btn-hover-border,#8b949e)));}/*!sc*/
.dMUxwi:active:not([disabled]):not([data-inactive]){background-color:var(--button-default-bgColor-active,var(--color-btn-active-bg,hsla(212,12%,18%,1)));border-color:var(--button-default-borderColor-active,var(--button-default-borderColor-active,var(--color-btn-active-border,#6e7681)));}/*!sc*/
.dMUxwi[aria-expanded=true]{background-color:var(--button-default-bgColor-active,var(--color-btn-active-bg,hsla(212,12%,18%,1)));border-color:var(--button-default-borderColor-active,var(--button-default-borderColor-active,var(--color-btn-active-border,#6e7681)));}/*!sc*/
.dMUxwi [data-component="leadingVisual"],.dMUxwi [data-component="trailingVisual"],.dMUxwi [data-component="trailingAction"]{color:var(--button-color,var(--fgColor-muted,var(--color-fg-muted,#848d97)));}/*!sc*/
.dMUxwi[data-component="IconButton"][data-no-visuals]{color:var(--fgColor-muted,var(--color-fg-muted,#848d97));}/*!sc*/
.fCIOmi{border-radius:6px;border:1px solid;border-color:var(--button-default-borderColor-rest,var(--button-default-borderColor-rest,var(--color-btn-border,rgba(240,246,252,0.1))));font-family:inherit;font-weight:500;font-size:14px;cursor:pointer;-webkit-appearance:none;-moz-appearance:none;appearance:none;-webkit-user-select:none;-moz-user-select:none;-ms-user-select:none;user-select:none;-webkit-text-decoration:none;text-decoration:none;text-align:center;display:-webkit-box;display:-webkit-flex;display:-ms-flexbox;display:flex;-webkit-align-items:center;-webkit-box-align:center;-ms-flex-align:center;align-items:center;-webkit-box-pack:justify;-webkit-justify-content:space-between;-ms-flex-pack:justify;justify-content:space-between;height:32px;padding:0 12px;gap:8px;min-width:-webkit-max-content;min-width:-moz-max-content;min-width:max-content;-webkit-transition:80ms cubic-bezier(0.65,0,0.35,1);transition:80ms cubic-bezier(0.65,0,0.35,1);-webkit-transition-property:color,fill,background-color,border-color;transition-property:color,fill,background-color,border-color;color:var(--button-default-fgColor-rest,var(--color-btn-text,#c9d1d9));background-color:var(--button-default-bgColor-rest,var(--color-btn-bg,#21262d));box-shadow:var(--button-default-shadow-resting,var(--color-btn-shadow,0 0 transparent)),var(--button-default-shadow-inset,var(--color-btn-inset-shadow,0 0 transparent));}/*!sc*/
.fCIOmi:focus:not(:disabled){box-shadow:none;outline:2px solid var(--fgColor-accent,var(--color-accent-fg,#2f81f7));outline-offset:-2px;}/*!sc*/
.fCIOmi:focus:not(:disabled):not(:focus-visible){outline:solid 1px transparent;}/*!sc*/
.fCIOmi:focus-visible:not(:disabled){box-shadow:none;outline:2px solid var(--fgColor-accent,var(--color-accent-fg,#2f81f7));outline-offset:-2px;}/*!sc*/
.fCIOmi[href]{display:-webkit-inline-box;display:-webkit-inline-flex;display:-ms-inline-flexbox;display:inline-flex;}/*!sc*/
.fCIOmi[href]:hover{-webkit-text-decoration:none;text-decoration:none;}/*!sc*/
.fCIOmi:hover{-webkit-transition-duration:80ms;transition-duration:80ms;}/*!sc*/
.fCIOmi:active{-webkit-transition:none;transition:none;}/*!sc*/
.fCIOmi[data-inactive]{cursor:auto;}/*!sc*/
.fCIOmi:disabled{cursor:not-allowed;box-shadow:none;color:var(--fgColor-disabled,var(--color-primer-fg-disabled,#484f58));border-color:var(--button-default-borderColor-disabled,var(--button-default-borderColor-rest,var(--color-btn-border,rgba(240,246,252,0.1))));background-color:var(--button-default-bgColor-disabled,var(--control-bgColor-disabled,var(--color-input-disabled-bg,rgba(110,118,129,0))));}/*!sc*/
.fCIOmi:disabled [data-component=ButtonCounter]{color:inherit;}/*!sc*/
@media (forced-colors:active){.fCIOmi:focus{outline:solid 1px transparent;}}/*!sc*/
.fCIOmi [data-component=ButtonCounter]{font-size:12px;background-color:var(--buttonCounter-default-bgColor-rest,var(--color-btn-counter-bg,#30363d));}/*!sc*/
.fCIOmi[data-component=IconButton]{display:inline-grid;padding:unset;place-content:center;width:32px;min-width:unset;}/*!sc*/
.fCIOmi[data-size="small"]{padding:0 8px;height:28px;gap:4px;font-size:12px;}/*!sc*/
.fCIOmi[data-size="small"] [data-component="text"]{line-height:calc(20 / 12);}/*!sc*/
.fCIOmi[data-size="small"] [data-component=ButtonCounter]{font-size:12px;}/*!sc*/
.fCIOmi[data-size="small"] [data-component="buttonContent"] > :not(:last-child){margin-right:4px;}/*!sc*/
.fCIOmi[data-size="small"][data-component=IconButton]{width:28px;padding:unset;}/*!sc*/
.fCIOmi[data-size="large"]{padding:0 16px;height:40px;gap:8px;}/*!sc*/
.fCIOmi[data-size="large"] [data-component="buttonContent"] > :not(:last-child){margin-right:8px;}/*!sc*/
.fCIOmi[data-size="large"][data-component=IconButton]{width:40px;padding:unset;}/*!sc*/
.fCIOmi[data-block="block"]{width:100%;}/*!sc*/
.fCIOmi[data-inactive]:not([disabled]){background-color:var(--button-inactive-bgColor,var(--button-inactive-bgColor-rest,var(--color-btn-inactive-bg,#21262d)));border-color:var(--button-inactive-bgColor,var(--button-inactive-bgColor-rest,var(--color-btn-inactive-bg,#21262d)));color:var(--button-inactive-fgColor,var(--button-inactive-fgColor-rest,var(--color-btn-inactive-text,#8b949e)));}/*!sc*/
.fCIOmi[data-inactive]:not([disabled]):focus-visible{box-shadow:none;}/*!sc*/
.fCIOmi [data-component="leadingVisual"]{grid-area:leadingVisual;}/*!sc*/
.fCIOmi [data-component="text"]{grid-area:text;line-height:calc(20/14);white-space:nowrap;}/*!sc*/
.fCIOmi [data-component="trailingVisual"]{grid-area:trailingVisual;}/*!sc*/
.fCIOmi [data-component="trailingAction"]{margin-right:-4px;}/*!sc*/
.fCIOmi [data-component="buttonContent"]{-webkit-flex:1 0 auto;-ms-flex:1 0 auto;flex:1 0 auto;display:grid;grid-template-areas:"leadingVisual text trailingVisual";grid-template-columns:min-content minmax(0,auto) min-content;-webkit-align-items:center;-webkit-box-align:center;-ms-flex-align:center;align-items:center;-webkit-align-content:center;-ms-flex-line-pack:center;align-content:center;}/*!sc*/
.fCIOmi [data-component="buttonContent"] > :not(:last-child){margin-right:8px;}/*!sc*/
.fCIOmi:hover:not([disabled]):not([data-inactive]){background-color:var(--button-default-bgColor-hover,var(--color-btn-hover-bg,#30363d));border-color:var(--button-default-borderColor-hover,var(--button-default-borderColor-hover,var(--color-btn-hover-border,#8b949e)));}/*!sc*/
.fCIOmi:active:not([disabled]):not([data-inactive]){background-color:var(--button-default-bgColor-active,var(--color-btn-active-bg,hsla(212,12%,18%,1)));border-color:var(--button-default-borderColor-active,var(--button-default-borderColor-active,var(--color-btn-active-border,#6e7681)));}/*!sc*/
.fCIOmi[aria-expanded=true]{background-color:var(--button-default-bgColor-active,var(--color-btn-active-bg,hsla(212,12%,18%,1)));border-color:var(--button-default-borderColor-active,var(--button-default-borderColor-active,var(--color-btn-active-border,#6e7681)));}/*!sc*/
.fCIOmi [data-component="leadingVisual"],.fCIOmi [data-component="trailingVisual"],.fCIOmi [data-component="trailingAction"]{color:var(--button-color,var(--fgColor-muted,var(--color-fg-muted,#848d97)));}/*!sc*/
.fCIOmi[data-component="IconButton"][data-no-visuals]{color:var(--fgColor-muted,var(--color-fg-muted,#848d97));}/*!sc*/
.fCIOmi[data-size="small"][data-no-visuals]{border-top-left-radius:0;border-bottom-left-radius:0;}/*!sc*/
.ksnFc{border-radius:6px;border:1px solid;border-color:var(--button-default-borderColor-rest,var(--button-default-borderColor-rest,var(--color-btn-border,rgba(240,246,252,0.1))));font-family:inherit;font-weight:500;font-size:14px;cursor:pointer;-webkit-appearance:none;-moz-appearance:none;appearance:none;-webkit-user-select:none;-moz-user-select:none;-ms-user-select:none;user-select:none;-webkit-text-decoration:none;text-decoration:none;text-align:center;display:-webkit-box;display:-webkit-flex;display:-ms-flexbox;display:flex;-webkit-align-items:center;-webkit-box-align:center;-ms-flex-align:center;align-items:center;-webkit-box-pack:justify;-webkit-justify-content:space-between;-ms-flex-pack:justify;justify-content:space-between;height:32px;padding:0 12px;gap:8px;min-width:-webkit-max-content;min-width:-moz-max-content;min-width:max-content;-webkit-transition:80ms cubic-bezier(0.65,0,0.35,1);transition:80ms cubic-bezier(0.65,0,0.35,1);-webkit-transition-property:color,fill,background-color,border-color;transition-property:color,fill,background-color,border-color;color:var(--button-default-fgColor-rest,var(--color-btn-text,#c9d1d9));background-color:var(--button-default-bgColor-rest,var(--color-btn-bg,#21262d));box-shadow:var(--button-default-shadow-resting,var(--color-btn-shadow,0 0 transparent)),var(--button-default-shadow-inset,var(--color-btn-inset-shadow,0 0 transparent));}/*!sc*/
.ksnFc:focus:not(:disabled){box-shadow:none;outline:2px solid var(--fgColor-accent,var(--color-accent-fg,#2f81f7));outline-offset:-2px;}/*!sc*/
.ksnFc:focus:not(:disabled):not(:focus-visible){outline:solid 1px transparent;}/*!sc*/
.ksnFc:focus-visible:not(:disabled){box-shadow:none;outline:2px solid var(--fgColor-accent,var(--color-accent-fg,#2f81f7));outline-offset:-2px;}/*!sc*/
.ksnFc[href]{display:-webkit-inline-box;display:-webkit-inline-flex;display:-ms-inline-flexbox;display:inline-flex;}/*!sc*/
.ksnFc[href]:hover{-webkit-text-decoration:none;text-decoration:none;}/*!sc*/
.ksnFc:hover{-webkit-transition-duration:80ms;transition-duration:80ms;}/*!sc*/
.ksnFc:active{-webkit-transition:none;transition:none;}/*!sc*/
.ksnFc[data-inactive]{cursor:auto;}/*!sc*/
.ksnFc:disabled{cursor:not-allowed;box-shadow:none;color:var(--fgColor-disabled,var(--color-primer-fg-disabled,#484f58));border-color:var(--button-default-borderColor-disabled,var(--button-default-borderColor-rest,var(--color-btn-border,rgba(240,246,252,0.1))));background-color:var(--button-default-bgColor-disabled,var(--control-bgColor-disabled,var(--color-input-disabled-bg,rgba(110,118,129,0))));}/*!sc*/
.ksnFc:disabled [data-component=ButtonCounter]{color:inherit;}/*!sc*/
@media (forced-colors:active){.ksnFc:focus{outline:solid 1px transparent;}}/*!sc*/
.ksnFc [data-component=ButtonCounter]{font-size:12px;background-color:var(--buttonCounter-default-bgColor-rest,var(--color-btn-counter-bg,#30363d));}/*!sc*/
.ksnFc[data-component=IconButton]{display:inline-grid;padding:unset;place-content:center;width:32px;min-width:unset;}/*!sc*/
.ksnFc[data-size="small"]{padding:0 8px;height:28px;gap:4px;font-size:12px;}/*!sc*/
.ksnFc[data-size="small"] [data-component="text"]{line-height:calc(20 / 12);}/*!sc*/
.ksnFc[data-size="small"] [data-component=ButtonCounter]{font-size:12px;}/*!sc*/
.ksnFc[data-size="small"] [data-component="buttonContent"] > :not(:last-child){margin-right:4px;}/*!sc*/
.ksnFc[data-size="small"][data-component=IconButton]{width:28px;padding:unset;}/*!sc*/
.ksnFc[data-size="large"]{padding:0 16px;height:40px;gap:8px;}/*!sc*/
.ksnFc[data-size="large"] [data-component="buttonContent"] > :not(:last-child){margin-right:8px;}/*!sc*/
.ksnFc[data-size="large"][data-component=IconButton]{width:40px;padding:unset;}/*!sc*/
.ksnFc[data-block="block"]{width:100%;}/*!sc*/
.ksnFc[data-inactive]:not([disabled]){background-color:var(--button-inactive-bgColor,var(--button-inactive-bgColor-rest,var(--color-btn-inactive-bg,#21262d)));border-color:var(--button-inactive-bgColor,var(--button-inactive-bgColor-rest,var(--color-btn-inactive-bg,#21262d)));color:var(--button-inactive-fgColor,var(--button-inactive-fgColor-rest,var(--color-btn-inactive-text,#8b949e)));}/*!sc*/
.ksnFc[data-inactive]:not([disabled]):focus-visible{box-shadow:none;}/*!sc*/
.ksnFc [data-component="leadingVisual"]{grid-area:leadingVisual;}/*!sc*/
.ksnFc [data-component="text"]{grid-area:text;line-height:calc(20/14);white-space:nowrap;}/*!sc*/
.ksnFc [data-component="trailingVisual"]{grid-area:trailingVisual;}/*!sc*/
.ksnFc [data-component="trailingAction"]{margin-right:-4px;}/*!sc*/
.ksnFc [data-component="buttonContent"]{-webkit-flex:1 0 auto;-ms-flex:1 0 auto;flex:1 0 auto;display:grid;grid-template-areas:"leadingVisual text trailingVisual";grid-template-columns:min-content minmax(0,auto) min-content;-webkit-align-items:center;-webkit-box-align:center;-ms-flex-align:center;align-items:center;-webkit-align-content:center;-ms-flex-line-pack:center;align-content:center;}/*!sc*/
.ksnFc [data-component="buttonContent"] > :not(:last-child){margin-right:8px;}/*!sc*/
.ksnFc:hover:not([disabled]):not([data-inactive]){background-color:var(--button-default-bgColor-hover,var(--color-btn-hover-bg,#30363d));border-color:var(--button-default-borderColor-hover,var(--button-default-borderColor-hover,var(--color-btn-hover-border,#8b949e)));}/*!sc*/
.ksnFc:active:not([disabled]):not([data-inactive]){background-color:var(--button-default-bgColor-active,var(--color-btn-active-bg,hsla(212,12%,18%,1)));border-color:var(--button-default-borderColor-active,var(--button-default-borderColor-active,var(--color-btn-active-border,#6e7681)));}/*!sc*/
.ksnFc[aria-expanded=true]{background-color:var(--button-default-bgColor-active,var(--color-btn-active-bg,hsla(212,12%,18%,1)));border-color:var(--button-default-borderColor-active,var(--button-default-borderColor-active,var(--color-btn-active-border,#6e7681)));}/*!sc*/
.ksnFc [data-component="leadingVisual"],.ksnFc [data-component="trailingVisual"],.ksnFc [data-component="trailingAction"]{color:var(--button-color,var(--fgColor-muted,var(--color-fg-muted,#848d97)));}/*!sc*/
.ksnFc[data-component="IconButton"][data-no-visuals]{color:var(--fgColor-muted,var(--color-fg-muted,#848d97));}/*!sc*/
.ksnFc[data-size="small"][data-no-visuals]{border-top-right-radius:0;border-bottom-right-radius:0;border-right-width:0;}/*!sc*/
.ksnFc[data-size="small"][data-no-visuals]:hover:not([disabled]){-webkit-text-decoration:none;text-decoration:none;}/*!sc*/
.ksnFc[data-size="small"][data-no-visuals]:focus:not([disabled]){-webkit-text-decoration:none;text-decoration:none;}/*!sc*/
.ksnFc[data-size="small"][data-no-visuals]:active:not([disabled]){-webkit-text-decoration:none;text-decoration:none;}/*!sc*/
.htXhGX{border-radius:6px;border:1px solid;border-color:transparent;font-family:inherit;font-weight:500;font-size:14px;cursor:pointer;-webkit-appearance:none;-moz-appearance:none;appearance:none;-webkit-user-select:none;-moz-user-select:none;-ms-user-select:none;user-select:none;-webkit-text-decoration:none;text-decoration:none;text-align:center;display:-webkit-box;display:-webkit-flex;display:-ms-flexbox;display:flex;-webkit-align-items:center;-webkit-box-align:center;-ms-flex-align:center;align-items:center;-webkit-box-pack:justify;-webkit-justify-content:space-between;-ms-flex-pack:justify;justify-content:space-between;height:32px;padding:0 12px;gap:8px;min-width:-webkit-max-content;min-width:-moz-max-content;min-width:max-content;-webkit-transition:80ms cubic-bezier(0.65,0,0.35,1);transition:80ms cubic-bezier(0.65,0,0.35,1);-webkit-transition-property:color,fill,background-color,border-color;transition-property:color,fill,background-color,border-color;color:var(--button-default-fgColor-rest,var(--color-btn-text,#c9d1d9));background-color:transparent;box-shadow:none;}/*!sc*/
.htXhGX:focus:not(:disabled){box-shadow:none;outline:2px solid var(--fgColor-accent,var(--color-accent-fg,#2f81f7));outline-offset:-2px;}/*!sc*/
.htXhGX:focus:not(:disabled):not(:focus-visible){outline:solid 1px transparent;}/*!sc*/
.htXhGX:focus-visible:not(:disabled){box-shadow:none;outline:2px solid var(--fgColor-accent,var(--color-accent-fg,#2f81f7));outline-offset:-2px;}/*!sc*/
.htXhGX[href]{display:-webkit-inline-box;display:-webkit-inline-flex;display:-ms-inline-flexbox;display:inline-flex;}/*!sc*/
.htXhGX[href]:hover{-webkit-text-decoration:none;text-decoration:none;}/*!sc*/
.htXhGX:hover{-webkit-transition-duration:80ms;transition-duration:80ms;}/*!sc*/
.htXhGX:active{-webkit-transition:none;transition:none;}/*!sc*/
.htXhGX[data-inactive]{cursor:auto;}/*!sc*/
.htXhGX:disabled{cursor:not-allowed;box-shadow:none;color:var(--fgColor-disabled,var(--color-primer-fg-disabled,#484f58));}/*!sc*/
.htXhGX:disabled [data-component=ButtonCounter],.htXhGX:disabled [data-component="leadingVisual"],.htXhGX:disabled [data-component="trailingAction"]{color:inherit;}/*!sc*/
@media (forced-colors:active){.htXhGX:focus{outline:solid 1px transparent;}}/*!sc*/
.htXhGX [data-component=ButtonCounter]{font-size:12px;}/*!sc*/
.htXhGX[data-component=IconButton]{display:inline-grid;padding:unset;place-content:center;width:32px;min-width:unset;}/*!sc*/
.htXhGX[data-size="small"]{padding:0 8px;height:28px;gap:4px;font-size:12px;}/*!sc*/
.htXhGX[data-size="small"] [data-component="text"]{line-height:calc(20 / 12);}/*!sc*/
.htXhGX[data-size="small"] [data-component=ButtonCounter]{font-size:12px;}/*!sc*/
.htXhGX[data-size="small"] [data-component="buttonContent"] > :not(:last-child){margin-right:4px;}/*!sc*/
.htXhGX[data-size="small"][data-component=IconButton]{width:28px;padding:unset;}/*!sc*/
.htXhGX[data-size="large"]{padding:0 16px;height:40px;gap:8px;}/*!sc*/
.htXhGX[data-size="large"] [data-component="buttonContent"] > :not(:last-child){margin-right:8px;}/*!sc*/
.htXhGX[data-size="large"][data-component=IconButton]{width:40px;padding:unset;}/*!sc*/
.htXhGX[data-block="block"]{width:100%;}/*!sc*/
.htXhGX[data-inactive]:not([disabled]){background-color:var(--button-inactive-bgColor,var(--button-inactive-bgColor-rest,var(--color-btn-inactive-bg,#21262d)));border-color:var(--button-inactive-bgColor,var(--button-inactive-bgColor-rest,var(--color-btn-inactive-bg,#21262d)));color:var(--button-inactive-fgColor,var(--button-inactive-fgColor-rest,var(--color-btn-inactive-text,#8b949e)));}/*!sc*/
.htXhGX[data-inactive]:not([disabled]):focus-visible{box-shadow:none;}/*!sc*/
.htXhGX [data-component="leadingVisual"]{grid-area:leadingVisual;color:var(--fgColor-muted,var(--color-fg-muted,#848d97));}/*!sc*/
.htXhGX [data-component="text"]{grid-area:text;line-height:calc(20/14);white-space:nowrap;}/*!sc*/
.htXhGX [data-component="trailingVisual"]{grid-area:trailingVisual;}/*!sc*/
.htXhGX [data-component="trailingAction"]{margin-right:-4px;color:var(--fgColor-muted,var(--color-fg-muted,#848d97));}/*!sc*/
.htXhGX [data-component="buttonContent"]{-webkit-flex:1 0 auto;-ms-flex:1 0 auto;flex:1 0 auto;display:grid;grid-template-areas:"leadingVisual text trailingVisual";grid-template-columns:min-content minmax(0,auto) min-content;-webkit-align-items:center;-webkit-box-align:center;-ms-flex-align:center;align-items:center;-webkit-align-content:center;-ms-flex-line-pack:center;align-content:center;}/*!sc*/
.htXhGX [data-component="buttonContent"] > :not(:last-child){margin-right:8px;}/*!sc*/
.htXhGX:hover:not([disabled]){background-color:var(--control-transparent-bgColor-hover,var(--color-action-list-item-default-hover-bg,rgba(177,186,196,0.12)));}/*!sc*/
.htXhGX:active:not([disabled]){background-color:var(--control-transparent-bgColor-active,var(--color-action-list-item-default-active-bg,rgba(177,186,196,0.2)));}/*!sc*/
.htXhGX[aria-expanded=true]{background-color:var(--control-transparent-bgColor-selected,var(--color-action-list-item-default-selected-bg,rgba(177,186,196,0.08)));}/*!sc*/
.htXhGX[data-component="IconButton"][data-no-visuals]{color:var(--fgColor-muted,var(--color-fg-muted,#848d97));}/*!sc*/
.htXhGX[data-no-visuals]{color:var(--fgColor-accent,var(--color-accent-fg,#2f81f7));}/*!sc*/
.htXhGX:has([data-component="ButtonCounter"]){color:var(--button-default-fgColor-rest,var(--color-btn-text,#c9d1d9));}/*!sc*/
.htXhGX:disabled[data-no-visuals]{color:var(--fgColor-disabled,var(--color-primer-fg-disabled,#484f58));}/*!sc*/
.htXhGX:disabled[data-no-visuals] [data-component=ButtonCounter]{color:inherit;}/*!sc*/
.htXhGX[data-size="small"][data-no-visuals]{color:var(--fgColor-muted,var(--color-fg-muted,#848d97));}/*!sc*/
data-styled.g9[id="types__StyledButton-sc-ws60qy-0"]{content:"iKABXH,hfWObv,gBsjGI,XJZbf,cBjhIZ,IIGly,fXsbsD,hiXxwe,saA-Dg,hhunph,ecGgfP,dupbIv,dMUxwi,fCIOmi,ksnFc,htXhGX,"}/*!sc*/
.rTZSs{position:absolute;width:1px;height:1px;padding:0;margin:-1px;overflow:hidden;-webkit-clip:rect(0,0,0,0);clip:rect(0,0,0,0);white-space:nowrap;border-width:0;}/*!sc*/
data-styled.g10[id="_VisuallyHidden__VisuallyHidden-sc-11jhm7a-0"]{content:"rTZSs,"}/*!sc*/
.fUpWeN{display:inline-block;overflow:hidden;text-overflow:ellipsis;vertical-align:top;white-space:nowrap;max-width:125px;max-width:100%;}/*!sc*/
data-styled.g15[id="Truncate__StyledTruncate-sc-23o1d2-0"]{content:"fUpWeN,"}/*!sc*/
.izAlVj{position:relative;display:inline-block;}/*!sc*/
.izAlVj::after{position:absolute;z-index:1000000;display:none;padding:0.5em 0.75em;font:normal normal 11px/1.5 -apple-system,BlinkMacSystemFont,"Segoe UI","Noto Sans",Helvetica,Arial,sans-serif,"Apple Color Emoji","Segoe UI Emoji";-webkit-font-smoothing:subpixel-antialiased;color:var(--fgColor-onEmphasis,var(--color-fg-on-emphasis,#ffffff));text-align:center;-webkit-text-decoration:none;text-decoration:none;text-shadow:none;text-transform:none;-webkit-letter-spacing:normal;-moz-letter-spacing:normal;-ms-letter-spacing:normal;letter-spacing:normal;word-wrap:break-word;white-space:pre;pointer-events:none;content:attr(aria-label);background:var(--bgColor-emphasis,var(--color-neutral-emphasis-plus,#6e7681));border-radius:6px;opacity:0;}/*!sc*/
@-webkit-keyframes tooltip-appear{from{opacity:0;}to{opacity:1;}}/*!sc*/
@keyframes tooltip-appear{from{opacity:0;}to{opacity:1;}}/*!sc*/
.izAlVj:hover::after,.izAlVj:active::after,.izAlVj:focus::after,.izAlVj:focus-within::after{display:inline-block;-webkit-text-decoration:none;text-decoration:none;-webkit-animation-name:tooltip-appear;animation-name:tooltip-appear;-webkit-animation-duration:0.1s;animation-duration:0.1s;-webkit-animation-fill-mode:forwards;animation-fill-mode:forwards;-webkit-animation-timing-function:ease-in;animation-timing-function:ease-in;-webkit-animation-delay:0s;animation-delay:0s;}/*!sc*/
.izAlVj.tooltipped-no-delay:hover::after,.izAlVj.tooltipped-no-delay:active::after,.izAlVj.tooltipped-no-delay:focus::after,.izAlVj.tooltipped-no-delay:focus-within::after{-webkit-animation-delay:0s;animation-delay:0s;}/*!sc*/
.izAlVj.tooltipped-multiline:hover::after,.izAlVj.tooltipped-multiline:active::after,.izAlVj.tooltipped-multiline:focus::after,.izAlVj.tooltipped-multiline:focus-within::after{display:table-cell;}/*!sc*/
.izAlVj.tooltipped-s::after,.izAlVj.tooltipped-se::after,.izAlVj.tooltipped-sw::after{top:100%;right:50%;margin-top:6px;}/*!sc*/
.izAlVj.tooltipped-se::after{right:auto;left:50%;margin-left:-16px;}/*!sc*/
.izAlVj.tooltipped-sw::after{margin-right:-16px;}/*!sc*/
.izAlVj.tooltipped-n::after,.izAlVj.tooltipped-ne::after,.izAlVj.tooltipped-nw::after{right:50%;bottom:100%;margin-bottom:6px;}/*!sc*/
.izAlVj.tooltipped-ne::after{right:auto;left:50%;margin-left:-16px;}/*!sc*/
.izAlVj.tooltipped-nw::after{margin-right:-16px;}/*!sc*/
.izAlVj.tooltipped-s::after,.izAlVj.tooltipped-n::after{-webkit-transform:translateX(50%);-ms-transform:translateX(50%);transform:translateX(50%);}/*!sc*/
.izAlVj.tooltipped-w::after{right:100%;bottom:50%;margin-right:6px;-webkit-transform:translateY(50%);-ms-transform:translateY(50%);transform:translateY(50%);}/*!sc*/
.izAlVj.tooltipped-e::after{bottom:50%;left:100%;margin-left:6px;-webkit-transform:translateY(50%);-ms-transform:translateY(50%);transform:translateY(50%);}/*!sc*/
.izAlVj.tooltipped-multiline::after{width:-webkit-max-content;width:-moz-max-content;width:max-content;max-width:250px;word-wrap:break-word;white-space:pre-line;border-collapse:separate;}/*!sc*/
.izAlVj.tooltipped-multiline.tooltipped-s::after,.izAlVj.tooltipped-multiline.tooltipped-n::after{right:auto;left:50%;-webkit-transform:translateX(-50%);-ms-transform:translateX(-50%);transform:translateX(-50%);}/*!sc*/
.izAlVj.tooltipped-multiline.tooltipped-w::after,.izAlVj.tooltipped-multiline.tooltipped-e::after{right:100%;}/*!sc*/
.izAlVj.tooltipped-align-right-2::after{right:0;margin-right:0;}/*!sc*/
.izAlVj.tooltipped-align-left-2::after{left:0;margin-left:0;}/*!sc*/
data-styled.g18[id="Tooltip__TooltipBase-sc-17tf59c-0"]{content:"izAlVj,"}/*!sc*/
.hPEVNM{-webkit-animation:rotate-keyframes 1s linear infinite;animation:rotate-keyframes 1s linear infinite;}/*!sc*/
@-webkit-keyframes rotate-keyframes{100%{-webkit-transform:rotate(360deg);-ms-transform:rotate(360deg);transform:rotate(360deg);}}/*!sc*/
@keyframes rotate-keyframes{100%{-webkit-transform:rotate(360deg);-ms-transform:rotate(360deg);transform:rotate(360deg);}}/*!sc*/
data-styled.g28[id="Spinner__StyledSpinner-sc-1knt686-0"]{content:"hPEVNM,"}/*!sc*/
.kbCZWh{font-size:14px;line-height:20px;color:var(--fgColor-default,var(--color-fg-default,#e6edf3));vertical-align:middle;background-color:var(--bgColor-default,var(--color-canvas-default,#0d1117));border:1px solid var(--control-borderColor-rest,var(--borderColor-default,var(--color-border-default,#30363d)));border-radius:6px;outline:none;box-shadow:var(--shadow-inset,var(--color-primer-shadow-inset,0 0 transparent));display:-webkit-inline-box;display:-webkit-inline-flex;display:-ms-inline-flexbox;display:inline-flex;-webkit-align-items:stretch;-webkit-box-align:stretch;-ms-flex-align:stretch;align-items:stretch;min-height:32px;overflow:hidden;display:-webkit-box;display:-webkit-flex;display:-ms-flexbox;display:flex;min-width:160px;}/*!sc*/
.kbCZWh input,.kbCZWh textarea{cursor:text;}/*!sc*/
.kbCZWh select{cursor:pointer;}/*!sc*/
.kbCZWh input::-webkit-input-placeholder,.kbCZWh textarea::-webkit-input-placeholder,.kbCZWh select::-webkit-input-placeholder{color:var(---control-fgColor-placeholder,var(--fgColor-muted,var(--color-fg-muted,#848d97)));}/*!sc*/
.kbCZWh input::-moz-placeholder,.kbCZWh textarea::-moz-placeholder,.kbCZWh select::-moz-placeholder{color:var(---control-fgColor-placeholder,var(--fgColor-muted,var(--color-fg-muted,#848d97)));}/*!sc*/
.kbCZWh input:-ms-input-placeholder,.kbCZWh textarea:-ms-input-placeholder,.kbCZWh select:-ms-input-placeholder{color:var(---control-fgColor-placeholder,var(--fgColor-muted,var(--color-fg-muted,#848d97)));}/*!sc*/
.kbCZWh input::placeholder,.kbCZWh textarea::placeholder,.kbCZWh select::placeholder{color:var(---control-fgColor-placeholder,var(--fgColor-muted,var(--color-fg-muted,#848d97)));}/*!sc*/
.kbCZWh:focus-within{border-color:var(--fgColor-accent,var(--color-accent-fg,#2f81f7));outline:2px solid var(--fgColor-accent,var(--color-accent-fg,#2f81f7));outline-offset:-1px;}/*!sc*/
.kbCZWh > textarea{padding:12px;}/*!sc*/
@media (min-width:768px){.kbCZWh{font-size:14px;}}/*!sc*/
data-styled.g37[id="TextInputWrapper__TextInputBaseWrapper-sc-1mqhpbi-0"]{content:"kbCZWh,"}/*!sc*/
.jxgrJS{background-repeat:no-repeat;background-position:right 8px center;padding-left:12px;padding-right:12px;display:-webkit-box;display:-webkit-flex;display:-ms-flexbox;display:flex;min-width:160px;}/*!sc*/
.jxgrJS > :not(:last-child){margin-right:8px;}/*!sc*/
.jxgrJS .TextInput-icon,.jxgrJS .TextInput-action{-webkit-align-self:center;-ms-flex-item-align:center;align-self:center;color:var(--fgColor-muted,var(--color-fg-muted,#848d97));-webkit-flex-shrink:0;-ms-flex-negative:0;flex-shrink:0;}/*!sc*/
.jxgrJS > input,.jxgrJS > select{padding-left:0;padding-right:0;}/*!sc*/
data-styled.g38[id="TextInputWrapper-sc-1mqhpbi-1"]{content:"jxgrJS,"}/*!sc*/
.cDLBls{border:0;font-size:inherit;font-family:inherit;background-color:transparent;-webkit-appearance:none;color:inherit;width:100%;}/*!sc*/
.cDLBls:focus{outline:0;}/*!sc*/
data-styled.g39[id="UnstyledTextInput-sc-14ypya-0"]{content:"cDLBls,"}/*!sc*/
.NCWSJ{--segmented-control-button-inner-padding:12px;--segmented-control-button-bg-inset:4px;--segmented-control-outer-radius:6px;background-color:transparent;border-color:transparent;border-radius:var(--segmented-control-outer-radius);border-width:0;color:currentColor;cursor:pointer;font-family:inherit;font-size:inherit;font-weight:600;padding:0;height:100%;width:100%;}/*!sc*/
.NCWSJ .segmentedControl-content{-webkit-align-items:center;-webkit-box-align:center;-ms-flex-align:center;align-items:center;background-color:var(--controlKnob-bgColor-rest,var(--color-segmented-control-button-bg,#0d1117));border-color:var(--controlKnob-borderColor-rest,var(--color-segmented-control-button-selected-border,#6e7681));border-style:solid;border-width:1px;border-radius:var(--segmented-control-outer-radius);display:-webkit-box;display:-webkit-flex;display:-ms-flexbox;display:flex;height:100%;-webkit-box-pack:center;-webkit-justify-content:center;-ms-flex-pack:center;justify-content:center;padding-left:var(--segmented-control-button-inner-padding);padding-right:var(--segmented-control-button-inner-padding);}/*!sc*/
.NCWSJ svg{fill:var(--fgColor-muted,var(--color-fg-muted,#848d97));}/*!sc*/
.NCWSJ:focus:focus-visible:not(:last-child):after{width:0;}/*!sc*/
.NCWSJ .segmentedControl-text:after{content:"Preview";display:block;font-weight:600;height:0;overflow:hidden;pointer-events:none;-webkit-user-select:none;-moz-user-select:none;-ms-user-select:none;user-select:none;visibility:hidden;}/*!sc*/
@media (pointer:coarse){.NCWSJ:before{content:"";position:absolute;left:0;right:0;-webkit-transform:translateY(-50%);-ms-transform:translateY(-50%);transform:translateY(-50%);top:50%;min-height:44px;}}/*!sc*/
.lfqhlR{--segmented-control-button-inner-padding:12px;--segmented-control-button-bg-inset:4px;--segmented-control-outer-radius:6px;background-color:transparent;border-color:transparent;border-radius:var(--segmented-control-outer-radius);border-width:0;color:currentColor;cursor:pointer;font-family:inherit;font-size:inherit;font-weight:400;padding:var(--segmented-control-button-bg-inset);height:100%;width:100%;}/*!sc*/
.lfqhlR .segmentedControl-content{-webkit-align-items:center;-webkit-box-align:center;-ms-flex-align:center;align-items:center;background-color:transparent;border-color:transparent;border-style:solid;border-width:1px;border-radius:calc(var(--segmented-control-outer-radius) - var(--segmented-control-button-bg-inset) / 2);display:-webkit-box;display:-webkit-flex;display:-ms-flexbox;display:flex;height:100%;-webkit-box-pack:center;-webkit-justify-content:center;-ms-flex-pack:center;justify-content:center;padding-left:calc(var(--segmented-control-button-inner-padding) - var(--segmented-control-button-bg-inset));padding-right:calc(var(--segmented-control-button-inner-padding) - var(--segmented-control-button-bg-inset));}/*!sc*/
.lfqhlR svg{fill:var(--fgColor-muted,var(--color-fg-muted,#848d97));}/*!sc*/
.lfqhlR:hover .segmentedControl-content{background-color:var(--controlTrack-bgColor-hover,var(--color-segmented-control-button-hover-bg,#30363d));}/*!sc*/
.lfqhlR:active .segmentedControl-content{background-color:var(--controlTrack-bgColor-active,var(--color-segmented-control-button-active-bg,#21262d));}/*!sc*/
.lfqhlR:focus:focus-visible:not(:last-child):after{width:0;}/*!sc*/
.lfqhlR .segmentedControl-text:after{content:"Code";display:block;font-weight:600;height:0;overflow:hidden;pointer-events:none;-webkit-user-select:none;-moz-user-select:none;-ms-user-select:none;user-select:none;visibility:hidden;}/*!sc*/
@media (pointer:coarse){.lfqhlR:before{content:"";position:absolute;left:0;right:0;-webkit-transform:translateY(-50%);-ms-transform:translateY(-50%);transform:translateY(-50%);top:50%;min-height:44px;}}/*!sc*/
.iDBPxb{--segmented-control-button-inner-padding:12px;--segmented-control-button-bg-inset:4px;--segmented-control-outer-radius:6px;background-color:transparent;border-color:transparent;border-radius:var(--segmented-control-outer-radius);border-width:0;color:currentColor;cursor:pointer;font-family:inherit;font-size:inherit;font-weight:400;padding:var(--segmented-control-button-bg-inset);height:100%;width:100%;}/*!sc*/
.iDBPxb .segmentedControl-content{-webkit-align-items:center;-webkit-box-align:center;-ms-flex-align:center;align-items:center;background-color:transparent;border-color:transparent;border-style:solid;border-width:1px;border-radius:calc(var(--segmented-control-outer-radius) - var(--segmented-control-button-bg-inset) / 2);display:-webkit-box;display:-webkit-flex;display:-ms-flexbox;display:flex;height:100%;-webkit-box-pack:center;-webkit-justify-content:center;-ms-flex-pack:center;justify-content:center;padding-left:calc(var(--segmented-control-button-inner-padding) - var(--segmented-control-button-bg-inset));padding-right:calc(var(--segmented-control-button-inner-padding) - var(--segmented-control-button-bg-inset));}/*!sc*/
.iDBPxb svg{fill:var(--fgColor-muted,var(--color-fg-muted,#848d97));}/*!sc*/
.iDBPxb:hover .segmentedControl-content{background-color:var(--controlTrack-bgColor-hover,var(--color-segmented-control-button-hover-bg,#30363d));}/*!sc*/
.iDBPxb:active .segmentedControl-content{background-color:var(--controlTrack-bgColor-active,var(--color-segmented-control-button-active-bg,#21262d));}/*!sc*/
.iDBPxb:focus:focus-visible:not(:last-child):after{width:0;}/*!sc*/
.iDBPxb .segmentedControl-text:after{content:"Blame";display:block;font-weight:600;height:0;overflow:hidden;pointer-events:none;-webkit-user-select:none;-moz-user-select:none;-ms-user-select:none;user-select:none;visibility:hidden;}/*!sc*/
@media (pointer:coarse){.iDBPxb:before{content:"";position:absolute;left:0;right:0;-webkit-transform:translateY(-50%);-ms-transform:translateY(-50%);transform:translateY(-50%);top:50%;min-height:44px;}}/*!sc*/
data-styled.g69[id="SegmentedControlButton__SegmentedControlButtonStyled-sc-8lkgxl-0"]{content:"NCWSJ,lfqhlR,iDBPxb,"}/*!sc*/
.dlXtLG{background-color:var(--controlTrack-bgColor-rest,var(--color-segmented-control-bg,rgba(110,118,129,0.1)));border-radius:6px;display:-webkit-inline-box;display:-webkit-inline-flex;display:-ms-inline-flexbox;display:inline-flex;font-size:14px;height:28px;margin:0;padding:0;}/*!sc*/
data-styled.g71[id="SegmentedControl__SegmentedControlList-sc-1rzig82-0"]{content:"dlXtLG,"}/*!sc*/
.dcpVHE{list-style:none;padding:0;margin:0;}/*!sc*/
.dcpVHE .PRIVATE_TreeView-item{outline:none;}/*!sc*/
.dcpVHE .PRIVATE_TreeView-item:focus-visible > div,.dcpVHE .PRIVATE_TreeView-item.focus-visible > div{box-shadow:inset 0 0 0 2px var(--fgColor-accent,var(--color-accent-fg,#2f81f7));}/*!sc*/
@media (forced-colors:active){.dcpVHE .PRIVATE_TreeView-item:focus-visible > div,.dcpVHE .PRIVATE_TreeView-item.focus-visible > div{outline:2px solid HighlightText;outline-offset:-2;}}/*!sc*/
.dcpVHE .PRIVATE_TreeView-item-container{--level:1;--toggle-width:1rem;position:relative;display:grid;grid-template-columns:calc(calc(var(--level) - 1) * (var(--toggle-width) / 2)) var(--toggle-width) 1fr;grid-template-areas:'spacer toggle content';width:100%;min-height:2rem;font-size:14px;color:var(--fgColor-default,var(--color-fg-default,#e6edf3));border-radius:6px;cursor:pointer;}/*!sc*/
.dcpVHE .PRIVATE_TreeView-item-container:hover{background-color:var(--control-transparent-bgColor-hover,var(--color-action-list-item-default-hover-bg,rgba(177,186,196,0.12)));}/*!sc*/
@media (forced-colors:active){.dcpVHE .PRIVATE_TreeView-item-container:hover{outline:2px solid transparent;outline-offset:-2px;}}/*!sc*/
@media (pointer:coarse){.dcpVHE .PRIVATE_TreeView-item-container{--toggle-width:1.5rem;min-height:2.75rem;}}/*!sc*/
.dcpVHE .PRIVATE_TreeView-item-container:has(.PRIVATE_TreeView-item-skeleton):hover{background-color:transparent;cursor:default;}/*!sc*/
@media (forced-colors:active){.dcpVHE .PRIVATE_TreeView-item-container:has(.PRIVATE_TreeView-item-skeleton):hover{outline:none;}}/*!sc*/
.dcpVHE[data-omit-spacer='true'] .PRIVATE_TreeView-item-container{grid-template-columns:0 0 1fr;}/*!sc*/
.dcpVHE .PRIVATE_TreeView-item[aria-current='true'] > .PRIVATE_TreeView-item-container{background-color:var(--control-transparent-bgColor-selected,var(--color-action-list-item-default-selected-bg,rgba(177,186,196,0.08)));}/*!sc*/
.dcpVHE .PRIVATE_TreeView-item[aria-current='true'] > .PRIVATE_TreeView-item-container::after{content:'';position:absolute;top:calc(50% - 0.75rem);left:-8px;width:0.25rem;height:1.5rem;background-color:var(--fgColor-accent,var(--color-accent-fg,#2f81f7));border-radius:6px;}/*!sc*/
@media (forced-colors:active){.dcpVHE .PRIVATE_TreeView-item[aria-current='true'] > .PRIVATE_TreeView-item-container::after{background-color:HighlightText;}}/*!sc*/
.dcpVHE .PRIVATE_TreeView-item-toggle{grid-area:toggle;display:-webkit-box;display:-webkit-flex;display:-ms-flexbox;display:flex;-webkit-align-items:center;-webkit-box-align:center;-ms-flex-align:center;align-items:center;-webkit-box-pack:center;-webkit-justify-content:center;-ms-flex-pack:center;justify-content:center;height:100%;color:var(--fgColor-muted,var(--color-fg-muted,#848d97));}/*!sc*/
.dcpVHE .PRIVATE_TreeView-item-toggle--hover:hover{background-color:var(--control-transparent-bgColor-hover,var(--color-tree-view-item-chevron-hover-bg,rgba(177,186,196,0.12)));}/*!sc*/
.dcpVHE .PRIVATE_TreeView-item-toggle--end{border-top-left-radius:6px;border-bottom-left-radius:6px;}/*!sc*/
.dcpVHE .PRIVATE_TreeView-item-content{grid-area:content;display:-webkit-box;display:-webkit-flex;display:-ms-flexbox;display:flex;-webkit-align-items:center;-webkit-box-align:center;-ms-flex-align:center;align-items:center;height:100%;padding:0 8px;gap:8px;}/*!sc*/
.dcpVHE .PRIVATE_TreeView-item-content-text{-webkit-flex:1 1 auto;-ms-flex:1 1 auto;flex:1 1 auto;width:0;overflow:hidden;white-space:nowrap;text-overflow:ellipsis;}/*!sc*/
.dcpVHE .PRIVATE_TreeView-item-visual{display:-webkit-box;display:-webkit-flex;display:-ms-flexbox;display:flex;color:var(--fgColor-muted,var(--color-fg-muted,#848d97));}/*!sc*/
.dcpVHE .PRIVATE_TreeView-item-level-line{width:100%;height:100%;border-right:1px solid;border-color:var(--borderColor-muted,var(--color-border-subtle,rgba(240,246,252,0.1)));}/*!sc*/
@media (hover:hover){.dcpVHE .PRIVATE_TreeView-item-level-line{border-color:transparent;}.dcpVHE:hover .PRIVATE_TreeView-item-level-line,.dcpVHE:focus-within .PRIVATE_TreeView-item-level-line{border-color:var(--borderColor-muted,var(--color-border-subtle,rgba(240,246,252,0.1)));}}/*!sc*/
.dcpVHE .PRIVATE_TreeView-directory-icon{display:grid;color:var(--treeViewItem-leadingVisual-bgColor-rest,var(--color-tree-view-item-directory-fill,#848d97));}/*!sc*/
.dcpVHE .PRIVATE_VisuallyHidden{position:absolute;width:1px;height:1px;padding:0;margin:-1px;overflow:hidden;-webkit-clip:rect(0,0,0,0);clip:rect(0,0,0,0);white-space:nowrap;border-width:0;}/*!sc*/
data-styled.g85[id="TreeView__UlBox-sc-4ex6b6-0"]{content:"dcpVHE,"}/*!sc*/
.cjbBGq{display:-webkit-inline-box;display:-webkit-inline-flex;display:-ms-inline-flexbox;display:inline-flex;vertical-align:middle;isolation:isolate;}/*!sc*/
.cjbBGq.cjbBGq > *{margin-inline-end:-1px;position:relative;border-radius:0;}/*!sc*/
.cjbBGq.cjbBGq > *:first-child{border-top-left-radius:6px;border-bottom-left-radius:6px;}/*!sc*/
.cjbBGq.cjbBGq > *:last-child{border-top-right-radius:6px;border-bottom-right-radius:6px;}/*!sc*/
.cjbBGq.cjbBGq > *:focus,.cjbBGq.cjbBGq > *:active,.cjbBGq.cjbBGq > *:hover{z-index:1;}/*!sc*/
data-styled.g87[id="ButtonGroup-sc-1gxhls1-0"]{content:"cjbBGq,"}/*!sc*/
</style><meta data-hydrostats="publish"/> <!-- --> <!-- --> <!-- --> <button hidden="" data-testid="header-permalink-button" data-hotkey-scope="read-only-cursor-text-area"></button><button hidden=""></button><div><div style="--sticky-pane-height:100vh" class="Box-sc-g0xbh4-0 fSWWem"><div class="Box-sc-g0xbh4-0 kPPmzM"><div class="Box-sc-g0xbh4-0 cIAPDV"><div tabindex="0" class="Box-sc-g0xbh4-0 gvCnwW"><div class="Box-sc-g0xbh4-0 xEgty"><div class="Box-sc-g0xbh4-0 eUyHuk"></div><div style="--pane-width:320px" class="Box-sc-g0xbh4-0 gNdDUH"><div class="Box-sc-g0xbh4-0 react-tree-pane-contents"><div id="repos-file-tree" class="Box-sc-g0xbh4-0 jywUSN"><div class="Box-sc-g0xbh4-0 hBSSUC"><div class="Box-sc-g0xbh4-0 iPurHz"><h2 class="Heading__StyledHeading-sc-1c1dgg0-0 jUriTl"><button style="--button-color:fg.muted" type="button" aria-label="Expand file tree" data-testid="expand-file-tree-button-mobile" class="types__StyledButton-sc-ws60qy-0 iKABXH"><span data-component="buttonContent" class="Box-sc-g0xbh4-0 kkrdEu"><span data-component="leadingVisual" class="Box-sc-g0xbh4-0 trpoQ"><svg aria-hidden="true" focusable="false" role="img" class="octicon octicon-arrow-left" viewBox="0 0 16 16" width="16" height="16" fill="currentColor" style="display:inline-block;user-select:none;vertical-align:text-bottom;overflow:visible"><path d="M7.78 12.53a.75.75 0 0 1-1.06 0L2.47 8.28a.75.75 0 0 1 0-1.06l4.25-4.25a.751.751 0 0 1 1.042.018.751.751 0 0 1 .018 1.042L4.81 7h7.44a.75.75 0 0 1 0 1.5H4.81l2.97 2.97a.75.75 0 0 1 0 1.06Z"></path></svg></span><span data-component="text">Files</span></span></button><span role="tooltip" aria-label="Collapse file tree" id="expand-button-file-tree-button" class="Tooltip__TooltipBase-sc-17tf59c-0 izAlVj tooltipped-se"><button data-component="IconButton" type="button" data-testid="collapse-file-tree-button" aria-labelledby="expand-button-file-tree-button" aria-expanded="true" aria-controls="repos-file-tree" class="types__StyledButton-sc-ws60qy-0 hfWObv" data-no-visuals="true"><svg aria-hidden="true" focusable="false" role="img" class="octicon octicon-sidebar-expand" viewBox="0 0 16 16" width="16" height="16" fill="currentColor" style="display:inline-block;user-select:none;vertical-align:text-bottom;overflow:visible"><path d="m4.177 7.823 2.396-2.396A.25.25 0 0 1 7 5.604v4.792a.25.25 0 0 1-.427.177L4.177 8.177a.25.25 0 0 1 0-.354Z"></path><path d="M0 1.75C0 .784.784 0 1.75 0h12.5C15.216 0 16 .784 16 1.75v12.5A1.75 1.75 0 0 1 14.25 16H1.75A1.75 1.75 0 0 1 0 14.25Zm1.75-.25a.25.25 0 0 0-.25.25v12.5c0 .138.112.25.25.25H9.5v-13Zm12.5 13a.25.25 0 0 0 .25-.25V1.75a.25.25 0 0 0-.25-.25H11v13Z"></path></svg></button></span><button hidden="" data-testid="" data-hotkey-scope="read-only-cursor-text-area"></button></h2><h2 class="Heading__StyledHeading-sc-1c1dgg0-0 imcwCi">Files</h2></div><div class="Box-sc-g0xbh4-0 hVHHYa"><div class="Box-sc-g0xbh4-0 idZfsJ"><button type="button" id="branch-picker-repos-header-ref-selector" aria-haspopup="true" tabindex="0" aria-label="main branch" data-testid="anchor-button" class="types__StyledButton-sc-ws60qy-0 gBsjGI react-repos-tree-pane-ref-selector width-full ref-selector-class"><span data-component="buttonContent" class="Box-sc-g0xbh4-0 kkrdEu"><span data-component="text"><div class="Box-sc-g0xbh4-0 bKgizp"><div class="Box-sc-g0xbh4-0 dIAShY"><svg aria-hidden="true" focusable="false" role="img" class="octicon octicon-git-branch" viewBox="0 0 16 16" width="16" height="16" fill="currentColor" style="display:inline-block;user-select:none;vertical-align:text-bottom;overflow:visible"><path d="M9.5 3.25a2.25 2.25 0 1 1 3 2.122V6A2.5 2.5 0 0 1 10 8.5H6a1 1 0 0 0-1 1v1.128a2.251 2.251 0 1 1-1.5 0V5.372a2.25 2.25 0 1 1 1.5 0v1.836A2.493 2.493 0 0 1 6 7h4a1 1 0 0 0 1-1v-.628A2.25 2.25 0 0 1 9.5 3.25Zm-6 0a.75.75 0 1 0 1.5 0 .75.75 0 0 0-1.5 0Zm8.25-.75a.75.75 0 1 0 0 1.5.75.75 0 0 0 0-1.5ZM4.25 12a.75.75 0 1 0 0 1.5.75.75 0 0 0 0-1.5Z"></path></svg></div><div class="Box-sc-g0xbh4-0 caeYDk ref-selector-button-text-container"><span class="Text-sc-17v1xeu-0 bOMzPg"> <!-- -->main</span></div></div></span><span data-component="trailingVisual" class="Box-sc-g0xbh4-0 trpoQ"><svg aria-hidden="true" focusable="false" role="img" class="octicon octicon-triangle-down" viewBox="0 0 16 16" width="16" height="16" fill="currentColor" style="display:inline-block;user-select:none;vertical-align:text-bottom;overflow:visible"><path d="m4.427 7.427 3.396 3.396a.25.25 0 0 0 .354 0l3.396-3.396A.25.25 0 0 0 11.396 7H4.604a.25.25 0 0 0-.177.427Z"></path></svg></span></span></button><button hidden="" data-hotkey-scope="read-only-cursor-text-area"></button></div><div class="Box-sc-g0xbh4-0 jahcnb"><span role="tooltip" aria-label="Add file" class="Tooltip__TooltipBase-sc-17tf59c-0 izAlVj tooltipped-s"><a sx="[object Object]" data-component="IconButton" type="button" aria-label="Add file" data-no-visuals="true" class="types__StyledButton-sc-ws60qy-0 XJZbf" href="/AlexLaudiano/imersao_python/new/main/Aula_5"><svg aria-hidden="true" focusable="false" role="img" class="octicon octicon-plus" viewBox="0 0 16 16" width="16" height="16" fill="currentColor" style="display:inline-block;user-select:none;vertical-align:text-bottom;overflow:visible"><path d="M7.75 2a.75.75 0 0 1 .75.75V7h4.25a.75.75 0 0 1 0 1.5H8.5v4.25a.75.75 0 0 1-1.5 0V8.5H2.75a.75.75 0 0 1 0-1.5H7V2.75A.75.75 0 0 1 7.75 2Z"></path></svg></a></span><button data-component="IconButton" type="button" aria-label="Search this repository" data-no-visuals="true" class="types__StyledButton-sc-ws60qy-0 cBjhIZ"><svg aria-hidden="true" focusable="false" role="img" class="octicon octicon-search" viewBox="0 0 16 16" width="16" height="16" fill="currentColor" style="display:inline-block;user-select:none;vertical-align:text-bottom;overflow:visible"><path d="M10.68 11.74a6 6 0 0 1-7.922-8.982 6 6 0 0 1 8.982 7.922l3.04 3.04a.749.749 0 0 1-.326 1.275.749.749 0 0 1-.734-.215ZM11.5 7a4.499 4.499 0 1 0-8.997 0A4.499 4.499 0 0 0 11.5 7Z"></path></svg></button><button hidden="" data-testid="" data-hotkey-scope="read-only-cursor-text-area"></button></div></div></div><div class="Box-sc-g0xbh4-0 ccToMy"><span class="TextInputWrapper__TextInputBaseWrapper-sc-1mqhpbi-0 TextInputWrapper-sc-1mqhpbi-1 kbCZWh jxgrJS TextInput-wrapper" aria-busy="false"><span class="TextInput-icon"><svg aria-hidden="true" focusable="false" role="img" class="octicon octicon-search" viewBox="0 0 16 16" width="16" height="16" fill="currentColor" style="display:inline-block;user-select:none;vertical-align:text-bottom;overflow:visible"><path d="M10.68 11.74a6 6 0 0 1-7.922-8.982 6 6 0 0 1 8.982 7.922l3.04 3.04a.749.749 0 0 1-.326 1.275.749.749 0 0 1-.734-.215ZM11.5 7a4.499 4.499 0 1 0-8.997 0A4.499 4.499 0 0 0 11.5 7Z"></path></svg></span><input type="text" aria-label="Go to file" role="combobox" aria-controls="file-results-list" aria-expanded="false" aria-haspopup="dialog" autoCorrect="off" spellcheck="false" placeholder="Go to file" data-component="input" class="UnstyledTextInput-sc-14ypya-0 cDLBls" value=""/><span class="TextInput-icon"><div class="Box-sc-g0xbh4-0 cNvKlH"><kbd>t</kbd></div></span></span></div><button hidden="" data-testid="" data-hotkey-scope="read-only-cursor-text-area"></button><button hidden=""></button><div class="Box-sc-g0xbh4-0 cLfAnm"><div class="react-tree-show-tree-items"><div data-testid="repos-file-tree-container" class="Box-sc-g0xbh4-0 erWCJP"><nav aria-label="File Tree Navigation"><span role="status" aria-live="polite" aria-atomic="true" class="_VisuallyHidden__VisuallyHidden-sc-11jhm7a-0 rTZSs"></span><ul role="tree" aria-label="Files" class="TreeView__UlBox-sc-4ex6b6-0 dcpVHE"><li class="PRIVATE_TreeView-item" tabindex="0" id="Aula_1-item" role="treeitem" aria-labelledby=":Rqclmdaj5:" aria-describedby=":Rqclmdaj5H1: :Rqclmdaj5H2:" aria-level="1" aria-expanded="false" aria-selected="false"><div class="PRIVATE_TreeView-item-container" style="--level:1;content-visibility:auto;contain-intrinsic-size:auto 2rem"><div style="grid-area:spacer;display:flex"><div style="width:100%;display:flex"></div></div><div class="PRIVATE_TreeView-item-toggle PRIVATE_TreeView-item-toggle--hover PRIVATE_TreeView-item-toggle--end"><svg aria-hidden="true" focusable="false" role="img" class="octicon octicon-chevron-right" viewBox="0 0 12 12" width="12" height="12" fill="currentColor" style="display:inline-block;user-select:none;vertical-align:text-bottom;overflow:visible"><path d="M4.7 10c-.2 0-.4-.1-.5-.2-.3-.3-.3-.8 0-1.1L6.9 6 4.2 3.3c-.3-.3-.3-.8 0-1.1.3-.3.8-.3 1.1 0l3.3 3.2c.3.3.3.8 0 1.1L5.3 9.7c-.2.2-.4.3-.6.3Z"></path></svg></div><div id=":Rqclmdaj5:" class="PRIVATE_TreeView-item-content"><div class="PRIVATE_VisuallyHidden" aria-hidden="true" id=":Rqclmdaj5H1:"></div><div class="PRIVATE_TreeView-item-visual" aria-hidden="true"><div class="PRIVATE_TreeView-directory-icon"><svg aria-hidden="true" focusable="false" role="img" class="octicon octicon-file-directory-fill" viewBox="0 0 16 16" width="16" height="16" fill="currentColor" style="display:inline-block;user-select:none;vertical-align:text-bottom;overflow:visible"><path d="M1.75 1A1.75 1.75 0 0 0 0 2.75v10.5C0 14.216.784 15 1.75 15h12.5A1.75 1.75 0 0 0 16 13.25v-8.5A1.75 1.75 0 0 0 14.25 3H7.5a.25.25 0 0 1-.2-.1l-.9-1.2C6.07 1.26 5.55 1 5 1H1.75Z"></path></svg></div></div><span class="PRIVATE_TreeView-item-content-text"><span>Aula_1</span></span></div></div></li><li class="PRIVATE_TreeView-item" tabindex="0" id="Aula_2-item" role="treeitem" aria-labelledby=":R1aclmdaj5:" aria-describedby=":R1aclmdaj5H1: :R1aclmdaj5H2:" aria-level="1" aria-expanded="false" aria-selected="false"><div class="PRIVATE_TreeView-item-container" style="--level:1;content-visibility:auto;contain-intrinsic-size:auto 2rem"><div style="grid-area:spacer;display:flex"><div style="width:100%;display:flex"></div></div><div class="PRIVATE_TreeView-item-toggle PRIVATE_TreeView-item-toggle--hover PRIVATE_TreeView-item-toggle--end"><svg aria-hidden="true" focusable="false" role="img" class="octicon octicon-chevron-right" viewBox="0 0 12 12" width="12" height="12" fill="currentColor" style="display:inline-block;user-select:none;vertical-align:text-bottom;overflow:visible"><path d="M4.7 10c-.2 0-.4-.1-.5-.2-.3-.3-.3-.8 0-1.1L6.9 6 4.2 3.3c-.3-.3-.3-.8 0-1.1.3-.3.8-.3 1.1 0l3.3 3.2c.3.3.3.8 0 1.1L5.3 9.7c-.2.2-.4.3-.6.3Z"></path></svg></div><div id=":R1aclmdaj5:" class="PRIVATE_TreeView-item-content"><div class="PRIVATE_VisuallyHidden" aria-hidden="true" id=":R1aclmdaj5H1:"></div><div class="PRIVATE_TreeView-item-visual" aria-hidden="true"><div class="PRIVATE_TreeView-directory-icon"><svg aria-hidden="true" focusable="false" role="img" class="octicon octicon-file-directory-fill" viewBox="0 0 16 16" width="16" height="16" fill="currentColor" style="display:inline-block;user-select:none;vertical-align:text-bottom;overflow:visible"><path d="M1.75 1A1.75 1.75 0 0 0 0 2.75v10.5C0 14.216.784 15 1.75 15h12.5A1.75 1.75 0 0 0 16 13.25v-8.5A1.75 1.75 0 0 0 14.25 3H7.5a.25.25 0 0 1-.2-.1l-.9-1.2C6.07 1.26 5.55 1 5 1H1.75Z"></path></svg></div></div><span class="PRIVATE_TreeView-item-content-text"><span>Aula_2</span></span></div></div></li><li class="PRIVATE_TreeView-item" tabindex="0" id="Aula_3-item" role="treeitem" aria-labelledby=":R1qclmdaj5:" aria-describedby=":R1qclmdaj5H1: :R1qclmdaj5H2:" aria-level="1" aria-expanded="false" aria-selected="false"><div class="PRIVATE_TreeView-item-container" style="--level:1;content-visibility:auto;contain-intrinsic-size:auto 2rem"><div style="grid-area:spacer;display:flex"><div style="width:100%;display:flex"></div></div><div class="PRIVATE_TreeView-item-toggle PRIVATE_TreeView-item-toggle--hover PRIVATE_TreeView-item-toggle--end"><svg aria-hidden="true" focusable="false" role="img" class="octicon octicon-chevron-right" viewBox="0 0 12 12" width="12" height="12" fill="currentColor" style="display:inline-block;user-select:none;vertical-align:text-bottom;overflow:visible"><path d="M4.7 10c-.2 0-.4-.1-.5-.2-.3-.3-.3-.8 0-1.1L6.9 6 4.2 3.3c-.3-.3-.3-.8 0-1.1.3-.3.8-.3 1.1 0l3.3 3.2c.3.3.3.8 0 1.1L5.3 9.7c-.2.2-.4.3-.6.3Z"></path></svg></div><div id=":R1qclmdaj5:" class="PRIVATE_TreeView-item-content"><div class="PRIVATE_VisuallyHidden" aria-hidden="true" id=":R1qclmdaj5H1:"></div><div class="PRIVATE_TreeView-item-visual" aria-hidden="true"><div class="PRIVATE_TreeView-directory-icon"><svg aria-hidden="true" focusable="false" role="img" class="octicon octicon-file-directory-fill" viewBox="0 0 16 16" width="16" height="16" fill="currentColor" style="display:inline-block;user-select:none;vertical-align:text-bottom;overflow:visible"><path d="M1.75 1A1.75 1.75 0 0 0 0 2.75v10.5C0 14.216.784 15 1.75 15h12.5A1.75 1.75 0 0 0 16 13.25v-8.5A1.75 1.75 0 0 0 14.25 3H7.5a.25.25 0 0 1-.2-.1l-.9-1.2C6.07 1.26 5.55 1 5 1H1.75Z"></path></svg></div></div><span class="PRIVATE_TreeView-item-content-text"><span>Aula_3</span></span></div></div></li><li class="PRIVATE_TreeView-item" tabindex="0" id="Aula_4-item" role="treeitem" aria-labelledby=":R2aclmdaj5:" aria-describedby=":R2aclmdaj5H1: :R2aclmdaj5H2:" aria-level="1" aria-expanded="false" aria-selected="false"><div class="PRIVATE_TreeView-item-container" style="--level:1;content-visibility:auto;contain-intrinsic-size:auto 2rem"><div style="grid-area:spacer;display:flex"><div style="width:100%;display:flex"></div></div><div class="PRIVATE_TreeView-item-toggle PRIVATE_TreeView-item-toggle--hover PRIVATE_TreeView-item-toggle--end"><svg aria-hidden="true" focusable="false" role="img" class="octicon octicon-chevron-right" viewBox="0 0 12 12" width="12" height="12" fill="currentColor" style="display:inline-block;user-select:none;vertical-align:text-bottom;overflow:visible"><path d="M4.7 10c-.2 0-.4-.1-.5-.2-.3-.3-.3-.8 0-1.1L6.9 6 4.2 3.3c-.3-.3-.3-.8 0-1.1.3-.3.8-.3 1.1 0l3.3 3.2c.3.3.3.8 0 1.1L5.3 9.7c-.2.2-.4.3-.6.3Z"></path></svg></div><div id=":R2aclmdaj5:" class="PRIVATE_TreeView-item-content"><div class="PRIVATE_VisuallyHidden" aria-hidden="true" id=":R2aclmdaj5H1:"></div><div class="PRIVATE_TreeView-item-visual" aria-hidden="true"><div class="PRIVATE_TreeView-directory-icon"><svg aria-hidden="true" focusable="false" role="img" class="octicon octicon-file-directory-fill" viewBox="0 0 16 16" width="16" height="16" fill="currentColor" style="display:inline-block;user-select:none;vertical-align:text-bottom;overflow:visible"><path d="M1.75 1A1.75 1.75 0 0 0 0 2.75v10.5C0 14.216.784 15 1.75 15h12.5A1.75 1.75 0 0 0 16 13.25v-8.5A1.75 1.75 0 0 0 14.25 3H7.5a.25.25 0 0 1-.2-.1l-.9-1.2C6.07 1.26 5.55 1 5 1H1.75Z"></path></svg></div></div><span class="PRIVATE_TreeView-item-content-text"><span>Aula_4</span></span></div></div></li><li class="PRIVATE_TreeView-item" tabindex="0" id="Aula_5-item" role="treeitem" aria-labelledby=":R2qclmdaj5:" aria-describedby=":R2qclmdaj5H1: :R2qclmdaj5H2:" aria-level="1" aria-expanded="true" aria-selected="false"><div class="PRIVATE_TreeView-item-container" style="--level:1;content-visibility:auto;contain-intrinsic-size:auto 2rem"><div style="grid-area:spacer;display:flex"><div style="width:100%;display:flex"></div></div><div class="PRIVATE_TreeView-item-toggle PRIVATE_TreeView-item-toggle--hover PRIVATE_TreeView-item-toggle--end"><svg aria-hidden="true" focusable="false" role="img" class="octicon octicon-chevron-down" viewBox="0 0 12 12" width="12" height="12" fill="currentColor" style="display:inline-block;user-select:none;vertical-align:text-bottom;overflow:visible"><path d="M6 8.825c-.2 0-.4-.1-.5-.2l-3.3-3.3c-.3-.3-.3-.8 0-1.1.3-.3.8-.3 1.1 0l2.7 2.7 2.7-2.7c.3-.3.8-.3 1.1 0 .3.3.3.8 0 1.1l-3.2 3.2c-.2.2-.4.3-.6.3Z"></path></svg></div><div id=":R2qclmdaj5:" class="PRIVATE_TreeView-item-content"><div class="PRIVATE_VisuallyHidden" aria-hidden="true" id=":R2qclmdaj5H1:"></div><div class="PRIVATE_TreeView-item-visual" aria-hidden="true"><div class="PRIVATE_TreeView-directory-icon"><svg aria-hidden="true" focusable="false" role="img" class="octicon octicon-file-directory-open-fill" viewBox="0 0 16 16" width="16" height="16" fill="currentColor" style="display:inline-block;user-select:none;vertical-align:text-bottom;overflow:visible"><path d="M.513 1.513A1.75 1.75 0 0 1 1.75 1h3.5c.55 0 1.07.26 1.4.7l.9 1.2a.25.25 0 0 0 .2.1H13a1 1 0 0 1 1 1v.5H2.75a.75.75 0 0 0 0 1.5h11.978a1 1 0 0 1 .994 1.117L15 13.25A1.75 1.75 0 0 1 13.25 15H1.75A1.75 1.75 0 0 1 0 13.25V2.75c0-.464.184-.91.513-1.237Z"></path></svg></div></div><span class="PRIVATE_TreeView-item-content-text"><span>Aula_5</span></span></div></div><ul role="group" style="list-style:none;padding:0;margin:0"><li class="PRIVATE_TreeView-item" tabindex="0" id="Aula_5/Imersão_Python_Aula_5.ipynb-item" role="treeitem" aria-labelledby=":R5mqclmdaj5:" aria-describedby=":R5mqclmdaj5H1: :R5mqclmdaj5H2:" aria-level="2" aria-current="true" aria-selected="false"><div class="PRIVATE_TreeView-item-container" style="--level:2"><div style="grid-area:spacer;display:flex"><div style="width:100%;display:flex"><div class="PRIVATE_TreeView-item-level-line"></div></div></div><div id=":R5mqclmdaj5:" class="PRIVATE_TreeView-item-content"><div class="PRIVATE_VisuallyHidden" aria-hidden="true" id=":R5mqclmdaj5H1:"></div><div class="PRIVATE_TreeView-item-visual" aria-hidden="true"><svg aria-hidden="true" focusable="false" role="img" class="octicon octicon-file" viewBox="0 0 16 16" width="16" height="16" fill="currentColor" style="display:inline-block;user-select:none;vertical-align:text-bottom;overflow:visible"><path d="M2 1.75C2 .784 2.784 0 3.75 0h6.586c.464 0 .909.184 1.237.513l2.914 2.914c.329.328.513.773.513 1.237v9.586A1.75 1.75 0 0 1 13.25 16h-9.5A1.75 1.75 0 0 1 2 14.25Zm1.75-.25a.25.25 0 0 0-.25.25v12.5c0 .138.112.25.25.25h9.5a.25.25 0 0 0 .25-.25V6h-2.75A1.75 1.75 0 0 1 9 4.25V1.5Zm6.75.062V4.25c0 .138.112.25.25.25h2.688l-.011-.013-2.914-2.914-.013-.011Z"></path></svg></div><span class="PRIVATE_TreeView-item-content-text"><span>Imersão_Python_Aula_5.ipynb</span></span></div></div></li><li class="PRIVATE_TreeView-item" tabindex="0" id="Aula_5/README.md-item" role="treeitem" aria-labelledby=":R9mqclmdaj5:" aria-describedby=":R9mqclmdaj5H1: :R9mqclmdaj5H2:" aria-level="2" aria-selected="false"><div class="PRIVATE_TreeView-item-container" style="--level:2;content-visibility:auto;contain-intrinsic-size:auto 2rem"><div style="grid-area:spacer;display:flex"><div style="width:100%;display:flex"><div class="PRIVATE_TreeView-item-level-line"></div></div></div><div id=":R9mqclmdaj5:" class="PRIVATE_TreeView-item-content"><div class="PRIVATE_VisuallyHidden" aria-hidden="true" id=":R9mqclmdaj5H1:"></div><div class="PRIVATE_TreeView-item-visual" aria-hidden="true"><svg aria-hidden="true" focusable="false" role="img" class="octicon octicon-file" viewBox="0 0 16 16" width="16" height="16" fill="currentColor" style="display:inline-block;user-select:none;vertical-align:text-bottom;overflow:visible"><path d="M2 1.75C2 .784 2.784 0 3.75 0h6.586c.464 0 .909.184 1.237.513l2.914 2.914c.329.328.513.773.513 1.237v9.586A1.75 1.75 0 0 1 13.25 16h-9.5A1.75 1.75 0 0 1 2 14.25Zm1.75-.25a.25.25 0 0 0-.25.25v12.5c0 .138.112.25.25.25h9.5a.25.25 0 0 0 .25-.25V6h-2.75A1.75 1.75 0 0 1 9 4.25V1.5Zm6.75.062V4.25c0 .138.112.25.25.25h2.688l-.011-.013-2.914-2.914-.013-.011Z"></path></svg></div><span class="PRIVATE_TreeView-item-content-text"><span>README.md</span></span></div></div></li></ul></li><li class="PRIVATE_TreeView-item" tabindex="0" id="README.md-item" role="treeitem" aria-labelledby=":R3aclmdaj5:" aria-describedby=":R3aclmdaj5H1: :R3aclmdaj5H2:" aria-level="1" aria-selected="false"><div class="PRIVATE_TreeView-item-container" style="--level:1;content-visibility:auto;contain-intrinsic-size:auto 2rem"><div style="grid-area:spacer;display:flex"><div style="width:100%;display:flex"></div></div><div id=":R3aclmdaj5:" class="PRIVATE_TreeView-item-content"><div class="PRIVATE_VisuallyHidden" aria-hidden="true" id=":R3aclmdaj5H1:"></div><div class="PRIVATE_TreeView-item-visual" aria-hidden="true"><svg aria-hidden="true" focusable="false" role="img" class="octicon octicon-file" viewBox="0 0 16 16" width="16" height="16" fill="currentColor" style="display:inline-block;user-select:none;vertical-align:text-bottom;overflow:visible"><path d="M2 1.75C2 .784 2.784 0 3.75 0h6.586c.464 0 .909.184 1.237.513l2.914 2.914c.329.328.513.773.513 1.237v9.586A1.75 1.75 0 0 1 13.25 16h-9.5A1.75 1.75 0 0 1 2 14.25Zm1.75-.25a.25.25 0 0 0-.25.25v12.5c0 .138.112.25.25.25h9.5a.25.25 0 0 0 .25-.25V6h-2.75A1.75 1.75 0 0 1 9 4.25V1.5Zm6.75.062V4.25c0 .138.112.25.25.25h2.688l-.011-.013-2.914-2.914-.013-.011Z"></path></svg></div><span class="PRIVATE_TreeView-item-content-text"><span>README.md</span></span></div></div></li></ul></nav></div></div></div></div></div></div><div class="Box-sc-g0xbh4-0 hAeDYA"><div role="slider" aria-label="Draggable pane splitter" aria-valuemin="0" aria-valuemax="0" aria-valuenow="0" aria-valuetext="Pane width 0 pixels" tabindex="0" class="Box-sc-g0xbh4-0 gZHqlw"></div></div></div></div><div class="Box-sc-g0xbh4-0 emFMJu"><div class="Box-sc-g0xbh4-0"></div><div class="Box-sc-g0xbh4-0 hlUAHL"><div data-selector="repos-split-pane-content" tabindex="0" class="Box-sc-g0xbh4-0 iStsmI"><div class="Box-sc-g0xbh4-0 eIgvIk"><div class="Box-sc-g0xbh4-0 eVFfWF container"><div class="px-3 pt-3 pb-0" id="StickyHeader"><div class="Box-sc-g0xbh4-0 fywjmm"><div class="Box-sc-g0xbh4-0 dyczTK"><div class="Box-sc-g0xbh4-0 kszRgZ"><div class="Box-sc-g0xbh4-0 eTvGbF"><nav data-testid="breadcrumbs" aria-labelledby="repos-header-breadcrumb--wide-heading" id="repos-header-breadcrumb--wide" class="Box-sc-g0xbh4-0 kzRgrI"><h2 class="Heading__StyledHeading-sc-1c1dgg0-0 cgQnMS sr-only" data-testid="screen-reader-heading" id="repos-header-breadcrumb--wide-heading">Breadcrumbs</h2><ol class="Box-sc-g0xbh4-0 cmAPIB"><li class="Box-sc-g0xbh4-0 jwXCBK"><a sx="[object Object]" data-testid="breadcrumbs-repo-link" class="Link__StyledLink-sc-14289xe-0 dpowyu" href="/AlexLaudiano/imersao_python/tree/main">imersao_python</a></li><li class="Box-sc-g0xbh4-0 jwXCBK"><span aria-hidden="true" class="Text-sc-17v1xeu-0 ePvrxx">/</span><a sx="[object Object]" class="Link__StyledLink-sc-14289xe-0 csCkZA" href="/AlexLaudiano/imersao_python/tree/main/Aula_5">Aula_5</a></li></ol></nav><div data-testid="breadcrumbs-filename" class="Box-sc-g0xbh4-0 jwXCBK"><span aria-hidden="true" class="Text-sc-17v1xeu-0 ePvrxx">/</span><h1 tabindex="-1" id="file-name-id-wide" class="Heading__StyledHeading-sc-1c1dgg0-0 diwsLq">Imersão_Python_Aula_5.ipynb</h1></div><button data-component="IconButton" type="button" aria-label="Copy path" data-testid="breadcrumb-copy-path-button" data-size="small" data-no-visuals="true" class="types__StyledButton-sc-ws60qy-0 IIGly"><svg aria-hidden="true" focusable="false" role="img" class="octicon octicon-copy" viewBox="0 0 16 16" width="16" height="16" fill="currentColor" style="display:inline-block;user-select:none;vertical-align:text-bottom;overflow:visible"><path d="M0 6.75C0 5.784.784 5 1.75 5h1.5a.75.75 0 0 1 0 1.5h-1.5a.25.25 0 0 0-.25.25v7.5c0 .138.112.25.25.25h7.5a.25.25 0 0 0 .25-.25v-1.5a.75.75 0 0 1 1.5 0v1.5A1.75 1.75 0 0 1 9.25 16h-7.5A1.75 1.75 0 0 1 0 14.25Z"></path><path d="M5 1.75C5 .784 5.784 0 6.75 0h7.5C15.216 0 16 .784 16 1.75v7.5A1.75 1.75 0 0 1 14.25 11h-7.5A1.75 1.75 0 0 1 5 9.25Zm1.75-.25a.25.25 0 0 0-.25.25v7.5c0 .138.112.25.25.25h7.5a.25.25 0 0 0 .25-.25v-7.5a.25.25 0 0 0-.25-.25Z"></path></svg></button></div></div><div class="react-code-view-header-element--wide"><div class="Box-sc-g0xbh4-0 gtBUEp"><div class="d-flex gap-2"> <button type="button" data-no-visuals="true" class="types__StyledButton-sc-ws60qy-0 fXsbsD"><span data-component="buttonContent" class="Box-sc-g0xbh4-0 kkrdEu"><span data-component="text">Blame</span></span></button><button hidden="" data-testid="" data-hotkey-scope="read-only-cursor-text-area"></button><button data-component="IconButton" type="button" aria-label="More file actions" class="types__StyledButton-sc-ws60qy-0 hiXxwe js-blob-dropdown-click" title="More file actions" data-testid="more-file-actions-button-nav-menu-wide" id=":R99jadaj5:" aria-haspopup="true" tabindex="0" data-no-visuals="true"><svg aria-hidden="true" focusable="false" role="img" class="octicon octicon-kebab-horizontal" viewBox="0 0 16 16" width="16" height="16" fill="currentColor" style="display:inline-block;user-select:none;vertical-align:text-bottom;overflow:visible"><path d="M8 9a1.5 1.5 0 1 0 0-3 1.5 1.5 0 0 0 0 3ZM1.5 9a1.5 1.5 0 1 0 0-3 1.5 1.5 0 0 0 0 3Zm13 0a1.5 1.5 0 1 0 0-3 1.5 1.5 0 0 0 0 3Z"></path></svg></button> </div></div></div><div class="react-code-view-header-element--narrow"><div class="Box-sc-g0xbh4-0 gtBUEp"><div class="d-flex gap-2"> <button type="button" data-no-visuals="true" class="types__StyledButton-sc-ws60qy-0 fXsbsD"><span data-component="buttonContent" class="Box-sc-g0xbh4-0 kkrdEu"><span data-component="text">Blame</span></span></button><button hidden="" data-testid="" data-hotkey-scope="read-only-cursor-text-area"></button><button data-component="IconButton" type="button" aria-label="More file actions" class="types__StyledButton-sc-ws60qy-0 hiXxwe js-blob-dropdown-click" title="More file actions" data-testid="more-file-actions-button-nav-menu-narrow" id=":R99radaj5:" aria-haspopup="true" tabindex="0" data-no-visuals="true"><svg aria-hidden="true" focusable="false" role="img" class="octicon octicon-kebab-horizontal" viewBox="0 0 16 16" width="16" height="16" fill="currentColor" style="display:inline-block;user-select:none;vertical-align:text-bottom;overflow:visible"><path d="M8 9a1.5 1.5 0 1 0 0-3 1.5 1.5 0 0 0 0 3ZM1.5 9a1.5 1.5 0 1 0 0-3 1.5 1.5 0 0 0 0 3Zm13 0a1.5 1.5 0 1 0 0-3 1.5 1.5 0 0 0 0 3Z"></path></svg></button> </div></div></div></div></div></div></div></div><div class="Box-sc-g0xbh4-0 hVZtwF react-code-view-bottom-padding"> <div class="Box-sc-g0xbh4-0 cMYnca"></div> <!-- --> <!-- --> </div><div class="Box-sc-g0xbh4-0 hVZtwF"> <!-- --> <!-- --> <div class="Box-sc-g0xbh4-0 dPsqPZ"><div class="Box-sc-g0xbh4-0 eYedVD"><h2 class="Heading__StyledHeading-sc-1c1dgg0-0 cgQnMS sr-only" data-testid="screen-reader-heading">Latest commit</h2><div style="width:120px" class="Skeleton Skeleton--text" data-testid="loading"> </div><div data-testid="latest-commit-details" class="Box-sc-g0xbh4-0 lhFvfi"></div><div class="Box-sc-g0xbh4-0 jGfYmh"><h2 class="Heading__StyledHeading-sc-1c1dgg0-0 cgQnMS sr-only" data-testid="screen-reader-heading">History</h2><a class="types__StyledButton-sc-ws60qy-0 saA-Dg react-last-commit-history-group" href="/AlexLaudiano/imersao_python/commits/main/Aula_5/Imers%C3%A3o_Python_Aula_5.ipynb" data-size="small"><span data-component="buttonContent" class="Box-sc-g0xbh4-0 kkrdEu"><span data-component="leadingVisual" class="Box-sc-g0xbh4-0 trpoQ"><svg aria-hidden="true" focusable="false" role="img" class="octicon octicon-history" viewBox="0 0 16 16" width="16" height="16" fill="currentColor" style="display:inline-block;user-select:none;vertical-align:text-bottom;overflow:visible"><path d="m.427 1.927 1.215 1.215a8.002 8.002 0 1 1-1.6 5.685.75.75 0 1 1 1.493-.154 6.5 6.5 0 1 0 1.18-4.458l1.358 1.358A.25.25 0 0 1 3.896 6H.25A.25.25 0 0 1 0 5.75V2.104a.25.25 0 0 1 .427-.177ZM7.75 4a.75.75 0 0 1 .75.75v2.992l2.028.812a.75.75 0 0 1-.557 1.392l-2.5-1A.751.751 0 0 1 7 8.25v-3.5A.75.75 0 0 1 7.75 4Z"></path></svg></span><span data-component="text"><span class="Text-sc-17v1xeu-0 UrHoN">History</span></span></span></a><div class="Box-sc-g0xbh4-0 bqgLjk"></div><span role="tooltip" aria-label="Commit history" class="Tooltip__TooltipBase-sc-17tf59c-0 izAlVj tooltipped-n"><a class="types__StyledButton-sc-ws60qy-0 saA-Dg react-last-commit-history-icon" href="/AlexLaudiano/imersao_python/commits/main/Aula_5/Imers%C3%A3o_Python_Aula_5.ipynb"><span data-component="buttonContent" class="Box-sc-g0xbh4-0 kkrdEu"><span data-component="leadingVisual" class="Box-sc-g0xbh4-0 trpoQ"><svg aria-hidden="true" focusable="false" role="img" class="octicon octicon-history" viewBox="0 0 16 16" width="16" height="16" fill="currentColor" style="display:inline-block;user-select:none;vertical-align:text-bottom;overflow:visible"><path d="m.427 1.927 1.215 1.215a8.002 8.002 0 1 1-1.6 5.685.75.75 0 1 1 1.493-.154 6.5 6.5 0 1 0 1.18-4.458l1.358 1.358A.25.25 0 0 1 3.896 6H.25A.25.25 0 0 1 0 5.75V2.104a.25.25 0 0 1 .427-.177ZM7.75 4a.75.75 0 0 1 .75.75v2.992l2.028.812a.75.75 0 0 1-.557 1.392l-2.5-1A.751.751 0 0 1 7 8.25v-3.5A.75.75 0 0 1 7.75 4Z"></path></svg></span></span></a></span></div></div></div><div class="Box-sc-g0xbh4-0 iJmJly"><div class="Box-sc-g0xbh4-0 jACbi container"><div class="Box-sc-g0xbh4-0 gIJuDf react-code-size-details-banner"><div class="Box-sc-g0xbh4-0 fleZSW react-code-size-details-banner"><div class="Box-sc-g0xbh4-0 dVVHlo text-mono"><div title="140 KB" data-testid="blob-size" class="Truncate__StyledTruncate-sc-23o1d2-0 fUpWeN"><span class="Text-sc-17v1xeu-0 gPDEWA">232 lines (232 loc) · 140 KB</span></div></div></div><div class="Box-sc-g0xbh4-0 react-code-size-details-banner"><button style="--button-color:fg.default" type="button" id=":R9faladaj5:" aria-haspopup="true" tabindex="0" data-testid="copilot-popover-button" data-size="small" class="types__StyledButton-sc-ws60qy-0 hhunph"><span data-component="buttonContent" class="Box-sc-g0xbh4-0 kkrdEu"><span data-component="leadingVisual" class="Box-sc-g0xbh4-0 trpoQ"><svg aria-hidden="true" focusable="false" role="img" class="octicon octicon-copilot" viewBox="0 0 16 16" width="16" height="16" fill="currentColor" style="display:inline-block;user-select:none;vertical-align:text-bottom;overflow:visible"><path d="M7.998 15.035c-4.562 0-7.873-2.914-7.998-3.749V9.338c.085-.628.677-1.686 1.588-2.065.013-.07.024-.143.036-.218.029-.183.06-.384.126-.612-.201-.508-.254-1.084-.254-1.656 0-.87.128-1.769.693-2.484.579-.733 1.494-1.124 2.724-1.261 1.206-.134 2.262.034 2.944.765.05.053.096.108.139.165.044-.057.094-.112.143-.165.682-.731 1.738-.899 2.944-.765 1.23.137 2.145.528 2.724 1.261.566.715.693 1.614.693 2.484 0 .572-.053 1.148-.254 1.656.066.228.098.429.126.612.012.076.024.148.037.218.924.385 1.522 1.471 1.591 2.095v1.872c0 .766-3.351 3.795-8.002 3.795Zm0-1.485c2.28 0 4.584-1.11 5.002-1.433V7.862l-.023-.116c-.49.21-1.075.291-1.727.291-1.146 0-2.059-.327-2.71-.991A3.222 3.222 0 0 1 8 6.303a3.24 3.24 0 0 1-.544.743c-.65.664-1.563.991-2.71.991-.652 0-1.236-.081-1.727-.291l-.023.116v4.255c.419.323 2.722 1.433 5.002 1.433ZM6.762 2.83c-.193-.206-.637-.413-1.682-.297-1.019.113-1.479.404-1.713.7-.247.312-.369.789-.369 1.554 0 .793.129 1.171.308 1.371.162.181.519.379 1.442.379.853 0 1.339-.235 1.638-.54.315-.322.527-.827.617-1.553.117-.935-.037-1.395-.241-1.614Zm4.155-.297c-1.044-.116-1.488.091-1.681.297-.204.219-.359.679-.242 1.614.091.726.303 1.231.618 1.553.299.305.784.54 1.638.54.922 0 1.28-.198 1.442-.379.179-.2.308-.578.308-1.371 0-.765-.123-1.242-.37-1.554-.233-.296-.693-.587-1.713-.7Z"></path><path d="M6.25 9.037a.75.75 0 0 1 .75.75v1.501a.75.75 0 0 1-1.5 0V9.787a.75.75 0 0 1 .75-.75Zm4.25.75v1.501a.75.75 0 0 1-1.5 0V9.787a.75.75 0 0 1 1.5 0Z"></path></svg></span><span data-component="text">Code 55% faster with GitHub Copilot</span></span></button></div></div><div class="Box-sc-g0xbh4-0 VHzRk react-blob-view-header-sticky" id="repos-sticky-header"><div class="Box-sc-g0xbh4-0 ePiodO"><div class="Box-sc-g0xbh4-0 react-blob-sticky-header"><div class="Box-sc-g0xbh4-0 kQJlnf"><div class="Box-sc-g0xbh4-0 gJICKO"><div class="Box-sc-g0xbh4-0 iZJewz"><nav data-testid="breadcrumbs" aria-labelledby="sticky-breadcrumb-heading" id="sticky-breadcrumb" class="Box-sc-g0xbh4-0 kzRgrI"><h2 class="Heading__StyledHeading-sc-1c1dgg0-0 cgQnMS sr-only" data-testid="screen-reader-heading" id="sticky-breadcrumb-heading">Breadcrumbs</h2><ol class="Box-sc-g0xbh4-0 cmAPIB"><li class="Box-sc-g0xbh4-0 jwXCBK"><a sx="[object Object]" data-testid="breadcrumbs-repo-link" class="Link__StyledLink-sc-14289xe-0 dpowyu" href="/AlexLaudiano/imersao_python/tree/main">imersao_python</a></li><li class="Box-sc-g0xbh4-0 jwXCBK"><span aria-hidden="true" class="Text-sc-17v1xeu-0 fQxKLn">/</span><a sx="[object Object]" class="Link__StyledLink-sc-14289xe-0 csCkZA" href="/AlexLaudiano/imersao_python/tree/main/Aula_5">Aula_5</a></li></ol></nav><div data-testid="breadcrumbs-filename" class="Box-sc-g0xbh4-0 jwXCBK"><span aria-hidden="true" class="Text-sc-17v1xeu-0 fQxKLn">/</span><h1 tabindex="-1" id="sticky-file-name-id" class="Heading__StyledHeading-sc-1c1dgg0-0 jAEDJk">Imersão_Python_Aula_5.ipynb</h1></div></div><button style="--button-color:fg.default" type="button" data-size="small" class="types__StyledButton-sc-ws60qy-0 ecGgfP"><span data-component="buttonContent" class="Box-sc-g0xbh4-0 kkrdEu"><span data-component="leadingVisual" class="Box-sc-g0xbh4-0 trpoQ"><svg aria-hidden="true" focusable="false" role="img" class="octicon octicon-arrow-up" viewBox="0 0 16 16" width="16" height="16" fill="currentColor" style="display:inline-block;user-select:none;vertical-align:text-bottom;overflow:visible"><path d="M3.47 7.78a.75.75 0 0 1 0-1.06l4.25-4.25a.75.75 0 0 1 1.06 0l4.25 4.25a.751.751 0 0 1-.018 1.042.751.751 0 0 1-1.042.018L9 4.81v7.44a.75.75 0 0 1-1.5 0V4.81L4.53 7.78a.75.75 0 0 1-1.06 0Z"></path></svg></span><span data-component="text">Top</span></span></button></div></div></div><div class="Box-sc-g0xbh4-0 jtQniD"><h2 class="Heading__StyledHeading-sc-1c1dgg0-0 cgQnMS sr-only" data-testid="screen-reader-heading">File metadata and controls</h2><div class="Box-sc-g0xbh4-0 bfkNRF"><ul aria-label="File view" class="SegmentedControl__SegmentedControlList-sc-1rzig82-0 dlXtLG"><li class="Box-sc-g0xbh4-0 fXBLEV"><button aria-current="true" class="SegmentedControlButton__SegmentedControlButtonStyled-sc-8lkgxl-0 NCWSJ"><span class="segmentedControl-content"><div class="Box-sc-g0xbh4-0 segmentedControl-text">Preview</div></span></button></li><li class="Box-sc-g0xbh4-0 illvPQ"><button aria-current="false" class="SegmentedControlButton__SegmentedControlButtonStyled-sc-8lkgxl-0 lfqhlR"><span class="segmentedControl-content"><div class="Box-sc-g0xbh4-0 segmentedControl-text">Code</div></span></button></li><li class="Box-sc-g0xbh4-0 illvPQ"><button aria-current="false" class="SegmentedControlButton__SegmentedControlButtonStyled-sc-8lkgxl-0 iDBPxb"><span class="segmentedControl-content"><div class="Box-sc-g0xbh4-0 segmentedControl-text">Blame</div></span></button></li></ul><button hidden="" data-testid="" data-hotkey-scope="read-only-cursor-text-area"></button><button hidden="" data-testid="" data-hotkey-scope="read-only-cursor-text-area"></button><button hidden="" data-testid="" data-hotkey-scope="read-only-cursor-text-area"></button><div class="Box-sc-g0xbh4-0 fleZSW react-code-size-details-in-header"><div class="Box-sc-g0xbh4-0 dVVHlo text-mono"><div title="140 KB" data-testid="blob-size" class="Truncate__StyledTruncate-sc-23o1d2-0 fUpWeN"><span class="Text-sc-17v1xeu-0 gPDEWA">232 lines (232 loc) · 140 KB</span></div></div></div><div class="Box-sc-g0xbh4-0 react-code-size-details-in-header"><button style="--button-color:fg.default" type="button" id=":Rt6faladaj5:" aria-haspopup="true" tabindex="0" data-testid="copilot-popover-button" data-size="small" class="types__StyledButton-sc-ws60qy-0 hhunph"><span data-component="buttonContent" class="Box-sc-g0xbh4-0 kkrdEu"><span data-component="leadingVisual" class="Box-sc-g0xbh4-0 trpoQ"><svg aria-hidden="true" focusable="false" role="img" class="octicon octicon-copilot" viewBox="0 0 16 16" width="16" height="16" fill="currentColor" style="display:inline-block;user-select:none;vertical-align:text-bottom;overflow:visible"><path d="M7.998 15.035c-4.562 0-7.873-2.914-7.998-3.749V9.338c.085-.628.677-1.686 1.588-2.065.013-.07.024-.143.036-.218.029-.183.06-.384.126-.612-.201-.508-.254-1.084-.254-1.656 0-.87.128-1.769.693-2.484.579-.733 1.494-1.124 2.724-1.261 1.206-.134 2.262.034 2.944.765.05.053.096.108.139.165.044-.057.094-.112.143-.165.682-.731 1.738-.899 2.944-.765 1.23.137 2.145.528 2.724 1.261.566.715.693 1.614.693 2.484 0 .572-.053 1.148-.254 1.656.066.228.098.429.126.612.012.076.024.148.037.218.924.385 1.522 1.471 1.591 2.095v1.872c0 .766-3.351 3.795-8.002 3.795Zm0-1.485c2.28 0 4.584-1.11 5.002-1.433V7.862l-.023-.116c-.49.21-1.075.291-1.727.291-1.146 0-2.059-.327-2.71-.991A3.222 3.222 0 0 1 8 6.303a3.24 3.24 0 0 1-.544.743c-.65.664-1.563.991-2.71.991-.652 0-1.236-.081-1.727-.291l-.023.116v4.255c.419.323 2.722 1.433 5.002 1.433ZM6.762 2.83c-.193-.206-.637-.413-1.682-.297-1.019.113-1.479.404-1.713.7-.247.312-.369.789-.369 1.554 0 .793.129 1.171.308 1.371.162.181.519.379 1.442.379.853 0 1.339-.235 1.638-.54.315-.322.527-.827.617-1.553.117-.935-.037-1.395-.241-1.614Zm4.155-.297c-1.044-.116-1.488.091-1.681.297-.204.219-.359.679-.242 1.614.091.726.303 1.231.618 1.553.299.305.784.54 1.638.54.922 0 1.28-.198 1.442-.379.179-.2.308-.578.308-1.371 0-.765-.123-1.242-.37-1.554-.233-.296-.693-.587-1.713-.7Z"></path><path d="M6.25 9.037a.75.75 0 0 1 .75.75v1.501a.75.75 0 0 1-1.5 0V9.787a.75.75 0 0 1 .75-.75Zm4.25.75v1.501a.75.75 0 0 1-1.5 0V9.787a.75.75 0 0 1 1.5 0Z"></path></svg></span><span data-component="text">Code 55% faster with GitHub Copilot</span></span></button></div></div><div class="Box-sc-g0xbh4-0 iBylDf"><div class="Box-sc-g0xbh4-0 kSGBPx react-blob-header-edit-and-raw-actions"><div class="ButtonGroup-sc-1gxhls1-0 cjbBGq"><a href="https://github.com/AlexLaudiano/imersao_python/raw/main/Aula_5/Imers%C3%A3o_Python_Aula_5.ipynb" data-testid="raw-button" data-size="small" data-no-visuals="true" class="types__StyledButton-sc-ws60qy-0 dupbIv"><span data-component="buttonContent" class="Box-sc-g0xbh4-0 kkrdEu"><span data-component="text">Raw</span></span></a><button data-component="IconButton" type="button" aria-label="Copy raw content" data-testid="copy-raw-button" data-size="small" data-no-visuals="true" class="types__StyledButton-sc-ws60qy-0 dMUxwi"><svg aria-hidden="true" focusable="false" role="img" class="octicon octicon-copy" viewBox="0 0 16 16" width="16" height="16" fill="currentColor" style="display:inline-block;user-select:none;vertical-align:text-bottom;overflow:visible"><path d="M0 6.75C0 5.784.784 5 1.75 5h1.5a.75.75 0 0 1 0 1.5h-1.5a.25.25 0 0 0-.25.25v7.5c0 .138.112.25.25.25h7.5a.25.25 0 0 0 .25-.25v-1.5a.75.75 0 0 1 1.5 0v1.5A1.75 1.75 0 0 1 9.25 16h-7.5A1.75 1.75 0 0 1 0 14.25Z"></path><path d="M5 1.75C5 .784 5.784 0 6.75 0h7.5C15.216 0 16 .784 16 1.75v7.5A1.75 1.75 0 0 1 14.25 11h-7.5A1.75 1.75 0 0 1 5 9.25Zm1.75-.25a.25.25 0 0 0-.25.25v7.5c0 .138.112.25.25.25h7.5a.25.25 0 0 0 .25-.25v-7.5a.25.25 0 0 0-.25-.25Z"></path></svg></button><span role="tooltip" aria-label="Download raw file" class="Tooltip__TooltipBase-sc-17tf59c-0 izAlVj tooltipped-n"><button data-component="IconButton" type="button" aria-label="Download raw content" data-testid="download-raw-button" data-size="small" data-no-visuals="true" class="types__StyledButton-sc-ws60qy-0 fCIOmi"><svg aria-hidden="true" focusable="false" role="img" class="octicon octicon-download" viewBox="0 0 16 16" width="16" height="16" fill="currentColor" style="display:inline-block;user-select:none;vertical-align:text-bottom;overflow:visible"><path d="M2.75 14A1.75 1.75 0 0 1 1 12.25v-2.5a.75.75 0 0 1 1.5 0v2.5c0 .138.112.25.25.25h10.5a.25.25 0 0 0 .25-.25v-2.5a.75.75 0 0 1 1.5 0v2.5A1.75 1.75 0 0 1 13.25 14Z"></path><path d="M7.25 7.689V2a.75.75 0 0 1 1.5 0v5.689l1.97-1.969a.749.749 0 1 1 1.06 1.06l-3.25 3.25a.749.749 0 0 1-1.06 0L4.22 6.78a.749.749 0 1 1 1.06-1.06l1.97 1.969Z"></path></svg></button></span></div><button hidden="" data-testid="raw-button-shortcut" data-hotkey-scope="read-only-cursor-text-area"></button><button hidden="" data-testid="copy-raw-button-shortcut" data-hotkey-scope="read-only-cursor-text-area"></button><button hidden="" data-testid="download-raw-button-shortcut" data-hotkey-scope="read-only-cursor-text-area"></button><a class="Link__StyledLink-sc-14289xe-0 elltiT js-github-dev-shortcut d-none" href="https://github.dev/"></a><button hidden="" data-testid="" data-hotkey-scope="read-only-cursor-text-area"></button><a class="Link__StyledLink-sc-14289xe-0 elltiT js-github-dev-new-tab-shortcut d-none" href="https://github.dev/" target="_blank"></a><button hidden="" data-testid="" data-hotkey-scope="read-only-cursor-text-area"></button><div class="ButtonGroup-sc-1gxhls1-0 cjbBGq"><span role="tooltip" aria-label="Fork this repository and edit the file" class="Tooltip__TooltipBase-sc-17tf59c-0 izAlVj tooltipped-nw"><a sx="[object Object]" data-component="IconButton" type="button" aria-label="Edit file" data-testid="edit-button" data-size="small" data-no-visuals="true" class="types__StyledButton-sc-ws60qy-0 ksnFc" href="/AlexLaudiano/imersao_python/edit/main/Aula_5/Imers%C3%A3o_Python_Aula_5.ipynb"><svg aria-hidden="true" focusable="false" role="img" class="octicon octicon-pencil" viewBox="0 0 16 16" width="16" height="16" fill="currentColor" style="display:inline-block;user-select:none;vertical-align:text-bottom;overflow:visible"><path d="M11.013 1.427a1.75 1.75 0 0 1 2.474 0l1.086 1.086a1.75 1.75 0 0 1 0 2.474l-8.61 8.61c-.21.21-.47.364-.756.445l-3.251.93a.75.75 0 0 1-.927-.928l.929-3.25c.081-.286.235-.547.445-.758l8.61-8.61Zm.176 4.823L9.75 4.81l-6.286 6.287a.253.253 0 0 0-.064.108l-.558 1.953 1.953-.558a.253.253 0 0 0 .108-.064Zm1.238-3.763a.25.25 0 0 0-.354 0L10.811 3.75l1.439 1.44 1.263-1.263a.25.25 0 0 0 0-.354Z"></path></svg></a></span><button data-component="IconButton" type="button" aria-label="More edit options" data-testid="more-edit-button" id=":R2l76faladaj5:" aria-haspopup="true" tabindex="0" data-size="small" data-no-visuals="true" class="types__StyledButton-sc-ws60qy-0 dMUxwi"><svg aria-hidden="true" focusable="false" role="img" class="octicon octicon-triangle-down" viewBox="0 0 16 16" width="16" height="16" fill="currentColor" style="display:inline-block;user-select:none;vertical-align:text-bottom;overflow:visible"><path d="m4.427 7.427 3.396 3.396a.25.25 0 0 0 .354 0l3.396-3.396A.25.25 0 0 0 11.396 7H4.604a.25.25 0 0 0-.177.427Z"></path></svg></button></div><button hidden="" data-testid="" data-hotkey="e,Shift+E" data-hotkey-scope="read-only-cursor-text-area"></button></div><div class="Box-sc-g0xbh4-0 react-blob-header-edit-and-raw-actions-combined"><button data-component="IconButton" type="button" aria-label="Edit and raw actions" class="types__StyledButton-sc-ws60qy-0 htXhGX js-blob-dropdown-click" title="More file actions" data-testid="more-file-actions-button" id=":R5v6faladaj5:" aria-haspopup="true" tabindex="0" data-size="small" data-no-visuals="true"><svg aria-hidden="true" focusable="false" role="img" class="octicon octicon-kebab-horizontal" viewBox="0 0 16 16" width="16" height="16" fill="currentColor" style="display:inline-block;user-select:none;vertical-align:text-bottom;overflow:visible"><path d="M8 9a1.5 1.5 0 1 0 0-3 1.5 1.5 0 0 0 0 3ZM1.5 9a1.5 1.5 0 1 0 0-3 1.5 1.5 0 0 0 0 3Zm13 0a1.5 1.5 0 1 0 0-3 1.5 1.5 0 0 0 0 3Z"></path></svg></button></div></div></div></div><div></div></div><div class="Box-sc-g0xbh4-0 jMJFjm"><section aria-labelledby="file-name-id-wide file-name-id-mobile" class="Box-sc-g0xbh4-0 eJsjkT"><!--$!--><template></template><div data-testid="suspense-spinner" class="Box-sc-g0xbh4-0 bAzdCq"><svg height="32px" width="32px" viewBox="0 0 16 16" fill="none" aria-label="Loading" class="Spinner__StyledSpinner-sc-1knt686-0 hPEVNM"><circle cx="8" cy="8" r="7" stroke="currentColor" stroke-opacity="0.25" stroke-width="2" vector-effect="non-scaling-stroke"></circle><path d="M15 8a7.002 7.002 0 00-7-7" stroke="currentColor" stroke-width="2" stroke-linecap="round" vector-effect="non-scaling-stroke"></path></svg></div><!--/$--></section></div></div></div> <!-- --> <!-- --> </div></div></div><div class="Box-sc-g0xbh4-0"></div></div></div></div></div><div id="find-result-marks-container" class="Box-sc-g0xbh4-0 aZrVR"></div><button hidden="" data-testid="" data-hotkey-scope="read-only-cursor-text-area"></button><button hidden=""></button></div> <!-- --> <!-- --> <!-- --> <script type="application/json" id="__PRIMER_DATA__">{"resolvedServerColorMode":"night"}</script></div>
</react-app>
</turbo-frame>



  </div>

</turbo-frame>

    </main>
  </div>

  </div>

          <footer class="footer pt-8 pb-6 f6 color-fg-muted p-responsive" role="contentinfo" >
  <h2 class='sr-only'>Footer</h2>

  


  <div class="d-flex flex-justify-center flex-items-center flex-column-reverse flex-lg-row flex-wrap flex-lg-nowrap">
    <div class="d-flex flex-items-center flex-shrink-0 mx-2">
      <a aria-label="Homepage" title="GitHub" class="footer-octicon mr-2" href="https://github.com">
        <svg aria-hidden="true" height="24" viewBox="0 0 16 16" version="1.1" width="24" data-view-component="true" class="octicon octicon-mark-github">
    <path d="M8 0c4.42 0 8 3.58 8 8a8.013 8.013 0 0 1-5.45 7.59c-.4.08-.55-.17-.55-.38 0-.27.01-1.13.01-2.2 0-.75-.25-1.23-.54-1.48 1.78-.2 3.65-.88 3.65-3.95 0-.88-.31-1.59-.82-2.15.08-.2.36-1.02-.08-2.12 0 0-.67-.22-2.2.82-.64-.18-1.32-.27-2-.27-.68 0-1.36.09-2 .27-1.53-1.03-2.2-.82-2.2-.82-.44 1.1-.16 1.92-.08 2.12-.51.56-.82 1.28-.82 2.15 0 3.06 1.86 3.75 3.64 3.95-.23.2-.44.55-.51 1.07-.46.21-1.61.55-2.33-.66-.15-.24-.6-.83-1.23-.82-.67.01-.27.38.01.53.34.19.73.9.82 1.13.16.45.68 1.31 2.69.94 0 .67.01 1.3.01 1.49 0 .21-.15.45-.55.38A7.995 7.995 0 0 1 0 8c0-4.42 3.58-8 8-8Z"></path>
</svg>
</a>
      <span>
        &copy; 2024 GitHub,&nbsp;Inc.
      </span>
    </div>

    <nav aria-label="Footer">
      <h3 class="sr-only" id="sr-footer-heading">Footer navigation</h3>

      <ul class="list-style-none d-flex flex-justify-center flex-wrap mb-2 mb-lg-0" aria-labelledby="sr-footer-heading">

          <li class="mx-2">
            <a data-analytics-event="{&quot;category&quot;:&quot;Footer&quot;,&quot;action&quot;:&quot;go to Terms&quot;,&quot;label&quot;:&quot;text:terms&quot;}" href="https://docs.github.com/site-policy/github-terms/github-terms-of-service" data-view-component="true" class="Link--secondary Link">Terms</a>
          </li>

          <li class="mx-2">
            <a data-analytics-event="{&quot;category&quot;:&quot;Footer&quot;,&quot;action&quot;:&quot;go to privacy&quot;,&quot;label&quot;:&quot;text:privacy&quot;}" href="https://docs.github.com/site-policy/privacy-policies/github-privacy-statement" data-view-component="true" class="Link--secondary Link">Privacy</a>
          </li>

          <li class="mx-2">
            <a data-analytics-event="{&quot;category&quot;:&quot;Footer&quot;,&quot;action&quot;:&quot;go to security&quot;,&quot;label&quot;:&quot;text:security&quot;}" href="/security" data-view-component="true" class="Link--secondary Link">Security</a>
          </li>

          <li class="mx-2">
            <a data-analytics-event="{&quot;category&quot;:&quot;Footer&quot;,&quot;action&quot;:&quot;go to status&quot;,&quot;label&quot;:&quot;text:status&quot;}" href="https://www.githubstatus.com/" data-view-component="true" class="Link--secondary Link">Status</a>
          </li>

          <li class="mx-2">
            <a data-analytics-event="{&quot;category&quot;:&quot;Footer&quot;,&quot;action&quot;:&quot;go to docs&quot;,&quot;label&quot;:&quot;text:docs&quot;}" href="https://docs.github.com/" data-view-component="true" class="Link--secondary Link">Docs</a>
          </li>

          <li class="mx-2">
            <a data-analytics-event="{&quot;category&quot;:&quot;Footer&quot;,&quot;action&quot;:&quot;go to contact&quot;,&quot;label&quot;:&quot;text:contact&quot;}" href="https://support.github.com?tags=dotcom-footer" data-view-component="true" class="Link--secondary Link">Contact</a>
          </li>

          <li class="mr-3" >
  <cookie-consent-link>
    <button type="button" class="Link--secondary underline-on-hover border-0 p-0 color-bg-transparent" data-action="click:cookie-consent-link#showConsentManagement">
      Manage cookies
    </button>
  </cookie-consent-link>
</li>

<li class="mr-3">
  <cookie-consent-link>
    <button type="button" class="Link--secondary underline-on-hover border-0 p-0 color-bg-transparent" data-action="click:cookie-consent-link#showConsentManagement">
      Do not share my personal information
    </button>
  </cookie-consent-link>
</li>

      </ul>
    </nav>
  </div>
</footer>




    <cookie-consent id="cookie-consent-banner" class="position-fixed bottom-0 left-0" style="z-index: 999999" data-initial-cookie-consent-allowed="" data-cookie-consent-required="true"></cookie-consent>


  <div id="ajax-error-message" class="ajax-error-message flash flash-error" hidden>
    <svg aria-hidden="true" height="16" viewBox="0 0 16 16" version="1.1" width="16" data-view-component="true" class="octicon octicon-alert">
    <path d="M6.457 1.047c.659-1.234 2.427-1.234 3.086 0l6.082 11.378A1.75 1.75 0 0 1 14.082 15H1.918a1.75 1.75 0 0 1-1.543-2.575Zm1.763.707a.25.25 0 0 0-.44 0L1.698 13.132a.25.25 0 0 0 .22.368h12.164a.25.25 0 0 0 .22-.368Zm.53 3.996v2.5a.75.75 0 0 1-1.5 0v-2.5a.75.75 0 0 1 1.5 0ZM9 11a1 1 0 1 1-2 0 1 1 0 0 1 2 0Z"></path>
</svg>
    <button type="button" class="flash-close js-ajax-error-dismiss" aria-label="Dismiss error">
      <svg aria-hidden="true" height="16" viewBox="0 0 16 16" version="1.1" width="16" data-view-component="true" class="octicon octicon-x">
    <path d="M3.72 3.72a.75.75 0 0 1 1.06 0L8 6.94l3.22-3.22a.749.749 0 0 1 1.275.326.749.749 0 0 1-.215.734L9.06 8l3.22 3.22a.749.749 0 0 1-.326 1.275.749.749 0 0 1-.734-.215L8 9.06l-3.22 3.22a.751.751 0 0 1-1.042-.018.751.751 0 0 1-.018-1.042L6.94 8 3.72 4.78a.75.75 0 0 1 0-1.06Z"></path>
</svg>
    </button>
    You can’t perform that action at this time.
  </div>

    <template id="site-details-dialog">
  <details class="details-reset details-overlay details-overlay-dark lh-default color-fg-default hx_rsm" open>
    <summary role="button" aria-label="Close dialog"></summary>
    <details-dialog class="Box Box--overlay d-flex flex-column anim-fade-in fast hx_rsm-dialog hx_rsm-modal">
      <button class="Box-btn-octicon m-0 btn-octicon position-absolute right-0 top-0" type="button" aria-label="Close dialog" data-close-dialog>
        <svg aria-hidden="true" height="16" viewBox="0 0 16 16" version="1.1" width="16" data-view-component="true" class="octicon octicon-x">
    <path d="M3.72 3.72a.75.75 0 0 1 1.06 0L8 6.94l3.22-3.22a.749.749 0 0 1 1.275.326.749.749 0 0 1-.215.734L9.06 8l3.22 3.22a.749.749 0 0 1-.326 1.275.749.749 0 0 1-.734-.215L8 9.06l-3.22 3.22a.751.751 0 0 1-1.042-.018.751.751 0 0 1-.018-1.042L6.94 8 3.72 4.78a.75.75 0 0 1 0-1.06Z"></path>
</svg>
      </button>
      <div class="octocat-spinner my-6 js-details-dialog-spinner"></div>
    </details-dialog>
  </details>
</template>

    <div class="Popover js-hovercard-content position-absolute" style="display: none; outline: none;" tabindex="0">
  <div class="Popover-message Popover-message--bottom-left Popover-message--large Box color-shadow-large" style="width:360px;">
  </div>
</div>

    <template id="snippet-clipboard-copy-button">
  <div class="zeroclipboard-container position-absolute right-0 top-0">
    <clipboard-copy aria-label="Copy" class="ClipboardButton btn js-clipboard-copy m-2 p-0 tooltipped-no-delay" data-copy-feedback="Copied!" data-tooltip-direction="w">
      <svg aria-hidden="true" height="16" viewBox="0 0 16 16" version="1.1" width="16" data-view-component="true" class="octicon octicon-copy js-clipboard-copy-icon m-2">
    <path d="M0 6.75C0 5.784.784 5 1.75 5h1.5a.75.75 0 0 1 0 1.5h-1.5a.25.25 0 0 0-.25.25v7.5c0 .138.112.25.25.25h7.5a.25.25 0 0 0 .25-.25v-1.5a.75.75 0 0 1 1.5 0v1.5A1.75 1.75 0 0 1 9.25 16h-7.5A1.75 1.75 0 0 1 0 14.25Z"></path><path d="M5 1.75C5 .784 5.784 0 6.75 0h7.5C15.216 0 16 .784 16 1.75v7.5A1.75 1.75 0 0 1 14.25 11h-7.5A1.75 1.75 0 0 1 5 9.25Zm1.75-.25a.25.25 0 0 0-.25.25v7.5c0 .138.112.25.25.25h7.5a.25.25 0 0 0 .25-.25v-7.5a.25.25 0 0 0-.25-.25Z"></path>
</svg>
      <svg aria-hidden="true" height="16" viewBox="0 0 16 16" version="1.1" width="16" data-view-component="true" class="octicon octicon-check js-clipboard-check-icon color-fg-success d-none m-2">
    <path d="M13.78 4.22a.75.75 0 0 1 0 1.06l-7.25 7.25a.75.75 0 0 1-1.06 0L2.22 9.28a.751.751 0 0 1 .018-1.042.751.751 0 0 1 1.042-.018L6 10.94l6.72-6.72a.75.75 0 0 1 1.06 0Z"></path>
</svg>
    </clipboard-copy>
  </div>
</template>
<template id="snippet-clipboard-copy-button-unpositioned">
  <div class="zeroclipboard-container">
    <clipboard-copy aria-label="Copy" class="ClipboardButton btn btn-invisible js-clipboard-copy m-2 p-0 tooltipped-no-delay d-flex flex-justify-center flex-items-center" data-copy-feedback="Copied!" data-tooltip-direction="w">
      <svg aria-hidden="true" height="16" viewBox="0 0 16 16" version="1.1" width="16" data-view-component="true" class="octicon octicon-copy js-clipboard-copy-icon">
    <path d="M0 6.75C0 5.784.784 5 1.75 5h1.5a.75.75 0 0 1 0 1.5h-1.5a.25.25 0 0 0-.25.25v7.5c0 .138.112.25.25.25h7.5a.25.25 0 0 0 .25-.25v-1.5a.75.75 0 0 1 1.5 0v1.5A1.75 1.75 0 0 1 9.25 16h-7.5A1.75 1.75 0 0 1 0 14.25Z"></path><path d="M5 1.75C5 .784 5.784 0 6.75 0h7.5C15.216 0 16 .784 16 1.75v7.5A1.75 1.75 0 0 1 14.25 11h-7.5A1.75 1.75 0 0 1 5 9.25Zm1.75-.25a.25.25 0 0 0-.25.25v7.5c0 .138.112.25.25.25h7.5a.25.25 0 0 0 .25-.25v-7.5a.25.25 0 0 0-.25-.25Z"></path>
</svg>
      <svg aria-hidden="true" height="16" viewBox="0 0 16 16" version="1.1" width="16" data-view-component="true" class="octicon octicon-check js-clipboard-check-icon color-fg-success d-none">
    <path d="M13.78 4.22a.75.75 0 0 1 0 1.06l-7.25 7.25a.75.75 0 0 1-1.06 0L2.22 9.28a.751.751 0 0 1 .018-1.042.751.751 0 0 1 1.042-.018L6 10.94l6.72-6.72a.75.75 0 0 1 1.06 0Z"></path>
</svg>
    </clipboard-copy>
  </div>
</template>


    <style>
      .user-mention[href$="/carlos-santos1504"] {
        color: var(--color-user-mention-fg);
        background-color: var(--bgColor-attention-muted, var(--color-attention-subtle));
        border-radius: 2px;
        margin-left: -2px;
        margin-right: -2px;
        padding: 0 2px;
      }
    </style>


    </div>

    <div id="js-global-screen-reader-notice" class="sr-only" aria-live="polite" aria-atomic="true" ></div>
    <div id="js-global-screen-reader-notice-assertive" class="sr-only" aria-live="assertive" aria-atomic="true"></div>
  </body>
</html>

