





<!DOCTYPE html>
<html
  lang="en"
  
  data-color-mode="auto" data-light-theme="light" data-dark-theme="dark"
  data-a11y-animated-images="system" data-a11y-link-underlines="true"
  >




  <head>
    <meta charset="utf-8">
  <link rel="dns-prefetch" href="https://github.githubassets.com">
  <link rel="dns-prefetch" href="https://avatars.githubusercontent.com">
  <link rel="dns-prefetch" href="https://github-cloud.s3.amazonaws.com">
  <link rel="dns-prefetch" href="https://user-images.githubusercontent.com/">
  <link rel="preconnect" href="https://github.githubassets.com" crossorigin>
  <link rel="preconnect" href="https://avatars.githubusercontent.com">

  


  <link crossorigin="anonymous" media="all" rel="stylesheet" href="https://github.githubassets.com/assets/light_v2-80297421f4a6.css" /><link crossorigin="anonymous" media="all" rel="stylesheet" href="https://github.githubassets.com/assets/dark_v2-a0c8b33eee96.css" /><link data-color-theme="dark_dimmed" crossorigin="anonymous" media="all" rel="stylesheet" data-href="https://github.githubassets.com/assets/dark_dimmed_v2-91b01ba028c9.css" /><link data-color-theme="dark_high_contrast" crossorigin="anonymous" media="all" rel="stylesheet" data-href="https://github.githubassets.com/assets/dark_high_contrast_v2-f6bf299224b6.css" /><link data-color-theme="dark_colorblind" crossorigin="anonymous" media="all" rel="stylesheet" data-href="https://github.githubassets.com/assets/dark_colorblind_v2-5ba3e033c94c.css" /><link data-color-theme="light_colorblind" crossorigin="anonymous" media="all" rel="stylesheet" data-href="https://github.githubassets.com/assets/light_colorblind_v2-7829334952bc.css" /><link data-color-theme="light_high_contrast" crossorigin="anonymous" media="all" rel="stylesheet" data-href="https://github.githubassets.com/assets/light_high_contrast_v2-8a8b0a261830.css" /><link data-color-theme="light_tritanopia" crossorigin="anonymous" media="all" rel="stylesheet" data-href="https://github.githubassets.com/assets/light_tritanopia_v2-9243bf357cee.css" /><link data-color-theme="dark_tritanopia" crossorigin="anonymous" media="all" rel="stylesheet" data-href="https://github.githubassets.com/assets/dark_tritanopia_v2-0639af5a2e4b.css" />
    <link crossorigin="anonymous" media="all" rel="stylesheet" href="https://github.githubassets.com/assets/primer-primitives-0b5bee5c70e9.css" />
    <link crossorigin="anonymous" media="all" rel="stylesheet" href="https://github.githubassets.com/assets/primer-44fa1513ddd0.css" />
    <link crossorigin="anonymous" media="all" rel="stylesheet" href="https://github.githubassets.com/assets/global-a47947043e5a.css" />
    <link crossorigin="anonymous" media="all" rel="stylesheet" href="https://github.githubassets.com/assets/github-07f750db5d7c.css" />
  <link crossorigin="anonymous" media="all" rel="stylesheet" href="https://github.githubassets.com/assets/repository-fa69f138fe8d.css" />
<link crossorigin="anonymous" media="all" rel="stylesheet" href="https://github.githubassets.com/assets/code-111be5e4092d.css" />

  


  <script type="application/json" id="client-env">{"locale":"en","featureFlags":["code_vulnerability_scanning","copilot_conversational_ux_history_refs","copilot_smell_icebreaker_ux","copilot_implicit_context","failbot_handle_non_errors","geojson_azure_maps","image_metric_tracking","marketing_forms_api_integration_contact_request","marketing_pages_search_explore_provider","repository_suggester_elastic_search","turbo_experiment_risky","sample_network_conn_type","no_character_key_shortcuts_in_inputs","react_start_transition_for_navigations","custom_inp","remove_child_patch"]}</script>
<script crossorigin="anonymous" defer="defer" type="application/javascript" src="https://github.githubassets.com/assets/wp-runtime-122da5ef218b.js"></script>
<script crossorigin="anonymous" defer="defer" type="application/javascript" src="https://github.githubassets.com/assets/vendors-node_modules_dompurify_dist_purify_js-6890e890956f.js"></script>
<script crossorigin="anonymous" defer="defer" type="application/javascript" src="https://github.githubassets.com/assets/vendors-node_modules_oddbird_popover-polyfill_dist_popover_js-7bd350d761f4.js"></script>
<script crossorigin="anonymous" defer="defer" type="application/javascript" src="https://github.githubassets.com/assets/vendors-node_modules_smoothscroll-polyfill_dist_smoothscroll_js-node_modules_stacktrace-parse-a448e4-bb5415637fe0.js"></script>
<script crossorigin="anonymous" defer="defer" type="application/javascript" src="https://github.githubassets.com/assets/environment-69a406071332.js"></script>
<script crossorigin="anonymous" defer="defer" type="application/javascript" src="https://github.githubassets.com/assets/vendors-node_modules_github_selector-observer_dist_index_esm_js-9f960d9b217c.js"></script>
<script crossorigin="anonymous" defer="defer" type="application/javascript" src="https://github.githubassets.com/assets/vendors-node_modules_primer_behaviors_dist_esm_focus-zone_js-086f7a27bac0.js"></script>
<script crossorigin="anonymous" defer="defer" type="application/javascript" src="https://github.githubassets.com/assets/vendors-node_modules_github_relative-time-element_dist_index_js-c76945c5961a.js"></script>
<script crossorigin="anonymous" defer="defer" type="application/javascript" src="https://github.githubassets.com/assets/vendors-node_modules_github_combobox-nav_dist_index_js-node_modules_github_markdown-toolbar-e-820fc0-bc8f02b96749.js"></script>
<script crossorigin="anonymous" defer="defer" type="application/javascript" src="https://github.githubassets.com/assets/vendors-node_modules_github_auto-complete-element_dist_index_js-node_modules_github_catalyst_-392fe4-eed5a942c35c.js"></script>
<script crossorigin="anonymous" defer="defer" type="application/javascript" src="https://github.githubassets.com/assets/vendors-node_modules_github_text-expander-element_dist_index_js-8a621df59e80.js"></script>
<script crossorigin="anonymous" defer="defer" type="application/javascript" src="https://github.githubassets.com/assets/vendors-node_modules_github_filter-input-element_dist_index_js-node_modules_github_remote-inp-b7d8f4-7dc906febe69.js"></script>
<script crossorigin="anonymous" defer="defer" type="application/javascript" src="https://github.githubassets.com/assets/vendors-node_modules_delegated-events_dist_index_js-node_modules_stacktrace-parser_dist_stack-8585c6-7dc8343022ba.js"></script>
<script crossorigin="anonymous" defer="defer" type="application/javascript" src="https://github.githubassets.com/assets/vendors-node_modules_github_file-attachment-element_dist_index_js-node_modules_primer_view-co-3959a9-134c7fee9431.js"></script>
<script crossorigin="anonymous" defer="defer" type="application/javascript" src="https://github.githubassets.com/assets/github-elements-14a1f6104f4b.js"></script>
<script crossorigin="anonymous" defer="defer" type="application/javascript" src="https://github.githubassets.com/assets/element-registry-ea8c3b7e408f.js"></script>
<script crossorigin="anonymous" defer="defer" type="application/javascript" src="https://github.githubassets.com/assets/vendors-node_modules_github_mini-throttle_dist_index_js-node_modules_stacktrace-parser_dist_s-1acb1c-a745699a1cfa.js"></script>
<script crossorigin="anonymous" defer="defer" type="application/javascript" src="https://github.githubassets.com/assets/vendors-node_modules_lit-html_lit-html_js-5b376145beff.js"></script>
<script crossorigin="anonymous" defer="defer" type="application/javascript" src="https://github.githubassets.com/assets/vendors-node_modules_morphdom_dist_morphdom-esm_js-node_modules_github_memoize_dist_esm_index_js-05801f7ca718.js"></script>
<script crossorigin="anonymous" defer="defer" type="application/javascript" src="https://github.githubassets.com/assets/vendors-node_modules_github_turbo_dist_turbo_es2017-esm_js-c91f4ad18b62.js"></script>
<script crossorigin="anonymous" defer="defer" type="application/javascript" src="https://github.githubassets.com/assets/vendors-node_modules_github_remote-form_dist_index_js-node_modules_delegated-events_dist_inde-893f9f-8413f2cd68c5.js"></script>
<script crossorigin="anonymous" defer="defer" type="application/javascript" src="https://github.githubassets.com/assets/vendors-node_modules_scroll-anchoring_dist_scroll-anchoring_esm_js-node_modules_github_hotkey-1a1d91-49c03ceb2f0c.js"></script>
<script crossorigin="anonymous" defer="defer" type="application/javascript" src="https://github.githubassets.com/assets/vendors-node_modules_color-convert_index_js-72c9fbde5ad4.js"></script>
<script crossorigin="anonymous" defer="defer" type="application/javascript" src="https://github.githubassets.com/assets/vendors-node_modules_primer_behaviors_dist_esm_dimensions_js-node_modules_github_jtml_lib_index_js-95b84ee6bc34.js"></script>
<script crossorigin="anonymous" defer="defer" type="application/javascript" src="https://github.githubassets.com/assets/vendors-node_modules_github_quote-selection_dist_index_js-node_modules_github_session-resume_-84957b-7b4e472db160.js"></script>
<script crossorigin="anonymous" defer="defer" type="application/javascript" src="https://github.githubassets.com/assets/ui_packages_jtml-shimmed_jtml-shimmed_ts-ui_packages_safe-storage_safe-storage_ts-19f49df05d21.js"></script>
<script crossorigin="anonymous" defer="defer" type="application/javascript" src="https://github.githubassets.com/assets/app_assets_modules_github_updatable-content_ts-ui_packages_hydro-analytics_hydro-analytics_ts-82813f-fb8253d1c2f5.js"></script>
<script crossorigin="anonymous" defer="defer" type="application/javascript" src="https://github.githubassets.com/assets/app_assets_modules_github_behaviors_task-list_ts-app_assets_modules_github_onfocus_ts-app_ass-421cec-9de4213015af.js"></script>
<script crossorigin="anonymous" defer="defer" type="application/javascript" src="https://github.githubassets.com/assets/app_assets_modules_github_sticky-scroll-into-view_ts-94209c43e6af.js"></script>
<script crossorigin="anonymous" defer="defer" type="application/javascript" src="https://github.githubassets.com/assets/app_assets_modules_github_behaviors_ajax-error_ts-app_assets_modules_github_behaviors_include-2e2258-05fd80a7ea89.js"></script>
<script crossorigin="anonymous" defer="defer" type="application/javascript" src="https://github.githubassets.com/assets/app_assets_modules_github_behaviors_commenting_edit_ts-app_assets_modules_github_behaviors_ht-83c235-9285faa0e011.js"></script>
<script crossorigin="anonymous" defer="defer" type="application/javascript" src="https://github.githubassets.com/assets/behaviors-a27b2a049b70.js"></script>
<script crossorigin="anonymous" defer="defer" type="application/javascript" src="https://github.githubassets.com/assets/vendors-node_modules_delegated-events_dist_index_js-node_modules_github_catalyst_lib_index_js-06ff531-2ea61fcc9a71.js"></script>
<script crossorigin="anonymous" defer="defer" type="application/javascript" src="https://github.githubassets.com/assets/notifications-global-6d6db5144cc3.js"></script>
<script crossorigin="anonymous" defer="defer" type="application/javascript" src="https://github.githubassets.com/assets/code-menu-6ed703a40ffd.js"></script>
  
  <script crossorigin="anonymous" defer="defer" type="application/javascript" src="https://github.githubassets.com/assets/react-lib-1fbfc5be2c18.js"></script>
<script crossorigin="anonymous" defer="defer" type="application/javascript" src="https://github.githubassets.com/assets/vendors-node_modules_primer_octicons-react_dist_index_esm_js-node_modules_primer_react_lib-es-541a38-6ce7d7c3f9ee.js"></script>
<script crossorigin="anonymous" defer="defer" type="application/javascript" src="https://github.githubassets.com/assets/vendors-node_modules_primer_react_lib-esm_Box_Box_js-8f8c5e2a2cbf.js"></script>
<script crossorigin="anonymous" defer="defer" type="application/javascript" src="https://github.githubassets.com/assets/vendors-node_modules_primer_react_lib-esm_Button_Button_js-95a7748e3c39.js"></script>
<script crossorigin="anonymous" defer="defer" type="application/javascript" src="https://github.githubassets.com/assets/vendors-node_modules_primer_react_lib-esm_TooltipV2_Tooltip_js-70d5275ffcb7.js"></script>
<script crossorigin="anonymous" defer="defer" type="application/javascript" src="https://github.githubassets.com/assets/vendors-node_modules_primer_react_lib-esm_ActionList_index_js-b5c64c43d649.js"></script>
<script crossorigin="anonymous" defer="defer" type="application/javascript" src="https://github.githubassets.com/assets/vendors-node_modules_primer_react_lib-esm_Overlay_Overlay_js-node_modules_primer_react_lib-es-fa1130-829932cf63db.js"></script>
<script crossorigin="anonymous" defer="defer" type="application/javascript" src="https://github.githubassets.com/assets/vendors-node_modules_primer_react_lib-esm_Link_Link_js-node_modules_primer_react_lib-esm_Text-e5cb30-846d162fec54.js"></script>
<script crossorigin="anonymous" defer="defer" type="application/javascript" src="https://github.githubassets.com/assets/vendors-node_modules_primer_react_lib-esm_FormControl_FormControl_js-740100cbb60f.js"></script>
<script crossorigin="anonymous" defer="defer" type="application/javascript" src="https://github.githubassets.com/assets/vendors-node_modules_primer_react_lib-esm_ActionMenu_ActionMenu_js-eaf74522e470.js"></script>
<script crossorigin="anonymous" defer="defer" type="application/javascript" src="https://github.githubassets.com/assets/vendors-node_modules_primer_react_lib-esm_Heading_Heading_js-node_modules_github_catalyst_lib-b39cf6-04084648a106.js"></script>
<script crossorigin="anonymous" defer="defer" type="application/javascript" src="https://github.githubassets.com/assets/vendors-node_modules_react-router-dom_dist_index_js-3b41341d50fe.js"></script>
<script crossorigin="anonymous" defer="defer" type="application/javascript" src="https://github.githubassets.com/assets/vendors-node_modules_primer_react_lib-esm_PageLayout_PageLayout_js-5a4a31c01bca.js"></script>
<script crossorigin="anonymous" defer="defer" type="application/javascript" src="https://github.githubassets.com/assets/vendors-node_modules_primer_react_lib-esm_ConfirmationDialog_ConfirmationDialog_js-8ab472e2f924.js"></script>
<script crossorigin="anonymous" defer="defer" type="application/javascript" src="https://github.githubassets.com/assets/vendors-node_modules_primer_react_lib-esm_Dialog_js-node_modules_react-virtual_dist_react-vir-155ebc-07457159712f.js"></script>
<script crossorigin="anonymous" defer="defer" type="application/javascript" src="https://github.githubassets.com/assets/vendors-node_modules_primer_react_lib-esm_TreeView_TreeView_js-4d087b8e0c8a.js"></script>
<script crossorigin="anonymous" defer="defer" type="application/javascript" src="https://github.githubassets.com/assets/vendors-node_modules_primer_react_lib-esm_AvatarStack_AvatarStack_js-node_modules_primer_reac-36b6f3-1b3c8357c7d0.js"></script>
<script crossorigin="anonymous" defer="defer" type="application/javascript" src="https://github.githubassets.com/assets/vendors-node_modules_github_mini-throttle_dist_index_js-node_modules_primer_react_lib-esm_Bre-b2e46d-c8ac19da4b57.js"></script>
<script crossorigin="anonymous" defer="defer" type="application/javascript" src="https://github.githubassets.com/assets/ui_packages_react-core_create-browser-history_ts-ui_packages_safe-storage_safe-storage_ts-ui_-682c2c-7be102c61d97.js"></script>
<script crossorigin="anonymous" defer="defer" type="application/javascript" src="https://github.githubassets.com/assets/ui_packages_react-core_register-app_ts-6ecc18606709.js"></script>
<script crossorigin="anonymous" defer="defer" type="application/javascript" src="https://github.githubassets.com/assets/ui_packages_paths_index_ts-271d9b2a45a4.js"></script>
<script crossorigin="anonymous" defer="defer" type="application/javascript" src="https://github.githubassets.com/assets/ui_packages_ref-selector_RefSelector_tsx-dbbdef4348e2.js"></script>
<script crossorigin="anonymous" defer="defer" type="application/javascript" src="https://github.githubassets.com/assets/ui_packages_commit-attribution_index_ts-ui_packages_commit-checks-status_index_ts-ui_packages-baa075-19766306208b.js"></script>
<script crossorigin="anonymous" defer="defer" type="application/javascript" src="https://github.githubassets.com/assets/app_assets_modules_react-shared_hooks_use-canonical-object_ts-ui_packages_code-view-shared_ho-e725dc-bccfdf9efa81.js"></script>
<script crossorigin="anonymous" defer="defer" type="application/javascript" src="https://github.githubassets.com/assets/app_assets_modules_github_blob-anchor_ts-app_assets_modules_github_filter-sort_ts-app_assets_-e50ab6-fd8396d2490b.js"></script>
<script crossorigin="anonymous" defer="defer" type="application/javascript" src="https://github.githubassets.com/assets/react-code-view-2166c00e294d.js"></script>


  <title>imersao_python/Aula_4/Imersão_Alura_Aula_4_Desafio.2.ipynb at main · AlexLaudiano/imersao_python</title>



  <meta name="route-pattern" content="/:user_id/:repository/blob/*name(/*path)" data-turbo-transient>
  <meta name="route-controller" content="blob" data-turbo-transient>
  <meta name="route-action" content="show" data-turbo-transient>

    
  <meta name="current-catalog-service-hash" content="82c569b93da5c18ed649ebd4c2c79437db4611a6a1373e805a3cb001c64130b7">


  <meta name="request-id" content="4AD6:CF30C:C47FD8:D3E38D:6616A395" data-turbo-transient="true" /><meta name="html-safe-nonce" content="9c2ea6b664172156e9160aa240cea73525e4d3ecda262d1aef29bcf32ce1faba" data-turbo-transient="true" /><meta name="visitor-payload" content="eyJyZWZlcnJlciI6Imh0dHBzOi8vZ2l0aHViLmNvbS9BbGV4TGF1ZGlhbm8vaW1lcnNhb19weXRob24vdHJlZS9tYWluL0F1bGFfNCIsInJlcXVlc3RfaWQiOiI0QUQ2OkNGMzBDOkM0N0ZEODpEM0UzOEQ6NjYxNkEzOTUiLCJ2aXNpdG9yX2lkIjoiMjI4NzM4MjY4OTg5NDA4OTM1IiwicmVnaW9uX2VkZ2UiOiJicmF6aWxzb3V0aCIsInJlZ2lvbl9yZW5kZXIiOiJpYWQifQ==" data-turbo-transient="true" /><meta name="visitor-hmac" content="72192cc00de7608dbcb95a0c48e51d579e6ba27d6a691149dc270c422a30caa7" data-turbo-transient="true" />


    <meta name="hovercard-subject-tag" content="repository:778068514" data-turbo-transient>


  <meta name="github-keyboard-shortcuts" content="repository,source-code,file-tree,copilot" data-turbo-transient="true" />
  

  <meta name="selected-link" value="repo_source" data-turbo-transient>
  <link rel="assets" href="https://github.githubassets.com/">

    <meta name="google-site-verification" content="c1kuD-K2HIVF635lypcsWPoD4kilo5-jA_wBFyT4uMY">
  <meta name="google-site-verification" content="KT5gs8h0wvaagLKAVWq8bbeNwnZZK1r1XQysX3xurLU">
  <meta name="google-site-verification" content="ZzhVyEFwb7w3e0-uOTltm8Jsck2F5StVihD0exw2fsA">
  <meta name="google-site-verification" content="GXs5KoUUkNCoaAZn7wPN-t01Pywp9M3sEjnt_3_ZWPc">
  <meta name="google-site-verification" content="Apib7-x98H0j5cPqHWwSMm6dNU4GmODRoqxLiDzdx9I">

<meta name="octolytics-url" content="https://collector.github.com/github/collect" /><meta name="octolytics-actor-id" content="42747358" /><meta name="octolytics-actor-login" content="carlos-santos1504" /><meta name="octolytics-actor-hash" content="3fe34f5dbf66879ef50165b372351864c87ea10d0a67d33fd01a9c861649995c" />

  <meta name="analytics-location" content="/&lt;user-name&gt;/&lt;repo-name&gt;/blob/show" data-turbo-transient="true" />

  





    <meta name="user-login" content="carlos-santos1504">

  <link rel="sudo-modal" href="/sessions/sudo_modal">

    <meta name="viewport" content="width=device-width">
    
      <meta name="description" content="Imersão Python: Do Excel à Análise de Dados. Contribute to AlexLaudiano/imersao_python development by creating an account on GitHub.">
      <link rel="search" type="application/opensearchdescription+xml" href="/opensearch.xml" title="GitHub">
    <link rel="fluid-icon" href="https://github.com/fluidicon.png" title="GitHub">
    <meta property="fb:app_id" content="1401488693436528">
    <meta name="apple-itunes-app" content="app-id=1477376905, app-argument=https://github.com/AlexLaudiano/imersao_python/blob/main/Aula_4/Imers%C3%A3o_Alura_Aula_4_Desafio.2.ipynb" />
      <meta name="twitter:image:src" content="https://opengraph.githubassets.com/f737552a23ef297d7a4506ae29327608bcc1933d918fadc5bff2bbefe71960d8/AlexLaudiano/imersao_python" /><meta name="twitter:site" content="@github" /><meta name="twitter:card" content="summary_large_image" /><meta name="twitter:title" content="imersao_python/Aula_4/Imersão_Alura_Aula_4_Desafio.2.ipynb at main · AlexLaudiano/imersao_python" /><meta name="twitter:description" content="Imersão Python: Do Excel à Análise de Dados. Contribute to AlexLaudiano/imersao_python development by creating an account on GitHub." />
      <meta property="og:image" content="https://opengraph.githubassets.com/f737552a23ef297d7a4506ae29327608bcc1933d918fadc5bff2bbefe71960d8/AlexLaudiano/imersao_python" /><meta property="og:image:alt" content="Imersão Python: Do Excel à Análise de Dados. Contribute to AlexLaudiano/imersao_python development by creating an account on GitHub." /><meta property="og:image:width" content="1200" /><meta property="og:image:height" content="600" /><meta property="og:site_name" content="GitHub" /><meta property="og:type" content="object" /><meta property="og:title" content="imersao_python/Aula_4/Imersão_Alura_Aula_4_Desafio.2.ipynb at main · AlexLaudiano/imersao_python" /><meta property="og:url" content="https://github.com/AlexLaudiano/imersao_python/blob/main/Aula_4/Imers%C3%A3o_Alura_Aula_4_Desafio.2.ipynb" /><meta property="og:description" content="Imersão Python: Do Excel à Análise de Dados. Contribute to AlexLaudiano/imersao_python development by creating an account on GitHub." />
      

      <link rel="shared-web-socket" href="wss://alive.github.com/_sockets/u/42747358/ws?session=eyJ2IjoiVjMiLCJ1Ijo0Mjc0NzM1OCwicyI6MTM0NTk0MTMxOCwiYyI6MTk1MzU0MDE2OSwidCI6MTcxMjc1OTcwN30=--898f5ba9a9c7c2f2bcb5e8335ef9b99155b5e98e6b74ef15308d9c694452e9b1" data-refresh-url="/_alive" data-session-id="4c3cb3e79c222db0a711f6febe74fc690a344d525dca73c63288a0ccfeac647d">
      <link rel="shared-web-socket-src" href="/assets-cdn/worker/socket-worker-9cc1149b224c.js">


        <meta name="hostname" content="github.com">


      <meta name="keyboard-shortcuts-preference" content="all">

        <meta name="expected-hostname" content="github.com">


  <meta http-equiv="x-pjax-version" content="1f5488b7f2e312d90bc78bad8459c11e066542129a625f851dd93272f5fb331d" data-turbo-track="reload">
  <meta http-equiv="x-pjax-csp-version" content="f226bf37af9c33162063db3eb018fed7f088f86d0a20ca54c013fda96c7f2e05" data-turbo-track="reload">
  <meta http-equiv="x-pjax-css-version" content="52805dbaa625ba905d50470fad4413401f27ad45f64649ca6bec39ee9f06f198" data-turbo-track="reload">
  <meta http-equiv="x-pjax-js-version" content="d0248a4e8eeff1b48ee4a1ff7222a13e2954501bf7f2f8bf7fff1bc0ab6b7f4f" data-turbo-track="reload">

  <meta name="turbo-cache-control" content="no-preview" data-turbo-transient="">

      <meta name="turbo-cache-control" content="no-cache" data-turbo-transient>
    <meta data-hydrostats="publish">
  <link crossorigin="anonymous" media="all" rel="stylesheet" href="https://github.githubassets.com/assets/react-code-view.959fb0b61e6a1de773e7.module.css" />

  <meta name="go-import" content="github.com/AlexLaudiano/imersao_python git https://github.com/AlexLaudiano/imersao_python.git">

  <meta name="octolytics-dimension-user_id" content="158209724" /><meta name="octolytics-dimension-user_login" content="AlexLaudiano" /><meta name="octolytics-dimension-repository_id" content="778068514" /><meta name="octolytics-dimension-repository_nwo" content="AlexLaudiano/imersao_python" /><meta name="octolytics-dimension-repository_public" content="true" /><meta name="octolytics-dimension-repository_is_fork" content="false" /><meta name="octolytics-dimension-repository_network_root_id" content="778068514" /><meta name="octolytics-dimension-repository_network_root_nwo" content="AlexLaudiano/imersao_python" />



  <meta name="turbo-body-classes" content="logged-in env-production page-responsive">


  <meta name="browser-stats-url" content="https://api.github.com/_private/browser/stats">

  <meta name="browser-errors-url" content="https://api.github.com/_private/browser/errors">

  <link rel="mask-icon" href="https://github.githubassets.com/assets/pinned-octocat-093da3e6fa40.svg" color="#000000">
  <link rel="alternate icon" class="js-site-favicon" type="image/png" href="https://github.githubassets.com/favicons/favicon.png">
  <link rel="icon" class="js-site-favicon" type="image/svg+xml" href="https://github.githubassets.com/favicons/favicon.svg">

<meta name="theme-color" content="#1e2327">
<meta name="color-scheme" content="light dark" />


  <link rel="manifest" href="/manifest.json" crossOrigin="use-credentials">

  </head>

  <body class="logged-in env-production page-responsive" style="word-wrap: break-word;">
    <div data-turbo-body class="logged-in env-production page-responsive" style="word-wrap: break-word;">
      


    <div class="position-relative js-header-wrapper ">
      <a href="#start-of-content" class="p-3 color-bg-accent-emphasis color-fg-on-emphasis show-on-focus js-skip-to-content">Skip to content</a>
      <span data-view-component="true" class="progress-pjax-loader Progress position-fixed width-full">
    <span style="width: 0%;" data-view-component="true" class="Progress-item progress-pjax-loader-bar left-0 top-0 color-bg-accent-emphasis"></span>
</span>      
      
  







<script crossorigin="anonymous" defer="defer" type="application/javascript" src="https://github.githubassets.com/assets/vendors-node_modules_primer_react_lib-esm_Button_IconButton_js-node_modules_primer_react_lib--b964b4-8035f8c5edaa.js"></script>

<script crossorigin="anonymous" defer="defer" type="application/javascript" src="https://github.githubassets.com/assets/keyboard-shortcuts-dialog-548fad62c9fa.js"></script>

<react-partial
  partial-name="keyboard-shortcuts-dialog"
  data-ssr="false"
>
  
  <script type="application/json" data-target="react-partial.embeddedData">{"props":{}}</script>
  <div data-target="react-partial.reactRoot"></div>
</react-partial>



      

        <script crossorigin="anonymous" defer="defer" type="application/javascript" src="https://github.githubassets.com/assets/vendors-node_modules_allex_crc32_lib_crc32_esm_js-node_modules_github_mini-throttle_dist_deco-a9eeba-71c75674fb56.js"></script>
<script crossorigin="anonymous" defer="defer" type="application/javascript" src="https://github.githubassets.com/assets/vendors-node_modules_github_clipboard-copy-element_dist_index_esm_js-node_modules_delegated-e-b37f7d-6c7c27fd1f12.js"></script>
<script crossorigin="anonymous" defer="defer" type="application/javascript" src="https://github.githubassets.com/assets/app_assets_modules_github_command-palette_items_help-item_ts-app_assets_modules_github_comman-212095-4bbfd8454d8f.js"></script>
<script crossorigin="anonymous" defer="defer" type="application/javascript" src="https://github.githubassets.com/assets/command-palette-5a8f1ca7246f.js"></script>

            <header class="AppHeader">
    

    <div class="AppHeader-globalBar pb-2 js-global-bar">
      <div class="AppHeader-globalBar-start">
          <deferred-side-panel data-url="/_side-panels/global">
  <include-fragment data-target="deferred-side-panel.fragment">
      <button aria-label="Open global navigation menu" data-action="click:deferred-side-panel#loadPanel click:deferred-side-panel#panelOpened" data-show-dialog-id="dialog-49b86c60-365f-4d90-b6b3-375df24e3044" id="dialog-show-dialog-49b86c60-365f-4d90-b6b3-375df24e3044" type="button" data-view-component="true" class="Button Button--iconOnly Button--secondary Button--medium AppHeader-button color-bg-transparent p-0 color-fg-muted">  <svg aria-hidden="true" height="16" viewBox="0 0 16 16" version="1.1" width="16" data-view-component="true" class="octicon octicon-three-bars Button-visual">
    <path d="M1 2.75A.75.75 0 0 1 1.75 2h12.5a.75.75 0 0 1 0 1.5H1.75A.75.75 0 0 1 1 2.75Zm0 5A.75.75 0 0 1 1.75 7h12.5a.75.75 0 0 1 0 1.5H1.75A.75.75 0 0 1 1 7.75ZM1.75 12h12.5a.75.75 0 0 1 0 1.5H1.75a.75.75 0 0 1 0-1.5Z"></path>
</svg>
</button>

<dialog-helper>
  <dialog data-target="deferred-side-panel.panel" id="dialog-49b86c60-365f-4d90-b6b3-375df24e3044" aria-modal="true" aria-labelledby="dialog-49b86c60-365f-4d90-b6b3-375df24e3044-title" aria-describedby="dialog-49b86c60-365f-4d90-b6b3-375df24e3044-description" data-view-component="true" class="Overlay Overlay-whenNarrow Overlay--size-small-portrait Overlay--motion-scaleFade Overlay--placement-left SidePanel">
    <div styles="flex-direction: row;" data-view-component="true" class="Overlay-header">
  <div class="Overlay-headerContentWrap">
    <div class="Overlay-titleWrap">
      <h1 class="Overlay-title sr-only" id="dialog-49b86c60-365f-4d90-b6b3-375df24e3044-title">
        Global navigation
      </h1>
            <div data-view-component="true" class="d-flex">
      <div data-view-component="true" class="AppHeader-logo position-relative">
        <svg aria-hidden="true" height="24" viewBox="0 0 16 16" version="1.1" width="24" data-view-component="true" class="octicon octicon-mark-github">
    <path d="M8 0c4.42 0 8 3.58 8 8a8.013 8.013 0 0 1-5.45 7.59c-.4.08-.55-.17-.55-.38 0-.27.01-1.13.01-2.2 0-.75-.25-1.23-.54-1.48 1.78-.2 3.65-.88 3.65-3.95 0-.88-.31-1.59-.82-2.15.08-.2.36-1.02-.08-2.12 0 0-.67-.22-2.2.82-.64-.18-1.32-.27-2-.27-.68 0-1.36.09-2 .27-1.53-1.03-2.2-.82-2.2-.82-.44 1.1-.16 1.92-.08 2.12-.51.56-.82 1.28-.82 2.15 0 3.06 1.86 3.75 3.64 3.95-.23.2-.44.55-.51 1.07-.46.21-1.61.55-2.33-.66-.15-.24-.6-.83-1.23-.82-.67.01-.27.38.01.53.34.19.73.9.82 1.13.16.45.68 1.31 2.69.94 0 .67.01 1.3.01 1.49 0 .21-.15.45-.55.38A7.995 7.995 0 0 1 0 8c0-4.42 3.58-8 8-8Z"></path>
</svg>
</div></div>
    </div>
    <div class="Overlay-actionWrap">
      <button data-close-dialog-id="dialog-49b86c60-365f-4d90-b6b3-375df24e3044" aria-label="Close" type="button" data-view-component="true" class="close-button Overlay-closeButton"><svg aria-hidden="true" height="16" viewBox="0 0 16 16" version="1.1" width="16" data-view-component="true" class="octicon octicon-x">
    <path d="M3.72 3.72a.75.75 0 0 1 1.06 0L8 6.94l3.22-3.22a.749.749 0 0 1 1.275.326.749.749 0 0 1-.215.734L9.06 8l3.22 3.22a.749.749 0 0 1-.326 1.275.749.749 0 0 1-.734-.215L8 9.06l-3.22 3.22a.751.751 0 0 1-1.042-.018.751.751 0 0 1-.018-1.042L6.94 8 3.72 4.78a.75.75 0 0 1 0-1.06Z"></path>
</svg></button>
    </div>
  </div>
</div>
      <scrollable-region data-labelled-by="dialog-49b86c60-365f-4d90-b6b3-375df24e3044-title">
        <div data-view-component="true" class="Overlay-body d-flex flex-column px-2">    <div data-view-component="true" class="d-flex flex-column mb-3">
        <nav aria-label="Site navigation" data-view-component="true" class="ActionList">
  
  <nav-list>
    <ul data-target="nav-list.topLevelList" data-view-component="true" class="ActionListWrap">
        
          
<li data-item-id="" data-targets="nav-list.items" data-view-component="true" class="ActionListItem">
    
    <a data-hotkey="g d" data-analytics-event="{&quot;category&quot;:&quot;Global navigation&quot;,&quot;action&quot;:&quot;HOME&quot;,&quot;label&quot;:null}" id="item-16eecd99-fb8b-4104-96f4-b8907179ce0b" href="/dashboard" data-view-component="true" class="ActionListContent ActionListContent--visual16">
        <span class="ActionListItem-visual ActionListItem-visual--leading">
          <svg aria-hidden="true" height="16" viewBox="0 0 16 16" version="1.1" width="16" data-view-component="true" class="octicon octicon-home">
    <path d="M6.906.664a1.749 1.749 0 0 1 2.187 0l5.25 4.2c.415.332.657.835.657 1.367v7.019A1.75 1.75 0 0 1 13.25 15h-3.5a.75.75 0 0 1-.75-.75V9H7v5.25a.75.75 0 0 1-.75.75h-3.5A1.75 1.75 0 0 1 1 13.25V6.23c0-.531.242-1.034.657-1.366l5.25-4.2Zm1.25 1.171a.25.25 0 0 0-.312 0l-5.25 4.2a.25.25 0 0 0-.094.196v7.019c0 .138.112.25.25.25H5.5V8.25a.75.75 0 0 1 .75-.75h3.5a.75.75 0 0 1 .75.75v5.25h2.75a.25.25 0 0 0 .25-.25V6.23a.25.25 0 0 0-.094-.195Z"></path>
</svg>
        </span>
      
        <span data-view-component="true" class="ActionListItem-label">
          Home
</span></a>
  
  
</li>

        
          
<li data-item-id="" data-targets="nav-list.items" data-view-component="true" class="ActionListItem">
    
    <a data-hotkey="g i" data-analytics-event="{&quot;category&quot;:&quot;Global navigation&quot;,&quot;action&quot;:&quot;ISSUES&quot;,&quot;label&quot;:null}" id="item-894070ba-ecdb-429f-b8f7-90e561041b70" href="/issues" data-view-component="true" class="ActionListContent ActionListContent--visual16">
        <span class="ActionListItem-visual ActionListItem-visual--leading">
          <svg aria-hidden="true" height="16" viewBox="0 0 16 16" version="1.1" width="16" data-view-component="true" class="octicon octicon-issue-opened">
    <path d="M8 9.5a1.5 1.5 0 1 0 0-3 1.5 1.5 0 0 0 0 3Z"></path><path d="M8 0a8 8 0 1 1 0 16A8 8 0 0 1 8 0ZM1.5 8a6.5 6.5 0 1 0 13 0 6.5 6.5 0 0 0-13 0Z"></path>
</svg>
        </span>
      
        <span data-view-component="true" class="ActionListItem-label">
          Issues
</span></a>
  
  
</li>

        
          
<li data-item-id="" data-targets="nav-list.items" data-view-component="true" class="ActionListItem">
    
    <a data-hotkey="g p" data-analytics-event="{&quot;category&quot;:&quot;Global navigation&quot;,&quot;action&quot;:&quot;PULL_REQUESTS&quot;,&quot;label&quot;:null}" id="item-654ed4fe-97a0-4bca-918a-014b5c429b92" href="/pulls" data-view-component="true" class="ActionListContent ActionListContent--visual16">
        <span class="ActionListItem-visual ActionListItem-visual--leading">
          <svg aria-hidden="true" height="16" viewBox="0 0 16 16" version="1.1" width="16" data-view-component="true" class="octicon octicon-git-pull-request">
    <path d="M1.5 3.25a2.25 2.25 0 1 1 3 2.122v5.256a2.251 2.251 0 1 1-1.5 0V5.372A2.25 2.25 0 0 1 1.5 3.25Zm5.677-.177L9.573.677A.25.25 0 0 1 10 .854V2.5h1A2.5 2.5 0 0 1 13.5 5v5.628a2.251 2.251 0 1 1-1.5 0V5a1 1 0 0 0-1-1h-1v1.646a.25.25 0 0 1-.427.177L7.177 3.427a.25.25 0 0 1 0-.354ZM3.75 2.5a.75.75 0 1 0 0 1.5.75.75 0 0 0 0-1.5Zm0 9.5a.75.75 0 1 0 0 1.5.75.75 0 0 0 0-1.5Zm8.25.75a.75.75 0 1 0 1.5 0 .75.75 0 0 0-1.5 0Z"></path>
</svg>
        </span>
      
        <span data-view-component="true" class="ActionListItem-label">
          Pull requests
</span></a>
  
  
</li>

        
          
<li data-item-id="" data-targets="nav-list.items" data-item-id="projects" data-view-component="true" class="ActionListItem">
    
    <a data-analytics-event="{&quot;category&quot;:&quot;Global navigation&quot;,&quot;action&quot;:&quot;PROJECTS&quot;,&quot;label&quot;:null}" id="item-14fbe2c2-dca5-4a1f-8574-919bb4762a33" href="/projects" data-view-component="true" class="ActionListContent ActionListContent--visual16">
        <span class="ActionListItem-visual ActionListItem-visual--leading">
          <svg aria-hidden="true" height="16" viewBox="0 0 16 16" version="1.1" width="16" data-view-component="true" class="octicon octicon-table">
    <path d="M0 1.75C0 .784.784 0 1.75 0h12.5C15.216 0 16 .784 16 1.75v12.5A1.75 1.75 0 0 1 14.25 16H1.75A1.75 1.75 0 0 1 0 14.25ZM6.5 6.5v8h7.75a.25.25 0 0 0 .25-.25V6.5Zm8-1.5V1.75a.25.25 0 0 0-.25-.25H6.5V5Zm-13 1.5v7.75c0 .138.112.25.25.25H5v-8ZM5 5V1.5H1.75a.25.25 0 0 0-.25.25V5Z"></path>
</svg>
        </span>
      
        <span data-view-component="true" class="ActionListItem-label">
          Projects
</span></a>
  
  
</li>

        
          
<li data-item-id="" data-targets="nav-list.items" data-view-component="true" class="ActionListItem">
    
    <a data-analytics-event="{&quot;category&quot;:&quot;Global navigation&quot;,&quot;action&quot;:&quot;DISCUSSIONS&quot;,&quot;label&quot;:null}" id="item-64c86a2d-e9c6-45da-abd6-02d60aee4672" href="/discussions" data-view-component="true" class="ActionListContent ActionListContent--visual16">
        <span class="ActionListItem-visual ActionListItem-visual--leading">
          <svg aria-hidden="true" height="16" viewBox="0 0 16 16" version="1.1" width="16" data-view-component="true" class="octicon octicon-comment-discussion">
    <path d="M1.75 1h8.5c.966 0 1.75.784 1.75 1.75v5.5A1.75 1.75 0 0 1 10.25 10H7.061l-2.574 2.573A1.458 1.458 0 0 1 2 11.543V10h-.25A1.75 1.75 0 0 1 0 8.25v-5.5C0 1.784.784 1 1.75 1ZM1.5 2.75v5.5c0 .138.112.25.25.25h1a.75.75 0 0 1 .75.75v2.19l2.72-2.72a.749.749 0 0 1 .53-.22h3.5a.25.25 0 0 0 .25-.25v-5.5a.25.25 0 0 0-.25-.25h-8.5a.25.25 0 0 0-.25.25Zm13 2a.25.25 0 0 0-.25-.25h-.5a.75.75 0 0 1 0-1.5h.5c.966 0 1.75.784 1.75 1.75v5.5A1.75 1.75 0 0 1 14.25 12H14v1.543a1.458 1.458 0 0 1-2.487 1.03L9.22 12.28a.749.749 0 0 1 .326-1.275.749.749 0 0 1 .734.215l2.22 2.22v-2.19a.75.75 0 0 1 .75-.75h1a.25.25 0 0 0 .25-.25Z"></path>
</svg>
        </span>
      
        <span data-view-component="true" class="ActionListItem-label">
          Discussions
</span></a>
  
  
</li>

        
          
<li data-item-id="" data-targets="nav-list.items" data-view-component="true" class="ActionListItem">
    
    <a data-analytics-event="{&quot;category&quot;:&quot;Global navigation&quot;,&quot;action&quot;:&quot;CODESPACES&quot;,&quot;label&quot;:null}" id="item-18877639-9af5-4264-9a4d-1b09bf51fe4f" href="https://github.com/codespaces" data-view-component="true" class="ActionListContent ActionListContent--visual16">
        <span class="ActionListItem-visual ActionListItem-visual--leading">
          <svg aria-hidden="true" height="16" viewBox="0 0 16 16" version="1.1" width="16" data-view-component="true" class="octicon octicon-codespaces">
    <path d="M0 11.25c0-.966.784-1.75 1.75-1.75h12.5c.966 0 1.75.784 1.75 1.75v3A1.75 1.75 0 0 1 14.25 16H1.75A1.75 1.75 0 0 1 0 14.25Zm2-9.5C2 .784 2.784 0 3.75 0h8.5C13.216 0 14 .784 14 1.75v5a1.75 1.75 0 0 1-1.75 1.75h-8.5A1.75 1.75 0 0 1 2 6.75Zm1.75-.25a.25.25 0 0 0-.25.25v5c0 .138.112.25.25.25h8.5a.25.25 0 0 0 .25-.25v-5a.25.25 0 0 0-.25-.25Zm-2 9.5a.25.25 0 0 0-.25.25v3c0 .138.112.25.25.25h12.5a.25.25 0 0 0 .25-.25v-3a.25.25 0 0 0-.25-.25Z"></path><path d="M7 12.75a.75.75 0 0 1 .75-.75h4.5a.75.75 0 0 1 0 1.5h-4.5a.75.75 0 0 1-.75-.75Zm-4 0a.75.75 0 0 1 .75-.75h.5a.75.75 0 0 1 0 1.5h-.5a.75.75 0 0 1-.75-.75Z"></path>
</svg>
        </span>
      
        <span data-view-component="true" class="ActionListItem-label">
          Codespaces
</span></a>
  
  
</li>

        
          <li role="presentation" aria-hidden="true" data-view-component="true" class="ActionList-sectionDivider"></li>
        
          
<li data-item-id="" data-targets="nav-list.items" data-view-component="true" class="ActionListItem">
    
    <a data-analytics-event="{&quot;category&quot;:&quot;Global navigation&quot;,&quot;action&quot;:&quot;EXPLORE&quot;,&quot;label&quot;:null}" id="item-87f3916c-3cfe-4fb8-8664-89f52f5ce9ff" href="/explore" data-view-component="true" class="ActionListContent ActionListContent--visual16">
        <span class="ActionListItem-visual ActionListItem-visual--leading">
          <svg aria-hidden="true" height="16" viewBox="0 0 16 16" version="1.1" width="16" data-view-component="true" class="octicon octicon-telescope">
    <path d="M14.184 1.143v-.001l1.422 2.464a1.75 1.75 0 0 1-.757 2.451L3.104 11.713a1.75 1.75 0 0 1-2.275-.702l-.447-.775a1.75 1.75 0 0 1 .53-2.32L11.682.573a1.748 1.748 0 0 1 2.502.57Zm-4.709 9.32h-.001l2.644 3.863a.75.75 0 1 1-1.238.848l-1.881-2.75v2.826a.75.75 0 0 1-1.5 0v-2.826l-1.881 2.75a.75.75 0 1 1-1.238-.848l2.049-2.992a.746.746 0 0 1 .293-.253l1.809-.87a.749.749 0 0 1 .944.252ZM9.436 3.92h-.001l-4.97 3.39.942 1.63 5.42-2.61Zm3.091-2.108h.001l-1.85 1.26 1.505 2.605 2.016-.97a.247.247 0 0 0 .13-.151.247.247 0 0 0-.022-.199l-1.422-2.464a.253.253 0 0 0-.161-.119.254.254 0 0 0-.197.038ZM1.756 9.157a.25.25 0 0 0-.075.33l.447.775a.25.25 0 0 0 .325.1l1.598-.769-.83-1.436-1.465 1Z"></path>
</svg>
        </span>
      
        <span data-view-component="true" class="ActionListItem-label">
          Explore
</span></a>
  
  
</li>

        
          
<li data-item-id="" data-targets="nav-list.items" data-view-component="true" class="ActionListItem">
    
    <a data-analytics-event="{&quot;category&quot;:&quot;Global navigation&quot;,&quot;action&quot;:&quot;MARKETPLACE&quot;,&quot;label&quot;:null}" id="item-a0af104b-bc07-4fb6-ac1b-87416d5863ee" href="/marketplace" data-view-component="true" class="ActionListContent ActionListContent--visual16">
        <span class="ActionListItem-visual ActionListItem-visual--leading">
          <svg aria-hidden="true" height="16" viewBox="0 0 16 16" version="1.1" width="16" data-view-component="true" class="octicon octicon-gift">
    <path d="M2 2.75A2.75 2.75 0 0 1 4.75 0c.983 0 1.873.42 2.57 1.232.268.318.497.668.68 1.042.183-.375.411-.725.68-1.044C9.376.42 10.266 0 11.25 0a2.75 2.75 0 0 1 2.45 4h.55c.966 0 1.75.784 1.75 1.75v2c0 .698-.409 1.301-1 1.582v4.918A1.75 1.75 0 0 1 13.25 16H2.75A1.75 1.75 0 0 1 1 14.25V9.332C.409 9.05 0 8.448 0 7.75v-2C0 4.784.784 4 1.75 4h.55c-.192-.375-.3-.8-.3-1.25ZM7.25 9.5H2.5v4.75c0 .138.112.25.25.25h4.5Zm1.5 0v5h4.5a.25.25 0 0 0 .25-.25V9.5Zm0-4V8h5.5a.25.25 0 0 0 .25-.25v-2a.25.25 0 0 0-.25-.25Zm-7 0a.25.25 0 0 0-.25.25v2c0 .138.112.25.25.25h5.5V5.5h-5.5Zm3-4a1.25 1.25 0 0 0 0 2.5h2.309c-.233-.818-.542-1.401-.878-1.793-.43-.502-.915-.707-1.431-.707ZM8.941 4h2.309a1.25 1.25 0 0 0 0-2.5c-.516 0-1 .205-1.43.707-.337.392-.646.975-.879 1.793Z"></path>
</svg>
        </span>
      
        <span data-view-component="true" class="ActionListItem-label">
          Marketplace
</span></a>
  
  
</li>

</ul>  </nav-list>
</nav>

        <div data-view-component="true" class="my-3 d-flex flex-justify-center height-full">
          <svg style="box-sizing: content-box; color: var(--color-icon-primary);" width="16" height="16" viewBox="0 0 16 16" fill="none" data-view-component="true" class="anim-rotate">
  <circle cx="8" cy="8" r="7" stroke="currentColor" stroke-opacity="0.25" stroke-width="2" vector-effect="non-scaling-stroke" fill="none" />
  <path d="M15 8a7.002 7.002 0 00-7-7" stroke="currentColor" stroke-width="2" stroke-linecap="round" vector-effect="non-scaling-stroke" />
</svg>
</div>
</div>
      <div data-view-component="true" class="flex-1"></div>


      <div data-view-component="true" class="px-2">      <p class="color-fg-subtle text-small text-light">&copy; 2024 GitHub, Inc.</p>

      <div data-view-component="true" class="d-flex flex-wrap text-small text-light">
          <a target="_blank" href="https://github.com/about" data-view-component="true" class="Link mr-2">About</a>
          <a target="_blank" href="https://github.blog" data-view-component="true" class="Link mr-2">Blog</a>
          <a target="_blank" href="https://docs.github.com/site-policy/github-terms/github-terms-of-service" data-view-component="true" class="Link mr-2">Terms</a>
          <a target="_blank" href="https://docs.github.com/site-policy/privacy-policies/github-privacy-statement" data-view-component="true" class="Link mr-2">Privacy</a>
          <a target="_blank" href="https://github.com/security" data-view-component="true" class="Link mr-2">Security</a>
          <a target="_blank" href="https://www.githubstatus.com/" data-view-component="true" class="Link mr-3">Status</a>

</div></div>
</div>
      </scrollable-region>
      
</dialog></dialog-helper>

  </include-fragment>
</deferred-side-panel>

        <a
          class="AppHeader-logo ml-2"
          href="https://github.com/"
          data-hotkey="g d"
          aria-label="Homepage "
          data-turbo="false"
          data-analytics-event="{&quot;category&quot;:&quot;Header&quot;,&quot;action&quot;:&quot;go to dashboard&quot;,&quot;label&quot;:&quot;icon:logo&quot;}"
        >
          <svg height="32" aria-hidden="true" viewBox="0 0 16 16" version="1.1" width="32" data-view-component="true" class="octicon octicon-mark-github v-align-middle color-fg-default">
    <path d="M8 0c4.42 0 8 3.58 8 8a8.013 8.013 0 0 1-5.45 7.59c-.4.08-.55-.17-.55-.38 0-.27.01-1.13.01-2.2 0-.75-.25-1.23-.54-1.48 1.78-.2 3.65-.88 3.65-3.95 0-.88-.31-1.59-.82-2.15.08-.2.36-1.02-.08-2.12 0 0-.67-.22-2.2.82-.64-.18-1.32-.27-2-.27-.68 0-1.36.09-2 .27-1.53-1.03-2.2-.82-2.2-.82-.44 1.1-.16 1.92-.08 2.12-.51.56-.82 1.28-.82 2.15 0 3.06 1.86 3.75 3.64 3.95-.23.2-.44.55-.51 1.07-.46.21-1.61.55-2.33-.66-.15-.24-.6-.83-1.23-.82-.67.01-.27.38.01.53.34.19.73.9.82 1.13.16.45.68 1.31 2.69.94 0 .67.01 1.3.01 1.49 0 .21-.15.45-.55.38A7.995 7.995 0 0 1 0 8c0-4.42 3.58-8 8-8Z"></path>
</svg>
        </a>

          <div class="AppHeader-context" >
  <div class="AppHeader-context-compact">
      <button aria-expanded="false" aria-haspopup="dialog" aria-label="Page context: AlexLaudiano / imersao_python" id="dialog-show-context-region-dialog" data-show-dialog-id="context-region-dialog" type="button" data-view-component="true" class="AppHeader-context-compact-trigger Truncate Button--secondary Button--medium Button box-shadow-none">  <span class="Button-content">
    <span class="Button-label"><span class="AppHeader-context-compact-lead">
                <span class="AppHeader-context-compact-parentItem">AlexLaudiano</span>
                <span class="no-wrap">&nbsp;/</span>

            </span>

            <strong class="AppHeader-context-compact-mainItem d-flex flex-items-center Truncate" >
  <span class="Truncate-text ">imersao_python</span>

</strong></span>
  </span>
</button>

<dialog-helper>
  <dialog id="context-region-dialog" aria-modal="true" aria-labelledby="context-region-dialog-title" aria-describedby="context-region-dialog-description" data-view-component="true" class="Overlay Overlay-whenNarrow Overlay--size-medium Overlay--motion-scaleFade">
    <div data-view-component="true" class="Overlay-header">
  <div class="Overlay-headerContentWrap">
    <div class="Overlay-titleWrap">
      <h1 class="Overlay-title " id="context-region-dialog-title">
        Navigate back to
      </h1>
    </div>
    <div class="Overlay-actionWrap">
      <button data-close-dialog-id="context-region-dialog" aria-label="Close" type="button" data-view-component="true" class="close-button Overlay-closeButton"><svg aria-hidden="true" height="16" viewBox="0 0 16 16" version="1.1" width="16" data-view-component="true" class="octicon octicon-x">
    <path d="M3.72 3.72a.75.75 0 0 1 1.06 0L8 6.94l3.22-3.22a.749.749 0 0 1 1.275.326.749.749 0 0 1-.215.734L9.06 8l3.22 3.22a.749.749 0 0 1-.326 1.275.749.749 0 0 1-.734-.215L8 9.06l-3.22 3.22a.751.751 0 0 1-1.042-.018.751.751 0 0 1-.018-1.042L6.94 8 3.72 4.78a.75.75 0 0 1 0-1.06Z"></path>
</svg></button>
    </div>
  </div>
</div>
      <scrollable-region data-labelled-by="context-region-dialog-title">
        <div data-view-component="true" class="Overlay-body">          <ul role="list" class="list-style-none" >
    <li>
      <a data-analytics-event="{&quot;category&quot;:&quot;SiteHeaderComponent&quot;,&quot;action&quot;:&quot;context_region_crumb&quot;,&quot;label&quot;:&quot;AlexLaudiano&quot;,&quot;screen_size&quot;:&quot;compact&quot;}" href="/AlexLaudiano" data-view-component="true" class="Link--primary Truncate d-flex flex-items-center py-1">
        <span class="AppHeader-context-item-label Truncate-text ">
            <svg aria-hidden="true" height="12" viewBox="0 0 16 16" version="1.1" width="12" data-view-component="true" class="octicon octicon-person mr-1">
    <path d="M10.561 8.073a6.005 6.005 0 0 1 3.432 5.142.75.75 0 1 1-1.498.07 4.5 4.5 0 0 0-8.99 0 .75.75 0 0 1-1.498-.07 6.004 6.004 0 0 1 3.431-5.142 3.999 3.999 0 1 1 5.123 0ZM10.5 5a2.5 2.5 0 1 0-5 0 2.5 2.5 0 0 0 5 0Z"></path>
</svg>

          AlexLaudiano
        </span>

</a>
    </li>
    <li>
      <a data-analytics-event="{&quot;category&quot;:&quot;SiteHeaderComponent&quot;,&quot;action&quot;:&quot;context_region_crumb&quot;,&quot;label&quot;:&quot;imersao_python&quot;,&quot;screen_size&quot;:&quot;compact&quot;}" href="/AlexLaudiano/imersao_python" data-view-component="true" class="Link--primary Truncate d-flex flex-items-center py-1">
        <span class="AppHeader-context-item-label Truncate-text ">
            <svg aria-hidden="true" height="12" viewBox="0 0 16 16" version="1.1" width="12" data-view-component="true" class="octicon octicon-repo mr-1">
    <path d="M2 2.5A2.5 2.5 0 0 1 4.5 0h8.75a.75.75 0 0 1 .75.75v12.5a.75.75 0 0 1-.75.75h-2.5a.75.75 0 0 1 0-1.5h1.75v-2h-8a1 1 0 0 0-.714 1.7.75.75 0 1 1-1.072 1.05A2.495 2.495 0 0 1 2 11.5Zm10.5-1h-8a1 1 0 0 0-1 1v6.708A2.486 2.486 0 0 1 4.5 9h8ZM5 12.25a.25.25 0 0 1 .25-.25h3.5a.25.25 0 0 1 .25.25v3.25a.25.25 0 0 1-.4.2l-1.45-1.087a.249.249 0 0 0-.3 0L5.4 15.7a.25.25 0 0 1-.4-.2Z"></path>
</svg>

          imersao_python
        </span>

</a>
    </li>
</ul>

</div>
      </scrollable-region>
      
</dialog></dialog-helper>
  </div>

  <div class="AppHeader-context-full">
    <nav role="navigation" aria-label="Page context">
      <ul role="list" class="list-style-none" >
    <li>
      <a data-analytics-event="{&quot;category&quot;:&quot;SiteHeaderComponent&quot;,&quot;action&quot;:&quot;context_region_crumb&quot;,&quot;label&quot;:&quot;AlexLaudiano&quot;,&quot;screen_size&quot;:&quot;full&quot;}" data-hovercard-type="user" data-hovercard-url="/users/AlexLaudiano/hovercard" data-octo-click="hovercard-link-click" data-octo-dimensions="link_type:self" href="/AlexLaudiano" data-view-component="true" class="AppHeader-context-item">
        <span class="AppHeader-context-item-label  ">

          AlexLaudiano
        </span>

</a>
        <span class="AppHeader-context-item-separator">/</span>
    </li>
    <li>
      <a data-analytics-event="{&quot;category&quot;:&quot;SiteHeaderComponent&quot;,&quot;action&quot;:&quot;context_region_crumb&quot;,&quot;label&quot;:&quot;imersao_python&quot;,&quot;screen_size&quot;:&quot;full&quot;}" href="/AlexLaudiano/imersao_python" data-view-component="true" class="AppHeader-context-item">
        <span class="AppHeader-context-item-label  ">

          imersao_python
        </span>

</a>
    </li>
</ul>

    </nav>
  </div>
</div>

      </div>
      <div class="AppHeader-globalBar-end">
          <div class="AppHeader-search" >
              


<qbsearch-input class="search-input" data-scope="repo:AlexLaudiano/imersao_python" data-custom-scopes-path="/search/custom_scopes" data-delete-custom-scopes-csrf="8IH2m9Puy-ctqTzyCkvBL_qlGcBWlUuSHgT-2br8wy0qVggnwIy14m2bTqj1eiIA6JsGcc9jG3ATEmKMZPX3sQ" data-max-custom-scopes="10" data-header-redesign-enabled="true" data-initial-value="" data-blackbird-suggestions-path="/search/suggestions" data-jump-to-suggestions-path="/_graphql/GetSuggestedNavigationDestinations" data-current-repository="AlexLaudiano/imersao_python" data-current-org="" data-current-owner="AlexLaudiano" data-logged-in="true" data-copilot-chat-enabled="false" data-blackbird-indexed-repo-csrf="<input type=&quot;hidden&quot; value=&quot;Pg3BVUGgnItTx84ykw4J2loaRCUhIrhkewIpHbOyFvYQB69Cm1dj8c2ONn-U09XiIs2Q6IEcKc18LX09GEPUPA&quot; data-csrf=&quot;true&quot; />">
  <div
    class="search-input-container search-with-dialog position-relative d-flex flex-row flex-items-center height-auto color-bg-transparent border-0 color-fg-subtle mx-0"
    data-action="click:qbsearch-input#searchInputContainerClicked"
  >
      
            <button type="button" data-action="click:qbsearch-input#handleExpand" class="AppHeader-button AppHeader-search-whenNarrow" aria-label="Search or jump to…" aria-expanded="false" aria-haspopup="dialog">
            <svg aria-hidden="true" height="16" viewBox="0 0 16 16" version="1.1" width="16" data-view-component="true" class="octicon octicon-search">
    <path d="M10.68 11.74a6 6 0 0 1-7.922-8.982 6 6 0 0 1 8.982 7.922l3.04 3.04a.749.749 0 0 1-.326 1.275.749.749 0 0 1-.734-.215ZM11.5 7a4.499 4.499 0 1 0-8.997 0A4.499 4.499 0 0 0 11.5 7Z"></path>
</svg>
          </button>


<div class="AppHeader-search-whenRegular">
  <div class="AppHeader-search-wrap AppHeader-search-wrap--hasTrailing">
    <div class="AppHeader-search-control">
      <label
        for="AppHeader-searchInput"
        aria-label="Search or jump to…"
        class="AppHeader-search-visual--leading"
      >
        <svg aria-hidden="true" height="16" viewBox="0 0 16 16" version="1.1" width="16" data-view-component="true" class="octicon octicon-search">
    <path d="M10.68 11.74a6 6 0 0 1-7.922-8.982 6 6 0 0 1 8.982 7.922l3.04 3.04a.749.749 0 0 1-.326 1.275.749.749 0 0 1-.734-.215ZM11.5 7a4.499 4.499 0 1 0-8.997 0A4.499 4.499 0 0 0 11.5 7Z"></path>
</svg>
      </label>

                <button
            type="button"
            data-target="qbsearch-input.inputButton"
            data-action="click:qbsearch-input#handleExpand"
            class="AppHeader-searchButton form-control input-contrast text-left color-fg-subtle no-wrap"
            data-hotkey="s,/"
            data-analytics-event="{&quot;category&quot;:&quot;Global navigation&quot;,&quot;action&quot;:&quot;SEARCH&quot;,&quot;label&quot;:null}"
            aria-describedby="search-error-message-flash"
          >
            <div class="overflow-hidden">
              <span id="qb-input-query" data-target="qbsearch-input.inputButtonText">
                  Type <kbd class="AppHeader-search-kbd">/</kbd> to search
              </span>
            </div>
          </button>

    </div>


      <button type="button" id="AppHeader-commandPalette-button" class="AppHeader-search-action--trailing js-activate-command-palette" data-analytics-event="{&quot;category&quot;:&quot;SiteHeaderComponent&quot;,&quot;action&quot;:&quot;command_palette&quot;,&quot;label&quot;:&quot;open command palette&quot;}">
        <svg aria-hidden="true" height="16" viewBox="0 0 16 16" version="1.1" width="16" data-view-component="true" class="octicon octicon-command-palette">
    <path d="m6.354 8.04-4.773 4.773a.75.75 0 1 0 1.061 1.06L7.945 8.57a.75.75 0 0 0 0-1.06L2.642 2.206a.75.75 0 0 0-1.06 1.061L6.353 8.04ZM8.75 11.5a.75.75 0 0 0 0 1.5h5.5a.75.75 0 0 0 0-1.5h-5.5Z"></path>
</svg>
      </button>

      <tool-tip id="tooltip-1f30cb97-eede-4a81-bf3f-a49d2c9f122b" for="AppHeader-commandPalette-button" popover="manual" data-direction="s" data-type="label" data-view-component="true" class="sr-only position-absolute">Command palette</tool-tip>
  </div>
</div>

    <input type="hidden" name="type" class="js-site-search-type-field">

    
<div class="Overlay--hidden " data-modal-dialog-overlay>
  <modal-dialog data-action="close:qbsearch-input#handleClose cancel:qbsearch-input#handleClose" data-target="qbsearch-input.searchSuggestionsDialog" role="dialog" id="search-suggestions-dialog" aria-modal="true" aria-labelledby="search-suggestions-dialog-header" data-view-component="true" class="Overlay Overlay--width-medium Overlay--height-auto">
      <h1 id="search-suggestions-dialog-header" class="sr-only">Search code, repositories, users, issues, pull requests...</h1>
    <div class="Overlay-body Overlay-body--paddingNone">
      
          <div data-view-component="true">        <div class="search-suggestions position-absolute width-full color-shadow-large border color-fg-default color-bg-default overflow-hidden d-flex flex-column query-builder-container"
          style="border-radius: 12px;"
          data-target="qbsearch-input.queryBuilderContainer"
          hidden
        >
          <!-- '"` --><!-- </textarea></xmp> --></option></form><form id="query-builder-test-form" action="" accept-charset="UTF-8" method="get">
  <query-builder data-target="qbsearch-input.queryBuilder" id="query-builder-query-builder-test" data-filter-key=":" data-view-component="true" class="QueryBuilder search-query-builder">
    <div class="FormControl FormControl--fullWidth">
      <label id="query-builder-test-label" for="query-builder-test" class="FormControl-label sr-only">
        Search
      </label>
      <div
        class="QueryBuilder-StyledInput width-fit "
        data-target="query-builder.styledInput"
      >
          <span id="query-builder-test-leadingvisual-wrap" class="FormControl-input-leadingVisualWrap QueryBuilder-leadingVisualWrap">
            <svg aria-hidden="true" height="16" viewBox="0 0 16 16" version="1.1" width="16" data-view-component="true" class="octicon octicon-search FormControl-input-leadingVisual">
    <path d="M10.68 11.74a6 6 0 0 1-7.922-8.982 6 6 0 0 1 8.982 7.922l3.04 3.04a.749.749 0 0 1-.326 1.275.749.749 0 0 1-.734-.215ZM11.5 7a4.499 4.499 0 1 0-8.997 0A4.499 4.499 0 0 0 11.5 7Z"></path>
</svg>
          </span>
        <div data-target="query-builder.styledInputContainer" class="QueryBuilder-StyledInputContainer">
          <div
            aria-hidden="true"
            class="QueryBuilder-StyledInputContent"
            data-target="query-builder.styledInputContent"
          ></div>
          <div class="QueryBuilder-InputWrapper">
            <div aria-hidden="true" class="QueryBuilder-Sizer" data-target="query-builder.sizer"></div>
            <input id="query-builder-test" name="query-builder-test" value="" autocomplete="off" type="text" role="combobox" spellcheck="false" aria-expanded="false" aria-describedby="validation-52b547dc-a8f0-4ae5-8290-738057d407f0" data-target="query-builder.input" data-action="
          input:query-builder#inputChange
          blur:query-builder#inputBlur
          keydown:query-builder#inputKeydown
          focus:query-builder#inputFocus
        " data-view-component="true" class="FormControl-input QueryBuilder-Input FormControl-medium" />
          </div>
        </div>
          <span class="sr-only" id="query-builder-test-clear">Clear</span>
          <button role="button" id="query-builder-test-clear-button" aria-labelledby="query-builder-test-clear query-builder-test-label" data-target="query-builder.clearButton" data-action="
                click:query-builder#clear
                focus:query-builder#clearButtonFocus
                blur:query-builder#clearButtonBlur
              " variant="small" hidden="hidden" type="button" data-view-component="true" class="Button Button--iconOnly Button--invisible Button--medium mr-1 px-2 py-0 d-flex flex-items-center rounded-1 color-fg-muted">  <svg aria-hidden="true" height="16" viewBox="0 0 16 16" version="1.1" width="16" data-view-component="true" class="octicon octicon-x-circle-fill Button-visual">
    <path d="M2.343 13.657A8 8 0 1 1 13.658 2.343 8 8 0 0 1 2.343 13.657ZM6.03 4.97a.751.751 0 0 0-1.042.018.751.751 0 0 0-.018 1.042L6.94 8 4.97 9.97a.749.749 0 0 0 .326 1.275.749.749 0 0 0 .734-.215L8 9.06l1.97 1.97a.749.749 0 0 0 1.275-.326.749.749 0 0 0-.215-.734L9.06 8l1.97-1.97a.749.749 0 0 0-.326-1.275.749.749 0 0 0-.734.215L8 6.94Z"></path>
</svg>
</button>

      </div>
      <template id="search-icon">
  <svg aria-hidden="true" height="16" viewBox="0 0 16 16" version="1.1" width="16" data-view-component="true" class="octicon octicon-search">
    <path d="M10.68 11.74a6 6 0 0 1-7.922-8.982 6 6 0 0 1 8.982 7.922l3.04 3.04a.749.749 0 0 1-.326 1.275.749.749 0 0 1-.734-.215ZM11.5 7a4.499 4.499 0 1 0-8.997 0A4.499 4.499 0 0 0 11.5 7Z"></path>
</svg>
</template>

<template id="code-icon">
  <svg aria-hidden="true" height="16" viewBox="0 0 16 16" version="1.1" width="16" data-view-component="true" class="octicon octicon-code">
    <path d="m11.28 3.22 4.25 4.25a.75.75 0 0 1 0 1.06l-4.25 4.25a.749.749 0 0 1-1.275-.326.749.749 0 0 1 .215-.734L13.94 8l-3.72-3.72a.749.749 0 0 1 .326-1.275.749.749 0 0 1 .734.215Zm-6.56 0a.751.751 0 0 1 1.042.018.751.751 0 0 1 .018 1.042L2.06 8l3.72 3.72a.749.749 0 0 1-.326 1.275.749.749 0 0 1-.734-.215L.47 8.53a.75.75 0 0 1 0-1.06Z"></path>
</svg>
</template>

<template id="file-code-icon">
  <svg aria-hidden="true" height="16" viewBox="0 0 16 16" version="1.1" width="16" data-view-component="true" class="octicon octicon-file-code">
    <path d="M4 1.75C4 .784 4.784 0 5.75 0h5.586c.464 0 .909.184 1.237.513l2.914 2.914c.329.328.513.773.513 1.237v8.586A1.75 1.75 0 0 1 14.25 15h-9a.75.75 0 0 1 0-1.5h9a.25.25 0 0 0 .25-.25V6h-2.75A1.75 1.75 0 0 1 10 4.25V1.5H5.75a.25.25 0 0 0-.25.25v2.5a.75.75 0 0 1-1.5 0Zm1.72 4.97a.75.75 0 0 1 1.06 0l2 2a.75.75 0 0 1 0 1.06l-2 2a.749.749 0 0 1-1.275-.326.749.749 0 0 1 .215-.734l1.47-1.47-1.47-1.47a.75.75 0 0 1 0-1.06ZM3.28 7.78 1.81 9.25l1.47 1.47a.751.751 0 0 1-.018 1.042.751.751 0 0 1-1.042.018l-2-2a.75.75 0 0 1 0-1.06l2-2a.751.751 0 0 1 1.042.018.751.751 0 0 1 .018 1.042Zm8.22-6.218V4.25c0 .138.112.25.25.25h2.688l-.011-.013-2.914-2.914-.013-.011Z"></path>
</svg>
</template>

<template id="history-icon">
  <svg aria-hidden="true" height="16" viewBox="0 0 16 16" version="1.1" width="16" data-view-component="true" class="octicon octicon-history">
    <path d="m.427 1.927 1.215 1.215a8.002 8.002 0 1 1-1.6 5.685.75.75 0 1 1 1.493-.154 6.5 6.5 0 1 0 1.18-4.458l1.358 1.358A.25.25 0 0 1 3.896 6H.25A.25.25 0 0 1 0 5.75V2.104a.25.25 0 0 1 .427-.177ZM7.75 4a.75.75 0 0 1 .75.75v2.992l2.028.812a.75.75 0 0 1-.557 1.392l-2.5-1A.751.751 0 0 1 7 8.25v-3.5A.75.75 0 0 1 7.75 4Z"></path>
</svg>
</template>

<template id="repo-icon">
  <svg aria-hidden="true" height="16" viewBox="0 0 16 16" version="1.1" width="16" data-view-component="true" class="octicon octicon-repo">
    <path d="M2 2.5A2.5 2.5 0 0 1 4.5 0h8.75a.75.75 0 0 1 .75.75v12.5a.75.75 0 0 1-.75.75h-2.5a.75.75 0 0 1 0-1.5h1.75v-2h-8a1 1 0 0 0-.714 1.7.75.75 0 1 1-1.072 1.05A2.495 2.495 0 0 1 2 11.5Zm10.5-1h-8a1 1 0 0 0-1 1v6.708A2.486 2.486 0 0 1 4.5 9h8ZM5 12.25a.25.25 0 0 1 .25-.25h3.5a.25.25 0 0 1 .25.25v3.25a.25.25 0 0 1-.4.2l-1.45-1.087a.249.249 0 0 0-.3 0L5.4 15.7a.25.25 0 0 1-.4-.2Z"></path>
</svg>
</template>

<template id="bookmark-icon">
  <svg aria-hidden="true" height="16" viewBox="0 0 16 16" version="1.1" width="16" data-view-component="true" class="octicon octicon-bookmark">
    <path d="M3 2.75C3 1.784 3.784 1 4.75 1h6.5c.966 0 1.75.784 1.75 1.75v11.5a.75.75 0 0 1-1.227.579L8 11.722l-3.773 3.107A.751.751 0 0 1 3 14.25Zm1.75-.25a.25.25 0 0 0-.25.25v9.91l3.023-2.489a.75.75 0 0 1 .954 0l3.023 2.49V2.75a.25.25 0 0 0-.25-.25Z"></path>
</svg>
</template>

<template id="plus-circle-icon">
  <svg aria-hidden="true" height="16" viewBox="0 0 16 16" version="1.1" width="16" data-view-component="true" class="octicon octicon-plus-circle">
    <path d="M8 0a8 8 0 1 1 0 16A8 8 0 0 1 8 0ZM1.5 8a6.5 6.5 0 1 0 13 0 6.5 6.5 0 0 0-13 0Zm7.25-3.25v2.5h2.5a.75.75 0 0 1 0 1.5h-2.5v2.5a.75.75 0 0 1-1.5 0v-2.5h-2.5a.75.75 0 0 1 0-1.5h2.5v-2.5a.75.75 0 0 1 1.5 0Z"></path>
</svg>
</template>

<template id="circle-icon">
  <svg aria-hidden="true" height="16" viewBox="0 0 16 16" version="1.1" width="16" data-view-component="true" class="octicon octicon-dot-fill">
    <path d="M8 4a4 4 0 1 1 0 8 4 4 0 0 1 0-8Z"></path>
</svg>
</template>

<template id="trash-icon">
  <svg aria-hidden="true" height="16" viewBox="0 0 16 16" version="1.1" width="16" data-view-component="true" class="octicon octicon-trash">
    <path d="M11 1.75V3h2.25a.75.75 0 0 1 0 1.5H2.75a.75.75 0 0 1 0-1.5H5V1.75C5 .784 5.784 0 6.75 0h2.5C10.216 0 11 .784 11 1.75ZM4.496 6.675l.66 6.6a.25.25 0 0 0 .249.225h5.19a.25.25 0 0 0 .249-.225l.66-6.6a.75.75 0 0 1 1.492.149l-.66 6.6A1.748 1.748 0 0 1 10.595 15h-5.19a1.75 1.75 0 0 1-1.741-1.575l-.66-6.6a.75.75 0 1 1 1.492-.15ZM6.5 1.75V3h3V1.75a.25.25 0 0 0-.25-.25h-2.5a.25.25 0 0 0-.25.25Z"></path>
</svg>
</template>

<template id="team-icon">
  <svg aria-hidden="true" height="16" viewBox="0 0 16 16" version="1.1" width="16" data-view-component="true" class="octicon octicon-people">
    <path d="M2 5.5a3.5 3.5 0 1 1 5.898 2.549 5.508 5.508 0 0 1 3.034 4.084.75.75 0 1 1-1.482.235 4 4 0 0 0-7.9 0 .75.75 0 0 1-1.482-.236A5.507 5.507 0 0 1 3.102 8.05 3.493 3.493 0 0 1 2 5.5ZM11 4a3.001 3.001 0 0 1 2.22 5.018 5.01 5.01 0 0 1 2.56 3.012.749.749 0 0 1-.885.954.752.752 0 0 1-.549-.514 3.507 3.507 0 0 0-2.522-2.372.75.75 0 0 1-.574-.73v-.352a.75.75 0 0 1 .416-.672A1.5 1.5 0 0 0 11 5.5.75.75 0 0 1 11 4Zm-5.5-.5a2 2 0 1 0-.001 3.999A2 2 0 0 0 5.5 3.5Z"></path>
</svg>
</template>

<template id="project-icon">
  <svg aria-hidden="true" height="16" viewBox="0 0 16 16" version="1.1" width="16" data-view-component="true" class="octicon octicon-project">
    <path d="M1.75 0h12.5C15.216 0 16 .784 16 1.75v12.5A1.75 1.75 0 0 1 14.25 16H1.75A1.75 1.75 0 0 1 0 14.25V1.75C0 .784.784 0 1.75 0ZM1.5 1.75v12.5c0 .138.112.25.25.25h12.5a.25.25 0 0 0 .25-.25V1.75a.25.25 0 0 0-.25-.25H1.75a.25.25 0 0 0-.25.25ZM11.75 3a.75.75 0 0 1 .75.75v7.5a.75.75 0 0 1-1.5 0v-7.5a.75.75 0 0 1 .75-.75Zm-8.25.75a.75.75 0 0 1 1.5 0v5.5a.75.75 0 0 1-1.5 0ZM8 3a.75.75 0 0 1 .75.75v3.5a.75.75 0 0 1-1.5 0v-3.5A.75.75 0 0 1 8 3Z"></path>
</svg>
</template>

<template id="pencil-icon">
  <svg aria-hidden="true" height="16" viewBox="0 0 16 16" version="1.1" width="16" data-view-component="true" class="octicon octicon-pencil">
    <path d="M11.013 1.427a1.75 1.75 0 0 1 2.474 0l1.086 1.086a1.75 1.75 0 0 1 0 2.474l-8.61 8.61c-.21.21-.47.364-.756.445l-3.251.93a.75.75 0 0 1-.927-.928l.929-3.25c.081-.286.235-.547.445-.758l8.61-8.61Zm.176 4.823L9.75 4.81l-6.286 6.287a.253.253 0 0 0-.064.108l-.558 1.953 1.953-.558a.253.253 0 0 0 .108-.064Zm1.238-3.763a.25.25 0 0 0-.354 0L10.811 3.75l1.439 1.44 1.263-1.263a.25.25 0 0 0 0-.354Z"></path>
</svg>
</template>

<template id="copilot-icon">
  <svg aria-hidden="true" height="16" viewBox="0 0 16 16" version="1.1" width="16" data-view-component="true" class="octicon octicon-copilot">
    <path d="M7.998 15.035c-4.562 0-7.873-2.914-7.998-3.749V9.338c.085-.628.677-1.686 1.588-2.065.013-.07.024-.143.036-.218.029-.183.06-.384.126-.612-.201-.508-.254-1.084-.254-1.656 0-.87.128-1.769.693-2.484.579-.733 1.494-1.124 2.724-1.261 1.206-.134 2.262.034 2.944.765.05.053.096.108.139.165.044-.057.094-.112.143-.165.682-.731 1.738-.899 2.944-.765 1.23.137 2.145.528 2.724 1.261.566.715.693 1.614.693 2.484 0 .572-.053 1.148-.254 1.656.066.228.098.429.126.612.012.076.024.148.037.218.924.385 1.522 1.471 1.591 2.095v1.872c0 .766-3.351 3.795-8.002 3.795Zm0-1.485c2.28 0 4.584-1.11 5.002-1.433V7.862l-.023-.116c-.49.21-1.075.291-1.727.291-1.146 0-2.059-.327-2.71-.991A3.222 3.222 0 0 1 8 6.303a3.24 3.24 0 0 1-.544.743c-.65.664-1.563.991-2.71.991-.652 0-1.236-.081-1.727-.291l-.023.116v4.255c.419.323 2.722 1.433 5.002 1.433ZM6.762 2.83c-.193-.206-.637-.413-1.682-.297-1.019.113-1.479.404-1.713.7-.247.312-.369.789-.369 1.554 0 .793.129 1.171.308 1.371.162.181.519.379 1.442.379.853 0 1.339-.235 1.638-.54.315-.322.527-.827.617-1.553.117-.935-.037-1.395-.241-1.614Zm4.155-.297c-1.044-.116-1.488.091-1.681.297-.204.219-.359.679-.242 1.614.091.726.303 1.231.618 1.553.299.305.784.54 1.638.54.922 0 1.28-.198 1.442-.379.179-.2.308-.578.308-1.371 0-.765-.123-1.242-.37-1.554-.233-.296-.693-.587-1.713-.7Z"></path><path d="M6.25 9.037a.75.75 0 0 1 .75.75v1.501a.75.75 0 0 1-1.5 0V9.787a.75.75 0 0 1 .75-.75Zm4.25.75v1.501a.75.75 0 0 1-1.5 0V9.787a.75.75 0 0 1 1.5 0Z"></path>
</svg>
</template>

<template id="workflow-icon">
  <svg aria-hidden="true" height="16" viewBox="0 0 16 16" version="1.1" width="16" data-view-component="true" class="octicon octicon-workflow">
    <path d="M0 1.75C0 .784.784 0 1.75 0h3.5C6.216 0 7 .784 7 1.75v3.5A1.75 1.75 0 0 1 5.25 7H4v4a1 1 0 0 0 1 1h4v-1.25C9 9.784 9.784 9 10.75 9h3.5c.966 0 1.75.784 1.75 1.75v3.5A1.75 1.75 0 0 1 14.25 16h-3.5A1.75 1.75 0 0 1 9 14.25v-.75H5A2.5 2.5 0 0 1 2.5 11V7h-.75A1.75 1.75 0 0 1 0 5.25Zm1.75-.25a.25.25 0 0 0-.25.25v3.5c0 .138.112.25.25.25h3.5a.25.25 0 0 0 .25-.25v-3.5a.25.25 0 0 0-.25-.25Zm9 9a.25.25 0 0 0-.25.25v3.5c0 .138.112.25.25.25h3.5a.25.25 0 0 0 .25-.25v-3.5a.25.25 0 0 0-.25-.25Z"></path>
</svg>
</template>

<template id="book-icon">
  <svg aria-hidden="true" height="16" viewBox="0 0 16 16" version="1.1" width="16" data-view-component="true" class="octicon octicon-book">
    <path d="M0 1.75A.75.75 0 0 1 .75 1h4.253c1.227 0 2.317.59 3 1.501A3.743 3.743 0 0 1 11.006 1h4.245a.75.75 0 0 1 .75.75v10.5a.75.75 0 0 1-.75.75h-4.507a2.25 2.25 0 0 0-1.591.659l-.622.621a.75.75 0 0 1-1.06 0l-.622-.621A2.25 2.25 0 0 0 5.258 13H.75a.75.75 0 0 1-.75-.75Zm7.251 10.324.004-5.073-.002-2.253A2.25 2.25 0 0 0 5.003 2.5H1.5v9h3.757a3.75 3.75 0 0 1 1.994.574ZM8.755 4.75l-.004 7.322a3.752 3.752 0 0 1 1.992-.572H14.5v-9h-3.495a2.25 2.25 0 0 0-2.25 2.25Z"></path>
</svg>
</template>

<template id="code-review-icon">
  <svg aria-hidden="true" height="16" viewBox="0 0 16 16" version="1.1" width="16" data-view-component="true" class="octicon octicon-code-review">
    <path d="M1.75 1h12.5c.966 0 1.75.784 1.75 1.75v8.5A1.75 1.75 0 0 1 14.25 13H8.061l-2.574 2.573A1.458 1.458 0 0 1 3 14.543V13H1.75A1.75 1.75 0 0 1 0 11.25v-8.5C0 1.784.784 1 1.75 1ZM1.5 2.75v8.5c0 .138.112.25.25.25h2a.75.75 0 0 1 .75.75v2.19l2.72-2.72a.749.749 0 0 1 .53-.22h6.5a.25.25 0 0 0 .25-.25v-8.5a.25.25 0 0 0-.25-.25H1.75a.25.25 0 0 0-.25.25Zm5.28 1.72a.75.75 0 0 1 0 1.06L5.31 7l1.47 1.47a.751.751 0 0 1-.018 1.042.751.751 0 0 1-1.042.018l-2-2a.75.75 0 0 1 0-1.06l2-2a.75.75 0 0 1 1.06 0Zm2.44 0a.75.75 0 0 1 1.06 0l2 2a.75.75 0 0 1 0 1.06l-2 2a.751.751 0 0 1-1.042-.018.751.751 0 0 1-.018-1.042L10.69 7 9.22 5.53a.75.75 0 0 1 0-1.06Z"></path>
</svg>
</template>

<template id="codespaces-icon">
  <svg aria-hidden="true" height="16" viewBox="0 0 16 16" version="1.1" width="16" data-view-component="true" class="octicon octicon-codespaces">
    <path d="M0 11.25c0-.966.784-1.75 1.75-1.75h12.5c.966 0 1.75.784 1.75 1.75v3A1.75 1.75 0 0 1 14.25 16H1.75A1.75 1.75 0 0 1 0 14.25Zm2-9.5C2 .784 2.784 0 3.75 0h8.5C13.216 0 14 .784 14 1.75v5a1.75 1.75 0 0 1-1.75 1.75h-8.5A1.75 1.75 0 0 1 2 6.75Zm1.75-.25a.25.25 0 0 0-.25.25v5c0 .138.112.25.25.25h8.5a.25.25 0 0 0 .25-.25v-5a.25.25 0 0 0-.25-.25Zm-2 9.5a.25.25 0 0 0-.25.25v3c0 .138.112.25.25.25h12.5a.25.25 0 0 0 .25-.25v-3a.25.25 0 0 0-.25-.25Z"></path><path d="M7 12.75a.75.75 0 0 1 .75-.75h4.5a.75.75 0 0 1 0 1.5h-4.5a.75.75 0 0 1-.75-.75Zm-4 0a.75.75 0 0 1 .75-.75h.5a.75.75 0 0 1 0 1.5h-.5a.75.75 0 0 1-.75-.75Z"></path>
</svg>
</template>

<template id="comment-icon">
  <svg aria-hidden="true" height="16" viewBox="0 0 16 16" version="1.1" width="16" data-view-component="true" class="octicon octicon-comment">
    <path d="M1 2.75C1 1.784 1.784 1 2.75 1h10.5c.966 0 1.75.784 1.75 1.75v7.5A1.75 1.75 0 0 1 13.25 12H9.06l-2.573 2.573A1.458 1.458 0 0 1 4 13.543V12H2.75A1.75 1.75 0 0 1 1 10.25Zm1.75-.25a.25.25 0 0 0-.25.25v7.5c0 .138.112.25.25.25h2a.75.75 0 0 1 .75.75v2.19l2.72-2.72a.749.749 0 0 1 .53-.22h4.5a.25.25 0 0 0 .25-.25v-7.5a.25.25 0 0 0-.25-.25Z"></path>
</svg>
</template>

<template id="comment-discussion-icon">
  <svg aria-hidden="true" height="16" viewBox="0 0 16 16" version="1.1" width="16" data-view-component="true" class="octicon octicon-comment-discussion">
    <path d="M1.75 1h8.5c.966 0 1.75.784 1.75 1.75v5.5A1.75 1.75 0 0 1 10.25 10H7.061l-2.574 2.573A1.458 1.458 0 0 1 2 11.543V10h-.25A1.75 1.75 0 0 1 0 8.25v-5.5C0 1.784.784 1 1.75 1ZM1.5 2.75v5.5c0 .138.112.25.25.25h1a.75.75 0 0 1 .75.75v2.19l2.72-2.72a.749.749 0 0 1 .53-.22h3.5a.25.25 0 0 0 .25-.25v-5.5a.25.25 0 0 0-.25-.25h-8.5a.25.25 0 0 0-.25.25Zm13 2a.25.25 0 0 0-.25-.25h-.5a.75.75 0 0 1 0-1.5h.5c.966 0 1.75.784 1.75 1.75v5.5A1.75 1.75 0 0 1 14.25 12H14v1.543a1.458 1.458 0 0 1-2.487 1.03L9.22 12.28a.749.749 0 0 1 .326-1.275.749.749 0 0 1 .734.215l2.22 2.22v-2.19a.75.75 0 0 1 .75-.75h1a.25.25 0 0 0 .25-.25Z"></path>
</svg>
</template>

<template id="organization-icon">
  <svg aria-hidden="true" height="16" viewBox="0 0 16 16" version="1.1" width="16" data-view-component="true" class="octicon octicon-organization">
    <path d="M1.75 16A1.75 1.75 0 0 1 0 14.25V1.75C0 .784.784 0 1.75 0h8.5C11.216 0 12 .784 12 1.75v12.5c0 .085-.006.168-.018.25h2.268a.25.25 0 0 0 .25-.25V8.285a.25.25 0 0 0-.111-.208l-1.055-.703a.749.749 0 1 1 .832-1.248l1.055.703c.487.325.779.871.779 1.456v5.965A1.75 1.75 0 0 1 14.25 16h-3.5a.766.766 0 0 1-.197-.026c-.099.017-.2.026-.303.026h-3a.75.75 0 0 1-.75-.75V14h-1v1.25a.75.75 0 0 1-.75.75Zm-.25-1.75c0 .138.112.25.25.25H4v-1.25a.75.75 0 0 1 .75-.75h2.5a.75.75 0 0 1 .75.75v1.25h2.25a.25.25 0 0 0 .25-.25V1.75a.25.25 0 0 0-.25-.25h-8.5a.25.25 0 0 0-.25.25ZM3.75 6h.5a.75.75 0 0 1 0 1.5h-.5a.75.75 0 0 1 0-1.5ZM3 3.75A.75.75 0 0 1 3.75 3h.5a.75.75 0 0 1 0 1.5h-.5A.75.75 0 0 1 3 3.75Zm4 3A.75.75 0 0 1 7.75 6h.5a.75.75 0 0 1 0 1.5h-.5A.75.75 0 0 1 7 6.75ZM7.75 3h.5a.75.75 0 0 1 0 1.5h-.5a.75.75 0 0 1 0-1.5ZM3 9.75A.75.75 0 0 1 3.75 9h.5a.75.75 0 0 1 0 1.5h-.5A.75.75 0 0 1 3 9.75ZM7.75 9h.5a.75.75 0 0 1 0 1.5h-.5a.75.75 0 0 1 0-1.5Z"></path>
</svg>
</template>

<template id="rocket-icon">
  <svg aria-hidden="true" height="16" viewBox="0 0 16 16" version="1.1" width="16" data-view-component="true" class="octicon octicon-rocket">
    <path d="M14.064 0h.186C15.216 0 16 .784 16 1.75v.186a8.752 8.752 0 0 1-2.564 6.186l-.458.459c-.314.314-.641.616-.979.904v3.207c0 .608-.315 1.172-.833 1.49l-2.774 1.707a.749.749 0 0 1-1.11-.418l-.954-3.102a1.214 1.214 0 0 1-.145-.125L3.754 9.816a1.218 1.218 0 0 1-.124-.145L.528 8.717a.749.749 0 0 1-.418-1.11l1.71-2.774A1.748 1.748 0 0 1 3.31 4h3.204c.288-.338.59-.665.904-.979l.459-.458A8.749 8.749 0 0 1 14.064 0ZM8.938 3.623h-.002l-.458.458c-.76.76-1.437 1.598-2.02 2.5l-1.5 2.317 2.143 2.143 2.317-1.5c.902-.583 1.74-1.26 2.499-2.02l.459-.458a7.25 7.25 0 0 0 2.123-5.127V1.75a.25.25 0 0 0-.25-.25h-.186a7.249 7.249 0 0 0-5.125 2.123ZM3.56 14.56c-.732.732-2.334 1.045-3.005 1.148a.234.234 0 0 1-.201-.064.234.234 0 0 1-.064-.201c.103-.671.416-2.273 1.15-3.003a1.502 1.502 0 1 1 2.12 2.12Zm6.94-3.935c-.088.06-.177.118-.266.175l-2.35 1.521.548 1.783 1.949-1.2a.25.25 0 0 0 .119-.213ZM3.678 8.116 5.2 5.766c.058-.09.117-.178.176-.266H3.309a.25.25 0 0 0-.213.119l-1.2 1.95ZM12 5a1 1 0 1 1-2 0 1 1 0 0 1 2 0Z"></path>
</svg>
</template>

<template id="shield-check-icon">
  <svg aria-hidden="true" height="16" viewBox="0 0 16 16" version="1.1" width="16" data-view-component="true" class="octicon octicon-shield-check">
    <path d="m8.533.133 5.25 1.68A1.75 1.75 0 0 1 15 3.48V7c0 1.566-.32 3.182-1.303 4.682-.983 1.498-2.585 2.813-5.032 3.855a1.697 1.697 0 0 1-1.33 0c-2.447-1.042-4.049-2.357-5.032-3.855C1.32 10.182 1 8.566 1 7V3.48a1.75 1.75 0 0 1 1.217-1.667l5.25-1.68a1.748 1.748 0 0 1 1.066 0Zm-.61 1.429.001.001-5.25 1.68a.251.251 0 0 0-.174.237V7c0 1.36.275 2.666 1.057 3.859.784 1.194 2.121 2.342 4.366 3.298a.196.196 0 0 0 .154 0c2.245-.957 3.582-2.103 4.366-3.297C13.225 9.666 13.5 8.358 13.5 7V3.48a.25.25 0 0 0-.174-.238l-5.25-1.68a.25.25 0 0 0-.153 0ZM11.28 6.28l-3.5 3.5a.75.75 0 0 1-1.06 0l-1.5-1.5a.749.749 0 0 1 .326-1.275.749.749 0 0 1 .734.215l.97.97 2.97-2.97a.751.751 0 0 1 1.042.018.751.751 0 0 1 .018 1.042Z"></path>
</svg>
</template>

<template id="heart-icon">
  <svg aria-hidden="true" height="16" viewBox="0 0 16 16" version="1.1" width="16" data-view-component="true" class="octicon octicon-heart">
    <path d="m8 14.25.345.666a.75.75 0 0 1-.69 0l-.008-.004-.018-.01a7.152 7.152 0 0 1-.31-.17 22.055 22.055 0 0 1-3.434-2.414C2.045 10.731 0 8.35 0 5.5 0 2.836 2.086 1 4.25 1 5.797 1 7.153 1.802 8 3.02 8.847 1.802 10.203 1 11.75 1 13.914 1 16 2.836 16 5.5c0 2.85-2.045 5.231-3.885 6.818a22.066 22.066 0 0 1-3.744 2.584l-.018.01-.006.003h-.002ZM4.25 2.5c-1.336 0-2.75 1.164-2.75 3 0 2.15 1.58 4.144 3.365 5.682A20.58 20.58 0 0 0 8 13.393a20.58 20.58 0 0 0 3.135-2.211C12.92 9.644 14.5 7.65 14.5 5.5c0-1.836-1.414-3-2.75-3-1.373 0-2.609.986-3.029 2.456a.749.749 0 0 1-1.442 0C6.859 3.486 5.623 2.5 4.25 2.5Z"></path>
</svg>
</template>

<template id="server-icon">
  <svg aria-hidden="true" height="16" viewBox="0 0 16 16" version="1.1" width="16" data-view-component="true" class="octicon octicon-server">
    <path d="M1.75 1h12.5c.966 0 1.75.784 1.75 1.75v4c0 .372-.116.717-.314 1 .198.283.314.628.314 1v4a1.75 1.75 0 0 1-1.75 1.75H1.75A1.75 1.75 0 0 1 0 12.75v-4c0-.358.109-.707.314-1a1.739 1.739 0 0 1-.314-1v-4C0 1.784.784 1 1.75 1ZM1.5 2.75v4c0 .138.112.25.25.25h12.5a.25.25 0 0 0 .25-.25v-4a.25.25 0 0 0-.25-.25H1.75a.25.25 0 0 0-.25.25Zm.25 5.75a.25.25 0 0 0-.25.25v4c0 .138.112.25.25.25h12.5a.25.25 0 0 0 .25-.25v-4a.25.25 0 0 0-.25-.25ZM7 4.75A.75.75 0 0 1 7.75 4h4.5a.75.75 0 0 1 0 1.5h-4.5A.75.75 0 0 1 7 4.75ZM7.75 10h4.5a.75.75 0 0 1 0 1.5h-4.5a.75.75 0 0 1 0-1.5ZM3 4.75A.75.75 0 0 1 3.75 4h.5a.75.75 0 0 1 0 1.5h-.5A.75.75 0 0 1 3 4.75ZM3.75 10h.5a.75.75 0 0 1 0 1.5h-.5a.75.75 0 0 1 0-1.5Z"></path>
</svg>
</template>

<template id="globe-icon">
  <svg aria-hidden="true" height="16" viewBox="0 0 16 16" version="1.1" width="16" data-view-component="true" class="octicon octicon-globe">
    <path d="M8 0a8 8 0 1 1 0 16A8 8 0 0 1 8 0ZM5.78 8.75a9.64 9.64 0 0 0 1.363 4.177c.255.426.542.832.857 1.215.245-.296.551-.705.857-1.215A9.64 9.64 0 0 0 10.22 8.75Zm4.44-1.5a9.64 9.64 0 0 0-1.363-4.177c-.307-.51-.612-.919-.857-1.215a9.927 9.927 0 0 0-.857 1.215A9.64 9.64 0 0 0 5.78 7.25Zm-5.944 1.5H1.543a6.507 6.507 0 0 0 4.666 5.5c-.123-.181-.24-.365-.352-.552-.715-1.192-1.437-2.874-1.581-4.948Zm-2.733-1.5h2.733c.144-2.074.866-3.756 1.58-4.948.12-.197.237-.381.353-.552a6.507 6.507 0 0 0-4.666 5.5Zm10.181 1.5c-.144 2.074-.866 3.756-1.58 4.948-.12.197-.237.381-.353.552a6.507 6.507 0 0 0 4.666-5.5Zm2.733-1.5a6.507 6.507 0 0 0-4.666-5.5c.123.181.24.365.353.552.714 1.192 1.436 2.874 1.58 4.948Z"></path>
</svg>
</template>

<template id="issue-opened-icon">
  <svg aria-hidden="true" height="16" viewBox="0 0 16 16" version="1.1" width="16" data-view-component="true" class="octicon octicon-issue-opened">
    <path d="M8 9.5a1.5 1.5 0 1 0 0-3 1.5 1.5 0 0 0 0 3Z"></path><path d="M8 0a8 8 0 1 1 0 16A8 8 0 0 1 8 0ZM1.5 8a6.5 6.5 0 1 0 13 0 6.5 6.5 0 0 0-13 0Z"></path>
</svg>
</template>

<template id="device-mobile-icon">
  <svg aria-hidden="true" height="16" viewBox="0 0 16 16" version="1.1" width="16" data-view-component="true" class="octicon octicon-device-mobile">
    <path d="M3.75 0h8.5C13.216 0 14 .784 14 1.75v12.5A1.75 1.75 0 0 1 12.25 16h-8.5A1.75 1.75 0 0 1 2 14.25V1.75C2 .784 2.784 0 3.75 0ZM3.5 1.75v12.5c0 .138.112.25.25.25h8.5a.25.25 0 0 0 .25-.25V1.75a.25.25 0 0 0-.25-.25h-8.5a.25.25 0 0 0-.25.25ZM8 13a1 1 0 1 1 0-2 1 1 0 0 1 0 2Z"></path>
</svg>
</template>

<template id="package-icon">
  <svg aria-hidden="true" height="16" viewBox="0 0 16 16" version="1.1" width="16" data-view-component="true" class="octicon octicon-package">
    <path d="m8.878.392 5.25 3.045c.54.314.872.89.872 1.514v6.098a1.75 1.75 0 0 1-.872 1.514l-5.25 3.045a1.75 1.75 0 0 1-1.756 0l-5.25-3.045A1.75 1.75 0 0 1 1 11.049V4.951c0-.624.332-1.201.872-1.514L7.122.392a1.75 1.75 0 0 1 1.756 0ZM7.875 1.69l-4.63 2.685L8 7.133l4.755-2.758-4.63-2.685a.248.248 0 0 0-.25 0ZM2.5 5.677v5.372c0 .09.047.171.125.216l4.625 2.683V8.432Zm6.25 8.271 4.625-2.683a.25.25 0 0 0 .125-.216V5.677L8.75 8.432Z"></path>
</svg>
</template>

<template id="credit-card-icon">
  <svg aria-hidden="true" height="16" viewBox="0 0 16 16" version="1.1" width="16" data-view-component="true" class="octicon octicon-credit-card">
    <path d="M10.75 9a.75.75 0 0 0 0 1.5h1.5a.75.75 0 0 0 0-1.5h-1.5Z"></path><path d="M0 3.75C0 2.784.784 2 1.75 2h12.5c.966 0 1.75.784 1.75 1.75v8.5A1.75 1.75 0 0 1 14.25 14H1.75A1.75 1.75 0 0 1 0 12.25ZM14.5 6.5h-13v5.75c0 .138.112.25.25.25h12.5a.25.25 0 0 0 .25-.25Zm0-2.75a.25.25 0 0 0-.25-.25H1.75a.25.25 0 0 0-.25.25V5h13Z"></path>
</svg>
</template>

<template id="play-icon">
  <svg aria-hidden="true" height="16" viewBox="0 0 16 16" version="1.1" width="16" data-view-component="true" class="octicon octicon-play">
    <path d="M8 0a8 8 0 1 1 0 16A8 8 0 0 1 8 0ZM1.5 8a6.5 6.5 0 1 0 13 0 6.5 6.5 0 0 0-13 0Zm4.879-2.773 4.264 2.559a.25.25 0 0 1 0 .428l-4.264 2.559A.25.25 0 0 1 6 10.559V5.442a.25.25 0 0 1 .379-.215Z"></path>
</svg>
</template>

<template id="gift-icon">
  <svg aria-hidden="true" height="16" viewBox="0 0 16 16" version="1.1" width="16" data-view-component="true" class="octicon octicon-gift">
    <path d="M2 2.75A2.75 2.75 0 0 1 4.75 0c.983 0 1.873.42 2.57 1.232.268.318.497.668.68 1.042.183-.375.411-.725.68-1.044C9.376.42 10.266 0 11.25 0a2.75 2.75 0 0 1 2.45 4h.55c.966 0 1.75.784 1.75 1.75v2c0 .698-.409 1.301-1 1.582v4.918A1.75 1.75 0 0 1 13.25 16H2.75A1.75 1.75 0 0 1 1 14.25V9.332C.409 9.05 0 8.448 0 7.75v-2C0 4.784.784 4 1.75 4h.55c-.192-.375-.3-.8-.3-1.25ZM7.25 9.5H2.5v4.75c0 .138.112.25.25.25h4.5Zm1.5 0v5h4.5a.25.25 0 0 0 .25-.25V9.5Zm0-4V8h5.5a.25.25 0 0 0 .25-.25v-2a.25.25 0 0 0-.25-.25Zm-7 0a.25.25 0 0 0-.25.25v2c0 .138.112.25.25.25h5.5V5.5h-5.5Zm3-4a1.25 1.25 0 0 0 0 2.5h2.309c-.233-.818-.542-1.401-.878-1.793-.43-.502-.915-.707-1.431-.707ZM8.941 4h2.309a1.25 1.25 0 0 0 0-2.5c-.516 0-1 .205-1.43.707-.337.392-.646.975-.879 1.793Z"></path>
</svg>
</template>

<template id="code-square-icon">
  <svg aria-hidden="true" height="16" viewBox="0 0 16 16" version="1.1" width="16" data-view-component="true" class="octicon octicon-code-square">
    <path d="M0 1.75C0 .784.784 0 1.75 0h12.5C15.216 0 16 .784 16 1.75v12.5A1.75 1.75 0 0 1 14.25 16H1.75A1.75 1.75 0 0 1 0 14.25Zm1.75-.25a.25.25 0 0 0-.25.25v12.5c0 .138.112.25.25.25h12.5a.25.25 0 0 0 .25-.25V1.75a.25.25 0 0 0-.25-.25Zm7.47 3.97a.75.75 0 0 1 1.06 0l2 2a.75.75 0 0 1 0 1.06l-2 2a.749.749 0 0 1-1.275-.326.749.749 0 0 1 .215-.734L10.69 8 9.22 6.53a.75.75 0 0 1 0-1.06ZM6.78 6.53 5.31 8l1.47 1.47a.749.749 0 0 1-.326 1.275.749.749 0 0 1-.734-.215l-2-2a.75.75 0 0 1 0-1.06l2-2a.751.751 0 0 1 1.042.018.751.751 0 0 1 .018 1.042Z"></path>
</svg>
</template>

<template id="device-desktop-icon">
  <svg aria-hidden="true" height="16" viewBox="0 0 16 16" version="1.1" width="16" data-view-component="true" class="octicon octicon-device-desktop">
    <path d="M14.25 1c.966 0 1.75.784 1.75 1.75v7.5A1.75 1.75 0 0 1 14.25 12h-3.727c.099 1.041.52 1.872 1.292 2.757A.752.752 0 0 1 11.25 16h-6.5a.75.75 0 0 1-.565-1.243c.772-.885 1.192-1.716 1.292-2.757H1.75A1.75 1.75 0 0 1 0 10.25v-7.5C0 1.784.784 1 1.75 1ZM1.75 2.5a.25.25 0 0 0-.25.25v7.5c0 .138.112.25.25.25h12.5a.25.25 0 0 0 .25-.25v-7.5a.25.25 0 0 0-.25-.25ZM9.018 12H6.982a5.72 5.72 0 0 1-.765 2.5h3.566a5.72 5.72 0 0 1-.765-2.5Z"></path>
</svg>
</template>

        <div class="position-relative">
                <ul
                  role="listbox"
                  class="ActionListWrap QueryBuilder-ListWrap"
                  aria-label="Suggestions"
                  data-action="
                    combobox-commit:query-builder#comboboxCommit
                    mousedown:query-builder#resultsMousedown
                  "
                  data-target="query-builder.resultsList"
                  data-persist-list=false
                  id="query-builder-test-results"
                ></ul>
        </div>
      <div class="FormControl-inlineValidation" id="validation-52b547dc-a8f0-4ae5-8290-738057d407f0" hidden="hidden">
        <span class="FormControl-inlineValidation--visual">
          <svg aria-hidden="true" height="12" viewBox="0 0 12 12" version="1.1" width="12" data-view-component="true" class="octicon octicon-alert-fill">
    <path d="M4.855.708c.5-.896 1.79-.896 2.29 0l4.675 8.351a1.312 1.312 0 0 1-1.146 1.954H1.33A1.313 1.313 0 0 1 .183 9.058ZM7 7V3H5v4Zm-1 3a1 1 0 1 0 0-2 1 1 0 0 0 0 2Z"></path>
</svg>
        </span>
        <span></span>
</div>    </div>
    <div data-target="query-builder.screenReaderFeedback" aria-live="polite" aria-atomic="true" class="sr-only"></div>
</query-builder></form>
          <div class="d-flex flex-row color-fg-muted px-3 text-small color-bg-default search-feedback-prompt">
            <a target="_blank" href="https://docs.github.com/search-github/github-code-search/understanding-github-code-search-syntax" data-view-component="true" class="Link color-fg-accent text-normal ml-2">
              Search syntax tips
</a>            <div class="d-flex flex-1"></div>
              <button data-action="click:qbsearch-input#showFeedbackDialog" type="button" data-view-component="true" class="Button--link Button--medium Button color-fg-accent text-normal ml-2">  <span class="Button-content">
    <span class="Button-label">Give feedback</span>
  </span>
</button>
          </div>
        </div>
</div>

    </div>
</modal-dialog></div>
  </div>
  <div data-action="click:qbsearch-input#retract" class="dark-backdrop position-fixed" hidden data-target="qbsearch-input.darkBackdrop"></div>
  <div class="color-fg-default">
    
<dialog-helper>
  <dialog data-target="qbsearch-input.feedbackDialog" data-action="close:qbsearch-input#handleDialogClose cancel:qbsearch-input#handleDialogClose" id="feedback-dialog" aria-modal="true" aria-labelledby="feedback-dialog-title" aria-describedby="feedback-dialog-description" data-view-component="true" class="Overlay Overlay-whenNarrow Overlay--size-medium Overlay--motion-scaleFade">
    <div data-view-component="true" class="Overlay-header">
  <div class="Overlay-headerContentWrap">
    <div class="Overlay-titleWrap">
      <h1 class="Overlay-title " id="feedback-dialog-title">
        Provide feedback
      </h1>
    </div>
    <div class="Overlay-actionWrap">
      <button data-close-dialog-id="feedback-dialog" aria-label="Close" type="button" data-view-component="true" class="close-button Overlay-closeButton"><svg aria-hidden="true" height="16" viewBox="0 0 16 16" version="1.1" width="16" data-view-component="true" class="octicon octicon-x">
    <path d="M3.72 3.72a.75.75 0 0 1 1.06 0L8 6.94l3.22-3.22a.749.749 0 0 1 1.275.326.749.749 0 0 1-.215.734L9.06 8l3.22 3.22a.749.749 0 0 1-.326 1.275.749.749 0 0 1-.734-.215L8 9.06l-3.22 3.22a.751.751 0 0 1-1.042-.018.751.751 0 0 1-.018-1.042L6.94 8 3.72 4.78a.75.75 0 0 1 0-1.06Z"></path>
</svg></button>
    </div>
  </div>
</div>
      <scrollable-region data-labelled-by="feedback-dialog-title">
        <div data-view-component="true" class="Overlay-body">        <!-- '"` --><!-- </textarea></xmp> --></option></form><form id="code-search-feedback-form" data-turbo="false" action="/search/feedback" accept-charset="UTF-8" method="post"><input type="hidden" name="authenticity_token" value="gNjYkdY1zPdnKOz3Vgqs3C_S3sQeoFHTK7MuWY39Vk9Q88PCFsgwzpjC69rNONN3zBmxHPcFKH0RxOVbsn8FbQ" />
          <p>We read every piece of feedback, and take your input very seriously.</p>
          <textarea name="feedback" class="form-control width-full mb-2" style="height: 120px" id="feedback"></textarea>
          <input name="include_email" id="include_email" aria-label="Include my email address so I can be contacted" class="form-control mr-2" type="checkbox">
          <label for="include_email" style="font-weight: normal">Include my email address so I can be contacted</label>
</form></div>
      </scrollable-region>
      <div data-view-component="true" class="Overlay-footer Overlay-footer--alignEnd">          <button data-close-dialog-id="feedback-dialog" type="button" data-view-component="true" class="btn">    Cancel
</button>
          <button form="code-search-feedback-form" data-action="click:qbsearch-input#submitFeedback" type="submit" data-view-component="true" class="btn-primary btn">    Submit feedback
</button>
</div>
</dialog></dialog-helper>

    <custom-scopes data-target="qbsearch-input.customScopesManager">
    
<dialog-helper>
  <dialog data-target="custom-scopes.customScopesModalDialog" data-action="close:qbsearch-input#handleDialogClose cancel:qbsearch-input#handleDialogClose" id="custom-scopes-dialog" aria-modal="true" aria-labelledby="custom-scopes-dialog-title" aria-describedby="custom-scopes-dialog-description" data-view-component="true" class="Overlay Overlay-whenNarrow Overlay--size-medium Overlay--motion-scaleFade">
    <div data-view-component="true" class="Overlay-header Overlay-header--divided">
  <div class="Overlay-headerContentWrap">
    <div class="Overlay-titleWrap">
      <h1 class="Overlay-title " id="custom-scopes-dialog-title">
        Saved searches
      </h1>
        <h2 id="custom-scopes-dialog-description" class="Overlay-description">Use saved searches to filter your results more quickly</h2>
    </div>
    <div class="Overlay-actionWrap">
      <button data-close-dialog-id="custom-scopes-dialog" aria-label="Close" type="button" data-view-component="true" class="close-button Overlay-closeButton"><svg aria-hidden="true" height="16" viewBox="0 0 16 16" version="1.1" width="16" data-view-component="true" class="octicon octicon-x">
    <path d="M3.72 3.72a.75.75 0 0 1 1.06 0L8 6.94l3.22-3.22a.749.749 0 0 1 1.275.326.749.749 0 0 1-.215.734L9.06 8l3.22 3.22a.749.749 0 0 1-.326 1.275.749.749 0 0 1-.734-.215L8 9.06l-3.22 3.22a.751.751 0 0 1-1.042-.018.751.751 0 0 1-.018-1.042L6.94 8 3.72 4.78a.75.75 0 0 1 0-1.06Z"></path>
</svg></button>
    </div>
  </div>
</div>
      <scrollable-region data-labelled-by="custom-scopes-dialog-title">
        <div data-view-component="true" class="Overlay-body">        <div data-target="custom-scopes.customScopesModalDialogFlash"></div>

        <div hidden class="create-custom-scope-form" data-target="custom-scopes.createCustomScopeForm">
        <!-- '"` --><!-- </textarea></xmp> --></option></form><form id="custom-scopes-dialog-form" data-turbo="false" action="/search/custom_scopes" accept-charset="UTF-8" method="post"><input type="hidden" name="authenticity_token" value="m9_R5-q-BCFqmopexouJV38-zmeSGGEcFGLBzyWVnqgcnvnF8PAvVBWC2V3hs2f6xvh9qLERp0pt5oL3mmhb-w" />
          <div data-target="custom-scopes.customScopesModalDialogFlash"></div>

          <input type="hidden" id="custom_scope_id" name="custom_scope_id" data-target="custom-scopes.customScopesIdField">

          <div class="form-group">
            <label for="custom_scope_name">Name</label>
            <auto-check src="/search/custom_scopes/check_name" required>
              <input
                type="text"
                name="custom_scope_name"
                id="custom_scope_name"
                data-target="custom-scopes.customScopesNameField"
                class="form-control"
                autocomplete="off"
                placeholder="github-ruby"
                required
                maxlength="50">
              <input type="hidden" value="YXfFUMFvmfx61ABRFI2Oo1q-iGmxqM7ZNrlzn-qHVIF1BGkt5ubl5iti5JWC2p0KoAqP2J80NmyELwEt_uBe0g" data-csrf="true" />
            </auto-check>
          </div>

          <div class="form-group">
            <label for="custom_scope_query">Query</label>
            <input
              type="text"
              name="custom_scope_query"
              id="custom_scope_query"
              data-target="custom-scopes.customScopesQueryField"
              class="form-control"
              autocomplete="off"
              placeholder="(repo:mona/a OR repo:mona/b) AND lang:python"
              required
              maxlength="500">
          </div>

          <p class="text-small color-fg-muted">
            To see all available qualifiers, see our <a class="Link--inTextBlock" href="https://docs.github.com/search-github/github-code-search/understanding-github-code-search-syntax">documentation</a>.
          </p>
</form>        </div>

        <div data-target="custom-scopes.manageCustomScopesForm">
          <div data-target="custom-scopes.list"></div>
        </div>

</div>
      </scrollable-region>
      <div data-view-component="true" class="Overlay-footer Overlay-footer--alignEnd Overlay-footer--divided">          <button data-action="click:custom-scopes#customScopesCancel" type="button" data-view-component="true" class="btn">    Cancel
</button>
          <button form="custom-scopes-dialog-form" data-action="click:custom-scopes#customScopesSubmit" data-target="custom-scopes.customScopesSubmitButton" type="submit" data-view-component="true" class="btn-primary btn">    Create saved search
</button>
</div>
</dialog></dialog-helper>
    </custom-scopes>
  </div>
</qbsearch-input><input type="hidden" value="JfLmQZfO7Q2DNOk6C3n2oPkxz0cebH7ri2JoVywzJCDdzAipQiJPyOTbUxenqIVeL_mIpZH1qJdV-GIHBXIuaw" data-csrf="true" class="js-data-jump-to-suggestions-path-csrf" />

          </div>

        <div class="AppHeader-actions position-relative">
            <action-menu data-select-variant="none" data-view-component="true">
  <focus-group direction="vertical" mnemonics retain>
    <button id="global-create-menu-button" popovertarget="global-create-menu-overlay" aria-label="Create something new" aria-controls="global-create-menu-list" aria-haspopup="true" type="button" data-view-component="true" class="AppHeader-button Button--secondary Button--medium Button width-auto color-fg-muted">  <span class="Button-content">
      <span class="Button-visual Button-leadingVisual">
        <svg aria-hidden="true" height="16" viewBox="0 0 16 16" version="1.1" width="16" data-view-component="true" class="octicon octicon-plus">
    <path d="M7.75 2a.75.75 0 0 1 .75.75V7h4.25a.75.75 0 0 1 0 1.5H8.5v4.25a.75.75 0 0 1-1.5 0V8.5H2.75a.75.75 0 0 1 0-1.5H7V2.75A.75.75 0 0 1 7.75 2Z"></path>
</svg>
      </span>
    <span class="Button-label"><svg aria-hidden="true" height="16" viewBox="0 0 16 16" version="1.1" width="16" data-view-component="true" class="octicon octicon-triangle-down">
    <path d="m4.427 7.427 3.396 3.396a.25.25 0 0 0 .354 0l3.396-3.396A.25.25 0 0 0 11.396 7H4.604a.25.25 0 0 0-.177.427Z"></path>
</svg></span>
  </span>
</button><tool-tip id="tooltip-ce88beec-b541-4e38-b765-2ab1f7e92f70" for="global-create-menu-button" popover="manual" data-direction="s" data-type="description" data-view-component="true" class="sr-only position-absolute">Create new...</tool-tip>


<anchored-position id="global-create-menu-overlay" anchor="global-create-menu-button" align="end" side="outside-bottom" anchor-offset="normal" popover="auto" data-view-component="true">
  <div data-view-component="true" class="Overlay Overlay--size-auto">
    
      <div data-view-component="true" class="Overlay-body Overlay-body--paddingNone">          <action-list>
  <div data-view-component="true">
    <ul aria-labelledby="global-create-menu-button" id="global-create-menu-list" role="menu" data-view-component="true" class="ActionListWrap--inset ActionListWrap">
        <li data-analytics-event="{&quot;category&quot;:&quot;SiteHeaderComponent&quot;,&quot;action&quot;:&quot;add_dropdown&quot;,&quot;label&quot;:&quot;new repository&quot;}" data-targets="action-list.items" role="none" data-view-component="true" class="ActionListItem">
    
    <a href="/new" tabindex="-1" id="item-08dcd8e2-0943-4372-9ea4-bb559705ea60" role="menuitem" data-view-component="true" class="ActionListContent ActionListContent--visual16">
        <span class="ActionListItem-visual ActionListItem-visual--leading">
          <svg aria-hidden="true" height="16" viewBox="0 0 16 16" version="1.1" width="16" data-view-component="true" class="octicon octicon-repo">
    <path d="M2 2.5A2.5 2.5 0 0 1 4.5 0h8.75a.75.75 0 0 1 .75.75v12.5a.75.75 0 0 1-.75.75h-2.5a.75.75 0 0 1 0-1.5h1.75v-2h-8a1 1 0 0 0-.714 1.7.75.75 0 1 1-1.072 1.05A2.495 2.495 0 0 1 2 11.5Zm10.5-1h-8a1 1 0 0 0-1 1v6.708A2.486 2.486 0 0 1 4.5 9h8ZM5 12.25a.25.25 0 0 1 .25-.25h3.5a.25.25 0 0 1 .25.25v3.25a.25.25 0 0 1-.4.2l-1.45-1.087a.249.249 0 0 0-.3 0L5.4 15.7a.25.25 0 0 1-.4-.2Z"></path>
</svg>
        </span>
      
        <span data-view-component="true" class="ActionListItem-label">
                  New repository

</span></a>
  
  
</li>
        <li data-analytics-event="{&quot;category&quot;:&quot;SiteHeaderComponent&quot;,&quot;action&quot;:&quot;add_dropdown&quot;,&quot;label&quot;:&quot;import repository&quot;}" data-targets="action-list.items" role="none" data-view-component="true" class="ActionListItem">
    
    <a href="/new/import" tabindex="-1" id="item-12e43745-1b6c-4d0e-8b8a-de99166cbbb3" role="menuitem" data-view-component="true" class="ActionListContent ActionListContent--visual16">
        <span class="ActionListItem-visual ActionListItem-visual--leading">
          <svg aria-hidden="true" height="16" viewBox="0 0 16 16" version="1.1" width="16" data-view-component="true" class="octicon octicon-repo-push">
    <path d="M1 2.5A2.5 2.5 0 0 1 3.5 0h8.75a.75.75 0 0 1 .75.75v3.5a.75.75 0 0 1-1.5 0V1.5h-8a1 1 0 0 0-1 1v6.708A2.493 2.493 0 0 1 3.5 9h3.25a.75.75 0 0 1 0 1.5H3.5a1 1 0 0 0 0 2h5.75a.75.75 0 0 1 0 1.5H3.5A2.5 2.5 0 0 1 1 11.5Zm13.23 7.79h-.001l-1.224-1.224v6.184a.75.75 0 0 1-1.5 0V9.066L10.28 10.29a.75.75 0 0 1-1.06-1.061l2.505-2.504a.75.75 0 0 1 1.06 0L15.29 9.23a.751.751 0 0 1-.018 1.042.751.751 0 0 1-1.042.018Z"></path>
</svg>
        </span>
      
        <span data-view-component="true" class="ActionListItem-label">
                  Import repository

</span></a>
  
  
</li>
        <li role="presentation" aria-hidden="true" data-view-component="true" class="ActionList-sectionDivider"></li>
        <li data-analytics-event="{&quot;category&quot;:&quot;SiteHeaderComponent&quot;,&quot;action&quot;:&quot;add_dropdown&quot;,&quot;label&quot;:&quot;new codespace&quot;}" data-targets="action-list.items" role="none" data-view-component="true" class="ActionListItem">
    
    <a href="/codespaces/new" tabindex="-1" id="item-30a88bdf-a807-47c7-aef4-bd57516ab578" role="menuitem" data-view-component="true" class="ActionListContent ActionListContent--visual16">
        <span class="ActionListItem-visual ActionListItem-visual--leading">
          <svg aria-hidden="true" height="16" viewBox="0 0 16 16" version="1.1" width="16" data-view-component="true" class="octicon octicon-codespaces">
    <path d="M0 11.25c0-.966.784-1.75 1.75-1.75h12.5c.966 0 1.75.784 1.75 1.75v3A1.75 1.75 0 0 1 14.25 16H1.75A1.75 1.75 0 0 1 0 14.25Zm2-9.5C2 .784 2.784 0 3.75 0h8.5C13.216 0 14 .784 14 1.75v5a1.75 1.75 0 0 1-1.75 1.75h-8.5A1.75 1.75 0 0 1 2 6.75Zm1.75-.25a.25.25 0 0 0-.25.25v5c0 .138.112.25.25.25h8.5a.25.25 0 0 0 .25-.25v-5a.25.25 0 0 0-.25-.25Zm-2 9.5a.25.25 0 0 0-.25.25v3c0 .138.112.25.25.25h12.5a.25.25 0 0 0 .25-.25v-3a.25.25 0 0 0-.25-.25Z"></path><path d="M7 12.75a.75.75 0 0 1 .75-.75h4.5a.75.75 0 0 1 0 1.5h-4.5a.75.75 0 0 1-.75-.75Zm-4 0a.75.75 0 0 1 .75-.75h.5a.75.75 0 0 1 0 1.5h-.5a.75.75 0 0 1-.75-.75Z"></path>
</svg>
        </span>
      
        <span data-view-component="true" class="ActionListItem-label">
                  New codespace

</span></a>
  
  
</li>
        <li data-analytics-event="{&quot;category&quot;:&quot;SiteHeaderComponent&quot;,&quot;action&quot;:&quot;add_dropdown&quot;,&quot;label&quot;:&quot;new gist&quot;}" data-targets="action-list.items" role="none" data-view-component="true" class="ActionListItem">
    
    <a href="https://gist.github.com/" tabindex="-1" id="item-729ebfde-d6a5-4ff5-9f4a-9c8dac5ab6b4" role="menuitem" data-view-component="true" class="ActionListContent ActionListContent--visual16">
        <span class="ActionListItem-visual ActionListItem-visual--leading">
          <svg aria-hidden="true" height="16" viewBox="0 0 16 16" version="1.1" width="16" data-view-component="true" class="octicon octicon-code">
    <path d="m11.28 3.22 4.25 4.25a.75.75 0 0 1 0 1.06l-4.25 4.25a.749.749 0 0 1-1.275-.326.749.749 0 0 1 .215-.734L13.94 8l-3.72-3.72a.749.749 0 0 1 .326-1.275.749.749 0 0 1 .734.215Zm-6.56 0a.751.751 0 0 1 1.042.018.751.751 0 0 1 .018 1.042L2.06 8l3.72 3.72a.749.749 0 0 1-.326 1.275.749.749 0 0 1-.734-.215L.47 8.53a.75.75 0 0 1 0-1.06Z"></path>
</svg>
        </span>
      
        <span data-view-component="true" class="ActionListItem-label">
                  New gist

</span></a>
  
  
</li>
        <li role="presentation" aria-hidden="true" data-view-component="true" class="ActionList-sectionDivider"></li>
        <li data-targets="action-list.items" role="none" data-view-component="true" class="ActionListItem">
    
    <a href="/account/organizations/new" tabindex="-1" data-dont-follow-via-test="true" data-analytics-event="{&quot;category&quot;:&quot;SiteHeaderComponent&quot;,&quot;action&quot;:&quot;add_dropdown&quot;,&quot;label&quot;:&quot;new organization&quot;}" id="item-0ae27470-db4b-4b5e-a048-d1a59ae17908" role="menuitem" data-view-component="true" class="ActionListContent ActionListContent--visual16">
        <span class="ActionListItem-visual ActionListItem-visual--leading">
          <svg aria-hidden="true" height="16" viewBox="0 0 16 16" version="1.1" width="16" data-view-component="true" class="octicon octicon-organization">
    <path d="M1.75 16A1.75 1.75 0 0 1 0 14.25V1.75C0 .784.784 0 1.75 0h8.5C11.216 0 12 .784 12 1.75v12.5c0 .085-.006.168-.018.25h2.268a.25.25 0 0 0 .25-.25V8.285a.25.25 0 0 0-.111-.208l-1.055-.703a.749.749 0 1 1 .832-1.248l1.055.703c.487.325.779.871.779 1.456v5.965A1.75 1.75 0 0 1 14.25 16h-3.5a.766.766 0 0 1-.197-.026c-.099.017-.2.026-.303.026h-3a.75.75 0 0 1-.75-.75V14h-1v1.25a.75.75 0 0 1-.75.75Zm-.25-1.75c0 .138.112.25.25.25H4v-1.25a.75.75 0 0 1 .75-.75h2.5a.75.75 0 0 1 .75.75v1.25h2.25a.25.25 0 0 0 .25-.25V1.75a.25.25 0 0 0-.25-.25h-8.5a.25.25 0 0 0-.25.25ZM3.75 6h.5a.75.75 0 0 1 0 1.5h-.5a.75.75 0 0 1 0-1.5ZM3 3.75A.75.75 0 0 1 3.75 3h.5a.75.75 0 0 1 0 1.5h-.5A.75.75 0 0 1 3 3.75Zm4 3A.75.75 0 0 1 7.75 6h.5a.75.75 0 0 1 0 1.5h-.5A.75.75 0 0 1 7 6.75ZM7.75 3h.5a.75.75 0 0 1 0 1.5h-.5a.75.75 0 0 1 0-1.5ZM3 9.75A.75.75 0 0 1 3.75 9h.5a.75.75 0 0 1 0 1.5h-.5A.75.75 0 0 1 3 9.75ZM7.75 9h.5a.75.75 0 0 1 0 1.5h-.5a.75.75 0 0 1 0-1.5Z"></path>
</svg>
        </span>
      
        <span data-view-component="true" class="ActionListItem-label">
                  New organization

</span></a>
  
  
</li>
</ul>    
</div></action-list>


</div>
      
</div></anchored-position>  </focus-group>
</action-menu>


          <a href="/issues" data-analytics-event="{&quot;category&quot;:&quot;Global navigation&quot;,&quot;action&quot;:&quot;ISSUES_HEADER&quot;,&quot;label&quot;:null}" id="icon-button-d1129948-9a54-4a8f-aec8-d59999e3cc47" aria-labelledby="tooltip-e89cc99e-3ad3-4bc3-9891-51321c9599e3" data-view-component="true" class="Button Button--iconOnly Button--secondary Button--medium AppHeader-button color-fg-muted">  <svg aria-hidden="true" height="16" viewBox="0 0 16 16" version="1.1" width="16" data-view-component="true" class="octicon octicon-issue-opened Button-visual">
    <path d="M8 9.5a1.5 1.5 0 1 0 0-3 1.5 1.5 0 0 0 0 3Z"></path><path d="M8 0a8 8 0 1 1 0 16A8 8 0 0 1 8 0ZM1.5 8a6.5 6.5 0 1 0 13 0 6.5 6.5 0 0 0-13 0Z"></path>
</svg>
</a><tool-tip id="tooltip-e89cc99e-3ad3-4bc3-9891-51321c9599e3" for="icon-button-d1129948-9a54-4a8f-aec8-d59999e3cc47" popover="manual" data-direction="s" data-type="label" data-view-component="true" class="sr-only position-absolute">Issues</tool-tip>

          <a href="/pulls" data-analytics-event="{&quot;category&quot;:&quot;Global navigation&quot;,&quot;action&quot;:&quot;PULL_REQUESTS_HEADER&quot;,&quot;label&quot;:null}" id="icon-button-9e70e429-8b06-4dca-9ba1-0ea3f231ca4e" aria-labelledby="tooltip-3d69f1c1-6ced-4ba6-971c-9b954d7a019b" data-view-component="true" class="Button Button--iconOnly Button--secondary Button--medium AppHeader-button color-fg-muted">  <svg aria-hidden="true" height="16" viewBox="0 0 16 16" version="1.1" width="16" data-view-component="true" class="octicon octicon-git-pull-request Button-visual">
    <path d="M1.5 3.25a2.25 2.25 0 1 1 3 2.122v5.256a2.251 2.251 0 1 1-1.5 0V5.372A2.25 2.25 0 0 1 1.5 3.25Zm5.677-.177L9.573.677A.25.25 0 0 1 10 .854V2.5h1A2.5 2.5 0 0 1 13.5 5v5.628a2.251 2.251 0 1 1-1.5 0V5a1 1 0 0 0-1-1h-1v1.646a.25.25 0 0 1-.427.177L7.177 3.427a.25.25 0 0 1 0-.354ZM3.75 2.5a.75.75 0 1 0 0 1.5.75.75 0 0 0 0-1.5Zm0 9.5a.75.75 0 1 0 0 1.5.75.75 0 0 0 0-1.5Zm8.25.75a.75.75 0 1 0 1.5 0 .75.75 0 0 0-1.5 0Z"></path>
</svg>
</a><tool-tip id="tooltip-3d69f1c1-6ced-4ba6-971c-9b954d7a019b" for="icon-button-9e70e429-8b06-4dca-9ba1-0ea3f231ca4e" popover="manual" data-direction="s" data-type="label" data-view-component="true" class="sr-only position-absolute">Pull requests</tool-tip>

        </div>

        
<notification-indicator data-channel="eyJjIjoibm90aWZpY2F0aW9uLWNoYW5nZWQ6NDI3NDczNTgiLCJ0IjoxNzEyNzU5NzA3fQ==--d3032f755ecd763e236ba940ac14afcd2f1a174c60e0173ff075c9f11104b74f" data-indicator-mode="none" data-tooltip-global="You have unread notifications" data-tooltip-unavailable="Notifications are unavailable at the moment." data-tooltip-none="You have no unread notifications" data-header-redesign-enabled="true" data-fetch-indicator-src="/notifications/indicator" data-fetch-indicator-enabled="true" data-view-component="true" class="js-socket-channel">
    <a id="AppHeader-notifications-button" href="/notifications" aria-label="Notifications" data-hotkey="g n" data-target="notification-indicator.link" data-analytics-event="{&quot;category&quot;:&quot;Global navigation&quot;,&quot;action&quot;:&quot;NOTIFICATIONS_HEADER&quot;,&quot;label&quot;:null}" data-view-component="true" class="Button Button--iconOnly Button--secondary Button--medium AppHeader-button  color-fg-muted">  <svg aria-hidden="true" height="16" viewBox="0 0 16 16" version="1.1" width="16" data-view-component="true" class="octicon octicon-inbox Button-visual">
    <path d="M2.8 2.06A1.75 1.75 0 0 1 4.41 1h7.18c.7 0 1.333.417 1.61 1.06l2.74 6.395c.04.093.06.194.06.295v4.5A1.75 1.75 0 0 1 14.25 15H1.75A1.75 1.75 0 0 1 0 13.25v-4.5c0-.101.02-.202.06-.295Zm1.61.44a.25.25 0 0 0-.23.152L1.887 8H4.75a.75.75 0 0 1 .6.3L6.625 10h2.75l1.275-1.7a.75.75 0 0 1 .6-.3h2.863L11.82 2.652a.25.25 0 0 0-.23-.152Zm10.09 7h-2.875l-1.275 1.7a.75.75 0 0 1-.6.3h-3.5a.75.75 0 0 1-.6-.3L4.375 9.5H1.5v3.75c0 .138.112.25.25.25h12.5a.25.25 0 0 0 .25-.25Z"></path>
</svg>
</a>

    <tool-tip data-target="notification-indicator.tooltip" id="tooltip-f040e3b7-a157-4dd7-a076-447862770ef0" for="AppHeader-notifications-button" popover="manual" data-direction="s" data-type="description" data-view-component="true" class="sr-only position-absolute">Notifications</tool-tip>
</notification-indicator>

        

        <div class="AppHeader-user">
          <deferred-side-panel data-url="/_side-panels/user?react_global_nav=false&amp;repository_id=778068514">
  <include-fragment data-target="deferred-side-panel.fragment">
        <user-drawer-side-panel>
      <button aria-label="Open user account menu" data-action="click:deferred-side-panel#loadPanel click:deferred-side-panel#panelOpened" data-show-dialog-id="dialog-41c3685d-b4f4-4bb2-810f-07b533bc2acf" id="dialog-show-dialog-41c3685d-b4f4-4bb2-810f-07b533bc2acf" type="button" data-view-component="true" class="AppHeader-logo Button--invisible Button--medium Button Button--invisible-noVisuals color-bg-transparent p-0">  <span class="Button-content">
    <span class="Button-label"><img src="https://avatars.githubusercontent.com/u/42747358?v=4" alt="" size="32" height="32" width="32" data-view-component="true" class="avatar circle" /></span>
  </span>
</button>

<dialog-helper>
  <dialog data-target="deferred-side-panel.panel" id="dialog-41c3685d-b4f4-4bb2-810f-07b533bc2acf" aria-modal="true" aria-labelledby="dialog-41c3685d-b4f4-4bb2-810f-07b533bc2acf-title" aria-describedby="dialog-41c3685d-b4f4-4bb2-810f-07b533bc2acf-description" data-view-component="true" class="Overlay Overlay-whenNarrow Overlay--size-small-portrait Overlay--motion-scaleFade Overlay--placement-right SidePanel">
    <div styles="flex-direction: row;" data-view-component="true" class="Overlay-header">
  <div class="Overlay-headerContentWrap">
    <div class="Overlay-titleWrap">
      <h1 class="Overlay-title sr-only" id="dialog-41c3685d-b4f4-4bb2-810f-07b533bc2acf-title">
        Account menu
      </h1>
            <div data-view-component="true" class="d-flex">
      <div data-view-component="true" class="AppHeader-logo position-relative">
        <img src="https://avatars.githubusercontent.com/u/42747358?v=4" alt="" size="32" height="32" width="32" data-view-component="true" class="avatar circle" />
</div>        <div data-view-component="true" class="overflow-hidden d-flex width-full">          <div data-view-component="true" class="lh-condensed overflow-hidden d-flex flex-column flex-justify-center ml-2 f5 mr-auto width-full">
            <span data-view-component="true" class="Truncate text-bold">
    <span data-view-component="true" class="Truncate-text">
              carlos-santos1504
</span>
</span>            </div>
            <action-menu data-select-variant="none" data-view-component="true" class="d-sm-none d-md-none d-lg-none">
  <focus-group direction="vertical" mnemonics retain>
    <button id="user-create-menu-button" popovertarget="user-create-menu-overlay" aria-label="Create something new" aria-controls="user-create-menu-list" aria-haspopup="true" type="button" data-view-component="true" class="AppHeader-button Button--secondary Button--medium Button width-auto color-fg-muted">  <span class="Button-content">
      <span class="Button-visual Button-leadingVisual">
        <svg aria-hidden="true" height="16" viewBox="0 0 16 16" version="1.1" width="16" data-view-component="true" class="octicon octicon-plus">
    <path d="M7.75 2a.75.75 0 0 1 .75.75V7h4.25a.75.75 0 0 1 0 1.5H8.5v4.25a.75.75 0 0 1-1.5 0V8.5H2.75a.75.75 0 0 1 0-1.5H7V2.75A.75.75 0 0 1 7.75 2Z"></path>
</svg>
      </span>
    <span class="Button-label"><svg aria-hidden="true" height="16" viewBox="0 0 16 16" version="1.1" width="16" data-view-component="true" class="octicon octicon-triangle-down">
    <path d="m4.427 7.427 3.396 3.396a.25.25 0 0 0 .354 0l3.396-3.396A.25.25 0 0 0 11.396 7H4.604a.25.25 0 0 0-.177.427Z"></path>
</svg></span>
  </span>
</button><tool-tip id="tooltip-9bacb2fb-652a-4b2f-9585-6c0da3381bd0" for="user-create-menu-button" popover="manual" data-direction="s" data-type="description" data-view-component="true" class="sr-only position-absolute">Create new...</tool-tip>


<anchored-position id="user-create-menu-overlay" anchor="user-create-menu-button" align="end" side="outside-bottom" anchor-offset="normal" popover="auto" data-view-component="true">
  <div data-view-component="true" class="Overlay Overlay--size-auto">
    
      <div data-view-component="true" class="Overlay-body Overlay-body--paddingNone">          <action-list>
  <div data-view-component="true">
    <ul aria-labelledby="user-create-menu-button" id="user-create-menu-list" role="menu" data-view-component="true" class="ActionListWrap--inset ActionListWrap">
        <li data-analytics-event="{&quot;category&quot;:&quot;SiteHeaderComponent&quot;,&quot;action&quot;:&quot;add_dropdown&quot;,&quot;label&quot;:&quot;new repository&quot;}" data-targets="action-list.items" role="none" data-view-component="true" class="ActionListItem">
    
    <a href="/new" tabindex="-1" id="item-ec401414-8c34-4913-9b5d-ad106fa5bc3b" role="menuitem" data-view-component="true" class="ActionListContent ActionListContent--visual16">
        <span class="ActionListItem-visual ActionListItem-visual--leading">
          <svg aria-hidden="true" height="16" viewBox="0 0 16 16" version="1.1" width="16" data-view-component="true" class="octicon octicon-repo">
    <path d="M2 2.5A2.5 2.5 0 0 1 4.5 0h8.75a.75.75 0 0 1 .75.75v12.5a.75.75 0 0 1-.75.75h-2.5a.75.75 0 0 1 0-1.5h1.75v-2h-8a1 1 0 0 0-.714 1.7.75.75 0 1 1-1.072 1.05A2.495 2.495 0 0 1 2 11.5Zm10.5-1h-8a1 1 0 0 0-1 1v6.708A2.486 2.486 0 0 1 4.5 9h8ZM5 12.25a.25.25 0 0 1 .25-.25h3.5a.25.25 0 0 1 .25.25v3.25a.25.25 0 0 1-.4.2l-1.45-1.087a.249.249 0 0 0-.3 0L5.4 15.7a.25.25 0 0 1-.4-.2Z"></path>
</svg>
        </span>
      
        <span data-view-component="true" class="ActionListItem-label">
                  New repository

</span></a>
  
  
</li>
        <li data-analytics-event="{&quot;category&quot;:&quot;SiteHeaderComponent&quot;,&quot;action&quot;:&quot;add_dropdown&quot;,&quot;label&quot;:&quot;import repository&quot;}" data-targets="action-list.items" role="none" data-view-component="true" class="ActionListItem">
    
    <a href="/new/import" tabindex="-1" id="item-ac58f9e5-1215-49bf-afdc-df4ac96ccd91" role="menuitem" data-view-component="true" class="ActionListContent ActionListContent--visual16">
        <span class="ActionListItem-visual ActionListItem-visual--leading">
          <svg aria-hidden="true" height="16" viewBox="0 0 16 16" version="1.1" width="16" data-view-component="true" class="octicon octicon-repo-push">
    <path d="M1 2.5A2.5 2.5 0 0 1 3.5 0h8.75a.75.75 0 0 1 .75.75v3.5a.75.75 0 0 1-1.5 0V1.5h-8a1 1 0 0 0-1 1v6.708A2.493 2.493 0 0 1 3.5 9h3.25a.75.75 0 0 1 0 1.5H3.5a1 1 0 0 0 0 2h5.75a.75.75 0 0 1 0 1.5H3.5A2.5 2.5 0 0 1 1 11.5Zm13.23 7.79h-.001l-1.224-1.224v6.184a.75.75 0 0 1-1.5 0V9.066L10.28 10.29a.75.75 0 0 1-1.06-1.061l2.505-2.504a.75.75 0 0 1 1.06 0L15.29 9.23a.751.751 0 0 1-.018 1.042.751.751 0 0 1-1.042.018Z"></path>
</svg>
        </span>
      
        <span data-view-component="true" class="ActionListItem-label">
                  Import repository

</span></a>
  
  
</li>
        <li role="presentation" aria-hidden="true" data-view-component="true" class="ActionList-sectionDivider"></li>
        <li data-analytics-event="{&quot;category&quot;:&quot;SiteHeaderComponent&quot;,&quot;action&quot;:&quot;add_dropdown&quot;,&quot;label&quot;:&quot;new codespace&quot;}" data-targets="action-list.items" role="none" data-view-component="true" class="ActionListItem">
    
    <a href="/codespaces/new" tabindex="-1" id="item-2de059a2-db94-4952-98a5-ac8827e4e69b" role="menuitem" data-view-component="true" class="ActionListContent ActionListContent--visual16">
        <span class="ActionListItem-visual ActionListItem-visual--leading">
          <svg aria-hidden="true" height="16" viewBox="0 0 16 16" version="1.1" width="16" data-view-component="true" class="octicon octicon-codespaces">
    <path d="M0 11.25c0-.966.784-1.75 1.75-1.75h12.5c.966 0 1.75.784 1.75 1.75v3A1.75 1.75 0 0 1 14.25 16H1.75A1.75 1.75 0 0 1 0 14.25Zm2-9.5C2 .784 2.784 0 3.75 0h8.5C13.216 0 14 .784 14 1.75v5a1.75 1.75 0 0 1-1.75 1.75h-8.5A1.75 1.75 0 0 1 2 6.75Zm1.75-.25a.25.25 0 0 0-.25.25v5c0 .138.112.25.25.25h8.5a.25.25 0 0 0 .25-.25v-5a.25.25 0 0 0-.25-.25Zm-2 9.5a.25.25 0 0 0-.25.25v3c0 .138.112.25.25.25h12.5a.25.25 0 0 0 .25-.25v-3a.25.25 0 0 0-.25-.25Z"></path><path d="M7 12.75a.75.75 0 0 1 .75-.75h4.5a.75.75 0 0 1 0 1.5h-4.5a.75.75 0 0 1-.75-.75Zm-4 0a.75.75 0 0 1 .75-.75h.5a.75.75 0 0 1 0 1.5h-.5a.75.75 0 0 1-.75-.75Z"></path>
</svg>
        </span>
      
        <span data-view-component="true" class="ActionListItem-label">
                  New codespace

</span></a>
  
  
</li>
        <li data-analytics-event="{&quot;category&quot;:&quot;SiteHeaderComponent&quot;,&quot;action&quot;:&quot;add_dropdown&quot;,&quot;label&quot;:&quot;new gist&quot;}" data-targets="action-list.items" role="none" data-view-component="true" class="ActionListItem">
    
    <a href="https://gist.github.com/" tabindex="-1" id="item-f5f14692-2dd6-4bb8-93fb-27be7b4f688a" role="menuitem" data-view-component="true" class="ActionListContent ActionListContent--visual16">
        <span class="ActionListItem-visual ActionListItem-visual--leading">
          <svg aria-hidden="true" height="16" viewBox="0 0 16 16" version="1.1" width="16" data-view-component="true" class="octicon octicon-code">
    <path d="m11.28 3.22 4.25 4.25a.75.75 0 0 1 0 1.06l-4.25 4.25a.749.749 0 0 1-1.275-.326.749.749 0 0 1 .215-.734L13.94 8l-3.72-3.72a.749.749 0 0 1 .326-1.275.749.749 0 0 1 .734.215Zm-6.56 0a.751.751 0 0 1 1.042.018.751.751 0 0 1 .018 1.042L2.06 8l3.72 3.72a.749.749 0 0 1-.326 1.275.749.749 0 0 1-.734-.215L.47 8.53a.75.75 0 0 1 0-1.06Z"></path>
</svg>
        </span>
      
        <span data-view-component="true" class="ActionListItem-label">
                  New gist

</span></a>
  
  
</li>
        <li role="presentation" aria-hidden="true" data-view-component="true" class="ActionList-sectionDivider"></li>
        <li data-targets="action-list.items" role="none" data-view-component="true" class="ActionListItem">
    
    <a href="/account/organizations/new" tabindex="-1" data-dont-follow-via-test="true" data-analytics-event="{&quot;category&quot;:&quot;SiteHeaderComponent&quot;,&quot;action&quot;:&quot;add_dropdown&quot;,&quot;label&quot;:&quot;new organization&quot;}" id="item-439f4fb5-2d6c-4450-bea0-5b47d1c05e81" role="menuitem" data-view-component="true" class="ActionListContent ActionListContent--visual16">
        <span class="ActionListItem-visual ActionListItem-visual--leading">
          <svg aria-hidden="true" height="16" viewBox="0 0 16 16" version="1.1" width="16" data-view-component="true" class="octicon octicon-organization">
    <path d="M1.75 16A1.75 1.75 0 0 1 0 14.25V1.75C0 .784.784 0 1.75 0h8.5C11.216 0 12 .784 12 1.75v12.5c0 .085-.006.168-.018.25h2.268a.25.25 0 0 0 .25-.25V8.285a.25.25 0 0 0-.111-.208l-1.055-.703a.749.749 0 1 1 .832-1.248l1.055.703c.487.325.779.871.779 1.456v5.965A1.75 1.75 0 0 1 14.25 16h-3.5a.766.766 0 0 1-.197-.026c-.099.017-.2.026-.303.026h-3a.75.75 0 0 1-.75-.75V14h-1v1.25a.75.75 0 0 1-.75.75Zm-.25-1.75c0 .138.112.25.25.25H4v-1.25a.75.75 0 0 1 .75-.75h2.5a.75.75 0 0 1 .75.75v1.25h2.25a.25.25 0 0 0 .25-.25V1.75a.25.25 0 0 0-.25-.25h-8.5a.25.25 0 0 0-.25.25ZM3.75 6h.5a.75.75 0 0 1 0 1.5h-.5a.75.75 0 0 1 0-1.5ZM3 3.75A.75.75 0 0 1 3.75 3h.5a.75.75 0 0 1 0 1.5h-.5A.75.75 0 0 1 3 3.75Zm4 3A.75.75 0 0 1 7.75 6h.5a.75.75 0 0 1 0 1.5h-.5A.75.75 0 0 1 7 6.75ZM7.75 3h.5a.75.75 0 0 1 0 1.5h-.5a.75.75 0 0 1 0-1.5ZM3 9.75A.75.75 0 0 1 3.75 9h.5a.75.75 0 0 1 0 1.5h-.5A.75.75 0 0 1 3 9.75ZM7.75 9h.5a.75.75 0 0 1 0 1.5h-.5a.75.75 0 0 1 0-1.5Z"></path>
</svg>
        </span>
      
        <span data-view-component="true" class="ActionListItem-label">
                  New organization

</span></a>
  
  
</li>
</ul>    
</div></action-list>


</div>
      
</div></anchored-position>  </focus-group>
</action-menu>

</div>
</div>
    </div>
    <div class="Overlay-actionWrap">
      <button data-close-dialog-id="dialog-41c3685d-b4f4-4bb2-810f-07b533bc2acf" aria-label="Close" type="button" data-view-component="true" class="close-button Overlay-closeButton"><svg aria-hidden="true" height="16" viewBox="0 0 16 16" version="1.1" width="16" data-view-component="true" class="octicon octicon-x">
    <path d="M3.72 3.72a.75.75 0 0 1 1.06 0L8 6.94l3.22-3.22a.749.749 0 0 1 1.275.326.749.749 0 0 1-.215.734L9.06 8l3.22 3.22a.749.749 0 0 1-.326 1.275.749.749 0 0 1-.734-.215L8 9.06l-3.22 3.22a.751.751 0 0 1-1.042-.018.751.751 0 0 1-.018-1.042L6.94 8 3.72 4.78a.75.75 0 0 1 0-1.06Z"></path>
</svg></button>
    </div>
  </div>
</div>
      <scrollable-region data-labelled-by="dialog-41c3685d-b4f4-4bb2-810f-07b533bc2acf-title">
        <div data-view-component="true" class="Overlay-body d-flex flex-column px-2">    <div data-view-component="true" class="d-flex flex-column mb-3">
        <nav aria-label="User navigation" data-view-component="true" class="ActionList">
  
  <nav-list>
    <ul data-target="nav-list.topLevelList" data-view-component="true" class="ActionListWrap">
        
          
<li data-item-id="" data-targets="nav-list.items" data-view-component="true" class="ActionListItem">
    
    <button id="item-f7b15066-d8d4-49ad-b029-8474024373c5" type="button" data-view-component="true" class="ActionListContent ActionListContent--visual16">
        <span class="ActionListItem-visual ActionListItem-visual--leading">
          <span data-view-component="true" class="d-flex flex-items-center">    <svg style="box-sizing: content-box; color: var(--color-icon-primary);" width="16" height="16" viewBox="0 0 16 16" fill="none" data-view-component="true" class="anim-rotate">
  <circle cx="8" cy="8" r="7" stroke="currentColor" stroke-opacity="0.25" stroke-width="2" vector-effect="non-scaling-stroke" fill="none" />
  <path d="M15 8a7.002 7.002 0 00-7-7" stroke="currentColor" stroke-width="2" stroke-linecap="round" vector-effect="non-scaling-stroke" />
</svg>
</span>
        </span>
      
        <span data-view-component="true" class="ActionListItem-label">
          

  <span class="color-fg-muted">
    Loading...
  </span>

</span></button>
  
  
</li>

        
          <li role="presentation" aria-hidden="true" data-view-component="true" class="ActionList-sectionDivider"></li>
        
          
<li data-item-id="" data-targets="nav-list.items" data-view-component="true" class="ActionListItem">
    
    <a data-analytics-event="{&quot;category&quot;:&quot;Global navigation&quot;,&quot;action&quot;:&quot;PROFILE&quot;,&quot;label&quot;:null}" id="item-47932956-2e62-4e46-989b-9a165aef49d3" href="https://github.com/carlos-santos1504" data-view-component="true" class="ActionListContent ActionListContent--visual16">
        <span class="ActionListItem-visual ActionListItem-visual--leading">
          <svg aria-hidden="true" height="16" viewBox="0 0 16 16" version="1.1" width="16" data-view-component="true" class="octicon octicon-person">
    <path d="M10.561 8.073a6.005 6.005 0 0 1 3.432 5.142.75.75 0 1 1-1.498.07 4.5 4.5 0 0 0-8.99 0 .75.75 0 0 1-1.498-.07 6.004 6.004 0 0 1 3.431-5.142 3.999 3.999 0 1 1 5.123 0ZM10.5 5a2.5 2.5 0 1 0-5 0 2.5 2.5 0 0 0 5 0Z"></path>
</svg>
        </span>
      
        <span data-view-component="true" class="ActionListItem-label">
          Your profile
</span></a>
  
  
</li>

        
          
<li data-item-id="" data-targets="nav-list.items" data-view-component="true" class="ActionListItem">
    
    <button id="item-cbf969b9-1738-4dc9-9967-4a8033ff8876" type="button" data-view-component="true" class="ActionListContent ActionListContent--visual16">
        <span class="ActionListItem-visual ActionListItem-visual--leading">
          <span data-view-component="true" class="d-flex flex-items-center">    <svg style="box-sizing: content-box; color: var(--color-icon-primary);" width="16" height="16" viewBox="0 0 16 16" fill="none" data-view-component="true" class="anim-rotate">
  <circle cx="8" cy="8" r="7" stroke="currentColor" stroke-opacity="0.25" stroke-width="2" vector-effect="non-scaling-stroke" fill="none" />
  <path d="M15 8a7.002 7.002 0 00-7-7" stroke="currentColor" stroke-width="2" stroke-linecap="round" vector-effect="non-scaling-stroke" />
</svg>
</span>
        </span>
      
        <span data-view-component="true" class="ActionListItem-label">
          

  <span class="color-fg-muted">
    Loading...
  </span>

</span></button>
  
  
</li>

        
          <li role="presentation" aria-hidden="true" data-view-component="true" class="ActionList-sectionDivider"></li>
        
          
<li data-item-id="" data-targets="nav-list.items" data-view-component="true" class="ActionListItem">
    
    <a data-analytics-event="{&quot;category&quot;:&quot;Global navigation&quot;,&quot;action&quot;:&quot;YOUR_REPOSITORIES&quot;,&quot;label&quot;:null}" id="item-357e0435-ae73-431c-8050-cc0b51d73fa9" href="/carlos-santos1504?tab=repositories" data-view-component="true" class="ActionListContent ActionListContent--visual16">
        <span class="ActionListItem-visual ActionListItem-visual--leading">
          <svg aria-hidden="true" height="16" viewBox="0 0 16 16" version="1.1" width="16" data-view-component="true" class="octicon octicon-repo">
    <path d="M2 2.5A2.5 2.5 0 0 1 4.5 0h8.75a.75.75 0 0 1 .75.75v12.5a.75.75 0 0 1-.75.75h-2.5a.75.75 0 0 1 0-1.5h1.75v-2h-8a1 1 0 0 0-.714 1.7.75.75 0 1 1-1.072 1.05A2.495 2.495 0 0 1 2 11.5Zm10.5-1h-8a1 1 0 0 0-1 1v6.708A2.486 2.486 0 0 1 4.5 9h8ZM5 12.25a.25.25 0 0 1 .25-.25h3.5a.25.25 0 0 1 .25.25v3.25a.25.25 0 0 1-.4.2l-1.45-1.087a.249.249 0 0 0-.3 0L5.4 15.7a.25.25 0 0 1-.4-.2Z"></path>
</svg>
        </span>
      
        <span data-view-component="true" class="ActionListItem-label">
          Your repositories
</span></a>
  
  
</li>

        
          
<li data-item-id="" data-targets="nav-list.items" data-view-component="true" class="ActionListItem">
    
    <a data-analytics-event="{&quot;category&quot;:&quot;Global navigation&quot;,&quot;action&quot;:&quot;YOUR_PROJECTS&quot;,&quot;label&quot;:null}" id="item-14003122-8c03-4039-b5e2-9531be4d8e92" href="/carlos-santos1504?tab=projects" data-view-component="true" class="ActionListContent ActionListContent--visual16">
        <span class="ActionListItem-visual ActionListItem-visual--leading">
          <svg aria-hidden="true" height="16" viewBox="0 0 16 16" version="1.1" width="16" data-view-component="true" class="octicon octicon-project">
    <path d="M1.75 0h12.5C15.216 0 16 .784 16 1.75v12.5A1.75 1.75 0 0 1 14.25 16H1.75A1.75 1.75 0 0 1 0 14.25V1.75C0 .784.784 0 1.75 0ZM1.5 1.75v12.5c0 .138.112.25.25.25h12.5a.25.25 0 0 0 .25-.25V1.75a.25.25 0 0 0-.25-.25H1.75a.25.25 0 0 0-.25.25ZM11.75 3a.75.75 0 0 1 .75.75v7.5a.75.75 0 0 1-1.5 0v-7.5a.75.75 0 0 1 .75-.75Zm-8.25.75a.75.75 0 0 1 1.5 0v5.5a.75.75 0 0 1-1.5 0ZM8 3a.75.75 0 0 1 .75.75v3.5a.75.75 0 0 1-1.5 0v-3.5A.75.75 0 0 1 8 3Z"></path>
</svg>
        </span>
      
        <span data-view-component="true" class="ActionListItem-label">
          Your projects
</span></a>
  
  
</li>

        
          
<li data-item-id="" data-targets="nav-list.items" data-view-component="true" class="ActionListItem">
    
    <button id="item-18891acd-361f-44aa-997f-895dd9c74de8" type="button" data-view-component="true" class="ActionListContent ActionListContent--visual16">
        <span class="ActionListItem-visual ActionListItem-visual--leading">
          <span data-view-component="true" class="d-flex flex-items-center">    <svg style="box-sizing: content-box; color: var(--color-icon-primary);" width="16" height="16" viewBox="0 0 16 16" fill="none" data-view-component="true" class="anim-rotate">
  <circle cx="8" cy="8" r="7" stroke="currentColor" stroke-opacity="0.25" stroke-width="2" vector-effect="non-scaling-stroke" fill="none" />
  <path d="M15 8a7.002 7.002 0 00-7-7" stroke="currentColor" stroke-width="2" stroke-linecap="round" vector-effect="non-scaling-stroke" />
</svg>
</span>
        </span>
      
        <span data-view-component="true" class="ActionListItem-label">
          

  <span class="color-fg-muted">
    Loading...
  </span>

</span></button>
  
  
</li>

        
          
<li data-item-id="" data-targets="nav-list.items" data-view-component="true" class="ActionListItem">
    
    <button id="item-15e2b75c-630e-4c0d-8f00-7ee485976a9a" type="button" data-view-component="true" class="ActionListContent ActionListContent--visual16">
        <span class="ActionListItem-visual ActionListItem-visual--leading">
          <span data-view-component="true" class="d-flex flex-items-center">    <svg style="box-sizing: content-box; color: var(--color-icon-primary);" width="16" height="16" viewBox="0 0 16 16" fill="none" data-view-component="true" class="anim-rotate">
  <circle cx="8" cy="8" r="7" stroke="currentColor" stroke-opacity="0.25" stroke-width="2" vector-effect="non-scaling-stroke" fill="none" />
  <path d="M15 8a7.002 7.002 0 00-7-7" stroke="currentColor" stroke-width="2" stroke-linecap="round" vector-effect="non-scaling-stroke" />
</svg>
</span>
        </span>
      
        <span data-view-component="true" class="ActionListItem-label">
          

  <span class="color-fg-muted">
    Loading...
  </span>

</span></button>
  
  
</li>

        
          
<li data-item-id="" data-targets="nav-list.items" data-view-component="true" class="ActionListItem">
    
    <a data-analytics-event="{&quot;category&quot;:&quot;Global navigation&quot;,&quot;action&quot;:&quot;YOUR_STARS&quot;,&quot;label&quot;:null}" id="item-be8ed3e7-4395-47c7-888c-7a8a22cc13a7" href="/carlos-santos1504?tab=stars" data-view-component="true" class="ActionListContent ActionListContent--visual16">
        <span class="ActionListItem-visual ActionListItem-visual--leading">
          <svg aria-hidden="true" height="16" viewBox="0 0 16 16" version="1.1" width="16" data-view-component="true" class="octicon octicon-star">
    <path d="M8 .25a.75.75 0 0 1 .673.418l1.882 3.815 4.21.612a.75.75 0 0 1 .416 1.279l-3.046 2.97.719 4.192a.751.751 0 0 1-1.088.791L8 12.347l-3.766 1.98a.75.75 0 0 1-1.088-.79l.72-4.194L.818 6.374a.75.75 0 0 1 .416-1.28l4.21-.611L7.327.668A.75.75 0 0 1 8 .25Zm0 2.445L6.615 5.5a.75.75 0 0 1-.564.41l-3.097.45 2.24 2.184a.75.75 0 0 1 .216.664l-.528 3.084 2.769-1.456a.75.75 0 0 1 .698 0l2.77 1.456-.53-3.084a.75.75 0 0 1 .216-.664l2.24-2.183-3.096-.45a.75.75 0 0 1-.564-.41L8 2.694Z"></path>
</svg>
        </span>
      
        <span data-view-component="true" class="ActionListItem-label">
          Your stars
</span></a>
  
  
</li>

        
          
<li data-item-id="" data-targets="nav-list.items" data-view-component="true" class="ActionListItem">
    
    <a data-analytics-event="{&quot;category&quot;:&quot;Global navigation&quot;,&quot;action&quot;:&quot;SPONSORS&quot;,&quot;label&quot;:null}" id="item-472f3355-c3f0-4677-93d6-41450d3bc8fa" href="/sponsors/accounts" data-view-component="true" class="ActionListContent ActionListContent--visual16">
        <span class="ActionListItem-visual ActionListItem-visual--leading">
          <svg aria-hidden="true" height="16" viewBox="0 0 16 16" version="1.1" width="16" data-view-component="true" class="octicon octicon-heart">
    <path d="m8 14.25.345.666a.75.75 0 0 1-.69 0l-.008-.004-.018-.01a7.152 7.152 0 0 1-.31-.17 22.055 22.055 0 0 1-3.434-2.414C2.045 10.731 0 8.35 0 5.5 0 2.836 2.086 1 4.25 1 5.797 1 7.153 1.802 8 3.02 8.847 1.802 10.203 1 11.75 1 13.914 1 16 2.836 16 5.5c0 2.85-2.045 5.231-3.885 6.818a22.066 22.066 0 0 1-3.744 2.584l-.018.01-.006.003h-.002ZM4.25 2.5c-1.336 0-2.75 1.164-2.75 3 0 2.15 1.58 4.144 3.365 5.682A20.58 20.58 0 0 0 8 13.393a20.58 20.58 0 0 0 3.135-2.211C12.92 9.644 14.5 7.65 14.5 5.5c0-1.836-1.414-3-2.75-3-1.373 0-2.609.986-3.029 2.456a.749.749 0 0 1-1.442 0C6.859 3.486 5.623 2.5 4.25 2.5Z"></path>
</svg>
        </span>
      
        <span data-view-component="true" class="ActionListItem-label">
          Your sponsors
</span></a>
  
  
</li>

        
          
<li data-item-id="" data-targets="nav-list.items" data-view-component="true" class="ActionListItem">
    
    <a data-analytics-event="{&quot;category&quot;:&quot;Global navigation&quot;,&quot;action&quot;:&quot;YOUR_GISTS&quot;,&quot;label&quot;:null}" id="item-3474078a-10e5-4d34-9b21-f1db5d584753" href="https://gist.github.com/mine" data-view-component="true" class="ActionListContent ActionListContent--visual16">
        <span class="ActionListItem-visual ActionListItem-visual--leading">
          <svg aria-hidden="true" height="16" viewBox="0 0 16 16" version="1.1" width="16" data-view-component="true" class="octicon octicon-code-square">
    <path d="M0 1.75C0 .784.784 0 1.75 0h12.5C15.216 0 16 .784 16 1.75v12.5A1.75 1.75 0 0 1 14.25 16H1.75A1.75 1.75 0 0 1 0 14.25Zm1.75-.25a.25.25 0 0 0-.25.25v12.5c0 .138.112.25.25.25h12.5a.25.25 0 0 0 .25-.25V1.75a.25.25 0 0 0-.25-.25Zm7.47 3.97a.75.75 0 0 1 1.06 0l2 2a.75.75 0 0 1 0 1.06l-2 2a.749.749 0 0 1-1.275-.326.749.749 0 0 1 .215-.734L10.69 8 9.22 6.53a.75.75 0 0 1 0-1.06ZM6.78 6.53 5.31 8l1.47 1.47a.749.749 0 0 1-.326 1.275.749.749 0 0 1-.734-.215l-2-2a.75.75 0 0 1 0-1.06l2-2a.751.751 0 0 1 1.042.018.751.751 0 0 1 .018 1.042Z"></path>
</svg>
        </span>
      
        <span data-view-component="true" class="ActionListItem-label">
          Your gists
</span></a>
  
  
</li>

        
          <li role="presentation" aria-hidden="true" data-view-component="true" class="ActionList-sectionDivider"></li>
        
          
<li data-item-id="" data-targets="nav-list.items" data-view-component="true" class="ActionListItem">
    
    <button id="item-469b8191-9b57-427a-86a6-ebaee850a0b6" type="button" data-view-component="true" class="ActionListContent ActionListContent--visual16">
        <span class="ActionListItem-visual ActionListItem-visual--leading">
          <span data-view-component="true" class="d-flex flex-items-center">    <svg style="box-sizing: content-box; color: var(--color-icon-primary);" width="16" height="16" viewBox="0 0 16 16" fill="none" data-view-component="true" class="anim-rotate">
  <circle cx="8" cy="8" r="7" stroke="currentColor" stroke-opacity="0.25" stroke-width="2" vector-effect="non-scaling-stroke" fill="none" />
  <path d="M15 8a7.002 7.002 0 00-7-7" stroke="currentColor" stroke-width="2" stroke-linecap="round" vector-effect="non-scaling-stroke" />
</svg>
</span>
        </span>
      
        <span data-view-component="true" class="ActionListItem-label">
          

  <span class="color-fg-muted">
    Loading...
  </span>

</span></button>
  
  
</li>

        
          
<li data-item-id="" data-targets="nav-list.items" data-view-component="true" class="ActionListItem">
    
    <button id="item-d7ec51db-045a-44e3-a843-0a705335887e" type="button" data-view-component="true" class="ActionListContent ActionListContent--visual16">
        <span class="ActionListItem-visual ActionListItem-visual--leading">
          <span data-view-component="true" class="d-flex flex-items-center">    <svg style="box-sizing: content-box; color: var(--color-icon-primary);" width="16" height="16" viewBox="0 0 16 16" fill="none" data-view-component="true" class="anim-rotate">
  <circle cx="8" cy="8" r="7" stroke="currentColor" stroke-opacity="0.25" stroke-width="2" vector-effect="non-scaling-stroke" fill="none" />
  <path d="M15 8a7.002 7.002 0 00-7-7" stroke="currentColor" stroke-width="2" stroke-linecap="round" vector-effect="non-scaling-stroke" />
</svg>
</span>
        </span>
      
        <span data-view-component="true" class="ActionListItem-label">
          

  <span class="color-fg-muted">
    Loading...
  </span>

</span></button>
  
  
</li>

        
          
<li data-item-id="" data-targets="nav-list.items" data-view-component="true" class="ActionListItem">
    
    <a data-analytics-event="{&quot;category&quot;:&quot;Global navigation&quot;,&quot;action&quot;:&quot;SETTINGS&quot;,&quot;label&quot;:null}" id="item-11208ef5-8f38-4e7f-9011-b716b64c10b5" href="/settings/profile" data-view-component="true" class="ActionListContent ActionListContent--visual16">
        <span class="ActionListItem-visual ActionListItem-visual--leading">
          <svg aria-hidden="true" height="16" viewBox="0 0 16 16" version="1.1" width="16" data-view-component="true" class="octicon octicon-gear">
    <path d="M8 0a8.2 8.2 0 0 1 .701.031C9.444.095 9.99.645 10.16 1.29l.288 1.107c.018.066.079.158.212.224.231.114.454.243.668.386.123.082.233.09.299.071l1.103-.303c.644-.176 1.392.021 1.82.63.27.385.506.792.704 1.218.315.675.111 1.422-.364 1.891l-.814.806c-.049.048-.098.147-.088.294.016.257.016.515 0 .772-.01.147.038.246.088.294l.814.806c.475.469.679 1.216.364 1.891a7.977 7.977 0 0 1-.704 1.217c-.428.61-1.176.807-1.82.63l-1.102-.302c-.067-.019-.177-.011-.3.071a5.909 5.909 0 0 1-.668.386c-.133.066-.194.158-.211.224l-.29 1.106c-.168.646-.715 1.196-1.458 1.26a8.006 8.006 0 0 1-1.402 0c-.743-.064-1.289-.614-1.458-1.26l-.289-1.106c-.018-.066-.079-.158-.212-.224a5.738 5.738 0 0 1-.668-.386c-.123-.082-.233-.09-.299-.071l-1.103.303c-.644.176-1.392-.021-1.82-.63a8.12 8.12 0 0 1-.704-1.218c-.315-.675-.111-1.422.363-1.891l.815-.806c.05-.048.098-.147.088-.294a6.214 6.214 0 0 1 0-.772c.01-.147-.038-.246-.088-.294l-.815-.806C.635 6.045.431 5.298.746 4.623a7.92 7.92 0 0 1 .704-1.217c.428-.61 1.176-.807 1.82-.63l1.102.302c.067.019.177.011.3-.071.214-.143.437-.272.668-.386.133-.066.194-.158.211-.224l.29-1.106C6.009.645 6.556.095 7.299.03 7.53.01 7.764 0 8 0Zm-.571 1.525c-.036.003-.108.036-.137.146l-.289 1.105c-.147.561-.549.967-.998 1.189-.173.086-.34.183-.5.29-.417.278-.97.423-1.529.27l-1.103-.303c-.109-.03-.175.016-.195.045-.22.312-.412.644-.573.99-.014.031-.021.11.059.19l.815.806c.411.406.562.957.53 1.456a4.709 4.709 0 0 0 0 .582c.032.499-.119 1.05-.53 1.456l-.815.806c-.081.08-.073.159-.059.19.162.346.353.677.573.989.02.03.085.076.195.046l1.102-.303c.56-.153 1.113-.008 1.53.27.161.107.328.204.501.29.447.222.85.629.997 1.189l.289 1.105c.029.109.101.143.137.146a6.6 6.6 0 0 0 1.142 0c.036-.003.108-.036.137-.146l.289-1.105c.147-.561.549-.967.998-1.189.173-.086.34-.183.5-.29.417-.278.97-.423 1.529-.27l1.103.303c.109.029.175-.016.195-.045.22-.313.411-.644.573-.99.014-.031.021-.11-.059-.19l-.815-.806c-.411-.406-.562-.957-.53-1.456a4.709 4.709 0 0 0 0-.582c-.032-.499.119-1.05.53-1.456l.815-.806c.081-.08.073-.159.059-.19a6.464 6.464 0 0 0-.573-.989c-.02-.03-.085-.076-.195-.046l-1.102.303c-.56.153-1.113.008-1.53-.27a4.44 4.44 0 0 0-.501-.29c-.447-.222-.85-.629-.997-1.189l-.289-1.105c-.029-.11-.101-.143-.137-.146a6.6 6.6 0 0 0-1.142 0ZM11 8a3 3 0 1 1-6 0 3 3 0 0 1 6 0ZM9.5 8a1.5 1.5 0 1 0-3.001.001A1.5 1.5 0 0 0 9.5 8Z"></path>
</svg>
        </span>
      
        <span data-view-component="true" class="ActionListItem-label">
          Settings
</span></a>
  
  
</li>

        
          <li role="presentation" aria-hidden="true" data-view-component="true" class="ActionList-sectionDivider"></li>
        
          
<li data-item-id="" data-targets="nav-list.items" data-view-component="true" class="ActionListItem">
    
    <a data-analytics-event="{&quot;category&quot;:&quot;Global navigation&quot;,&quot;action&quot;:&quot;SUPPORT&quot;,&quot;label&quot;:null}" id="item-3b7740ae-2a93-4309-b5e4-c6ea505c386f" href="https://support.github.com" data-view-component="true" class="ActionListContent ActionListContent--visual16">
        <span class="ActionListItem-visual ActionListItem-visual--leading">
          <svg aria-hidden="true" height="16" viewBox="0 0 16 16" version="1.1" width="16" data-view-component="true" class="octicon octicon-people">
    <path d="M2 5.5a3.5 3.5 0 1 1 5.898 2.549 5.508 5.508 0 0 1 3.034 4.084.75.75 0 1 1-1.482.235 4 4 0 0 0-7.9 0 .75.75 0 0 1-1.482-.236A5.507 5.507 0 0 1 3.102 8.05 3.493 3.493 0 0 1 2 5.5ZM11 4a3.001 3.001 0 0 1 2.22 5.018 5.01 5.01 0 0 1 2.56 3.012.749.749 0 0 1-.885.954.752.752 0 0 1-.549-.514 3.507 3.507 0 0 0-2.522-2.372.75.75 0 0 1-.574-.73v-.352a.75.75 0 0 1 .416-.672A1.5 1.5 0 0 0 11 5.5.75.75 0 0 1 11 4Zm-5.5-.5a2 2 0 1 0-.001 3.999A2 2 0 0 0 5.5 3.5Z"></path>
</svg>
        </span>
      
        <span data-view-component="true" class="ActionListItem-label">
          GitHub Support
</span></a>
  
  
</li>

        
          
<li data-item-id="" data-targets="nav-list.items" data-view-component="true" class="ActionListItem">
    
    <a data-analytics-event="{&quot;category&quot;:&quot;Global navigation&quot;,&quot;action&quot;:&quot;COMMUNITY&quot;,&quot;label&quot;:null}" id="item-2d5447cb-a21e-4b08-8eaa-cde9179fa9e7" href="https://community.github.com" data-view-component="true" class="ActionListContent ActionListContent--visual16">
        <span class="ActionListItem-visual ActionListItem-visual--leading">
          <svg aria-hidden="true" height="16" viewBox="0 0 16 16" version="1.1" width="16" data-view-component="true" class="octicon octicon-comment-discussion">
    <path d="M1.75 1h8.5c.966 0 1.75.784 1.75 1.75v5.5A1.75 1.75 0 0 1 10.25 10H7.061l-2.574 2.573A1.458 1.458 0 0 1 2 11.543V10h-.25A1.75 1.75 0 0 1 0 8.25v-5.5C0 1.784.784 1 1.75 1ZM1.5 2.75v5.5c0 .138.112.25.25.25h1a.75.75 0 0 1 .75.75v2.19l2.72-2.72a.749.749 0 0 1 .53-.22h3.5a.25.25 0 0 0 .25-.25v-5.5a.25.25 0 0 0-.25-.25h-8.5a.25.25 0 0 0-.25.25Zm13 2a.25.25 0 0 0-.25-.25h-.5a.75.75 0 0 1 0-1.5h.5c.966 0 1.75.784 1.75 1.75v5.5A1.75 1.75 0 0 1 14.25 12H14v1.543a1.458 1.458 0 0 1-2.487 1.03L9.22 12.28a.749.749 0 0 1 .326-1.275.749.749 0 0 1 .734.215l2.22 2.22v-2.19a.75.75 0 0 1 .75-.75h1a.25.25 0 0 0 .25-.25Z"></path>
</svg>
        </span>
      
        <span data-view-component="true" class="ActionListItem-label">
          GitHub Community
</span></a>
  
  
</li>

        
          <li role="presentation" aria-hidden="true" data-view-component="true" class="ActionList-sectionDivider"></li>
        
          
<li data-item-id="" data-targets="nav-list.items" data-view-component="true" class="ActionListItem">
    
    <a data-analytics-event="{&quot;category&quot;:&quot;Global navigation&quot;,&quot;action&quot;:&quot;LOGOUT&quot;,&quot;label&quot;:null}" id="item-524398f8-98ea-481f-aab4-bf6f4cbb0d30" href="/logout" data-view-component="true" class="ActionListContent">
      
        <span data-view-component="true" class="ActionListItem-label">
          Sign out
</span></a>
  
  
</li>

</ul>  </nav-list>
</nav>


</div>
</div>
      </scrollable-region>
      
</dialog></dialog-helper>
    </user-drawer-side-panel>


  </include-fragment>
</deferred-side-panel>
          
        </div>

        <div class="position-absolute mt-2">
            
<site-header-logged-in-user-menu>

</site-header-logged-in-user-menu>

        </div>
      </div>
    </div>


      <div class="AppHeader-localBar" >
        <nav data-pjax="#js-repo-pjax-container" aria-label="Repository" data-view-component="true" class="js-repo-nav js-sidenav-container-pjax js-responsive-underlinenav overflow-hidden UnderlineNav">

  <ul data-view-component="true" class="UnderlineNav-body list-style-none">
      <li data-view-component="true" class="d-inline-flex">
  <a id="code-tab" href="/AlexLaudiano/imersao_python" data-tab-item="i0code-tab" data-selected-links="repo_source repo_downloads repo_commits repo_releases repo_tags repo_branches repo_packages repo_deployments repo_attestations /AlexLaudiano/imersao_python" data-pjax="#repo-content-pjax-container" data-turbo-frame="repo-content-turbo-frame" data-hotkey="g c" data-analytics-event="{&quot;category&quot;:&quot;Underline navbar&quot;,&quot;action&quot;:&quot;Click tab&quot;,&quot;label&quot;:&quot;Code&quot;,&quot;target&quot;:&quot;UNDERLINE_NAV.TAB&quot;}" data-view-component="true" class="UnderlineNav-item no-wrap js-responsive-underlinenav-item js-selected-navigation-item">
    
              <svg aria-hidden="true" height="16" viewBox="0 0 16 16" version="1.1" width="16" data-view-component="true" class="octicon octicon-code UnderlineNav-octicon d-none d-sm-inline">
    <path d="m11.28 3.22 4.25 4.25a.75.75 0 0 1 0 1.06l-4.25 4.25a.749.749 0 0 1-1.275-.326.749.749 0 0 1 .215-.734L13.94 8l-3.72-3.72a.749.749 0 0 1 .326-1.275.749.749 0 0 1 .734.215Zm-6.56 0a.751.751 0 0 1 1.042.018.751.751 0 0 1 .018 1.042L2.06 8l3.72 3.72a.749.749 0 0 1-.326 1.275.749.749 0 0 1-.734-.215L.47 8.53a.75.75 0 0 1 0-1.06Z"></path>
</svg>
        <span data-content="Code">Code</span>
          <span id="code-repo-tab-count" data-pjax-replace="" data-turbo-replace="" title="Not available" data-view-component="true" class="Counter"></span>


    
</a></li>
      <li data-view-component="true" class="d-inline-flex">
  <a id="issues-tab" href="/AlexLaudiano/imersao_python/issues" data-tab-item="i1issues-tab" data-selected-links="repo_issues repo_labels repo_milestones /AlexLaudiano/imersao_python/issues" data-pjax="#repo-content-pjax-container" data-turbo-frame="repo-content-turbo-frame" data-hotkey="g i" data-analytics-event="{&quot;category&quot;:&quot;Underline navbar&quot;,&quot;action&quot;:&quot;Click tab&quot;,&quot;label&quot;:&quot;Issues&quot;,&quot;target&quot;:&quot;UNDERLINE_NAV.TAB&quot;}" data-view-component="true" class="UnderlineNav-item no-wrap js-responsive-underlinenav-item js-selected-navigation-item">
    
              <svg aria-hidden="true" height="16" viewBox="0 0 16 16" version="1.1" width="16" data-view-component="true" class="octicon octicon-issue-opened UnderlineNav-octicon d-none d-sm-inline">
    <path d="M8 9.5a1.5 1.5 0 1 0 0-3 1.5 1.5 0 0 0 0 3Z"></path><path d="M8 0a8 8 0 1 1 0 16A8 8 0 0 1 8 0ZM1.5 8a6.5 6.5 0 1 0 13 0 6.5 6.5 0 0 0-13 0Z"></path>
</svg>
        <span data-content="Issues">Issues</span>
          <span id="issues-repo-tab-count" data-pjax-replace="" data-turbo-replace="" title="0" hidden="hidden" data-view-component="true" class="Counter">0</span>


    
</a></li>
      <li data-view-component="true" class="d-inline-flex">
  <a id="pull-requests-tab" href="/AlexLaudiano/imersao_python/pulls" data-tab-item="i2pull-requests-tab" data-selected-links="repo_pulls checks /AlexLaudiano/imersao_python/pulls" data-pjax="#repo-content-pjax-container" data-turbo-frame="repo-content-turbo-frame" data-hotkey="g p" data-analytics-event="{&quot;category&quot;:&quot;Underline navbar&quot;,&quot;action&quot;:&quot;Click tab&quot;,&quot;label&quot;:&quot;Pull requests&quot;,&quot;target&quot;:&quot;UNDERLINE_NAV.TAB&quot;}" data-view-component="true" class="UnderlineNav-item no-wrap js-responsive-underlinenav-item js-selected-navigation-item">
    
              <svg aria-hidden="true" height="16" viewBox="0 0 16 16" version="1.1" width="16" data-view-component="true" class="octicon octicon-git-pull-request UnderlineNav-octicon d-none d-sm-inline">
    <path d="M1.5 3.25a2.25 2.25 0 1 1 3 2.122v5.256a2.251 2.251 0 1 1-1.5 0V5.372A2.25 2.25 0 0 1 1.5 3.25Zm5.677-.177L9.573.677A.25.25 0 0 1 10 .854V2.5h1A2.5 2.5 0 0 1 13.5 5v5.628a2.251 2.251 0 1 1-1.5 0V5a1 1 0 0 0-1-1h-1v1.646a.25.25 0 0 1-.427.177L7.177 3.427a.25.25 0 0 1 0-.354ZM3.75 2.5a.75.75 0 1 0 0 1.5.75.75 0 0 0 0-1.5Zm0 9.5a.75.75 0 1 0 0 1.5.75.75 0 0 0 0-1.5Zm8.25.75a.75.75 0 1 0 1.5 0 .75.75 0 0 0-1.5 0Z"></path>
</svg>
        <span data-content="Pull requests">Pull requests</span>
          <span id="pull-requests-repo-tab-count" data-pjax-replace="" data-turbo-replace="" title="0" hidden="hidden" data-view-component="true" class="Counter">0</span>


    
</a></li>
      <li data-view-component="true" class="d-inline-flex">
  <a id="actions-tab" href="/AlexLaudiano/imersao_python/actions" data-tab-item="i3actions-tab" data-selected-links="repo_actions /AlexLaudiano/imersao_python/actions" data-pjax="#repo-content-pjax-container" data-turbo-frame="repo-content-turbo-frame" data-hotkey="g a" data-analytics-event="{&quot;category&quot;:&quot;Underline navbar&quot;,&quot;action&quot;:&quot;Click tab&quot;,&quot;label&quot;:&quot;Actions&quot;,&quot;target&quot;:&quot;UNDERLINE_NAV.TAB&quot;}" data-view-component="true" class="UnderlineNav-item no-wrap js-responsive-underlinenav-item js-selected-navigation-item">
    
              <svg aria-hidden="true" height="16" viewBox="0 0 16 16" version="1.1" width="16" data-view-component="true" class="octicon octicon-play UnderlineNav-octicon d-none d-sm-inline">
    <path d="M8 0a8 8 0 1 1 0 16A8 8 0 0 1 8 0ZM1.5 8a6.5 6.5 0 1 0 13 0 6.5 6.5 0 0 0-13 0Zm4.879-2.773 4.264 2.559a.25.25 0 0 1 0 .428l-4.264 2.559A.25.25 0 0 1 6 10.559V5.442a.25.25 0 0 1 .379-.215Z"></path>
</svg>
        <span data-content="Actions">Actions</span>
          <span id="actions-repo-tab-count" data-pjax-replace="" data-turbo-replace="" title="Not available" data-view-component="true" class="Counter"></span>


    
</a></li>
      <li data-view-component="true" class="d-inline-flex">
  <a id="projects-tab" href="/AlexLaudiano/imersao_python/projects" data-tab-item="i4projects-tab" data-selected-links="repo_projects new_repo_project repo_project /AlexLaudiano/imersao_python/projects" data-pjax="#repo-content-pjax-container" data-turbo-frame="repo-content-turbo-frame" data-hotkey="g b" data-analytics-event="{&quot;category&quot;:&quot;Underline navbar&quot;,&quot;action&quot;:&quot;Click tab&quot;,&quot;label&quot;:&quot;Projects&quot;,&quot;target&quot;:&quot;UNDERLINE_NAV.TAB&quot;}" data-view-component="true" class="UnderlineNav-item no-wrap js-responsive-underlinenav-item js-selected-navigation-item">
    
              <svg aria-hidden="true" height="16" viewBox="0 0 16 16" version="1.1" width="16" data-view-component="true" class="octicon octicon-table UnderlineNav-octicon d-none d-sm-inline">
    <path d="M0 1.75C0 .784.784 0 1.75 0h12.5C15.216 0 16 .784 16 1.75v12.5A1.75 1.75 0 0 1 14.25 16H1.75A1.75 1.75 0 0 1 0 14.25ZM6.5 6.5v8h7.75a.25.25 0 0 0 .25-.25V6.5Zm8-1.5V1.75a.25.25 0 0 0-.25-.25H6.5V5Zm-13 1.5v7.75c0 .138.112.25.25.25H5v-8ZM5 5V1.5H1.75a.25.25 0 0 0-.25.25V5Z"></path>
</svg>
        <span data-content="Projects">Projects</span>
          <span id="projects-repo-tab-count" data-pjax-replace="" data-turbo-replace="" title="0" hidden="hidden" data-view-component="true" class="Counter">0</span>


    
</a></li>
      <li data-view-component="true" class="d-inline-flex">
  <a id="security-tab" href="/AlexLaudiano/imersao_python/security" data-tab-item="i5security-tab" data-selected-links="security overview alerts policy token_scanning code_scanning /AlexLaudiano/imersao_python/security" data-pjax="#repo-content-pjax-container" data-turbo-frame="repo-content-turbo-frame" data-hotkey="g s" data-analytics-event="{&quot;category&quot;:&quot;Underline navbar&quot;,&quot;action&quot;:&quot;Click tab&quot;,&quot;label&quot;:&quot;Security&quot;,&quot;target&quot;:&quot;UNDERLINE_NAV.TAB&quot;}" data-view-component="true" class="UnderlineNav-item no-wrap js-responsive-underlinenav-item js-selected-navigation-item">
    
              <svg aria-hidden="true" height="16" viewBox="0 0 16 16" version="1.1" width="16" data-view-component="true" class="octicon octicon-shield UnderlineNav-octicon d-none d-sm-inline">
    <path d="M7.467.133a1.748 1.748 0 0 1 1.066 0l5.25 1.68A1.75 1.75 0 0 1 15 3.48V7c0 1.566-.32 3.182-1.303 4.682-.983 1.498-2.585 2.813-5.032 3.855a1.697 1.697 0 0 1-1.33 0c-2.447-1.042-4.049-2.357-5.032-3.855C1.32 10.182 1 8.566 1 7V3.48a1.75 1.75 0 0 1 1.217-1.667Zm.61 1.429a.25.25 0 0 0-.153 0l-5.25 1.68a.25.25 0 0 0-.174.238V7c0 1.358.275 2.666 1.057 3.86.784 1.194 2.121 2.34 4.366 3.297a.196.196 0 0 0 .154 0c2.245-.956 3.582-2.104 4.366-3.298C13.225 9.666 13.5 8.36 13.5 7V3.48a.251.251 0 0 0-.174-.237l-5.25-1.68ZM8.75 4.75v3a.75.75 0 0 1-1.5 0v-3a.75.75 0 0 1 1.5 0ZM9 10.5a1 1 0 1 1-2 0 1 1 0 0 1 2 0Z"></path>
</svg>
        <span data-content="Security">Security</span>
          <include-fragment src="/AlexLaudiano/imersao_python/security/overall-count" accept="text/fragment+html"></include-fragment>

    
</a></li>
      <li data-view-component="true" class="d-inline-flex">
  <a id="insights-tab" href="/AlexLaudiano/imersao_python/pulse" data-tab-item="i6insights-tab" data-selected-links="repo_graphs repo_contributors dependency_graph dependabot_updates pulse people community /AlexLaudiano/imersao_python/pulse" data-pjax="#repo-content-pjax-container" data-turbo-frame="repo-content-turbo-frame" data-analytics-event="{&quot;category&quot;:&quot;Underline navbar&quot;,&quot;action&quot;:&quot;Click tab&quot;,&quot;label&quot;:&quot;Insights&quot;,&quot;target&quot;:&quot;UNDERLINE_NAV.TAB&quot;}" data-view-component="true" class="UnderlineNav-item no-wrap js-responsive-underlinenav-item js-selected-navigation-item">
    
              <svg aria-hidden="true" height="16" viewBox="0 0 16 16" version="1.1" width="16" data-view-component="true" class="octicon octicon-graph UnderlineNav-octicon d-none d-sm-inline">
    <path d="M1.5 1.75V13.5h13.75a.75.75 0 0 1 0 1.5H.75a.75.75 0 0 1-.75-.75V1.75a.75.75 0 0 1 1.5 0Zm14.28 2.53-5.25 5.25a.75.75 0 0 1-1.06 0L7 7.06 4.28 9.78a.751.751 0 0 1-1.042-.018.751.751 0 0 1-.018-1.042l3.25-3.25a.75.75 0 0 1 1.06 0L10 7.94l4.72-4.72a.751.751 0 0 1 1.042.018.751.751 0 0 1 .018 1.042Z"></path>
</svg>
        <span data-content="Insights">Insights</span>
          <span id="insights-repo-tab-count" data-pjax-replace="" data-turbo-replace="" title="Not available" data-view-component="true" class="Counter"></span>


    
</a></li>
</ul>
    <div style="visibility:hidden;" data-view-component="true" class="UnderlineNav-actions js-responsive-underlinenav-overflow position-absolute pr-3 pr-md-4 pr-lg-5 right-0">      <action-menu data-select-variant="none" data-view-component="true">
  <focus-group direction="vertical" mnemonics retain>
    <button id="action-menu-3d0eb16c-2075-4f08-97c3-d256e93ca29e-button" popovertarget="action-menu-3d0eb16c-2075-4f08-97c3-d256e93ca29e-overlay" aria-controls="action-menu-3d0eb16c-2075-4f08-97c3-d256e93ca29e-list" aria-haspopup="true" aria-labelledby="tooltip-195c2e5a-cac2-47d6-86c0-fe965e14c217" type="button" data-view-component="true" class="Button Button--iconOnly Button--secondary Button--medium UnderlineNav-item">  <svg aria-hidden="true" height="16" viewBox="0 0 16 16" version="1.1" width="16" data-view-component="true" class="octicon octicon-kebab-horizontal Button-visual">
    <path d="M8 9a1.5 1.5 0 1 0 0-3 1.5 1.5 0 0 0 0 3ZM1.5 9a1.5 1.5 0 1 0 0-3 1.5 1.5 0 0 0 0 3Zm13 0a1.5 1.5 0 1 0 0-3 1.5 1.5 0 0 0 0 3Z"></path>
</svg>
</button><tool-tip id="tooltip-195c2e5a-cac2-47d6-86c0-fe965e14c217" for="action-menu-3d0eb16c-2075-4f08-97c3-d256e93ca29e-button" popover="manual" data-direction="s" data-type="label" data-view-component="true" class="sr-only position-absolute">Additional navigation options</tool-tip>


<anchored-position id="action-menu-3d0eb16c-2075-4f08-97c3-d256e93ca29e-overlay" anchor="action-menu-3d0eb16c-2075-4f08-97c3-d256e93ca29e-button" align="start" side="outside-bottom" anchor-offset="normal" popover="auto" data-view-component="true">
  <div data-view-component="true" class="Overlay Overlay--size-auto">
    
      <div data-view-component="true" class="Overlay-body Overlay-body--paddingNone">          <action-list>
  <div data-view-component="true">
    <ul aria-labelledby="action-menu-3d0eb16c-2075-4f08-97c3-d256e93ca29e-button" id="action-menu-3d0eb16c-2075-4f08-97c3-d256e93ca29e-list" role="menu" data-view-component="true" class="ActionListWrap--inset ActionListWrap">
        <li hidden="hidden" data-menu-item="i0code-tab" data-targets="action-list.items" role="none" data-view-component="true" class="ActionListItem">
    
    <a tabindex="-1" id="item-254e01b0-0fae-4d98-a937-36fec16927d4" href="/AlexLaudiano/imersao_python" role="menuitem" data-view-component="true" class="ActionListContent ActionListContent--visual16">
        <span class="ActionListItem-visual ActionListItem-visual--leading">
          <svg aria-hidden="true" height="16" viewBox="0 0 16 16" version="1.1" width="16" data-view-component="true" class="octicon octicon-code">
    <path d="m11.28 3.22 4.25 4.25a.75.75 0 0 1 0 1.06l-4.25 4.25a.749.749 0 0 1-1.275-.326.749.749 0 0 1 .215-.734L13.94 8l-3.72-3.72a.749.749 0 0 1 .326-1.275.749.749 0 0 1 .734.215Zm-6.56 0a.751.751 0 0 1 1.042.018.751.751 0 0 1 .018 1.042L2.06 8l3.72 3.72a.749.749 0 0 1-.326 1.275.749.749 0 0 1-.734-.215L.47 8.53a.75.75 0 0 1 0-1.06Z"></path>
</svg>
        </span>
      
        <span data-view-component="true" class="ActionListItem-label">
          Code
</span></a>
  
  
</li>
        <li hidden="hidden" data-menu-item="i1issues-tab" data-targets="action-list.items" role="none" data-view-component="true" class="ActionListItem">
    
    <a tabindex="-1" id="item-c7006c0f-a036-4591-a7f9-4e4b660b22f8" href="/AlexLaudiano/imersao_python/issues" role="menuitem" data-view-component="true" class="ActionListContent ActionListContent--visual16">
        <span class="ActionListItem-visual ActionListItem-visual--leading">
          <svg aria-hidden="true" height="16" viewBox="0 0 16 16" version="1.1" width="16" data-view-component="true" class="octicon octicon-issue-opened">
    <path d="M8 9.5a1.5 1.5 0 1 0 0-3 1.5 1.5 0 0 0 0 3Z"></path><path d="M8 0a8 8 0 1 1 0 16A8 8 0 0 1 8 0ZM1.5 8a6.5 6.5 0 1 0 13 0 6.5 6.5 0 0 0-13 0Z"></path>
</svg>
        </span>
      
        <span data-view-component="true" class="ActionListItem-label">
          Issues
</span></a>
  
  
</li>
        <li hidden="hidden" data-menu-item="i2pull-requests-tab" data-targets="action-list.items" role="none" data-view-component="true" class="ActionListItem">
    
    <a tabindex="-1" id="item-2c845d61-a155-450d-b2b5-3fc0e661df09" href="/AlexLaudiano/imersao_python/pulls" role="menuitem" data-view-component="true" class="ActionListContent ActionListContent--visual16">
        <span class="ActionListItem-visual ActionListItem-visual--leading">
          <svg aria-hidden="true" height="16" viewBox="0 0 16 16" version="1.1" width="16" data-view-component="true" class="octicon octicon-git-pull-request">
    <path d="M1.5 3.25a2.25 2.25 0 1 1 3 2.122v5.256a2.251 2.251 0 1 1-1.5 0V5.372A2.25 2.25 0 0 1 1.5 3.25Zm5.677-.177L9.573.677A.25.25 0 0 1 10 .854V2.5h1A2.5 2.5 0 0 1 13.5 5v5.628a2.251 2.251 0 1 1-1.5 0V5a1 1 0 0 0-1-1h-1v1.646a.25.25 0 0 1-.427.177L7.177 3.427a.25.25 0 0 1 0-.354ZM3.75 2.5a.75.75 0 1 0 0 1.5.75.75 0 0 0 0-1.5Zm0 9.5a.75.75 0 1 0 0 1.5.75.75 0 0 0 0-1.5Zm8.25.75a.75.75 0 1 0 1.5 0 .75.75 0 0 0-1.5 0Z"></path>
</svg>
        </span>
      
        <span data-view-component="true" class="ActionListItem-label">
          Pull requests
</span></a>
  
  
</li>
        <li hidden="hidden" data-menu-item="i3actions-tab" data-targets="action-list.items" role="none" data-view-component="true" class="ActionListItem">
    
    <a tabindex="-1" id="item-50799144-f3d9-4c66-b569-de7505a52948" href="/AlexLaudiano/imersao_python/actions" role="menuitem" data-view-component="true" class="ActionListContent ActionListContent--visual16">
        <span class="ActionListItem-visual ActionListItem-visual--leading">
          <svg aria-hidden="true" height="16" viewBox="0 0 16 16" version="1.1" width="16" data-view-component="true" class="octicon octicon-play">
    <path d="M8 0a8 8 0 1 1 0 16A8 8 0 0 1 8 0ZM1.5 8a6.5 6.5 0 1 0 13 0 6.5 6.5 0 0 0-13 0Zm4.879-2.773 4.264 2.559a.25.25 0 0 1 0 .428l-4.264 2.559A.25.25 0 0 1 6 10.559V5.442a.25.25 0 0 1 .379-.215Z"></path>
</svg>
        </span>
      
        <span data-view-component="true" class="ActionListItem-label">
          Actions
</span></a>
  
  
</li>
        <li hidden="hidden" data-menu-item="i4projects-tab" data-targets="action-list.items" role="none" data-view-component="true" class="ActionListItem">
    
    <a tabindex="-1" id="item-72b48c19-b0ba-47f1-808b-6e48504b4d81" href="/AlexLaudiano/imersao_python/projects" role="menuitem" data-view-component="true" class="ActionListContent ActionListContent--visual16">
        <span class="ActionListItem-visual ActionListItem-visual--leading">
          <svg aria-hidden="true" height="16" viewBox="0 0 16 16" version="1.1" width="16" data-view-component="true" class="octicon octicon-table">
    <path d="M0 1.75C0 .784.784 0 1.75 0h12.5C15.216 0 16 .784 16 1.75v12.5A1.75 1.75 0 0 1 14.25 16H1.75A1.75 1.75 0 0 1 0 14.25ZM6.5 6.5v8h7.75a.25.25 0 0 0 .25-.25V6.5Zm8-1.5V1.75a.25.25 0 0 0-.25-.25H6.5V5Zm-13 1.5v7.75c0 .138.112.25.25.25H5v-8ZM5 5V1.5H1.75a.25.25 0 0 0-.25.25V5Z"></path>
</svg>
        </span>
      
        <span data-view-component="true" class="ActionListItem-label">
          Projects
</span></a>
  
  
</li>
        <li hidden="hidden" data-menu-item="i5security-tab" data-targets="action-list.items" role="none" data-view-component="true" class="ActionListItem">
    
    <a tabindex="-1" id="item-672cbed6-39a4-46a2-8ca9-38f84345ba69" href="/AlexLaudiano/imersao_python/security" role="menuitem" data-view-component="true" class="ActionListContent ActionListContent--visual16">
        <span class="ActionListItem-visual ActionListItem-visual--leading">
          <svg aria-hidden="true" height="16" viewBox="0 0 16 16" version="1.1" width="16" data-view-component="true" class="octicon octicon-shield">
    <path d="M7.467.133a1.748 1.748 0 0 1 1.066 0l5.25 1.68A1.75 1.75 0 0 1 15 3.48V7c0 1.566-.32 3.182-1.303 4.682-.983 1.498-2.585 2.813-5.032 3.855a1.697 1.697 0 0 1-1.33 0c-2.447-1.042-4.049-2.357-5.032-3.855C1.32 10.182 1 8.566 1 7V3.48a1.75 1.75 0 0 1 1.217-1.667Zm.61 1.429a.25.25 0 0 0-.153 0l-5.25 1.68a.25.25 0 0 0-.174.238V7c0 1.358.275 2.666 1.057 3.86.784 1.194 2.121 2.34 4.366 3.297a.196.196 0 0 0 .154 0c2.245-.956 3.582-2.104 4.366-3.298C13.225 9.666 13.5 8.36 13.5 7V3.48a.251.251 0 0 0-.174-.237l-5.25-1.68ZM8.75 4.75v3a.75.75 0 0 1-1.5 0v-3a.75.75 0 0 1 1.5 0ZM9 10.5a1 1 0 1 1-2 0 1 1 0 0 1 2 0Z"></path>
</svg>
        </span>
      
        <span data-view-component="true" class="ActionListItem-label">
          Security
</span></a>
  
  
</li>
        <li hidden="hidden" data-menu-item="i6insights-tab" data-targets="action-list.items" role="none" data-view-component="true" class="ActionListItem">
    
    <a tabindex="-1" id="item-7c55b4cc-13c2-4ee3-be3f-c554d6c6a94f" href="/AlexLaudiano/imersao_python/pulse" role="menuitem" data-view-component="true" class="ActionListContent ActionListContent--visual16">
        <span class="ActionListItem-visual ActionListItem-visual--leading">
          <svg aria-hidden="true" height="16" viewBox="0 0 16 16" version="1.1" width="16" data-view-component="true" class="octicon octicon-graph">
    <path d="M1.5 1.75V13.5h13.75a.75.75 0 0 1 0 1.5H.75a.75.75 0 0 1-.75-.75V1.75a.75.75 0 0 1 1.5 0Zm14.28 2.53-5.25 5.25a.75.75 0 0 1-1.06 0L7 7.06 4.28 9.78a.751.751 0 0 1-1.042-.018.751.751 0 0 1-.018-1.042l3.25-3.25a.75.75 0 0 1 1.06 0L10 7.94l4.72-4.72a.751.751 0 0 1 1.042.018.751.751 0 0 1 .018 1.042Z"></path>
</svg>
        </span>
      
        <span data-view-component="true" class="ActionListItem-label">
          Insights
</span></a>
  
  
</li>
</ul>    
</div></action-list>


</div>
      
</div></anchored-position>  </focus-group>
</action-menu></div>
</nav>
      </div>
</header>


      <div hidden="hidden" data-view-component="true" class="js-stale-session-flash stale-session-flash flash flash-warn flash-full mb-3">
  
        <svg aria-hidden="true" height="16" viewBox="0 0 16 16" version="1.1" width="16" data-view-component="true" class="octicon octicon-alert">
    <path d="M6.457 1.047c.659-1.234 2.427-1.234 3.086 0l6.082 11.378A1.75 1.75 0 0 1 14.082 15H1.918a1.75 1.75 0 0 1-1.543-2.575Zm1.763.707a.25.25 0 0 0-.44 0L1.698 13.132a.25.25 0 0 0 .22.368h12.164a.25.25 0 0 0 .22-.368Zm.53 3.996v2.5a.75.75 0 0 1-1.5 0v-2.5a.75.75 0 0 1 1.5 0ZM9 11a1 1 0 1 1-2 0 1 1 0 0 1 2 0Z"></path>
</svg>
        <span class="js-stale-session-flash-signed-in" hidden>You signed in with another tab or window. <a class="Link--inTextBlock" href="">Reload</a> to refresh your session.</span>
        <span class="js-stale-session-flash-signed-out" hidden>You signed out in another tab or window. <a class="Link--inTextBlock" href="">Reload</a> to refresh your session.</span>
        <span class="js-stale-session-flash-switched" hidden>You switched accounts on another tab or window. <a class="Link--inTextBlock" href="">Reload</a> to refresh your session.</span>

    <button id="icon-button-a1681088-497b-42e3-a59a-f841e0396732" aria-labelledby="tooltip-552de1ce-0a37-4d36-885c-a10d4fb2b076" type="button" data-view-component="true" class="Button Button--iconOnly Button--invisible Button--medium flash-close js-flash-close">  <svg aria-hidden="true" height="16" viewBox="0 0 16 16" version="1.1" width="16" data-view-component="true" class="octicon octicon-x Button-visual">
    <path d="M3.72 3.72a.75.75 0 0 1 1.06 0L8 6.94l3.22-3.22a.749.749 0 0 1 1.275.326.749.749 0 0 1-.215.734L9.06 8l3.22 3.22a.749.749 0 0 1-.326 1.275.749.749 0 0 1-.734-.215L8 9.06l-3.22 3.22a.751.751 0 0 1-1.042-.018.751.751 0 0 1-.018-1.042L6.94 8 3.72 4.78a.75.75 0 0 1 0-1.06Z"></path>
</svg>
</button><tool-tip id="tooltip-552de1ce-0a37-4d36-885c-a10d4fb2b076" for="icon-button-a1681088-497b-42e3-a59a-f841e0396732" popover="manual" data-direction="s" data-type="label" data-view-component="true" class="sr-only position-absolute">Dismiss alert</tool-tip>


  
</div>
          
    </div>

  <div id="start-of-content" class="show-on-focus"></div>








    <div id="js-flash-container" data-turbo-replace>





  <template class="js-flash-template">
    
<div class="flash flash-full   {{ className }}">
  <div >
    <button autofocus class="flash-close js-flash-close" type="button" aria-label="Dismiss this message">
      <svg aria-hidden="true" height="16" viewBox="0 0 16 16" version="1.1" width="16" data-view-component="true" class="octicon octicon-x">
    <path d="M3.72 3.72a.75.75 0 0 1 1.06 0L8 6.94l3.22-3.22a.749.749 0 0 1 1.275.326.749.749 0 0 1-.215.734L9.06 8l3.22 3.22a.749.749 0 0 1-.326 1.275.749.749 0 0 1-.734-.215L8 9.06l-3.22 3.22a.751.751 0 0 1-1.042-.018.751.751 0 0 1-.018-1.042L6.94 8 3.72 4.78a.75.75 0 0 1 0-1.06Z"></path>
</svg>
    </button>
    <div aria-atomic="true" role="alert" class="js-flash-alert">
      
      <div>{{ message }}</div>

    </div>
  </div>
</div>
  </template>
</div>


    
    <notification-shelf-watcher data-base-url="https://github.com/notifications/beta/shelf" data-channel="eyJjIjoibm90aWZpY2F0aW9uLWNoYW5nZWQ6NDI3NDczNTgiLCJ0IjoxNzEyNzU5NzA3fQ==--d3032f755ecd763e236ba940ac14afcd2f1a174c60e0173ff075c9f11104b74f" data-view-component="true" class="js-socket-channel"></notification-shelf-watcher>
  <div hidden data-initial data-target="notification-shelf-watcher.placeholder"></div>





      <details
  class="details-reset details-overlay details-overlay-dark js-command-palette-dialog"
  id="command-palette-pjax-container"
  data-turbo-replace
>
  <summary aria-label="Command palette trigger" tabindex="-1"></summary>
  <details-dialog class="command-palette-details-dialog d-flex flex-column flex-justify-center height-fit" aria-label="Command palette">
    <command-palette
      class="command-palette color-bg-default rounded-3 border color-shadow-small"
      return-to=/AlexLaudiano/imersao_python/blob/main/Aula_4/Imers%C3%A3o_Alura_Aula_4_Desafio.2.ipynb
      user-id="42747358"
      activation-hotkey="Mod+k,Mod+Alt+k"
      command-mode-hotkey="Mod+Shift+K"
      data-action="
        command-palette-input-ready:command-palette#inputReady
        command-palette-page-stack-updated:command-palette#updateInputScope
        itemsUpdated:command-palette#itemsUpdated
        keydown:command-palette#onKeydown
        loadingStateChanged:command-palette#loadingStateChanged
        selectedItemChanged:command-palette#selectedItemChanged
        pageFetchError:command-palette#pageFetchError
      ">

        <command-palette-mode
          data-char="#"
            data-scope-types="[&quot;&quot;]"
            data-placeholder="Search issues and pull requests"
        ></command-palette-mode>
        <command-palette-mode
          data-char="#"
            data-scope-types="[&quot;owner&quot;,&quot;repository&quot;]"
            data-placeholder="Search issues, pull requests, discussions, and projects"
        ></command-palette-mode>
        <command-palette-mode
          data-char="!"
            data-scope-types="[&quot;owner&quot;,&quot;repository&quot;]"
            data-placeholder="Search projects"
        ></command-palette-mode>
        <command-palette-mode
          data-char="@"
            data-scope-types="[&quot;&quot;]"
            data-placeholder="Search or jump to a user, organization, or repository"
        ></command-palette-mode>
        <command-palette-mode
          data-char="@"
            data-scope-types="[&quot;owner&quot;]"
            data-placeholder="Search or jump to a repository"
        ></command-palette-mode>
        <command-palette-mode
          data-char="/"
            data-scope-types="[&quot;repository&quot;]"
            data-placeholder="Search files"
        ></command-palette-mode>
        <command-palette-mode
          data-char="?"
        ></command-palette-mode>
        <command-palette-mode
          data-char="&gt;"
            data-placeholder="Run a command"
        ></command-palette-mode>
        <command-palette-mode
          data-char=""
            data-scope-types="[&quot;&quot;]"
            data-placeholder="Search or jump to..."
        ></command-palette-mode>
        <command-palette-mode
          data-char=""
            data-scope-types="[&quot;owner&quot;]"
            data-placeholder="Search or jump to..."
        ></command-palette-mode>
      <command-palette-mode
        class="js-command-palette-default-mode"
        data-char=""
        data-placeholder="Search or jump to..."
      ></command-palette-mode>

      <command-palette-input placeholder="Search or jump to..."

        data-action="
          command-palette-input:command-palette#onInput
          command-palette-select:command-palette#onSelect
          command-palette-descope:command-palette#onDescope
          command-palette-cleared:command-palette#onInputClear
        "
      >
        <div class="js-search-icon d-flex flex-items-center mr-2" style="height: 26px">
          <svg aria-hidden="true" height="16" viewBox="0 0 16 16" version="1.1" width="16" data-view-component="true" class="octicon octicon-search color-fg-muted">
    <path d="M10.68 11.74a6 6 0 0 1-7.922-8.982 6 6 0 0 1 8.982 7.922l3.04 3.04a.749.749 0 0 1-.326 1.275.749.749 0 0 1-.734-.215ZM11.5 7a4.499 4.499 0 1 0-8.997 0A4.499 4.499 0 0 0 11.5 7Z"></path>
</svg>
        </div>
        <div class="js-spinner d-flex flex-items-center mr-2 color-fg-muted" hidden>
          <svg aria-label="Loading" class="anim-rotate" viewBox="0 0 16 16" fill="none" width="16" height="16">
            <circle
              cx="8"
              cy="8"
              r="7"
              stroke="currentColor"
              stroke-opacity="0.25"
              stroke-width="2"
              vector-effect="non-scaling-stroke"
            ></circle>
            <path
              d="M15 8a7.002 7.002 0 00-7-7"
              stroke="currentColor"
              stroke-width="2"
              stroke-linecap="round"
              vector-effect="non-scaling-stroke"
            ></path>
          </svg>
        </div>
        <command-palette-scope >
          <div data-target="command-palette-scope.placeholder" hidden class="color-fg-subtle">/&nbsp;&nbsp;<span class="text-semibold color-fg-default">...</span>&nbsp;&nbsp;/&nbsp;&nbsp;</div>
              <command-palette-token
                data-text="AlexLaudiano"
                data-id="U_kgDOCW4WvA"
                data-type="owner"
                data-value="AlexLaudiano"
                data-targets="command-palette-scope.tokens"
                class="color-fg-default text-semibold"
                style="white-space:nowrap;line-height:20px;"
                >AlexLaudiano<span class="color-fg-subtle text-normal">&nbsp;&nbsp;/&nbsp;&nbsp;</span></command-palette-token>
              <command-palette-token
                data-text="imersao_python"
                data-id="R_kgDOLmBiIg"
                data-type="repository"
                data-value="imersao_python"
                data-targets="command-palette-scope.tokens"
                class="color-fg-default text-semibold"
                style="white-space:nowrap;line-height:20px;"
                >imersao_python<span class="color-fg-subtle text-normal">&nbsp;&nbsp;/&nbsp;&nbsp;</span></command-palette-token>
        </command-palette-scope>
        <div class="command-palette-input-group flex-1 form-control border-0 box-shadow-none" style="z-index: 0">
          <div class="command-palette-typeahead position-absolute d-flex flex-items-center Truncate">
            <span class="typeahead-segment input-mirror" data-target="command-palette-input.mirror"></span>
            <span class="Truncate-text" data-target="command-palette-input.typeaheadText"></span>
            <span class="typeahead-segment" data-target="command-palette-input.typeaheadPlaceholder"></span>
          </div>
          <input
            class="js-overlay-input typeahead-input d-none"
            disabled
            tabindex="-1"
            aria-label="Hidden input for typeahead"
          >
          <input
            type="text"
            autocomplete="off"
            autocorrect="off"
            autocapitalize="off"
            spellcheck="false"
            class="js-input typeahead-input form-control border-0 box-shadow-none input-block width-full no-focus-indicator"
            aria-label="Command palette input"
            aria-haspopup="listbox"
            aria-expanded="false"
            aria-autocomplete="list"
            aria-controls="command-palette-page-stack"
            role="combobox"
            data-action="
              input:command-palette-input#onInput
              keydown:command-palette-input#onKeydown
            "
          >
        </div>
          <div data-view-component="true" class="position-relative d-inline-block">
    <button aria-keyshortcuts="Control+Backspace" data-action="click:command-palette-input#onClear keypress:command-palette-input#onClear" data-target="command-palette-input.clearButton" id="command-palette-clear-button" hidden="hidden" type="button" data-view-component="true" class="btn-octicon command-palette-input-clear-button">      <svg aria-hidden="true" height="16" viewBox="0 0 16 16" version="1.1" width="16" data-view-component="true" class="octicon octicon-x-circle-fill">
    <path d="M2.343 13.657A8 8 0 1 1 13.658 2.343 8 8 0 0 1 2.343 13.657ZM6.03 4.97a.751.751 0 0 0-1.042.018.751.751 0 0 0-.018 1.042L6.94 8 4.97 9.97a.749.749 0 0 0 .326 1.275.749.749 0 0 0 .734-.215L8 9.06l1.97 1.97a.749.749 0 0 0 1.275-.326.749.749 0 0 0-.215-.734L9.06 8l1.97-1.97a.749.749 0 0 0-.326-1.275.749.749 0 0 0-.734.215L8 6.94Z"></path>
</svg>
</button>    <tool-tip id="tooltip-300e2ca2-89fb-49b5-a405-e7c14f0c7df4" for="command-palette-clear-button" popover="manual" data-direction="w" data-type="label" data-view-component="true" class="sr-only position-absolute">Clear Command Palette</tool-tip>
</div>
      </command-palette-input>

      <command-palette-page-stack
        data-default-scope-id="R_kgDOLmBiIg"
        data-default-scope-type="Repository"
        data-action="command-palette-page-octicons-cached:command-palette-page-stack#cacheOcticons"
      >
          <command-palette-tip
            class="color-fg-muted f6 px-3 py-1 my-2"
              data-scope-types="[&quot;&quot;,&quot;owner&quot;,&quot;repository&quot;]"
            data-mode=""
            data-value="">
            <div class="d-flex flex-items-start flex-justify-between">
              <div>
                <span class="text-bold">Tip:</span>
                  Type <kbd class="hx_kbd">#</kbd> to search pull requests
              </div>
              <div class="ml-2 flex-shrink-0">
                Type <kbd class="hx_kbd">?</kbd> for help and tips
              </div>
            </div>
          </command-palette-tip>
          <command-palette-tip
            class="color-fg-muted f6 px-3 py-1 my-2"
              data-scope-types="[&quot;&quot;,&quot;owner&quot;,&quot;repository&quot;]"
            data-mode=""
            data-value="">
            <div class="d-flex flex-items-start flex-justify-between">
              <div>
                <span class="text-bold">Tip:</span>
                  Type <kbd class="hx_kbd">#</kbd> to search issues
              </div>
              <div class="ml-2 flex-shrink-0">
                Type <kbd class="hx_kbd">?</kbd> for help and tips
              </div>
            </div>
          </command-palette-tip>
          <command-palette-tip
            class="color-fg-muted f6 px-3 py-1 my-2"
              data-scope-types="[&quot;owner&quot;,&quot;repository&quot;]"
            data-mode=""
            data-value="">
            <div class="d-flex flex-items-start flex-justify-between">
              <div>
                <span class="text-bold">Tip:</span>
                  Type <kbd class="hx_kbd">#</kbd> to search discussions
              </div>
              <div class="ml-2 flex-shrink-0">
                Type <kbd class="hx_kbd">?</kbd> for help and tips
              </div>
            </div>
          </command-palette-tip>
          <command-palette-tip
            class="color-fg-muted f6 px-3 py-1 my-2"
              data-scope-types="[&quot;owner&quot;,&quot;repository&quot;]"
            data-mode=""
            data-value="">
            <div class="d-flex flex-items-start flex-justify-between">
              <div>
                <span class="text-bold">Tip:</span>
                  Type <kbd class="hx_kbd">!</kbd> to search projects
              </div>
              <div class="ml-2 flex-shrink-0">
                Type <kbd class="hx_kbd">?</kbd> for help and tips
              </div>
            </div>
          </command-palette-tip>
          <command-palette-tip
            class="color-fg-muted f6 px-3 py-1 my-2"
              data-scope-types="[&quot;owner&quot;]"
            data-mode=""
            data-value="">
            <div class="d-flex flex-items-start flex-justify-between">
              <div>
                <span class="text-bold">Tip:</span>
                  Type <kbd class="hx_kbd">@</kbd> to search teams
              </div>
              <div class="ml-2 flex-shrink-0">
                Type <kbd class="hx_kbd">?</kbd> for help and tips
              </div>
            </div>
          </command-palette-tip>
          <command-palette-tip
            class="color-fg-muted f6 px-3 py-1 my-2"
              data-scope-types="[&quot;&quot;]"
            data-mode=""
            data-value="">
            <div class="d-flex flex-items-start flex-justify-between">
              <div>
                <span class="text-bold">Tip:</span>
                  Type <kbd class="hx_kbd">@</kbd> to search people and organizations
              </div>
              <div class="ml-2 flex-shrink-0">
                Type <kbd class="hx_kbd">?</kbd> for help and tips
              </div>
            </div>
          </command-palette-tip>
          <command-palette-tip
            class="color-fg-muted f6 px-3 py-1 my-2"
              data-scope-types="[&quot;&quot;,&quot;owner&quot;,&quot;repository&quot;]"
            data-mode=""
            data-value="">
            <div class="d-flex flex-items-start flex-justify-between">
              <div>
                <span class="text-bold">Tip:</span>
                  Type <kbd class="hx_kbd">&gt;</kbd> to activate command mode
              </div>
              <div class="ml-2 flex-shrink-0">
                Type <kbd class="hx_kbd">?</kbd> for help and tips
              </div>
            </div>
          </command-palette-tip>
          <command-palette-tip
            class="color-fg-muted f6 px-3 py-1 my-2"
              data-scope-types="[&quot;&quot;,&quot;owner&quot;,&quot;repository&quot;]"
            data-mode=""
            data-value="">
            <div class="d-flex flex-items-start flex-justify-between">
              <div>
                <span class="text-bold">Tip:</span>
                  Go to your accessibility settings to change your keyboard shortcuts
              </div>
              <div class="ml-2 flex-shrink-0">
                Type <kbd class="hx_kbd">?</kbd> for help and tips
              </div>
            </div>
          </command-palette-tip>
          <command-palette-tip
            class="color-fg-muted f6 px-3 py-1 my-2"
              data-scope-types="[&quot;&quot;,&quot;owner&quot;,&quot;repository&quot;]"
            data-mode="#"
            data-value="">
            <div class="d-flex flex-items-start flex-justify-between">
              <div>
                <span class="text-bold">Tip:</span>
                  Type author:@me to search your content
              </div>
              <div class="ml-2 flex-shrink-0">
                Type <kbd class="hx_kbd">?</kbd> for help and tips
              </div>
            </div>
          </command-palette-tip>
          <command-palette-tip
            class="color-fg-muted f6 px-3 py-1 my-2"
              data-scope-types="[&quot;&quot;,&quot;owner&quot;,&quot;repository&quot;]"
            data-mode="#"
            data-value="">
            <div class="d-flex flex-items-start flex-justify-between">
              <div>
                <span class="text-bold">Tip:</span>
                  Type is:pr to filter to pull requests
              </div>
              <div class="ml-2 flex-shrink-0">
                Type <kbd class="hx_kbd">?</kbd> for help and tips
              </div>
            </div>
          </command-palette-tip>
          <command-palette-tip
            class="color-fg-muted f6 px-3 py-1 my-2"
              data-scope-types="[&quot;&quot;,&quot;owner&quot;,&quot;repository&quot;]"
            data-mode="#"
            data-value="">
            <div class="d-flex flex-items-start flex-justify-between">
              <div>
                <span class="text-bold">Tip:</span>
                  Type is:issue to filter to issues
              </div>
              <div class="ml-2 flex-shrink-0">
                Type <kbd class="hx_kbd">?</kbd> for help and tips
              </div>
            </div>
          </command-palette-tip>
          <command-palette-tip
            class="color-fg-muted f6 px-3 py-1 my-2"
              data-scope-types="[&quot;owner&quot;,&quot;repository&quot;]"
            data-mode="#"
            data-value="">
            <div class="d-flex flex-items-start flex-justify-between">
              <div>
                <span class="text-bold">Tip:</span>
                  Type is:project to filter to projects
              </div>
              <div class="ml-2 flex-shrink-0">
                Type <kbd class="hx_kbd">?</kbd> for help and tips
              </div>
            </div>
          </command-palette-tip>
          <command-palette-tip
            class="color-fg-muted f6 px-3 py-1 my-2"
              data-scope-types="[&quot;&quot;,&quot;owner&quot;,&quot;repository&quot;]"
            data-mode="#"
            data-value="">
            <div class="d-flex flex-items-start flex-justify-between">
              <div>
                <span class="text-bold">Tip:</span>
                  Type is:open to filter to open content
              </div>
              <div class="ml-2 flex-shrink-0">
                Type <kbd class="hx_kbd">?</kbd> for help and tips
              </div>
            </div>
          </command-palette-tip>
        <command-palette-tip class="mx-3 my-2 flash flash-error d-flex flex-items-center" data-scope-types="*" data-on-error>
          <div>
            <svg aria-hidden="true" height="16" viewBox="0 0 16 16" version="1.1" width="16" data-view-component="true" class="octicon octicon-alert">
    <path d="M6.457 1.047c.659-1.234 2.427-1.234 3.086 0l6.082 11.378A1.75 1.75 0 0 1 14.082 15H1.918a1.75 1.75 0 0 1-1.543-2.575Zm1.763.707a.25.25 0 0 0-.44 0L1.698 13.132a.25.25 0 0 0 .22.368h12.164a.25.25 0 0 0 .22-.368Zm.53 3.996v2.5a.75.75 0 0 1-1.5 0v-2.5a.75.75 0 0 1 1.5 0ZM9 11a1 1 0 1 1-2 0 1 1 0 0 1 2 0Z"></path>
</svg>
          </div>
          <div class="px-2">
            We’ve encountered an error and some results aren't available at this time. Type a new search or try again later.
          </div>
        </command-palette-tip>
        <command-palette-tip class="h4 color-fg-default pl-3 pb-2 pt-3" data-on-empty data-scope-types="*" data-match-mode="[^?]|^$">
          No results matched your search
        </command-palette-tip>

        <div hidden>

            <div data-targets="command-palette-page-stack.localOcticons" data-octicon-id="arrow-right-color-fg-muted">
              <svg height="16" class="octicon octicon-arrow-right color-fg-muted" viewBox="0 0 16 16" version="1.1" width="16" aria-hidden="true"><path d="M8.22 2.97a.75.75 0 0 1 1.06 0l4.25 4.25a.75.75 0 0 1 0 1.06l-4.25 4.25a.751.751 0 0 1-1.042-.018.751.751 0 0 1-.018-1.042l2.97-2.97H3.75a.75.75 0 0 1 0-1.5h7.44L8.22 4.03a.75.75 0 0 1 0-1.06Z"></path></svg>
            </div>
            <div data-targets="command-palette-page-stack.localOcticons" data-octicon-id="arrow-right-color-fg-default">
              <svg height="16" class="octicon octicon-arrow-right color-fg-default" viewBox="0 0 16 16" version="1.1" width="16" aria-hidden="true"><path d="M8.22 2.97a.75.75 0 0 1 1.06 0l4.25 4.25a.75.75 0 0 1 0 1.06l-4.25 4.25a.751.751 0 0 1-1.042-.018.751.751 0 0 1-.018-1.042l2.97-2.97H3.75a.75.75 0 0 1 0-1.5h7.44L8.22 4.03a.75.75 0 0 1 0-1.06Z"></path></svg>
            </div>
            <div data-targets="command-palette-page-stack.localOcticons" data-octicon-id="codespaces-color-fg-muted">
              <svg height="16" class="octicon octicon-codespaces color-fg-muted" viewBox="0 0 16 16" version="1.1" width="16" aria-hidden="true"><path d="M0 11.25c0-.966.784-1.75 1.75-1.75h12.5c.966 0 1.75.784 1.75 1.75v3A1.75 1.75 0 0 1 14.25 16H1.75A1.75 1.75 0 0 1 0 14.25Zm2-9.5C2 .784 2.784 0 3.75 0h8.5C13.216 0 14 .784 14 1.75v5a1.75 1.75 0 0 1-1.75 1.75h-8.5A1.75 1.75 0 0 1 2 6.75Zm1.75-.25a.25.25 0 0 0-.25.25v5c0 .138.112.25.25.25h8.5a.25.25 0 0 0 .25-.25v-5a.25.25 0 0 0-.25-.25Zm-2 9.5a.25.25 0 0 0-.25.25v3c0 .138.112.25.25.25h12.5a.25.25 0 0 0 .25-.25v-3a.25.25 0 0 0-.25-.25Z"></path><path d="M7 12.75a.75.75 0 0 1 .75-.75h4.5a.75.75 0 0 1 0 1.5h-4.5a.75.75 0 0 1-.75-.75Zm-4 0a.75.75 0 0 1 .75-.75h.5a.75.75 0 0 1 0 1.5h-.5a.75.75 0 0 1-.75-.75Z"></path></svg>
            </div>
            <div data-targets="command-palette-page-stack.localOcticons" data-octicon-id="copy-color-fg-muted">
              <svg height="16" class="octicon octicon-copy color-fg-muted" viewBox="0 0 16 16" version="1.1" width="16" aria-hidden="true"><path d="M0 6.75C0 5.784.784 5 1.75 5h1.5a.75.75 0 0 1 0 1.5h-1.5a.25.25 0 0 0-.25.25v7.5c0 .138.112.25.25.25h7.5a.25.25 0 0 0 .25-.25v-1.5a.75.75 0 0 1 1.5 0v1.5A1.75 1.75 0 0 1 9.25 16h-7.5A1.75 1.75 0 0 1 0 14.25Z"></path><path d="M5 1.75C5 .784 5.784 0 6.75 0h7.5C15.216 0 16 .784 16 1.75v7.5A1.75 1.75 0 0 1 14.25 11h-7.5A1.75 1.75 0 0 1 5 9.25Zm1.75-.25a.25.25 0 0 0-.25.25v7.5c0 .138.112.25.25.25h7.5a.25.25 0 0 0 .25-.25v-7.5a.25.25 0 0 0-.25-.25Z"></path></svg>
            </div>
            <div data-targets="command-palette-page-stack.localOcticons" data-octicon-id="dash-color-fg-muted">
              <svg height="16" class="octicon octicon-dash color-fg-muted" viewBox="0 0 16 16" version="1.1" width="16" aria-hidden="true"><path d="M2 7.75A.75.75 0 0 1 2.75 7h10a.75.75 0 0 1 0 1.5h-10A.75.75 0 0 1 2 7.75Z"></path></svg>
            </div>
            <div data-targets="command-palette-page-stack.localOcticons" data-octicon-id="file-color-fg-muted">
              <svg height="16" class="octicon octicon-file color-fg-muted" viewBox="0 0 16 16" version="1.1" width="16" aria-hidden="true"><path d="M2 1.75C2 .784 2.784 0 3.75 0h6.586c.464 0 .909.184 1.237.513l2.914 2.914c.329.328.513.773.513 1.237v9.586A1.75 1.75 0 0 1 13.25 16h-9.5A1.75 1.75 0 0 1 2 14.25Zm1.75-.25a.25.25 0 0 0-.25.25v12.5c0 .138.112.25.25.25h9.5a.25.25 0 0 0 .25-.25V6h-2.75A1.75 1.75 0 0 1 9 4.25V1.5Zm6.75.062V4.25c0 .138.112.25.25.25h2.688l-.011-.013-2.914-2.914-.013-.011Z"></path></svg>
            </div>
            <div data-targets="command-palette-page-stack.localOcticons" data-octicon-id="gear-color-fg-muted">
              <svg height="16" class="octicon octicon-gear color-fg-muted" viewBox="0 0 16 16" version="1.1" width="16" aria-hidden="true"><path d="M8 0a8.2 8.2 0 0 1 .701.031C9.444.095 9.99.645 10.16 1.29l.288 1.107c.018.066.079.158.212.224.231.114.454.243.668.386.123.082.233.09.299.071l1.103-.303c.644-.176 1.392.021 1.82.63.27.385.506.792.704 1.218.315.675.111 1.422-.364 1.891l-.814.806c-.049.048-.098.147-.088.294.016.257.016.515 0 .772-.01.147.038.246.088.294l.814.806c.475.469.679 1.216.364 1.891a7.977 7.977 0 0 1-.704 1.217c-.428.61-1.176.807-1.82.63l-1.102-.302c-.067-.019-.177-.011-.3.071a5.909 5.909 0 0 1-.668.386c-.133.066-.194.158-.211.224l-.29 1.106c-.168.646-.715 1.196-1.458 1.26a8.006 8.006 0 0 1-1.402 0c-.743-.064-1.289-.614-1.458-1.26l-.289-1.106c-.018-.066-.079-.158-.212-.224a5.738 5.738 0 0 1-.668-.386c-.123-.082-.233-.09-.299-.071l-1.103.303c-.644.176-1.392-.021-1.82-.63a8.12 8.12 0 0 1-.704-1.218c-.315-.675-.111-1.422.363-1.891l.815-.806c.05-.048.098-.147.088-.294a6.214 6.214 0 0 1 0-.772c.01-.147-.038-.246-.088-.294l-.815-.806C.635 6.045.431 5.298.746 4.623a7.92 7.92 0 0 1 .704-1.217c.428-.61 1.176-.807 1.82-.63l1.102.302c.067.019.177.011.3-.071.214-.143.437-.272.668-.386.133-.066.194-.158.211-.224l.29-1.106C6.009.645 6.556.095 7.299.03 7.53.01 7.764 0 8 0Zm-.571 1.525c-.036.003-.108.036-.137.146l-.289 1.105c-.147.561-.549.967-.998 1.189-.173.086-.34.183-.5.29-.417.278-.97.423-1.529.27l-1.103-.303c-.109-.03-.175.016-.195.045-.22.312-.412.644-.573.99-.014.031-.021.11.059.19l.815.806c.411.406.562.957.53 1.456a4.709 4.709 0 0 0 0 .582c.032.499-.119 1.05-.53 1.456l-.815.806c-.081.08-.073.159-.059.19.162.346.353.677.573.989.02.03.085.076.195.046l1.102-.303c.56-.153 1.113-.008 1.53.27.161.107.328.204.501.29.447.222.85.629.997 1.189l.289 1.105c.029.109.101.143.137.146a6.6 6.6 0 0 0 1.142 0c.036-.003.108-.036.137-.146l.289-1.105c.147-.561.549-.967.998-1.189.173-.086.34-.183.5-.29.417-.278.97-.423 1.529-.27l1.103.303c.109.029.175-.016.195-.045.22-.313.411-.644.573-.99.014-.031.021-.11-.059-.19l-.815-.806c-.411-.406-.562-.957-.53-1.456a4.709 4.709 0 0 0 0-.582c-.032-.499.119-1.05.53-1.456l.815-.806c.081-.08.073-.159.059-.19a6.464 6.464 0 0 0-.573-.989c-.02-.03-.085-.076-.195-.046l-1.102.303c-.56.153-1.113.008-1.53-.27a4.44 4.44 0 0 0-.501-.29c-.447-.222-.85-.629-.997-1.189l-.289-1.105c-.029-.11-.101-.143-.137-.146a6.6 6.6 0 0 0-1.142 0ZM11 8a3 3 0 1 1-6 0 3 3 0 0 1 6 0ZM9.5 8a1.5 1.5 0 1 0-3.001.001A1.5 1.5 0 0 0 9.5 8Z"></path></svg>
            </div>
            <div data-targets="command-palette-page-stack.localOcticons" data-octicon-id="lock-color-fg-muted">
              <svg height="16" class="octicon octicon-lock color-fg-muted" viewBox="0 0 16 16" version="1.1" width="16" aria-hidden="true"><path d="M4 4a4 4 0 0 1 8 0v2h.25c.966 0 1.75.784 1.75 1.75v5.5A1.75 1.75 0 0 1 12.25 15h-8.5A1.75 1.75 0 0 1 2 13.25v-5.5C2 6.784 2.784 6 3.75 6H4Zm8.25 3.5h-8.5a.25.25 0 0 0-.25.25v5.5c0 .138.112.25.25.25h8.5a.25.25 0 0 0 .25-.25v-5.5a.25.25 0 0 0-.25-.25ZM10.5 6V4a2.5 2.5 0 1 0-5 0v2Z"></path></svg>
            </div>
            <div data-targets="command-palette-page-stack.localOcticons" data-octicon-id="moon-color-fg-muted">
              <svg height="16" class="octicon octicon-moon color-fg-muted" viewBox="0 0 16 16" version="1.1" width="16" aria-hidden="true"><path d="M9.598 1.591a.749.749 0 0 1 .785-.175 7.001 7.001 0 1 1-8.967 8.967.75.75 0 0 1 .961-.96 5.5 5.5 0 0 0 7.046-7.046.75.75 0 0 1 .175-.786Zm1.616 1.945a7 7 0 0 1-7.678 7.678 5.499 5.499 0 1 0 7.678-7.678Z"></path></svg>
            </div>
            <div data-targets="command-palette-page-stack.localOcticons" data-octicon-id="person-color-fg-muted">
              <svg height="16" class="octicon octicon-person color-fg-muted" viewBox="0 0 16 16" version="1.1" width="16" aria-hidden="true"><path d="M10.561 8.073a6.005 6.005 0 0 1 3.432 5.142.75.75 0 1 1-1.498.07 4.5 4.5 0 0 0-8.99 0 .75.75 0 0 1-1.498-.07 6.004 6.004 0 0 1 3.431-5.142 3.999 3.999 0 1 1 5.123 0ZM10.5 5a2.5 2.5 0 1 0-5 0 2.5 2.5 0 0 0 5 0Z"></path></svg>
            </div>
            <div data-targets="command-palette-page-stack.localOcticons" data-octicon-id="pencil-color-fg-muted">
              <svg height="16" class="octicon octicon-pencil color-fg-muted" viewBox="0 0 16 16" version="1.1" width="16" aria-hidden="true"><path d="M11.013 1.427a1.75 1.75 0 0 1 2.474 0l1.086 1.086a1.75 1.75 0 0 1 0 2.474l-8.61 8.61c-.21.21-.47.364-.756.445l-3.251.93a.75.75 0 0 1-.927-.928l.929-3.25c.081-.286.235-.547.445-.758l8.61-8.61Zm.176 4.823L9.75 4.81l-6.286 6.287a.253.253 0 0 0-.064.108l-.558 1.953 1.953-.558a.253.253 0 0 0 .108-.064Zm1.238-3.763a.25.25 0 0 0-.354 0L10.811 3.75l1.439 1.44 1.263-1.263a.25.25 0 0 0 0-.354Z"></path></svg>
            </div>
            <div data-targets="command-palette-page-stack.localOcticons" data-octicon-id="issue-opened-open">
              <svg height="16" class="octicon octicon-issue-opened open" viewBox="0 0 16 16" version="1.1" width="16" aria-hidden="true"><path d="M8 9.5a1.5 1.5 0 1 0 0-3 1.5 1.5 0 0 0 0 3Z"></path><path d="M8 0a8 8 0 1 1 0 16A8 8 0 0 1 8 0ZM1.5 8a6.5 6.5 0 1 0 13 0 6.5 6.5 0 0 0-13 0Z"></path></svg>
            </div>
            <div data-targets="command-palette-page-stack.localOcticons" data-octicon-id="git-pull-request-draft-color-fg-muted">
              <svg height="16" class="octicon octicon-git-pull-request-draft color-fg-muted" viewBox="0 0 16 16" version="1.1" width="16" aria-hidden="true"><path d="M3.25 1A2.25 2.25 0 0 1 4 5.372v5.256a2.251 2.251 0 1 1-1.5 0V5.372A2.251 2.251 0 0 1 3.25 1Zm9.5 14a2.25 2.25 0 1 1 0-4.5 2.25 2.25 0 0 1 0 4.5ZM2.5 3.25a.75.75 0 1 0 1.5 0 .75.75 0 0 0-1.5 0ZM3.25 12a.75.75 0 1 0 0 1.5.75.75 0 0 0 0-1.5Zm9.5 0a.75.75 0 1 0 0 1.5.75.75 0 0 0 0-1.5ZM14 7.5a1.25 1.25 0 1 1-2.5 0 1.25 1.25 0 0 1 2.5 0Zm0-4.25a1.25 1.25 0 1 1-2.5 0 1.25 1.25 0 0 1 2.5 0Z"></path></svg>
            </div>
            <div data-targets="command-palette-page-stack.localOcticons" data-octicon-id="search-color-fg-muted">
              <svg height="16" class="octicon octicon-search color-fg-muted" viewBox="0 0 16 16" version="1.1" width="16" aria-hidden="true"><path d="M10.68 11.74a6 6 0 0 1-7.922-8.982 6 6 0 0 1 8.982 7.922l3.04 3.04a.749.749 0 0 1-.326 1.275.749.749 0 0 1-.734-.215ZM11.5 7a4.499 4.499 0 1 0-8.997 0A4.499 4.499 0 0 0 11.5 7Z"></path></svg>
            </div>
            <div data-targets="command-palette-page-stack.localOcticons" data-octicon-id="sun-color-fg-muted">
              <svg height="16" class="octicon octicon-sun color-fg-muted" viewBox="0 0 16 16" version="1.1" width="16" aria-hidden="true"><path d="M8 12a4 4 0 1 1 0-8 4 4 0 0 1 0 8Zm0-1.5a2.5 2.5 0 1 0 0-5 2.5 2.5 0 0 0 0 5Zm5.657-8.157a.75.75 0 0 1 0 1.061l-1.061 1.06a.749.749 0 0 1-1.275-.326.749.749 0 0 1 .215-.734l1.06-1.06a.75.75 0 0 1 1.06 0Zm-9.193 9.193a.75.75 0 0 1 0 1.06l-1.06 1.061a.75.75 0 1 1-1.061-1.06l1.06-1.061a.75.75 0 0 1 1.061 0ZM8 0a.75.75 0 0 1 .75.75v1.5a.75.75 0 0 1-1.5 0V.75A.75.75 0 0 1 8 0ZM3 8a.75.75 0 0 1-.75.75H.75a.75.75 0 0 1 0-1.5h1.5A.75.75 0 0 1 3 8Zm13 0a.75.75 0 0 1-.75.75h-1.5a.75.75 0 0 1 0-1.5h1.5A.75.75 0 0 1 16 8Zm-8 5a.75.75 0 0 1 .75.75v1.5a.75.75 0 0 1-1.5 0v-1.5A.75.75 0 0 1 8 13Zm3.536-1.464a.75.75 0 0 1 1.06 0l1.061 1.06a.75.75 0 0 1-1.06 1.061l-1.061-1.06a.75.75 0 0 1 0-1.061ZM2.343 2.343a.75.75 0 0 1 1.061 0l1.06 1.061a.751.751 0 0 1-.018 1.042.751.751 0 0 1-1.042.018l-1.06-1.06a.75.75 0 0 1 0-1.06Z"></path></svg>
            </div>
            <div data-targets="command-palette-page-stack.localOcticons" data-octicon-id="sync-color-fg-muted">
              <svg height="16" class="octicon octicon-sync color-fg-muted" viewBox="0 0 16 16" version="1.1" width="16" aria-hidden="true"><path d="M1.705 8.005a.75.75 0 0 1 .834.656 5.5 5.5 0 0 0 9.592 2.97l-1.204-1.204a.25.25 0 0 1 .177-.427h3.646a.25.25 0 0 1 .25.25v3.646a.25.25 0 0 1-.427.177l-1.38-1.38A7.002 7.002 0 0 1 1.05 8.84a.75.75 0 0 1 .656-.834ZM8 2.5a5.487 5.487 0 0 0-4.131 1.869l1.204 1.204A.25.25 0 0 1 4.896 6H1.25A.25.25 0 0 1 1 5.75V2.104a.25.25 0 0 1 .427-.177l1.38 1.38A7.002 7.002 0 0 1 14.95 7.16a.75.75 0 0 1-1.49.178A5.5 5.5 0 0 0 8 2.5Z"></path></svg>
            </div>
            <div data-targets="command-palette-page-stack.localOcticons" data-octicon-id="trash-color-fg-muted">
              <svg height="16" class="octicon octicon-trash color-fg-muted" viewBox="0 0 16 16" version="1.1" width="16" aria-hidden="true"><path d="M11 1.75V3h2.25a.75.75 0 0 1 0 1.5H2.75a.75.75 0 0 1 0-1.5H5V1.75C5 .784 5.784 0 6.75 0h2.5C10.216 0 11 .784 11 1.75ZM4.496 6.675l.66 6.6a.25.25 0 0 0 .249.225h5.19a.25.25 0 0 0 .249-.225l.66-6.6a.75.75 0 0 1 1.492.149l-.66 6.6A1.748 1.748 0 0 1 10.595 15h-5.19a1.75 1.75 0 0 1-1.741-1.575l-.66-6.6a.75.75 0 1 1 1.492-.15ZM6.5 1.75V3h3V1.75a.25.25 0 0 0-.25-.25h-2.5a.25.25 0 0 0-.25.25Z"></path></svg>
            </div>
            <div data-targets="command-palette-page-stack.localOcticons" data-octicon-id="key-color-fg-muted">
              <svg height="16" class="octicon octicon-key color-fg-muted" viewBox="0 0 16 16" version="1.1" width="16" aria-hidden="true"><path d="M10.5 0a5.499 5.499 0 1 1-1.288 10.848l-.932.932a.749.749 0 0 1-.53.22H7v.75a.749.749 0 0 1-.22.53l-.5.5a.749.749 0 0 1-.53.22H5v.75a.749.749 0 0 1-.22.53l-.5.5a.749.749 0 0 1-.53.22h-2A1.75 1.75 0 0 1 0 14.25v-2c0-.199.079-.389.22-.53l4.932-4.932A5.5 5.5 0 0 1 10.5 0Zm-4 5.5c-.001.431.069.86.205 1.269a.75.75 0 0 1-.181.768L1.5 12.56v1.69c0 .138.112.25.25.25h1.69l.06-.06v-1.19a.75.75 0 0 1 .75-.75h1.19l.06-.06v-1.19a.75.75 0 0 1 .75-.75h1.19l1.023-1.025a.75.75 0 0 1 .768-.18A4 4 0 1 0 6.5 5.5ZM11 6a1 1 0 1 1 0-2 1 1 0 0 1 0 2Z"></path></svg>
            </div>
            <div data-targets="command-palette-page-stack.localOcticons" data-octicon-id="comment-discussion-color-fg-muted">
              <svg height="16" class="octicon octicon-comment-discussion color-fg-muted" viewBox="0 0 16 16" version="1.1" width="16" aria-hidden="true"><path d="M1.75 1h8.5c.966 0 1.75.784 1.75 1.75v5.5A1.75 1.75 0 0 1 10.25 10H7.061l-2.574 2.573A1.458 1.458 0 0 1 2 11.543V10h-.25A1.75 1.75 0 0 1 0 8.25v-5.5C0 1.784.784 1 1.75 1ZM1.5 2.75v5.5c0 .138.112.25.25.25h1a.75.75 0 0 1 .75.75v2.19l2.72-2.72a.749.749 0 0 1 .53-.22h3.5a.25.25 0 0 0 .25-.25v-5.5a.25.25 0 0 0-.25-.25h-8.5a.25.25 0 0 0-.25.25Zm13 2a.25.25 0 0 0-.25-.25h-.5a.75.75 0 0 1 0-1.5h.5c.966 0 1.75.784 1.75 1.75v5.5A1.75 1.75 0 0 1 14.25 12H14v1.543a1.458 1.458 0 0 1-2.487 1.03L9.22 12.28a.749.749 0 0 1 .326-1.275.749.749 0 0 1 .734.215l2.22 2.22v-2.19a.75.75 0 0 1 .75-.75h1a.25.25 0 0 0 .25-.25Z"></path></svg>
            </div>
            <div data-targets="command-palette-page-stack.localOcticons" data-octicon-id="bell-color-fg-muted">
              <svg height="16" class="octicon octicon-bell color-fg-muted" viewBox="0 0 16 16" version="1.1" width="16" aria-hidden="true"><path d="M8 16a2 2 0 0 0 1.985-1.75c.017-.137-.097-.25-.235-.25h-3.5c-.138 0-.252.113-.235.25A2 2 0 0 0 8 16ZM3 5a5 5 0 0 1 10 0v2.947c0 .05.015.098.042.139l1.703 2.555A1.519 1.519 0 0 1 13.482 13H2.518a1.516 1.516 0 0 1-1.263-2.36l1.703-2.554A.255.255 0 0 0 3 7.947Zm5-3.5A3.5 3.5 0 0 0 4.5 5v2.947c0 .346-.102.683-.294.97l-1.703 2.556a.017.017 0 0 0-.003.01l.001.006c0 .002.002.004.004.006l.006.004.007.001h10.964l.007-.001.006-.004.004-.006.001-.007a.017.017 0 0 0-.003-.01l-1.703-2.554a1.745 1.745 0 0 1-.294-.97V5A3.5 3.5 0 0 0 8 1.5Z"></path></svg>
            </div>
            <div data-targets="command-palette-page-stack.localOcticons" data-octicon-id="bell-slash-color-fg-muted">
              <svg height="16" class="octicon octicon-bell-slash color-fg-muted" viewBox="0 0 16 16" version="1.1" width="16" aria-hidden="true"><path d="m4.182 4.31.016.011 10.104 7.316.013.01 1.375.996a.75.75 0 1 1-.88 1.214L13.626 13H2.518a1.516 1.516 0 0 1-1.263-2.36l1.703-2.554A.255.255 0 0 0 3 7.947V5.305L.31 3.357a.75.75 0 1 1 .88-1.214Zm7.373 7.19L4.5 6.391v1.556c0 .346-.102.683-.294.97l-1.703 2.556a.017.017 0 0 0-.003.01c0 .005.002.009.005.012l.006.004.007.001ZM8 1.5c-.997 0-1.895.416-2.534 1.086A.75.75 0 1 1 4.38 1.55 5 5 0 0 1 13 5v2.373a.75.75 0 0 1-1.5 0V5A3.5 3.5 0 0 0 8 1.5ZM8 16a2 2 0 0 1-1.985-1.75c-.017-.137.097-.25.235-.25h3.5c.138 0 .252.113.235.25A2 2 0 0 1 8 16Z"></path></svg>
            </div>
            <div data-targets="command-palette-page-stack.localOcticons" data-octicon-id="paintbrush-color-fg-muted">
              <svg height="16" class="octicon octicon-paintbrush color-fg-muted" viewBox="0 0 16 16" version="1.1" width="16" aria-hidden="true"><path d="M11.134 1.535c.7-.509 1.416-.942 2.076-1.155.649-.21 1.463-.267 2.069.34.603.601.568 1.411.368 2.07-.202.668-.624 1.39-1.125 2.096-1.011 1.424-2.496 2.987-3.775 4.249-1.098 1.084-2.132 1.839-3.04 2.3a3.744 3.744 0 0 1-1.055 3.217c-.431.431-1.065.691-1.657.861-.614.177-1.294.287-1.914.357A21.151 21.151 0 0 1 .797 16H.743l.007-.75H.749L.742 16a.75.75 0 0 1-.743-.742l.743-.008-.742.007v-.054a21.25 21.25 0 0 1 .13-2.284c.067-.647.187-1.287.358-1.914.17-.591.43-1.226.86-1.657a3.746 3.746 0 0 1 3.227-1.054c.466-.893 1.225-1.907 2.314-2.982 1.271-1.255 2.833-2.75 4.245-3.777ZM1.62 13.089c-.051.464-.086.929-.104 1.395.466-.018.932-.053 1.396-.104a10.511 10.511 0 0 0 1.668-.309c.526-.151.856-.325 1.011-.48a2.25 2.25 0 1 0-3.182-3.182c-.155.155-.329.485-.48 1.01a10.515 10.515 0 0 0-.309 1.67Zm10.396-10.34c-1.224.89-2.605 2.189-3.822 3.384l1.718 1.718c1.21-1.205 2.51-2.597 3.387-3.833.47-.662.78-1.227.912-1.662.134-.444.032-.551.009-.575h-.001V1.78c-.014-.014-.113-.113-.548.027-.432.14-.995.462-1.655.942Zm-4.832 7.266-.001.001a9.859 9.859 0 0 0 1.63-1.142L7.155 7.216a9.7 9.7 0 0 0-1.161 1.607c.482.302.889.71 1.19 1.192Z"></path></svg>
            </div>

            <command-palette-item-group
              data-group-id="top"
              data-group-title="Top result"
              data-group-hint=""
              data-group-limits="{}"
              data-default-priority="0"
            >
            </command-palette-item-group>
            <command-palette-item-group
              data-group-id="commands"
              data-group-title="Commands"
              data-group-hint="Type &gt; to filter"
              data-group-limits="{&quot;static_items_page&quot;:50,&quot;issue&quot;:50,&quot;pull_request&quot;:50,&quot;discussion&quot;:50}"
              data-default-priority="1"
            >
            </command-palette-item-group>
            <command-palette-item-group
              data-group-id="global_commands"
              data-group-title="Global Commands"
              data-group-hint="Type &gt; to filter"
              data-group-limits="{&quot;issue&quot;:0,&quot;pull_request&quot;:0,&quot;discussion&quot;:0}"
              data-default-priority="2"
            >
            </command-palette-item-group>
            <command-palette-item-group
              data-group-id="this_page"
              data-group-title="This Page"
              data-group-hint=""
              data-group-limits="{}"
              data-default-priority="3"
            >
            </command-palette-item-group>
            <command-palette-item-group
              data-group-id="files"
              data-group-title="Files"
              data-group-hint=""
              data-group-limits="{}"
              data-default-priority="4"
            >
            </command-palette-item-group>
            <command-palette-item-group
              data-group-id="default"
              data-group-title="Default"
              data-group-hint=""
              data-group-limits="{&quot;static_items_page&quot;:50}"
              data-default-priority="5"
            >
            </command-palette-item-group>
            <command-palette-item-group
              data-group-id="pages"
              data-group-title="Pages"
              data-group-hint=""
              data-group-limits="{&quot;repository&quot;:10}"
              data-default-priority="6"
            >
            </command-palette-item-group>
            <command-palette-item-group
              data-group-id="access_policies"
              data-group-title="Access Policies"
              data-group-hint=""
              data-group-limits="{}"
              data-default-priority="7"
            >
            </command-palette-item-group>
            <command-palette-item-group
              data-group-id="organizations"
              data-group-title="Organizations"
              data-group-hint=""
              data-group-limits="{}"
              data-default-priority="8"
            >
            </command-palette-item-group>
            <command-palette-item-group
              data-group-id="repositories"
              data-group-title="Repositories"
              data-group-hint=""
              data-group-limits="{}"
              data-default-priority="9"
            >
            </command-palette-item-group>
            <command-palette-item-group
              data-group-id="references"
              data-group-title="Issues, pull requests, and discussions"
              data-group-hint="Type # to filter"
              data-group-limits="{}"
              data-default-priority="10"
            >
            </command-palette-item-group>
            <command-palette-item-group
              data-group-id="teams"
              data-group-title="Teams"
              data-group-hint=""
              data-group-limits="{}"
              data-default-priority="11"
            >
            </command-palette-item-group>
            <command-palette-item-group
              data-group-id="users"
              data-group-title="Users"
              data-group-hint=""
              data-group-limits="{}"
              data-default-priority="12"
            >
            </command-palette-item-group>
            <command-palette-item-group
              data-group-id="memex_projects"
              data-group-title="Projects"
              data-group-hint=""
              data-group-limits="{}"
              data-default-priority="13"
            >
            </command-palette-item-group>
            <command-palette-item-group
              data-group-id="projects"
              data-group-title="Projects (classic)"
              data-group-hint=""
              data-group-limits="{}"
              data-default-priority="14"
            >
            </command-palette-item-group>
            <command-palette-item-group
              data-group-id="footer"
              data-group-title="Footer"
              data-group-hint=""
              data-group-limits="{}"
              data-default-priority="15"
            >
            </command-palette-item-group>
            <command-palette-item-group
              data-group-id="modes_help"
              data-group-title="Modes"
              data-group-hint=""
              data-group-limits="{}"
              data-default-priority="16"
            >
            </command-palette-item-group>
            <command-palette-item-group
              data-group-id="filters_help"
              data-group-title="Use filters in issues, pull requests, discussions, and projects"
              data-group-hint=""
              data-group-limits="{}"
              data-default-priority="17"
            >
            </command-palette-item-group>

            <command-palette-page
              data-page-title="AlexLaudiano"
              data-scope-id="U_kgDOCW4WvA"
              data-scope-type="owner"
              data-targets="command-palette-page-stack.defaultPages"
              hidden
            >
            </command-palette-page>
            <command-palette-page
              data-page-title="imersao_python"
              data-scope-id="R_kgDOLmBiIg"
              data-scope-type="repository"
              data-targets="command-palette-page-stack.defaultPages"
              hidden
            >
            </command-palette-page>
        </div>

        <command-palette-page data-is-root>
        </command-palette-page>
          <command-palette-page
            data-page-title="AlexLaudiano"
            data-scope-id="U_kgDOCW4WvA"
            data-scope-type="owner"
          >
          </command-palette-page>
          <command-palette-page
            data-page-title="imersao_python"
            data-scope-id="R_kgDOLmBiIg"
            data-scope-type="repository"
          >
          </command-palette-page>
      </command-palette-page-stack>

      <server-defined-provider data-type="search-links" data-targets="command-palette.serverDefinedProviderElements"></server-defined-provider>
      <server-defined-provider data-type="help" data-targets="command-palette.serverDefinedProviderElements">
          <command-palette-help
            data-group="modes_help"
              data-prefix="#"
              data-scope-types="[&quot;&quot;]"
          >
            <span data-target="command-palette-help.titleElement">Search for <strong>issues</strong> and <strong>pull requests</strong></span>
              <span data-target="command-palette-help.hintElement">
                <kbd class="hx_kbd">#</kbd>
              </span>
          </command-palette-help>
          <command-palette-help
            data-group="modes_help"
              data-prefix="#"
              data-scope-types="[&quot;owner&quot;,&quot;repository&quot;]"
          >
            <span data-target="command-palette-help.titleElement">Search for <strong>issues, pull requests, discussions,</strong> and <strong>projects</strong></span>
              <span data-target="command-palette-help.hintElement">
                <kbd class="hx_kbd">#</kbd>
              </span>
          </command-palette-help>
          <command-palette-help
            data-group="modes_help"
              data-prefix="@"
              data-scope-types="[&quot;&quot;]"
          >
            <span data-target="command-palette-help.titleElement">Search for <strong>organizations, repositories,</strong> and <strong>users</strong></span>
              <span data-target="command-palette-help.hintElement">
                <kbd class="hx_kbd">@</kbd>
              </span>
          </command-palette-help>
          <command-palette-help
            data-group="modes_help"
              data-prefix="!"
              data-scope-types="[&quot;owner&quot;,&quot;repository&quot;]"
          >
            <span data-target="command-palette-help.titleElement">Search for <strong>projects</strong></span>
              <span data-target="command-palette-help.hintElement">
                <kbd class="hx_kbd">!</kbd>
              </span>
          </command-palette-help>
          <command-palette-help
            data-group="modes_help"
              data-prefix="/"
              data-scope-types="[&quot;repository&quot;]"
          >
            <span data-target="command-palette-help.titleElement">Search for <strong>files</strong></span>
              <span data-target="command-palette-help.hintElement">
                <kbd class="hx_kbd">/</kbd>
              </span>
          </command-palette-help>
          <command-palette-help
            data-group="modes_help"
              data-prefix="&gt;"
          >
            <span data-target="command-palette-help.titleElement">Activate <strong>command mode</strong></span>
              <span data-target="command-palette-help.hintElement">
                <kbd class="hx_kbd">&gt;</kbd>
              </span>
          </command-palette-help>
          <command-palette-help
            data-group="filters_help"
              data-prefix="# author:@me"
          >
            <span data-target="command-palette-help.titleElement">Search your issues, pull requests, and discussions</span>
              <span data-target="command-palette-help.hintElement">
                <kbd class="hx_kbd"># author:@me</kbd>
              </span>
          </command-palette-help>
          <command-palette-help
            data-group="filters_help"
              data-prefix="# author:@me"
          >
            <span data-target="command-palette-help.titleElement">Search your issues, pull requests, and discussions</span>
              <span data-target="command-palette-help.hintElement">
                <kbd class="hx_kbd"># author:@me</kbd>
              </span>
          </command-palette-help>
          <command-palette-help
            data-group="filters_help"
              data-prefix="# is:pr"
          >
            <span data-target="command-palette-help.titleElement">Filter to pull requests</span>
              <span data-target="command-palette-help.hintElement">
                <kbd class="hx_kbd"># is:pr</kbd>
              </span>
          </command-palette-help>
          <command-palette-help
            data-group="filters_help"
              data-prefix="# is:issue"
          >
            <span data-target="command-palette-help.titleElement">Filter to issues</span>
              <span data-target="command-palette-help.hintElement">
                <kbd class="hx_kbd"># is:issue</kbd>
              </span>
          </command-palette-help>
          <command-palette-help
            data-group="filters_help"
              data-prefix="# is:discussion"
              data-scope-types="[&quot;owner&quot;,&quot;repository&quot;]"
          >
            <span data-target="command-palette-help.titleElement">Filter to discussions</span>
              <span data-target="command-palette-help.hintElement">
                <kbd class="hx_kbd"># is:discussion</kbd>
              </span>
          </command-palette-help>
          <command-palette-help
            data-group="filters_help"
              data-prefix="# is:project"
              data-scope-types="[&quot;owner&quot;,&quot;repository&quot;]"
          >
            <span data-target="command-palette-help.titleElement">Filter to projects</span>
              <span data-target="command-palette-help.hintElement">
                <kbd class="hx_kbd"># is:project</kbd>
              </span>
          </command-palette-help>
          <command-palette-help
            data-group="filters_help"
              data-prefix="# is:open"
          >
            <span data-target="command-palette-help.titleElement">Filter to open issues, pull requests, and discussions</span>
              <span data-target="command-palette-help.hintElement">
                <kbd class="hx_kbd"># is:open</kbd>
              </span>
          </command-palette-help>
      </server-defined-provider>

        <server-defined-provider
          data-type="commands"
          data-fetch-debounce="0"
            data-src="/command_palette/commands"
          data-supported-modes="[]"
            data-supports-commands
          
          data-targets="command-palette.serverDefinedProviderElements"
          ></server-defined-provider>
        <server-defined-provider
          data-type="prefetched"
          data-fetch-debounce="0"
            data-src="/command_palette/jump_to_page_navigation"
          data-supported-modes="[&quot;&quot;]"
            data-supported-scope-types="[&quot;&quot;,&quot;owner&quot;,&quot;repository&quot;]"
          
          data-targets="command-palette.serverDefinedProviderElements"
          ></server-defined-provider>
        <server-defined-provider
          data-type="remote"
          data-fetch-debounce="200"
            data-src="/command_palette/issues"
          data-supported-modes="[&quot;#&quot;,&quot;#&quot;]"
            data-supported-scope-types="[&quot;owner&quot;,&quot;repository&quot;,&quot;&quot;]"
          
          data-targets="command-palette.serverDefinedProviderElements"
          ></server-defined-provider>
        <server-defined-provider
          data-type="remote"
          data-fetch-debounce="200"
            data-src="/command_palette/jump_to"
          data-supported-modes="[&quot;@&quot;,&quot;@&quot;]"
            data-supported-scope-types="[&quot;&quot;,&quot;owner&quot;]"
          
          data-targets="command-palette.serverDefinedProviderElements"
          ></server-defined-provider>
        <server-defined-provider
          data-type="remote"
          data-fetch-debounce="200"
            data-src="/command_palette/jump_to_members_only"
          data-supported-modes="[&quot;@&quot;,&quot;@&quot;,&quot;&quot;,&quot;&quot;]"
            data-supported-scope-types="[&quot;&quot;,&quot;owner&quot;]"
          
          data-targets="command-palette.serverDefinedProviderElements"
          ></server-defined-provider>
        <server-defined-provider
          data-type="prefetched"
          data-fetch-debounce="0"
            data-src="/command_palette/jump_to_members_only_prefetched"
          data-supported-modes="[&quot;@&quot;,&quot;@&quot;,&quot;&quot;,&quot;&quot;]"
            data-supported-scope-types="[&quot;&quot;,&quot;owner&quot;]"
          
          data-targets="command-palette.serverDefinedProviderElements"
          ></server-defined-provider>
        <server-defined-provider
          data-type="files"
          data-fetch-debounce="0"
            data-src="/command_palette/files"
          data-supported-modes="[&quot;/&quot;]"
            data-supported-scope-types="[&quot;repository&quot;]"
          
          data-targets="command-palette.serverDefinedProviderElements"
          ></server-defined-provider>
        <server-defined-provider
          data-type="remote"
          data-fetch-debounce="200"
            data-src="/command_palette/discussions"
          data-supported-modes="[&quot;#&quot;]"
            data-supported-scope-types="[&quot;owner&quot;,&quot;repository&quot;]"
          
          data-targets="command-palette.serverDefinedProviderElements"
          ></server-defined-provider>
        <server-defined-provider
          data-type="remote"
          data-fetch-debounce="200"
            data-src="/command_palette/projects"
          data-supported-modes="[&quot;#&quot;,&quot;!&quot;]"
            data-supported-scope-types="[&quot;owner&quot;,&quot;repository&quot;]"
          
          data-targets="command-palette.serverDefinedProviderElements"
          ></server-defined-provider>
        <server-defined-provider
          data-type="prefetched"
          data-fetch-debounce="0"
            data-src="/command_palette/recent_issues"
          data-supported-modes="[&quot;#&quot;,&quot;#&quot;]"
            data-supported-scope-types="[&quot;owner&quot;,&quot;repository&quot;,&quot;&quot;]"
          
          data-targets="command-palette.serverDefinedProviderElements"
          ></server-defined-provider>
        <server-defined-provider
          data-type="remote"
          data-fetch-debounce="200"
            data-src="/command_palette/teams"
          data-supported-modes="[&quot;@&quot;,&quot;&quot;]"
            data-supported-scope-types="[&quot;owner&quot;]"
          
          data-targets="command-palette.serverDefinedProviderElements"
          ></server-defined-provider>
        <server-defined-provider
          data-type="remote"
          data-fetch-debounce="200"
            data-src="/command_palette/name_with_owner_repository"
          data-supported-modes="[&quot;@&quot;,&quot;@&quot;,&quot;&quot;,&quot;&quot;]"
            data-supported-scope-types="[&quot;&quot;,&quot;owner&quot;]"
          
          data-targets="command-palette.serverDefinedProviderElements"
          ></server-defined-provider>
    </command-palette>
  </details-dialog>
</details>

<div class="position-fixed bottom-0 left-0 ml-5 mb-5 js-command-palette-toasts" style="z-index: 1000">
  <div hidden class="Toast Toast--loading">
    <span class="Toast-icon">
      <svg class="Toast--spinner" viewBox="0 0 32 32" width="18" height="18" aria-hidden="true">
        <path
          fill="#959da5"
          d="M16 0 A16 16 0 0 0 16 32 A16 16 0 0 0 16 0 M16 4 A12 12 0 0 1 16 28 A12 12 0 0 1 16 4"
        />
        <path fill="#ffffff" d="M16 0 A16 16 0 0 1 32 16 L28 16 A12 12 0 0 0 16 4z"></path>
      </svg>
    </span>
    <span class="Toast-content"></span>
  </div>

  <div hidden class="anim-fade-in fast Toast Toast--error">
    <span class="Toast-icon">
      <svg aria-hidden="true" height="16" viewBox="0 0 16 16" version="1.1" width="16" data-view-component="true" class="octicon octicon-stop">
    <path d="M4.47.22A.749.749 0 0 1 5 0h6c.199 0 .389.079.53.22l4.25 4.25c.141.14.22.331.22.53v6a.749.749 0 0 1-.22.53l-4.25 4.25A.749.749 0 0 1 11 16H5a.749.749 0 0 1-.53-.22L.22 11.53A.749.749 0 0 1 0 11V5c0-.199.079-.389.22-.53Zm.84 1.28L1.5 5.31v5.38l3.81 3.81h5.38l3.81-3.81V5.31L10.69 1.5ZM8 4a.75.75 0 0 1 .75.75v3.5a.75.75 0 0 1-1.5 0v-3.5A.75.75 0 0 1 8 4Zm0 8a1 1 0 1 1 0-2 1 1 0 0 1 0 2Z"></path>
</svg>
    </span>
    <span class="Toast-content"></span>
  </div>

  <div hidden class="anim-fade-in fast Toast Toast--warning">
    <span class="Toast-icon">
      <svg aria-hidden="true" height="16" viewBox="0 0 16 16" version="1.1" width="16" data-view-component="true" class="octicon octicon-alert">
    <path d="M6.457 1.047c.659-1.234 2.427-1.234 3.086 0l6.082 11.378A1.75 1.75 0 0 1 14.082 15H1.918a1.75 1.75 0 0 1-1.543-2.575Zm1.763.707a.25.25 0 0 0-.44 0L1.698 13.132a.25.25 0 0 0 .22.368h12.164a.25.25 0 0 0 .22-.368Zm.53 3.996v2.5a.75.75 0 0 1-1.5 0v-2.5a.75.75 0 0 1 1.5 0ZM9 11a1 1 0 1 1-2 0 1 1 0 0 1 2 0Z"></path>
</svg>
    </span>
    <span class="Toast-content"></span>
  </div>


  <div hidden class="anim-fade-in fast Toast Toast--success">
    <span class="Toast-icon">
      <svg aria-hidden="true" height="16" viewBox="0 0 16 16" version="1.1" width="16" data-view-component="true" class="octicon octicon-check">
    <path d="M13.78 4.22a.75.75 0 0 1 0 1.06l-7.25 7.25a.75.75 0 0 1-1.06 0L2.22 9.28a.751.751 0 0 1 .018-1.042.751.751 0 0 1 1.042-.018L6 10.94l6.72-6.72a.75.75 0 0 1 1.06 0Z"></path>
</svg>
    </span>
    <span class="Toast-content"></span>
  </div>

  <div hidden class="anim-fade-in fast Toast">
    <span class="Toast-icon">
      <svg aria-hidden="true" height="16" viewBox="0 0 16 16" version="1.1" width="16" data-view-component="true" class="octicon octicon-info">
    <path d="M0 8a8 8 0 1 1 16 0A8 8 0 0 1 0 8Zm8-6.5a6.5 6.5 0 1 0 0 13 6.5 6.5 0 0 0 0-13ZM6.5 7.75A.75.75 0 0 1 7.25 7h1a.75.75 0 0 1 .75.75v2.75h.25a.75.75 0 0 1 0 1.5h-2a.75.75 0 0 1 0-1.5h.25v-2h-.25a.75.75 0 0 1-.75-.75ZM8 6a1 1 0 1 1 0-2 1 1 0 0 1 0 2Z"></path>
</svg>
    </span>
    <span class="Toast-content"></span>
  </div>
</div>


  <div
    class="application-main "
    data-commit-hovercards-enabled
    data-discussion-hovercards-enabled
    data-issue-and-pr-hovercards-enabled
  >
        <div itemscope itemtype="http://schema.org/SoftwareSourceCode" class="">
    <main id="js-repo-pjax-container" >
      
      






    
  <div id="repository-container-header" data-turbo-replace hidden></div>




<turbo-frame id="repo-content-turbo-frame" target="_top" data-turbo-action="advance" class="">
    <div id="repo-content-pjax-container" class="repository-content " >
      <a href="https://github.dev/" class="d-none js-github-dev-shortcut" data-hotkey=".,Mod+Alt+.">Open in github.dev</a>
  <a href="https://github.dev/" class="d-none js-github-dev-new-tab-shortcut" data-hotkey="Shift+.,Shift+&gt;,&gt;" target="_blank" rel="noopener noreferrer">Open in a new github.dev tab</a>
    <a class="d-none" data-hotkey=",,Mod+Alt+," target="_blank" href="/codespaces/new/AlexLaudiano/imersao_python/tree/main?resume=1">Open in codespace</a>




    
      
    





<react-app
  app-name="react-code-view"
  initial-path="/AlexLaudiano/imersao_python/blob/main/Aula_4/Imers%C3%A3o_Alura_Aula_4_Desafio.2.ipynb"
  style="min-height: calc(100vh - 64px)" 
  data-ssr="true"
  data-lazy="false"
  data-alternate="false"
>
  
  <script type="application/json" data-target="react-app.embeddedData">{"payload":{"allShortcutsEnabled":true,"fileTree":{"Aula_4":{"items":[{"name":"Imersão_Alura_Aula_4_Desafio.2.ipynb","path":"Aula_4/Imersão_Alura_Aula_4_Desafio.2.ipynb","contentType":"file"},{"name":"Imersão_Alura_Aula_4_Desafio.ipynb","path":"Aula_4/Imersão_Alura_Aula_4_Desafio.ipynb","contentType":"file"},{"name":"Imersão_Python_Aula_4.ipynb","path":"Aula_4/Imersão_Python_Aula_4.ipynb","contentType":"file"},{"name":"README.md","path":"Aula_4/README.md","contentType":"file"}],"totalCount":4},"":{"items":[{"name":"Aula_1","path":"Aula_1","contentType":"directory"},{"name":"Aula_2","path":"Aula_2","contentType":"directory"},{"name":"Aula_3","path":"Aula_3","contentType":"directory"},{"name":"Aula_4","path":"Aula_4","contentType":"directory"},{"name":"Aula_5","path":"Aula_5","contentType":"directory"},{"name":"README.md","path":"README.md","contentType":"file"}],"totalCount":6}},"fileTreeProcessingTime":4.542266,"foldersToFetch":[],"repo":{"id":778068514,"defaultBranch":"main","name":"imersao_python","ownerLogin":"AlexLaudiano","currentUserCanPush":false,"isFork":false,"isEmpty":false,"createdAt":"2024-03-26T23:30:38.000-03:00","ownerAvatar":"https://avatars.githubusercontent.com/u/158209724?v=4","public":true,"private":false,"isOrgOwned":false},"codeLineWrapEnabled":false,"symbolsExpanded":false,"treeExpanded":true,"refInfo":{"name":"main","listCacheKey":"v0:1711616516.0","canEdit":true,"refType":"branch","currentOid":"699f5f34d2836ebc5a4ce6616e772ca34e8b91b8"},"path":"Aula_4/Imersão_Alura_Aula_4_Desafio.2.ipynb","currentUser":{"id":42747358,"login":"carlos-santos1504","userEmail":"carlos.santos1504@gmail.com"},"blob":{"rawLines":["{","  \"nbformat\": 4,","  \"nbformat_minor\": 0,","  \"metadata\": {","    \"colab\": {","      \"provenance\": [],","      \"authorship_tag\": \"ABX9TyOZoquYOF8t5/q2VhXmH0My\",","      \"include_colab_link\": true","    },","    \"kernelspec\": {","      \"name\": \"python3\",","      \"display_name\": \"Python 3\"","    },","    \"language_info\": {","      \"name\": \"python\"","    }","  },","  \"cells\": [","    {","      \"cell_type\": \"markdown\",","      \"metadata\": {","        \"id\": \"view-in-github\",","        \"colab_type\": \"text\"","      },","      \"source\": [","        \"\u003ca href=\\\"https://colab.research.google.com/github/AlexLaudiano/imersao_python_alura/blob/main/Imers%C3%A3o_Alura_Aula_4_Desafio.ipynb\\\" target=\\\"_parent\\\"\u003e\u003cimg src=\\\"https://colab.research.google.com/assets/colab-badge.svg\\\" alt=\\\"Open In Colab\\\"/\u003e\u003c/a\u003e\"","      ]","    },","    {","      \"cell_type\": \"markdown\",","      \"source\": [","        \"## Desafios desta aula\\n\",","        \"Buscar a ação da Apple e recriar o gráfico de Candlestick usando a biblioteca MPLFinance.\"","      ],","      \"metadata\": {","        \"id\": \"9qU5Df0gUKmH\"","      }","    },","    {","      \"cell_type\": \"code\",","      \"execution_count\": 1,","      \"metadata\": {","        \"colab\": {","          \"base_uri\": \"https://localhost:8080/\"","        },","        \"id\": \"H0yC26LnT4Zn\",","        \"outputId\": \"536d3f7c-5c76-4cca-82cf-0782e4e5ac6c\"","      },","      \"outputs\": [","        {","          \"output_type\": \"stream\",","          \"name\": \"stdout\",","          \"text\": [","            \"Requirement already satisfied: mplfinance in /usr/local/lib/python3.10/dist-packages (0.12.10b0)\\n\",","            \"Requirement already satisfied: matplotlib in /usr/local/lib/python3.10/dist-packages (from mplfinance) (3.7.1)\\n\",","            \"Requirement already satisfied: pandas in /usr/local/lib/python3.10/dist-packages (from mplfinance) (1.5.3)\\n\",","            \"Requirement already satisfied: contourpy\u003e=1.0.1 in /usr/local/lib/python3.10/dist-packages (from matplotlib-\u003emplfinance) (1.2.0)\\n\",","            \"Requirement already satisfied: cycler\u003e=0.10 in /usr/local/lib/python3.10/dist-packages (from matplotlib-\u003emplfinance) (0.12.1)\\n\",","            \"Requirement already satisfied: fonttools\u003e=4.22.0 in /usr/local/lib/python3.10/dist-packages (from matplotlib-\u003emplfinance) (4.50.0)\\n\",","            \"Requirement already satisfied: kiwisolver\u003e=1.0.1 in /usr/local/lib/python3.10/dist-packages (from matplotlib-\u003emplfinance) (1.4.5)\\n\",","            \"Requirement already satisfied: numpy\u003e=1.20 in /usr/local/lib/python3.10/dist-packages (from matplotlib-\u003emplfinance) (1.25.2)\\n\",","            \"Requirement already satisfied: packaging\u003e=20.0 in /usr/local/lib/python3.10/dist-packages (from matplotlib-\u003emplfinance) (24.0)\\n\",","            \"Requirement already satisfied: pillow\u003e=6.2.0 in /usr/local/lib/python3.10/dist-packages (from matplotlib-\u003emplfinance) (9.4.0)\\n\",","            \"Requirement already satisfied: pyparsing\u003e=2.3.1 in /usr/local/lib/python3.10/dist-packages (from matplotlib-\u003emplfinance) (3.1.2)\\n\",","            \"Requirement already satisfied: python-dateutil\u003e=2.7 in /usr/local/lib/python3.10/dist-packages (from matplotlib-\u003emplfinance) (2.8.2)\\n\",","            \"Requirement already satisfied: pytz\u003e=2020.1 in /usr/local/lib/python3.10/dist-packages (from pandas-\u003emplfinance) (2023.4)\\n\",","            \"Requirement already satisfied: six\u003e=1.5 in /usr/local/lib/python3.10/dist-packages (from python-dateutil\u003e=2.7-\u003ematplotlib-\u003emplfinance) (1.16.0)\\n\"","          ]","        }","      ],","      \"source\": [","        \"!pip install mplfinance\"","      ]","    },","    {","      \"cell_type\": \"code\",","      \"source\": [","        \"import pandas as pd\\n\",","        \"import matplotlib.pyplot as plt\\n\",","        \"import matplotlib.dates as mdates\\n\",","        \"import mplfinance as mpf\\n\",","        \"import yfinance as yf\\n\",","        \"import plotly.graph_objects as go\\n\",","        \"from plotly.subplots import make_subplots\"","      ],","      \"metadata\": {","        \"id\": \"_mKE4s63UgOa\"","      },","      \"execution_count\": 2,","      \"outputs\": []","    },","    {","      \"cell_type\": \"code\",","      \"source\": [","        \"dados = yf.download('AAPL', start='2023-01-01', end='2023-12-31')\"","      ],","      \"metadata\": {","        \"colab\": {","          \"base_uri\": \"https://localhost:8080/\"","        },","        \"id\": \"x4DDeY-yUlrk\",","        \"outputId\": \"1ae6d407-3cfa-44b3-c863-50472fc767dc\"","      },","      \"execution_count\": 3,","      \"outputs\": [","        {","          \"output_type\": \"stream\",","          \"name\": \"stderr\",","          \"text\": [","            \"\\r[*********************100%%**********************]  1 of 1 completed\\n\"","          ]","        }","      ]","    },","    {","      \"cell_type\": \"code\",","      \"source\": [","        \"# Plotar o gráfico de candlestick com algumas alterações\\n\",","        \"mpf.plot(dados, type='candle', volume=True, mav=(7, 14),\\n\",","        \"         title='Gráfico de Candlestick para AAPL (2023)',\\n\",","        \"         ylabel='Preço ($)',\\n\",","        \"         ylabel_lower='Volume'\\n\",","        \"         )\"","      ],","      \"metadata\": {","        \"id\": \"yLeumVdOUqfx\",","        \"outputId\": \"411619bb-eee7-4335-abeb-5e57e12a5d21\",","        \"colab\": {","          \"base_uri\": \"https://localhost:8080/\",","          \"height\": 562","        }","      },","      \"execution_count\": 4,","      \"outputs\": [","        {","          \"output_type\": \"display_data\",","          \"data\": {","            \"text/plain\": [","              \"\u003cFigure size 800x575 with 4 Axes\u003e\"","            ],","            \"image/png\": \"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\\n\"","          },","          \"metadata\": {}","        }","      ]","    },","    {","      \"cell_type\": \"code\",","      \"source\": [","        \"mpf.plot(dados.head(30), type='candle', figsize = (16,8), volume=True, mav=(7,14))\"","      ],","      \"metadata\": {","        \"colab\": {","          \"base_uri\": \"https://localhost:8080/\",","          \"height\": 630","        },","        \"id\": \"s5DN6EvDZ74B\",","        \"outputId\": \"bea048f5-f33f-432f-c73a-0f3b5de61f3f\"","      },","      \"execution_count\": 5,","      \"outputs\": [","        {","          \"output_type\": \"display_data\",","          \"data\": {","            \"text/plain\": [","              \"\u003cFigure size 1600x800 with 4 Axes\u003e\"","            ],","            \"image/png\": \"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\\n\"","          },","          \"metadata\": {}","        }","      ]","    }","  ]","}"],"stylingDirectives":null,"colorizedLines":null,"csv":null,"csvError":null,"dependabotInfo":{"showConfigurationBanner":false,"configFilePath":null,"networkDependabotPath":"/AlexLaudiano/imersao_python/network/updates","dismissConfigurationNoticePath":"/settings/dismiss-notice/dependabot_configuration_notice","configurationNoticeDismissed":false},"displayName":"Imersão_Alura_Aula_4_Desafio.2.ipynb","displayUrl":"https://notebooks.githubusercontent.com/view/ipynb?browser=chrome\u0026bypass_fastly=true\u0026color_mode=auto\u0026commit=699f5f34d2836ebc5a4ce6616e772ca34e8b91b8\u0026device=unknown_device\u0026docs_host=https%3A%2F%2Fdocs.github.com\u0026enc_url=68747470733a2f2f7261772e67697468756275736572636f6e74656e742e636f6d2f416c65784c61756469616e6f2f696d657273616f5f707974686f6e2f363939663566333464323833366562633561346365363631366537373263613334653862393162382f41756c615f342f496d657273c3a36f5f416c7572615f41756c615f345f4465736166696f2e322e6970796e62\u0026logged_in=true\u0026nwo=AlexLaudiano%2Fimersao_python\u0026path=Aula_4%2FImers%C3%A3o_Alura_Aula_4_Desafio.2.ipynb\u0026platform=windows\u0026repository_id=778068514\u0026repository_type=Repository\u0026version=123","headerInfo":{"blobSize":"141 KB","deleteTooltip":"Fork this repository and delete the file","editTooltip":"Fork this repository and edit the file","ghDesktopPath":"x-github-client://openRepo/https://github.com/AlexLaudiano/imersao_python?branch=main\u0026filepath=Aula_4%2FImers%C3%A3o_Alura_Aula_4_Desafio.2.ipynb","isGitLfs":false,"onBranch":true,"shortPath":"734340b","siteNavLoginPath":"/login?return_to=https%3A%2F%2Fgithub.com%2FAlexLaudiano%2Fimersao_python%2Fblob%2Fmain%2FAula_4%2FImers%25C3%25A3o_Alura_Aula_4_Desafio.2.ipynb","isCSV":false,"isRichtext":false,"toc":null,"lineInfo":{"truncatedLoc":"175","truncatedSloc":"175"},"mode":"file"},"image":false,"isCodeownersFile":null,"isPlain":false,"isValidLegacyIssueTemplate":false,"issueTemplate":null,"discussionTemplate":null,"language":"Jupyter Notebook","languageID":185,"large":false,"planSupportInfo":{"repoIsFork":null,"repoOwnedByCurrentUser":null,"requestFullPath":"/AlexLaudiano/imersao_python/blob/main/Aula_4/Imers%C3%A3o_Alura_Aula_4_Desafio.2.ipynb","showFreeOrgGatedFeatureMessage":null,"showPlanSupportBanner":null,"upgradeDataAttributes":null,"upgradePath":null},"publishBannersInfo":{"dismissActionNoticePath":"/settings/dismiss-notice/publish_action_from_dockerfile","releasePath":"/AlexLaudiano/imersao_python/releases/new?marketplace=true","showPublishActionBanner":false},"rawBlobUrl":"https://github.com/AlexLaudiano/imersao_python/raw/main/Aula_4/Imers%C3%A3o_Alura_Aula_4_Desafio.2.ipynb","renderImageOrRaw":false,"richText":null,"renderedFileInfo":{"identityUUID":"9ff1ca3d-bb4f-408d-adae-f91959ffddeb","renderFileType":"ipynb","size":144878},"shortPath":null,"symbolsEnabled":true,"tabSize":8,"topBannersInfo":{"overridingGlobalFundingFile":false,"globalPreferredFundingPath":null,"showInvalidCitationWarning":false,"citationHelpUrl":"https://docs.github.com/github/creating-cloning-and-archiving-repositories/creating-a-repository-on-github/about-citation-files","actionsOnboardingTip":null},"truncated":false,"viewable":true,"workflowRedirectUrl":null,"symbols":{"timed_out":false,"not_analyzed":true,"symbols":[]}},"copilotInfo":{"documentationUrl":"https://docs.github.com/copilot/overview-of-github-copilot/about-github-copilot-for-business","notices":{"codeViewPopover":{"dismissed":false,"dismissPath":"/settings/dismiss-notice/code_view_copilot_popover"}},"userAccess":{"hasSubscriptionEnded":false,"orgHasCFBAccess":false,"userHasCFIAccess":false,"userHasOrgs":true,"userIsOrgAdmin":false,"userIsOrgMember":false,"business":null,"featureRequestInfo":null}},"copilotAccessAllowed":false,"csrf_tokens":{"/AlexLaudiano/imersao_python/branches":{"post":"qm12BKy44FRq3CTEY07p0I2OoB6AZeoB3V6qT8bqdwrWS5hsRG8IKBtUcRH9U9HpyimL-Mm_Cyq6dgDVxojl9Q"},"/repos/preferences":{"post":"4ZL4RvNcsQ5B9as1aCj1r2G_aOF2iajklHJhhUauIyZl4lzcpuHYEtaX7dlgfgBiMOr147Im8Hlnwk3PXL8rmQ"}}},"title":"imersao_python/Aula_4/Imersão_Alura_Aula_4_Desafio.2.ipynb at main · AlexLaudiano/imersao_python","appPayload":{"helpUrl":"https://docs.github.com","findFileWorkerPath":"/assets-cdn/worker/find-file-worker-a007d7f370d6.js","findInFileWorkerPath":"/assets-cdn/worker/find-in-file-worker-d0f0ff069004.js","githubDevUrl":"https://github.dev/","enabled_features":{"code_nav_ui_events":false,"copilot_conversational_ux":false,"react_blob_overlay":false,"copilot_conversational_ux_embedding_update":false,"copilot_popover_file_editor_header":true,"copilot_smell_icebreaker_ux":true,"copilot_workspace":false}}}</script>
  <div data-target="react-app.reactRoot"><style data-styled="true" data-styled-version="5.3.6">.jUriTl{font-weight:600;font-size:32px;margin:0;display:-webkit-box;display:-webkit-flex;display:-ms-flexbox;display:flex;font-size:14px;}/*!sc*/
.imcwCi{font-weight:600;font-size:32px;margin:0;font-size:16px;margin-left:8px;}/*!sc*/
.cgQnMS{font-weight:600;font-size:32px;margin:0;}/*!sc*/
.diwsLq{font-weight:600;font-size:32px;margin:0;font-weight:600;display:inline-block;max-width:100%;font-size:16px;}/*!sc*/
.jAEDJk{font-weight:600;font-size:32px;margin:0;font-weight:600;display:inline-block;max-width:100%;font-size:14px;}/*!sc*/
data-styled.g1[id="Heading__StyledHeading-sc-1c1dgg0-0"]{content:"jUriTl,imcwCi,cgQnMS,diwsLq,jAEDJk,"}/*!sc*/
.fSWWem{padding:0;}/*!sc*/
.kPPmzM{max-width:100%;margin-left:auto;margin-right:auto;display:-webkit-box;display:-webkit-flex;display:-ms-flexbox;display:flex;-webkit-flex-wrap:wrap;-ms-flex-wrap:wrap;flex-wrap:wrap;}/*!sc*/
.cIAPDV{display:-webkit-box;display:-webkit-flex;display:-ms-flexbox;display:flex;-webkit-flex:1 1 100%;-ms-flex:1 1 100%;flex:1 1 100%;-webkit-flex-wrap:wrap;-ms-flex-wrap:wrap;flex-wrap:wrap;max-width:100%;}/*!sc*/
.gvCnwW{width:100%;}/*!sc*/
@media screen and (min-width:544px){.gvCnwW{width:100%;}}/*!sc*/
@media screen and (min-width:768px){.gvCnwW{width:auto;}}/*!sc*/
.xEgty{display:-webkit-box;display:-webkit-flex;display:-ms-flexbox;display:flex;-webkit-order:1;-ms-flex-order:1;order:1;width:100%;margin-left:0;margin-right:0;-webkit-flex-direction:column;-ms-flex-direction:column;flex-direction:column;margin-bottom:0;min-width:0;}/*!sc*/
@media screen and (min-width:544px){.xEgty{-webkit-flex-direction:column;-ms-flex-direction:column;flex-direction:column;}}/*!sc*/
@media screen and (min-width:768px){.xEgty{width:auto;margin-top:0 !important;margin-bottom:0 !important;position:-webkit-sticky;position:sticky;top:0px;max-height:var(--sticky-pane-height);-webkit-flex-direction:row;-ms-flex-direction:row;flex-direction:row;margin-right:0;}}/*!sc*/
@media screen and (min-width:769px){.xEgty{height:100vh;max-height:100vh !important;}}/*!sc*/
@media print,screen and (max-width:1011px) and (min-width:768px){.xEgty{display:none;}}/*!sc*/
.eUyHuk{margin-left:0;margin-right:0;display:none;margin-top:0;}/*!sc*/
@media screen and (min-width:768px){.eUyHuk{margin-left:0 !important;margin-right:0 !important;}}/*!sc*/
.gNdDUH{--pane-min-width:256px;--pane-max-width-diff:511px;--pane-max-width:calc(100vw - var(--pane-max-width-diff));width:100%;padding:0;}/*!sc*/
@media screen and (min-width:544px){}/*!sc*/
@media screen and (min-width:768px){.gNdDUH{width:clamp(var(--pane-min-width),var(--pane-width),var(--pane-max-width));overflow:auto;}}/*!sc*/
@media screen and (min-width:1280px){.gNdDUH{--pane-max-width-diff:959px;}}/*!sc*/
.jywUSN{max-height:100%;height:100%;display:-webkit-box;display:-webkit-flex;display:-ms-flexbox;display:flex;-webkit-flex-direction:column;-ms-flex-direction:column;flex-direction:column;}/*!sc*/
@media screen and (max-width:768px){.jywUSN{display:none;}}/*!sc*/
@media screen and (min-width:768px){.jywUSN{max-height:100vh;height:100vh;}}/*!sc*/
.hBSSUC{display:-webkit-box;display:-webkit-flex;display:-ms-flexbox;display:flex;-webkit-flex-direction:column;-ms-flex-direction:column;flex-direction:column;-webkit-align-items:center;-webkit-box-align:center;-ms-flex-align:center;align-items:center;padding-left:16px;padding-right:16px;padding-bottom:8px;padding-top:16px;}/*!sc*/
.iPurHz{display:-webkit-box;display:-webkit-flex;display:-ms-flexbox;display:flex;width:100%;margin-bottom:16px;-webkit-align-items:center;-webkit-box-align:center;-ms-flex-align:center;align-items:center;}/*!sc*/
.kkrdEu{-webkit-box-pack:center;-webkit-justify-content:center;-ms-flex-pack:center;justify-content:center;}/*!sc*/
.trpoQ{display:-webkit-box;display:-webkit-flex;display:-ms-flexbox;display:flex;pointer-events:none;}/*!sc*/
.hVHHYa{margin-left:24px;margin-right:24px;display:-webkit-box;display:-webkit-flex;display:-ms-flexbox;display:flex;width:100%;}/*!sc*/
.idZfsJ{-webkit-box-flex:1;-webkit-flex-grow:1;-ms-flex-positive:1;flex-grow:1;}/*!sc*/
.bKgizp{display:-webkit-box;display:-webkit-flex;display:-ms-flexbox;display:flex;width:100%;}/*!sc*/
.dIAShY{margin-right:4px;color:var(--fgColor-muted,var(--color-fg-muted,#848d97));}/*!sc*/
.caeYDk{font-size:14px;min-width:0;overflow:hidden;text-overflow:ellipsis;white-space:nowrap;}/*!sc*/
.jahcnb{margin-left:8px;white-space:nowrap;}/*!sc*/
.jahcnb:hover button:not(:hover){border-left-color:var(--button-default-borderColor-hover,var(--color-btn-hover-border));}/*!sc*/
.ccToMy{margin-left:16px;margin-right:16px;margin-bottom:12px;}/*!sc*/
@media screen and (max-width:768px){.ccToMy{display:none;}}/*!sc*/
.cNvKlH{margin-right:-6px;}/*!sc*/
.cLfAnm{-webkit-box-flex:1;-webkit-flex-grow:1;-ms-flex-positive:1;flex-grow:1;max-height:100% !important;overflow-y:auto;-webkit-scrollbar-gutter:stable;-moz-scrollbar-gutter:stable;-ms-scrollbar-gutter:stable;scrollbar-gutter:stable;}/*!sc*/
@media screen and (max-width:768px){.cLfAnm{display:none;}}/*!sc*/
.erWCJP{padding-left:16px;padding-right:16px;padding-bottom:8px;}/*!sc*/
.hAeDYA{height:100%;position:relative;display:none;margin-left:0;}/*!sc*/
.gZHqlw{position:absolute;inset:0 -2px;cursor:col-resize;background-color:transparent;-webkit-transition-delay:0.1s;transition-delay:0.1s;}/*!sc*/
.gZHqlw:hover{background-color:var(--bgColor-neutral-muted,var(--color-neutral-muted,rgba(110,118,129,0.4)));}/*!sc*/
.emFMJu{display:-webkit-box;display:-webkit-flex;display:-ms-flexbox;display:flex;-webkit-flex-direction:column;-ms-flex-direction:column;flex-direction:column;-webkit-order:2;-ms-flex-order:2;order:2;-webkit-flex-basis:0;-ms-flex-preferred-size:0;flex-basis:0;-webkit-box-flex:1;-webkit-flex-grow:1;-ms-flex-positive:1;flex-grow:1;-webkit-flex-shrink:1;-ms-flex-negative:1;flex-shrink:1;min-width:1px;margin-right:auto;}/*!sc*/
@media print{.emFMJu{display:-webkit-box !important;display:-webkit-flex !important;display:-ms-flexbox !important;display:flex !important;}}/*!sc*/
.hlUAHL{width:100%;max-width:100%;margin-left:auto;margin-right:auto;-webkit-box-flex:1;-webkit-flex-grow:1;-ms-flex-positive:1;flex-grow:1;padding:0;}/*!sc*/
.iStsmI{margin-left:auto;margin-right:auto;-webkit-flex-direction:column;-ms-flex-direction:column;flex-direction:column;padding-bottom:40px;max-width:100%;margin-top:0;}/*!sc*/
.eIgvIk{display:inherit;}/*!sc*/
.eVFfWF{width:100%;}/*!sc*/
.fywjmm{display:-webkit-box;display:-webkit-flex;display:-ms-flexbox;display:flex;gap:8px;-webkit-flex-direction:column;-ms-flex-direction:column;flex-direction:column;width:100%;}/*!sc*/
.dyczTK{display:-webkit-box;display:-webkit-flex;display:-ms-flexbox;display:flex;-webkit-align-items:start;-webkit-box-align:start;-ms-flex-align:start;align-items:start;-webkit-box-pack:justify;-webkit-justify-content:space-between;-ms-flex-pack:justify;justify-content:space-between;gap:8px;}/*!sc*/
.kszRgZ{-webkit-align-self:center;-ms-flex-item-align:center;align-self:center;display:-webkit-box;display:-webkit-flex;display:-ms-flexbox;display:flex;padding-right:8px;min-width:0;}/*!sc*/
.eTvGbF{display:-webkit-box;display:-webkit-flex;display:-ms-flexbox;display:flex;-webkit-flex-direction:row;-ms-flex-direction:row;flex-direction:row;font-size:16px;min-width:0;-webkit-flex-shrink:1;-ms-flex-negative:1;flex-shrink:1;-webkit-flex-wrap:wrap;-ms-flex-wrap:wrap;flex-wrap:wrap;max-width:100%;-webkit-align-items:center;-webkit-box-align:center;-ms-flex-align:center;align-items:center;}/*!sc*/
.kzRgrI{max-width:100%;}/*!sc*/
.cmAPIB{max-width:100%;list-style:none;display:inline-block;}/*!sc*/
.jwXCBK{display:inline-block;max-width:100%;}/*!sc*/
.gtBUEp{min-height:32px;display:-webkit-box;display:-webkit-flex;display:-ms-flexbox;display:flex;-webkit-align-items:start;-webkit-box-align:start;-ms-flex-align:start;align-items:start;}/*!sc*/
.hVZtwF{margin-left:16px;margin-right:16px;}/*!sc*/
.cMYnca{display:-webkit-box;display:-webkit-flex;display:-ms-flexbox;display:flex;-webkit-flex-direction:column;-ms-flex-direction:column;flex-direction:column;}/*!sc*/
.dPsqPZ{display:-webkit-box;display:-webkit-flex;display:-ms-flexbox;display:flex;-webkit-flex-direction:column;-ms-flex-direction:column;flex-direction:column;border:1px solid;border-color:var(--borderColor-default,var(--color-border-default,#30363d));border-radius:6px;margin-bottom:16px;}/*!sc*/
.eYedVD{display:-webkit-box;display:-webkit-flex;display:-ms-flexbox;display:flex;-webkit-flex-direction:row;-ms-flex-direction:row;flex-direction:row;-webkit-box-pack:justify;-webkit-justify-content:space-between;-ms-flex-pack:justify;justify-content:space-between;-webkit-align-items:center;-webkit-box-align:center;-ms-flex-align:center;align-items:center;gap:8px;min-width:273px;padding-right:8px;padding-left:16px;padding-top:8px;padding-bottom:8px;}/*!sc*/
.lhFvfi{display:-webkit-box;display:-webkit-flex;display:-ms-flexbox;display:flex;-webkit-align-items:center;-webkit-box-align:center;-ms-flex-align:center;align-items:center;}/*!sc*/
.jGfYmh{display:-webkit-box;display:-webkit-flex;display:-ms-flexbox;display:flex;gap:8px;}/*!sc*/
.bqgLjk{display:inherit;}/*!sc*/
@media screen and (min-width:544px){.bqgLjk{display:none;}}/*!sc*/
@media screen and (min-width:768px){.bqgLjk{display:none;}}/*!sc*/
.iJmJly{display:-webkit-box;display:-webkit-flex;display:-ms-flexbox;display:flex;-webkit-flex-direction:row;-ms-flex-direction:row;flex-direction:row;}/*!sc*/
.jACbi{width:100%;height:-webkit-fit-content;height:-moz-fit-content;height:fit-content;min-width:0;margin-right:0;}/*!sc*/
.gIJuDf{height:40px;padding-left:4px;padding-bottom:16px;}/*!sc*/
.fleZSW{-webkit-align-items:center;-webkit-box-align:center;-ms-flex-align:center;align-items:center;}/*!sc*/
.dVVHlo{font-size:12px;-webkit-flex:auto;-ms-flex:auto;flex:auto;padding-right:16px;color:var(--fgColor-muted,var(--color-fg-muted,#848d97));min-width:0;}/*!sc*/
.VHzRk{top:0px;z-index:4;background:var(--bgColor-default,var(--color-canvas-default));position:-webkit-sticky;position:sticky;}/*!sc*/
.ePiodO{display:-webkit-box;display:-webkit-flex;display:-ms-flexbox;display:flex;-webkit-flex-direction:column;-ms-flex-direction:column;flex-direction:column;width:100%;position:absolute;}/*!sc*/
.kQJlnf{display:none;min-width:0;padding-top:8px;padding-bottom:8px;}/*!sc*/
.gJICKO{margin-right:8px;margin-left:16px;text-overflow:ellipsis;overflow:hidden;display:-webkit-box;display:-webkit-flex;display:-ms-flexbox;display:flex;-webkit-flex-direction:row;-ms-flex-direction:row;flex-direction:row;-webkit-align-items:center;-webkit-box-align:center;-ms-flex-align:center;align-items:center;-webkit-box-pack:justify;-webkit-justify-content:space-between;-ms-flex-pack:justify;justify-content:space-between;width:100%;}/*!sc*/
.iZJewz{display:-webkit-box;display:-webkit-flex;display:-ms-flexbox;display:flex;-webkit-flex-direction:row;-ms-flex-direction:row;flex-direction:row;font-size:14px;min-width:0;-webkit-flex-shrink:1;-ms-flex-negative:1;flex-shrink:1;-webkit-flex-wrap:wrap;-ms-flex-wrap:wrap;flex-wrap:wrap;max-width:100%;-webkit-align-items:center;-webkit-box-align:center;-ms-flex-align:center;align-items:center;}/*!sc*/
.jtQniD{padding-left:8px;padding-top:8px;padding-bottom:8px;display:-webkit-box;display:-webkit-flex;display:-ms-flexbox;display:flex;-webkit-flex:1;-ms-flex:1;flex:1;-webkit-align-items:center;-webkit-box-align:center;-ms-flex-align:center;align-items:center;-webkit-box-pack:justify;-webkit-justify-content:space-between;-ms-flex-pack:justify;justify-content:space-between;background-color:var(--bgColor-muted,var(--color-canvas-subtle,#161b22));border:1px solid var(--borderColor-default,var(--color-border-default));border-radius:6px 6px 0px 0px;}/*!sc*/
.bfkNRF{display:-webkit-box;display:-webkit-flex;display:-ms-flexbox;display:flex;-webkit-align-items:center;-webkit-box-align:center;-ms-flex-align:center;align-items:center;gap:8px;min-width:0;}/*!sc*/
.fXBLEV{display:block;position:relative;-webkit-box-flex:1;-webkit-flex-grow:1;-ms-flex-positive:1;flex-grow:1;margin-top:-1px;margin-bottom:-1px;--separator-color:transparent;}/*!sc*/
.fXBLEV:not(:last-child){margin-right:1px;}/*!sc*/
.fXBLEV:not(:last-child):after{background-color:var(--separator-color);content:"";position:absolute;right:-2px;top:8px;bottom:8px;width:1px;}/*!sc*/
.fXBLEV:focus-within:has(:focus-visible){--separator-color:transparent;}/*!sc*/
.fXBLEV:first-child{margin-left:-1px;}/*!sc*/
.fXBLEV:last-child{margin-right:-1px;}/*!sc*/
.illvPQ{display:block;position:relative;-webkit-box-flex:1;-webkit-flex-grow:1;-ms-flex-positive:1;flex-grow:1;margin-top:-1px;margin-bottom:-1px;--separator-color:var(--borderColor-default,var(--color-border-default,#30363d));}/*!sc*/
.illvPQ:not(:last-child){margin-right:1px;}/*!sc*/
.illvPQ:not(:last-child):after{background-color:var(--separator-color);content:"";position:absolute;right:-2px;top:8px;bottom:8px;width:1px;}/*!sc*/
.illvPQ:focus-within:has(:focus-visible){--separator-color:transparent;}/*!sc*/
.illvPQ:first-child{margin-left:-1px;}/*!sc*/
.illvPQ:last-child{margin-right:-1px;}/*!sc*/
.iBylDf{display:-webkit-box;display:-webkit-flex;display:-ms-flexbox;display:flex;-webkit-align-items:center;-webkit-box-align:center;-ms-flex-align:center;align-items:center;gap:8px;margin-right:8px;}/*!sc*/
.kSGBPx{gap:8px;}/*!sc*/
.jMJFjm{border:1px solid;border-top:none;border-color:var(--borderColor-default,var(--color-border-default,#30363d));border-radius:0px 0px 6px 6px;min-width:273px;}/*!sc*/
.eJsjkT{background-color:var(--bgColor-default,var(--color-canvas-default));border:0px;border-width:0;border-radius:0px 0px 6px 6px;padding:0;min-width:0;margin-top:46px;overflow:auto;}/*!sc*/
.aZrVR{position:fixed;top:0;right:0;height:100%;width:15px;-webkit-transition:-webkit-transform 0.3s;-webkit-transition:transform 0.3s;transition:transform 0.3s;z-index:1;}/*!sc*/
.aZrVR:hover{-webkit-transform:scaleX(1.5);-ms-transform:scaleX(1.5);transform:scaleX(1.5);}/*!sc*/
.bAzdCq{display:-webkit-box;display:-webkit-flex;display:-ms-flexbox;display:flex;-webkit-flex-direction:column;-ms-flex-direction:column;flex-direction:column;-webkit-align-items:center;-webkit-box-align:center;-ms-flex-align:center;align-items:center;padding-top:16px;padding-bottom:16px;}/*!sc*/
data-styled.g2[id="Box-sc-g0xbh4-0"]{content:"fSWWem,kPPmzM,cIAPDV,gvCnwW,xEgty,eUyHuk,gNdDUH,jywUSN,hBSSUC,iPurHz,kkrdEu,trpoQ,hVHHYa,idZfsJ,bKgizp,dIAShY,caeYDk,jahcnb,ccToMy,cNvKlH,cLfAnm,erWCJP,hAeDYA,gZHqlw,emFMJu,hlUAHL,iStsmI,eIgvIk,eVFfWF,fywjmm,dyczTK,kszRgZ,eTvGbF,kzRgrI,cmAPIB,jwXCBK,gtBUEp,hVZtwF,cMYnca,dPsqPZ,eYedVD,lhFvfi,jGfYmh,bqgLjk,iJmJly,jACbi,gIJuDf,fleZSW,dVVHlo,VHzRk,ePiodO,kQJlnf,gJICKO,iZJewz,jtQniD,bfkNRF,fXBLEV,illvPQ,iBylDf,kSGBPx,jMJFjm,eJsjkT,aZrVR,bAzdCq,"}/*!sc*/
body[data-page-layout-dragging="true"]{cursor:col-resize;}/*!sc*/
body[data-page-layout-dragging="true"] *{-webkit-user-select:none;-moz-user-select:none;-ms-user-select:none;user-select:none;}/*!sc*/
data-styled.g3[id="sc-global-gbKrvU1"]{content:"sc-global-gbKrvU1,"}/*!sc*/
.bOMzPg{min-width:0;}/*!sc*/
.ePvrxx{padding-left:4px;padding-right:4px;font-weight:400;color:var(--fgColor-muted,var(--color-fg-muted,#848d97));font-size:16px;}/*!sc*/
.UrHoN{color:var(--fgColor-default,var(--color-fg-default,#e6edf3));}/*!sc*/
.fQxKLn{padding-left:4px;padding-right:4px;font-weight:400;color:var(--fgColor-muted,var(--color-fg-muted,#848d97));font-size:14px;}/*!sc*/
data-styled.g6[id="Text-sc-17v1xeu-0"]{content:"bOMzPg,ePvrxx,UrHoN,gPDEWA,fQxKLn,"}/*!sc*/
.dpowyu{color:var(--fgColor-accent,var(--color-accent-fg,#2f81f7));-webkit-text-decoration:none;text-decoration:none;font-weight:600;}/*!sc*/
[data-a11y-link-underlines='true'] .Link__StyledLink-sc-14289xe-0[data-inline='true']{-webkit-text-decoration:underline;text-decoration:underline;}/*!sc*/
.dpowyu:hover{-webkit-text-decoration:underline;text-decoration:underline;}/*!sc*/
.dpowyu:is(button){display:inline-block;padding:0;font-size:inherit;white-space:nowrap;cursor:pointer;-webkit-user-select:none;-moz-user-select:none;-ms-user-select:none;user-select:none;background-color:transparent;border:0;-webkit-appearance:none;-moz-appearance:none;appearance:none;}/*!sc*/
.csCkZA{color:var(--fgColor-accent,var(--color-accent-fg,#2f81f7));-webkit-text-decoration:none;text-decoration:none;font-weight:400;}/*!sc*/
[data-a11y-link-underlines='true'] .Link__StyledLink-sc-14289xe-0[data-inline='true']{-webkit-text-decoration:underline;text-decoration:underline;}/*!sc*/
.csCkZA:hover{-webkit-text-decoration:underline;text-decoration:underline;}/*!sc*/
.csCkZA:is(button){display:inline-block;padding:0;font-size:inherit;white-space:nowrap;cursor:pointer;-webkit-user-select:none;-moz-user-select:none;-ms-user-select:none;user-select:none;background-color:transparent;border:0;-webkit-appearance:none;-moz-appearance:none;appearance:none;}/*!sc*/
.elltiT{color:var(--fgColor-accent,var(--color-accent-fg,#2f81f7));-webkit-text-decoration:none;text-decoration:none;}/*!sc*/
[data-a11y-link-underlines='true'] .Link__StyledLink-sc-14289xe-0[data-inline='true']{-webkit-text-decoration:underline;text-decoration:underline;}/*!sc*/
.elltiT:hover{-webkit-text-decoration:underline;text-decoration:underline;}/*!sc*/
.elltiT:is(button){display:inline-block;padding:0;font-size:inherit;white-space:nowrap;cursor:pointer;-webkit-user-select:none;-moz-user-select:none;-ms-user-select:none;user-select:none;background-color:transparent;border:0;-webkit-appearance:none;-moz-appearance:none;appearance:none;}/*!sc*/
data-styled.g8[id="Link__StyledLink-sc-14289xe-0"]{content:"dpowyu,csCkZA,elltiT,"}/*!sc*/
.iKABXH{border-radius:6px;border:1px solid;border-color:transparent;font-family:inherit;font-weight:500;font-size:14px;cursor:pointer;-webkit-appearance:none;-moz-appearance:none;appearance:none;-webkit-user-select:none;-moz-user-select:none;-ms-user-select:none;user-select:none;-webkit-text-decoration:none;text-decoration:none;text-align:center;display:-webkit-box;display:-webkit-flex;display:-ms-flexbox;display:flex;-webkit-align-items:center;-webkit-box-align:center;-ms-flex-align:center;align-items:center;-webkit-box-pack:justify;-webkit-justify-content:space-between;-ms-flex-pack:justify;justify-content:space-between;height:32px;padding:0 12px;gap:8px;min-width:-webkit-max-content;min-width:-moz-max-content;min-width:max-content;-webkit-transition:80ms cubic-bezier(0.65,0,0.35,1);transition:80ms cubic-bezier(0.65,0,0.35,1);-webkit-transition-property:color,fill,background-color,border-color;transition-property:color,fill,background-color,border-color;color:var(--button-default-fgColor-rest,var(--color-btn-text,#c9d1d9));background-color:transparent;box-shadow:none;}/*!sc*/
.iKABXH:focus:not(:disabled){box-shadow:none;outline:2px solid var(--fgColor-accent,var(--color-accent-fg,#2f81f7));outline-offset:-2px;}/*!sc*/
.iKABXH:focus:not(:disabled):not(:focus-visible){outline:solid 1px transparent;}/*!sc*/
.iKABXH:focus-visible:not(:disabled){box-shadow:none;outline:2px solid var(--fgColor-accent,var(--color-accent-fg,#2f81f7));outline-offset:-2px;}/*!sc*/
.iKABXH[href]{display:-webkit-inline-box;display:-webkit-inline-flex;display:-ms-inline-flexbox;display:inline-flex;}/*!sc*/
.iKABXH[href]:hover{-webkit-text-decoration:none;text-decoration:none;}/*!sc*/
.iKABXH:hover{-webkit-transition-duration:80ms;transition-duration:80ms;}/*!sc*/
.iKABXH:active{-webkit-transition:none;transition:none;}/*!sc*/
.iKABXH[data-inactive]{cursor:auto;}/*!sc*/
.iKABXH:disabled{cursor:not-allowed;box-shadow:none;color:var(--fgColor-disabled,var(--color-primer-fg-disabled,#484f58));}/*!sc*/
.iKABXH:disabled [data-component=ButtonCounter],.iKABXH:disabled [data-component="leadingVisual"],.iKABXH:disabled [data-component="trailingAction"]{color:inherit;}/*!sc*/
@media (forced-colors:active){.iKABXH:focus{outline:solid 1px transparent;}}/*!sc*/
.iKABXH [data-component=ButtonCounter]{font-size:12px;}/*!sc*/
.iKABXH[data-component=IconButton]{display:inline-grid;padding:unset;place-content:center;width:32px;min-width:unset;}/*!sc*/
.iKABXH[data-size="small"]{padding:0 8px;height:28px;gap:4px;font-size:12px;}/*!sc*/
.iKABXH[data-size="small"] [data-component="text"]{line-height:calc(20 / 12);}/*!sc*/
.iKABXH[data-size="small"] [data-component=ButtonCounter]{font-size:12px;}/*!sc*/
.iKABXH[data-size="small"] [data-component="buttonContent"] > :not(:last-child){margin-right:4px;}/*!sc*/
.iKABXH[data-size="small"][data-component=IconButton]{width:28px;padding:unset;}/*!sc*/
.iKABXH[data-size="large"]{padding:0 16px;height:40px;gap:8px;}/*!sc*/
.iKABXH[data-size="large"] [data-component="buttonContent"] > :not(:last-child){margin-right:8px;}/*!sc*/
.iKABXH[data-size="large"][data-component=IconButton]{width:40px;padding:unset;}/*!sc*/
.iKABXH[data-block="block"]{width:100%;}/*!sc*/
.iKABXH[data-inactive]:not([disabled]){background-color:var(--button-inactive-bgColor,var(--button-inactive-bgColor-rest,var(--color-btn-inactive-bg,#21262d)));border-color:var(--button-inactive-bgColor,var(--button-inactive-bgColor-rest,var(--color-btn-inactive-bg,#21262d)));color:var(--button-inactive-fgColor,var(--button-inactive-fgColor-rest,var(--color-btn-inactive-text,#8b949e)));}/*!sc*/
.iKABXH[data-inactive]:not([disabled]):focus-visible{box-shadow:none;}/*!sc*/
.iKABXH [data-component="leadingVisual"]{grid-area:leadingVisual;color:var(--fgColor-muted,var(--color-fg-muted,#848d97));}/*!sc*/
.iKABXH [data-component="text"]{grid-area:text;line-height:calc(20/14);white-space:nowrap;}/*!sc*/
.iKABXH [data-component="trailingVisual"]{grid-area:trailingVisual;}/*!sc*/
.iKABXH [data-component="trailingAction"]{margin-right:-4px;color:var(--fgColor-muted,var(--color-fg-muted,#848d97));}/*!sc*/
.iKABXH [data-component="buttonContent"]{-webkit-flex:1 0 auto;-ms-flex:1 0 auto;flex:1 0 auto;display:grid;grid-template-areas:"leadingVisual text trailingVisual";grid-template-columns:min-content minmax(0,auto) min-content;-webkit-align-items:center;-webkit-box-align:center;-ms-flex-align:center;align-items:center;-webkit-align-content:center;-ms-flex-line-pack:center;align-content:center;}/*!sc*/
.iKABXH [data-component="buttonContent"] > :not(:last-child){margin-right:8px;}/*!sc*/
.iKABXH:hover:not([disabled]){background-color:var(--control-transparent-bgColor-hover,var(--color-action-list-item-default-hover-bg,rgba(177,186,196,0.12)));}/*!sc*/
.iKABXH:active:not([disabled]){background-color:var(--control-transparent-bgColor-active,var(--color-action-list-item-default-active-bg,rgba(177,186,196,0.2)));}/*!sc*/
.iKABXH[aria-expanded=true]{background-color:var(--control-transparent-bgColor-selected,var(--color-action-list-item-default-selected-bg,rgba(177,186,196,0.08)));}/*!sc*/
.iKABXH[data-component="IconButton"][data-no-visuals]{color:var(--fgColor-muted,var(--color-fg-muted,#848d97));}/*!sc*/
.iKABXH[data-no-visuals]{color:var(--fgColor-accent,var(--color-accent-fg,#2f81f7));}/*!sc*/
.iKABXH:has([data-component="ButtonCounter"]){color:var(--button-default-fgColor-rest,var(--color-btn-text,#c9d1d9));}/*!sc*/
.iKABXH:disabled[data-no-visuals]{color:var(--fgColor-disabled,var(--color-primer-fg-disabled,#484f58));}/*!sc*/
.iKABXH:disabled[data-no-visuals] [data-component=ButtonCounter]{color:inherit;}/*!sc*/
.iKABXH{color:var(--fgColor-muted,var(--color-fg-muted,#848d97));padding-left:8px;padding-right:8px;display:none;}/*!sc*/
@media screen and (max-width:768px){.iKABXH{display:block;}}/*!sc*/
.hfWObv{border-radius:6px;border:1px solid;border-color:transparent;font-family:inherit;font-weight:500;font-size:14px;cursor:pointer;-webkit-appearance:none;-moz-appearance:none;appearance:none;-webkit-user-select:none;-moz-user-select:none;-ms-user-select:none;user-select:none;-webkit-text-decoration:none;text-decoration:none;text-align:center;display:-webkit-box;display:-webkit-flex;display:-ms-flexbox;display:flex;-webkit-align-items:center;-webkit-box-align:center;-ms-flex-align:center;align-items:center;-webkit-box-pack:justify;-webkit-justify-content:space-between;-ms-flex-pack:justify;justify-content:space-between;height:32px;padding:0 12px;gap:8px;min-width:-webkit-max-content;min-width:-moz-max-content;min-width:max-content;-webkit-transition:80ms cubic-bezier(0.65,0,0.35,1);transition:80ms cubic-bezier(0.65,0,0.35,1);-webkit-transition-property:color,fill,background-color,border-color;transition-property:color,fill,background-color,border-color;color:var(--button-default-fgColor-rest,var(--color-btn-text,#c9d1d9));background-color:transparent;box-shadow:none;}/*!sc*/
.hfWObv:focus:not(:disabled){box-shadow:none;outline:2px solid var(--fgColor-accent,var(--color-accent-fg,#2f81f7));outline-offset:-2px;}/*!sc*/
.hfWObv:focus:not(:disabled):not(:focus-visible){outline:solid 1px transparent;}/*!sc*/
.hfWObv:focus-visible:not(:disabled){box-shadow:none;outline:2px solid var(--fgColor-accent,var(--color-accent-fg,#2f81f7));outline-offset:-2px;}/*!sc*/
.hfWObv[href]{display:-webkit-inline-box;display:-webkit-inline-flex;display:-ms-inline-flexbox;display:inline-flex;}/*!sc*/
.hfWObv[href]:hover{-webkit-text-decoration:none;text-decoration:none;}/*!sc*/
.hfWObv:hover{-webkit-transition-duration:80ms;transition-duration:80ms;}/*!sc*/
.hfWObv:active{-webkit-transition:none;transition:none;}/*!sc*/
.hfWObv[data-inactive]{cursor:auto;}/*!sc*/
.hfWObv:disabled{cursor:not-allowed;box-shadow:none;color:var(--fgColor-disabled,var(--color-primer-fg-disabled,#484f58));}/*!sc*/
.hfWObv:disabled [data-component=ButtonCounter],.hfWObv:disabled [data-component="leadingVisual"],.hfWObv:disabled [data-component="trailingAction"]{color:inherit;}/*!sc*/
@media (forced-colors:active){.hfWObv:focus{outline:solid 1px transparent;}}/*!sc*/
.hfWObv [data-component=ButtonCounter]{font-size:12px;}/*!sc*/
.hfWObv[data-component=IconButton]{display:inline-grid;padding:unset;place-content:center;width:32px;min-width:unset;}/*!sc*/
.hfWObv[data-size="small"]{padding:0 8px;height:28px;gap:4px;font-size:12px;}/*!sc*/
.hfWObv[data-size="small"] [data-component="text"]{line-height:calc(20 / 12);}/*!sc*/
.hfWObv[data-size="small"] [data-component=ButtonCounter]{font-size:12px;}/*!sc*/
.hfWObv[data-size="small"] [data-component="buttonContent"] > :not(:last-child){margin-right:4px;}/*!sc*/
.hfWObv[data-size="small"][data-component=IconButton]{width:28px;padding:unset;}/*!sc*/
.hfWObv[data-size="large"]{padding:0 16px;height:40px;gap:8px;}/*!sc*/
.hfWObv[data-size="large"] [data-component="buttonContent"] > :not(:last-child){margin-right:8px;}/*!sc*/
.hfWObv[data-size="large"][data-component=IconButton]{width:40px;padding:unset;}/*!sc*/
.hfWObv[data-block="block"]{width:100%;}/*!sc*/
.hfWObv[data-inactive]:not([disabled]){background-color:var(--button-inactive-bgColor,var(--button-inactive-bgColor-rest,var(--color-btn-inactive-bg,#21262d)));border-color:var(--button-inactive-bgColor,var(--button-inactive-bgColor-rest,var(--color-btn-inactive-bg,#21262d)));color:var(--button-inactive-fgColor,var(--button-inactive-fgColor-rest,var(--color-btn-inactive-text,#8b949e)));}/*!sc*/
.hfWObv[data-inactive]:not([disabled]):focus-visible{box-shadow:none;}/*!sc*/
.hfWObv [data-component="leadingVisual"]{grid-area:leadingVisual;color:var(--fgColor-muted,var(--color-fg-muted,#848d97));}/*!sc*/
.hfWObv [data-component="text"]{grid-area:text;line-height:calc(20/14);white-space:nowrap;}/*!sc*/
.hfWObv [data-component="trailingVisual"]{grid-area:trailingVisual;}/*!sc*/
.hfWObv [data-component="trailingAction"]{margin-right:-4px;color:var(--fgColor-muted,var(--color-fg-muted,#848d97));}/*!sc*/
.hfWObv [data-component="buttonContent"]{-webkit-flex:1 0 auto;-ms-flex:1 0 auto;flex:1 0 auto;display:grid;grid-template-areas:"leadingVisual text trailingVisual";grid-template-columns:min-content minmax(0,auto) min-content;-webkit-align-items:center;-webkit-box-align:center;-ms-flex-align:center;align-items:center;-webkit-align-content:center;-ms-flex-line-pack:center;align-content:center;}/*!sc*/
.hfWObv [data-component="buttonContent"] > :not(:last-child){margin-right:8px;}/*!sc*/
.hfWObv:hover:not([disabled]){background-color:var(--control-transparent-bgColor-hover,var(--color-action-list-item-default-hover-bg,rgba(177,186,196,0.12)));}/*!sc*/
.hfWObv:active:not([disabled]){background-color:var(--control-transparent-bgColor-active,var(--color-action-list-item-default-active-bg,rgba(177,186,196,0.2)));}/*!sc*/
.hfWObv[aria-expanded=true]{background-color:var(--control-transparent-bgColor-selected,var(--color-action-list-item-default-selected-bg,rgba(177,186,196,0.08)));}/*!sc*/
.hfWObv[data-component="IconButton"][data-no-visuals]{color:var(--fgColor-muted,var(--color-fg-muted,#848d97));}/*!sc*/
.hfWObv[data-no-visuals]{color:var(--fgColor-muted,var(--color-fg-muted,#848d97));height:32px;position:relative;}/*!sc*/
@media screen and (max-width:768px){.hfWObv[data-no-visuals]{display:none;}}/*!sc*/
.hfWObv:has([data-component="ButtonCounter"]){color:var(--button-default-fgColor-rest,var(--color-btn-text,#c9d1d9));}/*!sc*/
.hfWObv:disabled[data-no-visuals]{color:var(--fgColor-disabled,var(--color-primer-fg-disabled,#484f58));}/*!sc*/
.hfWObv:disabled[data-no-visuals] [data-component=ButtonCounter]{color:inherit;}/*!sc*/
.gBsjGI{border-radius:6px;border:1px solid;border-color:var(--button-default-borderColor-rest,var(--button-default-borderColor-rest,var(--color-btn-border,rgba(240,246,252,0.1))));font-family:inherit;font-weight:500;font-size:14px;cursor:pointer;-webkit-appearance:none;-moz-appearance:none;appearance:none;-webkit-user-select:none;-moz-user-select:none;-ms-user-select:none;user-select:none;-webkit-text-decoration:none;text-decoration:none;text-align:center;display:-webkit-box;display:-webkit-flex;display:-ms-flexbox;display:flex;-webkit-align-items:center;-webkit-box-align:center;-ms-flex-align:center;align-items:center;-webkit-box-pack:justify;-webkit-justify-content:space-between;-ms-flex-pack:justify;justify-content:space-between;height:32px;padding:0 12px;gap:8px;min-width:-webkit-max-content;min-width:-moz-max-content;min-width:max-content;-webkit-transition:80ms cubic-bezier(0.65,0,0.35,1);transition:80ms cubic-bezier(0.65,0,0.35,1);-webkit-transition-property:color,fill,background-color,border-color;transition-property:color,fill,background-color,border-color;color:var(--button-default-fgColor-rest,var(--color-btn-text,#c9d1d9));background-color:var(--button-default-bgColor-rest,var(--color-btn-bg,#21262d));box-shadow:var(--button-default-shadow-resting,var(--color-btn-shadow,0 0 transparent)),var(--button-default-shadow-inset,var(--color-btn-inset-shadow,0 0 transparent));}/*!sc*/
.gBsjGI:focus:not(:disabled){box-shadow:none;outline:2px solid var(--fgColor-accent,var(--color-accent-fg,#2f81f7));outline-offset:-2px;}/*!sc*/
.gBsjGI:focus:not(:disabled):not(:focus-visible){outline:solid 1px transparent;}/*!sc*/
.gBsjGI:focus-visible:not(:disabled){box-shadow:none;outline:2px solid var(--fgColor-accent,var(--color-accent-fg,#2f81f7));outline-offset:-2px;}/*!sc*/
.gBsjGI[href]{display:-webkit-inline-box;display:-webkit-inline-flex;display:-ms-inline-flexbox;display:inline-flex;}/*!sc*/
.gBsjGI[href]:hover{-webkit-text-decoration:none;text-decoration:none;}/*!sc*/
.gBsjGI:hover{-webkit-transition-duration:80ms;transition-duration:80ms;}/*!sc*/
.gBsjGI:active{-webkit-transition:none;transition:none;}/*!sc*/
.gBsjGI[data-inactive]{cursor:auto;}/*!sc*/
.gBsjGI:disabled{cursor:not-allowed;box-shadow:none;color:var(--fgColor-disabled,var(--color-primer-fg-disabled,#484f58));border-color:var(--button-default-borderColor-disabled,var(--button-default-borderColor-rest,var(--color-btn-border,rgba(240,246,252,0.1))));background-color:var(--button-default-bgColor-disabled,var(--control-bgColor-disabled,var(--color-input-disabled-bg,rgba(110,118,129,0))));}/*!sc*/
.gBsjGI:disabled [data-component=ButtonCounter]{color:inherit;}/*!sc*/
@media (forced-colors:active){.gBsjGI:focus{outline:solid 1px transparent;}}/*!sc*/
.gBsjGI [data-component=ButtonCounter]{font-size:12px;background-color:var(--buttonCounter-default-bgColor-rest,var(--color-btn-counter-bg,#30363d));}/*!sc*/
.gBsjGI[data-component=IconButton]{display:inline-grid;padding:unset;place-content:center;width:32px;min-width:unset;}/*!sc*/
.gBsjGI[data-size="small"]{padding:0 8px;height:28px;gap:4px;font-size:12px;}/*!sc*/
.gBsjGI[data-size="small"] [data-component="text"]{line-height:calc(20 / 12);}/*!sc*/
.gBsjGI[data-size="small"] [data-component=ButtonCounter]{font-size:12px;}/*!sc*/
.gBsjGI[data-size="small"] [data-component="buttonContent"] > :not(:last-child){margin-right:4px;}/*!sc*/
.gBsjGI[data-size="small"][data-component=IconButton]{width:28px;padding:unset;}/*!sc*/
.gBsjGI[data-size="large"]{padding:0 16px;height:40px;gap:8px;}/*!sc*/
.gBsjGI[data-size="large"] [data-component="buttonContent"] > :not(:last-child){margin-right:8px;}/*!sc*/
.gBsjGI[data-size="large"][data-component=IconButton]{width:40px;padding:unset;}/*!sc*/
.gBsjGI[data-block="block"]{width:100%;}/*!sc*/
.gBsjGI[data-inactive]:not([disabled]){background-color:var(--button-inactive-bgColor,var(--button-inactive-bgColor-rest,var(--color-btn-inactive-bg,#21262d)));border-color:var(--button-inactive-bgColor,var(--button-inactive-bgColor-rest,var(--color-btn-inactive-bg,#21262d)));color:var(--button-inactive-fgColor,var(--button-inactive-fgColor-rest,var(--color-btn-inactive-text,#8b949e)));}/*!sc*/
.gBsjGI[data-inactive]:not([disabled]):focus-visible{box-shadow:none;}/*!sc*/
.gBsjGI [data-component="leadingVisual"]{grid-area:leadingVisual;}/*!sc*/
.gBsjGI [data-component="text"]{grid-area:text;line-height:calc(20/14);white-space:nowrap;}/*!sc*/
.gBsjGI [data-component="trailingVisual"]{grid-area:trailingVisual;}/*!sc*/
.gBsjGI [data-component="trailingAction"]{margin-right:-4px;}/*!sc*/
.gBsjGI [data-component="buttonContent"]{-webkit-flex:1 0 auto;-ms-flex:1 0 auto;flex:1 0 auto;display:grid;grid-template-areas:"leadingVisual text trailingVisual";grid-template-columns:min-content minmax(0,auto) min-content;-webkit-align-items:center;-webkit-box-align:center;-ms-flex-align:center;align-items:center;-webkit-align-content:center;-ms-flex-line-pack:center;align-content:center;}/*!sc*/
.gBsjGI [data-component="buttonContent"] > :not(:last-child){margin-right:8px;}/*!sc*/
.gBsjGI:hover:not([disabled]):not([data-inactive]){background-color:var(--button-default-bgColor-hover,var(--color-btn-hover-bg,#30363d));border-color:var(--button-default-borderColor-hover,var(--button-default-borderColor-hover,var(--color-btn-hover-border,#8b949e)));}/*!sc*/
.gBsjGI:active:not([disabled]):not([data-inactive]){background-color:var(--button-default-bgColor-active,var(--color-btn-active-bg,hsla(212,12%,18%,1)));border-color:var(--button-default-borderColor-active,var(--button-default-borderColor-active,var(--color-btn-active-border,#6e7681)));}/*!sc*/
.gBsjGI[aria-expanded=true]{background-color:var(--button-default-bgColor-active,var(--color-btn-active-bg,hsla(212,12%,18%,1)));border-color:var(--button-default-borderColor-active,var(--button-default-borderColor-active,var(--color-btn-active-border,#6e7681)));}/*!sc*/
.gBsjGI [data-component="leadingVisual"],.gBsjGI [data-component="trailingVisual"],.gBsjGI [data-component="trailingAction"]{color:var(--button-color,var(--fgColor-muted,var(--color-fg-muted,#848d97)));}/*!sc*/
.gBsjGI[data-component="IconButton"][data-no-visuals]{color:var(--fgColor-muted,var(--color-fg-muted,#848d97));}/*!sc*/
.gBsjGI{display:-webkit-box;display:-webkit-flex;display:-ms-flexbox;display:flex;min-width:0;}/*!sc*/
.gBsjGI svg{color:var(--fgColor-muted,var(--color-fg-muted,#848d97));}/*!sc*/
.gBsjGI > span{width:inherit;}/*!sc*/
.XJZbf{border-radius:6px;border:1px solid;border-color:var(--button-default-borderColor-rest,var(--button-default-borderColor-rest,var(--color-btn-border,rgba(240,246,252,0.1))));font-family:inherit;font-weight:500;font-size:14px;cursor:pointer;-webkit-appearance:none;-moz-appearance:none;appearance:none;-webkit-user-select:none;-moz-user-select:none;-ms-user-select:none;user-select:none;-webkit-text-decoration:none;text-decoration:none;text-align:center;display:-webkit-box;display:-webkit-flex;display:-ms-flexbox;display:flex;-webkit-align-items:center;-webkit-box-align:center;-ms-flex-align:center;align-items:center;-webkit-box-pack:justify;-webkit-justify-content:space-between;-ms-flex-pack:justify;justify-content:space-between;height:32px;padding:0 12px;gap:8px;min-width:-webkit-max-content;min-width:-moz-max-content;min-width:max-content;-webkit-transition:80ms cubic-bezier(0.65,0,0.35,1);transition:80ms cubic-bezier(0.65,0,0.35,1);-webkit-transition-property:color,fill,background-color,border-color;transition-property:color,fill,background-color,border-color;color:var(--button-default-fgColor-rest,var(--color-btn-text,#c9d1d9));background-color:var(--button-default-bgColor-rest,var(--color-btn-bg,#21262d));box-shadow:var(--button-default-shadow-resting,var(--color-btn-shadow,0 0 transparent)),var(--button-default-shadow-inset,var(--color-btn-inset-shadow,0 0 transparent));}/*!sc*/
.XJZbf:focus:not(:disabled){box-shadow:none;outline:2px solid var(--fgColor-accent,var(--color-accent-fg,#2f81f7));outline-offset:-2px;}/*!sc*/
.XJZbf:focus:not(:disabled):not(:focus-visible){outline:solid 1px transparent;}/*!sc*/
.XJZbf:focus-visible:not(:disabled){box-shadow:none;outline:2px solid var(--fgColor-accent,var(--color-accent-fg,#2f81f7));outline-offset:-2px;}/*!sc*/
.XJZbf[href]{display:-webkit-inline-box;display:-webkit-inline-flex;display:-ms-inline-flexbox;display:inline-flex;}/*!sc*/
.XJZbf[href]:hover{-webkit-text-decoration:none;text-decoration:none;}/*!sc*/
.XJZbf:hover{-webkit-transition-duration:80ms;transition-duration:80ms;}/*!sc*/
.XJZbf:active{-webkit-transition:none;transition:none;}/*!sc*/
.XJZbf[data-inactive]{cursor:auto;}/*!sc*/
.XJZbf:disabled{cursor:not-allowed;box-shadow:none;color:var(--fgColor-disabled,var(--color-primer-fg-disabled,#484f58));border-color:var(--button-default-borderColor-disabled,var(--button-default-borderColor-rest,var(--color-btn-border,rgba(240,246,252,0.1))));background-color:var(--button-default-bgColor-disabled,var(--control-bgColor-disabled,var(--color-input-disabled-bg,rgba(110,118,129,0))));}/*!sc*/
.XJZbf:disabled [data-component=ButtonCounter]{color:inherit;}/*!sc*/
@media (forced-colors:active){.XJZbf:focus{outline:solid 1px transparent;}}/*!sc*/
.XJZbf [data-component=ButtonCounter]{font-size:12px;background-color:var(--buttonCounter-default-bgColor-rest,var(--color-btn-counter-bg,#30363d));}/*!sc*/
.XJZbf[data-component=IconButton]{display:inline-grid;padding:unset;place-content:center;width:32px;min-width:unset;}/*!sc*/
.XJZbf[data-size="small"]{padding:0 8px;height:28px;gap:4px;font-size:12px;}/*!sc*/
.XJZbf[data-size="small"] [data-component="text"]{line-height:calc(20 / 12);}/*!sc*/
.XJZbf[data-size="small"] [data-component=ButtonCounter]{font-size:12px;}/*!sc*/
.XJZbf[data-size="small"] [data-component="buttonContent"] > :not(:last-child){margin-right:4px;}/*!sc*/
.XJZbf[data-size="small"][data-component=IconButton]{width:28px;padding:unset;}/*!sc*/
.XJZbf[data-size="large"]{padding:0 16px;height:40px;gap:8px;}/*!sc*/
.XJZbf[data-size="large"] [data-component="buttonContent"] > :not(:last-child){margin-right:8px;}/*!sc*/
.XJZbf[data-size="large"][data-component=IconButton]{width:40px;padding:unset;}/*!sc*/
.XJZbf[data-block="block"]{width:100%;}/*!sc*/
.XJZbf[data-inactive]:not([disabled]){background-color:var(--button-inactive-bgColor,var(--button-inactive-bgColor-rest,var(--color-btn-inactive-bg,#21262d)));border-color:var(--button-inactive-bgColor,var(--button-inactive-bgColor-rest,var(--color-btn-inactive-bg,#21262d)));color:var(--button-inactive-fgColor,var(--button-inactive-fgColor-rest,var(--color-btn-inactive-text,#8b949e)));}/*!sc*/
.XJZbf[data-inactive]:not([disabled]):focus-visible{box-shadow:none;}/*!sc*/
.XJZbf [data-component="leadingVisual"]{grid-area:leadingVisual;}/*!sc*/
.XJZbf [data-component="text"]{grid-area:text;line-height:calc(20/14);white-space:nowrap;}/*!sc*/
.XJZbf [data-component="trailingVisual"]{grid-area:trailingVisual;}/*!sc*/
.XJZbf [data-component="trailingAction"]{margin-right:-4px;}/*!sc*/
.XJZbf [data-component="buttonContent"]{-webkit-flex:1 0 auto;-ms-flex:1 0 auto;flex:1 0 auto;display:grid;grid-template-areas:"leadingVisual text trailingVisual";grid-template-columns:min-content minmax(0,auto) min-content;-webkit-align-items:center;-webkit-box-align:center;-ms-flex-align:center;align-items:center;-webkit-align-content:center;-ms-flex-line-pack:center;align-content:center;}/*!sc*/
.XJZbf [data-component="buttonContent"] > :not(:last-child){margin-right:8px;}/*!sc*/
.XJZbf:hover:not([disabled]):not([data-inactive]){background-color:var(--button-default-bgColor-hover,var(--color-btn-hover-bg,#30363d));border-color:var(--button-default-borderColor-hover,var(--button-default-borderColor-hover,var(--color-btn-hover-border,#8b949e)));}/*!sc*/
.XJZbf:active:not([disabled]):not([data-inactive]){background-color:var(--button-default-bgColor-active,var(--color-btn-active-bg,hsla(212,12%,18%,1)));border-color:var(--button-default-borderColor-active,var(--button-default-borderColor-active,var(--color-btn-active-border,#6e7681)));}/*!sc*/
.XJZbf[aria-expanded=true]{background-color:var(--button-default-bgColor-active,var(--color-btn-active-bg,hsla(212,12%,18%,1)));border-color:var(--button-default-borderColor-active,var(--button-default-borderColor-active,var(--color-btn-active-border,#6e7681)));}/*!sc*/
.XJZbf [data-component="leadingVisual"],.XJZbf [data-component="trailingVisual"],.XJZbf [data-component="trailingAction"]{color:var(--button-color,var(--fgColor-muted,var(--color-fg-muted,#848d97)));}/*!sc*/
.XJZbf[data-component="IconButton"][data-no-visuals]{color:var(--fgColor-muted,var(--color-fg-muted,#848d97));}/*!sc*/
.XJZbf[data-no-visuals]{color:var(--fgColor-muted,var(--color-fg-subtle,#6e7681));border-top-right-radius:0;border-bottom-right-radius:0;border-right:0;}/*!sc*/
.cBjhIZ{border-radius:6px;border:1px solid;border-color:var(--button-default-borderColor-rest,var(--button-default-borderColor-rest,var(--color-btn-border,rgba(240,246,252,0.1))));font-family:inherit;font-weight:500;font-size:14px;cursor:pointer;-webkit-appearance:none;-moz-appearance:none;appearance:none;-webkit-user-select:none;-moz-user-select:none;-ms-user-select:none;user-select:none;-webkit-text-decoration:none;text-decoration:none;text-align:center;display:-webkit-box;display:-webkit-flex;display:-ms-flexbox;display:flex;-webkit-align-items:center;-webkit-box-align:center;-ms-flex-align:center;align-items:center;-webkit-box-pack:justify;-webkit-justify-content:space-between;-ms-flex-pack:justify;justify-content:space-between;height:32px;padding:0 12px;gap:8px;min-width:-webkit-max-content;min-width:-moz-max-content;min-width:max-content;-webkit-transition:80ms cubic-bezier(0.65,0,0.35,1);transition:80ms cubic-bezier(0.65,0,0.35,1);-webkit-transition-property:color,fill,background-color,border-color;transition-property:color,fill,background-color,border-color;color:var(--button-default-fgColor-rest,var(--color-btn-text,#c9d1d9));background-color:var(--button-default-bgColor-rest,var(--color-btn-bg,#21262d));box-shadow:var(--button-default-shadow-resting,var(--color-btn-shadow,0 0 transparent)),var(--button-default-shadow-inset,var(--color-btn-inset-shadow,0 0 transparent));}/*!sc*/
.cBjhIZ:focus:not(:disabled){box-shadow:none;outline:2px solid var(--fgColor-accent,var(--color-accent-fg,#2f81f7));outline-offset:-2px;}/*!sc*/
.cBjhIZ:focus:not(:disabled):not(:focus-visible){outline:solid 1px transparent;}/*!sc*/
.cBjhIZ:focus-visible:not(:disabled){box-shadow:none;outline:2px solid var(--fgColor-accent,var(--color-accent-fg,#2f81f7));outline-offset:-2px;}/*!sc*/
.cBjhIZ[href]{display:-webkit-inline-box;display:-webkit-inline-flex;display:-ms-inline-flexbox;display:inline-flex;}/*!sc*/
.cBjhIZ[href]:hover{-webkit-text-decoration:none;text-decoration:none;}/*!sc*/
.cBjhIZ:hover{-webkit-transition-duration:80ms;transition-duration:80ms;}/*!sc*/
.cBjhIZ:active{-webkit-transition:none;transition:none;}/*!sc*/
.cBjhIZ[data-inactive]{cursor:auto;}/*!sc*/
.cBjhIZ:disabled{cursor:not-allowed;box-shadow:none;color:var(--fgColor-disabled,var(--color-primer-fg-disabled,#484f58));border-color:var(--button-default-borderColor-disabled,var(--button-default-borderColor-rest,var(--color-btn-border,rgba(240,246,252,0.1))));background-color:var(--button-default-bgColor-disabled,var(--control-bgColor-disabled,var(--color-input-disabled-bg,rgba(110,118,129,0))));}/*!sc*/
.cBjhIZ:disabled [data-component=ButtonCounter]{color:inherit;}/*!sc*/
@media (forced-colors:active){.cBjhIZ:focus{outline:solid 1px transparent;}}/*!sc*/
.cBjhIZ [data-component=ButtonCounter]{font-size:12px;background-color:var(--buttonCounter-default-bgColor-rest,var(--color-btn-counter-bg,#30363d));}/*!sc*/
.cBjhIZ[data-component=IconButton]{display:inline-grid;padding:unset;place-content:center;width:32px;min-width:unset;}/*!sc*/
.cBjhIZ[data-size="small"]{padding:0 8px;height:28px;gap:4px;font-size:12px;}/*!sc*/
.cBjhIZ[data-size="small"] [data-component="text"]{line-height:calc(20 / 12);}/*!sc*/
.cBjhIZ[data-size="small"] [data-component=ButtonCounter]{font-size:12px;}/*!sc*/
.cBjhIZ[data-size="small"] [data-component="buttonContent"] > :not(:last-child){margin-right:4px;}/*!sc*/
.cBjhIZ[data-size="small"][data-component=IconButton]{width:28px;padding:unset;}/*!sc*/
.cBjhIZ[data-size="large"]{padding:0 16px;height:40px;gap:8px;}/*!sc*/
.cBjhIZ[data-size="large"] [data-component="buttonContent"] > :not(:last-child){margin-right:8px;}/*!sc*/
.cBjhIZ[data-size="large"][data-component=IconButton]{width:40px;padding:unset;}/*!sc*/
.cBjhIZ[data-block="block"]{width:100%;}/*!sc*/
.cBjhIZ[data-inactive]:not([disabled]){background-color:var(--button-inactive-bgColor,var(--button-inactive-bgColor-rest,var(--color-btn-inactive-bg,#21262d)));border-color:var(--button-inactive-bgColor,var(--button-inactive-bgColor-rest,var(--color-btn-inactive-bg,#21262d)));color:var(--button-inactive-fgColor,var(--button-inactive-fgColor-rest,var(--color-btn-inactive-text,#8b949e)));}/*!sc*/
.cBjhIZ[data-inactive]:not([disabled]):focus-visible{box-shadow:none;}/*!sc*/
.cBjhIZ [data-component="leadingVisual"]{grid-area:leadingVisual;}/*!sc*/
.cBjhIZ [data-component="text"]{grid-area:text;line-height:calc(20/14);white-space:nowrap;}/*!sc*/
.cBjhIZ [data-component="trailingVisual"]{grid-area:trailingVisual;}/*!sc*/
.cBjhIZ [data-component="trailingAction"]{margin-right:-4px;}/*!sc*/
.cBjhIZ [data-component="buttonContent"]{-webkit-flex:1 0 auto;-ms-flex:1 0 auto;flex:1 0 auto;display:grid;grid-template-areas:"leadingVisual text trailingVisual";grid-template-columns:min-content minmax(0,auto) min-content;-webkit-align-items:center;-webkit-box-align:center;-ms-flex-align:center;align-items:center;-webkit-align-content:center;-ms-flex-line-pack:center;align-content:center;}/*!sc*/
.cBjhIZ [data-component="buttonContent"] > :not(:last-child){margin-right:8px;}/*!sc*/
.cBjhIZ:hover:not([disabled]):not([data-inactive]){background-color:var(--button-default-bgColor-hover,var(--color-btn-hover-bg,#30363d));border-color:var(--button-default-borderColor-hover,var(--button-default-borderColor-hover,var(--color-btn-hover-border,#8b949e)));}/*!sc*/
.cBjhIZ:active:not([disabled]):not([data-inactive]){background-color:var(--button-default-bgColor-active,var(--color-btn-active-bg,hsla(212,12%,18%,1)));border-color:var(--button-default-borderColor-active,var(--button-default-borderColor-active,var(--color-btn-active-border,#6e7681)));}/*!sc*/
.cBjhIZ[aria-expanded=true]{background-color:var(--button-default-bgColor-active,var(--color-btn-active-bg,hsla(212,12%,18%,1)));border-color:var(--button-default-borderColor-active,var(--button-default-borderColor-active,var(--color-btn-active-border,#6e7681)));}/*!sc*/
.cBjhIZ [data-component="leadingVisual"],.cBjhIZ [data-component="trailingVisual"],.cBjhIZ [data-component="trailingAction"]{color:var(--button-color,var(--fgColor-muted,var(--color-fg-muted,#848d97)));}/*!sc*/
.cBjhIZ[data-component="IconButton"][data-no-visuals]{color:var(--fgColor-muted,var(--color-fg-muted,#848d97));}/*!sc*/
.cBjhIZ[data-no-visuals]{color:var(--fgColor-muted,var(--color-fg-subtle,#6e7681));font-size:14px;font-weight:400;-webkit-flex-shrink:0;-ms-flex-negative:0;flex-shrink:0;border-top-left-radius:0;border-bottom-left-radius:0;}/*!sc*/
.IIGly{border-radius:6px;border:1px solid;border-color:transparent;font-family:inherit;font-weight:500;font-size:14px;cursor:pointer;-webkit-appearance:none;-moz-appearance:none;appearance:none;-webkit-user-select:none;-moz-user-select:none;-ms-user-select:none;user-select:none;-webkit-text-decoration:none;text-decoration:none;text-align:center;display:-webkit-box;display:-webkit-flex;display:-ms-flexbox;display:flex;-webkit-align-items:center;-webkit-box-align:center;-ms-flex-align:center;align-items:center;-webkit-box-pack:justify;-webkit-justify-content:space-between;-ms-flex-pack:justify;justify-content:space-between;height:32px;padding:0 12px;gap:8px;min-width:-webkit-max-content;min-width:-moz-max-content;min-width:max-content;-webkit-transition:80ms cubic-bezier(0.65,0,0.35,1);transition:80ms cubic-bezier(0.65,0,0.35,1);-webkit-transition-property:color,fill,background-color,border-color;transition-property:color,fill,background-color,border-color;color:var(--button-default-fgColor-rest,var(--color-btn-text,#c9d1d9));background-color:transparent;box-shadow:none;}/*!sc*/
.IIGly:focus:not(:disabled){box-shadow:none;outline:2px solid var(--fgColor-accent,var(--color-accent-fg,#2f81f7));outline-offset:-2px;}/*!sc*/
.IIGly:focus:not(:disabled):not(:focus-visible){outline:solid 1px transparent;}/*!sc*/
.IIGly:focus-visible:not(:disabled){box-shadow:none;outline:2px solid var(--fgColor-accent,var(--color-accent-fg,#2f81f7));outline-offset:-2px;}/*!sc*/
.IIGly[href]{display:-webkit-inline-box;display:-webkit-inline-flex;display:-ms-inline-flexbox;display:inline-flex;}/*!sc*/
.IIGly[href]:hover{-webkit-text-decoration:none;text-decoration:none;}/*!sc*/
.IIGly:hover{-webkit-transition-duration:80ms;transition-duration:80ms;}/*!sc*/
.IIGly:active{-webkit-transition:none;transition:none;}/*!sc*/
.IIGly[data-inactive]{cursor:auto;}/*!sc*/
.IIGly:disabled{cursor:not-allowed;box-shadow:none;color:var(--fgColor-disabled,var(--color-primer-fg-disabled,#484f58));}/*!sc*/
.IIGly:disabled [data-component=ButtonCounter],.IIGly:disabled [data-component="leadingVisual"],.IIGly:disabled [data-component="trailingAction"]{color:inherit;}/*!sc*/
@media (forced-colors:active){.IIGly:focus{outline:solid 1px transparent;}}/*!sc*/
.IIGly [data-component=ButtonCounter]{font-size:12px;}/*!sc*/
.IIGly[data-component=IconButton]{display:inline-grid;padding:unset;place-content:center;width:32px;min-width:unset;}/*!sc*/
.IIGly[data-size="small"]{padding:0 8px;height:28px;gap:4px;font-size:12px;}/*!sc*/
.IIGly[data-size="small"] [data-component="text"]{line-height:calc(20 / 12);}/*!sc*/
.IIGly[data-size="small"] [data-component=ButtonCounter]{font-size:12px;}/*!sc*/
.IIGly[data-size="small"] [data-component="buttonContent"] > :not(:last-child){margin-right:4px;}/*!sc*/
.IIGly[data-size="small"][data-component=IconButton]{width:28px;padding:unset;}/*!sc*/
.IIGly[data-size="large"]{padding:0 16px;height:40px;gap:8px;}/*!sc*/
.IIGly[data-size="large"] [data-component="buttonContent"] > :not(:last-child){margin-right:8px;}/*!sc*/
.IIGly[data-size="large"][data-component=IconButton]{width:40px;padding:unset;}/*!sc*/
.IIGly[data-block="block"]{width:100%;}/*!sc*/
.IIGly[data-inactive]:not([disabled]){background-color:var(--button-inactive-bgColor,var(--button-inactive-bgColor-rest,var(--color-btn-inactive-bg,#21262d)));border-color:var(--button-inactive-bgColor,var(--button-inactive-bgColor-rest,var(--color-btn-inactive-bg,#21262d)));color:var(--button-inactive-fgColor,var(--button-inactive-fgColor-rest,var(--color-btn-inactive-text,#8b949e)));}/*!sc*/
.IIGly[data-inactive]:not([disabled]):focus-visible{box-shadow:none;}/*!sc*/
.IIGly [data-component="leadingVisual"]{grid-area:leadingVisual;color:var(--fgColor-muted,var(--color-fg-muted,#848d97));}/*!sc*/
.IIGly [data-component="text"]{grid-area:text;line-height:calc(20/14);white-space:nowrap;}/*!sc*/
.IIGly [data-component="trailingVisual"]{grid-area:trailingVisual;}/*!sc*/
.IIGly [data-component="trailingAction"]{margin-right:-4px;color:var(--fgColor-muted,var(--color-fg-muted,#848d97));}/*!sc*/
.IIGly [data-component="buttonContent"]{-webkit-flex:1 0 auto;-ms-flex:1 0 auto;flex:1 0 auto;display:grid;grid-template-areas:"leadingVisual text trailingVisual";grid-template-columns:min-content minmax(0,auto) min-content;-webkit-align-items:center;-webkit-box-align:center;-ms-flex-align:center;align-items:center;-webkit-align-content:center;-ms-flex-line-pack:center;align-content:center;}/*!sc*/
.IIGly [data-component="buttonContent"] > :not(:last-child){margin-right:8px;}/*!sc*/
.IIGly:hover:not([disabled]){background-color:var(--control-transparent-bgColor-hover,var(--color-action-list-item-default-hover-bg,rgba(177,186,196,0.12)));}/*!sc*/
.IIGly:active:not([disabled]){background-color:var(--control-transparent-bgColor-active,var(--color-action-list-item-default-active-bg,rgba(177,186,196,0.2)));}/*!sc*/
.IIGly[aria-expanded=true]{background-color:var(--control-transparent-bgColor-selected,var(--color-action-list-item-default-selected-bg,rgba(177,186,196,0.08)));}/*!sc*/
.IIGly[data-component="IconButton"][data-no-visuals]{color:var(--fgColor-muted,var(--color-fg-muted,#848d97));}/*!sc*/
.IIGly[data-no-visuals]{color:var(--fgColor-accent,var(--color-accent-fg,#2f81f7));}/*!sc*/
.IIGly:has([data-component="ButtonCounter"]){color:var(--button-default-fgColor-rest,var(--color-btn-text,#c9d1d9));}/*!sc*/
.IIGly:disabled[data-no-visuals]{color:var(--fgColor-disabled,var(--color-primer-fg-disabled,#484f58));}/*!sc*/
.IIGly:disabled[data-no-visuals] [data-component=ButtonCounter]{color:inherit;}/*!sc*/
.IIGly[data-size="small"][data-no-visuals]{margin-left:8px;}/*!sc*/
.fXsbsD{border-radius:6px;border:1px solid;border-color:var(--button-default-borderColor-rest,var(--button-default-borderColor-rest,var(--color-btn-border,rgba(240,246,252,0.1))));font-family:inherit;font-weight:500;font-size:14px;cursor:pointer;-webkit-appearance:none;-moz-appearance:none;appearance:none;-webkit-user-select:none;-moz-user-select:none;-ms-user-select:none;user-select:none;-webkit-text-decoration:none;text-decoration:none;text-align:center;display:-webkit-box;display:-webkit-flex;display:-ms-flexbox;display:flex;-webkit-align-items:center;-webkit-box-align:center;-ms-flex-align:center;align-items:center;-webkit-box-pack:justify;-webkit-justify-content:space-between;-ms-flex-pack:justify;justify-content:space-between;height:32px;padding:0 12px;gap:8px;min-width:-webkit-max-content;min-width:-moz-max-content;min-width:max-content;-webkit-transition:80ms cubic-bezier(0.65,0,0.35,1);transition:80ms cubic-bezier(0.65,0,0.35,1);-webkit-transition-property:color,fill,background-color,border-color;transition-property:color,fill,background-color,border-color;color:var(--button-default-fgColor-rest,var(--color-btn-text,#c9d1d9));background-color:var(--button-default-bgColor-rest,var(--color-btn-bg,#21262d));box-shadow:var(--button-default-shadow-resting,var(--color-btn-shadow,0 0 transparent)),var(--button-default-shadow-inset,var(--color-btn-inset-shadow,0 0 transparent));}/*!sc*/
.fXsbsD:focus:not(:disabled){box-shadow:none;outline:2px solid var(--fgColor-accent,var(--color-accent-fg,#2f81f7));outline-offset:-2px;}/*!sc*/
.fXsbsD:focus:not(:disabled):not(:focus-visible){outline:solid 1px transparent;}/*!sc*/
.fXsbsD:focus-visible:not(:disabled){box-shadow:none;outline:2px solid var(--fgColor-accent,var(--color-accent-fg,#2f81f7));outline-offset:-2px;}/*!sc*/
.fXsbsD[href]{display:-webkit-inline-box;display:-webkit-inline-flex;display:-ms-inline-flexbox;display:inline-flex;}/*!sc*/
.fXsbsD[href]:hover{-webkit-text-decoration:none;text-decoration:none;}/*!sc*/
.fXsbsD:hover{-webkit-transition-duration:80ms;transition-duration:80ms;}/*!sc*/
.fXsbsD:active{-webkit-transition:none;transition:none;}/*!sc*/
.fXsbsD[data-inactive]{cursor:auto;}/*!sc*/
.fXsbsD:disabled{cursor:not-allowed;box-shadow:none;color:var(--fgColor-disabled,var(--color-primer-fg-disabled,#484f58));border-color:var(--button-default-borderColor-disabled,var(--button-default-borderColor-rest,var(--color-btn-border,rgba(240,246,252,0.1))));background-color:var(--button-default-bgColor-disabled,var(--control-bgColor-disabled,var(--color-input-disabled-bg,rgba(110,118,129,0))));}/*!sc*/
.fXsbsD:disabled [data-component=ButtonCounter]{color:inherit;}/*!sc*/
@media (forced-colors:active){.fXsbsD:focus{outline:solid 1px transparent;}}/*!sc*/
.fXsbsD [data-component=ButtonCounter]{font-size:12px;background-color:var(--buttonCounter-default-bgColor-rest,var(--color-btn-counter-bg,#30363d));}/*!sc*/
.fXsbsD[data-component=IconButton]{display:inline-grid;padding:unset;place-content:center;width:32px;min-width:unset;}/*!sc*/
.fXsbsD[data-size="small"]{padding:0 8px;height:28px;gap:4px;font-size:12px;}/*!sc*/
.fXsbsD[data-size="small"] [data-component="text"]{line-height:calc(20 / 12);}/*!sc*/
.fXsbsD[data-size="small"] [data-component=ButtonCounter]{font-size:12px;}/*!sc*/
.fXsbsD[data-size="small"] [data-component="buttonContent"] > :not(:last-child){margin-right:4px;}/*!sc*/
.fXsbsD[data-size="small"][data-component=IconButton]{width:28px;padding:unset;}/*!sc*/
.fXsbsD[data-size="large"]{padding:0 16px;height:40px;gap:8px;}/*!sc*/
.fXsbsD[data-size="large"] [data-component="buttonContent"] > :not(:last-child){margin-right:8px;}/*!sc*/
.fXsbsD[data-size="large"][data-component=IconButton]{width:40px;padding:unset;}/*!sc*/
.fXsbsD[data-block="block"]{width:100%;}/*!sc*/
.fXsbsD[data-inactive]:not([disabled]){background-color:var(--button-inactive-bgColor,var(--button-inactive-bgColor-rest,var(--color-btn-inactive-bg,#21262d)));border-color:var(--button-inactive-bgColor,var(--button-inactive-bgColor-rest,var(--color-btn-inactive-bg,#21262d)));color:var(--button-inactive-fgColor,var(--button-inactive-fgColor-rest,var(--color-btn-inactive-text,#8b949e)));}/*!sc*/
.fXsbsD[data-inactive]:not([disabled]):focus-visible{box-shadow:none;}/*!sc*/
.fXsbsD [data-component="leadingVisual"]{grid-area:leadingVisual;}/*!sc*/
.fXsbsD [data-component="text"]{grid-area:text;line-height:calc(20/14);white-space:nowrap;}/*!sc*/
.fXsbsD [data-component="trailingVisual"]{grid-area:trailingVisual;}/*!sc*/
.fXsbsD [data-component="trailingAction"]{margin-right:-4px;}/*!sc*/
.fXsbsD [data-component="buttonContent"]{-webkit-flex:1 0 auto;-ms-flex:1 0 auto;flex:1 0 auto;display:grid;grid-template-areas:"leadingVisual text trailingVisual";grid-template-columns:min-content minmax(0,auto) min-content;-webkit-align-items:center;-webkit-box-align:center;-ms-flex-align:center;align-items:center;-webkit-align-content:center;-ms-flex-line-pack:center;align-content:center;}/*!sc*/
.fXsbsD [data-component="buttonContent"] > :not(:last-child){margin-right:8px;}/*!sc*/
.fXsbsD:hover:not([disabled]):not([data-inactive]){background-color:var(--button-default-bgColor-hover,var(--color-btn-hover-bg,#30363d));border-color:var(--button-default-borderColor-hover,var(--button-default-borderColor-hover,var(--color-btn-hover-border,#8b949e)));}/*!sc*/
.fXsbsD:active:not([disabled]):not([data-inactive]){background-color:var(--button-default-bgColor-active,var(--color-btn-active-bg,hsla(212,12%,18%,1)));border-color:var(--button-default-borderColor-active,var(--button-default-borderColor-active,var(--color-btn-active-border,#6e7681)));}/*!sc*/
.fXsbsD[aria-expanded=true]{background-color:var(--button-default-bgColor-active,var(--color-btn-active-bg,hsla(212,12%,18%,1)));border-color:var(--button-default-borderColor-active,var(--button-default-borderColor-active,var(--color-btn-active-border,#6e7681)));}/*!sc*/
.fXsbsD [data-component="leadingVisual"],.fXsbsD [data-component="trailingVisual"],.fXsbsD [data-component="trailingAction"]{color:var(--button-color,var(--fgColor-muted,var(--color-fg-muted,#848d97)));}/*!sc*/
.fXsbsD[data-component="IconButton"][data-no-visuals]{color:var(--fgColor-muted,var(--color-fg-muted,#848d97));}/*!sc*/
.fXsbsD[data-no-visuals]{border-top-left-radius:0;border-bottom-left-radius:0;display:none;}/*!sc*/
.hiXxwe{border-radius:6px;border:1px solid;border-color:var(--button-default-borderColor-rest,var(--button-default-borderColor-rest,var(--color-btn-border,rgba(240,246,252,0.1))));font-family:inherit;font-weight:500;font-size:14px;cursor:pointer;-webkit-appearance:none;-moz-appearance:none;appearance:none;-webkit-user-select:none;-moz-user-select:none;-ms-user-select:none;user-select:none;-webkit-text-decoration:none;text-decoration:none;text-align:center;display:-webkit-box;display:-webkit-flex;display:-ms-flexbox;display:flex;-webkit-align-items:center;-webkit-box-align:center;-ms-flex-align:center;align-items:center;-webkit-box-pack:justify;-webkit-justify-content:space-between;-ms-flex-pack:justify;justify-content:space-between;height:32px;padding:0 12px;gap:8px;min-width:-webkit-max-content;min-width:-moz-max-content;min-width:max-content;-webkit-transition:80ms cubic-bezier(0.65,0,0.35,1);transition:80ms cubic-bezier(0.65,0,0.35,1);-webkit-transition-property:color,fill,background-color,border-color;transition-property:color,fill,background-color,border-color;color:var(--button-default-fgColor-rest,var(--color-btn-text,#c9d1d9));background-color:var(--button-default-bgColor-rest,var(--color-btn-bg,#21262d));box-shadow:var(--button-default-shadow-resting,var(--color-btn-shadow,0 0 transparent)),var(--button-default-shadow-inset,var(--color-btn-inset-shadow,0 0 transparent));}/*!sc*/
.hiXxwe:focus:not(:disabled){box-shadow:none;outline:2px solid var(--fgColor-accent,var(--color-accent-fg,#2f81f7));outline-offset:-2px;}/*!sc*/
.hiXxwe:focus:not(:disabled):not(:focus-visible){outline:solid 1px transparent;}/*!sc*/
.hiXxwe:focus-visible:not(:disabled){box-shadow:none;outline:2px solid var(--fgColor-accent,var(--color-accent-fg,#2f81f7));outline-offset:-2px;}/*!sc*/
.hiXxwe[href]{display:-webkit-inline-box;display:-webkit-inline-flex;display:-ms-inline-flexbox;display:inline-flex;}/*!sc*/
.hiXxwe[href]:hover{-webkit-text-decoration:none;text-decoration:none;}/*!sc*/
.hiXxwe:hover{-webkit-transition-duration:80ms;transition-duration:80ms;}/*!sc*/
.hiXxwe:active{-webkit-transition:none;transition:none;}/*!sc*/
.hiXxwe[data-inactive]{cursor:auto;}/*!sc*/
.hiXxwe:disabled{cursor:not-allowed;box-shadow:none;color:var(--fgColor-disabled,var(--color-primer-fg-disabled,#484f58));border-color:var(--button-default-borderColor-disabled,var(--button-default-borderColor-rest,var(--color-btn-border,rgba(240,246,252,0.1))));background-color:var(--button-default-bgColor-disabled,var(--control-bgColor-disabled,var(--color-input-disabled-bg,rgba(110,118,129,0))));}/*!sc*/
.hiXxwe:disabled [data-component=ButtonCounter]{color:inherit;}/*!sc*/
@media (forced-colors:active){.hiXxwe:focus{outline:solid 1px transparent;}}/*!sc*/
.hiXxwe [data-component=ButtonCounter]{font-size:12px;background-color:var(--buttonCounter-default-bgColor-rest,var(--color-btn-counter-bg,#30363d));}/*!sc*/
.hiXxwe[data-component=IconButton]{display:inline-grid;padding:unset;place-content:center;width:32px;min-width:unset;}/*!sc*/
.hiXxwe[data-size="small"]{padding:0 8px;height:28px;gap:4px;font-size:12px;}/*!sc*/
.hiXxwe[data-size="small"] [data-component="text"]{line-height:calc(20 / 12);}/*!sc*/
.hiXxwe[data-size="small"] [data-component=ButtonCounter]{font-size:12px;}/*!sc*/
.hiXxwe[data-size="small"] [data-component="buttonContent"] > :not(:last-child){margin-right:4px;}/*!sc*/
.hiXxwe[data-size="small"][data-component=IconButton]{width:28px;padding:unset;}/*!sc*/
.hiXxwe[data-size="large"]{padding:0 16px;height:40px;gap:8px;}/*!sc*/
.hiXxwe[data-size="large"] [data-component="buttonContent"] > :not(:last-child){margin-right:8px;}/*!sc*/
.hiXxwe[data-size="large"][data-component=IconButton]{width:40px;padding:unset;}/*!sc*/
.hiXxwe[data-block="block"]{width:100%;}/*!sc*/
.hiXxwe[data-inactive]:not([disabled]){background-color:var(--button-inactive-bgColor,var(--button-inactive-bgColor-rest,var(--color-btn-inactive-bg,#21262d)));border-color:var(--button-inactive-bgColor,var(--button-inactive-bgColor-rest,var(--color-btn-inactive-bg,#21262d)));color:var(--button-inactive-fgColor,var(--button-inactive-fgColor-rest,var(--color-btn-inactive-text,#8b949e)));}/*!sc*/
.hiXxwe[data-inactive]:not([disabled]):focus-visible{box-shadow:none;}/*!sc*/
.hiXxwe [data-component="leadingVisual"]{grid-area:leadingVisual;}/*!sc*/
.hiXxwe [data-component="text"]{grid-area:text;line-height:calc(20/14);white-space:nowrap;}/*!sc*/
.hiXxwe [data-component="trailingVisual"]{grid-area:trailingVisual;}/*!sc*/
.hiXxwe [data-component="trailingAction"]{margin-right:-4px;}/*!sc*/
.hiXxwe [data-component="buttonContent"]{-webkit-flex:1 0 auto;-ms-flex:1 0 auto;flex:1 0 auto;display:grid;grid-template-areas:"leadingVisual text trailingVisual";grid-template-columns:min-content minmax(0,auto) min-content;-webkit-align-items:center;-webkit-box-align:center;-ms-flex-align:center;align-items:center;-webkit-align-content:center;-ms-flex-line-pack:center;align-content:center;}/*!sc*/
.hiXxwe [data-component="buttonContent"] > :not(:last-child){margin-right:8px;}/*!sc*/
.hiXxwe:hover:not([disabled]):not([data-inactive]){background-color:var(--button-default-bgColor-hover,var(--color-btn-hover-bg,#30363d));border-color:var(--button-default-borderColor-hover,var(--button-default-borderColor-hover,var(--color-btn-hover-border,#8b949e)));}/*!sc*/
.hiXxwe:active:not([disabled]):not([data-inactive]){background-color:var(--button-default-bgColor-active,var(--color-btn-active-bg,hsla(212,12%,18%,1)));border-color:var(--button-default-borderColor-active,var(--button-default-borderColor-active,var(--color-btn-active-border,#6e7681)));}/*!sc*/
.hiXxwe[aria-expanded=true]{background-color:var(--button-default-bgColor-active,var(--color-btn-active-bg,hsla(212,12%,18%,1)));border-color:var(--button-default-borderColor-active,var(--button-default-borderColor-active,var(--color-btn-active-border,#6e7681)));}/*!sc*/
.hiXxwe [data-component="leadingVisual"],.hiXxwe [data-component="trailingVisual"],.hiXxwe [data-component="trailingAction"]{color:var(--button-color,var(--fgColor-muted,var(--color-fg-muted,#848d97)));}/*!sc*/
.hiXxwe[data-component="IconButton"][data-no-visuals]{color:var(--fgColor-muted,var(--color-fg-muted,#848d97));}/*!sc*/
.hiXxwe[data-no-visuals]{color:var(--fgColor-muted,var(--color-fg-muted,#848d97));}/*!sc*/
.saA-Dg{border-radius:6px;border:1px solid;border-color:transparent;font-family:inherit;font-weight:500;font-size:14px;cursor:pointer;-webkit-appearance:none;-moz-appearance:none;appearance:none;-webkit-user-select:none;-moz-user-select:none;-ms-user-select:none;user-select:none;-webkit-text-decoration:none;text-decoration:none;text-align:center;display:-webkit-box;display:-webkit-flex;display:-ms-flexbox;display:flex;-webkit-align-items:center;-webkit-box-align:center;-ms-flex-align:center;align-items:center;-webkit-box-pack:justify;-webkit-justify-content:space-between;-ms-flex-pack:justify;justify-content:space-between;height:32px;padding:0 12px;gap:8px;min-width:-webkit-max-content;min-width:-moz-max-content;min-width:max-content;-webkit-transition:80ms cubic-bezier(0.65,0,0.35,1);transition:80ms cubic-bezier(0.65,0,0.35,1);-webkit-transition-property:color,fill,background-color,border-color;transition-property:color,fill,background-color,border-color;color:var(--fgColor-default,var(--color-fg-default,#e6edf3));background-color:transparent;box-shadow:none;}/*!sc*/
.saA-Dg:focus:not(:disabled){box-shadow:none;outline:2px solid var(--fgColor-accent,var(--color-accent-fg,#2f81f7));outline-offset:-2px;}/*!sc*/
.saA-Dg:focus:not(:disabled):not(:focus-visible){outline:solid 1px transparent;}/*!sc*/
.saA-Dg:focus-visible:not(:disabled){box-shadow:none;outline:2px solid var(--fgColor-accent,var(--color-accent-fg,#2f81f7));outline-offset:-2px;}/*!sc*/
.saA-Dg[href]{display:-webkit-inline-box;display:-webkit-inline-flex;display:-ms-inline-flexbox;display:inline-flex;}/*!sc*/
.saA-Dg[href]:hover{-webkit-text-decoration:none;text-decoration:none;}/*!sc*/
.saA-Dg:hover{-webkit-transition-duration:80ms;transition-duration:80ms;}/*!sc*/
.saA-Dg:active{-webkit-transition:none;transition:none;}/*!sc*/
.saA-Dg[data-inactive]{cursor:auto;}/*!sc*/
.saA-Dg:disabled{cursor:not-allowed;box-shadow:none;color:var(--fgColor-disabled,var(--color-primer-fg-disabled,#484f58));}/*!sc*/
.saA-Dg:disabled [data-component=ButtonCounter],.saA-Dg:disabled [data-component="leadingVisual"],.saA-Dg:disabled [data-component="trailingAction"]{color:inherit;}/*!sc*/
@media (forced-colors:active){.saA-Dg:focus{outline:solid 1px transparent;}}/*!sc*/
.saA-Dg [data-component=ButtonCounter]{font-size:12px;}/*!sc*/
.saA-Dg[data-component=IconButton]{display:inline-grid;padding:unset;place-content:center;width:32px;min-width:unset;}/*!sc*/
.saA-Dg[data-size="small"]{padding:0 8px;height:28px;gap:4px;font-size:12px;}/*!sc*/
.saA-Dg[data-size="small"] [data-component="text"]{line-height:calc(20 / 12);}/*!sc*/
.saA-Dg[data-size="small"] [data-component=ButtonCounter]{font-size:12px;}/*!sc*/
.saA-Dg[data-size="small"] [data-component="buttonContent"] > :not(:last-child){margin-right:4px;}/*!sc*/
.saA-Dg[data-size="small"][data-component=IconButton]{width:28px;padding:unset;}/*!sc*/
.saA-Dg[data-size="large"]{padding:0 16px;height:40px;gap:8px;}/*!sc*/
.saA-Dg[data-size="large"] [data-component="buttonContent"] > :not(:last-child){margin-right:8px;}/*!sc*/
.saA-Dg[data-size="large"][data-component=IconButton]{width:40px;padding:unset;}/*!sc*/
.saA-Dg[data-block="block"]{width:100%;}/*!sc*/
.saA-Dg[data-inactive]:not([disabled]){background-color:var(--button-inactive-bgColor,var(--button-inactive-bgColor-rest,var(--color-btn-inactive-bg,#21262d)));border-color:var(--button-inactive-bgColor,var(--button-inactive-bgColor-rest,var(--color-btn-inactive-bg,#21262d)));color:var(--button-inactive-fgColor,var(--button-inactive-fgColor-rest,var(--color-btn-inactive-text,#8b949e)));}/*!sc*/
.saA-Dg[data-inactive]:not([disabled]):focus-visible{box-shadow:none;}/*!sc*/
.saA-Dg [data-component="leadingVisual"]{grid-area:leadingVisual;color:var(--fgColor-muted,var(--color-fg-muted,#848d97));}/*!sc*/
.saA-Dg [data-component="text"]{grid-area:text;line-height:calc(20/14);white-space:nowrap;}/*!sc*/
.saA-Dg [data-component="trailingVisual"]{grid-area:trailingVisual;}/*!sc*/
.saA-Dg [data-component="trailingAction"]{margin-right:-4px;color:var(--fgColor-muted,var(--color-fg-muted,#848d97));}/*!sc*/
.saA-Dg [data-component="buttonContent"]{-webkit-flex:1 0 auto;-ms-flex:1 0 auto;flex:1 0 auto;display:grid;grid-template-areas:"leadingVisual text trailingVisual";grid-template-columns:min-content minmax(0,auto) min-content;-webkit-align-items:center;-webkit-box-align:center;-ms-flex-align:center;align-items:center;-webkit-align-content:center;-ms-flex-line-pack:center;align-content:center;}/*!sc*/
.saA-Dg [data-component="buttonContent"] > :not(:last-child){margin-right:8px;}/*!sc*/
.saA-Dg:hover:not([disabled]){background-color:var(--control-transparent-bgColor-hover,var(--color-action-list-item-default-hover-bg,rgba(177,186,196,0.12)));-webkit-text-decoration:none;text-decoration:none;}/*!sc*/
.saA-Dg:active:not([disabled]){background-color:var(--control-transparent-bgColor-active,var(--color-action-list-item-default-active-bg,rgba(177,186,196,0.2)));-webkit-text-decoration:none;text-decoration:none;}/*!sc*/
.saA-Dg[aria-expanded=true]{background-color:var(--control-transparent-bgColor-selected,var(--color-action-list-item-default-selected-bg,rgba(177,186,196,0.08)));}/*!sc*/
.saA-Dg[data-component="IconButton"][data-no-visuals]{color:var(--fgColor-muted,var(--color-fg-muted,#848d97));}/*!sc*/
.saA-Dg[data-no-visuals]{color:var(--fgColor-accent,var(--color-accent-fg,#2f81f7));}/*!sc*/
.saA-Dg:has([data-component="ButtonCounter"]){color:var(--button-default-fgColor-rest,var(--color-btn-text,#c9d1d9));}/*!sc*/
.saA-Dg:disabled[data-no-visuals]{color:var(--fgColor-disabled,var(--color-primer-fg-disabled,#484f58));}/*!sc*/
.saA-Dg:disabled[data-no-visuals] [data-component=ButtonCounter]{color:inherit;}/*!sc*/
.saA-Dg:focus:not([disabled]){-webkit-text-decoration:none;text-decoration:none;}/*!sc*/
.hhunph{border-radius:6px;border:1px solid;border-color:transparent;font-family:inherit;font-weight:500;font-size:14px;cursor:pointer;-webkit-appearance:none;-moz-appearance:none;appearance:none;-webkit-user-select:none;-moz-user-select:none;-ms-user-select:none;user-select:none;-webkit-text-decoration:none;text-decoration:none;text-align:center;display:-webkit-box;display:-webkit-flex;display:-ms-flexbox;display:flex;-webkit-align-items:center;-webkit-box-align:center;-ms-flex-align:center;align-items:center;-webkit-box-pack:justify;-webkit-justify-content:space-between;-ms-flex-pack:justify;justify-content:space-between;height:32px;padding:0 12px;gap:8px;min-width:-webkit-max-content;min-width:-moz-max-content;min-width:max-content;-webkit-transition:80ms cubic-bezier(0.65,0,0.35,1);transition:80ms cubic-bezier(0.65,0,0.35,1);-webkit-transition-property:color,fill,background-color,border-color;transition-property:color,fill,background-color,border-color;color:var(--button-default-fgColor-rest,var(--color-btn-text,#c9d1d9));background-color:transparent;box-shadow:none;}/*!sc*/
.hhunph:focus:not(:disabled){box-shadow:none;outline:2px solid var(--fgColor-accent,var(--color-accent-fg,#2f81f7));outline-offset:-2px;}/*!sc*/
.hhunph:focus:not(:disabled):not(:focus-visible){outline:solid 1px transparent;}/*!sc*/
.hhunph:focus-visible:not(:disabled){box-shadow:none;outline:2px solid var(--fgColor-accent,var(--color-accent-fg,#2f81f7));outline-offset:-2px;}/*!sc*/
.hhunph[href]{display:-webkit-inline-box;display:-webkit-inline-flex;display:-ms-inline-flexbox;display:inline-flex;}/*!sc*/
.hhunph[href]:hover{-webkit-text-decoration:none;text-decoration:none;}/*!sc*/
.hhunph:hover{-webkit-transition-duration:80ms;transition-duration:80ms;}/*!sc*/
.hhunph:active{-webkit-transition:none;transition:none;}/*!sc*/
.hhunph[data-inactive]{cursor:auto;}/*!sc*/
.hhunph:disabled{cursor:not-allowed;box-shadow:none;color:var(--fgColor-disabled,var(--color-primer-fg-disabled,#484f58));}/*!sc*/
.hhunph:disabled [data-component=ButtonCounter],.hhunph:disabled [data-component="leadingVisual"],.hhunph:disabled [data-component="trailingAction"]{color:inherit;}/*!sc*/
@media (forced-colors:active){.hhunph:focus{outline:solid 1px transparent;}}/*!sc*/
.hhunph [data-component=ButtonCounter]{font-size:12px;}/*!sc*/
.hhunph[data-component=IconButton]{display:inline-grid;padding:unset;place-content:center;width:32px;min-width:unset;}/*!sc*/
.hhunph[data-size="small"]{padding:0 8px;height:28px;gap:4px;font-size:12px;color:var(--fgColor-default,var(--color-fg-default,#e6edf3));display:none;}/*!sc*/
.hhunph[data-size="small"] [data-component="text"]{line-height:calc(20 / 12);}/*!sc*/
.hhunph[data-size="small"] [data-component=ButtonCounter]{font-size:12px;}/*!sc*/
.hhunph[data-size="small"] [data-component="buttonContent"] > :not(:last-child){margin-right:4px;}/*!sc*/
.hhunph[data-size="small"][data-component=IconButton]{width:28px;padding:unset;}/*!sc*/
@media screen and (min-width:544px){.hhunph[data-size="small"]{display:none;}}/*!sc*/
@media screen and (min-width:768px){.hhunph[data-size="small"]{display:none;}}/*!sc*/
@media screen and (min-width:1012px){.hhunph[data-size="small"]{display:none;}}/*!sc*/
@media screen and (min-width:1280px){.hhunph[data-size="small"]{display:block;}}/*!sc*/
.hhunph[data-size="large"]{padding:0 16px;height:40px;gap:8px;}/*!sc*/
.hhunph[data-size="large"] [data-component="buttonContent"] > :not(:last-child){margin-right:8px;}/*!sc*/
.hhunph[data-size="large"][data-component=IconButton]{width:40px;padding:unset;}/*!sc*/
.hhunph[data-block="block"]{width:100%;}/*!sc*/
.hhunph[data-inactive]:not([disabled]){background-color:var(--button-inactive-bgColor,var(--button-inactive-bgColor-rest,var(--color-btn-inactive-bg,#21262d)));border-color:var(--button-inactive-bgColor,var(--button-inactive-bgColor-rest,var(--color-btn-inactive-bg,#21262d)));color:var(--button-inactive-fgColor,var(--button-inactive-fgColor-rest,var(--color-btn-inactive-text,#8b949e)));}/*!sc*/
.hhunph[data-inactive]:not([disabled]):focus-visible{box-shadow:none;}/*!sc*/
.hhunph [data-component="leadingVisual"]{grid-area:leadingVisual;color:var(--fgColor-muted,var(--color-fg-muted,#848d97));}/*!sc*/
.hhunph [data-component="text"]{grid-area:text;line-height:calc(20/14);white-space:nowrap;}/*!sc*/
.hhunph [data-component="trailingVisual"]{grid-area:trailingVisual;}/*!sc*/
.hhunph [data-component="trailingAction"]{margin-right:-4px;color:var(--fgColor-muted,var(--color-fg-muted,#848d97));}/*!sc*/
.hhunph [data-component="buttonContent"]{-webkit-flex:1 0 auto;-ms-flex:1 0 auto;flex:1 0 auto;display:grid;grid-template-areas:"leadingVisual text trailingVisual";grid-template-columns:min-content minmax(0,auto) min-content;-webkit-align-items:center;-webkit-box-align:center;-ms-flex-align:center;align-items:center;-webkit-align-content:center;-ms-flex-line-pack:center;align-content:center;}/*!sc*/
.hhunph [data-component="buttonContent"] > :not(:last-child){margin-right:8px;}/*!sc*/
.hhunph:hover:not([disabled]){background-color:var(--control-transparent-bgColor-hover,var(--color-action-list-item-default-hover-bg,rgba(177,186,196,0.12)));}/*!sc*/
.hhunph:active:not([disabled]){background-color:var(--control-transparent-bgColor-active,var(--color-action-list-item-default-active-bg,rgba(177,186,196,0.2)));}/*!sc*/
.hhunph[aria-expanded=true]{background-color:var(--control-transparent-bgColor-selected,var(--color-action-list-item-default-selected-bg,rgba(177,186,196,0.08)));}/*!sc*/
.hhunph[data-component="IconButton"][data-no-visuals]{color:var(--fgColor-muted,var(--color-fg-muted,#848d97));}/*!sc*/
.hhunph[data-no-visuals]{color:var(--fgColor-accent,var(--color-accent-fg,#2f81f7));}/*!sc*/
.hhunph:has([data-component="ButtonCounter"]){color:var(--button-default-fgColor-rest,var(--color-btn-text,#c9d1d9));}/*!sc*/
.hhunph:disabled[data-no-visuals]{color:var(--fgColor-disabled,var(--color-primer-fg-disabled,#484f58));}/*!sc*/
.hhunph:disabled[data-no-visuals] [data-component=ButtonCounter]{color:inherit;}/*!sc*/
.ecGgfP{border-radius:6px;border:1px solid;border-color:transparent;font-family:inherit;font-weight:500;font-size:14px;cursor:pointer;-webkit-appearance:none;-moz-appearance:none;appearance:none;-webkit-user-select:none;-moz-user-select:none;-ms-user-select:none;user-select:none;-webkit-text-decoration:none;text-decoration:none;text-align:center;display:-webkit-box;display:-webkit-flex;display:-ms-flexbox;display:flex;-webkit-align-items:center;-webkit-box-align:center;-ms-flex-align:center;align-items:center;-webkit-box-pack:justify;-webkit-justify-content:space-between;-ms-flex-pack:justify;justify-content:space-between;height:32px;padding:0 12px;gap:8px;min-width:-webkit-max-content;min-width:-moz-max-content;min-width:max-content;-webkit-transition:80ms cubic-bezier(0.65,0,0.35,1);transition:80ms cubic-bezier(0.65,0,0.35,1);-webkit-transition-property:color,fill,background-color,border-color;transition-property:color,fill,background-color,border-color;color:var(--button-default-fgColor-rest,var(--color-btn-text,#c9d1d9));background-color:transparent;box-shadow:none;}/*!sc*/
.ecGgfP:focus:not(:disabled){box-shadow:none;outline:2px solid var(--fgColor-accent,var(--color-accent-fg,#2f81f7));outline-offset:-2px;}/*!sc*/
.ecGgfP:focus:not(:disabled):not(:focus-visible){outline:solid 1px transparent;}/*!sc*/
.ecGgfP:focus-visible:not(:disabled){box-shadow:none;outline:2px solid var(--fgColor-accent,var(--color-accent-fg,#2f81f7));outline-offset:-2px;}/*!sc*/
.ecGgfP[href]{display:-webkit-inline-box;display:-webkit-inline-flex;display:-ms-inline-flexbox;display:inline-flex;}/*!sc*/
.ecGgfP[href]:hover{-webkit-text-decoration:none;text-decoration:none;}/*!sc*/
.ecGgfP:hover{-webkit-transition-duration:80ms;transition-duration:80ms;}/*!sc*/
.ecGgfP:active{-webkit-transition:none;transition:none;}/*!sc*/
.ecGgfP[data-inactive]{cursor:auto;}/*!sc*/
.ecGgfP:disabled{cursor:not-allowed;box-shadow:none;color:var(--fgColor-disabled,var(--color-primer-fg-disabled,#484f58));}/*!sc*/
.ecGgfP:disabled [data-component=ButtonCounter],.ecGgfP:disabled [data-component="leadingVisual"],.ecGgfP:disabled [data-component="trailingAction"]{color:inherit;}/*!sc*/
@media (forced-colors:active){.ecGgfP:focus{outline:solid 1px transparent;}}/*!sc*/
.ecGgfP [data-component=ButtonCounter]{font-size:12px;}/*!sc*/
.ecGgfP[data-component=IconButton]{display:inline-grid;padding:unset;place-content:center;width:32px;min-width:unset;}/*!sc*/
.ecGgfP[data-size="small"]{padding:0 8px;height:28px;gap:4px;font-size:12px;color:var(--fgColor-default,var(--color-fg-default,#e6edf3));margin-left:8px;}/*!sc*/
.ecGgfP[data-size="small"] [data-component="text"]{line-height:calc(20 / 12);}/*!sc*/
.ecGgfP[data-size="small"] [data-component=ButtonCounter]{font-size:12px;}/*!sc*/
.ecGgfP[data-size="small"] [data-component="buttonContent"] > :not(:last-child){margin-right:4px;}/*!sc*/
.ecGgfP[data-size="small"][data-component=IconButton]{width:28px;padding:unset;}/*!sc*/
.ecGgfP[data-size="large"]{padding:0 16px;height:40px;gap:8px;}/*!sc*/
.ecGgfP[data-size="large"] [data-component="buttonContent"] > :not(:last-child){margin-right:8px;}/*!sc*/
.ecGgfP[data-size="large"][data-component=IconButton]{width:40px;padding:unset;}/*!sc*/
.ecGgfP[data-block="block"]{width:100%;}/*!sc*/
.ecGgfP[data-inactive]:not([disabled]){background-color:var(--button-inactive-bgColor,var(--button-inactive-bgColor-rest,var(--color-btn-inactive-bg,#21262d)));border-color:var(--button-inactive-bgColor,var(--button-inactive-bgColor-rest,var(--color-btn-inactive-bg,#21262d)));color:var(--button-inactive-fgColor,var(--button-inactive-fgColor-rest,var(--color-btn-inactive-text,#8b949e)));}/*!sc*/
.ecGgfP[data-inactive]:not([disabled]):focus-visible{box-shadow:none;}/*!sc*/
.ecGgfP [data-component="leadingVisual"]{grid-area:leadingVisual;color:var(--fgColor-muted,var(--color-fg-muted,#848d97));}/*!sc*/
.ecGgfP [data-component="text"]{grid-area:text;line-height:calc(20/14);white-space:nowrap;}/*!sc*/
.ecGgfP [data-component="trailingVisual"]{grid-area:trailingVisual;}/*!sc*/
.ecGgfP [data-component="trailingAction"]{margin-right:-4px;color:var(--fgColor-muted,var(--color-fg-muted,#848d97));}/*!sc*/
.ecGgfP [data-component="buttonContent"]{-webkit-flex:1 0 auto;-ms-flex:1 0 auto;flex:1 0 auto;display:grid;grid-template-areas:"leadingVisual text trailingVisual";grid-template-columns:min-content minmax(0,auto) min-content;-webkit-align-items:center;-webkit-box-align:center;-ms-flex-align:center;align-items:center;-webkit-align-content:center;-ms-flex-line-pack:center;align-content:center;}/*!sc*/
.ecGgfP [data-component="buttonContent"] > :not(:last-child){margin-right:8px;}/*!sc*/
.ecGgfP:hover:not([disabled]){background-color:var(--control-transparent-bgColor-hover,var(--color-action-list-item-default-hover-bg,rgba(177,186,196,0.12)));}/*!sc*/
.ecGgfP:active:not([disabled]){background-color:var(--control-transparent-bgColor-active,var(--color-action-list-item-default-active-bg,rgba(177,186,196,0.2)));}/*!sc*/
.ecGgfP[aria-expanded=true]{background-color:var(--control-transparent-bgColor-selected,var(--color-action-list-item-default-selected-bg,rgba(177,186,196,0.08)));}/*!sc*/
.ecGgfP[data-component="IconButton"][data-no-visuals]{color:var(--fgColor-muted,var(--color-fg-muted,#848d97));}/*!sc*/
.ecGgfP[data-no-visuals]{color:var(--fgColor-accent,var(--color-accent-fg,#2f81f7));}/*!sc*/
.ecGgfP:has([data-component="ButtonCounter"]){color:var(--button-default-fgColor-rest,var(--color-btn-text,#c9d1d9));}/*!sc*/
.ecGgfP:disabled[data-no-visuals]{color:var(--fgColor-disabled,var(--color-primer-fg-disabled,#484f58));}/*!sc*/
.ecGgfP:disabled[data-no-visuals] [data-component=ButtonCounter]{color:inherit;}/*!sc*/
.dupbIv{border-radius:6px;border:1px solid;border-color:var(--button-default-borderColor-rest,var(--button-default-borderColor-rest,var(--color-btn-border,rgba(240,246,252,0.1))));font-family:inherit;font-weight:500;font-size:14px;cursor:pointer;-webkit-appearance:none;-moz-appearance:none;appearance:none;-webkit-user-select:none;-moz-user-select:none;-ms-user-select:none;user-select:none;-webkit-text-decoration:none;text-decoration:none;text-align:center;display:-webkit-box;display:-webkit-flex;display:-ms-flexbox;display:flex;-webkit-align-items:center;-webkit-box-align:center;-ms-flex-align:center;align-items:center;-webkit-box-pack:justify;-webkit-justify-content:space-between;-ms-flex-pack:justify;justify-content:space-between;height:32px;padding:0 12px;gap:8px;min-width:-webkit-max-content;min-width:-moz-max-content;min-width:max-content;-webkit-transition:80ms cubic-bezier(0.65,0,0.35,1);transition:80ms cubic-bezier(0.65,0,0.35,1);-webkit-transition-property:color,fill,background-color,border-color;transition-property:color,fill,background-color,border-color;color:var(--button-default-fgColor-rest,var(--color-btn-text,#c9d1d9));background-color:var(--button-default-bgColor-rest,var(--color-btn-bg,#21262d));box-shadow:var(--button-default-shadow-resting,var(--color-btn-shadow,0 0 transparent)),var(--button-default-shadow-inset,var(--color-btn-inset-shadow,0 0 transparent));padding-left:8px;padding-right:8px;}/*!sc*/
.dupbIv:focus:not(:disabled){box-shadow:none;outline:2px solid var(--fgColor-accent,var(--color-accent-fg,#2f81f7));outline-offset:-2px;}/*!sc*/
.dupbIv:focus:not(:disabled):not(:focus-visible){outline:solid 1px transparent;}/*!sc*/
.dupbIv:focus-visible:not(:disabled){box-shadow:none;outline:2px solid var(--fgColor-accent,var(--color-accent-fg,#2f81f7));outline-offset:-2px;}/*!sc*/
.dupbIv[href]{display:-webkit-inline-box;display:-webkit-inline-flex;display:-ms-inline-flexbox;display:inline-flex;}/*!sc*/
.dupbIv[href]:hover{-webkit-text-decoration:none;text-decoration:none;}/*!sc*/
.dupbIv:hover{-webkit-transition-duration:80ms;transition-duration:80ms;}/*!sc*/
.dupbIv:active{-webkit-transition:none;transition:none;}/*!sc*/
.dupbIv[data-inactive]{cursor:auto;}/*!sc*/
.dupbIv:disabled{cursor:not-allowed;box-shadow:none;color:var(--fgColor-disabled,var(--color-primer-fg-disabled,#484f58));border-color:var(--button-default-borderColor-disabled,var(--button-default-borderColor-rest,var(--color-btn-border,rgba(240,246,252,0.1))));background-color:var(--button-default-bgColor-disabled,var(--control-bgColor-disabled,var(--color-input-disabled-bg,rgba(110,118,129,0))));}/*!sc*/
.dupbIv:disabled [data-component=ButtonCounter]{color:inherit;}/*!sc*/
@media (forced-colors:active){.dupbIv:focus{outline:solid 1px transparent;}}/*!sc*/
.dupbIv [data-component=ButtonCounter]{font-size:12px;background-color:var(--buttonCounter-default-bgColor-rest,var(--color-btn-counter-bg,#30363d));}/*!sc*/
.dupbIv[data-component=IconButton]{display:inline-grid;padding:unset;place-content:center;width:32px;min-width:unset;}/*!sc*/
.dupbIv[data-size="small"]{padding:0 8px;height:28px;gap:4px;font-size:12px;}/*!sc*/
.dupbIv[data-size="small"] [data-component="text"]{line-height:calc(20 / 12);}/*!sc*/
.dupbIv[data-size="small"] [data-component=ButtonCounter]{font-size:12px;}/*!sc*/
.dupbIv[data-size="small"] [data-component="buttonContent"] > :not(:last-child){margin-right:4px;}/*!sc*/
.dupbIv[data-size="small"][data-component=IconButton]{width:28px;padding:unset;}/*!sc*/
.dupbIv[data-size="large"]{padding:0 16px;height:40px;gap:8px;}/*!sc*/
.dupbIv[data-size="large"] [data-component="buttonContent"] > :not(:last-child){margin-right:8px;}/*!sc*/
.dupbIv[data-size="large"][data-component=IconButton]{width:40px;padding:unset;}/*!sc*/
.dupbIv[data-block="block"]{width:100%;}/*!sc*/
.dupbIv[data-inactive]:not([disabled]){background-color:var(--button-inactive-bgColor,var(--button-inactive-bgColor-rest,var(--color-btn-inactive-bg,#21262d)));border-color:var(--button-inactive-bgColor,var(--button-inactive-bgColor-rest,var(--color-btn-inactive-bg,#21262d)));color:var(--button-inactive-fgColor,var(--button-inactive-fgColor-rest,var(--color-btn-inactive-text,#8b949e)));}/*!sc*/
.dupbIv[data-inactive]:not([disabled]):focus-visible{box-shadow:none;}/*!sc*/
.dupbIv [data-component="leadingVisual"]{grid-area:leadingVisual;}/*!sc*/
.dupbIv [data-component="text"]{grid-area:text;line-height:calc(20/14);white-space:nowrap;}/*!sc*/
.dupbIv [data-component="trailingVisual"]{grid-area:trailingVisual;}/*!sc*/
.dupbIv [data-component="trailingAction"]{margin-right:-4px;}/*!sc*/
.dupbIv [data-component="buttonContent"]{-webkit-flex:1 0 auto;-ms-flex:1 0 auto;flex:1 0 auto;display:grid;grid-template-areas:"leadingVisual text trailingVisual";grid-template-columns:min-content minmax(0,auto) min-content;-webkit-align-items:center;-webkit-box-align:center;-ms-flex-align:center;align-items:center;-webkit-align-content:center;-ms-flex-line-pack:center;align-content:center;}/*!sc*/
.dupbIv [data-component="buttonContent"] > :not(:last-child){margin-right:8px;}/*!sc*/
.dupbIv:hover:not([disabled]):not([data-inactive]){background-color:var(--button-default-bgColor-hover,var(--color-btn-hover-bg,#30363d));border-color:var(--button-default-borderColor-hover,var(--button-default-borderColor-hover,var(--color-btn-hover-border,#8b949e)));}/*!sc*/
.dupbIv:active:not([disabled]):not([data-inactive]){background-color:var(--button-default-bgColor-active,var(--color-btn-active-bg,hsla(212,12%,18%,1)));border-color:var(--button-default-borderColor-active,var(--button-default-borderColor-active,var(--color-btn-active-border,#6e7681)));}/*!sc*/
.dupbIv[aria-expanded=true]{background-color:var(--button-default-bgColor-active,var(--color-btn-active-bg,hsla(212,12%,18%,1)));border-color:var(--button-default-borderColor-active,var(--button-default-borderColor-active,var(--color-btn-active-border,#6e7681)));}/*!sc*/
.dupbIv [data-component="leadingVisual"],.dupbIv [data-component="trailingVisual"],.dupbIv [data-component="trailingAction"]{color:var(--button-color,var(--fgColor-muted,var(--color-fg-muted,#848d97)));}/*!sc*/
.dupbIv[data-component="IconButton"][data-no-visuals]{color:var(--fgColor-muted,var(--color-fg-muted,#848d97));}/*!sc*/
.dupbIv linkButtonSx:hover:not([disabled]){-webkit-text-decoration:none;text-decoration:none;}/*!sc*/
.dupbIv linkButtonSx:focus:not([disabled]){-webkit-text-decoration:none;text-decoration:none;}/*!sc*/
.dupbIv linkButtonSx:active:not([disabled]){-webkit-text-decoration:none;text-decoration:none;}/*!sc*/
.dMUxwi{border-radius:6px;border:1px solid;border-color:var(--button-default-borderColor-rest,var(--button-default-borderColor-rest,var(--color-btn-border,rgba(240,246,252,0.1))));font-family:inherit;font-weight:500;font-size:14px;cursor:pointer;-webkit-appearance:none;-moz-appearance:none;appearance:none;-webkit-user-select:none;-moz-user-select:none;-ms-user-select:none;user-select:none;-webkit-text-decoration:none;text-decoration:none;text-align:center;display:-webkit-box;display:-webkit-flex;display:-ms-flexbox;display:flex;-webkit-align-items:center;-webkit-box-align:center;-ms-flex-align:center;align-items:center;-webkit-box-pack:justify;-webkit-justify-content:space-between;-ms-flex-pack:justify;justify-content:space-between;height:32px;padding:0 12px;gap:8px;min-width:-webkit-max-content;min-width:-moz-max-content;min-width:max-content;-webkit-transition:80ms cubic-bezier(0.65,0,0.35,1);transition:80ms cubic-bezier(0.65,0,0.35,1);-webkit-transition-property:color,fill,background-color,border-color;transition-property:color,fill,background-color,border-color;color:var(--button-default-fgColor-rest,var(--color-btn-text,#c9d1d9));background-color:var(--button-default-bgColor-rest,var(--color-btn-bg,#21262d));box-shadow:var(--button-default-shadow-resting,var(--color-btn-shadow,0 0 transparent)),var(--button-default-shadow-inset,var(--color-btn-inset-shadow,0 0 transparent));}/*!sc*/
.dMUxwi:focus:not(:disabled){box-shadow:none;outline:2px solid var(--fgColor-accent,var(--color-accent-fg,#2f81f7));outline-offset:-2px;}/*!sc*/
.dMUxwi:focus:not(:disabled):not(:focus-visible){outline:solid 1px transparent;}/*!sc*/
.dMUxwi:focus-visible:not(:disabled){box-shadow:none;outline:2px solid var(--fgColor-accent,var(--color-accent-fg,#2f81f7));outline-offset:-2px;}/*!sc*/
.dMUxwi[href]{display:-webkit-inline-box;display:-webkit-inline-flex;display:-ms-inline-flexbox;display:inline-flex;}/*!sc*/
.dMUxwi[href]:hover{-webkit-text-decoration:none;text-decoration:none;}/*!sc*/
.dMUxwi:hover{-webkit-transition-duration:80ms;transition-duration:80ms;}/*!sc*/
.dMUxwi:active{-webkit-transition:none;transition:none;}/*!sc*/
.dMUxwi[data-inactive]{cursor:auto;}/*!sc*/
.dMUxwi:disabled{cursor:not-allowed;box-shadow:none;color:var(--fgColor-disabled,var(--color-primer-fg-disabled,#484f58));border-color:var(--button-default-borderColor-disabled,var(--button-default-borderColor-rest,var(--color-btn-border,rgba(240,246,252,0.1))));background-color:var(--button-default-bgColor-disabled,var(--control-bgColor-disabled,var(--color-input-disabled-bg,rgba(110,118,129,0))));}/*!sc*/
.dMUxwi:disabled [data-component=ButtonCounter]{color:inherit;}/*!sc*/
@media (forced-colors:active){.dMUxwi:focus{outline:solid 1px transparent;}}/*!sc*/
.dMUxwi [data-component=ButtonCounter]{font-size:12px;background-color:var(--buttonCounter-default-bgColor-rest,var(--color-btn-counter-bg,#30363d));}/*!sc*/
.dMUxwi[data-component=IconButton]{display:inline-grid;padding:unset;place-content:center;width:32px;min-width:unset;}/*!sc*/
.dMUxwi[data-size="small"]{padding:0 8px;height:28px;gap:4px;font-size:12px;}/*!sc*/
.dMUxwi[data-size="small"] [data-component="text"]{line-height:calc(20 / 12);}/*!sc*/
.dMUxwi[data-size="small"] [data-component=ButtonCounter]{font-size:12px;}/*!sc*/
.dMUxwi[data-size="small"] [data-component="buttonContent"] > :not(:last-child){margin-right:4px;}/*!sc*/
.dMUxwi[data-size="small"][data-component=IconButton]{width:28px;padding:unset;}/*!sc*/
.dMUxwi[data-size="large"]{padding:0 16px;height:40px;gap:8px;}/*!sc*/
.dMUxwi[data-size="large"] [data-component="buttonContent"] > :not(:last-child){margin-right:8px;}/*!sc*/
.dMUxwi[data-size="large"][data-component=IconButton]{width:40px;padding:unset;}/*!sc*/
.dMUxwi[data-block="block"]{width:100%;}/*!sc*/
.dMUxwi[data-inactive]:not([disabled]){background-color:var(--button-inactive-bgColor,var(--button-inactive-bgColor-rest,var(--color-btn-inactive-bg,#21262d)));border-color:var(--button-inactive-bgColor,var(--button-inactive-bgColor-rest,var(--color-btn-inactive-bg,#21262d)));color:var(--button-inactive-fgColor,var(--button-inactive-fgColor-rest,var(--color-btn-inactive-text,#8b949e)));}/*!sc*/
.dMUxwi[data-inactive]:not([disabled]):focus-visible{box-shadow:none;}/*!sc*/
.dMUxwi [data-component="leadingVisual"]{grid-area:leadingVisual;}/*!sc*/
.dMUxwi [data-component="text"]{grid-area:text;line-height:calc(20/14);white-space:nowrap;}/*!sc*/
.dMUxwi [data-component="trailingVisual"]{grid-area:trailingVisual;}/*!sc*/
.dMUxwi [data-component="trailingAction"]{margin-right:-4px;}/*!sc*/
.dMUxwi [data-component="buttonContent"]{-webkit-flex:1 0 auto;-ms-flex:1 0 auto;flex:1 0 auto;display:grid;grid-template-areas:"leadingVisual text trailingVisual";grid-template-columns:min-content minmax(0,auto) min-content;-webkit-align-items:center;-webkit-box-align:center;-ms-flex-align:center;align-items:center;-webkit-align-content:center;-ms-flex-line-pack:center;align-content:center;}/*!sc*/
.dMUxwi [data-component="buttonContent"] > :not(:last-child){margin-right:8px;}/*!sc*/
.dMUxwi:hover:not([disabled]):not([data-inactive]){background-color:var(--button-default-bgColor-hover,var(--color-btn-hover-bg,#30363d));border-color:var(--button-default-borderColor-hover,var(--button-default-borderColor-hover,var(--color-btn-hover-border,#8b949e)));}/*!sc*/
.dMUxwi:active:not([disabled]):not([data-inactive]){background-color:var(--button-default-bgColor-active,var(--color-btn-active-bg,hsla(212,12%,18%,1)));border-color:var(--button-default-borderColor-active,var(--button-default-borderColor-active,var(--color-btn-active-border,#6e7681)));}/*!sc*/
.dMUxwi[aria-expanded=true]{background-color:var(--button-default-bgColor-active,var(--color-btn-active-bg,hsla(212,12%,18%,1)));border-color:var(--button-default-borderColor-active,var(--button-default-borderColor-active,var(--color-btn-active-border,#6e7681)));}/*!sc*/
.dMUxwi [data-component="leadingVisual"],.dMUxwi [data-component="trailingVisual"],.dMUxwi [data-component="trailingAction"]{color:var(--button-color,var(--fgColor-muted,var(--color-fg-muted,#848d97)));}/*!sc*/
.dMUxwi[data-component="IconButton"][data-no-visuals]{color:var(--fgColor-muted,var(--color-fg-muted,#848d97));}/*!sc*/
.fCIOmi{border-radius:6px;border:1px solid;border-color:var(--button-default-borderColor-rest,var(--button-default-borderColor-rest,var(--color-btn-border,rgba(240,246,252,0.1))));font-family:inherit;font-weight:500;font-size:14px;cursor:pointer;-webkit-appearance:none;-moz-appearance:none;appearance:none;-webkit-user-select:none;-moz-user-select:none;-ms-user-select:none;user-select:none;-webkit-text-decoration:none;text-decoration:none;text-align:center;display:-webkit-box;display:-webkit-flex;display:-ms-flexbox;display:flex;-webkit-align-items:center;-webkit-box-align:center;-ms-flex-align:center;align-items:center;-webkit-box-pack:justify;-webkit-justify-content:space-between;-ms-flex-pack:justify;justify-content:space-between;height:32px;padding:0 12px;gap:8px;min-width:-webkit-max-content;min-width:-moz-max-content;min-width:max-content;-webkit-transition:80ms cubic-bezier(0.65,0,0.35,1);transition:80ms cubic-bezier(0.65,0,0.35,1);-webkit-transition-property:color,fill,background-color,border-color;transition-property:color,fill,background-color,border-color;color:var(--button-default-fgColor-rest,var(--color-btn-text,#c9d1d9));background-color:var(--button-default-bgColor-rest,var(--color-btn-bg,#21262d));box-shadow:var(--button-default-shadow-resting,var(--color-btn-shadow,0 0 transparent)),var(--button-default-shadow-inset,var(--color-btn-inset-shadow,0 0 transparent));}/*!sc*/
.fCIOmi:focus:not(:disabled){box-shadow:none;outline:2px solid var(--fgColor-accent,var(--color-accent-fg,#2f81f7));outline-offset:-2px;}/*!sc*/
.fCIOmi:focus:not(:disabled):not(:focus-visible){outline:solid 1px transparent;}/*!sc*/
.fCIOmi:focus-visible:not(:disabled){box-shadow:none;outline:2px solid var(--fgColor-accent,var(--color-accent-fg,#2f81f7));outline-offset:-2px;}/*!sc*/
.fCIOmi[href]{display:-webkit-inline-box;display:-webkit-inline-flex;display:-ms-inline-flexbox;display:inline-flex;}/*!sc*/
.fCIOmi[href]:hover{-webkit-text-decoration:none;text-decoration:none;}/*!sc*/
.fCIOmi:hover{-webkit-transition-duration:80ms;transition-duration:80ms;}/*!sc*/
.fCIOmi:active{-webkit-transition:none;transition:none;}/*!sc*/
.fCIOmi[data-inactive]{cursor:auto;}/*!sc*/
.fCIOmi:disabled{cursor:not-allowed;box-shadow:none;color:var(--fgColor-disabled,var(--color-primer-fg-disabled,#484f58));border-color:var(--button-default-borderColor-disabled,var(--button-default-borderColor-rest,var(--color-btn-border,rgba(240,246,252,0.1))));background-color:var(--button-default-bgColor-disabled,var(--control-bgColor-disabled,var(--color-input-disabled-bg,rgba(110,118,129,0))));}/*!sc*/
.fCIOmi:disabled [data-component=ButtonCounter]{color:inherit;}/*!sc*/
@media (forced-colors:active){.fCIOmi:focus{outline:solid 1px transparent;}}/*!sc*/
.fCIOmi [data-component=ButtonCounter]{font-size:12px;background-color:var(--buttonCounter-default-bgColor-rest,var(--color-btn-counter-bg,#30363d));}/*!sc*/
.fCIOmi[data-component=IconButton]{display:inline-grid;padding:unset;place-content:center;width:32px;min-width:unset;}/*!sc*/
.fCIOmi[data-size="small"]{padding:0 8px;height:28px;gap:4px;font-size:12px;}/*!sc*/
.fCIOmi[data-size="small"] [data-component="text"]{line-height:calc(20 / 12);}/*!sc*/
.fCIOmi[data-size="small"] [data-component=ButtonCounter]{font-size:12px;}/*!sc*/
.fCIOmi[data-size="small"] [data-component="buttonContent"] > :not(:last-child){margin-right:4px;}/*!sc*/
.fCIOmi[data-size="small"][data-component=IconButton]{width:28px;padding:unset;}/*!sc*/
.fCIOmi[data-size="large"]{padding:0 16px;height:40px;gap:8px;}/*!sc*/
.fCIOmi[data-size="large"] [data-component="buttonContent"] > :not(:last-child){margin-right:8px;}/*!sc*/
.fCIOmi[data-size="large"][data-component=IconButton]{width:40px;padding:unset;}/*!sc*/
.fCIOmi[data-block="block"]{width:100%;}/*!sc*/
.fCIOmi[data-inactive]:not([disabled]){background-color:var(--button-inactive-bgColor,var(--button-inactive-bgColor-rest,var(--color-btn-inactive-bg,#21262d)));border-color:var(--button-inactive-bgColor,var(--button-inactive-bgColor-rest,var(--color-btn-inactive-bg,#21262d)));color:var(--button-inactive-fgColor,var(--button-inactive-fgColor-rest,var(--color-btn-inactive-text,#8b949e)));}/*!sc*/
.fCIOmi[data-inactive]:not([disabled]):focus-visible{box-shadow:none;}/*!sc*/
.fCIOmi [data-component="leadingVisual"]{grid-area:leadingVisual;}/*!sc*/
.fCIOmi [data-component="text"]{grid-area:text;line-height:calc(20/14);white-space:nowrap;}/*!sc*/
.fCIOmi [data-component="trailingVisual"]{grid-area:trailingVisual;}/*!sc*/
.fCIOmi [data-component="trailingAction"]{margin-right:-4px;}/*!sc*/
.fCIOmi [data-component="buttonContent"]{-webkit-flex:1 0 auto;-ms-flex:1 0 auto;flex:1 0 auto;display:grid;grid-template-areas:"leadingVisual text trailingVisual";grid-template-columns:min-content minmax(0,auto) min-content;-webkit-align-items:center;-webkit-box-align:center;-ms-flex-align:center;align-items:center;-webkit-align-content:center;-ms-flex-line-pack:center;align-content:center;}/*!sc*/
.fCIOmi [data-component="buttonContent"] > :not(:last-child){margin-right:8px;}/*!sc*/
.fCIOmi:hover:not([disabled]):not([data-inactive]){background-color:var(--button-default-bgColor-hover,var(--color-btn-hover-bg,#30363d));border-color:var(--button-default-borderColor-hover,var(--button-default-borderColor-hover,var(--color-btn-hover-border,#8b949e)));}/*!sc*/
.fCIOmi:active:not([disabled]):not([data-inactive]){background-color:var(--button-default-bgColor-active,var(--color-btn-active-bg,hsla(212,12%,18%,1)));border-color:var(--button-default-borderColor-active,var(--button-default-borderColor-active,var(--color-btn-active-border,#6e7681)));}/*!sc*/
.fCIOmi[aria-expanded=true]{background-color:var(--button-default-bgColor-active,var(--color-btn-active-bg,hsla(212,12%,18%,1)));border-color:var(--button-default-borderColor-active,var(--button-default-borderColor-active,var(--color-btn-active-border,#6e7681)));}/*!sc*/
.fCIOmi [data-component="leadingVisual"],.fCIOmi [data-component="trailingVisual"],.fCIOmi [data-component="trailingAction"]{color:var(--button-color,var(--fgColor-muted,var(--color-fg-muted,#848d97)));}/*!sc*/
.fCIOmi[data-component="IconButton"][data-no-visuals]{color:var(--fgColor-muted,var(--color-fg-muted,#848d97));}/*!sc*/
.fCIOmi[data-size="small"][data-no-visuals]{border-top-left-radius:0;border-bottom-left-radius:0;}/*!sc*/
.ksnFc{border-radius:6px;border:1px solid;border-color:var(--button-default-borderColor-rest,var(--button-default-borderColor-rest,var(--color-btn-border,rgba(240,246,252,0.1))));font-family:inherit;font-weight:500;font-size:14px;cursor:pointer;-webkit-appearance:none;-moz-appearance:none;appearance:none;-webkit-user-select:none;-moz-user-select:none;-ms-user-select:none;user-select:none;-webkit-text-decoration:none;text-decoration:none;text-align:center;display:-webkit-box;display:-webkit-flex;display:-ms-flexbox;display:flex;-webkit-align-items:center;-webkit-box-align:center;-ms-flex-align:center;align-items:center;-webkit-box-pack:justify;-webkit-justify-content:space-between;-ms-flex-pack:justify;justify-content:space-between;height:32px;padding:0 12px;gap:8px;min-width:-webkit-max-content;min-width:-moz-max-content;min-width:max-content;-webkit-transition:80ms cubic-bezier(0.65,0,0.35,1);transition:80ms cubic-bezier(0.65,0,0.35,1);-webkit-transition-property:color,fill,background-color,border-color;transition-property:color,fill,background-color,border-color;color:var(--button-default-fgColor-rest,var(--color-btn-text,#c9d1d9));background-color:var(--button-default-bgColor-rest,var(--color-btn-bg,#21262d));box-shadow:var(--button-default-shadow-resting,var(--color-btn-shadow,0 0 transparent)),var(--button-default-shadow-inset,var(--color-btn-inset-shadow,0 0 transparent));}/*!sc*/
.ksnFc:focus:not(:disabled){box-shadow:none;outline:2px solid var(--fgColor-accent,var(--color-accent-fg,#2f81f7));outline-offset:-2px;}/*!sc*/
.ksnFc:focus:not(:disabled):not(:focus-visible){outline:solid 1px transparent;}/*!sc*/
.ksnFc:focus-visible:not(:disabled){box-shadow:none;outline:2px solid var(--fgColor-accent,var(--color-accent-fg,#2f81f7));outline-offset:-2px;}/*!sc*/
.ksnFc[href]{display:-webkit-inline-box;display:-webkit-inline-flex;display:-ms-inline-flexbox;display:inline-flex;}/*!sc*/
.ksnFc[href]:hover{-webkit-text-decoration:none;text-decoration:none;}/*!sc*/
.ksnFc:hover{-webkit-transition-duration:80ms;transition-duration:80ms;}/*!sc*/
.ksnFc:active{-webkit-transition:none;transition:none;}/*!sc*/
.ksnFc[data-inactive]{cursor:auto;}/*!sc*/
.ksnFc:disabled{cursor:not-allowed;box-shadow:none;color:var(--fgColor-disabled,var(--color-primer-fg-disabled,#484f58));border-color:var(--button-default-borderColor-disabled,var(--button-default-borderColor-rest,var(--color-btn-border,rgba(240,246,252,0.1))));background-color:var(--button-default-bgColor-disabled,var(--control-bgColor-disabled,var(--color-input-disabled-bg,rgba(110,118,129,0))));}/*!sc*/
.ksnFc:disabled [data-component=ButtonCounter]{color:inherit;}/*!sc*/
@media (forced-colors:active){.ksnFc:focus{outline:solid 1px transparent;}}/*!sc*/
.ksnFc [data-component=ButtonCounter]{font-size:12px;background-color:var(--buttonCounter-default-bgColor-rest,var(--color-btn-counter-bg,#30363d));}/*!sc*/
.ksnFc[data-component=IconButton]{display:inline-grid;padding:unset;place-content:center;width:32px;min-width:unset;}/*!sc*/
.ksnFc[data-size="small"]{padding:0 8px;height:28px;gap:4px;font-size:12px;}/*!sc*/
.ksnFc[data-size="small"] [data-component="text"]{line-height:calc(20 / 12);}/*!sc*/
.ksnFc[data-size="small"] [data-component=ButtonCounter]{font-size:12px;}/*!sc*/
.ksnFc[data-size="small"] [data-component="buttonContent"] > :not(:last-child){margin-right:4px;}/*!sc*/
.ksnFc[data-size="small"][data-component=IconButton]{width:28px;padding:unset;}/*!sc*/
.ksnFc[data-size="large"]{padding:0 16px;height:40px;gap:8px;}/*!sc*/
.ksnFc[data-size="large"] [data-component="buttonContent"] > :not(:last-child){margin-right:8px;}/*!sc*/
.ksnFc[data-size="large"][data-component=IconButton]{width:40px;padding:unset;}/*!sc*/
.ksnFc[data-block="block"]{width:100%;}/*!sc*/
.ksnFc[data-inactive]:not([disabled]){background-color:var(--button-inactive-bgColor,var(--button-inactive-bgColor-rest,var(--color-btn-inactive-bg,#21262d)));border-color:var(--button-inactive-bgColor,var(--button-inactive-bgColor-rest,var(--color-btn-inactive-bg,#21262d)));color:var(--button-inactive-fgColor,var(--button-inactive-fgColor-rest,var(--color-btn-inactive-text,#8b949e)));}/*!sc*/
.ksnFc[data-inactive]:not([disabled]):focus-visible{box-shadow:none;}/*!sc*/
.ksnFc [data-component="leadingVisual"]{grid-area:leadingVisual;}/*!sc*/
.ksnFc [data-component="text"]{grid-area:text;line-height:calc(20/14);white-space:nowrap;}/*!sc*/
.ksnFc [data-component="trailingVisual"]{grid-area:trailingVisual;}/*!sc*/
.ksnFc [data-component="trailingAction"]{margin-right:-4px;}/*!sc*/
.ksnFc [data-component="buttonContent"]{-webkit-flex:1 0 auto;-ms-flex:1 0 auto;flex:1 0 auto;display:grid;grid-template-areas:"leadingVisual text trailingVisual";grid-template-columns:min-content minmax(0,auto) min-content;-webkit-align-items:center;-webkit-box-align:center;-ms-flex-align:center;align-items:center;-webkit-align-content:center;-ms-flex-line-pack:center;align-content:center;}/*!sc*/
.ksnFc [data-component="buttonContent"] > :not(:last-child){margin-right:8px;}/*!sc*/
.ksnFc:hover:not([disabled]):not([data-inactive]){background-color:var(--button-default-bgColor-hover,var(--color-btn-hover-bg,#30363d));border-color:var(--button-default-borderColor-hover,var(--button-default-borderColor-hover,var(--color-btn-hover-border,#8b949e)));}/*!sc*/
.ksnFc:active:not([disabled]):not([data-inactive]){background-color:var(--button-default-bgColor-active,var(--color-btn-active-bg,hsla(212,12%,18%,1)));border-color:var(--button-default-borderColor-active,var(--button-default-borderColor-active,var(--color-btn-active-border,#6e7681)));}/*!sc*/
.ksnFc[aria-expanded=true]{background-color:var(--button-default-bgColor-active,var(--color-btn-active-bg,hsla(212,12%,18%,1)));border-color:var(--button-default-borderColor-active,var(--button-default-borderColor-active,var(--color-btn-active-border,#6e7681)));}/*!sc*/
.ksnFc [data-component="leadingVisual"],.ksnFc [data-component="trailingVisual"],.ksnFc [data-component="trailingAction"]{color:var(--button-color,var(--fgColor-muted,var(--color-fg-muted,#848d97)));}/*!sc*/
.ksnFc[data-component="IconButton"][data-no-visuals]{color:var(--fgColor-muted,var(--color-fg-muted,#848d97));}/*!sc*/
.ksnFc[data-size="small"][data-no-visuals]{border-top-right-radius:0;border-bottom-right-radius:0;border-right-width:0;}/*!sc*/
.ksnFc[data-size="small"][data-no-visuals]:hover:not([disabled]){-webkit-text-decoration:none;text-decoration:none;}/*!sc*/
.ksnFc[data-size="small"][data-no-visuals]:focus:not([disabled]){-webkit-text-decoration:none;text-decoration:none;}/*!sc*/
.ksnFc[data-size="small"][data-no-visuals]:active:not([disabled]){-webkit-text-decoration:none;text-decoration:none;}/*!sc*/
.htXhGX{border-radius:6px;border:1px solid;border-color:transparent;font-family:inherit;font-weight:500;font-size:14px;cursor:pointer;-webkit-appearance:none;-moz-appearance:none;appearance:none;-webkit-user-select:none;-moz-user-select:none;-ms-user-select:none;user-select:none;-webkit-text-decoration:none;text-decoration:none;text-align:center;display:-webkit-box;display:-webkit-flex;display:-ms-flexbox;display:flex;-webkit-align-items:center;-webkit-box-align:center;-ms-flex-align:center;align-items:center;-webkit-box-pack:justify;-webkit-justify-content:space-between;-ms-flex-pack:justify;justify-content:space-between;height:32px;padding:0 12px;gap:8px;min-width:-webkit-max-content;min-width:-moz-max-content;min-width:max-content;-webkit-transition:80ms cubic-bezier(0.65,0,0.35,1);transition:80ms cubic-bezier(0.65,0,0.35,1);-webkit-transition-property:color,fill,background-color,border-color;transition-property:color,fill,background-color,border-color;color:var(--button-default-fgColor-rest,var(--color-btn-text,#c9d1d9));background-color:transparent;box-shadow:none;}/*!sc*/
.htXhGX:focus:not(:disabled){box-shadow:none;outline:2px solid var(--fgColor-accent,var(--color-accent-fg,#2f81f7));outline-offset:-2px;}/*!sc*/
.htXhGX:focus:not(:disabled):not(:focus-visible){outline:solid 1px transparent;}/*!sc*/
.htXhGX:focus-visible:not(:disabled){box-shadow:none;outline:2px solid var(--fgColor-accent,var(--color-accent-fg,#2f81f7));outline-offset:-2px;}/*!sc*/
.htXhGX[href]{display:-webkit-inline-box;display:-webkit-inline-flex;display:-ms-inline-flexbox;display:inline-flex;}/*!sc*/
.htXhGX[href]:hover{-webkit-text-decoration:none;text-decoration:none;}/*!sc*/
.htXhGX:hover{-webkit-transition-duration:80ms;transition-duration:80ms;}/*!sc*/
.htXhGX:active{-webkit-transition:none;transition:none;}/*!sc*/
.htXhGX[data-inactive]{cursor:auto;}/*!sc*/
.htXhGX:disabled{cursor:not-allowed;box-shadow:none;color:var(--fgColor-disabled,var(--color-primer-fg-disabled,#484f58));}/*!sc*/
.htXhGX:disabled [data-component=ButtonCounter],.htXhGX:disabled [data-component="leadingVisual"],.htXhGX:disabled [data-component="trailingAction"]{color:inherit;}/*!sc*/
@media (forced-colors:active){.htXhGX:focus{outline:solid 1px transparent;}}/*!sc*/
.htXhGX [data-component=ButtonCounter]{font-size:12px;}/*!sc*/
.htXhGX[data-component=IconButton]{display:inline-grid;padding:unset;place-content:center;width:32px;min-width:unset;}/*!sc*/
.htXhGX[data-size="small"]{padding:0 8px;height:28px;gap:4px;font-size:12px;}/*!sc*/
.htXhGX[data-size="small"] [data-component="text"]{line-height:calc(20 / 12);}/*!sc*/
.htXhGX[data-size="small"] [data-component=ButtonCounter]{font-size:12px;}/*!sc*/
.htXhGX[data-size="small"] [data-component="buttonContent"] > :not(:last-child){margin-right:4px;}/*!sc*/
.htXhGX[data-size="small"][data-component=IconButton]{width:28px;padding:unset;}/*!sc*/
.htXhGX[data-size="large"]{padding:0 16px;height:40px;gap:8px;}/*!sc*/
.htXhGX[data-size="large"] [data-component="buttonContent"] > :not(:last-child){margin-right:8px;}/*!sc*/
.htXhGX[data-size="large"][data-component=IconButton]{width:40px;padding:unset;}/*!sc*/
.htXhGX[data-block="block"]{width:100%;}/*!sc*/
.htXhGX[data-inactive]:not([disabled]){background-color:var(--button-inactive-bgColor,var(--button-inactive-bgColor-rest,var(--color-btn-inactive-bg,#21262d)));border-color:var(--button-inactive-bgColor,var(--button-inactive-bgColor-rest,var(--color-btn-inactive-bg,#21262d)));color:var(--button-inactive-fgColor,var(--button-inactive-fgColor-rest,var(--color-btn-inactive-text,#8b949e)));}/*!sc*/
.htXhGX[data-inactive]:not([disabled]):focus-visible{box-shadow:none;}/*!sc*/
.htXhGX [data-component="leadingVisual"]{grid-area:leadingVisual;color:var(--fgColor-muted,var(--color-fg-muted,#848d97));}/*!sc*/
.htXhGX [data-component="text"]{grid-area:text;line-height:calc(20/14);white-space:nowrap;}/*!sc*/
.htXhGX [data-component="trailingVisual"]{grid-area:trailingVisual;}/*!sc*/
.htXhGX [data-component="trailingAction"]{margin-right:-4px;color:var(--fgColor-muted,var(--color-fg-muted,#848d97));}/*!sc*/
.htXhGX [data-component="buttonContent"]{-webkit-flex:1 0 auto;-ms-flex:1 0 auto;flex:1 0 auto;display:grid;grid-template-areas:"leadingVisual text trailingVisual";grid-template-columns:min-content minmax(0,auto) min-content;-webkit-align-items:center;-webkit-box-align:center;-ms-flex-align:center;align-items:center;-webkit-align-content:center;-ms-flex-line-pack:center;align-content:center;}/*!sc*/
.htXhGX [data-component="buttonContent"] > :not(:last-child){margin-right:8px;}/*!sc*/
.htXhGX:hover:not([disabled]){background-color:var(--control-transparent-bgColor-hover,var(--color-action-list-item-default-hover-bg,rgba(177,186,196,0.12)));}/*!sc*/
.htXhGX:active:not([disabled]){background-color:var(--control-transparent-bgColor-active,var(--color-action-list-item-default-active-bg,rgba(177,186,196,0.2)));}/*!sc*/
.htXhGX[aria-expanded=true]{background-color:var(--control-transparent-bgColor-selected,var(--color-action-list-item-default-selected-bg,rgba(177,186,196,0.08)));}/*!sc*/
.htXhGX[data-component="IconButton"][data-no-visuals]{color:var(--fgColor-muted,var(--color-fg-muted,#848d97));}/*!sc*/
.htXhGX[data-no-visuals]{color:var(--fgColor-accent,var(--color-accent-fg,#2f81f7));}/*!sc*/
.htXhGX:has([data-component="ButtonCounter"]){color:var(--button-default-fgColor-rest,var(--color-btn-text,#c9d1d9));}/*!sc*/
.htXhGX:disabled[data-no-visuals]{color:var(--fgColor-disabled,var(--color-primer-fg-disabled,#484f58));}/*!sc*/
.htXhGX:disabled[data-no-visuals] [data-component=ButtonCounter]{color:inherit;}/*!sc*/
.htXhGX[data-size="small"][data-no-visuals]{color:var(--fgColor-muted,var(--color-fg-muted,#848d97));}/*!sc*/
data-styled.g9[id="types__StyledButton-sc-ws60qy-0"]{content:"iKABXH,hfWObv,gBsjGI,XJZbf,cBjhIZ,IIGly,fXsbsD,hiXxwe,saA-Dg,hhunph,ecGgfP,dupbIv,dMUxwi,fCIOmi,ksnFc,htXhGX,"}/*!sc*/
.rTZSs{position:absolute;width:1px;height:1px;padding:0;margin:-1px;overflow:hidden;-webkit-clip:rect(0,0,0,0);clip:rect(0,0,0,0);white-space:nowrap;border-width:0;}/*!sc*/
data-styled.g10[id="_VisuallyHidden__VisuallyHidden-sc-11jhm7a-0"]{content:"rTZSs,"}/*!sc*/
.fUpWeN{display:inline-block;overflow:hidden;text-overflow:ellipsis;vertical-align:top;white-space:nowrap;max-width:125px;max-width:100%;}/*!sc*/
data-styled.g15[id="Truncate__StyledTruncate-sc-23o1d2-0"]{content:"fUpWeN,"}/*!sc*/
.izAlVj{position:relative;display:inline-block;}/*!sc*/
.izAlVj::after{position:absolute;z-index:1000000;display:none;padding:0.5em 0.75em;font:normal normal 11px/1.5 -apple-system,BlinkMacSystemFont,"Segoe UI","Noto Sans",Helvetica,Arial,sans-serif,"Apple Color Emoji","Segoe UI Emoji";-webkit-font-smoothing:subpixel-antialiased;color:var(--fgColor-onEmphasis,var(--color-fg-on-emphasis,#ffffff));text-align:center;-webkit-text-decoration:none;text-decoration:none;text-shadow:none;text-transform:none;-webkit-letter-spacing:normal;-moz-letter-spacing:normal;-ms-letter-spacing:normal;letter-spacing:normal;word-wrap:break-word;white-space:pre;pointer-events:none;content:attr(aria-label);background:var(--bgColor-emphasis,var(--color-neutral-emphasis-plus,#6e7681));border-radius:6px;opacity:0;}/*!sc*/
@-webkit-keyframes tooltip-appear{from{opacity:0;}to{opacity:1;}}/*!sc*/
@keyframes tooltip-appear{from{opacity:0;}to{opacity:1;}}/*!sc*/
.izAlVj:hover::after,.izAlVj:active::after,.izAlVj:focus::after,.izAlVj:focus-within::after{display:inline-block;-webkit-text-decoration:none;text-decoration:none;-webkit-animation-name:tooltip-appear;animation-name:tooltip-appear;-webkit-animation-duration:0.1s;animation-duration:0.1s;-webkit-animation-fill-mode:forwards;animation-fill-mode:forwards;-webkit-animation-timing-function:ease-in;animation-timing-function:ease-in;-webkit-animation-delay:0s;animation-delay:0s;}/*!sc*/
.izAlVj.tooltipped-no-delay:hover::after,.izAlVj.tooltipped-no-delay:active::after,.izAlVj.tooltipped-no-delay:focus::after,.izAlVj.tooltipped-no-delay:focus-within::after{-webkit-animation-delay:0s;animation-delay:0s;}/*!sc*/
.izAlVj.tooltipped-multiline:hover::after,.izAlVj.tooltipped-multiline:active::after,.izAlVj.tooltipped-multiline:focus::after,.izAlVj.tooltipped-multiline:focus-within::after{display:table-cell;}/*!sc*/
.izAlVj.tooltipped-s::after,.izAlVj.tooltipped-se::after,.izAlVj.tooltipped-sw::after{top:100%;right:50%;margin-top:6px;}/*!sc*/
.izAlVj.tooltipped-se::after{right:auto;left:50%;margin-left:-16px;}/*!sc*/
.izAlVj.tooltipped-sw::after{margin-right:-16px;}/*!sc*/
.izAlVj.tooltipped-n::after,.izAlVj.tooltipped-ne::after,.izAlVj.tooltipped-nw::after{right:50%;bottom:100%;margin-bottom:6px;}/*!sc*/
.izAlVj.tooltipped-ne::after{right:auto;left:50%;margin-left:-16px;}/*!sc*/
.izAlVj.tooltipped-nw::after{margin-right:-16px;}/*!sc*/
.izAlVj.tooltipped-s::after,.izAlVj.tooltipped-n::after{-webkit-transform:translateX(50%);-ms-transform:translateX(50%);transform:translateX(50%);}/*!sc*/
.izAlVj.tooltipped-w::after{right:100%;bottom:50%;margin-right:6px;-webkit-transform:translateY(50%);-ms-transform:translateY(50%);transform:translateY(50%);}/*!sc*/
.izAlVj.tooltipped-e::after{bottom:50%;left:100%;margin-left:6px;-webkit-transform:translateY(50%);-ms-transform:translateY(50%);transform:translateY(50%);}/*!sc*/
.izAlVj.tooltipped-multiline::after{width:-webkit-max-content;width:-moz-max-content;width:max-content;max-width:250px;word-wrap:break-word;white-space:pre-line;border-collapse:separate;}/*!sc*/
.izAlVj.tooltipped-multiline.tooltipped-s::after,.izAlVj.tooltipped-multiline.tooltipped-n::after{right:auto;left:50%;-webkit-transform:translateX(-50%);-ms-transform:translateX(-50%);transform:translateX(-50%);}/*!sc*/
.izAlVj.tooltipped-multiline.tooltipped-w::after,.izAlVj.tooltipped-multiline.tooltipped-e::after{right:100%;}/*!sc*/
.izAlVj.tooltipped-align-right-2::after{right:0;margin-right:0;}/*!sc*/
.izAlVj.tooltipped-align-left-2::after{left:0;margin-left:0;}/*!sc*/
data-styled.g18[id="Tooltip__TooltipBase-sc-17tf59c-0"]{content:"izAlVj,"}/*!sc*/
.hPEVNM{-webkit-animation:rotate-keyframes 1s linear infinite;animation:rotate-keyframes 1s linear infinite;}/*!sc*/
@-webkit-keyframes rotate-keyframes{100%{-webkit-transform:rotate(360deg);-ms-transform:rotate(360deg);transform:rotate(360deg);}}/*!sc*/
@keyframes rotate-keyframes{100%{-webkit-transform:rotate(360deg);-ms-transform:rotate(360deg);transform:rotate(360deg);}}/*!sc*/
data-styled.g28[id="Spinner__StyledSpinner-sc-1knt686-0"]{content:"hPEVNM,"}/*!sc*/
.kbCZWh{font-size:14px;line-height:20px;color:var(--fgColor-default,var(--color-fg-default,#e6edf3));vertical-align:middle;background-color:var(--bgColor-default,var(--color-canvas-default,#0d1117));border:1px solid var(--control-borderColor-rest,var(--borderColor-default,var(--color-border-default,#30363d)));border-radius:6px;outline:none;box-shadow:var(--shadow-inset,var(--color-primer-shadow-inset,0 0 transparent));display:-webkit-inline-box;display:-webkit-inline-flex;display:-ms-inline-flexbox;display:inline-flex;-webkit-align-items:stretch;-webkit-box-align:stretch;-ms-flex-align:stretch;align-items:stretch;min-height:32px;overflow:hidden;display:-webkit-box;display:-webkit-flex;display:-ms-flexbox;display:flex;min-width:160px;}/*!sc*/
.kbCZWh input,.kbCZWh textarea{cursor:text;}/*!sc*/
.kbCZWh select{cursor:pointer;}/*!sc*/
.kbCZWh input::-webkit-input-placeholder,.kbCZWh textarea::-webkit-input-placeholder,.kbCZWh select::-webkit-input-placeholder{color:var(---control-fgColor-placeholder,var(--fgColor-muted,var(--color-fg-muted,#848d97)));}/*!sc*/
.kbCZWh input::-moz-placeholder,.kbCZWh textarea::-moz-placeholder,.kbCZWh select::-moz-placeholder{color:var(---control-fgColor-placeholder,var(--fgColor-muted,var(--color-fg-muted,#848d97)));}/*!sc*/
.kbCZWh input:-ms-input-placeholder,.kbCZWh textarea:-ms-input-placeholder,.kbCZWh select:-ms-input-placeholder{color:var(---control-fgColor-placeholder,var(--fgColor-muted,var(--color-fg-muted,#848d97)));}/*!sc*/
.kbCZWh input::placeholder,.kbCZWh textarea::placeholder,.kbCZWh select::placeholder{color:var(---control-fgColor-placeholder,var(--fgColor-muted,var(--color-fg-muted,#848d97)));}/*!sc*/
.kbCZWh:focus-within{border-color:var(--fgColor-accent,var(--color-accent-fg,#2f81f7));outline:2px solid var(--fgColor-accent,var(--color-accent-fg,#2f81f7));outline-offset:-1px;}/*!sc*/
.kbCZWh > textarea{padding:12px;}/*!sc*/
@media (min-width:768px){.kbCZWh{font-size:14px;}}/*!sc*/
data-styled.g37[id="TextInputWrapper__TextInputBaseWrapper-sc-1mqhpbi-0"]{content:"kbCZWh,"}/*!sc*/
.jxgrJS{background-repeat:no-repeat;background-position:right 8px center;padding-left:12px;padding-right:12px;display:-webkit-box;display:-webkit-flex;display:-ms-flexbox;display:flex;min-width:160px;}/*!sc*/
.jxgrJS > :not(:last-child){margin-right:8px;}/*!sc*/
.jxgrJS .TextInput-icon,.jxgrJS .TextInput-action{-webkit-align-self:center;-ms-flex-item-align:center;align-self:center;color:var(--fgColor-muted,var(--color-fg-muted,#848d97));-webkit-flex-shrink:0;-ms-flex-negative:0;flex-shrink:0;}/*!sc*/
.jxgrJS > input,.jxgrJS > select{padding-left:0;padding-right:0;}/*!sc*/
data-styled.g38[id="TextInputWrapper-sc-1mqhpbi-1"]{content:"jxgrJS,"}/*!sc*/
.cDLBls{border:0;font-size:inherit;font-family:inherit;background-color:transparent;-webkit-appearance:none;color:inherit;width:100%;}/*!sc*/
.cDLBls:focus{outline:0;}/*!sc*/
data-styled.g39[id="UnstyledTextInput-sc-14ypya-0"]{content:"cDLBls,"}/*!sc*/
.NCWSJ{--segmented-control-button-inner-padding:12px;--segmented-control-button-bg-inset:4px;--segmented-control-outer-radius:6px;background-color:transparent;border-color:transparent;border-radius:var(--segmented-control-outer-radius);border-width:0;color:currentColor;cursor:pointer;font-family:inherit;font-size:inherit;font-weight:600;padding:0;height:100%;width:100%;}/*!sc*/
.NCWSJ .segmentedControl-content{-webkit-align-items:center;-webkit-box-align:center;-ms-flex-align:center;align-items:center;background-color:var(--controlKnob-bgColor-rest,var(--color-segmented-control-button-bg,#0d1117));border-color:var(--controlKnob-borderColor-rest,var(--color-segmented-control-button-selected-border,#6e7681));border-style:solid;border-width:1px;border-radius:var(--segmented-control-outer-radius);display:-webkit-box;display:-webkit-flex;display:-ms-flexbox;display:flex;height:100%;-webkit-box-pack:center;-webkit-justify-content:center;-ms-flex-pack:center;justify-content:center;padding-left:var(--segmented-control-button-inner-padding);padding-right:var(--segmented-control-button-inner-padding);}/*!sc*/
.NCWSJ svg{fill:var(--fgColor-muted,var(--color-fg-muted,#848d97));}/*!sc*/
.NCWSJ:focus:focus-visible:not(:last-child):after{width:0;}/*!sc*/
.NCWSJ .segmentedControl-text:after{content:"Preview";display:block;font-weight:600;height:0;overflow:hidden;pointer-events:none;-webkit-user-select:none;-moz-user-select:none;-ms-user-select:none;user-select:none;visibility:hidden;}/*!sc*/
@media (pointer:coarse){.NCWSJ:before{content:"";position:absolute;left:0;right:0;-webkit-transform:translateY(-50%);-ms-transform:translateY(-50%);transform:translateY(-50%);top:50%;min-height:44px;}}/*!sc*/
.lfqhlR{--segmented-control-button-inner-padding:12px;--segmented-control-button-bg-inset:4px;--segmented-control-outer-radius:6px;background-color:transparent;border-color:transparent;border-radius:var(--segmented-control-outer-radius);border-width:0;color:currentColor;cursor:pointer;font-family:inherit;font-size:inherit;font-weight:400;padding:var(--segmented-control-button-bg-inset);height:100%;width:100%;}/*!sc*/
.lfqhlR .segmentedControl-content{-webkit-align-items:center;-webkit-box-align:center;-ms-flex-align:center;align-items:center;background-color:transparent;border-color:transparent;border-style:solid;border-width:1px;border-radius:calc(var(--segmented-control-outer-radius) - var(--segmented-control-button-bg-inset) / 2);display:-webkit-box;display:-webkit-flex;display:-ms-flexbox;display:flex;height:100%;-webkit-box-pack:center;-webkit-justify-content:center;-ms-flex-pack:center;justify-content:center;padding-left:calc(var(--segmented-control-button-inner-padding) - var(--segmented-control-button-bg-inset));padding-right:calc(var(--segmented-control-button-inner-padding) - var(--segmented-control-button-bg-inset));}/*!sc*/
.lfqhlR svg{fill:var(--fgColor-muted,var(--color-fg-muted,#848d97));}/*!sc*/
.lfqhlR:hover .segmentedControl-content{background-color:var(--controlTrack-bgColor-hover,var(--color-segmented-control-button-hover-bg,#30363d));}/*!sc*/
.lfqhlR:active .segmentedControl-content{background-color:var(--controlTrack-bgColor-active,var(--color-segmented-control-button-active-bg,#21262d));}/*!sc*/
.lfqhlR:focus:focus-visible:not(:last-child):after{width:0;}/*!sc*/
.lfqhlR .segmentedControl-text:after{content:"Code";display:block;font-weight:600;height:0;overflow:hidden;pointer-events:none;-webkit-user-select:none;-moz-user-select:none;-ms-user-select:none;user-select:none;visibility:hidden;}/*!sc*/
@media (pointer:coarse){.lfqhlR:before{content:"";position:absolute;left:0;right:0;-webkit-transform:translateY(-50%);-ms-transform:translateY(-50%);transform:translateY(-50%);top:50%;min-height:44px;}}/*!sc*/
.iDBPxb{--segmented-control-button-inner-padding:12px;--segmented-control-button-bg-inset:4px;--segmented-control-outer-radius:6px;background-color:transparent;border-color:transparent;border-radius:var(--segmented-control-outer-radius);border-width:0;color:currentColor;cursor:pointer;font-family:inherit;font-size:inherit;font-weight:400;padding:var(--segmented-control-button-bg-inset);height:100%;width:100%;}/*!sc*/
.iDBPxb .segmentedControl-content{-webkit-align-items:center;-webkit-box-align:center;-ms-flex-align:center;align-items:center;background-color:transparent;border-color:transparent;border-style:solid;border-width:1px;border-radius:calc(var(--segmented-control-outer-radius) - var(--segmented-control-button-bg-inset) / 2);display:-webkit-box;display:-webkit-flex;display:-ms-flexbox;display:flex;height:100%;-webkit-box-pack:center;-webkit-justify-content:center;-ms-flex-pack:center;justify-content:center;padding-left:calc(var(--segmented-control-button-inner-padding) - var(--segmented-control-button-bg-inset));padding-right:calc(var(--segmented-control-button-inner-padding) - var(--segmented-control-button-bg-inset));}/*!sc*/
.iDBPxb svg{fill:var(--fgColor-muted,var(--color-fg-muted,#848d97));}/*!sc*/
.iDBPxb:hover .segmentedControl-content{background-color:var(--controlTrack-bgColor-hover,var(--color-segmented-control-button-hover-bg,#30363d));}/*!sc*/
.iDBPxb:active .segmentedControl-content{background-color:var(--controlTrack-bgColor-active,var(--color-segmented-control-button-active-bg,#21262d));}/*!sc*/
.iDBPxb:focus:focus-visible:not(:last-child):after{width:0;}/*!sc*/
.iDBPxb .segmentedControl-text:after{content:"Blame";display:block;font-weight:600;height:0;overflow:hidden;pointer-events:none;-webkit-user-select:none;-moz-user-select:none;-ms-user-select:none;user-select:none;visibility:hidden;}/*!sc*/
@media (pointer:coarse){.iDBPxb:before{content:"";position:absolute;left:0;right:0;-webkit-transform:translateY(-50%);-ms-transform:translateY(-50%);transform:translateY(-50%);top:50%;min-height:44px;}}/*!sc*/
data-styled.g69[id="SegmentedControlButton__SegmentedControlButtonStyled-sc-8lkgxl-0"]{content:"NCWSJ,lfqhlR,iDBPxb,"}/*!sc*/
.dlXtLG{background-color:var(--controlTrack-bgColor-rest,var(--color-segmented-control-bg,rgba(110,118,129,0.1)));border-radius:6px;display:-webkit-inline-box;display:-webkit-inline-flex;display:-ms-inline-flexbox;display:inline-flex;font-size:14px;height:28px;margin:0;padding:0;}/*!sc*/
data-styled.g71[id="SegmentedControl__SegmentedControlList-sc-1rzig82-0"]{content:"dlXtLG,"}/*!sc*/
.dcpVHE{list-style:none;padding:0;margin:0;}/*!sc*/
.dcpVHE .PRIVATE_TreeView-item{outline:none;}/*!sc*/
.dcpVHE .PRIVATE_TreeView-item:focus-visible > div,.dcpVHE .PRIVATE_TreeView-item.focus-visible > div{box-shadow:inset 0 0 0 2px var(--fgColor-accent,var(--color-accent-fg,#2f81f7));}/*!sc*/
@media (forced-colors:active){.dcpVHE .PRIVATE_TreeView-item:focus-visible > div,.dcpVHE .PRIVATE_TreeView-item.focus-visible > div{outline:2px solid HighlightText;outline-offset:-2;}}/*!sc*/
.dcpVHE .PRIVATE_TreeView-item-container{--level:1;--toggle-width:1rem;position:relative;display:grid;grid-template-columns:calc(calc(var(--level) - 1) * (var(--toggle-width) / 2)) var(--toggle-width) 1fr;grid-template-areas:'spacer toggle content';width:100%;min-height:2rem;font-size:14px;color:var(--fgColor-default,var(--color-fg-default,#e6edf3));border-radius:6px;cursor:pointer;}/*!sc*/
.dcpVHE .PRIVATE_TreeView-item-container:hover{background-color:var(--control-transparent-bgColor-hover,var(--color-action-list-item-default-hover-bg,rgba(177,186,196,0.12)));}/*!sc*/
@media (forced-colors:active){.dcpVHE .PRIVATE_TreeView-item-container:hover{outline:2px solid transparent;outline-offset:-2px;}}/*!sc*/
@media (pointer:coarse){.dcpVHE .PRIVATE_TreeView-item-container{--toggle-width:1.5rem;min-height:2.75rem;}}/*!sc*/
.dcpVHE .PRIVATE_TreeView-item-container:has(.PRIVATE_TreeView-item-skeleton):hover{background-color:transparent;cursor:default;}/*!sc*/
@media (forced-colors:active){.dcpVHE .PRIVATE_TreeView-item-container:has(.PRIVATE_TreeView-item-skeleton):hover{outline:none;}}/*!sc*/
.dcpVHE[data-omit-spacer='true'] .PRIVATE_TreeView-item-container{grid-template-columns:0 0 1fr;}/*!sc*/
.dcpVHE .PRIVATE_TreeView-item[aria-current='true'] > .PRIVATE_TreeView-item-container{background-color:var(--control-transparent-bgColor-selected,var(--color-action-list-item-default-selected-bg,rgba(177,186,196,0.08)));}/*!sc*/
.dcpVHE .PRIVATE_TreeView-item[aria-current='true'] > .PRIVATE_TreeView-item-container::after{content:'';position:absolute;top:calc(50% - 0.75rem);left:-8px;width:0.25rem;height:1.5rem;background-color:var(--fgColor-accent,var(--color-accent-fg,#2f81f7));border-radius:6px;}/*!sc*/
@media (forced-colors:active){.dcpVHE .PRIVATE_TreeView-item[aria-current='true'] > .PRIVATE_TreeView-item-container::after{background-color:HighlightText;}}/*!sc*/
.dcpVHE .PRIVATE_TreeView-item-toggle{grid-area:toggle;display:-webkit-box;display:-webkit-flex;display:-ms-flexbox;display:flex;-webkit-align-items:center;-webkit-box-align:center;-ms-flex-align:center;align-items:center;-webkit-box-pack:center;-webkit-justify-content:center;-ms-flex-pack:center;justify-content:center;height:100%;color:var(--fgColor-muted,var(--color-fg-muted,#848d97));}/*!sc*/
.dcpVHE .PRIVATE_TreeView-item-toggle--hover:hover{background-color:var(--control-transparent-bgColor-hover,var(--color-tree-view-item-chevron-hover-bg,rgba(177,186,196,0.12)));}/*!sc*/
.dcpVHE .PRIVATE_TreeView-item-toggle--end{border-top-left-radius:6px;border-bottom-left-radius:6px;}/*!sc*/
.dcpVHE .PRIVATE_TreeView-item-content{grid-area:content;display:-webkit-box;display:-webkit-flex;display:-ms-flexbox;display:flex;-webkit-align-items:center;-webkit-box-align:center;-ms-flex-align:center;align-items:center;height:100%;padding:0 8px;gap:8px;}/*!sc*/
.dcpVHE .PRIVATE_TreeView-item-content-text{-webkit-flex:1 1 auto;-ms-flex:1 1 auto;flex:1 1 auto;width:0;overflow:hidden;white-space:nowrap;text-overflow:ellipsis;}/*!sc*/
.dcpVHE .PRIVATE_TreeView-item-visual{display:-webkit-box;display:-webkit-flex;display:-ms-flexbox;display:flex;color:var(--fgColor-muted,var(--color-fg-muted,#848d97));}/*!sc*/
.dcpVHE .PRIVATE_TreeView-item-level-line{width:100%;height:100%;border-right:1px solid;border-color:var(--borderColor-muted,var(--color-border-subtle,rgba(240,246,252,0.1)));}/*!sc*/
@media (hover:hover){.dcpVHE .PRIVATE_TreeView-item-level-line{border-color:transparent;}.dcpVHE:hover .PRIVATE_TreeView-item-level-line,.dcpVHE:focus-within .PRIVATE_TreeView-item-level-line{border-color:var(--borderColor-muted,var(--color-border-subtle,rgba(240,246,252,0.1)));}}/*!sc*/
.dcpVHE .PRIVATE_TreeView-directory-icon{display:grid;color:var(--treeViewItem-leadingVisual-bgColor-rest,var(--color-tree-view-item-directory-fill,#848d97));}/*!sc*/
.dcpVHE .PRIVATE_VisuallyHidden{position:absolute;width:1px;height:1px;padding:0;margin:-1px;overflow:hidden;-webkit-clip:rect(0,0,0,0);clip:rect(0,0,0,0);white-space:nowrap;border-width:0;}/*!sc*/
data-styled.g85[id="TreeView__UlBox-sc-4ex6b6-0"]{content:"dcpVHE,"}/*!sc*/
.cjbBGq{display:-webkit-inline-box;display:-webkit-inline-flex;display:-ms-inline-flexbox;display:inline-flex;vertical-align:middle;isolation:isolate;}/*!sc*/
.cjbBGq.cjbBGq > *{margin-inline-end:-1px;position:relative;border-radius:0;}/*!sc*/
.cjbBGq.cjbBGq > *:first-child{border-top-left-radius:6px;border-bottom-left-radius:6px;}/*!sc*/
.cjbBGq.cjbBGq > *:last-child{border-top-right-radius:6px;border-bottom-right-radius:6px;}/*!sc*/
.cjbBGq.cjbBGq > *:focus,.cjbBGq.cjbBGq > *:active,.cjbBGq.cjbBGq > *:hover{z-index:1;}/*!sc*/
data-styled.g87[id="ButtonGroup-sc-1gxhls1-0"]{content:"cjbBGq,"}/*!sc*/
</style><meta data-hydrostats="publish"/> <!-- --> <!-- --> <!-- --> <button hidden="" data-testid="header-permalink-button" data-hotkey-scope="read-only-cursor-text-area"></button><button hidden=""></button><div><div style="--sticky-pane-height:100vh" class="Box-sc-g0xbh4-0 fSWWem"><div class="Box-sc-g0xbh4-0 kPPmzM"><div class="Box-sc-g0xbh4-0 cIAPDV"><div tabindex="0" class="Box-sc-g0xbh4-0 gvCnwW"><div class="Box-sc-g0xbh4-0 xEgty"><div class="Box-sc-g0xbh4-0 eUyHuk"></div><div style="--pane-width:320px" class="Box-sc-g0xbh4-0 gNdDUH"><div class="Box-sc-g0xbh4-0 react-tree-pane-contents"><div id="repos-file-tree" class="Box-sc-g0xbh4-0 jywUSN"><div class="Box-sc-g0xbh4-0 hBSSUC"><div class="Box-sc-g0xbh4-0 iPurHz"><h2 class="Heading__StyledHeading-sc-1c1dgg0-0 jUriTl"><button style="--button-color:fg.muted" type="button" aria-label="Expand file tree" data-testid="expand-file-tree-button-mobile" class="types__StyledButton-sc-ws60qy-0 iKABXH"><span data-component="buttonContent" class="Box-sc-g0xbh4-0 kkrdEu"><span data-component="leadingVisual" class="Box-sc-g0xbh4-0 trpoQ"><svg aria-hidden="true" focusable="false" role="img" class="octicon octicon-arrow-left" viewBox="0 0 16 16" width="16" height="16" fill="currentColor" style="display:inline-block;user-select:none;vertical-align:text-bottom;overflow:visible"><path d="M7.78 12.53a.75.75 0 0 1-1.06 0L2.47 8.28a.75.75 0 0 1 0-1.06l4.25-4.25a.751.751 0 0 1 1.042.018.751.751 0 0 1 .018 1.042L4.81 7h7.44a.75.75 0 0 1 0 1.5H4.81l2.97 2.97a.75.75 0 0 1 0 1.06Z"></path></svg></span><span data-component="text">Files</span></span></button><span role="tooltip" aria-label="Collapse file tree" id="expand-button-file-tree-button" class="Tooltip__TooltipBase-sc-17tf59c-0 izAlVj tooltipped-se"><button data-component="IconButton" type="button" data-testid="collapse-file-tree-button" aria-labelledby="expand-button-file-tree-button" aria-expanded="true" aria-controls="repos-file-tree" class="types__StyledButton-sc-ws60qy-0 hfWObv" data-no-visuals="true"><svg aria-hidden="true" focusable="false" role="img" class="octicon octicon-sidebar-expand" viewBox="0 0 16 16" width="16" height="16" fill="currentColor" style="display:inline-block;user-select:none;vertical-align:text-bottom;overflow:visible"><path d="m4.177 7.823 2.396-2.396A.25.25 0 0 1 7 5.604v4.792a.25.25 0 0 1-.427.177L4.177 8.177a.25.25 0 0 1 0-.354Z"></path><path d="M0 1.75C0 .784.784 0 1.75 0h12.5C15.216 0 16 .784 16 1.75v12.5A1.75 1.75 0 0 1 14.25 16H1.75A1.75 1.75 0 0 1 0 14.25Zm1.75-.25a.25.25 0 0 0-.25.25v12.5c0 .138.112.25.25.25H9.5v-13Zm12.5 13a.25.25 0 0 0 .25-.25V1.75a.25.25 0 0 0-.25-.25H11v13Z"></path></svg></button></span><button hidden="" data-testid="" data-hotkey-scope="read-only-cursor-text-area"></button></h2><h2 class="Heading__StyledHeading-sc-1c1dgg0-0 imcwCi">Files</h2></div><div class="Box-sc-g0xbh4-0 hVHHYa"><div class="Box-sc-g0xbh4-0 idZfsJ"><button type="button" id="branch-picker-repos-header-ref-selector" aria-haspopup="true" tabindex="0" aria-label="main branch" data-testid="anchor-button" class="types__StyledButton-sc-ws60qy-0 gBsjGI react-repos-tree-pane-ref-selector width-full ref-selector-class"><span data-component="buttonContent" class="Box-sc-g0xbh4-0 kkrdEu"><span data-component="text"><div class="Box-sc-g0xbh4-0 bKgizp"><div class="Box-sc-g0xbh4-0 dIAShY"><svg aria-hidden="true" focusable="false" role="img" class="octicon octicon-git-branch" viewBox="0 0 16 16" width="16" height="16" fill="currentColor" style="display:inline-block;user-select:none;vertical-align:text-bottom;overflow:visible"><path d="M9.5 3.25a2.25 2.25 0 1 1 3 2.122V6A2.5 2.5 0 0 1 10 8.5H6a1 1 0 0 0-1 1v1.128a2.251 2.251 0 1 1-1.5 0V5.372a2.25 2.25 0 1 1 1.5 0v1.836A2.493 2.493 0 0 1 6 7h4a1 1 0 0 0 1-1v-.628A2.25 2.25 0 0 1 9.5 3.25Zm-6 0a.75.75 0 1 0 1.5 0 .75.75 0 0 0-1.5 0Zm8.25-.75a.75.75 0 1 0 0 1.5.75.75 0 0 0 0-1.5ZM4.25 12a.75.75 0 1 0 0 1.5.75.75 0 0 0 0-1.5Z"></path></svg></div><div class="Box-sc-g0xbh4-0 caeYDk ref-selector-button-text-container"><span class="Text-sc-17v1xeu-0 bOMzPg"> <!-- -->main</span></div></div></span><span data-component="trailingVisual" class="Box-sc-g0xbh4-0 trpoQ"><svg aria-hidden="true" focusable="false" role="img" class="octicon octicon-triangle-down" viewBox="0 0 16 16" width="16" height="16" fill="currentColor" style="display:inline-block;user-select:none;vertical-align:text-bottom;overflow:visible"><path d="m4.427 7.427 3.396 3.396a.25.25 0 0 0 .354 0l3.396-3.396A.25.25 0 0 0 11.396 7H4.604a.25.25 0 0 0-.177.427Z"></path></svg></span></span></button><button hidden="" data-hotkey-scope="read-only-cursor-text-area"></button></div><div class="Box-sc-g0xbh4-0 jahcnb"><span role="tooltip" aria-label="Add file" class="Tooltip__TooltipBase-sc-17tf59c-0 izAlVj tooltipped-s"><a sx="[object Object]" data-component="IconButton" type="button" aria-label="Add file" data-no-visuals="true" class="types__StyledButton-sc-ws60qy-0 XJZbf" href="/AlexLaudiano/imersao_python/new/main/Aula_4"><svg aria-hidden="true" focusable="false" role="img" class="octicon octicon-plus" viewBox="0 0 16 16" width="16" height="16" fill="currentColor" style="display:inline-block;user-select:none;vertical-align:text-bottom;overflow:visible"><path d="M7.75 2a.75.75 0 0 1 .75.75V7h4.25a.75.75 0 0 1 0 1.5H8.5v4.25a.75.75 0 0 1-1.5 0V8.5H2.75a.75.75 0 0 1 0-1.5H7V2.75A.75.75 0 0 1 7.75 2Z"></path></svg></a></span><button data-component="IconButton" type="button" aria-label="Search this repository" data-no-visuals="true" class="types__StyledButton-sc-ws60qy-0 cBjhIZ"><svg aria-hidden="true" focusable="false" role="img" class="octicon octicon-search" viewBox="0 0 16 16" width="16" height="16" fill="currentColor" style="display:inline-block;user-select:none;vertical-align:text-bottom;overflow:visible"><path d="M10.68 11.74a6 6 0 0 1-7.922-8.982 6 6 0 0 1 8.982 7.922l3.04 3.04a.749.749 0 0 1-.326 1.275.749.749 0 0 1-.734-.215ZM11.5 7a4.499 4.499 0 1 0-8.997 0A4.499 4.499 0 0 0 11.5 7Z"></path></svg></button><button hidden="" data-testid="" data-hotkey-scope="read-only-cursor-text-area"></button></div></div></div><div class="Box-sc-g0xbh4-0 ccToMy"><span class="TextInputWrapper__TextInputBaseWrapper-sc-1mqhpbi-0 TextInputWrapper-sc-1mqhpbi-1 kbCZWh jxgrJS TextInput-wrapper" aria-busy="false"><span class="TextInput-icon"><svg aria-hidden="true" focusable="false" role="img" class="octicon octicon-search" viewBox="0 0 16 16" width="16" height="16" fill="currentColor" style="display:inline-block;user-select:none;vertical-align:text-bottom;overflow:visible"><path d="M10.68 11.74a6 6 0 0 1-7.922-8.982 6 6 0 0 1 8.982 7.922l3.04 3.04a.749.749 0 0 1-.326 1.275.749.749 0 0 1-.734-.215ZM11.5 7a4.499 4.499 0 1 0-8.997 0A4.499 4.499 0 0 0 11.5 7Z"></path></svg></span><input type="text" aria-label="Go to file" role="combobox" aria-controls="file-results-list" aria-expanded="false" aria-haspopup="dialog" autoCorrect="off" spellcheck="false" placeholder="Go to file" data-component="input" class="UnstyledTextInput-sc-14ypya-0 cDLBls" value=""/><span class="TextInput-icon"><div class="Box-sc-g0xbh4-0 cNvKlH"><kbd>t</kbd></div></span></span></div><button hidden="" data-testid="" data-hotkey-scope="read-only-cursor-text-area"></button><button hidden=""></button><div class="Box-sc-g0xbh4-0 cLfAnm"><div class="react-tree-show-tree-items"><div data-testid="repos-file-tree-container" class="Box-sc-g0xbh4-0 erWCJP"><nav aria-label="File Tree Navigation"><span role="status" aria-live="polite" aria-atomic="true" class="_VisuallyHidden__VisuallyHidden-sc-11jhm7a-0 rTZSs"></span><ul role="tree" aria-label="Files" class="TreeView__UlBox-sc-4ex6b6-0 dcpVHE"><li class="PRIVATE_TreeView-item" tabindex="0" id="Aula_1-item" role="treeitem" aria-labelledby=":Rqclmdaj5:" aria-describedby=":Rqclmdaj5H1: :Rqclmdaj5H2:" aria-level="1" aria-expanded="false" aria-selected="false"><div class="PRIVATE_TreeView-item-container" style="--level:1;content-visibility:auto;contain-intrinsic-size:auto 2rem"><div style="grid-area:spacer;display:flex"><div style="width:100%;display:flex"></div></div><div class="PRIVATE_TreeView-item-toggle PRIVATE_TreeView-item-toggle--hover PRIVATE_TreeView-item-toggle--end"><svg aria-hidden="true" focusable="false" role="img" class="octicon octicon-chevron-right" viewBox="0 0 12 12" width="12" height="12" fill="currentColor" style="display:inline-block;user-select:none;vertical-align:text-bottom;overflow:visible"><path d="M4.7 10c-.2 0-.4-.1-.5-.2-.3-.3-.3-.8 0-1.1L6.9 6 4.2 3.3c-.3-.3-.3-.8 0-1.1.3-.3.8-.3 1.1 0l3.3 3.2c.3.3.3.8 0 1.1L5.3 9.7c-.2.2-.4.3-.6.3Z"></path></svg></div><div id=":Rqclmdaj5:" class="PRIVATE_TreeView-item-content"><div class="PRIVATE_VisuallyHidden" aria-hidden="true" id=":Rqclmdaj5H1:"></div><div class="PRIVATE_TreeView-item-visual" aria-hidden="true"><div class="PRIVATE_TreeView-directory-icon"><svg aria-hidden="true" focusable="false" role="img" class="octicon octicon-file-directory-fill" viewBox="0 0 16 16" width="16" height="16" fill="currentColor" style="display:inline-block;user-select:none;vertical-align:text-bottom;overflow:visible"><path d="M1.75 1A1.75 1.75 0 0 0 0 2.75v10.5C0 14.216.784 15 1.75 15h12.5A1.75 1.75 0 0 0 16 13.25v-8.5A1.75 1.75 0 0 0 14.25 3H7.5a.25.25 0 0 1-.2-.1l-.9-1.2C6.07 1.26 5.55 1 5 1H1.75Z"></path></svg></div></div><span class="PRIVATE_TreeView-item-content-text"><span>Aula_1</span></span></div></div></li><li class="PRIVATE_TreeView-item" tabindex="0" id="Aula_2-item" role="treeitem" aria-labelledby=":R1aclmdaj5:" aria-describedby=":R1aclmdaj5H1: :R1aclmdaj5H2:" aria-level="1" aria-expanded="false" aria-selected="false"><div class="PRIVATE_TreeView-item-container" style="--level:1;content-visibility:auto;contain-intrinsic-size:auto 2rem"><div style="grid-area:spacer;display:flex"><div style="width:100%;display:flex"></div></div><div class="PRIVATE_TreeView-item-toggle PRIVATE_TreeView-item-toggle--hover PRIVATE_TreeView-item-toggle--end"><svg aria-hidden="true" focusable="false" role="img" class="octicon octicon-chevron-right" viewBox="0 0 12 12" width="12" height="12" fill="currentColor" style="display:inline-block;user-select:none;vertical-align:text-bottom;overflow:visible"><path d="M4.7 10c-.2 0-.4-.1-.5-.2-.3-.3-.3-.8 0-1.1L6.9 6 4.2 3.3c-.3-.3-.3-.8 0-1.1.3-.3.8-.3 1.1 0l3.3 3.2c.3.3.3.8 0 1.1L5.3 9.7c-.2.2-.4.3-.6.3Z"></path></svg></div><div id=":R1aclmdaj5:" class="PRIVATE_TreeView-item-content"><div class="PRIVATE_VisuallyHidden" aria-hidden="true" id=":R1aclmdaj5H1:"></div><div class="PRIVATE_TreeView-item-visual" aria-hidden="true"><div class="PRIVATE_TreeView-directory-icon"><svg aria-hidden="true" focusable="false" role="img" class="octicon octicon-file-directory-fill" viewBox="0 0 16 16" width="16" height="16" fill="currentColor" style="display:inline-block;user-select:none;vertical-align:text-bottom;overflow:visible"><path d="M1.75 1A1.75 1.75 0 0 0 0 2.75v10.5C0 14.216.784 15 1.75 15h12.5A1.75 1.75 0 0 0 16 13.25v-8.5A1.75 1.75 0 0 0 14.25 3H7.5a.25.25 0 0 1-.2-.1l-.9-1.2C6.07 1.26 5.55 1 5 1H1.75Z"></path></svg></div></div><span class="PRIVATE_TreeView-item-content-text"><span>Aula_2</span></span></div></div></li><li class="PRIVATE_TreeView-item" tabindex="0" id="Aula_3-item" role="treeitem" aria-labelledby=":R1qclmdaj5:" aria-describedby=":R1qclmdaj5H1: :R1qclmdaj5H2:" aria-level="1" aria-expanded="false" aria-selected="false"><div class="PRIVATE_TreeView-item-container" style="--level:1;content-visibility:auto;contain-intrinsic-size:auto 2rem"><div style="grid-area:spacer;display:flex"><div style="width:100%;display:flex"></div></div><div class="PRIVATE_TreeView-item-toggle PRIVATE_TreeView-item-toggle--hover PRIVATE_TreeView-item-toggle--end"><svg aria-hidden="true" focusable="false" role="img" class="octicon octicon-chevron-right" viewBox="0 0 12 12" width="12" height="12" fill="currentColor" style="display:inline-block;user-select:none;vertical-align:text-bottom;overflow:visible"><path d="M4.7 10c-.2 0-.4-.1-.5-.2-.3-.3-.3-.8 0-1.1L6.9 6 4.2 3.3c-.3-.3-.3-.8 0-1.1.3-.3.8-.3 1.1 0l3.3 3.2c.3.3.3.8 0 1.1L5.3 9.7c-.2.2-.4.3-.6.3Z"></path></svg></div><div id=":R1qclmdaj5:" class="PRIVATE_TreeView-item-content"><div class="PRIVATE_VisuallyHidden" aria-hidden="true" id=":R1qclmdaj5H1:"></div><div class="PRIVATE_TreeView-item-visual" aria-hidden="true"><div class="PRIVATE_TreeView-directory-icon"><svg aria-hidden="true" focusable="false" role="img" class="octicon octicon-file-directory-fill" viewBox="0 0 16 16" width="16" height="16" fill="currentColor" style="display:inline-block;user-select:none;vertical-align:text-bottom;overflow:visible"><path d="M1.75 1A1.75 1.75 0 0 0 0 2.75v10.5C0 14.216.784 15 1.75 15h12.5A1.75 1.75 0 0 0 16 13.25v-8.5A1.75 1.75 0 0 0 14.25 3H7.5a.25.25 0 0 1-.2-.1l-.9-1.2C6.07 1.26 5.55 1 5 1H1.75Z"></path></svg></div></div><span class="PRIVATE_TreeView-item-content-text"><span>Aula_3</span></span></div></div></li><li class="PRIVATE_TreeView-item" tabindex="0" id="Aula_4-item" role="treeitem" aria-labelledby=":R2aclmdaj5:" aria-describedby=":R2aclmdaj5H1: :R2aclmdaj5H2:" aria-level="1" aria-expanded="true" aria-selected="false"><div class="PRIVATE_TreeView-item-container" style="--level:1;content-visibility:auto;contain-intrinsic-size:auto 2rem"><div style="grid-area:spacer;display:flex"><div style="width:100%;display:flex"></div></div><div class="PRIVATE_TreeView-item-toggle PRIVATE_TreeView-item-toggle--hover PRIVATE_TreeView-item-toggle--end"><svg aria-hidden="true" focusable="false" role="img" class="octicon octicon-chevron-down" viewBox="0 0 12 12" width="12" height="12" fill="currentColor" style="display:inline-block;user-select:none;vertical-align:text-bottom;overflow:visible"><path d="M6 8.825c-.2 0-.4-.1-.5-.2l-3.3-3.3c-.3-.3-.3-.8 0-1.1.3-.3.8-.3 1.1 0l2.7 2.7 2.7-2.7c.3-.3.8-.3 1.1 0 .3.3.3.8 0 1.1l-3.2 3.2c-.2.2-.4.3-.6.3Z"></path></svg></div><div id=":R2aclmdaj5:" class="PRIVATE_TreeView-item-content"><div class="PRIVATE_VisuallyHidden" aria-hidden="true" id=":R2aclmdaj5H1:"></div><div class="PRIVATE_TreeView-item-visual" aria-hidden="true"><div class="PRIVATE_TreeView-directory-icon"><svg aria-hidden="true" focusable="false" role="img" class="octicon octicon-file-directory-open-fill" viewBox="0 0 16 16" width="16" height="16" fill="currentColor" style="display:inline-block;user-select:none;vertical-align:text-bottom;overflow:visible"><path d="M.513 1.513A1.75 1.75 0 0 1 1.75 1h3.5c.55 0 1.07.26 1.4.7l.9 1.2a.25.25 0 0 0 .2.1H13a1 1 0 0 1 1 1v.5H2.75a.75.75 0 0 0 0 1.5h11.978a1 1 0 0 1 .994 1.117L15 13.25A1.75 1.75 0 0 1 13.25 15H1.75A1.75 1.75 0 0 1 0 13.25V2.75c0-.464.184-.91.513-1.237Z"></path></svg></div></div><span class="PRIVATE_TreeView-item-content-text"><span>Aula_4</span></span></div></div><ul role="group" style="list-style:none;padding:0;margin:0"><li class="PRIVATE_TreeView-item" tabindex="0" id="Aula_4/Imersão_Alura_Aula_4_Desafio.2.ipynb-item" role="treeitem" aria-labelledby=":R5maclmdaj5:" aria-describedby=":R5maclmdaj5H1: :R5maclmdaj5H2:" aria-level="2" aria-current="true" aria-selected="false"><div class="PRIVATE_TreeView-item-container" style="--level:2"><div style="grid-area:spacer;display:flex"><div style="width:100%;display:flex"><div class="PRIVATE_TreeView-item-level-line"></div></div></div><div id=":R5maclmdaj5:" class="PRIVATE_TreeView-item-content"><div class="PRIVATE_VisuallyHidden" aria-hidden="true" id=":R5maclmdaj5H1:"></div><div class="PRIVATE_TreeView-item-visual" aria-hidden="true"><svg aria-hidden="true" focusable="false" role="img" class="octicon octicon-file" viewBox="0 0 16 16" width="16" height="16" fill="currentColor" style="display:inline-block;user-select:none;vertical-align:text-bottom;overflow:visible"><path d="M2 1.75C2 .784 2.784 0 3.75 0h6.586c.464 0 .909.184 1.237.513l2.914 2.914c.329.328.513.773.513 1.237v9.586A1.75 1.75 0 0 1 13.25 16h-9.5A1.75 1.75 0 0 1 2 14.25Zm1.75-.25a.25.25 0 0 0-.25.25v12.5c0 .138.112.25.25.25h9.5a.25.25 0 0 0 .25-.25V6h-2.75A1.75 1.75 0 0 1 9 4.25V1.5Zm6.75.062V4.25c0 .138.112.25.25.25h2.688l-.011-.013-2.914-2.914-.013-.011Z"></path></svg></div><span class="PRIVATE_TreeView-item-content-text"><span>Imersão_Alura_Aula_4_Desafio.2.ipynb</span></span></div></div></li><li class="PRIVATE_TreeView-item" tabindex="0" id="Aula_4/Imersão_Alura_Aula_4_Desafio.ipynb-item" role="treeitem" aria-labelledby=":R9maclmdaj5:" aria-describedby=":R9maclmdaj5H1: :R9maclmdaj5H2:" aria-level="2" aria-selected="false"><div class="PRIVATE_TreeView-item-container" style="--level:2;content-visibility:auto;contain-intrinsic-size:auto 2rem"><div style="grid-area:spacer;display:flex"><div style="width:100%;display:flex"><div class="PRIVATE_TreeView-item-level-line"></div></div></div><div id=":R9maclmdaj5:" class="PRIVATE_TreeView-item-content"><div class="PRIVATE_VisuallyHidden" aria-hidden="true" id=":R9maclmdaj5H1:"></div><div class="PRIVATE_TreeView-item-visual" aria-hidden="true"><svg aria-hidden="true" focusable="false" role="img" class="octicon octicon-file" viewBox="0 0 16 16" width="16" height="16" fill="currentColor" style="display:inline-block;user-select:none;vertical-align:text-bottom;overflow:visible"><path d="M2 1.75C2 .784 2.784 0 3.75 0h6.586c.464 0 .909.184 1.237.513l2.914 2.914c.329.328.513.773.513 1.237v9.586A1.75 1.75 0 0 1 13.25 16h-9.5A1.75 1.75 0 0 1 2 14.25Zm1.75-.25a.25.25 0 0 0-.25.25v12.5c0 .138.112.25.25.25h9.5a.25.25 0 0 0 .25-.25V6h-2.75A1.75 1.75 0 0 1 9 4.25V1.5Zm6.75.062V4.25c0 .138.112.25.25.25h2.688l-.011-.013-2.914-2.914-.013-.011Z"></path></svg></div><span class="PRIVATE_TreeView-item-content-text"><span>Imersão_Alura_Aula_4_Desafio.ipynb</span></span></div></div></li><li class="PRIVATE_TreeView-item" tabindex="0" id="Aula_4/Imersão_Python_Aula_4.ipynb-item" role="treeitem" aria-labelledby=":Rdmaclmdaj5:" aria-describedby=":Rdmaclmdaj5H1: :Rdmaclmdaj5H2:" aria-level="2" aria-selected="false"><div class="PRIVATE_TreeView-item-container" style="--level:2;content-visibility:auto;contain-intrinsic-size:auto 2rem"><div style="grid-area:spacer;display:flex"><div style="width:100%;display:flex"><div class="PRIVATE_TreeView-item-level-line"></div></div></div><div id=":Rdmaclmdaj5:" class="PRIVATE_TreeView-item-content"><div class="PRIVATE_VisuallyHidden" aria-hidden="true" id=":Rdmaclmdaj5H1:"></div><div class="PRIVATE_TreeView-item-visual" aria-hidden="true"><svg aria-hidden="true" focusable="false" role="img" class="octicon octicon-file" viewBox="0 0 16 16" width="16" height="16" fill="currentColor" style="display:inline-block;user-select:none;vertical-align:text-bottom;overflow:visible"><path d="M2 1.75C2 .784 2.784 0 3.75 0h6.586c.464 0 .909.184 1.237.513l2.914 2.914c.329.328.513.773.513 1.237v9.586A1.75 1.75 0 0 1 13.25 16h-9.5A1.75 1.75 0 0 1 2 14.25Zm1.75-.25a.25.25 0 0 0-.25.25v12.5c0 .138.112.25.25.25h9.5a.25.25 0 0 0 .25-.25V6h-2.75A1.75 1.75 0 0 1 9 4.25V1.5Zm6.75.062V4.25c0 .138.112.25.25.25h2.688l-.011-.013-2.914-2.914-.013-.011Z"></path></svg></div><span class="PRIVATE_TreeView-item-content-text"><span>Imersão_Python_Aula_4.ipynb</span></span></div></div></li><li class="PRIVATE_TreeView-item" tabindex="0" id="Aula_4/README.md-item" role="treeitem" aria-labelledby=":Rhmaclmdaj5:" aria-describedby=":Rhmaclmdaj5H1: :Rhmaclmdaj5H2:" aria-level="2" aria-selected="false"><div class="PRIVATE_TreeView-item-container" style="--level:2;content-visibility:auto;contain-intrinsic-size:auto 2rem"><div style="grid-area:spacer;display:flex"><div style="width:100%;display:flex"><div class="PRIVATE_TreeView-item-level-line"></div></div></div><div id=":Rhmaclmdaj5:" class="PRIVATE_TreeView-item-content"><div class="PRIVATE_VisuallyHidden" aria-hidden="true" id=":Rhmaclmdaj5H1:"></div><div class="PRIVATE_TreeView-item-visual" aria-hidden="true"><svg aria-hidden="true" focusable="false" role="img" class="octicon octicon-file" viewBox="0 0 16 16" width="16" height="16" fill="currentColor" style="display:inline-block;user-select:none;vertical-align:text-bottom;overflow:visible"><path d="M2 1.75C2 .784 2.784 0 3.75 0h6.586c.464 0 .909.184 1.237.513l2.914 2.914c.329.328.513.773.513 1.237v9.586A1.75 1.75 0 0 1 13.25 16h-9.5A1.75 1.75 0 0 1 2 14.25Zm1.75-.25a.25.25 0 0 0-.25.25v12.5c0 .138.112.25.25.25h9.5a.25.25 0 0 0 .25-.25V6h-2.75A1.75 1.75 0 0 1 9 4.25V1.5Zm6.75.062V4.25c0 .138.112.25.25.25h2.688l-.011-.013-2.914-2.914-.013-.011Z"></path></svg></div><span class="PRIVATE_TreeView-item-content-text"><span>README.md</span></span></div></div></li></ul></li><li class="PRIVATE_TreeView-item" tabindex="0" id="Aula_5-item" role="treeitem" aria-labelledby=":R2qclmdaj5:" aria-describedby=":R2qclmdaj5H1: :R2qclmdaj5H2:" aria-level="1" aria-expanded="false" aria-selected="false"><div class="PRIVATE_TreeView-item-container" style="--level:1;content-visibility:auto;contain-intrinsic-size:auto 2rem"><div style="grid-area:spacer;display:flex"><div style="width:100%;display:flex"></div></div><div class="PRIVATE_TreeView-item-toggle PRIVATE_TreeView-item-toggle--hover PRIVATE_TreeView-item-toggle--end"><svg aria-hidden="true" focusable="false" role="img" class="octicon octicon-chevron-right" viewBox="0 0 12 12" width="12" height="12" fill="currentColor" style="display:inline-block;user-select:none;vertical-align:text-bottom;overflow:visible"><path d="M4.7 10c-.2 0-.4-.1-.5-.2-.3-.3-.3-.8 0-1.1L6.9 6 4.2 3.3c-.3-.3-.3-.8 0-1.1.3-.3.8-.3 1.1 0l3.3 3.2c.3.3.3.8 0 1.1L5.3 9.7c-.2.2-.4.3-.6.3Z"></path></svg></div><div id=":R2qclmdaj5:" class="PRIVATE_TreeView-item-content"><div class="PRIVATE_VisuallyHidden" aria-hidden="true" id=":R2qclmdaj5H1:"></div><div class="PRIVATE_TreeView-item-visual" aria-hidden="true"><div class="PRIVATE_TreeView-directory-icon"><svg aria-hidden="true" focusable="false" role="img" class="octicon octicon-file-directory-fill" viewBox="0 0 16 16" width="16" height="16" fill="currentColor" style="display:inline-block;user-select:none;vertical-align:text-bottom;overflow:visible"><path d="M1.75 1A1.75 1.75 0 0 0 0 2.75v10.5C0 14.216.784 15 1.75 15h12.5A1.75 1.75 0 0 0 16 13.25v-8.5A1.75 1.75 0 0 0 14.25 3H7.5a.25.25 0 0 1-.2-.1l-.9-1.2C6.07 1.26 5.55 1 5 1H1.75Z"></path></svg></div></div><span class="PRIVATE_TreeView-item-content-text"><span>Aula_5</span></span></div></div></li><li class="PRIVATE_TreeView-item" tabindex="0" id="README.md-item" role="treeitem" aria-labelledby=":R3aclmdaj5:" aria-describedby=":R3aclmdaj5H1: :R3aclmdaj5H2:" aria-level="1" aria-selected="false"><div class="PRIVATE_TreeView-item-container" style="--level:1;content-visibility:auto;contain-intrinsic-size:auto 2rem"><div style="grid-area:spacer;display:flex"><div style="width:100%;display:flex"></div></div><div id=":R3aclmdaj5:" class="PRIVATE_TreeView-item-content"><div class="PRIVATE_VisuallyHidden" aria-hidden="true" id=":R3aclmdaj5H1:"></div><div class="PRIVATE_TreeView-item-visual" aria-hidden="true"><svg aria-hidden="true" focusable="false" role="img" class="octicon octicon-file" viewBox="0 0 16 16" width="16" height="16" fill="currentColor" style="display:inline-block;user-select:none;vertical-align:text-bottom;overflow:visible"><path d="M2 1.75C2 .784 2.784 0 3.75 0h6.586c.464 0 .909.184 1.237.513l2.914 2.914c.329.328.513.773.513 1.237v9.586A1.75 1.75 0 0 1 13.25 16h-9.5A1.75 1.75 0 0 1 2 14.25Zm1.75-.25a.25.25 0 0 0-.25.25v12.5c0 .138.112.25.25.25h9.5a.25.25 0 0 0 .25-.25V6h-2.75A1.75 1.75 0 0 1 9 4.25V1.5Zm6.75.062V4.25c0 .138.112.25.25.25h2.688l-.011-.013-2.914-2.914-.013-.011Z"></path></svg></div><span class="PRIVATE_TreeView-item-content-text"><span>README.md</span></span></div></div></li></ul></nav></div></div></div></div></div></div><div class="Box-sc-g0xbh4-0 hAeDYA"><div role="slider" aria-label="Draggable pane splitter" aria-valuemin="0" aria-valuemax="0" aria-valuenow="0" aria-valuetext="Pane width 0 pixels" tabindex="0" class="Box-sc-g0xbh4-0 gZHqlw"></div></div></div></div><div class="Box-sc-g0xbh4-0 emFMJu"><div class="Box-sc-g0xbh4-0"></div><div class="Box-sc-g0xbh4-0 hlUAHL"><div data-selector="repos-split-pane-content" tabindex="0" class="Box-sc-g0xbh4-0 iStsmI"><div class="Box-sc-g0xbh4-0 eIgvIk"><div class="Box-sc-g0xbh4-0 eVFfWF container"><div class="px-3 pt-3 pb-0" id="StickyHeader"><div class="Box-sc-g0xbh4-0 fywjmm"><div class="Box-sc-g0xbh4-0 dyczTK"><div class="Box-sc-g0xbh4-0 kszRgZ"><div class="Box-sc-g0xbh4-0 eTvGbF"><nav data-testid="breadcrumbs" aria-labelledby="repos-header-breadcrumb--wide-heading" id="repos-header-breadcrumb--wide" class="Box-sc-g0xbh4-0 kzRgrI"><h2 class="Heading__StyledHeading-sc-1c1dgg0-0 cgQnMS sr-only" data-testid="screen-reader-heading" id="repos-header-breadcrumb--wide-heading">Breadcrumbs</h2><ol class="Box-sc-g0xbh4-0 cmAPIB"><li class="Box-sc-g0xbh4-0 jwXCBK"><a sx="[object Object]" data-testid="breadcrumbs-repo-link" class="Link__StyledLink-sc-14289xe-0 dpowyu" href="/AlexLaudiano/imersao_python/tree/main">imersao_python</a></li><li class="Box-sc-g0xbh4-0 jwXCBK"><span aria-hidden="true" class="Text-sc-17v1xeu-0 ePvrxx">/</span><a sx="[object Object]" class="Link__StyledLink-sc-14289xe-0 csCkZA" href="/AlexLaudiano/imersao_python/tree/main/Aula_4">Aula_4</a></li></ol></nav><div data-testid="breadcrumbs-filename" class="Box-sc-g0xbh4-0 jwXCBK"><span aria-hidden="true" class="Text-sc-17v1xeu-0 ePvrxx">/</span><h1 tabindex="-1" id="file-name-id-wide" class="Heading__StyledHeading-sc-1c1dgg0-0 diwsLq">Imersão_Alura_Aula_4_Desafio.2.ipynb</h1></div><button data-component="IconButton" type="button" aria-label="Copy path" data-testid="breadcrumb-copy-path-button" data-size="small" data-no-visuals="true" class="types__StyledButton-sc-ws60qy-0 IIGly"><svg aria-hidden="true" focusable="false" role="img" class="octicon octicon-copy" viewBox="0 0 16 16" width="16" height="16" fill="currentColor" style="display:inline-block;user-select:none;vertical-align:text-bottom;overflow:visible"><path d="M0 6.75C0 5.784.784 5 1.75 5h1.5a.75.75 0 0 1 0 1.5h-1.5a.25.25 0 0 0-.25.25v7.5c0 .138.112.25.25.25h7.5a.25.25 0 0 0 .25-.25v-1.5a.75.75 0 0 1 1.5 0v1.5A1.75 1.75 0 0 1 9.25 16h-7.5A1.75 1.75 0 0 1 0 14.25Z"></path><path d="M5 1.75C5 .784 5.784 0 6.75 0h7.5C15.216 0 16 .784 16 1.75v7.5A1.75 1.75 0 0 1 14.25 11h-7.5A1.75 1.75 0 0 1 5 9.25Zm1.75-.25a.25.25 0 0 0-.25.25v7.5c0 .138.112.25.25.25h7.5a.25.25 0 0 0 .25-.25v-7.5a.25.25 0 0 0-.25-.25Z"></path></svg></button></div></div><div class="react-code-view-header-element--wide"><div class="Box-sc-g0xbh4-0 gtBUEp"><div class="d-flex gap-2"> <button type="button" data-no-visuals="true" class="types__StyledButton-sc-ws60qy-0 fXsbsD"><span data-component="buttonContent" class="Box-sc-g0xbh4-0 kkrdEu"><span data-component="text">Blame</span></span></button><button hidden="" data-testid="" data-hotkey-scope="read-only-cursor-text-area"></button><button data-component="IconButton" type="button" aria-label="More file actions" class="types__StyledButton-sc-ws60qy-0 hiXxwe js-blob-dropdown-click" title="More file actions" data-testid="more-file-actions-button-nav-menu-wide" id=":R99jadaj5:" aria-haspopup="true" tabindex="0" data-no-visuals="true"><svg aria-hidden="true" focusable="false" role="img" class="octicon octicon-kebab-horizontal" viewBox="0 0 16 16" width="16" height="16" fill="currentColor" style="display:inline-block;user-select:none;vertical-align:text-bottom;overflow:visible"><path d="M8 9a1.5 1.5 0 1 0 0-3 1.5 1.5 0 0 0 0 3ZM1.5 9a1.5 1.5 0 1 0 0-3 1.5 1.5 0 0 0 0 3Zm13 0a1.5 1.5 0 1 0 0-3 1.5 1.5 0 0 0 0 3Z"></path></svg></button> </div></div></div><div class="react-code-view-header-element--narrow"><div class="Box-sc-g0xbh4-0 gtBUEp"><div class="d-flex gap-2"> <button type="button" data-no-visuals="true" class="types__StyledButton-sc-ws60qy-0 fXsbsD"><span data-component="buttonContent" class="Box-sc-g0xbh4-0 kkrdEu"><span data-component="text">Blame</span></span></button><button hidden="" data-testid="" data-hotkey-scope="read-only-cursor-text-area"></button><button data-component="IconButton" type="button" aria-label="More file actions" class="types__StyledButton-sc-ws60qy-0 hiXxwe js-blob-dropdown-click" title="More file actions" data-testid="more-file-actions-button-nav-menu-narrow" id=":R99radaj5:" aria-haspopup="true" tabindex="0" data-no-visuals="true"><svg aria-hidden="true" focusable="false" role="img" class="octicon octicon-kebab-horizontal" viewBox="0 0 16 16" width="16" height="16" fill="currentColor" style="display:inline-block;user-select:none;vertical-align:text-bottom;overflow:visible"><path d="M8 9a1.5 1.5 0 1 0 0-3 1.5 1.5 0 0 0 0 3ZM1.5 9a1.5 1.5 0 1 0 0-3 1.5 1.5 0 0 0 0 3Zm13 0a1.5 1.5 0 1 0 0-3 1.5 1.5 0 0 0 0 3Z"></path></svg></button> </div></div></div></div></div></div></div></div><div class="Box-sc-g0xbh4-0 hVZtwF react-code-view-bottom-padding"> <div class="Box-sc-g0xbh4-0 cMYnca"></div> <!-- --> <!-- --> </div><div class="Box-sc-g0xbh4-0 hVZtwF"> <!-- --> <!-- --> <div class="Box-sc-g0xbh4-0 dPsqPZ"><div class="Box-sc-g0xbh4-0 eYedVD"><h2 class="Heading__StyledHeading-sc-1c1dgg0-0 cgQnMS sr-only" data-testid="screen-reader-heading">Latest commit</h2><div style="width:120px" class="Skeleton Skeleton--text" data-testid="loading"> </div><div data-testid="latest-commit-details" class="Box-sc-g0xbh4-0 lhFvfi"></div><div class="Box-sc-g0xbh4-0 jGfYmh"><h2 class="Heading__StyledHeading-sc-1c1dgg0-0 cgQnMS sr-only" data-testid="screen-reader-heading">History</h2><a class="types__StyledButton-sc-ws60qy-0 saA-Dg react-last-commit-history-group" href="/AlexLaudiano/imersao_python/commits/main/Aula_4/Imers%C3%A3o_Alura_Aula_4_Desafio.2.ipynb" data-size="small"><span data-component="buttonContent" class="Box-sc-g0xbh4-0 kkrdEu"><span data-component="leadingVisual" class="Box-sc-g0xbh4-0 trpoQ"><svg aria-hidden="true" focusable="false" role="img" class="octicon octicon-history" viewBox="0 0 16 16" width="16" height="16" fill="currentColor" style="display:inline-block;user-select:none;vertical-align:text-bottom;overflow:visible"><path d="m.427 1.927 1.215 1.215a8.002 8.002 0 1 1-1.6 5.685.75.75 0 1 1 1.493-.154 6.5 6.5 0 1 0 1.18-4.458l1.358 1.358A.25.25 0 0 1 3.896 6H.25A.25.25 0 0 1 0 5.75V2.104a.25.25 0 0 1 .427-.177ZM7.75 4a.75.75 0 0 1 .75.75v2.992l2.028.812a.75.75 0 0 1-.557 1.392l-2.5-1A.751.751 0 0 1 7 8.25v-3.5A.75.75 0 0 1 7.75 4Z"></path></svg></span><span data-component="text"><span class="Text-sc-17v1xeu-0 UrHoN">History</span></span></span></a><div class="Box-sc-g0xbh4-0 bqgLjk"></div><span role="tooltip" aria-label="Commit history" class="Tooltip__TooltipBase-sc-17tf59c-0 izAlVj tooltipped-n"><a class="types__StyledButton-sc-ws60qy-0 saA-Dg react-last-commit-history-icon" href="/AlexLaudiano/imersao_python/commits/main/Aula_4/Imers%C3%A3o_Alura_Aula_4_Desafio.2.ipynb"><span data-component="buttonContent" class="Box-sc-g0xbh4-0 kkrdEu"><span data-component="leadingVisual" class="Box-sc-g0xbh4-0 trpoQ"><svg aria-hidden="true" focusable="false" role="img" class="octicon octicon-history" viewBox="0 0 16 16" width="16" height="16" fill="currentColor" style="display:inline-block;user-select:none;vertical-align:text-bottom;overflow:visible"><path d="m.427 1.927 1.215 1.215a8.002 8.002 0 1 1-1.6 5.685.75.75 0 1 1 1.493-.154 6.5 6.5 0 1 0 1.18-4.458l1.358 1.358A.25.25 0 0 1 3.896 6H.25A.25.25 0 0 1 0 5.75V2.104a.25.25 0 0 1 .427-.177ZM7.75 4a.75.75 0 0 1 .75.75v2.992l2.028.812a.75.75 0 0 1-.557 1.392l-2.5-1A.751.751 0 0 1 7 8.25v-3.5A.75.75 0 0 1 7.75 4Z"></path></svg></span></span></a></span></div></div></div><div class="Box-sc-g0xbh4-0 iJmJly"><div class="Box-sc-g0xbh4-0 jACbi container"><div class="Box-sc-g0xbh4-0 gIJuDf react-code-size-details-banner"><div class="Box-sc-g0xbh4-0 fleZSW react-code-size-details-banner"><div class="Box-sc-g0xbh4-0 dVVHlo text-mono"><div title="141 KB" data-testid="blob-size" class="Truncate__StyledTruncate-sc-23o1d2-0 fUpWeN"><span class="Text-sc-17v1xeu-0 gPDEWA">175 lines (175 loc) · 141 KB</span></div></div></div><div class="Box-sc-g0xbh4-0 react-code-size-details-banner"><button style="--button-color:fg.default" type="button" id=":R9faladaj5:" aria-haspopup="true" tabindex="0" data-testid="copilot-popover-button" data-size="small" class="types__StyledButton-sc-ws60qy-0 hhunph"><span data-component="buttonContent" class="Box-sc-g0xbh4-0 kkrdEu"><span data-component="leadingVisual" class="Box-sc-g0xbh4-0 trpoQ"><svg aria-hidden="true" focusable="false" role="img" class="octicon octicon-copilot" viewBox="0 0 16 16" width="16" height="16" fill="currentColor" style="display:inline-block;user-select:none;vertical-align:text-bottom;overflow:visible"><path d="M7.998 15.035c-4.562 0-7.873-2.914-7.998-3.749V9.338c.085-.628.677-1.686 1.588-2.065.013-.07.024-.143.036-.218.029-.183.06-.384.126-.612-.201-.508-.254-1.084-.254-1.656 0-.87.128-1.769.693-2.484.579-.733 1.494-1.124 2.724-1.261 1.206-.134 2.262.034 2.944.765.05.053.096.108.139.165.044-.057.094-.112.143-.165.682-.731 1.738-.899 2.944-.765 1.23.137 2.145.528 2.724 1.261.566.715.693 1.614.693 2.484 0 .572-.053 1.148-.254 1.656.066.228.098.429.126.612.012.076.024.148.037.218.924.385 1.522 1.471 1.591 2.095v1.872c0 .766-3.351 3.795-8.002 3.795Zm0-1.485c2.28 0 4.584-1.11 5.002-1.433V7.862l-.023-.116c-.49.21-1.075.291-1.727.291-1.146 0-2.059-.327-2.71-.991A3.222 3.222 0 0 1 8 6.303a3.24 3.24 0 0 1-.544.743c-.65.664-1.563.991-2.71.991-.652 0-1.236-.081-1.727-.291l-.023.116v4.255c.419.323 2.722 1.433 5.002 1.433ZM6.762 2.83c-.193-.206-.637-.413-1.682-.297-1.019.113-1.479.404-1.713.7-.247.312-.369.789-.369 1.554 0 .793.129 1.171.308 1.371.162.181.519.379 1.442.379.853 0 1.339-.235 1.638-.54.315-.322.527-.827.617-1.553.117-.935-.037-1.395-.241-1.614Zm4.155-.297c-1.044-.116-1.488.091-1.681.297-.204.219-.359.679-.242 1.614.091.726.303 1.231.618 1.553.299.305.784.54 1.638.54.922 0 1.28-.198 1.442-.379.179-.2.308-.578.308-1.371 0-.765-.123-1.242-.37-1.554-.233-.296-.693-.587-1.713-.7Z"></path><path d="M6.25 9.037a.75.75 0 0 1 .75.75v1.501a.75.75 0 0 1-1.5 0V9.787a.75.75 0 0 1 .75-.75Zm4.25.75v1.501a.75.75 0 0 1-1.5 0V9.787a.75.75 0 0 1 1.5 0Z"></path></svg></span><span data-component="text">Code 55% faster with GitHub Copilot</span></span></button></div></div><div class="Box-sc-g0xbh4-0 VHzRk react-blob-view-header-sticky" id="repos-sticky-header"><div class="Box-sc-g0xbh4-0 ePiodO"><div class="Box-sc-g0xbh4-0 react-blob-sticky-header"><div class="Box-sc-g0xbh4-0 kQJlnf"><div class="Box-sc-g0xbh4-0 gJICKO"><div class="Box-sc-g0xbh4-0 iZJewz"><nav data-testid="breadcrumbs" aria-labelledby="sticky-breadcrumb-heading" id="sticky-breadcrumb" class="Box-sc-g0xbh4-0 kzRgrI"><h2 class="Heading__StyledHeading-sc-1c1dgg0-0 cgQnMS sr-only" data-testid="screen-reader-heading" id="sticky-breadcrumb-heading">Breadcrumbs</h2><ol class="Box-sc-g0xbh4-0 cmAPIB"><li class="Box-sc-g0xbh4-0 jwXCBK"><a sx="[object Object]" data-testid="breadcrumbs-repo-link" class="Link__StyledLink-sc-14289xe-0 dpowyu" href="/AlexLaudiano/imersao_python/tree/main">imersao_python</a></li><li class="Box-sc-g0xbh4-0 jwXCBK"><span aria-hidden="true" class="Text-sc-17v1xeu-0 fQxKLn">/</span><a sx="[object Object]" class="Link__StyledLink-sc-14289xe-0 csCkZA" href="/AlexLaudiano/imersao_python/tree/main/Aula_4">Aula_4</a></li></ol></nav><div data-testid="breadcrumbs-filename" class="Box-sc-g0xbh4-0 jwXCBK"><span aria-hidden="true" class="Text-sc-17v1xeu-0 fQxKLn">/</span><h1 tabindex="-1" id="sticky-file-name-id" class="Heading__StyledHeading-sc-1c1dgg0-0 jAEDJk">Imersão_Alura_Aula_4_Desafio.2.ipynb</h1></div></div><button style="--button-color:fg.default" type="button" data-size="small" class="types__StyledButton-sc-ws60qy-0 ecGgfP"><span data-component="buttonContent" class="Box-sc-g0xbh4-0 kkrdEu"><span data-component="leadingVisual" class="Box-sc-g0xbh4-0 trpoQ"><svg aria-hidden="true" focusable="false" role="img" class="octicon octicon-arrow-up" viewBox="0 0 16 16" width="16" height="16" fill="currentColor" style="display:inline-block;user-select:none;vertical-align:text-bottom;overflow:visible"><path d="M3.47 7.78a.75.75 0 0 1 0-1.06l4.25-4.25a.75.75 0 0 1 1.06 0l4.25 4.25a.751.751 0 0 1-.018 1.042.751.751 0 0 1-1.042.018L9 4.81v7.44a.75.75 0 0 1-1.5 0V4.81L4.53 7.78a.75.75 0 0 1-1.06 0Z"></path></svg></span><span data-component="text">Top</span></span></button></div></div></div><div class="Box-sc-g0xbh4-0 jtQniD"><h2 class="Heading__StyledHeading-sc-1c1dgg0-0 cgQnMS sr-only" data-testid="screen-reader-heading">File metadata and controls</h2><div class="Box-sc-g0xbh4-0 bfkNRF"><ul aria-label="File view" class="SegmentedControl__SegmentedControlList-sc-1rzig82-0 dlXtLG"><li class="Box-sc-g0xbh4-0 fXBLEV"><button aria-current="true" class="SegmentedControlButton__SegmentedControlButtonStyled-sc-8lkgxl-0 NCWSJ"><span class="segmentedControl-content"><div class="Box-sc-g0xbh4-0 segmentedControl-text">Preview</div></span></button></li><li class="Box-sc-g0xbh4-0 illvPQ"><button aria-current="false" class="SegmentedControlButton__SegmentedControlButtonStyled-sc-8lkgxl-0 lfqhlR"><span class="segmentedControl-content"><div class="Box-sc-g0xbh4-0 segmentedControl-text">Code</div></span></button></li><li class="Box-sc-g0xbh4-0 illvPQ"><button aria-current="false" class="SegmentedControlButton__SegmentedControlButtonStyled-sc-8lkgxl-0 iDBPxb"><span class="segmentedControl-content"><div class="Box-sc-g0xbh4-0 segmentedControl-text">Blame</div></span></button></li></ul><button hidden="" data-testid="" data-hotkey-scope="read-only-cursor-text-area"></button><button hidden="" data-testid="" data-hotkey-scope="read-only-cursor-text-area"></button><button hidden="" data-testid="" data-hotkey-scope="read-only-cursor-text-area"></button><div class="Box-sc-g0xbh4-0 fleZSW react-code-size-details-in-header"><div class="Box-sc-g0xbh4-0 dVVHlo text-mono"><div title="141 KB" data-testid="blob-size" class="Truncate__StyledTruncate-sc-23o1d2-0 fUpWeN"><span class="Text-sc-17v1xeu-0 gPDEWA">175 lines (175 loc) · 141 KB</span></div></div></div><div class="Box-sc-g0xbh4-0 react-code-size-details-in-header"><button style="--button-color:fg.default" type="button" id=":Rt6faladaj5:" aria-haspopup="true" tabindex="0" data-testid="copilot-popover-button" data-size="small" class="types__StyledButton-sc-ws60qy-0 hhunph"><span data-component="buttonContent" class="Box-sc-g0xbh4-0 kkrdEu"><span data-component="leadingVisual" class="Box-sc-g0xbh4-0 trpoQ"><svg aria-hidden="true" focusable="false" role="img" class="octicon octicon-copilot" viewBox="0 0 16 16" width="16" height="16" fill="currentColor" style="display:inline-block;user-select:none;vertical-align:text-bottom;overflow:visible"><path d="M7.998 15.035c-4.562 0-7.873-2.914-7.998-3.749V9.338c.085-.628.677-1.686 1.588-2.065.013-.07.024-.143.036-.218.029-.183.06-.384.126-.612-.201-.508-.254-1.084-.254-1.656 0-.87.128-1.769.693-2.484.579-.733 1.494-1.124 2.724-1.261 1.206-.134 2.262.034 2.944.765.05.053.096.108.139.165.044-.057.094-.112.143-.165.682-.731 1.738-.899 2.944-.765 1.23.137 2.145.528 2.724 1.261.566.715.693 1.614.693 2.484 0 .572-.053 1.148-.254 1.656.066.228.098.429.126.612.012.076.024.148.037.218.924.385 1.522 1.471 1.591 2.095v1.872c0 .766-3.351 3.795-8.002 3.795Zm0-1.485c2.28 0 4.584-1.11 5.002-1.433V7.862l-.023-.116c-.49.21-1.075.291-1.727.291-1.146 0-2.059-.327-2.71-.991A3.222 3.222 0 0 1 8 6.303a3.24 3.24 0 0 1-.544.743c-.65.664-1.563.991-2.71.991-.652 0-1.236-.081-1.727-.291l-.023.116v4.255c.419.323 2.722 1.433 5.002 1.433ZM6.762 2.83c-.193-.206-.637-.413-1.682-.297-1.019.113-1.479.404-1.713.7-.247.312-.369.789-.369 1.554 0 .793.129 1.171.308 1.371.162.181.519.379 1.442.379.853 0 1.339-.235 1.638-.54.315-.322.527-.827.617-1.553.117-.935-.037-1.395-.241-1.614Zm4.155-.297c-1.044-.116-1.488.091-1.681.297-.204.219-.359.679-.242 1.614.091.726.303 1.231.618 1.553.299.305.784.54 1.638.54.922 0 1.28-.198 1.442-.379.179-.2.308-.578.308-1.371 0-.765-.123-1.242-.37-1.554-.233-.296-.693-.587-1.713-.7Z"></path><path d="M6.25 9.037a.75.75 0 0 1 .75.75v1.501a.75.75 0 0 1-1.5 0V9.787a.75.75 0 0 1 .75-.75Zm4.25.75v1.501a.75.75 0 0 1-1.5 0V9.787a.75.75 0 0 1 1.5 0Z"></path></svg></span><span data-component="text">Code 55% faster with GitHub Copilot</span></span></button></div></div><div class="Box-sc-g0xbh4-0 iBylDf"><div class="Box-sc-g0xbh4-0 kSGBPx react-blob-header-edit-and-raw-actions"><div class="ButtonGroup-sc-1gxhls1-0 cjbBGq"><a href="https://github.com/AlexLaudiano/imersao_python/raw/main/Aula_4/Imers%C3%A3o_Alura_Aula_4_Desafio.2.ipynb" data-testid="raw-button" data-size="small" data-no-visuals="true" class="types__StyledButton-sc-ws60qy-0 dupbIv"><span data-component="buttonContent" class="Box-sc-g0xbh4-0 kkrdEu"><span data-component="text">Raw</span></span></a><button data-component="IconButton" type="button" aria-label="Copy raw content" data-testid="copy-raw-button" data-size="small" data-no-visuals="true" class="types__StyledButton-sc-ws60qy-0 dMUxwi"><svg aria-hidden="true" focusable="false" role="img" class="octicon octicon-copy" viewBox="0 0 16 16" width="16" height="16" fill="currentColor" style="display:inline-block;user-select:none;vertical-align:text-bottom;overflow:visible"><path d="M0 6.75C0 5.784.784 5 1.75 5h1.5a.75.75 0 0 1 0 1.5h-1.5a.25.25 0 0 0-.25.25v7.5c0 .138.112.25.25.25h7.5a.25.25 0 0 0 .25-.25v-1.5a.75.75 0 0 1 1.5 0v1.5A1.75 1.75 0 0 1 9.25 16h-7.5A1.75 1.75 0 0 1 0 14.25Z"></path><path d="M5 1.75C5 .784 5.784 0 6.75 0h7.5C15.216 0 16 .784 16 1.75v7.5A1.75 1.75 0 0 1 14.25 11h-7.5A1.75 1.75 0 0 1 5 9.25Zm1.75-.25a.25.25 0 0 0-.25.25v7.5c0 .138.112.25.25.25h7.5a.25.25 0 0 0 .25-.25v-7.5a.25.25 0 0 0-.25-.25Z"></path></svg></button><span role="tooltip" aria-label="Download raw file" class="Tooltip__TooltipBase-sc-17tf59c-0 izAlVj tooltipped-n"><button data-component="IconButton" type="button" aria-label="Download raw content" data-testid="download-raw-button" data-size="small" data-no-visuals="true" class="types__StyledButton-sc-ws60qy-0 fCIOmi"><svg aria-hidden="true" focusable="false" role="img" class="octicon octicon-download" viewBox="0 0 16 16" width="16" height="16" fill="currentColor" style="display:inline-block;user-select:none;vertical-align:text-bottom;overflow:visible"><path d="M2.75 14A1.75 1.75 0 0 1 1 12.25v-2.5a.75.75 0 0 1 1.5 0v2.5c0 .138.112.25.25.25h10.5a.25.25 0 0 0 .25-.25v-2.5a.75.75 0 0 1 1.5 0v2.5A1.75 1.75 0 0 1 13.25 14Z"></path><path d="M7.25 7.689V2a.75.75 0 0 1 1.5 0v5.689l1.97-1.969a.749.749 0 1 1 1.06 1.06l-3.25 3.25a.749.749 0 0 1-1.06 0L4.22 6.78a.749.749 0 1 1 1.06-1.06l1.97 1.969Z"></path></svg></button></span></div><button hidden="" data-testid="raw-button-shortcut" data-hotkey-scope="read-only-cursor-text-area"></button><button hidden="" data-testid="copy-raw-button-shortcut" data-hotkey-scope="read-only-cursor-text-area"></button><button hidden="" data-testid="download-raw-button-shortcut" data-hotkey-scope="read-only-cursor-text-area"></button><a class="Link__StyledLink-sc-14289xe-0 elltiT js-github-dev-shortcut d-none" href="https://github.dev/"></a><button hidden="" data-testid="" data-hotkey-scope="read-only-cursor-text-area"></button><a class="Link__StyledLink-sc-14289xe-0 elltiT js-github-dev-new-tab-shortcut d-none" href="https://github.dev/" target="_blank"></a><button hidden="" data-testid="" data-hotkey-scope="read-only-cursor-text-area"></button><div class="ButtonGroup-sc-1gxhls1-0 cjbBGq"><span role="tooltip" aria-label="Fork this repository and edit the file" class="Tooltip__TooltipBase-sc-17tf59c-0 izAlVj tooltipped-nw"><a sx="[object Object]" data-component="IconButton" type="button" aria-label="Edit file" data-testid="edit-button" data-size="small" data-no-visuals="true" class="types__StyledButton-sc-ws60qy-0 ksnFc" href="/AlexLaudiano/imersao_python/edit/main/Aula_4/Imers%C3%A3o_Alura_Aula_4_Desafio.2.ipynb"><svg aria-hidden="true" focusable="false" role="img" class="octicon octicon-pencil" viewBox="0 0 16 16" width="16" height="16" fill="currentColor" style="display:inline-block;user-select:none;vertical-align:text-bottom;overflow:visible"><path d="M11.013 1.427a1.75 1.75 0 0 1 2.474 0l1.086 1.086a1.75 1.75 0 0 1 0 2.474l-8.61 8.61c-.21.21-.47.364-.756.445l-3.251.93a.75.75 0 0 1-.927-.928l.929-3.25c.081-.286.235-.547.445-.758l8.61-8.61Zm.176 4.823L9.75 4.81l-6.286 6.287a.253.253 0 0 0-.064.108l-.558 1.953 1.953-.558a.253.253 0 0 0 .108-.064Zm1.238-3.763a.25.25 0 0 0-.354 0L10.811 3.75l1.439 1.44 1.263-1.263a.25.25 0 0 0 0-.354Z"></path></svg></a></span><button data-component="IconButton" type="button" aria-label="More edit options" data-testid="more-edit-button" id=":R2l76faladaj5:" aria-haspopup="true" tabindex="0" data-size="small" data-no-visuals="true" class="types__StyledButton-sc-ws60qy-0 dMUxwi"><svg aria-hidden="true" focusable="false" role="img" class="octicon octicon-triangle-down" viewBox="0 0 16 16" width="16" height="16" fill="currentColor" style="display:inline-block;user-select:none;vertical-align:text-bottom;overflow:visible"><path d="m4.427 7.427 3.396 3.396a.25.25 0 0 0 .354 0l3.396-3.396A.25.25 0 0 0 11.396 7H4.604a.25.25 0 0 0-.177.427Z"></path></svg></button></div><button hidden="" data-testid="" data-hotkey="e,Shift+E" data-hotkey-scope="read-only-cursor-text-area"></button></div><div class="Box-sc-g0xbh4-0 react-blob-header-edit-and-raw-actions-combined"><button data-component="IconButton" type="button" aria-label="Edit and raw actions" class="types__StyledButton-sc-ws60qy-0 htXhGX js-blob-dropdown-click" title="More file actions" data-testid="more-file-actions-button" id=":R5v6faladaj5:" aria-haspopup="true" tabindex="0" data-size="small" data-no-visuals="true"><svg aria-hidden="true" focusable="false" role="img" class="octicon octicon-kebab-horizontal" viewBox="0 0 16 16" width="16" height="16" fill="currentColor" style="display:inline-block;user-select:none;vertical-align:text-bottom;overflow:visible"><path d="M8 9a1.5 1.5 0 1 0 0-3 1.5 1.5 0 0 0 0 3ZM1.5 9a1.5 1.5 0 1 0 0-3 1.5 1.5 0 0 0 0 3Zm13 0a1.5 1.5 0 1 0 0-3 1.5 1.5 0 0 0 0 3Z"></path></svg></button></div></div></div></div><div></div></div><div class="Box-sc-g0xbh4-0 jMJFjm"><section aria-labelledby="file-name-id-wide file-name-id-mobile" class="Box-sc-g0xbh4-0 eJsjkT"><!--$!--><template></template><div data-testid="suspense-spinner" class="Box-sc-g0xbh4-0 bAzdCq"><svg height="32px" width="32px" viewBox="0 0 16 16" fill="none" aria-label="Loading" class="Spinner__StyledSpinner-sc-1knt686-0 hPEVNM"><circle cx="8" cy="8" r="7" stroke="currentColor" stroke-opacity="0.25" stroke-width="2" vector-effect="non-scaling-stroke"></circle><path d="M15 8a7.002 7.002 0 00-7-7" stroke="currentColor" stroke-width="2" stroke-linecap="round" vector-effect="non-scaling-stroke"></path></svg></div><!--/$--></section></div></div></div> <!-- --> <!-- --> </div></div></div><div class="Box-sc-g0xbh4-0"></div></div></div></div></div><div id="find-result-marks-container" class="Box-sc-g0xbh4-0 aZrVR"></div><button hidden="" data-testid="" data-hotkey-scope="read-only-cursor-text-area"></button><button hidden=""></button></div> <!-- --> <!-- --> <!-- --> <script type="application/json" id="__PRIMER_DATA__">{"resolvedServerColorMode":"night"}</script></div>
</react-app>
</turbo-frame>



  </div>

</turbo-frame>

    </main>
  </div>

  </div>

          <footer class="footer pt-8 pb-6 f6 color-fg-muted p-responsive" role="contentinfo" >
  <h2 class='sr-only'>Footer</h2>

  


  <div class="d-flex flex-justify-center flex-items-center flex-column-reverse flex-lg-row flex-wrap flex-lg-nowrap">
    <div class="d-flex flex-items-center flex-shrink-0 mx-2">
      <a aria-label="Homepage" title="GitHub" class="footer-octicon mr-2" href="https://github.com">
        <svg aria-hidden="true" height="24" viewBox="0 0 16 16" version="1.1" width="24" data-view-component="true" class="octicon octicon-mark-github">
    <path d="M8 0c4.42 0 8 3.58 8 8a8.013 8.013 0 0 1-5.45 7.59c-.4.08-.55-.17-.55-.38 0-.27.01-1.13.01-2.2 0-.75-.25-1.23-.54-1.48 1.78-.2 3.65-.88 3.65-3.95 0-.88-.31-1.59-.82-2.15.08-.2.36-1.02-.08-2.12 0 0-.67-.22-2.2.82-.64-.18-1.32-.27-2-.27-.68 0-1.36.09-2 .27-1.53-1.03-2.2-.82-2.2-.82-.44 1.1-.16 1.92-.08 2.12-.51.56-.82 1.28-.82 2.15 0 3.06 1.86 3.75 3.64 3.95-.23.2-.44.55-.51 1.07-.46.21-1.61.55-2.33-.66-.15-.24-.6-.83-1.23-.82-.67.01-.27.38.01.53.34.19.73.9.82 1.13.16.45.68 1.31 2.69.94 0 .67.01 1.3.01 1.49 0 .21-.15.45-.55.38A7.995 7.995 0 0 1 0 8c0-4.42 3.58-8 8-8Z"></path>
</svg>
</a>
      <span>
        &copy; 2024 GitHub,&nbsp;Inc.
      </span>
    </div>

    <nav aria-label="Footer">
      <h3 class="sr-only" id="sr-footer-heading">Footer navigation</h3>

      <ul class="list-style-none d-flex flex-justify-center flex-wrap mb-2 mb-lg-0" aria-labelledby="sr-footer-heading">

          <li class="mx-2">
            <a data-analytics-event="{&quot;category&quot;:&quot;Footer&quot;,&quot;action&quot;:&quot;go to Terms&quot;,&quot;label&quot;:&quot;text:terms&quot;}" href="https://docs.github.com/site-policy/github-terms/github-terms-of-service" data-view-component="true" class="Link--secondary Link">Terms</a>
          </li>

          <li class="mx-2">
            <a data-analytics-event="{&quot;category&quot;:&quot;Footer&quot;,&quot;action&quot;:&quot;go to privacy&quot;,&quot;label&quot;:&quot;text:privacy&quot;}" href="https://docs.github.com/site-policy/privacy-policies/github-privacy-statement" data-view-component="true" class="Link--secondary Link">Privacy</a>
          </li>

          <li class="mx-2">
            <a data-analytics-event="{&quot;category&quot;:&quot;Footer&quot;,&quot;action&quot;:&quot;go to security&quot;,&quot;label&quot;:&quot;text:security&quot;}" href="/security" data-view-component="true" class="Link--secondary Link">Security</a>
          </li>

          <li class="mx-2">
            <a data-analytics-event="{&quot;category&quot;:&quot;Footer&quot;,&quot;action&quot;:&quot;go to status&quot;,&quot;label&quot;:&quot;text:status&quot;}" href="https://www.githubstatus.com/" data-view-component="true" class="Link--secondary Link">Status</a>
          </li>

          <li class="mx-2">
            <a data-analytics-event="{&quot;category&quot;:&quot;Footer&quot;,&quot;action&quot;:&quot;go to docs&quot;,&quot;label&quot;:&quot;text:docs&quot;}" href="https://docs.github.com/" data-view-component="true" class="Link--secondary Link">Docs</a>
          </li>

          <li class="mx-2">
            <a data-analytics-event="{&quot;category&quot;:&quot;Footer&quot;,&quot;action&quot;:&quot;go to contact&quot;,&quot;label&quot;:&quot;text:contact&quot;}" href="https://support.github.com?tags=dotcom-footer" data-view-component="true" class="Link--secondary Link">Contact</a>
          </li>

          <li class="mr-3" >
  <cookie-consent-link>
    <button type="button" class="Link--secondary underline-on-hover border-0 p-0 color-bg-transparent" data-action="click:cookie-consent-link#showConsentManagement">
      Manage cookies
    </button>
  </cookie-consent-link>
</li>

<li class="mr-3">
  <cookie-consent-link>
    <button type="button" class="Link--secondary underline-on-hover border-0 p-0 color-bg-transparent" data-action="click:cookie-consent-link#showConsentManagement">
      Do not share my personal information
    </button>
  </cookie-consent-link>
</li>

      </ul>
    </nav>
  </div>
</footer>




    <cookie-consent id="cookie-consent-banner" class="position-fixed bottom-0 left-0" style="z-index: 999999" data-initial-cookie-consent-allowed="" data-cookie-consent-required="true"></cookie-consent>


  <div id="ajax-error-message" class="ajax-error-message flash flash-error" hidden>
    <svg aria-hidden="true" height="16" viewBox="0 0 16 16" version="1.1" width="16" data-view-component="true" class="octicon octicon-alert">
    <path d="M6.457 1.047c.659-1.234 2.427-1.234 3.086 0l6.082 11.378A1.75 1.75 0 0 1 14.082 15H1.918a1.75 1.75 0 0 1-1.543-2.575Zm1.763.707a.25.25 0 0 0-.44 0L1.698 13.132a.25.25 0 0 0 .22.368h12.164a.25.25 0 0 0 .22-.368Zm.53 3.996v2.5a.75.75 0 0 1-1.5 0v-2.5a.75.75 0 0 1 1.5 0ZM9 11a1 1 0 1 1-2 0 1 1 0 0 1 2 0Z"></path>
</svg>
    <button type="button" class="flash-close js-ajax-error-dismiss" aria-label="Dismiss error">
      <svg aria-hidden="true" height="16" viewBox="0 0 16 16" version="1.1" width="16" data-view-component="true" class="octicon octicon-x">
    <path d="M3.72 3.72a.75.75 0 0 1 1.06 0L8 6.94l3.22-3.22a.749.749 0 0 1 1.275.326.749.749 0 0 1-.215.734L9.06 8l3.22 3.22a.749.749 0 0 1-.326 1.275.749.749 0 0 1-.734-.215L8 9.06l-3.22 3.22a.751.751 0 0 1-1.042-.018.751.751 0 0 1-.018-1.042L6.94 8 3.72 4.78a.75.75 0 0 1 0-1.06Z"></path>
</svg>
    </button>
    You can’t perform that action at this time.
  </div>

    <template id="site-details-dialog">
  <details class="details-reset details-overlay details-overlay-dark lh-default color-fg-default hx_rsm" open>
    <summary role="button" aria-label="Close dialog"></summary>
    <details-dialog class="Box Box--overlay d-flex flex-column anim-fade-in fast hx_rsm-dialog hx_rsm-modal">
      <button class="Box-btn-octicon m-0 btn-octicon position-absolute right-0 top-0" type="button" aria-label="Close dialog" data-close-dialog>
        <svg aria-hidden="true" height="16" viewBox="0 0 16 16" version="1.1" width="16" data-view-component="true" class="octicon octicon-x">
    <path d="M3.72 3.72a.75.75 0 0 1 1.06 0L8 6.94l3.22-3.22a.749.749 0 0 1 1.275.326.749.749 0 0 1-.215.734L9.06 8l3.22 3.22a.749.749 0 0 1-.326 1.275.749.749 0 0 1-.734-.215L8 9.06l-3.22 3.22a.751.751 0 0 1-1.042-.018.751.751 0 0 1-.018-1.042L6.94 8 3.72 4.78a.75.75 0 0 1 0-1.06Z"></path>
</svg>
      </button>
      <div class="octocat-spinner my-6 js-details-dialog-spinner"></div>
    </details-dialog>
  </details>
</template>

    <div class="Popover js-hovercard-content position-absolute" style="display: none; outline: none;" tabindex="0">
  <div class="Popover-message Popover-message--bottom-left Popover-message--large Box color-shadow-large" style="width:360px;">
  </div>
</div>

    <template id="snippet-clipboard-copy-button">
  <div class="zeroclipboard-container position-absolute right-0 top-0">
    <clipboard-copy aria-label="Copy" class="ClipboardButton btn js-clipboard-copy m-2 p-0 tooltipped-no-delay" data-copy-feedback="Copied!" data-tooltip-direction="w">
      <svg aria-hidden="true" height="16" viewBox="0 0 16 16" version="1.1" width="16" data-view-component="true" class="octicon octicon-copy js-clipboard-copy-icon m-2">
    <path d="M0 6.75C0 5.784.784 5 1.75 5h1.5a.75.75 0 0 1 0 1.5h-1.5a.25.25 0 0 0-.25.25v7.5c0 .138.112.25.25.25h7.5a.25.25 0 0 0 .25-.25v-1.5a.75.75 0 0 1 1.5 0v1.5A1.75 1.75 0 0 1 9.25 16h-7.5A1.75 1.75 0 0 1 0 14.25Z"></path><path d="M5 1.75C5 .784 5.784 0 6.75 0h7.5C15.216 0 16 .784 16 1.75v7.5A1.75 1.75 0 0 1 14.25 11h-7.5A1.75 1.75 0 0 1 5 9.25Zm1.75-.25a.25.25 0 0 0-.25.25v7.5c0 .138.112.25.25.25h7.5a.25.25 0 0 0 .25-.25v-7.5a.25.25 0 0 0-.25-.25Z"></path>
</svg>
      <svg aria-hidden="true" height="16" viewBox="0 0 16 16" version="1.1" width="16" data-view-component="true" class="octicon octicon-check js-clipboard-check-icon color-fg-success d-none m-2">
    <path d="M13.78 4.22a.75.75 0 0 1 0 1.06l-7.25 7.25a.75.75 0 0 1-1.06 0L2.22 9.28a.751.751 0 0 1 .018-1.042.751.751 0 0 1 1.042-.018L6 10.94l6.72-6.72a.75.75 0 0 1 1.06 0Z"></path>
</svg>
    </clipboard-copy>
  </div>
</template>
<template id="snippet-clipboard-copy-button-unpositioned">
  <div class="zeroclipboard-container">
    <clipboard-copy aria-label="Copy" class="ClipboardButton btn btn-invisible js-clipboard-copy m-2 p-0 tooltipped-no-delay d-flex flex-justify-center flex-items-center" data-copy-feedback="Copied!" data-tooltip-direction="w">
      <svg aria-hidden="true" height="16" viewBox="0 0 16 16" version="1.1" width="16" data-view-component="true" class="octicon octicon-copy js-clipboard-copy-icon">
    <path d="M0 6.75C0 5.784.784 5 1.75 5h1.5a.75.75 0 0 1 0 1.5h-1.5a.25.25 0 0 0-.25.25v7.5c0 .138.112.25.25.25h7.5a.25.25 0 0 0 .25-.25v-1.5a.75.75 0 0 1 1.5 0v1.5A1.75 1.75 0 0 1 9.25 16h-7.5A1.75 1.75 0 0 1 0 14.25Z"></path><path d="M5 1.75C5 .784 5.784 0 6.75 0h7.5C15.216 0 16 .784 16 1.75v7.5A1.75 1.75 0 0 1 14.25 11h-7.5A1.75 1.75 0 0 1 5 9.25Zm1.75-.25a.25.25 0 0 0-.25.25v7.5c0 .138.112.25.25.25h7.5a.25.25 0 0 0 .25-.25v-7.5a.25.25 0 0 0-.25-.25Z"></path>
</svg>
      <svg aria-hidden="true" height="16" viewBox="0 0 16 16" version="1.1" width="16" data-view-component="true" class="octicon octicon-check js-clipboard-check-icon color-fg-success d-none">
    <path d="M13.78 4.22a.75.75 0 0 1 0 1.06l-7.25 7.25a.75.75 0 0 1-1.06 0L2.22 9.28a.751.751 0 0 1 .018-1.042.751.751 0 0 1 1.042-.018L6 10.94l6.72-6.72a.75.75 0 0 1 1.06 0Z"></path>
</svg>
    </clipboard-copy>
  </div>
</template>


    <style>
      .user-mention[href$="/carlos-santos1504"] {
        color: var(--color-user-mention-fg);
        background-color: var(--bgColor-attention-muted, var(--color-attention-subtle));
        border-radius: 2px;
        margin-left: -2px;
        margin-right: -2px;
        padding: 0 2px;
      }
    </style>


    </div>

    <div id="js-global-screen-reader-notice" class="sr-only" aria-live="polite" aria-atomic="true" ></div>
    <div id="js-global-screen-reader-notice-assertive" class="sr-only" aria-live="assertive" aria-atomic="true"></div>
  </body>
</html>

